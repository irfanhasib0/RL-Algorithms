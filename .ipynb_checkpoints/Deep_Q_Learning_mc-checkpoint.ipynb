{
 "cells": [
  {
   "cell_type": "markdown",
   "metadata": {},
   "source": [
    "***Importing Libraries***"
   ]
  },
  {
   "cell_type": "code",
   "execution_count": 1,
   "metadata": {},
   "outputs": [
    {
     "name": "stderr",
     "output_type": "stream",
     "text": [
      "C:\\Users\\irfan\\Anaconda3\\envs\\tf\\lib\\site-packages\\tensorflow\\python\\framework\\dtypes.py:523: FutureWarning: Passing (type, 1) or '1type' as a synonym of type is deprecated; in a future version of numpy, it will be understood as (type, (1,)) / '(1,)type'.\n",
      "  _np_qint8 = np.dtype([(\"qint8\", np.int8, 1)])\n",
      "C:\\Users\\irfan\\Anaconda3\\envs\\tf\\lib\\site-packages\\tensorflow\\python\\framework\\dtypes.py:524: FutureWarning: Passing (type, 1) or '1type' as a synonym of type is deprecated; in a future version of numpy, it will be understood as (type, (1,)) / '(1,)type'.\n",
      "  _np_quint8 = np.dtype([(\"quint8\", np.uint8, 1)])\n",
      "C:\\Users\\irfan\\Anaconda3\\envs\\tf\\lib\\site-packages\\tensorflow\\python\\framework\\dtypes.py:525: FutureWarning: Passing (type, 1) or '1type' as a synonym of type is deprecated; in a future version of numpy, it will be understood as (type, (1,)) / '(1,)type'.\n",
      "  _np_qint16 = np.dtype([(\"qint16\", np.int16, 1)])\n",
      "C:\\Users\\irfan\\Anaconda3\\envs\\tf\\lib\\site-packages\\tensorflow\\python\\framework\\dtypes.py:526: FutureWarning: Passing (type, 1) or '1type' as a synonym of type is deprecated; in a future version of numpy, it will be understood as (type, (1,)) / '(1,)type'.\n",
      "  _np_quint16 = np.dtype([(\"quint16\", np.uint16, 1)])\n",
      "C:\\Users\\irfan\\Anaconda3\\envs\\tf\\lib\\site-packages\\tensorflow\\python\\framework\\dtypes.py:527: FutureWarning: Passing (type, 1) or '1type' as a synonym of type is deprecated; in a future version of numpy, it will be understood as (type, (1,)) / '(1,)type'.\n",
      "  _np_qint32 = np.dtype([(\"qint32\", np.int32, 1)])\n",
      "C:\\Users\\irfan\\Anaconda3\\envs\\tf\\lib\\site-packages\\tensorflow\\python\\framework\\dtypes.py:532: FutureWarning: Passing (type, 1) or '1type' as a synonym of type is deprecated; in a future version of numpy, it will be understood as (type, (1,)) / '(1,)type'.\n",
      "  np_resource = np.dtype([(\"resource\", np.ubyte, 1)])\n"
     ]
    }
   ],
   "source": [
    "import gym\n",
    "import numpy as np\n",
    "from collections import deque\n",
    "import random\n",
    "import tensorflow\n",
    "import matplotlib.pyplot as plt\n",
    "from sklearn.preprocessing import OneHotEncoder\n",
    "seed=0\n",
    "np.random.seed(seed)\n",
    "tensorflow.set_random_seed(seed)"
   ]
  },
  {
   "cell_type": "code",
   "execution_count": 2,
   "metadata": {},
   "outputs": [],
   "source": [
    "Sequential=tensorflow.keras.models.Sequential\n",
    "Dense=tensorflow.keras.layers.Dense \n",
    "Adam=tensorflow.keras.optimizers.Adam"
   ]
  },
  {
   "cell_type": "raw",
   "metadata": {},
   "source": [
    "import renom as rm\n",
    "from renom_rl.discrete.double_dqn import DoubleDQN\n",
    "from renom_rl.environ.env import BaseEnv\n",
    "from renom_rl.utility.filter import EpsilonEIFilter\n",
    "from renom_rl.utility import Animation\n",
    "from renom.optimizer import Adam as AdamR\n",
    "from renom.cuda import set_cuda_active\n",
    "set_cuda_active(False)\n",
    "q_network = rm.Sequential([rm.Dense(100),\n",
    "                                                   rm.Relu(),\n",
    "                                                   rm.Dense(100),\n",
    "                                                   rm.Relu(),\n",
    "                                                   rm.Dense(act_shape)\n",
    "                                                ])"
   ]
  },
  {
   "cell_type": "markdown",
   "metadata": {},
   "source": [
    "***Initialization of Environment***"
   ]
  },
  {
   "cell_type": "code",
   "execution_count": 3,
   "metadata": {},
   "outputs": [],
   "source": [
    "env_to_use='MountainCar-v0'\n",
    "class MountainCar():\n",
    "    \n",
    "    def __init__(self):\n",
    "        self.env = gym.make(env_to_use) \n",
    "        self.env.seed(seed)\n",
    "        self.action_shape = (self.env.action_space.n,)\n",
    "        self.state_shape = self.env.observation_space.shape\n",
    "        #print(\"Env Space : \", self.state_shape)\n",
    "        #print(\"Action Space : \", self.action_shape)\n",
    "        self.test_mode = False\n",
    "    \n",
    "    def reset(self):\n",
    "        return self.env.reset()\n",
    "    \n",
    "    def sample(self):\n",
    "        return self.env.action_space.sample()\n",
    "    \n",
    "    def step(self, action):\n",
    "        state, reward, terminal, _ = self.env.step(int(action))\n",
    "        #reward = 0\n",
    "        \n",
    "        #if terminal:\n",
    "            #if state[0] > 0.5:\n",
    "                #reward = 1\n",
    "            #else:\n",
    "                #reward = state[0] + 0.5\n",
    "         \n",
    "        return state, reward, terminal\n",
    "    \n",
    "    \n",
    "                \n",
    "MC = MountainCar()\n",
    "st_shape=MC.state_shape[0]\n",
    "act_shape=MC.action_shape[0]\n",
    "\n",
    "\n"
   ]
  },
  {
   "cell_type": "code",
   "execution_count": 4,
   "metadata": {},
   "outputs": [],
   "source": [
    "action_list = [0,1,2]\n",
    "gamma =0.45\n",
    "lr =0.001\n",
    "num_episodes = 1000#1000\n",
    "epsilon =1\n",
    "epsilon_decay =0.995\n",
    "memory_size =1000\n",
    "batch_size=100\n",
    "show=False\n"
   ]
  },
  {
   "cell_type": "code",
   "execution_count": 5,
   "metadata": {},
   "outputs": [],
   "source": [
    "factor=[1,100]"
   ]
  },
  {
   "cell_type": "code",
   "execution_count": 6,
   "metadata": {},
   "outputs": [],
   "source": [
    "memory=deque(maxlen=memory_size)\n",
    "s=MC.reset()\n",
    "s = s.reshape((1,-1))\n",
    "s = s*factor\n",
    "for _ in range(memory_size):\n",
    "    a = np.random.randint(0,act_shape)\n",
    "    new_s,r,d =MC.step(a)\n",
    "    new_s = new_s.reshape((1,-1))\n",
    "    new_s = new_s*factor\n",
    "    if show:\n",
    "        MC.render()\n",
    "    if d:\n",
    "        r=-100\n",
    "        experience =(s,r,a,new_s,d)\n",
    "        s=MC.reset()\n",
    "        s = s.reshape((1,-1))\n",
    "    else:    \n",
    "        experience =(s,r,a,new_s,d)\n",
    "    memory.append(experience)\n",
    "    s = new_s\n",
    "  "
   ]
  },
  {
   "cell_type": "markdown",
   "metadata": {},
   "source": [
    "***Model Definition***"
   ]
  },
  {
   "cell_type": "markdown",
   "metadata": {},
   "source": [
    "Here , I have defined the model as a simple MLP neural network with 2 hidden layers of 100 nodes with ```relu``` activation function"
   ]
  },
  {
   "cell_type": "code",
   "execution_count": 7,
   "metadata": {},
   "outputs": [
    {
     "name": "stdout",
     "output_type": "stream",
     "text": [
      "_________________________________________________________________\n",
      "Layer (type)                 Output Shape              Param #   \n",
      "=================================================================\n",
      "dense (Dense)                (None, 100)               300       \n",
      "_________________________________________________________________\n",
      "dense_1 (Dense)              (None, 100)               10100     \n",
      "_________________________________________________________________\n",
      "dense_2 (Dense)              (None, 3)                 303       \n",
      "=================================================================\n",
      "Total params: 10,703\n",
      "Trainable params: 10,703\n",
      "Non-trainable params: 0\n",
      "_________________________________________________________________\n"
     ]
    }
   ],
   "source": [
    "model = Sequential()\n",
    "model.add(Dense(100,activation='relu',input_shape=(st_shape,)))\n",
    "model.add(Dense(100,activation='relu'))\n",
    "#model.add(Dense(act_shape,activation='softmax'))\n",
    "model.add(Dense(act_shape,activation='linear'))\n",
    "#model.compile(loss='categorical_crossentropy',optimizer=Adam(lr=lr),)\n",
    "model.compile(loss='mse',optimizer=Adam(lr=lr),)\n",
    "model.summary()"
   ]
  },
  {
   "cell_type": "code",
   "execution_count": null,
   "metadata": {},
   "outputs": [
    {
     "name": "stdout",
     "output_type": "stream",
     "text": [
      "Episode 0, Failed! Reward -200\n",
      "Episode 1, Failed! Reward -200\n",
      "Episode 2, Failed! Reward -200\n",
      "Episode 3, Failed! Reward -200\n",
      "Episode 4, Failed! Reward -200\n",
      "Episode 5, Failed! Reward -200\n",
      "Episode 6, Failed! Reward -200\n",
      "Episode 7, Failed! Reward -200\n",
      "Episode 8, Failed! Reward -200\n",
      "Episode 9, Failed! Reward -200\n",
      "Episode 10, Failed! Reward -200\n",
      "Episode 11, Failed! Reward -200\n",
      "Episode 12, Failed! Reward -200\n",
      "Episode 13, Failed! Reward -200\n",
      "Episode 14, Failed! Reward -200\n",
      "Episode 15, Failed! Reward -200\n",
      "Episode 16, Failed! Reward -200\n",
      "Episode 17, Failed! Reward -200\n",
      "Episode 18, Failed! Reward -200\n",
      "Episode 19, Failed! Reward -200\n",
      "Episode 20, Failed! Reward -200\n",
      "Episode 21, Failed! Reward -200\n",
      "Episode 22, Failed! Reward -200\n",
      "Episode 23, Failed! Reward -200\n",
      "Episode 24, Failed! Reward -200\n",
      "Episode 25, Failed! Reward -200\n",
      "Episode 26, Failed! Reward -200\n",
      "Episode 27, Failed! Reward -200\n",
      "Episode 28, Failed! Reward -200\n",
      "Episode 29, Failed! Reward -200\n",
      "Episode 30, Failed! Reward -200\n",
      "Episode 31, Failed! Reward -200\n",
      "Episode 32, Failed! Reward -200\n",
      "Episode 33, Failed! Reward -200\n",
      "Episode 34, Failed! Reward -200\n",
      "Episode 35, Failed! Reward -200\n",
      "Episode 36, Failed! Reward -200\n",
      "Episode 37, Failed! Reward -200\n",
      "Episode 38, Failed! Reward -200\n",
      "Episode 39, Failed! Reward -200\n",
      "Episode 40, Failed! Reward -200\n",
      "Episode 41, Failed! Reward -200\n",
      "Episode 42, Failed! Reward -200\n",
      "Episode 43, Failed! Reward -200\n",
      "Episode 44, Failed! Reward -200\n",
      "Episode 45, Failed! Reward -200\n",
      "Episode 46, Failed! Reward -200\n",
      "Episode 47, Failed! Reward -200\n",
      "Episode 48, Failed! Reward -200\n",
      "Episode 49, Failed! Reward -200\n",
      "Episode 50, Failed! Reward -200\n",
      "Episode 51, Failed! Reward -200\n",
      "Episode 52, Failed! Reward -200\n",
      "Episode 53, Failed! Reward -200\n",
      "Episode 54, Failed! Reward -200\n",
      "Episode 55, Failed! Reward -200\n",
      "Episode 56, Failed! Reward -200\n",
      "Episode 57, Failed! Reward -200\n",
      "Episode 58, Failed! Reward -200\n",
      "Episode 59, Failed! Reward -200\n",
      "Episode 60, Failed! Reward -200\n",
      "Episode 61, Failed! Reward -200\n",
      "Episode 62, Failed! Reward -200\n",
      "Episode 63, Failed! Reward -200\n",
      "Episode 64, Failed! Reward -200\n",
      "Episode 65, Failed! Reward -200\n",
      "Episode 66, Failed! Reward -200\n",
      "Episode 67, Failed! Reward -200\n",
      "Episode 68, Failed! Reward -200\n",
      "Episode 69, Failed! Reward -200\n",
      "Episode 70, Failed! Reward -200\n",
      "Episode 71, Failed! Reward -200\n",
      "Episode 72, Failed! Reward -200\n",
      "Episode 73, Failed! Reward -200\n",
      "Episode 74, Failed! Reward -200\n"
     ]
    }
   ],
   "source": [
    "ep_list =[]\n",
    "reward_list =[] \n",
    "index=0 \n",
    "oh = OneHotEncoder(categories=[range(3)])\n",
    "for ep in range(num_episodes):\n",
    "    s= MC.reset()\n",
    "    s=s.reshape((1,-1))\n",
    "    s = s*factor\n",
    "    total_rewards =0\n",
    "    d = False\n",
    "    j = 0\n",
    "    for j in range(200):\n",
    "        if np.random.random()< epsilon:\n",
    "            a = np.random.randint(0,len(action_list))\n",
    "        else:\n",
    "            Q = model.predict(s.reshape(1,-1))\n",
    "            a =np.argmax(Q)\n",
    "        new_s,r,d = MC.step(a)\n",
    "        new_s = new_s.reshape((1,-1))\n",
    "        new_s = new_s*factor\n",
    "        total_rewards=total_rewards+r\n",
    "        if show:\n",
    "            MC.render()\n",
    "        if d:\n",
    "            if total_rewards<-199:\n",
    "                r =-100\n",
    "                experience = (s,r,a,new_s,d)\n",
    "                memory.append(experience)\n",
    "                print(\"Episode %d, Failed! Reward %d\"%(ep,total_rewards))\n",
    "            elif total_rewards<-110 and total_rewards>-199:\n",
    "                r=10\n",
    "                d=True\n",
    "                experience = (s,r,a,new_s,d)\n",
    "                memory.append(experience)\n",
    "                print(\"Episode %d, Better! Reward %d\"%(ep,total_rewards))\n",
    "            elif total_rewards>=-110:\n",
    "                r=100\n",
    "                experience = (s,r,a,new_s,d)\n",
    "                memory.append(experience)\n",
    "\n",
    "                print(\"Episode %d, Passed! Reward %d\"%(ep,total_rewards))\n",
    "            ep_list.append(ep)\n",
    "            reward_list.append(total_rewards)\n",
    "            break\n",
    "        \n",
    "        experience = (s,r,a,new_s,d)\n",
    "        memory.append(experience)\n",
    "        if j==199:\n",
    "            print(\"Reward %d after full episode\"%(total_rewards))\n",
    "            \n",
    "        s = new_s\n",
    "    batches=random.sample(memory,batch_size)\n",
    "    states= np.array([batch[0] for batch in batches],ndmin=3).reshape(len(batches),-1)\n",
    "    rewards= np.array([batch[1] for batch in batches])\n",
    "    actions= np.array([batch[2] for batch in batches])\n",
    "    actions=oh.fit_transform(actions.reshape(-1,1)).toarray()\n",
    "    actions = actions.reshape(-1,act_shape)\n",
    "    new_states= np.array([batch[3] for batch in batches],ndmin=3).reshape(len(batches),-1)\n",
    "    dones= np.array([batch[4] for batch in batches])\n",
    "    Qs =model.predict(states)\n",
    "    new_Qs = model.predict(new_states)\n",
    "    target_Qs=rewards+gamma*(np.max(new_Qs,axis=1)*(~dones))\n",
    "    Qs[actions==1]=target_Qs#.reshape(-1,)\n",
    "    model.fit(states,Qs,verbose=0 )\n",
    "    epsilon=epsilon*epsilon_decay\n"
   ]
  },
  {
   "cell_type": "code",
   "execution_count": null,
   "metadata": {
    "scrolled": true
   },
   "outputs": [],
   "source": [
    "plt.figure(figsize=(10,10))\n",
    "plt.plot(reward_list)\n",
    "plt.title(\"Rewards vs Episode\")\n",
    "plt.xlabel(\"Episodes\")\n",
    "plt.ylabel(\"Rewards\")\n",
    "plt.savefig('DQN_MC.png')"
   ]
  },
  {
   "cell_type": "code",
   "execution_count": 12,
   "metadata": {},
   "outputs": [
    {
     "data": {
      "text/plain": [
       "922"
      ]
     },
     "execution_count": 12,
     "metadata": {},
     "output_type": "execute_result"
    }
   ],
   "source": [
    "np.argmax(reward_list)"
   ]
  },
  {
   "cell_type": "code",
   "execution_count": 17,
   "metadata": {},
   "outputs": [
    {
     "name": "stdout",
     "output_type": "stream",
     "text": [
      "(2,)\n"
     ]
    }
   ],
   "source": [
    "import time\n",
    "import cv2\n",
    "env=gym.make(env_to_use)\n",
    "env.seed(0)\n",
    "obs=env.reset()\n",
    "\n",
    "#os.mkdir(env_to_use+'Test')\n",
    "#os.mkdir(env_to_use+'Test/img/')\n",
    "print(obs.shape)\n",
    "i=0\n",
    "while(1):\n",
    "    _action= model.predict(obs.reshape(1,-1)).reshape(-1)\n",
    "    obs,rew,done,info=env.step(np.argmax(_action))\n",
    "    img=env.render(mode='rgb_array')\n",
    "    #time.sleep(0.1)\n",
    "    cv2.imwrite(env_to_use+'Test/img/'+str(i)+'.jpg',img)\n",
    "    i+=1\n",
    "    if done==True:\n",
    "        break\n",
    "env.close()"
   ]
  },
  {
   "cell_type": "code",
   "execution_count": 13,
   "metadata": {},
   "outputs": [
    {
     "name": "stdout",
     "output_type": "stream",
     "text": [
      "Maximum Reward -88.0\n"
     ]
    }
   ],
   "source": [
    "print('Maximum Reward',np.max(reward_list))"
   ]
  },
  {
   "cell_type": "code",
   "execution_count": 41,
   "metadata": {},
   "outputs": [
    {
     "data": {
      "text/plain": [
       "(True, 200)"
      ]
     },
     "execution_count": 41,
     "metadata": {},
     "output_type": "execute_result"
    }
   ],
   "source": [
    "done,i"
   ]
  },
  {
   "cell_type": "code",
   "execution_count": null,
   "metadata": {},
   "outputs": [],
   "source": []
  }
 ],
 "metadata": {
  "kernelspec": {
   "display_name": "Python 3",
   "language": "python",
   "name": "python3"
  },
  "language_info": {
   "codemirror_mode": {
    "name": "ipython",
    "version": 3
   },
   "file_extension": ".py",
   "mimetype": "text/x-python",
   "name": "python",
   "nbconvert_exporter": "python",
   "pygments_lexer": "ipython3",
   "version": "3.6.9"
  }
 },
 "nbformat": 4,
 "nbformat_minor": 4
}
