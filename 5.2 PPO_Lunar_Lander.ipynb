{
 "cells": [
  {
   "cell_type": "code",
   "execution_count": 1,
   "metadata": {},
   "outputs": [
    {
     "data": {
      "text/plain": [
       "[]"
      ]
     },
     "execution_count": 1,
     "metadata": {},
     "output_type": "execute_result"
    }
   ],
   "source": [
    "seed=1\n",
    "import os\n",
    "os.environ[\"CUDA_VISIBLE_DEVICES\"] = \"-1\"\n",
    "os.environ['PYTHONHASHSEED']=str(seed)\n",
    "import numpy as np\n",
    "np.random.seed(seed)\n",
    "import tensorflow as tf\n",
    "tf.random.set_seed(seed)\n",
    "from tensorflow.keras.models import Model\n",
    "from tensorflow.keras.layers import Flatten, Dense ,Input,concatenate ,Conv2D,Conv2DTranspose,\\\n",
    "MaxPooling2D,AveragePooling2D, LSTM ,Reshape, TimeDistributed,ReLU, LeakyReLU, Dropout, BatchNormalization\n",
    "from tensorflow.keras.optimizers import Adam,Adagrad\n",
    "from tensorflow.keras import regularizers\n",
    "from tensorflow.keras.callbacks import ModelCheckpoint\n",
    "from tensorflow.keras import backend as K\n",
    "import warnings\n",
    "import glob\n",
    "import math\n",
    "import cv2\n",
    "from matplotlib import pyplot as plt\n",
    "import pandas as pd\n",
    "import pickle\n",
    "from collections import deque\n",
    "from tqdm import tqdm,trange\n",
    "import gym\n",
    "from copy import copy , deepcopy\n",
    "#tf.test.is_gpu_available()\n",
    "tf.config.list_physical_devices('GPU')"
   ]
  },
  {
   "cell_type": "code",
   "execution_count": 2,
   "metadata": {},
   "outputs": [
    {
     "name": "stderr",
     "output_type": "stream",
     "text": [
      "100%|█████████████████████████████████████████████████████████████████████████████| 2010/2010 [00:04<00:00, 461.18it/s]\n",
      "  2%|█▉                                                                             | 49/2010 [00:00<00:04, 486.44it/s]"
     ]
    },
    {
     "name": "stdout",
     "output_type": "stream",
     "text": [
      "episode : 0 reward : -282.1719179568147\n",
      "total test reward=-215.92426076405263\n"
     ]
    },
    {
     "name": "stderr",
     "output_type": "stream",
     "text": [
      "100%|█████████████████████████████████████████████████████████████████████████████| 2010/2010 [00:04<00:00, 469.13it/s]\n",
      "  5%|███▉                                                                          | 103/2010 [00:00<00:03, 511.67it/s]"
     ]
    },
    {
     "name": "stdout",
     "output_type": "stream",
     "text": [
      "episode : 1 reward : -193.05156704871177\n",
      "total test reward=-205.4292303736028\n"
     ]
    },
    {
     "name": "stderr",
     "output_type": "stream",
     "text": [
      "100%|█████████████████████████████████████████████████████████████████████████████| 2010/2010 [00:04<00:00, 475.66it/s]\n",
      "  3%|██                                                                             | 52/2010 [00:00<00:03, 511.17it/s]"
     ]
    },
    {
     "name": "stdout",
     "output_type": "stream",
     "text": [
      "episode : 2 reward : -267.14668350163583\n",
      "total test reward=-175.04243204293053\n"
     ]
    },
    {
     "name": "stderr",
     "output_type": "stream",
     "text": [
      "100%|█████████████████████████████████████████████████████████████████████████████| 2010/2010 [00:04<00:00, 474.88it/s]\n",
      "  3%|██                                                                             | 52/2010 [00:00<00:03, 511.17it/s]"
     ]
    },
    {
     "name": "stdout",
     "output_type": "stream",
     "text": [
      "episode : 3 reward : -277.2265098095722\n",
      "total test reward=-262.4282184855598\n"
     ]
    },
    {
     "name": "stderr",
     "output_type": "stream",
     "text": [
      "100%|█████████████████████████████████████████████████████████████████████████████| 2010/2010 [00:04<00:00, 470.02it/s]\n",
      "  2%|█▉                                                                             | 48/2010 [00:00<00:04, 476.52it/s]"
     ]
    },
    {
     "name": "stdout",
     "output_type": "stream",
     "text": [
      "episode : 4 reward : -85.41782409185713\n",
      "total test reward=-204.1491375667209\n"
     ]
    },
    {
     "name": "stderr",
     "output_type": "stream",
     "text": [
      "100%|█████████████████████████████████████████████████████████████████████████████| 2010/2010 [00:04<00:00, 462.56it/s]\n",
      "  2%|█▉                                                                             | 49/2010 [00:00<00:04, 486.45it/s]"
     ]
    },
    {
     "name": "stdout",
     "output_type": "stream",
     "text": [
      "episode : 5 reward : 35.49436291944939\n",
      "total test reward=-134.01990006924547\n"
     ]
    },
    {
     "name": "stderr",
     "output_type": "stream",
     "text": [
      "100%|█████████████████████████████████████████████████████████████████████████████| 2010/2010 [00:04<00:00, 466.84it/s]\n",
      "  3%|██                                                                             | 52/2010 [00:00<00:03, 516.23it/s]"
     ]
    },
    {
     "name": "stdout",
     "output_type": "stream",
     "text": [
      "episode : 6 reward : -90.94466274714382\n",
      "total test reward=-197.4802155992635\n"
     ]
    },
    {
     "name": "stderr",
     "output_type": "stream",
     "text": [
      "100%|█████████████████████████████████████████████████████████████████████████████| 2010/2010 [00:04<00:00, 443.13it/s]\n",
      "  3%|██                                                                             | 52/2010 [00:00<00:03, 511.33it/s]"
     ]
    },
    {
     "name": "stdout",
     "output_type": "stream",
     "text": [
      "episode : 7 reward : -74.52172190042504\n",
      "total test reward=-203.34772624227838\n"
     ]
    },
    {
     "name": "stderr",
     "output_type": "stream",
     "text": [
      "100%|█████████████████████████████████████████████████████████████████████████████| 2010/2010 [00:04<00:00, 470.89it/s]\n",
      "  5%|███▋                                                                           | 93/2010 [00:00<00:04, 462.17it/s]"
     ]
    },
    {
     "name": "stdout",
     "output_type": "stream",
     "text": [
      "episode : 8 reward : -42.015801975626005\n",
      "total test reward=-226.48587996151355\n"
     ]
    },
    {
     "name": "stderr",
     "output_type": "stream",
     "text": [
      "100%|█████████████████████████████████████████████████████████████████████████████| 2010/2010 [00:04<00:00, 454.32it/s]\n",
      "  2%|█▊                                                                             | 45/2010 [00:00<00:04, 446.59it/s]"
     ]
    },
    {
     "name": "stdout",
     "output_type": "stream",
     "text": [
      "episode : 9 reward : -115.55254151483805\n",
      "total test reward=-175.28202233630196\n"
     ]
    },
    {
     "name": "stderr",
     "output_type": "stream",
     "text": [
      "100%|█████████████████████████████████████████████████████████████████████████████| 2010/2010 [00:04<00:00, 462.99it/s]\n",
      "  5%|███▉                                                                           | 99/2010 [00:00<00:04, 477.01it/s]"
     ]
    },
    {
     "name": "stdout",
     "output_type": "stream",
     "text": [
      "episode : 10 reward : 45.3523065599868\n",
      "total test reward=-191.61815593693387\n"
     ]
    },
    {
     "name": "stderr",
     "output_type": "stream",
     "text": [
      "100%|█████████████████████████████████████████████████████████████████████████████| 2010/2010 [00:04<00:00, 477.24it/s]\n",
      "  2%|█▉                                                                             | 49/2010 [00:00<00:04, 481.67it/s]"
     ]
    },
    {
     "name": "stdout",
     "output_type": "stream",
     "text": [
      "episode : 11 reward : 13.564237556392836\n",
      "total test reward=-143.00513135951104\n"
     ]
    },
    {
     "name": "stderr",
     "output_type": "stream",
     "text": [
      "100%|█████████████████████████████████████████████████████████████████████████████| 2010/2010 [00:04<00:00, 464.16it/s]\n",
      "  2%|█▉                                                                             | 48/2010 [00:00<00:04, 471.85it/s]"
     ]
    },
    {
     "name": "stdout",
     "output_type": "stream",
     "text": [
      "episode : 12 reward : 24.95826557152255\n",
      "total test reward=-95.23975834469056\n"
     ]
    },
    {
     "name": "stderr",
     "output_type": "stream",
     "text": [
      "100%|█████████████████████████████████████████████████████████████████████████████| 2010/2010 [00:04<00:00, 451.71it/s]\n",
      "  2%|█▊                                                                             | 47/2010 [00:00<00:04, 462.02it/s]"
     ]
    },
    {
     "name": "stdout",
     "output_type": "stream",
     "text": [
      "episode : 13 reward : -35.36403459839055\n",
      "total test reward=-168.92256398876953\n"
     ]
    },
    {
     "name": "stderr",
     "output_type": "stream",
     "text": [
      "100%|█████████████████████████████████████████████████████████████████████████████| 2010/2010 [00:04<00:00, 461.08it/s]\n",
      "  3%|██                                                                             | 54/2010 [00:00<00:03, 493.30it/s]"
     ]
    },
    {
     "name": "stdout",
     "output_type": "stream",
     "text": [
      "episode : 14 reward : 42.72584097325663\n",
      "total test reward=-168.3736498844427\n"
     ]
    },
    {
     "name": "stderr",
     "output_type": "stream",
     "text": [
      "100%|█████████████████████████████████████████████████████████████████████████████| 2010/2010 [00:04<00:00, 479.49it/s]\n",
      "  5%|███▉                                                                           | 99/2010 [00:00<00:03, 482.67it/s]"
     ]
    },
    {
     "name": "stdout",
     "output_type": "stream",
     "text": [
      "episode : 15 reward : 93.21376492333664\n",
      "total test reward=-189.7483490842061\n"
     ]
    },
    {
     "name": "stderr",
     "output_type": "stream",
     "text": [
      "100%|█████████████████████████████████████████████████████████████████████████████| 2010/2010 [00:04<00:00, 471.46it/s]\n",
      "  2%|█▉                                                                             | 49/2010 [00:00<00:04, 481.82it/s]"
     ]
    },
    {
     "name": "stdout",
     "output_type": "stream",
     "text": [
      "episode : 16 reward : 61.746653419343765\n",
      "total test reward=-130.37265374063318\n"
     ]
    },
    {
     "name": "stderr",
     "output_type": "stream",
     "text": [
      "100%|█████████████████████████████████████████████████████████████████████████████| 2010/2010 [00:04<00:00, 465.56it/s]\n",
      "  2%|█▋                                                                             | 43/2010 [00:00<00:04, 426.87it/s]"
     ]
    },
    {
     "name": "stdout",
     "output_type": "stream",
     "text": [
      "episode : 17 reward : 46.830841404490975\n",
      "total test reward=-124.00355244769867\n"
     ]
    },
    {
     "name": "stderr",
     "output_type": "stream",
     "text": [
      "100%|█████████████████████████████████████████████████████████████████████████████| 2010/2010 [00:04<00:00, 465.77it/s]\n",
      "  3%|██                                                                             | 51/2010 [00:00<00:03, 506.30it/s]"
     ]
    },
    {
     "name": "stdout",
     "output_type": "stream",
     "text": [
      "episode : 18 reward : 23.077621618449935\n",
      "total test reward=-95.95990115364398\n"
     ]
    },
    {
     "name": "stderr",
     "output_type": "stream",
     "text": [
      "100%|█████████████████████████████████████████████████████████████████████████████| 2010/2010 [00:05<00:00, 396.42it/s]\n",
      "  2%|█▉                                                                             | 48/2010 [00:00<00:04, 471.70it/s]"
     ]
    },
    {
     "name": "stdout",
     "output_type": "stream",
     "text": [
      "episode : 19 reward : 96.79914673709276\n",
      "total test reward=-85.33323848311781\n"
     ]
    },
    {
     "name": "stderr",
     "output_type": "stream",
     "text": [
      "100%|█████████████████████████████████████████████████████████████████████████████| 2010/2010 [00:04<00:00, 409.14it/s]\n",
      "  3%|██▏                                                                            | 56/2010 [00:00<00:03, 550.32it/s]"
     ]
    },
    {
     "name": "stdout",
     "output_type": "stream",
     "text": [
      "episode : 20 reward : 96.96647222194127\n",
      "total test reward=-134.85578860903126\n"
     ]
    },
    {
     "name": "stderr",
     "output_type": "stream",
     "text": [
      "100%|█████████████████████████████████████████████████████████████████████████████| 2010/2010 [00:04<00:00, 435.85it/s]\n",
      "  3%|██                                                                             | 53/2010 [00:00<00:03, 526.00it/s]"
     ]
    },
    {
     "name": "stdout",
     "output_type": "stream",
     "text": [
      "episode : 21 reward : 41.65812465724606\n",
      "total test reward=-112.62032675138349\n"
     ]
    },
    {
     "name": "stderr",
     "output_type": "stream",
     "text": [
      "100%|█████████████████████████████████████████████████████████████████████████████| 2010/2010 [00:04<00:00, 413.07it/s]\n",
      "  2%|█▌                                                                             | 40/2010 [00:00<00:05, 389.38it/s]"
     ]
    },
    {
     "name": "stdout",
     "output_type": "stream",
     "text": [
      "episode : 22 reward : 26.279665693009\n",
      "total test reward=-150.34406126089533\n"
     ]
    },
    {
     "name": "stderr",
     "output_type": "stream",
     "text": [
      "100%|█████████████████████████████████████████████████████████████████████████████| 2010/2010 [00:04<00:00, 403.64it/s]\n",
      "  2%|█▊                                                                             | 47/2010 [00:00<00:04, 466.73it/s]"
     ]
    },
    {
     "name": "stdout",
     "output_type": "stream",
     "text": [
      "episode : 23 reward : 22.256562628616607\n",
      "total test reward=-104.9984361942928\n"
     ]
    },
    {
     "name": "stderr",
     "output_type": "stream",
     "text": [
      "100%|█████████████████████████████████████████████████████████████████████████████| 2010/2010 [00:07<00:00, 283.66it/s]\n",
      "  3%|██                                                                             | 51/2010 [00:00<00:03, 506.14it/s]"
     ]
    },
    {
     "name": "stdout",
     "output_type": "stream",
     "text": [
      "episode : 24 reward : 97.41614648712452\n",
      "total test reward=-121.92020511730342\n"
     ]
    },
    {
     "name": "stderr",
     "output_type": "stream",
     "text": [
      "100%|█████████████████████████████████████████████████████████████████████████████| 2010/2010 [00:06<00:00, 316.68it/s]\n",
      "  2%|█▉                                                                             | 49/2010 [00:00<00:04, 481.67it/s]"
     ]
    },
    {
     "name": "stdout",
     "output_type": "stream",
     "text": [
      "episode : 25 reward : 4.700416127839619\n",
      "total test reward=-120.5627135306307\n"
     ]
    },
    {
     "name": "stderr",
     "output_type": "stream",
     "text": [
      "100%|█████████████████████████████████████████████████████████████████████████████| 2010/2010 [00:06<00:00, 333.84it/s]\n",
      "  3%|██▎                                                                            | 59/2010 [00:00<00:03, 515.45it/s]"
     ]
    },
    {
     "name": "stdout",
     "output_type": "stream",
     "text": [
      "episode : 26 reward : 18.20004261280392\n",
      "total test reward=-97.7894387386036\n"
     ]
    },
    {
     "name": "stderr",
     "output_type": "stream",
     "text": [
      "100%|█████████████████████████████████████████████████████████████████████████████| 2010/2010 [00:07<00:00, 281.01it/s]\n",
      "  2%|█▉                                                                             | 48/2010 [00:00<00:04, 471.85it/s]"
     ]
    },
    {
     "name": "stdout",
     "output_type": "stream",
     "text": [
      "episode : 27 reward : 89.69599767479477\n",
      "total test reward=-158.1817490207411\n"
     ]
    },
    {
     "name": "stderr",
     "output_type": "stream",
     "text": [
      "100%|█████████████████████████████████████████████████████████████████████████████| 2010/2010 [00:04<00:00, 458.56it/s]\n",
      "  2%|█▊                                                                             | 46/2010 [00:00<00:04, 452.19it/s]"
     ]
    },
    {
     "name": "stdout",
     "output_type": "stream",
     "text": [
      "episode : 28 reward : 89.01469172407513\n",
      "total test reward=-93.65465376130416\n"
     ]
    },
    {
     "name": "stderr",
     "output_type": "stream",
     "text": [
      "100%|█████████████████████████████████████████████████████████████████████████████| 2010/2010 [00:06<00:00, 320.10it/s]\n",
      "  2%|█▉                                                                             | 48/2010 [00:00<00:04, 471.85it/s]"
     ]
    },
    {
     "name": "stdout",
     "output_type": "stream",
     "text": [
      "episode : 29 reward : 55.20939349365569\n",
      "total test reward=-81.5409583821067\n"
     ]
    },
    {
     "name": "stderr",
     "output_type": "stream",
     "text": [
      "100%|█████████████████████████████████████████████████████████████████████████████| 2010/2010 [00:07<00:00, 261.40it/s]\n",
      "  3%|██                                                                             | 52/2010 [00:00<00:03, 516.23it/s]"
     ]
    },
    {
     "name": "stdout",
     "output_type": "stream",
     "text": [
      "episode : 30 reward : 64.82790558607437\n",
      "total test reward=29.20879973985784\n"
     ]
    },
    {
     "name": "stderr",
     "output_type": "stream",
     "text": [
      "100%|█████████████████████████████████████████████████████████████████████████████| 2010/2010 [00:06<00:00, 298.21it/s]\n",
      "  5%|███▊                                                                           | 98/2010 [00:00<00:03, 501.87it/s]"
     ]
    },
    {
     "name": "stdout",
     "output_type": "stream",
     "text": [
      "episode : 31 reward : 42.85282444443357\n",
      "total test reward=-51.39884592851949\n"
     ]
    },
    {
     "name": "stderr",
     "output_type": "stream",
     "text": [
      "100%|█████████████████████████████████████████████████████████████████████████████| 2010/2010 [00:06<00:00, 301.48it/s]\n",
      "  2%|█▉                                                                             | 48/2010 [00:00<00:04, 476.52it/s]"
     ]
    },
    {
     "name": "stdout",
     "output_type": "stream",
     "text": [
      "episode : 32 reward : 135.22698981773868\n",
      "total test reward=-33.770383026184405\n"
     ]
    },
    {
     "name": "stderr",
     "output_type": "stream",
     "text": [
      "100%|█████████████████████████████████████████████████████████████████████████████| 2010/2010 [00:05<00:00, 370.06it/s]\n",
      "  3%|██                                                                             | 52/2010 [00:00<00:03, 511.33it/s]"
     ]
    },
    {
     "name": "stdout",
     "output_type": "stream",
     "text": [
      "episode : 33 reward : 74.24304077177169\n",
      "total test reward=42.22808717218585\n"
     ]
    },
    {
     "name": "stderr",
     "output_type": "stream",
     "text": [
      "100%|█████████████████████████████████████████████████████████████████████████████| 2010/2010 [00:05<00:00, 352.56it/s]\n",
      "  3%|██                                                                             | 51/2010 [00:00<00:03, 506.30it/s]"
     ]
    },
    {
     "name": "stdout",
     "output_type": "stream",
     "text": [
      "episode : 34 reward : 142.88239497243177\n",
      "total test reward=-66.1543173010105\n"
     ]
    },
    {
     "name": "stderr",
     "output_type": "stream",
     "text": [
      "100%|█████████████████████████████████████████████████████████████████████████████| 2010/2010 [00:06<00:00, 298.19it/s]\n",
      "  2%|█▉                                                                             | 48/2010 [00:00<00:04, 471.85it/s]"
     ]
    },
    {
     "name": "stdout",
     "output_type": "stream",
     "text": [
      "episode : 35 reward : 52.33766205135265\n",
      "total test reward=-35.36854557075893\n"
     ]
    },
    {
     "name": "stderr",
     "output_type": "stream",
     "text": [
      "100%|█████████████████████████████████████████████████████████████████████████████| 2010/2010 [00:06<00:00, 314.47it/s]\n",
      "  2%|█▉                                                                             | 49/2010 [00:00<00:04, 486.31it/s]"
     ]
    },
    {
     "name": "stdout",
     "output_type": "stream",
     "text": [
      "episode : 36 reward : 35.76418193659245\n",
      "total test reward=35.85728604389659\n"
     ]
    },
    {
     "name": "stderr",
     "output_type": "stream",
     "text": [
      "100%|█████████████████████████████████████████████████████████████████████████████| 2010/2010 [00:07<00:00, 276.95it/s]\n",
      "  3%|██                                                                             | 52/2010 [00:00<00:03, 511.16it/s]"
     ]
    },
    {
     "name": "stdout",
     "output_type": "stream",
     "text": [
      "episode : 37 reward : 116.73466174983206\n",
      "total test reward=36.770615453507695\n"
     ]
    },
    {
     "name": "stderr",
     "output_type": "stream",
     "text": [
      "100%|█████████████████████████████████████████████████████████████████████████████| 2010/2010 [00:07<00:00, 280.77it/s]\n",
      "  3%|██                                                                             | 51/2010 [00:00<00:03, 501.18it/s]"
     ]
    },
    {
     "name": "stdout",
     "output_type": "stream",
     "text": [
      "episode : 38 reward : 97.69911793167005\n",
      "total test reward=91.08445251144374\n"
     ]
    },
    {
     "name": "stderr",
     "output_type": "stream",
     "text": [
      "100%|█████████████████████████████████████████████████████████████████████████████| 2010/2010 [00:06<00:00, 292.51it/s]\n",
      "  2%|█▋                                                                             | 42/2010 [00:00<00:04, 416.95it/s]"
     ]
    },
    {
     "name": "stdout",
     "output_type": "stream",
     "text": [
      "episode : 39 reward : 95.7464805002334\n",
      "total test reward=37.15420465964348\n"
     ]
    },
    {
     "name": "stderr",
     "output_type": "stream",
     "text": [
      "100%|█████████████████████████████████████████████████████████████████████████████| 2010/2010 [00:08<00:00, 227.40it/s]\n",
      "  3%|██                                                                             | 54/2010 [00:00<00:03, 536.08it/s]"
     ]
    },
    {
     "name": "stdout",
     "output_type": "stream",
     "text": [
      "episode : 40 reward : 67.11172481015555\n",
      "total test reward=58.15148631803554\n"
     ]
    },
    {
     "name": "stderr",
     "output_type": "stream",
     "text": [
      "100%|█████████████████████████████████████████████████████████████████████████████| 2010/2010 [00:07<00:00, 256.31it/s]\n",
      "  3%|██▏                                                                            | 56/2010 [00:00<00:03, 550.48it/s]"
     ]
    },
    {
     "name": "stdout",
     "output_type": "stream",
     "text": [
      "episode : 41 reward : 116.42699626241523\n",
      "total test reward=-14.170504426336446\n"
     ]
    },
    {
     "name": "stderr",
     "output_type": "stream",
     "text": [
      "100%|█████████████████████████████████████████████████████████████████████████████| 2010/2010 [00:07<00:00, 253.68it/s]\n",
      "  2%|█▊                                                                             | 46/2010 [00:00<00:04, 452.18it/s]"
     ]
    },
    {
     "name": "stdout",
     "output_type": "stream",
     "text": [
      "episode : 42 reward : 58.41285424710709\n",
      "total test reward=28.49242112322151\n"
     ]
    },
    {
     "name": "stderr",
     "output_type": "stream",
     "text": [
      "100%|█████████████████████████████████████████████████████████████████████████████| 2010/2010 [00:06<00:00, 306.37it/s]\n",
      "  2%|█▊                                                                             | 47/2010 [00:00<00:04, 466.59it/s]"
     ]
    },
    {
     "name": "stdout",
     "output_type": "stream",
     "text": [
      "episode : 43 reward : 91.37293376662255\n",
      "total test reward=-4.635459262748991\n"
     ]
    },
    {
     "name": "stderr",
     "output_type": "stream",
     "text": [
      "100%|█████████████████████████████████████████████████████████████████████████████| 2010/2010 [00:07<00:00, 269.94it/s]\n",
      "  2%|█▊                                                                             | 46/2010 [00:00<00:04, 447.80it/s]"
     ]
    },
    {
     "name": "stdout",
     "output_type": "stream",
     "text": [
      "episode : 44 reward : 107.3040331954656\n",
      "total test reward=74.3224207352265\n"
     ]
    },
    {
     "name": "stderr",
     "output_type": "stream",
     "text": [
      "100%|█████████████████████████████████████████████████████████████████████████████| 2010/2010 [00:06<00:00, 293.30it/s]\n",
      "  3%|██▏                                                                            | 56/2010 [00:00<00:03, 550.32it/s]"
     ]
    },
    {
     "name": "stdout",
     "output_type": "stream",
     "text": [
      "episode : 45 reward : 84.70807047401196\n",
      "total test reward=7.66147322358469\n"
     ]
    },
    {
     "name": "stderr",
     "output_type": "stream",
     "text": [
      "100%|█████████████████████████████████████████████████████████████████████████████| 2010/2010 [00:07<00:00, 277.62it/s]\n",
      "  2%|█▋                                                                             | 43/2010 [00:00<00:04, 426.88it/s]"
     ]
    },
    {
     "name": "stdout",
     "output_type": "stream",
     "text": [
      "episode : 46 reward : 112.47545173832314\n",
      "total test reward=52.9802305826877\n"
     ]
    },
    {
     "name": "stderr",
     "output_type": "stream",
     "text": [
      "100%|█████████████████████████████████████████████████████████████████████████████| 2010/2010 [00:06<00:00, 289.69it/s]\n",
      "  2%|█▉                                                                             | 50/2010 [00:00<00:03, 491.51it/s]"
     ]
    },
    {
     "name": "stdout",
     "output_type": "stream",
     "text": [
      "episode : 47 reward : 142.8194916266511\n",
      "total test reward=93.96974571385506\n"
     ]
    },
    {
     "name": "stderr",
     "output_type": "stream",
     "text": [
      "100%|█████████████████████████████████████████████████████████████████████████████| 2010/2010 [00:06<00:00, 307.22it/s]\n",
      "  2%|█▉                                                                             | 49/2010 [00:00<00:04, 481.68it/s]"
     ]
    },
    {
     "name": "stdout",
     "output_type": "stream",
     "text": [
      "episode : 48 reward : 45.67209328635891\n",
      "total test reward=27.124394760358513\n"
     ]
    },
    {
     "name": "stderr",
     "output_type": "stream",
     "text": [
      "100%|█████████████████████████████████████████████████████████████████████████████| 2010/2010 [00:08<00:00, 233.88it/s]\n",
      "  2%|█▊                                                                             | 47/2010 [00:00<00:04, 457.53it/s]"
     ]
    },
    {
     "name": "stdout",
     "output_type": "stream",
     "text": [
      "episode : 49 reward : 78.33743275343299\n",
      "total test reward=-3.968441715417633\n"
     ]
    },
    {
     "name": "stderr",
     "output_type": "stream",
     "text": [
      "100%|█████████████████████████████████████████████████████████████████████████████| 2010/2010 [00:08<00:00, 226.74it/s]\n",
      "  2%|█▉                                                                             | 50/2010 [00:00<00:03, 496.37it/s]"
     ]
    },
    {
     "name": "stdout",
     "output_type": "stream",
     "text": [
      "episode : 50 reward : 111.80117691860991\n",
      "total test reward=51.418007207100835\n"
     ]
    },
    {
     "name": "stderr",
     "output_type": "stream",
     "text": [
      "100%|█████████████████████████████████████████████████████████████████████████████| 2010/2010 [00:06<00:00, 296.29it/s]\n",
      "  3%|██                                                                             | 52/2010 [00:00<00:03, 511.17it/s]"
     ]
    },
    {
     "name": "stdout",
     "output_type": "stream",
     "text": [
      "episode : 51 reward : 62.226226636436984\n",
      "total test reward=94.4323846844111\n"
     ]
    },
    {
     "name": "stderr",
     "output_type": "stream",
     "text": [
      "100%|█████████████████████████████████████████████████████████████████████████████| 2010/2010 [00:06<00:00, 311.16it/s]\n",
      "  5%|███▋                                                                           | 95/2010 [00:00<00:03, 484.66it/s]"
     ]
    },
    {
     "name": "stdout",
     "output_type": "stream",
     "text": [
      "episode : 52 reward : 88.75176509584057\n",
      "total test reward=56.3506109038327\n"
     ]
    },
    {
     "name": "stderr",
     "output_type": "stream",
     "text": [
      "100%|█████████████████████████████████████████████████████████████████████████████| 2010/2010 [00:08<00:00, 245.75it/s]\n",
      "  5%|███▌                                                                           | 91/2010 [00:00<00:04, 450.54it/s]"
     ]
    },
    {
     "name": "stdout",
     "output_type": "stream",
     "text": [
      "episode : 53 reward : 111.26847940565268\n",
      "total test reward=4.876360207038218\n"
     ]
    },
    {
     "name": "stderr",
     "output_type": "stream",
     "text": [
      "100%|█████████████████████████████████████████████████████████████████████████████| 2010/2010 [00:07<00:00, 267.79it/s]\n",
      "  2%|█▋                                                                             | 44/2010 [00:00<00:04, 432.53it/s]"
     ]
    },
    {
     "name": "stdout",
     "output_type": "stream",
     "text": [
      "episode : 54 reward : 116.93421084411273\n",
      "total test reward=66.22945455744494\n"
     ]
    },
    {
     "name": "stderr",
     "output_type": "stream",
     "text": [
      "100%|█████████████████████████████████████████████████████████████████████████████| 2010/2010 [00:06<00:00, 302.99it/s]\n",
      "  2%|█▉                                                                             | 50/2010 [00:00<00:03, 496.38it/s]"
     ]
    },
    {
     "name": "stdout",
     "output_type": "stream",
     "text": [
      "episode : 55 reward : 102.12986658776052\n",
      "total test reward=76.60168250811952\n"
     ]
    },
    {
     "name": "stderr",
     "output_type": "stream",
     "text": [
      "100%|█████████████████████████████████████████████████████████████████████████████| 2010/2010 [00:07<00:00, 275.04it/s]\n",
      "  2%|█▌                                                                             | 40/2010 [00:00<00:04, 397.10it/s]"
     ]
    },
    {
     "name": "stdout",
     "output_type": "stream",
     "text": [
      "episode : 56 reward : 101.09495552290788\n",
      "total test reward=113.34493524960628\n"
     ]
    },
    {
     "name": "stderr",
     "output_type": "stream",
     "text": [
      "100%|█████████████████████████████████████████████████████████████████████████████| 2010/2010 [00:06<00:00, 287.83it/s]\n",
      "  3%|██                                                                             | 51/2010 [00:00<00:03, 501.19it/s]"
     ]
    },
    {
     "name": "stdout",
     "output_type": "stream",
     "text": [
      "episode : 57 reward : 67.49782653862567\n",
      "total test reward=2.0121317741685516\n"
     ]
    },
    {
     "name": "stderr",
     "output_type": "stream",
     "text": [
      "100%|█████████████████████████████████████████████████████████████████████████████| 2010/2010 [00:07<00:00, 264.07it/s]\n",
      "  2%|█▉                                                                             | 49/2010 [00:00<00:04, 481.68it/s]"
     ]
    },
    {
     "name": "stdout",
     "output_type": "stream",
     "text": [
      "episode : 58 reward : 97.97240172841464\n",
      "total test reward=77.36534522374988\n"
     ]
    },
    {
     "name": "stderr",
     "output_type": "stream",
     "text": [
      "100%|█████████████████████████████████████████████████████████████████████████████| 2010/2010 [00:05<00:00, 346.22it/s]\n",
      "  2%|█▊                                                                             | 47/2010 [00:00<00:04, 466.74it/s]"
     ]
    },
    {
     "name": "stdout",
     "output_type": "stream",
     "text": [
      "episode : 59 reward : 99.47739735679164\n",
      "total test reward=-72.90438256675245\n"
     ]
    },
    {
     "name": "stderr",
     "output_type": "stream",
     "text": [
      "100%|█████████████████████████████████████████████████████████████████████████████| 2010/2010 [00:07<00:00, 272.09it/s]\n",
      "  2%|█▊                                                                             | 45/2010 [00:00<00:04, 438.06it/s]"
     ]
    },
    {
     "name": "stdout",
     "output_type": "stream",
     "text": [
      "episode : 60 reward : 111.65051033562449\n",
      "total test reward=126.63684169810472\n"
     ]
    },
    {
     "name": "stderr",
     "output_type": "stream",
     "text": [
      "100%|█████████████████████████████████████████████████████████████████████████████| 2010/2010 [00:06<00:00, 293.66it/s]\n",
      "  2%|█▊                                                                             | 47/2010 [00:00<00:04, 462.02it/s]"
     ]
    },
    {
     "name": "stdout",
     "output_type": "stream",
     "text": [
      "episode : 61 reward : 69.50996236555679\n",
      "total test reward=75.91089416650894\n"
     ]
    },
    {
     "name": "stderr",
     "output_type": "stream",
     "text": [
      "100%|█████████████████████████████████████████████████████████████████████████████| 2010/2010 [00:06<00:00, 292.55it/s]\n",
      "  3%|██                                                                             | 52/2010 [00:00<00:03, 516.06it/s]"
     ]
    },
    {
     "name": "stdout",
     "output_type": "stream",
     "text": [
      "episode : 62 reward : 26.436121004727525\n",
      "total test reward=145.15666947169092\n"
     ]
    },
    {
     "name": "stderr",
     "output_type": "stream",
     "text": [
      "100%|█████████████████████████████████████████████████████████████████████████████| 2010/2010 [00:07<00:00, 286.25it/s]\n",
      "  2%|█▌                                                                             | 39/2010 [00:00<00:05, 383.38it/s]"
     ]
    },
    {
     "name": "stdout",
     "output_type": "stream",
     "text": [
      "episode : 63 reward : 110.07942734244712\n",
      "total test reward=68.70612342052019\n"
     ]
    },
    {
     "name": "stderr",
     "output_type": "stream",
     "text": [
      "100%|█████████████████████████████████████████████████████████████████████████████| 2010/2010 [00:07<00:00, 252.34it/s]\n",
      "  2%|█▉                                                                             | 48/2010 [00:00<00:04, 467.27it/s]"
     ]
    },
    {
     "name": "stdout",
     "output_type": "stream",
     "text": [
      "episode : 64 reward : 84.18117505146945\n",
      "total test reward=62.96450688641496\n"
     ]
    },
    {
     "name": "stderr",
     "output_type": "stream",
     "text": [
      "100%|█████████████████████████████████████████████████████████████████████████████| 2010/2010 [00:06<00:00, 293.79it/s]\n",
      "  3%|██                                                                             | 52/2010 [00:00<00:03, 511.16it/s]"
     ]
    },
    {
     "name": "stdout",
     "output_type": "stream",
     "text": [
      "episode : 65 reward : 118.40332274451981\n",
      "total test reward=90.35492543175255\n"
     ]
    },
    {
     "name": "stderr",
     "output_type": "stream",
     "text": [
      "100%|█████████████████████████████████████████████████████████████████████████████| 2010/2010 [00:06<00:00, 290.82it/s]\n",
      "  2%|█▊                                                                             | 47/2010 [00:00<00:04, 466.60it/s]"
     ]
    },
    {
     "name": "stdout",
     "output_type": "stream",
     "text": [
      "episode : 66 reward : 127.03482296082605\n",
      "total test reward=123.4768348070698\n"
     ]
    },
    {
     "name": "stderr",
     "output_type": "stream",
     "text": [
      "100%|█████████████████████████████████████████████████████████████████████████████| 2010/2010 [00:06<00:00, 303.20it/s]\n",
      "  3%|██                                                                             | 52/2010 [00:00<00:03, 516.19it/s]"
     ]
    },
    {
     "name": "stdout",
     "output_type": "stream",
     "text": [
      "episode : 67 reward : 148.43039454458824\n",
      "total test reward=46.828673246740934\n"
     ]
    },
    {
     "name": "stderr",
     "output_type": "stream",
     "text": [
      "100%|█████████████████████████████████████████████████████████████████████████████| 2010/2010 [00:06<00:00, 334.28it/s]\n",
      "  3%|██▏                                                                            | 56/2010 [00:00<00:03, 555.81it/s]"
     ]
    },
    {
     "name": "stdout",
     "output_type": "stream",
     "text": [
      "episode : 68 reward : 105.55545345521577\n",
      "total test reward=86.37238324092513\n"
     ]
    },
    {
     "name": "stderr",
     "output_type": "stream",
     "text": [
      "100%|█████████████████████████████████████████████████████████████████████████████| 2010/2010 [00:06<00:00, 313.02it/s]\n",
      "  2%|█▋                                                                             | 43/2010 [00:00<00:04, 426.89it/s]"
     ]
    },
    {
     "name": "stdout",
     "output_type": "stream",
     "text": [
      "episode : 69 reward : 187.26278366391222\n",
      "total test reward=116.74548242570688\n"
     ]
    },
    {
     "name": "stderr",
     "output_type": "stream",
     "text": [
      "100%|█████████████████████████████████████████████████████████████████████████████| 2010/2010 [00:06<00:00, 331.37it/s]\n",
      "  3%|██                                                                             | 53/2010 [00:00<00:03, 521.15it/s]"
     ]
    },
    {
     "name": "stdout",
     "output_type": "stream",
     "text": [
      "episode : 70 reward : 87.94327664184154\n",
      "total test reward=58.99156409966721\n"
     ]
    },
    {
     "name": "stderr",
     "output_type": "stream",
     "text": [
      "100%|█████████████████████████████████████████████████████████████████████████████| 2010/2010 [00:06<00:00, 326.91it/s]\n",
      "  5%|███▊                                                                           | 97/2010 [00:00<00:03, 485.39it/s]"
     ]
    },
    {
     "name": "stdout",
     "output_type": "stream",
     "text": [
      "episode : 71 reward : 183.5650987739083\n",
      "total test reward=9.353740133928733\n"
     ]
    },
    {
     "name": "stderr",
     "output_type": "stream",
     "text": [
      "100%|█████████████████████████████████████████████████████████████████████████████| 2010/2010 [00:06<00:00, 320.26it/s]\n",
      "  5%|███▉                                                                          | 102/2010 [00:00<00:03, 501.34it/s]"
     ]
    },
    {
     "name": "stdout",
     "output_type": "stream",
     "text": [
      "episode : 72 reward : 128.62021613361486\n",
      "total test reward=126.73349955338942\n"
     ]
    },
    {
     "name": "stderr",
     "output_type": "stream",
     "text": [
      "100%|█████████████████████████████████████████████████████████████████████████████| 2010/2010 [00:06<00:00, 323.91it/s]\n",
      "  3%|██                                                                             | 53/2010 [00:00<00:03, 521.00it/s]"
     ]
    },
    {
     "name": "stdout",
     "output_type": "stream",
     "text": [
      "episode : 73 reward : 105.70297466160386\n",
      "total test reward=173.1962134808499\n"
     ]
    },
    {
     "name": "stderr",
     "output_type": "stream",
     "text": [
      "100%|█████████████████████████████████████████████████████████████████████████████| 2010/2010 [00:07<00:00, 282.27it/s]\n",
      "  3%|██                                                                             | 52/2010 [00:00<00:03, 516.23it/s]"
     ]
    },
    {
     "name": "stdout",
     "output_type": "stream",
     "text": [
      "episode : 74 reward : 96.96531003059772\n",
      "total test reward=105.89627763059859\n"
     ]
    },
    {
     "name": "stderr",
     "output_type": "stream",
     "text": [
      "100%|█████████████████████████████████████████████████████████████████████████████| 2010/2010 [00:05<00:00, 345.87it/s]\n",
      "  3%|██                                                                             | 54/2010 [00:00<00:03, 536.08it/s]"
     ]
    },
    {
     "name": "stdout",
     "output_type": "stream",
     "text": [
      "episode : 75 reward : 129.70034553541797\n",
      "total test reward=39.291572422394545\n"
     ]
    },
    {
     "name": "stderr",
     "output_type": "stream",
     "text": [
      "100%|█████████████████████████████████████████████████████████████████████████████| 2010/2010 [00:06<00:00, 310.18it/s]\n",
      "  3%|██                                                                             | 51/2010 [00:00<00:03, 501.19it/s]"
     ]
    },
    {
     "name": "stdout",
     "output_type": "stream",
     "text": [
      "episode : 76 reward : 111.32994243687408\n",
      "total test reward=70.62685954465516\n"
     ]
    },
    {
     "name": "stderr",
     "output_type": "stream",
     "text": [
      "100%|█████████████████████████████████████████████████████████████████████████████| 2010/2010 [00:05<00:00, 349.77it/s]\n",
      "  5%|███▉                                                                          | 101/2010 [00:00<00:03, 501.71it/s]"
     ]
    },
    {
     "name": "stdout",
     "output_type": "stream",
     "text": [
      "episode : 77 reward : 152.21016151112326\n",
      "total test reward=168.42224011600683\n"
     ]
    },
    {
     "name": "stderr",
     "output_type": "stream",
     "text": [
      "100%|█████████████████████████████████████████████████████████████████████████████| 2010/2010 [00:06<00:00, 293.02it/s]\n",
      "  2%|█▉                                                                             | 50/2010 [00:00<00:03, 491.35it/s]"
     ]
    },
    {
     "name": "stdout",
     "output_type": "stream",
     "text": [
      "episode : 78 reward : 72.37255594500614\n",
      "total test reward=184.05421651976468\n"
     ]
    },
    {
     "name": "stderr",
     "output_type": "stream",
     "text": [
      "100%|█████████████████████████████████████████████████████████████████████████████| 2010/2010 [00:05<00:00, 354.69it/s]\n",
      "  3%|██                                                                             | 53/2010 [00:00<00:03, 525.98it/s]"
     ]
    },
    {
     "name": "stdout",
     "output_type": "stream",
     "text": [
      "episode : 79 reward : 218.09135227356717\n",
      "total test reward=136.73732988696415\n"
     ]
    },
    {
     "name": "stderr",
     "output_type": "stream",
     "text": [
      "100%|█████████████████████████████████████████████████████████████████████████████| 2010/2010 [00:05<00:00, 335.90it/s]\n",
      "  3%|██                                                                             | 53/2010 [00:00<00:03, 526.23it/s]"
     ]
    },
    {
     "name": "stdout",
     "output_type": "stream",
     "text": [
      "episode : 80 reward : 149.6504262549128\n",
      "total test reward=151.59421974418214\n"
     ]
    },
    {
     "name": "stderr",
     "output_type": "stream",
     "text": [
      "100%|█████████████████████████████████████████████████████████████████████████████| 2010/2010 [00:06<00:00, 310.20it/s]\n",
      "  3%|██                                                                             | 51/2010 [00:00<00:03, 506.28it/s]"
     ]
    },
    {
     "name": "stdout",
     "output_type": "stream",
     "text": [
      "episode : 81 reward : 123.68900231009786\n",
      "total test reward=214.11435593040977\n"
     ]
    },
    {
     "name": "stderr",
     "output_type": "stream",
     "text": [
      "100%|█████████████████████████████████████████████████████████████████████████████| 2010/2010 [00:05<00:00, 347.05it/s]\n",
      "  3%|██                                                                             | 54/2010 [00:00<00:03, 536.27it/s]"
     ]
    },
    {
     "name": "stdout",
     "output_type": "stream",
     "text": [
      "episode : 82 reward : 98.75952581656937\n",
      "total test reward=136.0376760854671\n"
     ]
    },
    {
     "name": "stderr",
     "output_type": "stream",
     "text": [
      "100%|█████████████████████████████████████████████████████████████████████████████| 2010/2010 [00:05<00:00, 377.66it/s]\n",
      "  2%|█▉                                                                             | 50/2010 [00:00<00:03, 491.66it/s]"
     ]
    },
    {
     "name": "stdout",
     "output_type": "stream",
     "text": [
      "episode : 83 reward : 267.717453654932\n",
      "total test reward=176.86869670559886\n"
     ]
    },
    {
     "name": "stderr",
     "output_type": "stream",
     "text": [
      "100%|█████████████████████████████████████████████████████████████████████████████| 2010/2010 [00:05<00:00, 344.10it/s]\n",
      "  3%|██                                                                             | 51/2010 [00:00<00:03, 506.30it/s]"
     ]
    },
    {
     "name": "stdout",
     "output_type": "stream",
     "text": [
      "episode : 84 reward : 223.3227363140677\n",
      "total test reward=163.76415604869797\n"
     ]
    },
    {
     "name": "stderr",
     "output_type": "stream",
     "text": [
      "100%|█████████████████████████████████████████████████████████████████████████████| 2010/2010 [00:05<00:00, 364.77it/s]\n",
      "  2%|█▌                                                                             | 39/2010 [00:00<00:05, 387.17it/s]"
     ]
    },
    {
     "name": "stdout",
     "output_type": "stream",
     "text": [
      "episode : 85 reward : 224.81605606399057\n",
      "total test reward=139.87384036526663\n"
     ]
    },
    {
     "name": "stderr",
     "output_type": "stream",
     "text": [
      "100%|█████████████████████████████████████████████████████████████████████████████| 2010/2010 [00:05<00:00, 343.63it/s]\n",
      "  2%|█▋                                                                             | 43/2010 [00:00<00:04, 426.73it/s]"
     ]
    },
    {
     "name": "stdout",
     "output_type": "stream",
     "text": [
      "episode : 86 reward : 173.50470551581583\n",
      "total test reward=142.33919895988714\n"
     ]
    },
    {
     "name": "stderr",
     "output_type": "stream",
     "text": [
      "100%|█████████████████████████████████████████████████████████████████████████████| 2010/2010 [00:05<00:00, 395.84it/s]\n",
      "  3%|██                                                                             | 54/2010 [00:00<00:03, 536.00it/s]"
     ]
    },
    {
     "name": "stdout",
     "output_type": "stream",
     "text": [
      "episode : 87 reward : 204.4678792226786\n",
      "total test reward=147.36768188399097\n"
     ]
    },
    {
     "name": "stderr",
     "output_type": "stream",
     "text": [
      "100%|█████████████████████████████████████████████████████████████████████████████| 2010/2010 [00:05<00:00, 391.64it/s]\n",
      "  3%|██▏                                                                            | 55/2010 [00:00<00:03, 546.19it/s]"
     ]
    },
    {
     "name": "stdout",
     "output_type": "stream",
     "text": [
      "episode : 88 reward : 225.3509942064064\n",
      "total test reward=113.29236953266889\n"
     ]
    },
    {
     "name": "stderr",
     "output_type": "stream",
     "text": [
      "100%|█████████████████████████████████████████████████████████████████████████████| 2010/2010 [00:05<00:00, 382.64it/s]\n",
      "  2%|█▉                                                                             | 48/2010 [00:00<00:04, 471.85it/s]"
     ]
    },
    {
     "name": "stdout",
     "output_type": "stream",
     "text": [
      "episode : 89 reward : 164.677003460182\n",
      "total test reward=194.3054193989457\n"
     ]
    },
    {
     "name": "stderr",
     "output_type": "stream",
     "text": [
      "100%|█████████████████████████████████████████████████████████████████████████████| 2010/2010 [00:05<00:00, 355.51it/s]\n",
      "  2%|█▉                                                                             | 50/2010 [00:00<00:03, 491.52it/s]"
     ]
    },
    {
     "name": "stdout",
     "output_type": "stream",
     "text": [
      "episode : 90 reward : 139.3742512926085\n",
      "total test reward=176.84874897554474\n"
     ]
    },
    {
     "name": "stderr",
     "output_type": "stream",
     "text": [
      "100%|█████████████████████████████████████████████████████████████████████████████| 2010/2010 [00:04<00:00, 426.81it/s]\n",
      "  3%|██                                                                             | 53/2010 [00:00<00:03, 526.16it/s]"
     ]
    },
    {
     "name": "stdout",
     "output_type": "stream",
     "text": [
      "episode : 91 reward : 227.75038294396046\n",
      "total test reward=164.73090525237106\n"
     ]
    },
    {
     "name": "stderr",
     "output_type": "stream",
     "text": [
      "100%|█████████████████████████████████████████████████████████████████████████████| 2010/2010 [00:04<00:00, 408.96it/s]\n",
      "  3%|██                                                                             | 54/2010 [00:00<00:03, 530.83it/s]"
     ]
    },
    {
     "name": "stdout",
     "output_type": "stream",
     "text": [
      "episode : 92 reward : 2.6756463983315424\n",
      "total test reward=126.06902879881304\n"
     ]
    },
    {
     "name": "stderr",
     "output_type": "stream",
     "text": [
      "100%|█████████████████████████████████████████████████████████████████████████████| 2010/2010 [00:05<00:00, 385.79it/s]\n",
      "  3%|██                                                                             | 51/2010 [00:00<00:03, 501.50it/s]"
     ]
    },
    {
     "name": "stdout",
     "output_type": "stream",
     "text": [
      "episode : 93 reward : 249.6100964029517\n",
      "total test reward=138.6364355378028\n"
     ]
    },
    {
     "name": "stderr",
     "output_type": "stream",
     "text": [
      "100%|█████████████████████████████████████████████████████████████████████████████| 2010/2010 [00:05<00:00, 346.82it/s]\n",
      "  3%|██▏                                                                            | 56/2010 [00:00<00:03, 550.74it/s]"
     ]
    },
    {
     "name": "stdout",
     "output_type": "stream",
     "text": [
      "episode : 94 reward : 257.98714085896836\n",
      "total test reward=143.2276735339714\n"
     ]
    },
    {
     "name": "stderr",
     "output_type": "stream",
     "text": [
      "100%|█████████████████████████████████████████████████████████████████████████████| 2010/2010 [00:04<00:00, 425.55it/s]\n",
      "  3%|██                                                                             | 54/2010 [00:00<00:03, 536.08it/s]"
     ]
    },
    {
     "name": "stdout",
     "output_type": "stream",
     "text": [
      "episode : 95 reward : 275.9951298182582\n",
      "total test reward=129.07047236690644\n"
     ]
    },
    {
     "name": "stderr",
     "output_type": "stream",
     "text": [
      "100%|█████████████████████████████████████████████████████████████████████████████| 2010/2010 [00:04<00:00, 439.02it/s]\n",
      "  5%|████▎                                                                         | 110/2010 [00:00<00:03, 549.62it/s]"
     ]
    },
    {
     "name": "stdout",
     "output_type": "stream",
     "text": [
      "episode : 96 reward : 228.26414552683318\n",
      "total test reward=111.22013192229353\n"
     ]
    },
    {
     "name": "stderr",
     "output_type": "stream",
     "text": [
      "100%|█████████████████████████████████████████████████████████████████████████████| 2010/2010 [00:04<00:00, 423.22it/s]\n",
      "  3%|██                                                                             | 52/2010 [00:00<00:03, 516.23it/s]"
     ]
    },
    {
     "name": "stdout",
     "output_type": "stream",
     "text": [
      "episode : 97 reward : 100.48816357575244\n",
      "total test reward=15.240762354070077\n"
     ]
    },
    {
     "name": "stderr",
     "output_type": "stream",
     "text": [
      "100%|█████████████████████████████████████████████████████████████████████████████| 2010/2010 [00:04<00:00, 458.67it/s]\n",
      "  3%|██▏                                                                            | 56/2010 [00:00<00:03, 550.31it/s]"
     ]
    },
    {
     "name": "stdout",
     "output_type": "stream",
     "text": [
      "episode : 98 reward : 190.8178009121379\n",
      "total test reward=174.22567385458336\n"
     ]
    },
    {
     "name": "stderr",
     "output_type": "stream",
     "text": [
      "100%|█████████████████████████████████████████████████████████████████████████████| 2010/2010 [00:04<00:00, 444.01it/s]\n",
      "  3%|██▏                                                                            | 56/2010 [00:00<00:03, 550.65it/s]"
     ]
    },
    {
     "name": "stdout",
     "output_type": "stream",
     "text": [
      "episode : 99 reward : 182.4351810246632\n",
      "total test reward=159.92604537083758\n"
     ]
    },
    {
     "name": "stderr",
     "output_type": "stream",
     "text": [
      "100%|█████████████████████████████████████████████████████████████████████████████| 2010/2010 [00:04<00:00, 473.10it/s]\n",
      "  2%|█▍                                                                             | 38/2010 [00:00<00:05, 377.24it/s]"
     ]
    },
    {
     "name": "stdout",
     "output_type": "stream",
     "text": [
      "episode : 100 reward : 104.77492552491088\n",
      "total test reward=72.29242122901091\n"
     ]
    },
    {
     "name": "stderr",
     "output_type": "stream",
     "text": [
      "100%|█████████████████████████████████████████████████████████████████████████████| 2010/2010 [00:05<00:00, 366.50it/s]\n",
      "  6%|████▍                                                                         | 113/2010 [00:00<00:03, 555.14it/s]"
     ]
    },
    {
     "name": "stdout",
     "output_type": "stream",
     "text": [
      "episode : 101 reward : 101.18982182822336\n",
      "total test reward=10.881000931177681\n"
     ]
    },
    {
     "name": "stderr",
     "output_type": "stream",
     "text": [
      "100%|█████████████████████████████████████████████████████████████████████████████| 2010/2010 [00:04<00:00, 448.96it/s]\n",
      "  3%|██▏                                                                            | 56/2010 [00:00<00:03, 550.49it/s]"
     ]
    },
    {
     "name": "stdout",
     "output_type": "stream",
     "text": [
      "episode : 102 reward : 217.79334409812515\n",
      "total test reward=134.16139727600734\n"
     ]
    },
    {
     "name": "stderr",
     "output_type": "stream",
     "text": [
      "100%|█████████████████████████████████████████████████████████████████████████████| 2010/2010 [00:05<00:00, 389.44it/s]\n",
      "  5%|████▏                                                                         | 109/2010 [00:00<00:03, 549.30it/s]"
     ]
    },
    {
     "name": "stdout",
     "output_type": "stream",
     "text": [
      "episode : 103 reward : 279.97787434471314\n",
      "total test reward=83.1233902670164\n"
     ]
    },
    {
     "name": "stderr",
     "output_type": "stream",
     "text": [
      "100%|█████████████████████████████████████████████████████████████████████████████| 2010/2010 [00:05<00:00, 373.43it/s]\n",
      "  3%|██▎                                                                            | 58/2010 [00:00<00:03, 575.79it/s]"
     ]
    },
    {
     "name": "stdout",
     "output_type": "stream",
     "text": [
      "episode : 104 reward : 208.03761225772035\n",
      "total test reward=163.56741452137717\n"
     ]
    },
    {
     "name": "stderr",
     "output_type": "stream",
     "text": [
      "100%|█████████████████████████████████████████████████████████████████████████████| 2010/2010 [00:04<00:00, 446.99it/s]\n",
      "  3%|██▎                                                                            | 59/2010 [00:00<00:03, 585.72it/s]"
     ]
    },
    {
     "name": "stdout",
     "output_type": "stream",
     "text": [
      "episode : 105 reward : 153.62407852772714\n",
      "total test reward=33.49038450747126\n"
     ]
    },
    {
     "name": "stderr",
     "output_type": "stream",
     "text": [
      "100%|█████████████████████████████████████████████████████████████████████████████| 2010/2010 [00:04<00:00, 457.64it/s]\n",
      "  2%|█▊                                                                             | 46/2010 [00:00<00:04, 452.19it/s]"
     ]
    },
    {
     "name": "stdout",
     "output_type": "stream",
     "text": [
      "episode : 106 reward : 132.9333798935054\n",
      "total test reward=139.20204174131413\n"
     ]
    },
    {
     "name": "stderr",
     "output_type": "stream",
     "text": [
      "100%|█████████████████████████████████████████████████████████████████████████████| 2010/2010 [00:04<00:00, 421.98it/s]\n",
      "  3%|██▏                                                                            | 57/2010 [00:00<00:03, 560.32it/s]"
     ]
    },
    {
     "name": "stdout",
     "output_type": "stream",
     "text": [
      "episode : 107 reward : 108.8586262737605\n",
      "total test reward=151.19354661819435\n"
     ]
    },
    {
     "name": "stderr",
     "output_type": "stream",
     "text": [
      "100%|█████████████████████████████████████████████████████████████████████████████| 2010/2010 [00:03<00:00, 507.14it/s]\n",
      "  2%|█▉                                                                             | 48/2010 [00:00<00:04, 476.52it/s]"
     ]
    },
    {
     "name": "stdout",
     "output_type": "stream",
     "text": [
      "episode : 108 reward : 126.79435703132606\n",
      "total test reward=115.23127822749038\n"
     ]
    },
    {
     "name": "stderr",
     "output_type": "stream",
     "text": [
      "100%|█████████████████████████████████████████████████████████████████████████████| 2010/2010 [00:04<00:00, 456.90it/s]\n",
      "  3%|██▎                                                                            | 59/2010 [00:00<00:03, 585.54it/s]"
     ]
    },
    {
     "name": "stdout",
     "output_type": "stream",
     "text": [
      "episode : 109 reward : 118.98226347720346\n",
      "total test reward=143.68594218257275\n"
     ]
    },
    {
     "name": "stderr",
     "output_type": "stream",
     "text": [
      "100%|█████████████████████████████████████████████████████████████████████████████| 2010/2010 [00:04<00:00, 460.86it/s]\n",
      "  3%|██▍                                                                            | 61/2010 [00:00<00:03, 605.58it/s]"
     ]
    },
    {
     "name": "stdout",
     "output_type": "stream",
     "text": [
      "episode : 110 reward : 223.18449101589817\n",
      "total test reward=139.3187678892403\n"
     ]
    },
    {
     "name": "stderr",
     "output_type": "stream",
     "text": [
      "100%|█████████████████████████████████████████████████████████████████████████████| 2010/2010 [00:03<00:00, 515.97it/s]\n",
      "  3%|██▎                                                                            | 58/2010 [00:00<00:03, 575.79it/s]"
     ]
    },
    {
     "name": "stdout",
     "output_type": "stream",
     "text": [
      "episode : 111 reward : 274.510297498594\n",
      "total test reward=133.6458522701796\n"
     ]
    },
    {
     "name": "stderr",
     "output_type": "stream",
     "text": [
      "100%|█████████████████████████████████████████████████████████████████████████████| 2010/2010 [00:05<00:00, 393.01it/s]\n",
      "  3%|██▏                                                                            | 56/2010 [00:00<00:03, 550.66it/s]"
     ]
    },
    {
     "name": "stdout",
     "output_type": "stream",
     "text": [
      "episode : 112 reward : 230.65630029068964\n",
      "total test reward=210.4882386673161\n"
     ]
    },
    {
     "name": "stderr",
     "output_type": "stream",
     "text": [
      "100%|█████████████████████████████████████████████████████████████████████████████| 2010/2010 [00:04<00:00, 450.77it/s]\n",
      "  3%|██                                                                             | 53/2010 [00:00<00:03, 521.16it/s]"
     ]
    },
    {
     "name": "stdout",
     "output_type": "stream",
     "text": [
      "episode : 113 reward : 288.03731600981484\n",
      "total test reward=40.81149419243662\n"
     ]
    },
    {
     "name": "stderr",
     "output_type": "stream",
     "text": [
      "100%|█████████████████████████████████████████████████████████████████████████████| 2010/2010 [00:05<00:00, 393.94it/s]\n",
      "  3%|██▏                                                                            | 56/2010 [00:00<00:03, 550.66it/s]"
     ]
    },
    {
     "name": "stdout",
     "output_type": "stream",
     "text": [
      "episode : 114 reward : 267.5106145554169\n",
      "total test reward=140.19154863378142\n"
     ]
    },
    {
     "name": "stderr",
     "output_type": "stream",
     "text": [
      "100%|█████████████████████████████████████████████████████████████████████████████| 2010/2010 [00:04<00:00, 424.29it/s]\n",
      "  2%|█▉                                                                             | 48/2010 [00:00<00:04, 467.26it/s]"
     ]
    },
    {
     "name": "stdout",
     "output_type": "stream",
     "text": [
      "episode : 115 reward : 211.16549238910557\n",
      "total test reward=147.60900573035354\n"
     ]
    },
    {
     "name": "stderr",
     "output_type": "stream",
     "text": [
      "100%|█████████████████████████████████████████████████████████████████████████████| 2010/2010 [00:04<00:00, 421.27it/s]\n",
      "  2%|█▋                                                                             | 43/2010 [00:00<00:04, 418.59it/s]"
     ]
    },
    {
     "name": "stdout",
     "output_type": "stream",
     "text": [
      "episode : 116 reward : 245.1572747383562\n",
      "total test reward=233.45472669845475\n"
     ]
    },
    {
     "name": "stderr",
     "output_type": "stream",
     "text": [
      "100%|█████████████████████████████████████████████████████████████████████████████| 2010/2010 [00:05<00:00, 350.32it/s]\n",
      "  5%|████▏                                                                         | 109/2010 [00:00<00:03, 550.16it/s]"
     ]
    },
    {
     "name": "stdout",
     "output_type": "stream",
     "text": [
      "episode : 117 reward : 252.4950933299687\n",
      "total test reward=203.54899750505777\n"
     ]
    },
    {
     "name": "stderr",
     "output_type": "stream",
     "text": [
      "100%|█████████████████████████████████████████████████████████████████████████████| 2010/2010 [00:04<00:00, 441.97it/s]\n",
      "  3%|██▏                                                                            | 57/2010 [00:00<00:03, 560.32it/s]"
     ]
    },
    {
     "name": "stdout",
     "output_type": "stream",
     "text": [
      "episode : 118 reward : 248.81642647141777\n",
      "total test reward=133.85781310956415\n"
     ]
    },
    {
     "name": "stderr",
     "output_type": "stream",
     "text": [
      "100%|█████████████████████████████████████████████████████████████████████████████| 2010/2010 [00:04<00:00, 441.00it/s]\n",
      "  3%|██                                                                             | 53/2010 [00:00<00:03, 525.99it/s]"
     ]
    },
    {
     "name": "stdout",
     "output_type": "stream",
     "text": [
      "episode : 119 reward : 259.68032404104247\n",
      "total test reward=213.5138772033998\n"
     ]
    },
    {
     "name": "stderr",
     "output_type": "stream",
     "text": [
      "100%|█████████████████████████████████████████████████████████████████████████████| 2010/2010 [00:04<00:00, 421.72it/s]\n",
      "  2%|█▌                                                                             | 40/2010 [00:00<00:05, 385.64it/s]"
     ]
    },
    {
     "name": "stdout",
     "output_type": "stream",
     "text": [
      "episode : 120 reward : -19.999126864692165\n",
      "total test reward=202.29390029698\n"
     ]
    },
    {
     "name": "stderr",
     "output_type": "stream",
     "text": [
      "100%|█████████████████████████████████████████████████████████████████████████████| 2010/2010 [00:05<00:00, 383.22it/s]\n",
      "  2%|█▍                                                                             | 37/2010 [00:00<00:05, 363.71it/s]"
     ]
    },
    {
     "name": "stdout",
     "output_type": "stream",
     "text": [
      "episode : 121 reward : 304.3006873989127\n",
      "total test reward=150.28504338385588\n"
     ]
    },
    {
     "name": "stderr",
     "output_type": "stream",
     "text": [
      "100%|█████████████████████████████████████████████████████████████████████████████| 2010/2010 [00:04<00:00, 437.94it/s]\n",
      "  3%|██▎                                                                            | 58/2010 [00:00<00:03, 575.80it/s]"
     ]
    },
    {
     "name": "stdout",
     "output_type": "stream",
     "text": [
      "episode : 122 reward : 217.08405960082206\n",
      "total test reward=166.53891309195228\n"
     ]
    },
    {
     "name": "stderr",
     "output_type": "stream",
     "text": [
      "100%|█████████████████████████████████████████████████████████████████████████████| 2010/2010 [00:04<00:00, 407.62it/s]\n",
      "  2%|█▊                                                                             | 46/2010 [00:00<00:04, 456.82it/s]"
     ]
    },
    {
     "name": "stdout",
     "output_type": "stream",
     "text": [
      "episode : 123 reward : 120.77085994636731\n",
      "total test reward=190.3584523172839\n"
     ]
    },
    {
     "name": "stderr",
     "output_type": "stream",
     "text": [
      "100%|█████████████████████████████████████████████████████████████████████████████| 2010/2010 [00:05<00:00, 401.31it/s]\n",
      "  2%|█▉                                                                             | 50/2010 [00:00<00:03, 496.38it/s]"
     ]
    },
    {
     "name": "stdout",
     "output_type": "stream",
     "text": [
      "episode : 124 reward : 272.50713577945356\n",
      "total test reward=159.5685574022454\n"
     ]
    },
    {
     "name": "stderr",
     "output_type": "stream",
     "text": [
      "100%|█████████████████████████████████████████████████████████████████████████████| 2010/2010 [00:04<00:00, 406.41it/s]\n",
      "  3%|██▏                                                                            | 55/2010 [00:00<00:03, 540.66it/s]"
     ]
    },
    {
     "name": "stdout",
     "output_type": "stream",
     "text": [
      "episode : 125 reward : 195.43303010372787\n",
      "total test reward=141.289213092565\n"
     ]
    },
    {
     "name": "stderr",
     "output_type": "stream",
     "text": [
      "100%|█████████████████████████████████████████████████████████████████████████████| 2010/2010 [00:04<00:00, 442.64it/s]\n",
      "  5%|████                                                                          | 104/2010 [00:00<00:03, 524.98it/s]"
     ]
    },
    {
     "name": "stdout",
     "output_type": "stream",
     "text": [
      "episode : 126 reward : 240.9324474591356\n",
      "total test reward=157.24701375807942\n"
     ]
    },
    {
     "name": "stderr",
     "output_type": "stream",
     "text": [
      "100%|█████████████████████████████████████████████████████████████████████████████| 2010/2010 [00:04<00:00, 441.78it/s]\n",
      "  3%|██▏                                                                            | 57/2010 [00:00<00:03, 565.95it/s]"
     ]
    },
    {
     "name": "stdout",
     "output_type": "stream",
     "text": [
      "episode : 127 reward : 273.9538837606766\n",
      "total test reward=184.89657742756597\n"
     ]
    },
    {
     "name": "stderr",
     "output_type": "stream",
     "text": [
      "100%|█████████████████████████████████████████████████████████████████████████████| 2010/2010 [00:04<00:00, 447.47it/s]\n",
      "  3%|██                                                                             | 54/2010 [00:00<00:03, 530.99it/s]"
     ]
    },
    {
     "name": "stdout",
     "output_type": "stream",
     "text": [
      "episode : 128 reward : 95.3571026918247\n",
      "total test reward=122.35050873306022\n"
     ]
    },
    {
     "name": "stderr",
     "output_type": "stream",
     "text": [
      "100%|█████████████████████████████████████████████████████████████████████████████| 2010/2010 [00:04<00:00, 414.35it/s]\n",
      "  3%|██                                                                             | 54/2010 [00:00<00:03, 530.82it/s]"
     ]
    },
    {
     "name": "stdout",
     "output_type": "stream",
     "text": [
      "episode : 129 reward : 184.8472755878118\n",
      "total test reward=231.7156420396547\n"
     ]
    },
    {
     "name": "stderr",
     "output_type": "stream",
     "text": [
      "100%|█████████████████████████████████████████████████████████████████████████████| 2010/2010 [00:05<00:00, 393.78it/s]\n",
      "  3%|██▏                                                                            | 55/2010 [00:00<00:03, 546.15it/s]"
     ]
    },
    {
     "name": "stdout",
     "output_type": "stream",
     "text": [
      "episode : 130 reward : 88.88271420885816\n",
      "total test reward=214.51055902615298\n"
     ]
    },
    {
     "name": "stderr",
     "output_type": "stream",
     "text": [
      "100%|█████████████████████████████████████████████████████████████████████████████| 2010/2010 [00:04<00:00, 445.49it/s]\n",
      "  2%|█▉                                                                             | 50/2010 [00:00<00:03, 491.36it/s]"
     ]
    },
    {
     "name": "stdout",
     "output_type": "stream",
     "text": [
      "episode : 131 reward : 246.63152696063477\n",
      "total test reward=165.867827929793\n"
     ]
    },
    {
     "name": "stderr",
     "output_type": "stream",
     "text": [
      "100%|█████████████████████████████████████████████████████████████████████████████| 2010/2010 [00:04<00:00, 414.69it/s]\n",
      "  2%|█▉                                                                             | 48/2010 [00:00<00:04, 476.68it/s]"
     ]
    },
    {
     "name": "stdout",
     "output_type": "stream",
     "text": [
      "episode : 132 reward : 300.83295515819657\n",
      "total test reward=228.08247878950527\n"
     ]
    },
    {
     "name": "stderr",
     "output_type": "stream",
     "text": [
      "100%|█████████████████████████████████████████████████████████████████████████████| 2010/2010 [00:05<00:00, 378.90it/s]\n",
      "  2%|█▉                                                                             | 49/2010 [00:00<00:04, 481.68it/s]"
     ]
    },
    {
     "name": "stdout",
     "output_type": "stream",
     "text": [
      "episode : 133 reward : 75.07788510443422\n",
      "total test reward=205.43310632321254\n"
     ]
    },
    {
     "name": "stderr",
     "output_type": "stream",
     "text": [
      "100%|█████████████████████████████████████████████████████████████████████████████| 2010/2010 [00:04<00:00, 411.38it/s]\n",
      "  5%|████                                                                          | 105/2010 [00:00<00:03, 529.58it/s]"
     ]
    },
    {
     "name": "stdout",
     "output_type": "stream",
     "text": [
      "episode : 134 reward : 249.4956764881587\n",
      "total test reward=198.44317646110858\n"
     ]
    },
    {
     "name": "stderr",
     "output_type": "stream",
     "text": [
      "100%|█████████████████████████████████████████████████████████████████████████████| 2010/2010 [00:04<00:00, 427.53it/s]\n",
      "  2%|█▌                                                                             | 39/2010 [00:00<00:05, 387.21it/s]"
     ]
    },
    {
     "name": "stdout",
     "output_type": "stream",
     "text": [
      "episode : 135 reward : 225.85027552589858\n",
      "total test reward=234.80996939411247\n"
     ]
    },
    {
     "name": "stderr",
     "output_type": "stream",
     "text": [
      "100%|█████████████████████████████████████████████████████████████████████████████| 2010/2010 [00:04<00:00, 419.17it/s]\n",
      "  2%|█▋                                                                             | 43/2010 [00:00<00:04, 422.83it/s]"
     ]
    },
    {
     "name": "stdout",
     "output_type": "stream",
     "text": [
      "episode : 136 reward : 254.24001059627625\n",
      "total test reward=225.7830959937468\n"
     ]
    },
    {
     "name": "stderr",
     "output_type": "stream",
     "text": [
      "100%|█████████████████████████████████████████████████████████████████████████████| 2010/2010 [00:05<00:00, 386.16it/s]\n",
      "  3%|██                                                                             | 54/2010 [00:00<00:03, 530.79it/s]"
     ]
    },
    {
     "name": "stdout",
     "output_type": "stream",
     "text": [
      "episode : 137 reward : 253.2079072130573\n",
      "total test reward=237.63169575192637\n"
     ]
    },
    {
     "name": "stderr",
     "output_type": "stream",
     "text": [
      "100%|█████████████████████████████████████████████████████████████████████████████| 2010/2010 [00:04<00:00, 422.86it/s]\n",
      "  5%|███▌                                                                           | 92/2010 [00:00<00:04, 457.27it/s]"
     ]
    },
    {
     "name": "stdout",
     "output_type": "stream",
     "text": [
      "episode : 138 reward : 251.30305079212292\n",
      "total test reward=156.8174714121567\n"
     ]
    },
    {
     "name": "stderr",
     "output_type": "stream",
     "text": [
      "100%|█████████████████████████████████████████████████████████████████████████████| 2010/2010 [00:04<00:00, 404.29it/s]\n",
      "  2%|█▌                                                                             | 39/2010 [00:00<00:05, 383.37it/s]"
     ]
    },
    {
     "name": "stdout",
     "output_type": "stream",
     "text": [
      "episode : 139 reward : 213.38441861877135\n",
      "total test reward=271.18131310634317\n"
     ]
    },
    {
     "name": "stderr",
     "output_type": "stream",
     "text": [
      "100%|█████████████████████████████████████████████████████████████████████████████| 2010/2010 [00:05<00:00, 397.42it/s]\n",
      "  3%|██▏                                                                            | 57/2010 [00:00<00:03, 560.32it/s]"
     ]
    },
    {
     "name": "stdout",
     "output_type": "stream",
     "text": [
      "episode : 140 reward : 249.91311020539024\n",
      "total test reward=206.71815759757084\n"
     ]
    },
    {
     "name": "stderr",
     "output_type": "stream",
     "text": [
      "100%|█████████████████████████████████████████████████████████████████████████████| 2010/2010 [00:04<00:00, 425.18it/s]\n",
      "  2%|█▊                                                                             | 47/2010 [00:00<00:04, 462.01it/s]"
     ]
    },
    {
     "name": "stdout",
     "output_type": "stream",
     "text": [
      "episode : 141 reward : 218.75899847082118\n",
      "total test reward=209.6893947351376\n"
     ]
    },
    {
     "name": "stderr",
     "output_type": "stream",
     "text": [
      "100%|█████████████████████████████████████████████████████████████████████████████| 2010/2010 [00:04<00:00, 422.69it/s]\n",
      "  2%|█▉                                                                             | 49/2010 [00:00<00:04, 481.53it/s]"
     ]
    },
    {
     "name": "stdout",
     "output_type": "stream",
     "text": [
      "episode : 142 reward : 264.1673734552529\n",
      "total test reward=202.18569387345647\n"
     ]
    },
    {
     "name": "stderr",
     "output_type": "stream",
     "text": [
      "100%|█████████████████████████████████████████████████████████████████████████████| 2010/2010 [00:04<00:00, 468.04it/s]\n",
      "  3%|██▏                                                                            | 57/2010 [00:00<00:03, 560.16it/s]"
     ]
    },
    {
     "name": "stdout",
     "output_type": "stream",
     "text": [
      "episode : 143 reward : 244.85079141931445\n",
      "total test reward=195.31056972027056\n"
     ]
    },
    {
     "name": "stderr",
     "output_type": "stream",
     "text": [
      "100%|█████████████████████████████████████████████████████████████████████████████| 2010/2010 [00:04<00:00, 440.90it/s]\n",
      "  6%|████▎                                                                         | 111/2010 [00:00<00:03, 558.18it/s]"
     ]
    },
    {
     "name": "stdout",
     "output_type": "stream",
     "text": [
      "episode : 144 reward : 280.756332162064\n",
      "total test reward=202.5795071297295\n"
     ]
    },
    {
     "name": "stderr",
     "output_type": "stream",
     "text": [
      "100%|█████████████████████████████████████████████████████████████████████████████| 2010/2010 [00:04<00:00, 449.96it/s]\n",
      "  3%|██▏                                                                            | 55/2010 [00:00<00:03, 540.79it/s]"
     ]
    },
    {
     "name": "stdout",
     "output_type": "stream",
     "text": [
      "episode : 145 reward : 98.59011864416074\n",
      "total test reward=142.79166293728622\n"
     ]
    },
    {
     "name": "stderr",
     "output_type": "stream",
     "text": [
      "100%|█████████████████████████████████████████████████████████████████████████████| 2010/2010 [00:04<00:00, 422.53it/s]\n",
      "  2%|█▉                                                                             | 48/2010 [00:00<00:04, 467.25it/s]"
     ]
    },
    {
     "name": "stdout",
     "output_type": "stream",
     "text": [
      "episode : 146 reward : 126.76457784848594\n",
      "total test reward=134.04565403063643\n"
     ]
    },
    {
     "name": "stderr",
     "output_type": "stream",
     "text": [
      "100%|█████████████████████████████████████████████████████████████████████████████| 2010/2010 [00:04<00:00, 439.08it/s]\n",
      "  3%|██                                                                             | 51/2010 [00:00<00:03, 506.31it/s]"
     ]
    },
    {
     "name": "stdout",
     "output_type": "stream",
     "text": [
      "episode : 147 reward : 205.93877774352933\n",
      "total test reward=160.57727874440934\n"
     ]
    },
    {
     "name": "stderr",
     "output_type": "stream",
     "text": [
      "100%|█████████████████████████████████████████████████████████████████████████████| 2010/2010 [00:04<00:00, 455.76it/s]\n",
      "  3%|██                                                                             | 54/2010 [00:00<00:03, 530.66it/s]"
     ]
    },
    {
     "name": "stdout",
     "output_type": "stream",
     "text": [
      "episode : 148 reward : 244.54523559394343\n",
      "total test reward=147.08947141487613\n"
     ]
    },
    {
     "name": "stderr",
     "output_type": "stream",
     "text": [
      "100%|█████████████████████████████████████████████████████████████████████████████| 2010/2010 [00:04<00:00, 490.48it/s]\n",
      "  3%|██▏                                                                            | 55/2010 [00:00<00:03, 546.00it/s]"
     ]
    },
    {
     "name": "stdout",
     "output_type": "stream",
     "text": [
      "episode : 149 reward : 215.08271606719052\n",
      "total test reward=161.2387311323121\n"
     ]
    },
    {
     "name": "stderr",
     "output_type": "stream",
     "text": [
      "100%|█████████████████████████████████████████████████████████████████████████████| 2010/2010 [00:04<00:00, 429.81it/s]\n",
      "  3%|██                                                                             | 53/2010 [00:00<00:03, 526.14it/s]"
     ]
    },
    {
     "name": "stdout",
     "output_type": "stream",
     "text": [
      "episode : 150 reward : 239.60468592759327\n",
      "total test reward=252.47714689881997\n"
     ]
    },
    {
     "name": "stderr",
     "output_type": "stream",
     "text": [
      "100%|█████████████████████████████████████████████████████████████████████████████| 2010/2010 [00:04<00:00, 450.16it/s]\n",
      "  3%|██                                                                             | 53/2010 [00:00<00:03, 520.99it/s]"
     ]
    },
    {
     "name": "stdout",
     "output_type": "stream",
     "text": [
      "episode : 151 reward : 178.53723736268284\n",
      "total test reward=198.5936306257304\n"
     ]
    },
    {
     "name": "stderr",
     "output_type": "stream",
     "text": [
      "100%|█████████████████████████████████████████████████████████████████████████████| 2010/2010 [00:04<00:00, 458.77it/s]\n",
      "  3%|██                                                                             | 52/2010 [00:00<00:03, 506.05it/s]"
     ]
    },
    {
     "name": "stdout",
     "output_type": "stream",
     "text": [
      "episode : 152 reward : 72.50284224187803\n",
      "total test reward=207.53136099199583\n"
     ]
    },
    {
     "name": "stderr",
     "output_type": "stream",
     "text": [
      "100%|█████████████████████████████████████████████████████████████████████████████| 2010/2010 [00:04<00:00, 441.74it/s]\n",
      "  5%|████▏                                                                         | 109/2010 [00:00<00:03, 553.08it/s]"
     ]
    },
    {
     "name": "stdout",
     "output_type": "stream",
     "text": [
      "episode : 153 reward : 245.97523976706998\n",
      "total test reward=202.0496837521471\n"
     ]
    },
    {
     "name": "stderr",
     "output_type": "stream",
     "text": [
      "100%|█████████████████████████████████████████████████████████████████████████████| 2010/2010 [00:04<00:00, 428.26it/s]\n",
      "  3%|██                                                                             | 53/2010 [00:00<00:03, 526.15it/s]"
     ]
    },
    {
     "name": "stdout",
     "output_type": "stream",
     "text": [
      "episode : 154 reward : 278.48476644385846\n",
      "total test reward=90.99963477783335\n"
     ]
    },
    {
     "name": "stderr",
     "output_type": "stream",
     "text": [
      "100%|█████████████████████████████████████████████████████████████████████████████| 2010/2010 [00:04<00:00, 469.46it/s]\n",
      "  3%|██                                                                             | 52/2010 [00:00<00:03, 511.16it/s]"
     ]
    },
    {
     "name": "stdout",
     "output_type": "stream",
     "text": [
      "episode : 155 reward : 222.692797667187\n",
      "total test reward=71.74325787312128\n"
     ]
    },
    {
     "name": "stderr",
     "output_type": "stream",
     "text": [
      "100%|█████████████████████████████████████████████████████████████████████████████| 2010/2010 [00:04<00:00, 467.72it/s]\n",
      "  2%|█▉                                                                             | 49/2010 [00:00<00:04, 476.85it/s]"
     ]
    },
    {
     "name": "stdout",
     "output_type": "stream",
     "text": [
      "episode : 156 reward : 108.23346035293646\n",
      "total test reward=190.84610984996527\n"
     ]
    },
    {
     "name": "stderr",
     "output_type": "stream",
     "text": [
      "100%|█████████████████████████████████████████████████████████████████████████████| 2010/2010 [00:05<00:00, 397.12it/s]\n",
      "  3%|██                                                                             | 52/2010 [00:00<00:03, 516.38it/s]"
     ]
    },
    {
     "name": "stdout",
     "output_type": "stream",
     "text": [
      "episode : 157 reward : 128.7020514417763\n",
      "total test reward=234.23561703188312\n"
     ]
    },
    {
     "name": "stderr",
     "output_type": "stream",
     "text": [
      "100%|█████████████████████████████████████████████████████████████████████████████| 2010/2010 [00:05<00:00, 395.90it/s]\n",
      "  5%|███▋                                                                           | 95/2010 [00:00<00:04, 469.52it/s]"
     ]
    },
    {
     "name": "stdout",
     "output_type": "stream",
     "text": [
      "episode : 158 reward : 251.34320533949608\n",
      "total test reward=227.33788323224712\n"
     ]
    },
    {
     "name": "stderr",
     "output_type": "stream",
     "text": [
      "100%|█████████████████████████████████████████████████████████████████████████████| 2010/2010 [00:04<00:00, 417.24it/s]\n",
      "  2%|█▉                                                                             | 49/2010 [00:00<00:04, 488.88it/s]"
     ]
    },
    {
     "name": "stdout",
     "output_type": "stream",
     "text": [
      "episode : 159 reward : 240.1703945770834\n",
      "total test reward=204.79686765333912\n"
     ]
    },
    {
     "name": "stderr",
     "output_type": "stream",
     "text": [
      "100%|█████████████████████████████████████████████████████████████████████████████| 2010/2010 [00:04<00:00, 442.56it/s]\n",
      "  2%|█▋                                                                             | 44/2010 [00:00<00:04, 428.42it/s]"
     ]
    },
    {
     "name": "stdout",
     "output_type": "stream",
     "text": [
      "episode : 160 reward : 280.0376020967508\n",
      "total test reward=109.57079524366911\n"
     ]
    },
    {
     "name": "stderr",
     "output_type": "stream",
     "text": [
      "100%|█████████████████████████████████████████████████████████████████████████████| 2010/2010 [00:05<00:00, 381.02it/s]\n",
      "  3%|██                                                                             | 51/2010 [00:00<00:03, 497.32it/s]"
     ]
    },
    {
     "name": "stdout",
     "output_type": "stream",
     "text": [
      "episode : 161 reward : 264.80787763239334\n",
      "total test reward=114.99328485455028\n"
     ]
    },
    {
     "name": "stderr",
     "output_type": "stream",
     "text": [
      "100%|█████████████████████████████████████████████████████████████████████████████| 2010/2010 [00:04<00:00, 422.07it/s]\n",
      "  3%|██                                                                             | 51/2010 [00:00<00:03, 501.64it/s]"
     ]
    },
    {
     "name": "stdout",
     "output_type": "stream",
     "text": [
      "episode : 162 reward : -37.101253866542095\n",
      "total test reward=263.2601839721048\n"
     ]
    },
    {
     "name": "stderr",
     "output_type": "stream",
     "text": [
      "100%|█████████████████████████████████████████████████████████████████████████████| 2010/2010 [00:05<00:00, 362.76it/s]\n",
      "  3%|██▏                                                                            | 56/2010 [00:00<00:03, 556.13it/s]"
     ]
    },
    {
     "name": "stdout",
     "output_type": "stream",
     "text": [
      "episode : 163 reward : 163.65190872053387\n",
      "total test reward=206.8688271361146\n"
     ]
    },
    {
     "name": "stderr",
     "output_type": "stream",
     "text": [
      "100%|█████████████████████████████████████████████████████████████████████████████| 2010/2010 [00:05<00:00, 392.65it/s]\n",
      "  5%|████                                                                          | 104/2010 [00:00<00:03, 518.38it/s]"
     ]
    },
    {
     "name": "stdout",
     "output_type": "stream",
     "text": [
      "episode : 164 reward : 235.71257884189208\n",
      "total test reward=264.1363911219563\n"
     ]
    },
    {
     "name": "stderr",
     "output_type": "stream",
     "text": [
      "100%|█████████████████████████████████████████████████████████████████████████████| 2010/2010 [00:04<00:00, 436.15it/s]\n",
      "  3%|██                                                                             | 54/2010 [00:00<00:03, 539.27it/s]"
     ]
    },
    {
     "name": "stdout",
     "output_type": "stream",
     "text": [
      "episode : 165 reward : 261.2650083372048\n",
      "total test reward=253.68506248327216\n"
     ]
    },
    {
     "name": "stderr",
     "output_type": "stream",
     "text": [
      "100%|█████████████████████████████████████████████████████████████████████████████| 2010/2010 [00:04<00:00, 424.92it/s]\n",
      "  5%|███▉                                                                           | 99/2010 [00:00<00:03, 504.75it/s]"
     ]
    },
    {
     "name": "stdout",
     "output_type": "stream",
     "text": [
      "episode : 166 reward : 211.58796165156957\n",
      "total test reward=257.9876388692996\n"
     ]
    },
    {
     "name": "stderr",
     "output_type": "stream",
     "text": [
      "100%|█████████████████████████████████████████████████████████████████████████████| 2010/2010 [00:04<00:00, 405.23it/s]\n",
      "  3%|██▏                                                                            | 55/2010 [00:00<00:03, 540.83it/s]"
     ]
    },
    {
     "name": "stdout",
     "output_type": "stream",
     "text": [
      "episode : 167 reward : 238.8735289556657\n",
      "total test reward=262.6835776100405\n"
     ]
    },
    {
     "name": "stderr",
     "output_type": "stream",
     "text": [
      "100%|█████████████████████████████████████████████████████████████████████████████| 2010/2010 [00:05<00:00, 399.70it/s]\n",
      "  2%|█▍                                                                             | 38/2010 [00:00<00:05, 369.92it/s]"
     ]
    },
    {
     "name": "stdout",
     "output_type": "stream",
     "text": [
      "episode : 168 reward : 245.89622327984355\n",
      "total test reward=216.8097559549527\n"
     ]
    },
    {
     "name": "stderr",
     "output_type": "stream",
     "text": [
      "100%|█████████████████████████████████████████████████████████████████████████████| 2010/2010 [00:05<00:00, 384.69it/s]\n",
      "  4%|███▍                                                                           | 86/2010 [00:00<00:04, 426.34it/s]"
     ]
    },
    {
     "name": "stdout",
     "output_type": "stream",
     "text": [
      "episode : 169 reward : 268.16569076008165\n",
      "total test reward=258.6180445778592\n"
     ]
    },
    {
     "name": "stderr",
     "output_type": "stream",
     "text": [
      "100%|█████████████████████████████████████████████████████████████████████████████| 2010/2010 [00:04<00:00, 417.18it/s]\n",
      "  2%|█▉                                                                             | 50/2010 [00:00<00:03, 496.33it/s]"
     ]
    },
    {
     "name": "stdout",
     "output_type": "stream",
     "text": [
      "episode : 170 reward : 270.6049575276985\n",
      "total test reward=179.90795408239896\n"
     ]
    },
    {
     "name": "stderr",
     "output_type": "stream",
     "text": [
      "100%|█████████████████████████████████████████████████████████████████████████████| 2010/2010 [00:04<00:00, 441.78it/s]\n",
      "  3%|██▏                                                                            | 56/2010 [00:00<00:03, 550.49it/s]"
     ]
    },
    {
     "name": "stdout",
     "output_type": "stream",
     "text": [
      "episode : 171 reward : 210.95109859826584\n",
      "total test reward=258.98963749780796\n"
     ]
    },
    {
     "name": "stderr",
     "output_type": "stream",
     "text": [
      "100%|█████████████████████████████████████████████████████████████████████████████| 2010/2010 [00:05<00:00, 394.63it/s]\n",
      "  5%|███▉                                                                           | 99/2010 [00:00<00:03, 501.59it/s]"
     ]
    },
    {
     "name": "stdout",
     "output_type": "stream",
     "text": [
      "episode : 172 reward : 241.38196297542913\n",
      "total test reward=250.2746560197681\n"
     ]
    },
    {
     "name": "stderr",
     "output_type": "stream",
     "text": [
      "100%|█████████████████████████████████████████████████████████████████████████████| 2010/2010 [00:05<00:00, 394.27it/s]\n",
      "  2%|█▉                                                                             | 50/2010 [00:00<00:03, 496.53it/s]"
     ]
    },
    {
     "name": "stdout",
     "output_type": "stream",
     "text": [
      "episode : 173 reward : -52.70609086113651\n",
      "total test reward=220.48449416880595\n"
     ]
    },
    {
     "name": "stderr",
     "output_type": "stream",
     "text": [
      "100%|█████████████████████████████████████████████████████████████████████████████| 2010/2010 [00:05<00:00, 366.55it/s]\n",
      "  3%|██                                                                             | 51/2010 [00:00<00:03, 506.30it/s]"
     ]
    },
    {
     "name": "stdout",
     "output_type": "stream",
     "text": [
      "episode : 174 reward : 245.6513413413813\n",
      "total test reward=212.1029994208303\n"
     ]
    },
    {
     "name": "stderr",
     "output_type": "stream",
     "text": [
      "100%|█████████████████████████████████████████████████████████████████████████████| 2010/2010 [00:06<00:00, 302.93it/s]\n",
      "  2%|█▉                                                                             | 50/2010 [00:00<00:03, 491.51it/s]"
     ]
    },
    {
     "name": "stdout",
     "output_type": "stream",
     "text": [
      "episode : 175 reward : 153.56829318615578\n",
      "total test reward=213.96586798795073\n"
     ]
    },
    {
     "name": "stderr",
     "output_type": "stream",
     "text": [
      "100%|█████████████████████████████████████████████████████████████████████████████| 2010/2010 [00:05<00:00, 381.30it/s]\n",
      "  2%|█▉                                                                             | 50/2010 [00:00<00:03, 493.88it/s]"
     ]
    },
    {
     "name": "stdout",
     "output_type": "stream",
     "text": [
      "episode : 176 reward : 177.0516838175947\n",
      "total test reward=267.6554979796566\n"
     ]
    },
    {
     "name": "stderr",
     "output_type": "stream",
     "text": [
      "100%|█████████████████████████████████████████████████████████████████████████████| 2010/2010 [00:04<00:00, 411.57it/s]\n",
      "  2%|█▉                                                                             | 49/2010 [00:00<00:04, 481.58it/s]"
     ]
    },
    {
     "name": "stdout",
     "output_type": "stream",
     "text": [
      "episode : 177 reward : 275.19560581211556\n",
      "total test reward=270.39244868145454\n"
     ]
    },
    {
     "name": "stderr",
     "output_type": "stream",
     "text": [
      "100%|█████████████████████████████████████████████████████████████████████████████| 2010/2010 [00:04<00:00, 406.26it/s]\n",
      "  2%|█▊                                                                             | 47/2010 [00:00<00:04, 468.16it/s]"
     ]
    },
    {
     "name": "stdout",
     "output_type": "stream",
     "text": [
      "episode : 178 reward : 211.60172032826068\n",
      "total test reward=267.46136932517066\n"
     ]
    },
    {
     "name": "stderr",
     "output_type": "stream",
     "text": [
      "100%|█████████████████████████████████████████████████████████████████████████████| 2010/2010 [00:04<00:00, 407.86it/s]\n",
      "  2%|█▉                                                                             | 50/2010 [00:00<00:03, 491.35it/s]"
     ]
    },
    {
     "name": "stdout",
     "output_type": "stream",
     "text": [
      "episode : 179 reward : 114.94543838980101\n",
      "total test reward=258.5733303376413\n"
     ]
    },
    {
     "name": "stderr",
     "output_type": "stream",
     "text": [
      "100%|█████████████████████████████████████████████████████████████████████████████| 2010/2010 [00:04<00:00, 407.84it/s]\n",
      "  2%|█▉                                                                             | 50/2010 [00:00<00:03, 498.63it/s]"
     ]
    },
    {
     "name": "stdout",
     "output_type": "stream",
     "text": [
      "episode : 180 reward : -109.13378327616535\n",
      "total test reward=147.52418555662967\n"
     ]
    },
    {
     "name": "stderr",
     "output_type": "stream",
     "text": [
      "100%|█████████████████████████████████████████████████████████████████████████████| 2010/2010 [00:04<00:00, 406.34it/s]\n",
      "  3%|██                                                                             | 53/2010 [00:00<00:03, 525.83it/s]"
     ]
    },
    {
     "name": "stdout",
     "output_type": "stream",
     "text": [
      "episode : 181 reward : 268.76128638019446\n",
      "total test reward=206.95452254150024\n"
     ]
    },
    {
     "name": "stderr",
     "output_type": "stream",
     "text": [
      "100%|█████████████████████████████████████████████████████████████████████████████| 2010/2010 [00:04<00:00, 450.82it/s]\n",
      "  2%|█▉                                                                             | 50/2010 [00:00<00:03, 491.51it/s]"
     ]
    },
    {
     "name": "stdout",
     "output_type": "stream",
     "text": [
      "episode : 182 reward : 147.13587165065732\n",
      "total test reward=247.19049221967913\n"
     ]
    },
    {
     "name": "stderr",
     "output_type": "stream",
     "text": [
      "100%|█████████████████████████████████████████████████████████████████████████████| 2010/2010 [00:04<00:00, 427.30it/s]\n",
      "  2%|█▋                                                                             | 44/2010 [00:00<00:04, 434.72it/s]"
     ]
    },
    {
     "name": "stdout",
     "output_type": "stream",
     "text": [
      "episode : 183 reward : 269.3773853901312\n",
      "total test reward=227.67748322242784\n"
     ]
    },
    {
     "name": "stderr",
     "output_type": "stream",
     "text": [
      "100%|█████████████████████████████████████████████████████████████████████████████| 2010/2010 [00:04<00:00, 425.33it/s]\n",
      "  5%|███▊                                                                           | 97/2010 [00:00<00:03, 488.66it/s]"
     ]
    },
    {
     "name": "stdout",
     "output_type": "stream",
     "text": [
      "episode : 184 reward : 234.55224577015485\n",
      "total test reward=237.3283214477514\n"
     ]
    },
    {
     "name": "stderr",
     "output_type": "stream",
     "text": [
      "100%|█████████████████████████████████████████████████████████████████████████████| 2010/2010 [00:04<00:00, 417.74it/s]\n",
      "  2%|█▉                                                                             | 50/2010 [00:00<00:03, 499.73it/s]"
     ]
    },
    {
     "name": "stdout",
     "output_type": "stream",
     "text": [
      "episode : 185 reward : 300.803888691063\n",
      "total test reward=267.65508870503123\n"
     ]
    },
    {
     "name": "stderr",
     "output_type": "stream",
     "text": [
      "100%|█████████████████████████████████████████████████████████████████████████████| 2010/2010 [00:04<00:00, 410.11it/s]\n",
      "  3%|██                                                                             | 51/2010 [00:00<00:03, 501.14it/s]"
     ]
    },
    {
     "name": "stdout",
     "output_type": "stream",
     "text": [
      "episode : 186 reward : 115.46988005264402\n",
      "total test reward=260.161975803978\n"
     ]
    },
    {
     "name": "stderr",
     "output_type": "stream",
     "text": [
      "100%|█████████████████████████████████████████████████████████████████████████████| 2010/2010 [00:04<00:00, 415.39it/s]\n",
      "  3%|██                                                                             | 53/2010 [00:00<00:03, 523.86it/s]"
     ]
    },
    {
     "name": "stdout",
     "output_type": "stream",
     "text": [
      "episode : 187 reward : 295.01355378951325\n",
      "total test reward=278.5932453020879\n"
     ]
    },
    {
     "name": "stderr",
     "output_type": "stream",
     "text": [
      "100%|█████████████████████████████████████████████████████████████████████████████| 2010/2010 [00:04<00:00, 425.09it/s]\n",
      "  2%|█▉                                                                             | 49/2010 [00:00<00:04, 484.68it/s]"
     ]
    },
    {
     "name": "stdout",
     "output_type": "stream",
     "text": [
      "episode : 188 reward : 296.4245476143617\n",
      "total test reward=262.509196037613\n"
     ]
    },
    {
     "name": "stderr",
     "output_type": "stream",
     "text": [
      "100%|█████████████████████████████████████████████████████████████████████████████| 2010/2010 [00:04<00:00, 435.43it/s]\n",
      "  2%|█▎                                                                             | 34/2010 [00:00<00:05, 334.23it/s]"
     ]
    },
    {
     "name": "stdout",
     "output_type": "stream",
     "text": [
      "episode : 189 reward : 256.5225628419546\n",
      "total test reward=243.79819475703803\n"
     ]
    },
    {
     "name": "stderr",
     "output_type": "stream",
     "text": [
      "100%|█████████████████████████████████████████████████████████████████████████████| 2010/2010 [00:04<00:00, 433.84it/s]\n",
      "  3%|██                                                                             | 53/2010 [00:00<00:03, 526.16it/s]"
     ]
    },
    {
     "name": "stdout",
     "output_type": "stream",
     "text": [
      "episode : 190 reward : 204.2216821723394\n",
      "total test reward=231.48964013210804\n"
     ]
    },
    {
     "name": "stderr",
     "output_type": "stream",
     "text": [
      "100%|█████████████████████████████████████████████████████████████████████████████| 2010/2010 [00:04<00:00, 442.45it/s]\n",
      "  2%|█▉                                                                             | 50/2010 [00:00<00:03, 495.70it/s]"
     ]
    },
    {
     "name": "stdout",
     "output_type": "stream",
     "text": [
      "episode : 191 reward : 235.89837876203012\n",
      "total test reward=262.3485678256217\n"
     ]
    },
    {
     "name": "stderr",
     "output_type": "stream",
     "text": [
      "100%|█████████████████████████████████████████████████████████████████████████████| 2010/2010 [00:04<00:00, 440.28it/s]\n",
      "  3%|██                                                                             | 52/2010 [00:00<00:03, 518.71it/s]"
     ]
    },
    {
     "name": "stdout",
     "output_type": "stream",
     "text": [
      "episode : 192 reward : 289.313901507034\n",
      "total test reward=267.1321865147882\n"
     ]
    },
    {
     "name": "stderr",
     "output_type": "stream",
     "text": [
      "100%|█████████████████████████████████████████████████████████████████████████████| 2010/2010 [00:04<00:00, 435.58it/s]\n",
      "  3%|██                                                                             | 51/2010 [00:00<00:03, 503.13it/s]"
     ]
    },
    {
     "name": "stdout",
     "output_type": "stream",
     "text": [
      "episode : 193 reward : 291.2502916819405\n",
      "total test reward=249.53073544153918\n"
     ]
    },
    {
     "name": "stderr",
     "output_type": "stream",
     "text": [
      "100%|█████████████████████████████████████████████████████████████████████████████| 2010/2010 [00:04<00:00, 423.85it/s]\n",
      "  2%|█▋                                                                             | 43/2010 [00:00<00:04, 424.77it/s]"
     ]
    },
    {
     "name": "stdout",
     "output_type": "stream",
     "text": [
      "episode : 194 reward : 126.23825330349786\n",
      "total test reward=206.46578775427514\n"
     ]
    },
    {
     "name": "stderr",
     "output_type": "stream",
     "text": [
      "100%|█████████████████████████████████████████████████████████████████████████████| 2010/2010 [00:05<00:00, 376.93it/s]\n",
      "  3%|██                                                                             | 51/2010 [00:00<00:03, 506.24it/s]"
     ]
    },
    {
     "name": "stdout",
     "output_type": "stream",
     "text": [
      "episode : 195 reward : 251.80755793295404\n",
      "total test reward=269.0117102277789\n"
     ]
    },
    {
     "name": "stderr",
     "output_type": "stream",
     "text": [
      "100%|█████████████████████████████████████████████████████████████████████████████| 2010/2010 [00:04<00:00, 431.97it/s]\n",
      "  3%|██                                                                             | 51/2010 [00:00<00:03, 506.31it/s]"
     ]
    },
    {
     "name": "stdout",
     "output_type": "stream",
     "text": [
      "episode : 196 reward : 156.2186439274192\n",
      "total test reward=270.0721361806757\n"
     ]
    },
    {
     "name": "stderr",
     "output_type": "stream",
     "text": [
      "100%|█████████████████████████████████████████████████████████████████████████████| 2010/2010 [00:04<00:00, 443.33it/s]\n",
      "  2%|█▊                                                                             | 47/2010 [00:00<00:04, 467.01it/s]"
     ]
    },
    {
     "name": "stdout",
     "output_type": "stream",
     "text": [
      "episode : 197 reward : 259.17583451822355\n",
      "total test reward=273.58867824413954\n"
     ]
    },
    {
     "name": "stderr",
     "output_type": "stream",
     "text": [
      "100%|█████████████████████████████████████████████████████████████████████████████| 2010/2010 [00:04<00:00, 431.76it/s]\n",
      "  2%|█▊                                                                             | 47/2010 [00:00<00:04, 469.68it/s]"
     ]
    },
    {
     "name": "stdout",
     "output_type": "stream",
     "text": [
      "episode : 198 reward : 253.26003244355067\n",
      "total test reward=265.1347792360291\n"
     ]
    },
    {
     "name": "stderr",
     "output_type": "stream",
     "text": [
      "100%|█████████████████████████████████████████████████████████████████████████████| 2010/2010 [00:04<00:00, 427.16it/s]\n",
      "  3%|██                                                                             | 53/2010 [00:00<00:03, 524.74it/s]"
     ]
    },
    {
     "name": "stdout",
     "output_type": "stream",
     "text": [
      "episode : 199 reward : 271.23933183743975\n",
      "total test reward=274.32173259164585\n"
     ]
    },
    {
     "name": "stderr",
     "output_type": "stream",
     "text": [
      "100%|█████████████████████████████████████████████████████████████████████████████| 2010/2010 [00:04<00:00, 434.69it/s]\n",
      "  3%|██                                                                             | 52/2010 [00:00<00:03, 516.54it/s]"
     ]
    },
    {
     "name": "stdout",
     "output_type": "stream",
     "text": [
      "episode : 200 reward : 304.0573526074279\n",
      "total test reward=254.26706677006206\n"
     ]
    },
    {
     "name": "stderr",
     "output_type": "stream",
     "text": [
      "100%|█████████████████████████████████████████████████████████████████████████████| 2010/2010 [00:04<00:00, 432.36it/s]\n",
      "  3%|██▏                                                                            | 55/2010 [00:00<00:03, 540.66it/s]"
     ]
    },
    {
     "name": "stdout",
     "output_type": "stream",
     "text": [
      "episode : 201 reward : 307.94488596093424\n",
      "total test reward=273.6864145587101\n"
     ]
    },
    {
     "name": "stderr",
     "output_type": "stream",
     "text": [
      "100%|█████████████████████████████████████████████████████████████████████████████| 2010/2010 [00:04<00:00, 422.46it/s]\n",
      "  2%|█▉                                                                             | 50/2010 [00:00<00:03, 491.51it/s]"
     ]
    },
    {
     "name": "stdout",
     "output_type": "stream",
     "text": [
      "episode : 202 reward : 257.4726763255734\n",
      "total test reward=262.9343312609008\n"
     ]
    },
    {
     "name": "stderr",
     "output_type": "stream",
     "text": [
      "100%|█████████████████████████████████████████████████████████████████████████████| 2010/2010 [00:04<00:00, 435.26it/s]\n",
      "  2%|█▉                                                                             | 50/2010 [00:00<00:03, 495.77it/s]"
     ]
    },
    {
     "name": "stdout",
     "output_type": "stream",
     "text": [
      "episode : 203 reward : 247.32052629862676\n",
      "total test reward=253.2452777161253\n"
     ]
    },
    {
     "name": "stderr",
     "output_type": "stream",
     "text": [
      "100%|█████████████████████████████████████████████████████████████████████████████| 2010/2010 [00:04<00:00, 442.27it/s]\n",
      "  2%|█▊                                                                             | 47/2010 [00:00<00:04, 456.50it/s]"
     ]
    },
    {
     "name": "stdout",
     "output_type": "stream",
     "text": [
      "episode : 204 reward : -35.27241407135904\n",
      "total test reward=273.3624105878383\n"
     ]
    },
    {
     "name": "stderr",
     "output_type": "stream",
     "text": [
      "100%|█████████████████████████████████████████████████████████████████████████████| 2010/2010 [00:04<00:00, 418.48it/s]\n",
      "  5%|███▉                                                                           | 99/2010 [00:00<00:03, 491.88it/s]"
     ]
    },
    {
     "name": "stdout",
     "output_type": "stream",
     "text": [
      "episode : 205 reward : 241.3979189048332\n",
      "total test reward=234.47026804596834\n"
     ]
    },
    {
     "name": "stderr",
     "output_type": "stream",
     "text": [
      "100%|█████████████████████████████████████████████████████████████████████████████| 2010/2010 [00:04<00:00, 415.50it/s]\n",
      "  2%|█▉                                                                             | 48/2010 [00:00<00:04, 473.04it/s]"
     ]
    },
    {
     "name": "stdout",
     "output_type": "stream",
     "text": [
      "episode : 206 reward : 270.55574827805407\n",
      "total test reward=267.94871926603844\n"
     ]
    },
    {
     "name": "stderr",
     "output_type": "stream",
     "text": [
      "100%|█████████████████████████████████████████████████████████████████████████████| 2010/2010 [00:04<00:00, 424.01it/s]\n",
      "  4%|███▍                                                                           | 86/2010 [00:00<00:04, 428.67it/s]"
     ]
    },
    {
     "name": "stdout",
     "output_type": "stream",
     "text": [
      "episode : 207 reward : 255.01943094525927\n",
      "total test reward=274.3324192056615\n"
     ]
    },
    {
     "name": "stderr",
     "output_type": "stream",
     "text": [
      "100%|█████████████████████████████████████████████████████████████████████████████| 2010/2010 [00:04<00:00, 423.70it/s]\n",
      "  2%|█▋                                                                             | 43/2010 [00:00<00:04, 424.97it/s]"
     ]
    },
    {
     "name": "stdout",
     "output_type": "stream",
     "text": [
      "episode : 208 reward : 120.90622781234939\n",
      "total test reward=242.40740225312464\n"
     ]
    },
    {
     "name": "stderr",
     "output_type": "stream",
     "text": [
      "100%|█████████████████████████████████████████████████████████████████████████████| 2010/2010 [00:04<00:00, 426.67it/s]\n",
      "  2%|█▉                                                                             | 50/2010 [00:00<00:03, 491.62it/s]"
     ]
    },
    {
     "name": "stdout",
     "output_type": "stream",
     "text": [
      "episode : 209 reward : 306.037429953842\n",
      "total test reward=240.02636113162052\n"
     ]
    },
    {
     "name": "stderr",
     "output_type": "stream",
     "text": [
      "100%|█████████████████████████████████████████████████████████████████████████████| 2010/2010 [00:04<00:00, 437.52it/s]\n",
      "  2%|█▉                                                                             | 50/2010 [00:00<00:03, 492.60it/s]"
     ]
    },
    {
     "name": "stdout",
     "output_type": "stream",
     "text": [
      "episode : 210 reward : 284.35615713230675\n",
      "total test reward=268.8723125117329\n"
     ]
    },
    {
     "name": "stderr",
     "output_type": "stream",
     "text": [
      "100%|█████████████████████████████████████████████████████████████████████████████| 2010/2010 [00:04<00:00, 430.77it/s]\n",
      "  5%|███▊                                                                           | 96/2010 [00:00<00:03, 485.58it/s]"
     ]
    },
    {
     "name": "stdout",
     "output_type": "stream",
     "text": [
      "episode : 211 reward : 213.88650836472465\n",
      "total test reward=260.496106478388\n"
     ]
    },
    {
     "name": "stderr",
     "output_type": "stream",
     "text": [
      "100%|█████████████████████████████████████████████████████████████████████████████| 2010/2010 [00:04<00:00, 416.85it/s]\n",
      "  3%|██                                                                             | 52/2010 [00:00<00:03, 511.21it/s]"
     ]
    },
    {
     "name": "stdout",
     "output_type": "stream",
     "text": [
      "episode : 212 reward : 272.5194107314461\n",
      "total test reward=281.4829823862355\n"
     ]
    },
    {
     "name": "stderr",
     "output_type": "stream",
     "text": [
      "100%|█████████████████████████████████████████████████████████████████████████████| 2010/2010 [00:05<00:00, 394.82it/s]\n",
      "C:\\Users\\irfan\\.conda\\envs\\tf\\lib\\site-packages\\gym\\envs\\box2d\\lunar_lander.py:250: RuntimeWarning: invalid value encountered in greater\n",
      "  if (self.continuous and action[0] > 0.0) or (not self.continuous and action==2):\n",
      "C:\\Users\\irfan\\.conda\\envs\\tf\\lib\\site-packages\\gym\\envs\\box2d\\lunar_lander.py:265: RuntimeWarning: invalid value encountered in greater\n",
      "  if (self.continuous and np.abs(action[1]) > 0.5) or (not self.continuous and action in [1,3]):\n",
      "  3%|██▏                                                                            | 55/2010 [00:00<00:03, 540.66it/s]"
     ]
    },
    {
     "name": "stdout",
     "output_type": "stream",
     "text": [
      "episode : 213 reward : -134.06459793031135\n",
      "total test reward=-23.801002918408596\n"
     ]
    },
    {
     "name": "stderr",
     "output_type": "stream",
     "text": [
      "100%|█████████████████████████████████████████████████████████████████████████████| 2010/2010 [00:03<00:00, 511.04it/s]\n",
      "  3%|██                                                                             | 51/2010 [00:00<00:03, 506.31it/s]"
     ]
    },
    {
     "name": "stdout",
     "output_type": "stream",
     "text": [
      "episode : 214 reward : -15.795702623251827\n",
      "total test reward=-52.10318044980338\n"
     ]
    },
    {
     "name": "stderr",
     "output_type": "stream",
     "text": [
      "100%|█████████████████████████████████████████████████████████████████████████████| 2010/2010 [00:03<00:00, 504.62it/s]\n",
      "  3%|██                                                                             | 53/2010 [00:00<00:03, 520.84it/s]"
     ]
    },
    {
     "name": "stdout",
     "output_type": "stream",
     "text": [
      "episode : 215 reward : -20.22172225548519\n",
      "total test reward=-35.70162870308379\n"
     ]
    },
    {
     "name": "stderr",
     "output_type": "stream",
     "text": [
      "100%|█████████████████████████████████████████████████████████████████████████████| 2010/2010 [00:03<00:00, 509.89it/s]\n",
      "  3%|██                                                                             | 51/2010 [00:00<00:03, 506.68it/s]"
     ]
    },
    {
     "name": "stdout",
     "output_type": "stream",
     "text": [
      "episode : 216 reward : 2.443271745536407\n",
      "total test reward=-10.235142197642938\n"
     ]
    },
    {
     "name": "stderr",
     "output_type": "stream",
     "text": [
      "100%|█████████████████████████████████████████████████████████████████████████████| 2010/2010 [00:03<00:00, 506.57it/s]\n",
      "  3%|██                                                                             | 52/2010 [00:00<00:03, 516.23it/s]"
     ]
    },
    {
     "name": "stdout",
     "output_type": "stream",
     "text": [
      "episode : 217 reward : -70.36273510605116\n",
      "total test reward=-40.207834235284224\n"
     ]
    },
    {
     "name": "stderr",
     "output_type": "stream",
     "text": [
      "100%|█████████████████████████████████████████████████████████████████████████████| 2010/2010 [00:03<00:00, 506.96it/s]\n",
      "  3%|██                                                                             | 53/2010 [00:00<00:03, 519.76it/s]"
     ]
    },
    {
     "name": "stdout",
     "output_type": "stream",
     "text": [
      "episode : 218 reward : -19.51032218683997\n",
      "total test reward=-35.00059746367649\n"
     ]
    },
    {
     "name": "stderr",
     "output_type": "stream",
     "text": [
      "100%|█████████████████████████████████████████████████████████████████████████████| 2010/2010 [00:03<00:00, 509.80it/s]\n",
      "  2%|█▉                                                                             | 49/2010 [00:00<00:04, 486.69it/s]"
     ]
    },
    {
     "name": "stdout",
     "output_type": "stream",
     "text": [
      "episode : 219 reward : -67.8005239584615\n",
      "total test reward=-29.368460797609792\n"
     ]
    },
    {
     "name": "stderr",
     "output_type": "stream",
     "text": [
      "100%|█████████████████████████████████████████████████████████████████████████████| 2010/2010 [00:03<00:00, 521.86it/s]\n",
      "  3%|██                                                                             | 54/2010 [00:00<00:03, 536.08it/s]"
     ]
    },
    {
     "name": "stdout",
     "output_type": "stream",
     "text": [
      "episode : 220 reward : -12.776485086496507\n",
      "total test reward=-34.60335662448572\n"
     ]
    },
    {
     "name": "stderr",
     "output_type": "stream",
     "text": [
      "100%|█████████████████████████████████████████████████████████████████████████████| 2010/2010 [00:03<00:00, 514.13it/s]\n",
      "  3%|██                                                                             | 52/2010 [00:00<00:03, 511.17it/s]"
     ]
    },
    {
     "name": "stdout",
     "output_type": "stream",
     "text": [
      "episode : 221 reward : -14.37062807598565\n",
      "total test reward=-35.44169744154347\n"
     ]
    },
    {
     "name": "stderr",
     "output_type": "stream",
     "text": [
      "100%|█████████████████████████████████████████████████████████████████████████████| 2010/2010 [00:04<00:00, 500.32it/s]\n",
      "  2%|█▊                                                                             | 46/2010 [00:00<00:04, 452.19it/s]"
     ]
    },
    {
     "name": "stdout",
     "output_type": "stream",
     "text": [
      "episode : 222 reward : -76.92524559462876\n",
      "total test reward=-46.0618213864888\n"
     ]
    },
    {
     "name": "stderr",
     "output_type": "stream",
     "text": [
      "100%|█████████████████████████████████████████████████████████████████████████████| 2010/2010 [00:03<00:00, 516.75it/s]\n",
      "  2%|█▋                                                                             | 44/2010 [00:00<00:04, 436.70it/s]"
     ]
    },
    {
     "name": "stdout",
     "output_type": "stream",
     "text": [
      "episode : 223 reward : -60.42767384702677\n",
      "total test reward=-10.580881804025305\n"
     ]
    },
    {
     "name": "stderr",
     "output_type": "stream",
     "text": [
      "100%|█████████████████████████████████████████████████████████████████████████████| 2010/2010 [00:03<00:00, 511.15it/s]\n",
      "  2%|█▊                                                                             | 47/2010 [00:00<00:04, 466.60it/s]"
     ]
    },
    {
     "name": "stdout",
     "output_type": "stream",
     "text": [
      "episode : 224 reward : -42.225630233543285\n",
      "total test reward=-37.692307287595284\n"
     ]
    },
    {
     "name": "stderr",
     "output_type": "stream",
     "text": [
      "100%|█████████████████████████████████████████████████████████████████████████████| 2010/2010 [00:03<00:00, 503.71it/s]\n",
      "  5%|████▏                                                                         | 108/2010 [00:00<00:03, 530.59it/s]"
     ]
    },
    {
     "name": "stdout",
     "output_type": "stream",
     "text": [
      "episode : 225 reward : -45.3165701382803\n",
      "total test reward=-20.299538568274887\n"
     ]
    },
    {
     "name": "stderr",
     "output_type": "stream",
     "text": [
      "100%|█████████████████████████████████████████████████████████████████████████████| 2010/2010 [00:03<00:00, 508.95it/s]\n",
      "  2%|█▊                                                                             | 47/2010 [00:00<00:04, 462.01it/s]"
     ]
    },
    {
     "name": "stdout",
     "output_type": "stream",
     "text": [
      "episode : 226 reward : -40.91842581386726\n",
      "total test reward=-39.70107130729718\n"
     ]
    },
    {
     "name": "stderr",
     "output_type": "stream",
     "text": [
      "100%|█████████████████████████████████████████████████████████████████████████████| 2010/2010 [00:03<00:00, 507.29it/s]\n",
      "  3%|██                                                                             | 52/2010 [00:00<00:03, 516.23it/s]"
     ]
    },
    {
     "name": "stdout",
     "output_type": "stream",
     "text": [
      "episode : 227 reward : -2.4581531150614353\n",
      "total test reward=-25.282386566250857\n"
     ]
    },
    {
     "name": "stderr",
     "output_type": "stream",
     "text": [
      "100%|█████████████████████████████████████████████████████████████████████████████| 2010/2010 [00:04<00:00, 501.71it/s]\n",
      "  3%|██                                                                             | 52/2010 [00:00<00:03, 516.23it/s]"
     ]
    },
    {
     "name": "stdout",
     "output_type": "stream",
     "text": [
      "episode : 228 reward : -26.188661704080857\n",
      "total test reward=-39.908751090395775\n"
     ]
    },
    {
     "name": "stderr",
     "output_type": "stream",
     "text": [
      "100%|█████████████████████████████████████████████████████████████████████████████| 2010/2010 [00:04<00:00, 472.81it/s]\n",
      "  3%|██                                                                             | 53/2010 [00:00<00:03, 519.40it/s]"
     ]
    },
    {
     "name": "stdout",
     "output_type": "stream",
     "text": [
      "episode : 229 reward : 1.5215143223975645\n",
      "total test reward=-9.547034391102518\n"
     ]
    },
    {
     "name": "stderr",
     "output_type": "stream",
     "text": [
      "100%|█████████████████████████████████████████████████████████████████████████████| 2010/2010 [00:03<00:00, 515.41it/s]\n",
      "  6%|████▎                                                                         | 111/2010 [00:00<00:03, 558.12it/s]"
     ]
    },
    {
     "name": "stdout",
     "output_type": "stream",
     "text": [
      "episode : 230 reward : 13.487576840435509\n",
      "total test reward=-48.67713240779556\n"
     ]
    },
    {
     "name": "stderr",
     "output_type": "stream",
     "text": [
      "100%|█████████████████████████████████████████████████████████████████████████████| 2010/2010 [00:04<00:00, 502.35it/s]\n",
      "  3%|██▏                                                                            | 56/2010 [00:00<00:03, 550.48it/s]"
     ]
    },
    {
     "name": "stdout",
     "output_type": "stream",
     "text": [
      "episode : 231 reward : -61.502286968575135\n",
      "total test reward=-84.63761815330143\n"
     ]
    },
    {
     "name": "stderr",
     "output_type": "stream",
     "text": [
      "100%|█████████████████████████████████████████████████████████████████████████████| 2010/2010 [00:03<00:00, 512.87it/s]\n",
      "  2%|█▊                                                                             | 45/2010 [00:00<00:04, 446.89it/s]"
     ]
    },
    {
     "name": "stdout",
     "output_type": "stream",
     "text": [
      "episode : 232 reward : -55.539389152246656\n",
      "total test reward=-51.03755706609603\n"
     ]
    },
    {
     "name": "stderr",
     "output_type": "stream",
     "text": [
      "100%|█████████████████████████████████████████████████████████████████████████████| 2010/2010 [00:04<00:00, 501.57it/s]\n",
      "  3%|██                                                                             | 53/2010 [00:00<00:03, 526.16it/s]"
     ]
    },
    {
     "name": "stdout",
     "output_type": "stream",
     "text": [
      "episode : 233 reward : -56.89171111038394\n",
      "total test reward=-24.47507543614476\n"
     ]
    },
    {
     "name": "stderr",
     "output_type": "stream",
     "text": [
      "100%|█████████████████████████████████████████████████████████████████████████████| 2010/2010 [00:03<00:00, 511.73it/s]\n",
      "  2%|█▊                                                                             | 47/2010 [00:00<00:04, 468.96it/s]"
     ]
    },
    {
     "name": "stdout",
     "output_type": "stream",
     "text": [
      "episode : 234 reward : -22.586298510878322\n",
      "total test reward=-43.36734160328867\n"
     ]
    },
    {
     "name": "stderr",
     "output_type": "stream",
     "text": [
      "100%|█████████████████████████████████████████████████████████████████████████████| 2010/2010 [00:03<00:00, 508.34it/s]\n",
      "  3%|██                                                                             | 52/2010 [00:00<00:03, 510.87it/s]"
     ]
    },
    {
     "name": "stdout",
     "output_type": "stream",
     "text": [
      "episode : 235 reward : -20.54830084031579\n",
      "total test reward=-26.81095129785612\n"
     ]
    },
    {
     "name": "stderr",
     "output_type": "stream",
     "text": [
      "100%|█████████████████████████████████████████████████████████████████████████████| 2010/2010 [00:04<00:00, 498.82it/s]\n",
      "  3%|██                                                                             | 51/2010 [00:00<00:03, 506.20it/s]"
     ]
    },
    {
     "name": "stdout",
     "output_type": "stream",
     "text": [
      "episode : 236 reward : -21.451208792169552\n",
      "total test reward=-54.29825130387767\n"
     ]
    },
    {
     "name": "stderr",
     "output_type": "stream",
     "text": [
      "100%|█████████████████████████████████████████████████████████████████████████████| 2010/2010 [00:03<00:00, 512.95it/s]\n",
      "  3%|██                                                                             | 51/2010 [00:00<00:03, 505.59it/s]"
     ]
    },
    {
     "name": "stdout",
     "output_type": "stream",
     "text": [
      "episode : 237 reward : -64.08635458843679\n",
      "total test reward=-47.9281180792163\n"
     ]
    },
    {
     "name": "stderr",
     "output_type": "stream",
     "text": [
      "100%|█████████████████████████████████████████████████████████████████████████████| 2010/2010 [00:04<00:00, 493.48it/s]\n",
      "  3%|██▏                                                                            | 57/2010 [00:00<00:03, 560.32it/s]"
     ]
    },
    {
     "name": "stdout",
     "output_type": "stream",
     "text": [
      "episode : 238 reward : -29.86671411942399\n",
      "total test reward=-19.195862327591858\n"
     ]
    },
    {
     "name": "stderr",
     "output_type": "stream",
     "text": [
      "100%|█████████████████████████████████████████████████████████████████████████████| 2010/2010 [00:03<00:00, 507.36it/s]\n",
      "  3%|██▏                                                                            | 57/2010 [00:00<00:03, 560.32it/s]"
     ]
    },
    {
     "name": "stdout",
     "output_type": "stream",
     "text": [
      "episode : 239 reward : 9.802036495309068\n",
      "total test reward=4.2937394327324565\n"
     ]
    },
    {
     "name": "stderr",
     "output_type": "stream",
     "text": [
      "100%|█████████████████████████████████████████████████████████████████████████████| 2010/2010 [00:03<00:00, 505.03it/s]\n",
      "  3%|██▏                                                                            | 55/2010 [00:00<00:03, 545.57it/s]"
     ]
    },
    {
     "name": "stdout",
     "output_type": "stream",
     "text": [
      "episode : 240 reward : -33.08593248168074\n",
      "total test reward=-41.86817519346714\n"
     ]
    },
    {
     "name": "stderr",
     "output_type": "stream",
     "text": [
      "100%|█████████████████████████████████████████████████████████████████████████████| 2010/2010 [00:03<00:00, 514.70it/s]\n",
      "  3%|██▏                                                                            | 55/2010 [00:00<00:03, 544.66it/s]"
     ]
    },
    {
     "name": "stdout",
     "output_type": "stream",
     "text": [
      "episode : 241 reward : -49.46825724017074\n",
      "total test reward=-54.406961379791554\n"
     ]
    },
    {
     "name": "stderr",
     "output_type": "stream",
     "text": [
      "100%|█████████████████████████████████████████████████████████████████████████████| 2010/2010 [00:03<00:00, 509.17it/s]\n",
      "  3%|██▏                                                                            | 57/2010 [00:00<00:03, 559.93it/s]"
     ]
    },
    {
     "name": "stdout",
     "output_type": "stream",
     "text": [
      "episode : 242 reward : -35.97217718405133\n",
      "total test reward=-28.5952612246221\n"
     ]
    },
    {
     "name": "stderr",
     "output_type": "stream",
     "text": [
      "100%|█████████████████████████████████████████████████████████████████████████████| 2010/2010 [00:03<00:00, 514.31it/s]\n",
      "  2%|█▉                                                                             | 50/2010 [00:00<00:03, 496.37it/s]"
     ]
    },
    {
     "name": "stdout",
     "output_type": "stream",
     "text": [
      "episode : 243 reward : -25.933035506101902\n",
      "total test reward=-31.19743612241907\n"
     ]
    },
    {
     "name": "stderr",
     "output_type": "stream",
     "text": [
      "100%|█████████████████████████████████████████████████████████████████████████████| 2010/2010 [00:04<00:00, 499.66it/s]\n",
      "  5%|███▊                                                                           | 98/2010 [00:00<00:03, 490.19it/s]"
     ]
    },
    {
     "name": "stdout",
     "output_type": "stream",
     "text": [
      "episode : 244 reward : -46.100849376861675\n",
      "total test reward=-39.0968173080535\n"
     ]
    },
    {
     "name": "stderr",
     "output_type": "stream",
     "text": [
      "100%|█████████████████████████████████████████████████████████████████████████████| 2010/2010 [00:04<00:00, 502.10it/s]\n",
      "  2%|█▉                                                                             | 49/2010 [00:00<00:04, 486.54it/s]"
     ]
    },
    {
     "name": "stdout",
     "output_type": "stream",
     "text": [
      "episode : 245 reward : -58.1043261924068\n",
      "total test reward=-18.30355076549278\n"
     ]
    },
    {
     "name": "stderr",
     "output_type": "stream",
     "text": [
      "100%|█████████████████████████████████████████████████████████████████████████████| 2010/2010 [00:03<00:00, 504.54it/s]\n",
      "  3%|██                                                                             | 52/2010 [00:00<00:03, 516.23it/s]"
     ]
    },
    {
     "name": "stdout",
     "output_type": "stream",
     "text": [
      "episode : 246 reward : -20.466229745637293\n",
      "total test reward=-29.60130798449877\n"
     ]
    },
    {
     "name": "stderr",
     "output_type": "stream",
     "text": [
      "100%|█████████████████████████████████████████████████████████████████████████████| 2010/2010 [00:03<00:00, 511.97it/s]\n",
      "  3%|██                                                                             | 53/2010 [00:00<00:03, 521.23it/s]"
     ]
    },
    {
     "name": "stdout",
     "output_type": "stream",
     "text": [
      "episode : 247 reward : -21.312445399752534\n",
      "total test reward=-26.784788087677498\n"
     ]
    },
    {
     "name": "stderr",
     "output_type": "stream",
     "text": [
      "100%|█████████████████████████████████████████████████████████████████████████████| 2010/2010 [00:04<00:00, 501.82it/s]\n",
      "  3%|██▏                                                                            | 56/2010 [00:00<00:03, 551.03it/s]"
     ]
    },
    {
     "name": "stdout",
     "output_type": "stream",
     "text": [
      "episode : 248 reward : -22.590329303369373\n",
      "total test reward=-36.42626753343609\n"
     ]
    },
    {
     "name": "stderr",
     "output_type": "stream",
     "text": [
      "100%|█████████████████████████████████████████████████████████████████████████████| 2010/2010 [00:03<00:00, 508.34it/s]\n",
      "  5%|████▎                                                                         | 110/2010 [00:00<00:03, 547.28it/s]"
     ]
    },
    {
     "name": "stdout",
     "output_type": "stream",
     "text": [
      "episode : 249 reward : -20.398594028883622\n",
      "total test reward=-45.8702493047202\n"
     ]
    },
    {
     "name": "stderr",
     "output_type": "stream",
     "text": [
      "100%|█████████████████████████████████████████████████████████████████████████████| 2010/2010 [00:03<00:00, 511.02it/s]\n",
      "  3%|██▏                                                                            | 55/2010 [00:00<00:03, 546.00it/s]"
     ]
    },
    {
     "name": "stdout",
     "output_type": "stream",
     "text": [
      "episode : 250 reward : -30.58598108424144\n",
      "total test reward=-30.8282508222059\n"
     ]
    },
    {
     "name": "stderr",
     "output_type": "stream",
     "text": [
      "100%|█████████████████████████████████████████████████████████████████████████████| 2010/2010 [00:03<00:00, 509.45it/s]\n",
      "  3%|██▏                                                                            | 56/2010 [00:00<00:03, 556.30it/s]"
     ]
    },
    {
     "name": "stdout",
     "output_type": "stream",
     "text": [
      "episode : 251 reward : -69.24680187618478\n",
      "total test reward=-29.68094877201035\n"
     ]
    },
    {
     "name": "stderr",
     "output_type": "stream",
     "text": [
      "100%|█████████████████████████████████████████████████████████████████████████████| 2010/2010 [00:03<00:00, 516.65it/s]\n",
      "  3%|██                                                                             | 53/2010 [00:00<00:03, 526.34it/s]"
     ]
    },
    {
     "name": "stdout",
     "output_type": "stream",
     "text": [
      "episode : 252 reward : -35.44515423953342\n",
      "total test reward=-19.217128618285425\n"
     ]
    },
    {
     "name": "stderr",
     "output_type": "stream",
     "text": [
      "100%|█████████████████████████████████████████████████████████████████████████████| 2010/2010 [00:03<00:00, 508.96it/s]\n",
      "  3%|██                                                                             | 51/2010 [00:00<00:03, 501.28it/s]"
     ]
    },
    {
     "name": "stdout",
     "output_type": "stream",
     "text": [
      "episode : 253 reward : -37.847699228841975\n",
      "total test reward=-49.192365662294\n"
     ]
    },
    {
     "name": "stderr",
     "output_type": "stream",
     "text": [
      "100%|█████████████████████████████████████████████████████████████████████████████| 2010/2010 [00:04<00:00, 500.12it/s]\n",
      "  5%|████                                                                          | 106/2010 [00:00<00:03, 539.39it/s]"
     ]
    },
    {
     "name": "stdout",
     "output_type": "stream",
     "text": [
      "episode : 254 reward : -19.394577269424957\n",
      "total test reward=-27.339510912840996\n"
     ]
    },
    {
     "name": "stderr",
     "output_type": "stream",
     "text": [
      "100%|█████████████████████████████████████████████████████████████████████████████| 2010/2010 [00:03<00:00, 514.14it/s]\n",
      "  3%|██▏                                                                            | 57/2010 [00:00<00:03, 565.86it/s]"
     ]
    },
    {
     "name": "stdout",
     "output_type": "stream",
     "text": [
      "episode : 255 reward : -49.204657340646435\n",
      "total test reward=-66.0810456125774\n"
     ]
    },
    {
     "name": "stderr",
     "output_type": "stream",
     "text": [
      "100%|█████████████████████████████████████████████████████████████████████████████| 2010/2010 [00:03<00:00, 514.07it/s]\n",
      "  3%|██                                                                             | 52/2010 [00:00<00:03, 515.90it/s]"
     ]
    },
    {
     "name": "stdout",
     "output_type": "stream",
     "text": [
      "episode : 256 reward : -30.006546773573177\n",
      "total test reward=-45.64770066756486\n"
     ]
    },
    {
     "name": "stderr",
     "output_type": "stream",
     "text": [
      "100%|█████████████████████████████████████████████████████████████████████████████| 2010/2010 [00:03<00:00, 505.04it/s]\n",
      "  3%|██                                                                             | 54/2010 [00:00<00:03, 534.02it/s]"
     ]
    },
    {
     "name": "stdout",
     "output_type": "stream",
     "text": [
      "episode : 257 reward : -54.39944661870055\n",
      "total test reward=-42.35894298256256\n"
     ]
    },
    {
     "name": "stderr",
     "output_type": "stream",
     "text": [
      "100%|█████████████████████████████████████████████████████████████████████████████| 2010/2010 [00:03<00:00, 516.03it/s]\n",
      "  3%|██                                                                             | 53/2010 [00:00<00:03, 519.83it/s]"
     ]
    },
    {
     "name": "stdout",
     "output_type": "stream",
     "text": [
      "episode : 258 reward : -18.335283634128785\n",
      "total test reward=-18.320428131015483\n"
     ]
    },
    {
     "name": "stderr",
     "output_type": "stream",
     "text": [
      "100%|█████████████████████████████████████████████████████████████████████████████| 2010/2010 [00:03<00:00, 505.57it/s]\n",
      "  3%|██▎                                                                            | 59/2010 [00:00<00:03, 585.71it/s]"
     ]
    },
    {
     "name": "stdout",
     "output_type": "stream",
     "text": [
      "episode : 259 reward : -106.50938442744558\n",
      "total test reward=-44.84468501458307\n"
     ]
    },
    {
     "name": "stderr",
     "output_type": "stream",
     "text": [
      "100%|█████████████████████████████████████████████████████████████████████████████| 2010/2010 [00:03<00:00, 512.48it/s]\n",
      "  3%|██                                                                             | 52/2010 [00:00<00:03, 514.53it/s]"
     ]
    },
    {
     "name": "stdout",
     "output_type": "stream",
     "text": [
      "episode : 260 reward : -30.72656369047479\n",
      "total test reward=-48.98574561861159\n"
     ]
    },
    {
     "name": "stderr",
     "output_type": "stream",
     "text": [
      "100%|█████████████████████████████████████████████████████████████████████████████| 2010/2010 [00:03<00:00, 511.62it/s]\n",
      "  3%|██▏                                                                            | 56/2010 [00:00<00:03, 553.29it/s]"
     ]
    },
    {
     "name": "stdout",
     "output_type": "stream",
     "text": [
      "episode : 261 reward : 4.9538322030231825\n",
      "total test reward=-21.94301083572223\n"
     ]
    },
    {
     "name": "stderr",
     "output_type": "stream",
     "text": [
      "100%|█████████████████████████████████████████████████████████████████████████████| 2010/2010 [00:03<00:00, 505.37it/s]\n",
      "  3%|██                                                                             | 52/2010 [00:00<00:03, 516.23it/s]"
     ]
    },
    {
     "name": "stdout",
     "output_type": "stream",
     "text": [
      "episode : 262 reward : -81.40089974353424\n",
      "total test reward=-30.357539310995854\n"
     ]
    },
    {
     "name": "stderr",
     "output_type": "stream",
     "text": [
      "100%|█████████████████████████████████████████████████████████████████████████████| 2010/2010 [00:03<00:00, 511.58it/s]\n",
      "  3%|██                                                                             | 52/2010 [00:00<00:03, 511.33it/s]"
     ]
    },
    {
     "name": "stdout",
     "output_type": "stream",
     "text": [
      "episode : 263 reward : -24.78871206430415\n",
      "total test reward=-15.739814277721115\n"
     ]
    },
    {
     "name": "stderr",
     "output_type": "stream",
     "text": [
      "100%|█████████████████████████████████████████████████████████████████████████████| 2010/2010 [00:04<00:00, 501.85it/s]\n",
      "  3%|██▏                                                                            | 56/2010 [00:00<00:03, 551.42it/s]"
     ]
    },
    {
     "name": "stdout",
     "output_type": "stream",
     "text": [
      "episode : 264 reward : 1.3921160381690925\n",
      "total test reward=-8.896871056007939\n"
     ]
    },
    {
     "name": "stderr",
     "output_type": "stream",
     "text": [
      "100%|█████████████████████████████████████████████████████████████████████████████| 2010/2010 [00:03<00:00, 504.86it/s]\n",
      "  3%|██                                                                             | 53/2010 [00:00<00:03, 525.44it/s]"
     ]
    },
    {
     "name": "stdout",
     "output_type": "stream",
     "text": [
      "episode : 265 reward : -86.54893568972341\n",
      "total test reward=-56.1233972371361\n"
     ]
    },
    {
     "name": "stderr",
     "output_type": "stream",
     "text": [
      "100%|█████████████████████████████████████████████████████████████████████████████| 2010/2010 [00:03<00:00, 509.09it/s]\n",
      "  3%|██                                                                             | 53/2010 [00:00<00:03, 529.76it/s]"
     ]
    },
    {
     "name": "stdout",
     "output_type": "stream",
     "text": [
      "episode : 266 reward : -12.793564388507463\n",
      "total test reward=-33.20456305698636\n"
     ]
    },
    {
     "name": "stderr",
     "output_type": "stream",
     "text": [
      "100%|█████████████████████████████████████████████████████████████████████████████| 2010/2010 [00:04<00:00, 492.90it/s]\n",
      "  3%|██▏                                                                            | 55/2010 [00:00<00:03, 546.01it/s]"
     ]
    },
    {
     "name": "stdout",
     "output_type": "stream",
     "text": [
      "episode : 267 reward : -12.028443660443543\n",
      "total test reward=-30.042814757040958\n"
     ]
    },
    {
     "name": "stderr",
     "output_type": "stream",
     "text": [
      "100%|█████████████████████████████████████████████████████████████████████████████| 2010/2010 [00:03<00:00, 508.94it/s]\n",
      "  2%|█▋                                                                             | 43/2010 [00:00<00:04, 426.74it/s]"
     ]
    },
    {
     "name": "stdout",
     "output_type": "stream",
     "text": [
      "episode : 268 reward : -12.236936546618779\n",
      "total test reward=-47.70088521642922\n"
     ]
    },
    {
     "name": "stderr",
     "output_type": "stream",
     "text": [
      "100%|█████████████████████████████████████████████████████████████████████████████| 2010/2010 [00:03<00:00, 509.90it/s]\n",
      "  2%|█▉                                                                             | 50/2010 [00:00<00:03, 491.50it/s]"
     ]
    },
    {
     "name": "stdout",
     "output_type": "stream",
     "text": [
      "episode : 269 reward : -41.158758111639116\n",
      "total test reward=-43.829556762192006\n"
     ]
    },
    {
     "name": "stderr",
     "output_type": "stream",
     "text": [
      "100%|█████████████████████████████████████████████████████████████████████████████| 2010/2010 [00:03<00:00, 514.51it/s]\n",
      "  5%|████                                                                          | 104/2010 [00:00<00:03, 524.51it/s]"
     ]
    },
    {
     "name": "stdout",
     "output_type": "stream",
     "text": [
      "episode : 270 reward : -23.283495525609652\n",
      "total test reward=-34.336613990562554\n"
     ]
    },
    {
     "name": "stderr",
     "output_type": "stream",
     "text": [
      "100%|█████████████████████████████████████████████████████████████████████████████| 2010/2010 [00:03<00:00, 515.18it/s]\n",
      "  3%|██▎                                                                            | 58/2010 [00:00<00:03, 570.01it/s]"
     ]
    },
    {
     "name": "stdout",
     "output_type": "stream",
     "text": [
      "episode : 271 reward : -19.252609181619107\n",
      "total test reward=-23.7726555177132\n"
     ]
    },
    {
     "name": "stderr",
     "output_type": "stream",
     "text": [
      "100%|█████████████████████████████████████████████████████████████████████████████| 2010/2010 [00:03<00:00, 507.48it/s]\n",
      "  6%|████▎                                                                         | 111/2010 [00:00<00:03, 558.87it/s]"
     ]
    },
    {
     "name": "stdout",
     "output_type": "stream",
     "text": [
      "episode : 272 reward : -42.645211937125566\n",
      "total test reward=-44.96805373019027\n"
     ]
    },
    {
     "name": "stderr",
     "output_type": "stream",
     "text": [
      "100%|█████████████████████████████████████████████████████████████████████████████| 2010/2010 [00:04<00:00, 501.19it/s]\n",
      "  3%|██▏                                                                            | 55/2010 [00:00<00:03, 546.01it/s]"
     ]
    },
    {
     "name": "stdout",
     "output_type": "stream",
     "text": [
      "episode : 273 reward : -19.810956720689063\n",
      "total test reward=-53.41879761749533\n"
     ]
    },
    {
     "name": "stderr",
     "output_type": "stream",
     "text": [
      "100%|█████████████████████████████████████████████████████████████████████████████| 2010/2010 [00:04<00:00, 494.30it/s]\n",
      "  3%|██                                                                             | 54/2010 [00:00<00:03, 530.64it/s]"
     ]
    },
    {
     "name": "stdout",
     "output_type": "stream",
     "text": [
      "episode : 274 reward : -77.17049070872781\n",
      "total test reward=-46.36266467651223\n"
     ]
    },
    {
     "name": "stderr",
     "output_type": "stream",
     "text": [
      "100%|█████████████████████████████████████████████████████████████████████████████| 2010/2010 [00:03<00:00, 511.93it/s]\n",
      "  3%|██                                                                             | 51/2010 [00:00<00:03, 509.42it/s]"
     ]
    },
    {
     "name": "stdout",
     "output_type": "stream",
     "text": [
      "episode : 275 reward : -11.606739094290333\n",
      "total test reward=-44.336488600766785\n"
     ]
    },
    {
     "name": "stderr",
     "output_type": "stream",
     "text": [
      "100%|█████████████████████████████████████████████████████████████████████████████| 2010/2010 [00:05<00:00, 356.75it/s]\n",
      "  2%|█▎                                                                             | 34/2010 [00:00<00:05, 337.53it/s]"
     ]
    },
    {
     "name": "stdout",
     "output_type": "stream",
     "text": [
      "episode : 276 reward : 5.01332104502012\n",
      "total test reward=-27.650726316772374\n"
     ]
    },
    {
     "name": "stderr",
     "output_type": "stream",
     "text": [
      "100%|█████████████████████████████████████████████████████████████████████████████| 2010/2010 [00:04<00:00, 489.36it/s]\n",
      "  3%|██▎                                                                            | 58/2010 [00:00<00:03, 575.79it/s]"
     ]
    },
    {
     "name": "stdout",
     "output_type": "stream",
     "text": [
      "episode : 277 reward : 65.8777774591565\n",
      "total test reward=-39.125217013256474\n"
     ]
    },
    {
     "name": "stderr",
     "output_type": "stream",
     "text": [
      "100%|█████████████████████████████████████████████████████████████████████████████| 2010/2010 [00:04<00:00, 497.75it/s]\n",
      "  6%|████▋                                                                         | 120/2010 [00:00<00:03, 599.34it/s]"
     ]
    },
    {
     "name": "stdout",
     "output_type": "stream",
     "text": [
      "episode : 278 reward : -30.51387893834942\n",
      "total test reward=-20.955114630408\n"
     ]
    },
    {
     "name": "stderr",
     "output_type": "stream",
     "text": [
      "100%|█████████████████████████████████████████████████████████████████████████████| 2010/2010 [00:03<00:00, 535.71it/s]\n",
      "  6%|████▍                                                                         | 114/2010 [00:00<00:03, 569.76it/s]"
     ]
    },
    {
     "name": "stdout",
     "output_type": "stream",
     "text": [
      "episode : 279 reward : -25.118319886865947\n",
      "total test reward=-36.731983631735105\n"
     ]
    },
    {
     "name": "stderr",
     "output_type": "stream",
     "text": [
      "100%|█████████████████████████████████████████████████████████████████████████████| 2010/2010 [00:03<00:00, 569.96it/s]\n",
      "  6%|████▍                                                                         | 113/2010 [00:00<00:03, 564.66it/s]"
     ]
    },
    {
     "name": "stdout",
     "output_type": "stream",
     "text": [
      "episode : 280 reward : -49.15811702073685\n",
      "total test reward=-39.67673470972306\n"
     ]
    },
    {
     "name": "stderr",
     "output_type": "stream",
     "text": [
      "100%|█████████████████████████████████████████████████████████████████████████████| 2010/2010 [00:03<00:00, 529.53it/s]\n",
      "  3%|██▍                                                                            | 61/2010 [00:00<00:03, 605.58it/s]"
     ]
    },
    {
     "name": "stdout",
     "output_type": "stream",
     "text": [
      "episode : 281 reward : -53.25574368211477\n",
      "total test reward=-54.53463472600678\n"
     ]
    },
    {
     "name": "stderr",
     "output_type": "stream",
     "text": [
      "100%|█████████████████████████████████████████████████████████████████████████████| 2010/2010 [00:03<00:00, 565.00it/s]\n",
      "  3%|██▎                                                                            | 60/2010 [00:00<00:03, 595.84it/s]"
     ]
    },
    {
     "name": "stdout",
     "output_type": "stream",
     "text": [
      "episode : 282 reward : -12.237158428986646\n",
      "total test reward=-14.516596581574357\n"
     ]
    },
    {
     "name": "stderr",
     "output_type": "stream",
     "text": [
      "100%|█████████████████████████████████████████████████████████████████████████████| 2010/2010 [00:03<00:00, 546.92it/s]\n",
      "  3%|██▍                                                                            | 62/2010 [00:00<00:03, 615.30it/s]"
     ]
    },
    {
     "name": "stdout",
     "output_type": "stream",
     "text": [
      "episode : 283 reward : -28.116020395592216\n",
      "total test reward=-83.58678864094665\n"
     ]
    },
    {
     "name": "stderr",
     "output_type": "stream",
     "text": [
      "100%|█████████████████████████████████████████████████████████████████████████████| 2010/2010 [00:03<00:00, 551.40it/s]\n",
      "  5%|███▋                                                                           | 95/2010 [00:00<00:03, 483.27it/s]"
     ]
    },
    {
     "name": "stdout",
     "output_type": "stream",
     "text": [
      "episode : 284 reward : -16.10934955608795\n",
      "total test reward=-39.70310516165817\n"
     ]
    },
    {
     "name": "stderr",
     "output_type": "stream",
     "text": [
      "100%|█████████████████████████████████████████████████████████████████████████████| 2010/2010 [00:04<00:00, 488.96it/s]\n",
      "  2%|█▍                                                                             | 36/2010 [00:00<00:05, 356.92it/s]"
     ]
    },
    {
     "name": "stdout",
     "output_type": "stream",
     "text": [
      "episode : 285 reward : -48.05142804033247\n",
      "total test reward=-20.8607340688314\n"
     ]
    },
    {
     "name": "stderr",
     "output_type": "stream",
     "text": [
      "100%|█████████████████████████████████████████████████████████████████████████████| 2010/2010 [00:04<00:00, 484.09it/s]\n",
      "  2%|█▉                                                                             | 49/2010 [00:00<00:04, 482.73it/s]"
     ]
    },
    {
     "name": "stdout",
     "output_type": "stream",
     "text": [
      "episode : 286 reward : -46.12001644678378\n",
      "total test reward=-44.21010007767368\n"
     ]
    },
    {
     "name": "stderr",
     "output_type": "stream",
     "text": [
      "100%|█████████████████████████████████████████████████████████████████████████████| 2010/2010 [00:03<00:00, 510.37it/s]\n",
      "  3%|██▏                                                                            | 56/2010 [00:00<00:03, 552.39it/s]"
     ]
    },
    {
     "name": "stdout",
     "output_type": "stream",
     "text": [
      "episode : 287 reward : -13.515961213570733\n",
      "total test reward=-54.70931252388957\n"
     ]
    },
    {
     "name": "stderr",
     "output_type": "stream",
     "text": [
      "100%|█████████████████████████████████████████████████████████████████████████████| 2010/2010 [00:03<00:00, 515.22it/s]\n",
      "  6%|████▎                                                                         | 112/2010 [00:00<00:03, 564.66it/s]"
     ]
    },
    {
     "name": "stdout",
     "output_type": "stream",
     "text": [
      "episode : 288 reward : -54.50257341304507\n",
      "total test reward=-41.73429562045477\n"
     ]
    },
    {
     "name": "stderr",
     "output_type": "stream",
     "text": [
      "100%|█████████████████████████████████████████████████████████████████████████████| 2010/2010 [00:04<00:00, 494.73it/s]\n",
      "  3%|██▎                                                                            | 59/2010 [00:00<00:03, 585.72it/s]"
     ]
    },
    {
     "name": "stdout",
     "output_type": "stream",
     "text": [
      "episode : 289 reward : -57.63576400810683\n",
      "total test reward=-77.45134527855002\n"
     ]
    },
    {
     "name": "stderr",
     "output_type": "stream",
     "text": [
      "100%|█████████████████████████████████████████████████████████████████████████████| 2010/2010 [00:03<00:00, 509.82it/s]\n",
      "  2%|█▊                                                                             | 46/2010 [00:00<00:04, 452.19it/s]"
     ]
    },
    {
     "name": "stdout",
     "output_type": "stream",
     "text": [
      "episode : 290 reward : -50.194048416900046\n",
      "total test reward=-47.145038772226066\n"
     ]
    },
    {
     "name": "stderr",
     "output_type": "stream",
     "text": [
      "100%|█████████████████████████████████████████████████████████████████████████████| 2010/2010 [00:04<00:00, 478.86it/s]\n",
      "  2%|█▉                                                                             | 49/2010 [00:00<00:04, 487.33it/s]"
     ]
    },
    {
     "name": "stdout",
     "output_type": "stream",
     "text": [
      "episode : 291 reward : -71.25681430373635\n",
      "total test reward=-44.97231392357104\n"
     ]
    },
    {
     "name": "stderr",
     "output_type": "stream",
     "text": [
      "100%|█████████████████████████████████████████████████████████████████████████████| 2010/2010 [00:04<00:00, 469.84it/s]\n",
      "  3%|██▎                                                                            | 60/2010 [00:00<00:03, 588.41it/s]"
     ]
    },
    {
     "name": "stdout",
     "output_type": "stream",
     "text": [
      "episode : 292 reward : -35.18514000085483\n",
      "total test reward=-33.11127415833575\n"
     ]
    },
    {
     "name": "stderr",
     "output_type": "stream",
     "text": [
      "100%|█████████████████████████████████████████████████████████████████████████████| 2010/2010 [00:04<00:00, 499.13it/s]\n",
      "  2%|█▉                                                                             | 48/2010 [00:00<00:04, 471.84it/s]"
     ]
    },
    {
     "name": "stdout",
     "output_type": "stream",
     "text": [
      "episode : 293 reward : 66.59446195975283\n",
      "total test reward=-41.32052663729359\n"
     ]
    },
    {
     "name": "stderr",
     "output_type": "stream",
     "text": [
      "100%|█████████████████████████████████████████████████████████████████████████████| 2010/2010 [00:04<00:00, 483.06it/s]\n",
      "  3%|██▎                                                                            | 58/2010 [00:00<00:03, 574.44it/s]"
     ]
    },
    {
     "name": "stdout",
     "output_type": "stream",
     "text": [
      "episode : 294 reward : -62.134839808930224\n",
      "total test reward=-47.97491319519614\n"
     ]
    },
    {
     "name": "stderr",
     "output_type": "stream",
     "text": [
      "100%|█████████████████████████████████████████████████████████████████████████████| 2010/2010 [00:03<00:00, 543.10it/s]\n",
      "  3%|██▎                                                                            | 60/2010 [00:00<00:03, 595.26it/s]"
     ]
    },
    {
     "name": "stdout",
     "output_type": "stream",
     "text": [
      "episode : 295 reward : -23.556802774045735\n",
      "total test reward=-40.270116292336475\n"
     ]
    },
    {
     "name": "stderr",
     "output_type": "stream",
     "text": [
      "100%|█████████████████████████████████████████████████████████████████████████████| 2010/2010 [00:03<00:00, 557.55it/s]\n",
      "  3%|██▏                                                                            | 56/2010 [00:00<00:03, 550.48it/s]"
     ]
    },
    {
     "name": "stdout",
     "output_type": "stream",
     "text": [
      "episode : 296 reward : -261.63094488477884\n",
      "total test reward=-4.935359553840522\n"
     ]
    },
    {
     "name": "stderr",
     "output_type": "stream",
     "text": [
      "100%|█████████████████████████████████████████████████████████████████████████████| 2010/2010 [00:03<00:00, 538.30it/s]\n",
      "  5%|████▎                                                                         | 110/2010 [00:00<00:03, 548.16it/s]"
     ]
    },
    {
     "name": "stdout",
     "output_type": "stream",
     "text": [
      "episode : 297 reward : -49.108100200519004\n",
      "total test reward=-34.32907480930837\n"
     ]
    },
    {
     "name": "stderr",
     "output_type": "stream",
     "text": [
      "100%|█████████████████████████████████████████████████████████████████████████████| 2010/2010 [00:03<00:00, 537.29it/s]\n",
      "  3%|██                                                                             | 53/2010 [00:00<00:03, 521.00it/s]"
     ]
    },
    {
     "name": "stdout",
     "output_type": "stream",
     "text": [
      "episode : 298 reward : 39.68747204460274\n",
      "total test reward=-86.02077738043471\n"
     ]
    },
    {
     "name": "stderr",
     "output_type": "stream",
     "text": [
      "100%|█████████████████████████████████████████████████████████████████████████████| 2010/2010 [00:03<00:00, 532.89it/s]\n",
      "  3%|██                                                                             | 53/2010 [00:00<00:03, 520.99it/s]"
     ]
    },
    {
     "name": "stdout",
     "output_type": "stream",
     "text": [
      "episode : 299 reward : -6.204141266202129\n",
      "total test reward=-37.907055552480315\n"
     ]
    },
    {
     "name": "stderr",
     "output_type": "stream",
     "text": [
      "100%|█████████████████████████████████████████████████████████████████████████████| 2010/2010 [00:04<00:00, 487.01it/s]\n",
      "  3%|██                                                                             | 54/2010 [00:00<00:03, 536.15it/s]"
     ]
    },
    {
     "name": "stdout",
     "output_type": "stream",
     "text": [
      "episode : 300 reward : -29.712712041254775\n",
      "total test reward=-49.285335486738894\n"
     ]
    },
    {
     "name": "stderr",
     "output_type": "stream",
     "text": [
      "100%|█████████████████████████████████████████████████████████████████████████████| 2010/2010 [00:03<00:00, 556.16it/s]\n",
      "  5%|████▏                                                                         | 107/2010 [00:00<00:03, 525.62it/s]"
     ]
    },
    {
     "name": "stdout",
     "output_type": "stream",
     "text": [
      "episode : 301 reward : -53.36736632043372\n",
      "total test reward=-8.79096981466254\n"
     ]
    },
    {
     "name": "stderr",
     "output_type": "stream",
     "text": [
      "100%|█████████████████████████████████████████████████████████████████████████████| 2010/2010 [00:03<00:00, 545.04it/s]\n",
      "  2%|█▋                                                                             | 43/2010 [00:00<00:04, 426.87it/s]"
     ]
    },
    {
     "name": "stdout",
     "output_type": "stream",
     "text": [
      "episode : 302 reward : -59.717321723578266\n",
      "total test reward=-37.069540864922544\n"
     ]
    },
    {
     "name": "stderr",
     "output_type": "stream",
     "text": [
      "100%|█████████████████████████████████████████████████████████████████████████████| 2010/2010 [00:04<00:00, 456.38it/s]\n",
      "  3%|██                                                                             | 54/2010 [00:00<00:03, 536.07it/s]"
     ]
    },
    {
     "name": "stdout",
     "output_type": "stream",
     "text": [
      "episode : 303 reward : -20.731594943161696\n",
      "total test reward=-39.801111303523804\n"
     ]
    },
    {
     "name": "stderr",
     "output_type": "stream",
     "text": [
      "100%|█████████████████████████████████████████████████████████████████████████████| 2010/2010 [00:03<00:00, 513.28it/s]\n",
      "  3%|██                                                                             | 54/2010 [00:00<00:03, 530.66it/s]"
     ]
    },
    {
     "name": "stdout",
     "output_type": "stream",
     "text": [
      "episode : 304 reward : -76.38343776154065\n",
      "total test reward=-29.384053842012882\n"
     ]
    },
    {
     "name": "stderr",
     "output_type": "stream",
     "text": [
      "100%|█████████████████████████████████████████████████████████████████████████████| 2010/2010 [00:03<00:00, 505.98it/s]\n",
      "  2%|█▉                                                                             | 48/2010 [00:00<00:04, 478.47it/s]"
     ]
    },
    {
     "name": "stdout",
     "output_type": "stream",
     "text": [
      "episode : 305 reward : -32.66145977200128\n",
      "total test reward=-13.379775734485673\n"
     ]
    },
    {
     "name": "stderr",
     "output_type": "stream",
     "text": [
      "100%|█████████████████████████████████████████████████████████████████████████████| 2010/2010 [00:04<00:00, 445.69it/s]\n",
      "  1%|▊                                                                              | 21/2010 [00:00<00:09, 202.46it/s]"
     ]
    },
    {
     "name": "stdout",
     "output_type": "stream",
     "text": [
      "episode : 306 reward : -95.16322329528919\n",
      "total test reward=-27.42369631743158\n"
     ]
    },
    {
     "name": "stderr",
     "output_type": "stream",
     "text": [
      "100%|█████████████████████████████████████████████████████████████████████████████| 2010/2010 [00:06<00:00, 315.41it/s]\n",
      "  2%|█▍                                                                             | 38/2010 [00:00<00:05, 368.09it/s]"
     ]
    },
    {
     "name": "stdout",
     "output_type": "stream",
     "text": [
      "episode : 307 reward : -30.186430026729397\n",
      "total test reward=-37.199245429356\n"
     ]
    },
    {
     "name": "stderr",
     "output_type": "stream",
     "text": [
      "100%|█████████████████████████████████████████████████████████████████████████████| 2010/2010 [00:05<00:00, 392.04it/s]\n",
      "  2%|█▉                                                                             | 48/2010 [00:00<00:04, 476.05it/s]"
     ]
    },
    {
     "name": "stdout",
     "output_type": "stream",
     "text": [
      "episode : 308 reward : -8.046533816295636\n",
      "total test reward=-3.5802962987802713\n"
     ]
    },
    {
     "name": "stderr",
     "output_type": "stream",
     "text": [
      "100%|█████████████████████████████████████████████████████████████████████████████| 2010/2010 [00:04<00:00, 473.24it/s]\n",
      "  2%|█▊                                                                             | 47/2010 [00:00<00:04, 468.91it/s]"
     ]
    },
    {
     "name": "stdout",
     "output_type": "stream",
     "text": [
      "episode : 309 reward : -44.79745903050252\n",
      "total test reward=-1.6979516921733535\n"
     ]
    },
    {
     "name": "stderr",
     "output_type": "stream",
     "text": [
      "100%|█████████████████████████████████████████████████████████████████████████████| 2010/2010 [00:04<00:00, 460.62it/s]\n",
      "  2%|█▉                                                                             | 50/2010 [00:00<00:03, 494.01it/s]"
     ]
    },
    {
     "name": "stdout",
     "output_type": "stream",
     "text": [
      "episode : 310 reward : -9.838216511841864\n",
      "total test reward=-31.77319490083911\n"
     ]
    },
    {
     "name": "stderr",
     "output_type": "stream",
     "text": [
      "100%|█████████████████████████████████████████████████████████████████████████████| 2010/2010 [00:04<00:00, 435.48it/s]\n",
      "  2%|█▊                                                                             | 46/2010 [00:00<00:04, 458.83it/s]"
     ]
    },
    {
     "name": "stdout",
     "output_type": "stream",
     "text": [
      "episode : 311 reward : -115.80815165381637\n",
      "total test reward=-38.86710915198461\n"
     ]
    },
    {
     "name": "stderr",
     "output_type": "stream",
     "text": [
      "100%|█████████████████████████████████████████████████████████████████████████████| 2010/2010 [00:04<00:00, 460.69it/s]\n",
      "  2%|█▉                                                                             | 49/2010 [00:00<00:04, 483.99it/s]"
     ]
    },
    {
     "name": "stdout",
     "output_type": "stream",
     "text": [
      "episode : 312 reward : -29.981867366452462\n",
      "total test reward=-32.65658514106005\n"
     ]
    },
    {
     "name": "stderr",
     "output_type": "stream",
     "text": [
      "100%|█████████████████████████████████████████████████████████████████████████████| 2010/2010 [00:04<00:00, 448.64it/s]\n",
      "  1%|█▏                                                                             | 30/2010 [00:00<00:06, 293.40it/s]"
     ]
    },
    {
     "name": "stdout",
     "output_type": "stream",
     "text": [
      "episode : 313 reward : -36.494506576768\n",
      "total test reward=-32.755199261502696\n"
     ]
    },
    {
     "name": "stderr",
     "output_type": "stream",
     "text": [
      "100%|█████████████████████████████████████████████████████████████████████████████| 2010/2010 [00:04<00:00, 453.61it/s]\n",
      "  2%|█▎                                                                             | 32/2010 [00:00<00:06, 305.58it/s]"
     ]
    },
    {
     "name": "stdout",
     "output_type": "stream",
     "text": [
      "episode : 314 reward : -4.595768746758097\n",
      "total test reward=-9.599572426586217\n"
     ]
    },
    {
     "name": "stderr",
     "output_type": "stream",
     "text": [
      "100%|█████████████████████████████████████████████████████████████████████████████| 2010/2010 [00:04<00:00, 444.73it/s]\n",
      "  2%|█▊                                                                             | 46/2010 [00:00<00:04, 452.19it/s]"
     ]
    },
    {
     "name": "stdout",
     "output_type": "stream",
     "text": [
      "episode : 315 reward : -42.1761266504831\n",
      "total test reward=-47.17848099095941\n"
     ]
    },
    {
     "name": "stderr",
     "output_type": "stream",
     "text": [
      "100%|█████████████████████████████████████████████████████████████████████████████| 2010/2010 [00:04<00:00, 432.03it/s]\n",
      "  2%|█▍                                                                             | 38/2010 [00:00<00:05, 373.37it/s]"
     ]
    },
    {
     "name": "stdout",
     "output_type": "stream",
     "text": [
      "episode : 316 reward : -27.458062047295755\n",
      "total test reward=-41.52553430901236\n"
     ]
    },
    {
     "name": "stderr",
     "output_type": "stream",
     "text": [
      "100%|█████████████████████████████████████████████████████████████████████████████| 2010/2010 [00:05<00:00, 401.51it/s]\n",
      "  2%|█▊                                                                             | 47/2010 [00:00<00:04, 461.64it/s]"
     ]
    },
    {
     "name": "stdout",
     "output_type": "stream",
     "text": [
      "episode : 317 reward : -97.63698576641625\n",
      "total test reward=-18.69314761007116\n"
     ]
    },
    {
     "name": "stderr",
     "output_type": "stream",
     "text": [
      "100%|█████████████████████████████████████████████████████████████████████████████| 2010/2010 [00:04<00:00, 472.53it/s]\n",
      "  3%|██                                                                             | 54/2010 [00:00<00:03, 533.23it/s]"
     ]
    },
    {
     "name": "stdout",
     "output_type": "stream",
     "text": [
      "episode : 318 reward : -18.71609571006826\n",
      "total test reward=-0.9297992564749336\n"
     ]
    },
    {
     "name": "stderr",
     "output_type": "stream",
     "text": [
      "100%|█████████████████████████████████████████████████████████████████████████████| 2010/2010 [00:04<00:00, 474.35it/s]\n",
      "  2%|█▊                                                                             | 47/2010 [00:00<00:04, 462.02it/s]"
     ]
    },
    {
     "name": "stdout",
     "output_type": "stream",
     "text": [
      "episode : 319 reward : -7.250652928093302\n",
      "total test reward=-55.96378927562919\n"
     ]
    },
    {
     "name": "stderr",
     "output_type": "stream",
     "text": [
      "100%|█████████████████████████████████████████████████████████████████████████████| 2010/2010 [00:04<00:00, 477.20it/s]\n",
      "  3%|██▏                                                                            | 55/2010 [00:00<00:03, 540.66it/s]"
     ]
    },
    {
     "name": "stdout",
     "output_type": "stream",
     "text": [
      "episode : 320 reward : 7.091488726854436\n",
      "total test reward=-20.168395982585352\n"
     ]
    },
    {
     "name": "stderr",
     "output_type": "stream",
     "text": [
      "100%|█████████████████████████████████████████████████████████████████████████████| 2010/2010 [00:04<00:00, 471.19it/s]\n",
      "  2%|█▉                                                                             | 50/2010 [00:00<00:03, 495.71it/s]"
     ]
    },
    {
     "name": "stdout",
     "output_type": "stream",
     "text": [
      "episode : 321 reward : -7.745257945927989\n",
      "total test reward=-8.194894473300035\n"
     ]
    },
    {
     "name": "stderr",
     "output_type": "stream",
     "text": [
      "100%|█████████████████████████████████████████████████████████████████████████████| 2010/2010 [00:04<00:00, 480.42it/s]\n",
      "  2%|█▉                                                                             | 48/2010 [00:00<00:04, 472.05it/s]"
     ]
    },
    {
     "name": "stdout",
     "output_type": "stream",
     "text": [
      "episode : 322 reward : -35.11470024183899\n",
      "total test reward=-17.567906712651677\n"
     ]
    },
    {
     "name": "stderr",
     "output_type": "stream",
     "text": [
      "100%|█████████████████████████████████████████████████████████████████████████████| 2010/2010 [00:04<00:00, 476.02it/s]\n",
      "  3%|██                                                                             | 52/2010 [00:00<00:03, 513.13it/s]"
     ]
    },
    {
     "name": "stdout",
     "output_type": "stream",
     "text": [
      "episode : 323 reward : -17.361850712496476\n",
      "total test reward=-29.270717528915647\n"
     ]
    },
    {
     "name": "stderr",
     "output_type": "stream",
     "text": [
      "100%|█████████████████████████████████████████████████████████████████████████████| 2010/2010 [00:04<00:00, 479.61it/s]\n",
      "  2%|█▊                                                                             | 47/2010 [00:00<00:04, 464.32it/s]"
     ]
    },
    {
     "name": "stdout",
     "output_type": "stream",
     "text": [
      "episode : 324 reward : -4.305943822571209\n",
      "total test reward=-23.442785761618893\n"
     ]
    },
    {
     "name": "stderr",
     "output_type": "stream",
     "text": [
      "100%|█████████████████████████████████████████████████████████████████████████████| 2010/2010 [00:04<00:00, 493.27it/s]\n",
      "  2%|█▋                                                                             | 44/2010 [00:00<00:04, 430.17it/s]"
     ]
    },
    {
     "name": "stdout",
     "output_type": "stream",
     "text": [
      "episode : 325 reward : -60.05457248726651\n",
      "total test reward=-10.37125120187324\n"
     ]
    },
    {
     "name": "stderr",
     "output_type": "stream",
     "text": [
      "100%|█████████████████████████████████████████████████████████████████████████████| 2010/2010 [00:04<00:00, 487.54it/s]\n",
      "  3%|██                                                                             | 54/2010 [00:00<00:03, 538.54it/s]"
     ]
    },
    {
     "name": "stdout",
     "output_type": "stream",
     "text": [
      "episode : 326 reward : -38.93131185872079\n",
      "total test reward=-38.70041293707207\n"
     ]
    },
    {
     "name": "stderr",
     "output_type": "stream",
     "text": [
      "100%|█████████████████████████████████████████████████████████████████████████████| 2010/2010 [00:04<00:00, 500.92it/s]\n",
      "  2%|█▉                                                                             | 48/2010 [00:00<00:04, 477.89it/s]"
     ]
    },
    {
     "name": "stdout",
     "output_type": "stream",
     "text": [
      "episode : 327 reward : -82.26186607660065\n",
      "total test reward=-35.915816205969904\n"
     ]
    },
    {
     "name": "stderr",
     "output_type": "stream",
     "text": [
      "100%|█████████████████████████████████████████████████████████████████████████████| 2010/2010 [00:04<00:00, 500.00it/s]\n",
      "  3%|██▏                                                                            | 55/2010 [00:00<00:03, 542.41it/s]"
     ]
    },
    {
     "name": "stdout",
     "output_type": "stream",
     "text": [
      "episode : 328 reward : -31.330611611439622\n",
      "total test reward=-69.30588737757238\n"
     ]
    },
    {
     "name": "stderr",
     "output_type": "stream",
     "text": [
      "100%|█████████████████████████████████████████████████████████████████████████████| 2010/2010 [00:04<00:00, 491.12it/s]\n",
      "  2%|█▉                                                                             | 48/2010 [00:00<00:04, 469.71it/s]"
     ]
    },
    {
     "name": "stdout",
     "output_type": "stream",
     "text": [
      "episode : 329 reward : -22.964244809288402\n",
      "total test reward=-30.805670658451458\n"
     ]
    },
    {
     "name": "stderr",
     "output_type": "stream",
     "text": [
      "100%|█████████████████████████████████████████████████████████████████████████████| 2010/2010 [00:03<00:00, 505.50it/s]\n",
      "  5%|████▏                                                                         | 107/2010 [00:00<00:03, 519.56it/s]"
     ]
    },
    {
     "name": "stdout",
     "output_type": "stream",
     "text": [
      "episode : 330 reward : -7.83654223135261\n",
      "total test reward=-40.37472437710032\n"
     ]
    },
    {
     "name": "stderr",
     "output_type": "stream",
     "text": [
      "100%|█████████████████████████████████████████████████████████████████████████████| 2010/2010 [00:04<00:00, 500.21it/s]\n",
      "  2%|█▉                                                                             | 50/2010 [00:00<00:04, 489.75it/s]"
     ]
    },
    {
     "name": "stdout",
     "output_type": "stream",
     "text": [
      "episode : 331 reward : -58.81213535398055\n",
      "total test reward=2.312252997503208\n"
     ]
    },
    {
     "name": "stderr",
     "output_type": "stream",
     "text": [
      "100%|█████████████████████████████████████████████████████████████████████████████| 2010/2010 [00:04<00:00, 492.38it/s]\n",
      "  2%|█▊                                                                             | 47/2010 [00:00<00:04, 456.89it/s]"
     ]
    },
    {
     "name": "stdout",
     "output_type": "stream",
     "text": [
      "episode : 332 reward : -45.07470429136873\n",
      "total test reward=-55.17763597584356\n"
     ]
    },
    {
     "name": "stderr",
     "output_type": "stream",
     "text": [
      "100%|█████████████████████████████████████████████████████████████████████████████| 2010/2010 [00:04<00:00, 498.79it/s]\n",
      "  2%|█▉                                                                             | 50/2010 [00:00<00:03, 493.23it/s]"
     ]
    },
    {
     "name": "stdout",
     "output_type": "stream",
     "text": [
      "episode : 333 reward : -25.856782260387803\n",
      "total test reward=-33.163392377343044\n"
     ]
    },
    {
     "name": "stderr",
     "output_type": "stream",
     "text": [
      "100%|█████████████████████████████████████████████████████████████████████████████| 2010/2010 [00:04<00:00, 493.03it/s]\n",
      "  3%|██                                                                             | 54/2010 [00:00<00:03, 538.92it/s]"
     ]
    },
    {
     "name": "stdout",
     "output_type": "stream",
     "text": [
      "episode : 334 reward : 11.009123826273651\n",
      "total test reward=-43.79401753177157\n"
     ]
    },
    {
     "name": "stderr",
     "output_type": "stream",
     "text": [
      "100%|█████████████████████████████████████████████████████████████████████████████| 2010/2010 [00:04<00:00, 486.63it/s]\n",
      "  3%|██                                                                             | 54/2010 [00:00<00:03, 536.26it/s]"
     ]
    },
    {
     "name": "stdout",
     "output_type": "stream",
     "text": [
      "episode : 335 reward : -25.233749304025224\n",
      "total test reward=-44.437131694667656\n"
     ]
    },
    {
     "name": "stderr",
     "output_type": "stream",
     "text": [
      "100%|█████████████████████████████████████████████████████████████████████████████| 2010/2010 [00:04<00:00, 490.06it/s]\n",
      "  3%|██                                                                             | 51/2010 [00:00<00:03, 498.90it/s]"
     ]
    },
    {
     "name": "stdout",
     "output_type": "stream",
     "text": [
      "episode : 336 reward : 16.8125849625182\n",
      "total test reward=-25.112710421737614\n"
     ]
    },
    {
     "name": "stderr",
     "output_type": "stream",
     "text": [
      "100%|█████████████████████████████████████████████████████████████████████████████| 2010/2010 [00:04<00:00, 494.31it/s]\n",
      "  3%|██                                                                             | 51/2010 [00:00<00:03, 505.96it/s]"
     ]
    },
    {
     "name": "stdout",
     "output_type": "stream",
     "text": [
      "episode : 337 reward : -50.37548413040304\n",
      "total test reward=-32.11479442475421\n"
     ]
    },
    {
     "name": "stderr",
     "output_type": "stream",
     "text": [
      "100%|█████████████████████████████████████████████████████████████████████████████| 2010/2010 [00:03<00:00, 505.22it/s]\n",
      "  3%|██                                                                             | 51/2010 [00:00<00:03, 500.10it/s]"
     ]
    },
    {
     "name": "stdout",
     "output_type": "stream",
     "text": [
      "episode : 338 reward : 119.16193427517172\n",
      "total test reward=-35.526857050958\n"
     ]
    },
    {
     "name": "stderr",
     "output_type": "stream",
     "text": [
      "100%|█████████████████████████████████████████████████████████████████████████████| 2010/2010 [00:04<00:00, 494.52it/s]\n",
      "  3%|██▏                                                                            | 55/2010 [00:00<00:03, 545.83it/s]"
     ]
    },
    {
     "name": "stdout",
     "output_type": "stream",
     "text": [
      "episode : 339 reward : -19.635716295916865\n",
      "total test reward=-33.3279107218908\n"
     ]
    },
    {
     "name": "stderr",
     "output_type": "stream",
     "text": [
      "100%|█████████████████████████████████████████████████████████████████████████████| 2010/2010 [00:04<00:00, 500.96it/s]\n",
      "  2%|█▉                                                                             | 49/2010 [00:00<00:04, 481.68it/s]"
     ]
    },
    {
     "name": "stdout",
     "output_type": "stream",
     "text": [
      "episode : 340 reward : -52.96061774401113\n",
      "total test reward=-32.70711698740981\n"
     ]
    },
    {
     "name": "stderr",
     "output_type": "stream",
     "text": [
      "100%|█████████████████████████████████████████████████████████████████████████████| 2010/2010 [00:04<00:00, 499.58it/s]\n",
      "  5%|████▏                                                                         | 108/2010 [00:00<00:03, 534.07it/s]"
     ]
    },
    {
     "name": "stdout",
     "output_type": "stream",
     "text": [
      "episode : 341 reward : -19.333229692374488\n",
      "total test reward=-57.17016246950303\n"
     ]
    },
    {
     "name": "stderr",
     "output_type": "stream",
     "text": [
      "100%|█████████████████████████████████████████████████████████████████████████████| 2010/2010 [00:04<00:00, 491.96it/s]\n",
      "  2%|█▊                                                                             | 47/2010 [00:00<00:04, 468.40it/s]"
     ]
    },
    {
     "name": "stdout",
     "output_type": "stream",
     "text": [
      "episode : 342 reward : -4.558044595831916\n",
      "total test reward=-41.60558460154747\n"
     ]
    },
    {
     "name": "stderr",
     "output_type": "stream",
     "text": [
      "100%|█████████████████████████████████████████████████████████████████████████████| 2010/2010 [00:04<00:00, 501.20it/s]\n",
      "  3%|██▏                                                                            | 56/2010 [00:00<00:03, 547.61it/s]"
     ]
    },
    {
     "name": "stdout",
     "output_type": "stream",
     "text": [
      "episode : 343 reward : -66.673414682555\n",
      "total test reward=-41.88099639648856\n"
     ]
    },
    {
     "name": "stderr",
     "output_type": "stream",
     "text": [
      "100%|█████████████████████████████████████████████████████████████████████████████| 2010/2010 [00:04<00:00, 494.99it/s]\n",
      "  3%|██▏                                                                            | 55/2010 [00:00<00:03, 545.65it/s]"
     ]
    },
    {
     "name": "stdout",
     "output_type": "stream",
     "text": [
      "episode : 344 reward : -3.916377201712635\n",
      "total test reward=-29.97996840993513\n"
     ]
    },
    {
     "name": "stderr",
     "output_type": "stream",
     "text": [
      "100%|█████████████████████████████████████████████████████████████████████████████| 2010/2010 [00:03<00:00, 509.44it/s]\n",
      "  2%|█▉                                                                             | 50/2010 [00:00<00:03, 498.61it/s]"
     ]
    },
    {
     "name": "stdout",
     "output_type": "stream",
     "text": [
      "episode : 345 reward : -36.59461049295342\n",
      "total test reward=-46.2881495202687\n"
     ]
    },
    {
     "name": "stderr",
     "output_type": "stream",
     "text": [
      "100%|█████████████████████████████████████████████████████████████████████████████| 2010/2010 [00:03<00:00, 507.59it/s]\n",
      "  2%|█▉                                                                             | 50/2010 [00:00<00:03, 493.90it/s]"
     ]
    },
    {
     "name": "stdout",
     "output_type": "stream",
     "text": [
      "episode : 346 reward : -9.738926898042536\n",
      "total test reward=-57.875031995659256\n"
     ]
    },
    {
     "name": "stderr",
     "output_type": "stream",
     "text": [
      "100%|█████████████████████████████████████████████████████████████████████████████| 2010/2010 [00:03<00:00, 514.00it/s]\n",
      "  3%|██▎                                                                            | 58/2010 [00:00<00:03, 579.58it/s]"
     ]
    },
    {
     "name": "stdout",
     "output_type": "stream",
     "text": [
      "episode : 347 reward : -79.58202989980137\n",
      "total test reward=-28.690471361669285\n"
     ]
    },
    {
     "name": "stderr",
     "output_type": "stream",
     "text": [
      "100%|█████████████████████████████████████████████████████████████████████████████| 2010/2010 [00:03<00:00, 514.31it/s]\n",
      "  3%|██▏                                                                            | 57/2010 [00:00<00:03, 564.88it/s]"
     ]
    },
    {
     "name": "stdout",
     "output_type": "stream",
     "text": [
      "episode : 348 reward : -18.206053983506536\n",
      "total test reward=-7.352024040835625\n"
     ]
    },
    {
     "name": "stderr",
     "output_type": "stream",
     "text": [
      "100%|█████████████████████████████████████████████████████████████████████████████| 2010/2010 [00:03<00:00, 510.17it/s]\n",
      "  3%|██                                                                             | 53/2010 [00:00<00:03, 520.09it/s]"
     ]
    },
    {
     "name": "stdout",
     "output_type": "stream",
     "text": [
      "episode : 349 reward : -30.169762424070655\n",
      "total test reward=-34.52427957910282\n"
     ]
    },
    {
     "name": "stderr",
     "output_type": "stream",
     "text": [
      "100%|█████████████████████████████████████████████████████████████████████████████| 2010/2010 [00:03<00:00, 516.39it/s]\n",
      "  3%|██                                                                             | 51/2010 [00:00<00:03, 496.73it/s]"
     ]
    },
    {
     "name": "stdout",
     "output_type": "stream",
     "text": [
      "episode : 350 reward : -55.93304166010526\n",
      "total test reward=-27.30720772690529\n"
     ]
    },
    {
     "name": "stderr",
     "output_type": "stream",
     "text": [
      "100%|█████████████████████████████████████████████████████████████████████████████| 2010/2010 [00:03<00:00, 509.80it/s]\n",
      "  3%|██▏                                                                            | 57/2010 [00:00<00:03, 562.97it/s]"
     ]
    },
    {
     "name": "stdout",
     "output_type": "stream",
     "text": [
      "episode : 351 reward : -12.905041182323174\n",
      "total test reward=-15.892491191807958\n"
     ]
    },
    {
     "name": "stderr",
     "output_type": "stream",
     "text": [
      "100%|█████████████████████████████████████████████████████████████████████████████| 2010/2010 [00:04<00:00, 500.79it/s]\n",
      "  3%|██                                                                             | 52/2010 [00:00<00:03, 510.67it/s]"
     ]
    },
    {
     "name": "stdout",
     "output_type": "stream",
     "text": [
      "episode : 352 reward : -50.60389175494922\n",
      "total test reward=-66.60869005053641\n"
     ]
    },
    {
     "name": "stderr",
     "output_type": "stream",
     "text": [
      "100%|█████████████████████████████████████████████████████████████████████████████| 2010/2010 [00:03<00:00, 509.63it/s]\n",
      "  2%|█▉                                                                             | 49/2010 [00:00<00:04, 481.94it/s]"
     ]
    },
    {
     "name": "stdout",
     "output_type": "stream",
     "text": [
      "episode : 353 reward : -23.681191181989988\n",
      "total test reward=-42.68712508448785\n"
     ]
    },
    {
     "name": "stderr",
     "output_type": "stream",
     "text": [
      "100%|█████████████████████████████████████████████████████████████████████████████| 2010/2010 [00:03<00:00, 516.93it/s]\n",
      "  3%|██▏                                                                            | 55/2010 [00:00<00:03, 545.84it/s]"
     ]
    },
    {
     "name": "stdout",
     "output_type": "stream",
     "text": [
      "episode : 354 reward : -40.47631073230298\n",
      "total test reward=-28.647595973608844\n"
     ]
    },
    {
     "name": "stderr",
     "output_type": "stream",
     "text": [
      "100%|█████████████████████████████████████████████████████████████████████████████| 2010/2010 [00:03<00:00, 507.69it/s]\n",
      "  3%|██                                                                             | 53/2010 [00:00<00:03, 526.50it/s]"
     ]
    },
    {
     "name": "stdout",
     "output_type": "stream",
     "text": [
      "episode : 355 reward : -38.88039853545018\n",
      "total test reward=-45.617305144177934\n"
     ]
    },
    {
     "name": "stderr",
     "output_type": "stream",
     "text": [
      "100%|█████████████████████████████████████████████████████████████████████████████| 2010/2010 [00:04<00:00, 499.33it/s]\n",
      "  3%|██                                                                             | 53/2010 [00:00<00:03, 523.54it/s]"
     ]
    },
    {
     "name": "stdout",
     "output_type": "stream",
     "text": [
      "episode : 356 reward : -41.76357629515215\n",
      "total test reward=-41.79095121463977\n"
     ]
    },
    {
     "name": "stderr",
     "output_type": "stream",
     "text": [
      "100%|█████████████████████████████████████████████████████████████████████████████| 2010/2010 [00:03<00:00, 513.33it/s]\n",
      "  3%|██                                                                             | 54/2010 [00:00<00:03, 538.29it/s]"
     ]
    },
    {
     "name": "stdout",
     "output_type": "stream",
     "text": [
      "episode : 357 reward : -27.66503245875745\n",
      "total test reward=-51.55246226411716\n"
     ]
    },
    {
     "name": "stderr",
     "output_type": "stream",
     "text": [
      "100%|█████████████████████████████████████████████████████████████████████████████| 2010/2010 [00:03<00:00, 510.60it/s]\n",
      "  3%|██▏                                                                            | 55/2010 [00:00<00:03, 548.44it/s]"
     ]
    },
    {
     "name": "stdout",
     "output_type": "stream",
     "text": [
      "episode : 358 reward : -38.301525655220615\n",
      "total test reward=19.627726179677165\n"
     ]
    },
    {
     "name": "stderr",
     "output_type": "stream",
     "text": [
      "100%|█████████████████████████████████████████████████████████████████████████████| 2010/2010 [00:03<00:00, 507.53it/s]\n",
      "  3%|██                                                                             | 53/2010 [00:00<00:03, 518.84it/s]"
     ]
    },
    {
     "name": "stdout",
     "output_type": "stream",
     "text": [
      "episode : 359 reward : 59.34123079574803\n",
      "total test reward=-3.2055336668249255\n"
     ]
    },
    {
     "name": "stderr",
     "output_type": "stream",
     "text": [
      "100%|█████████████████████████████████████████████████████████████████████████████| 2010/2010 [00:04<00:00, 502.13it/s]\n",
      "  2%|█▉                                                                             | 50/2010 [00:00<00:03, 496.49it/s]"
     ]
    },
    {
     "name": "stdout",
     "output_type": "stream",
     "text": [
      "episode : 360 reward : -11.215806107204145\n",
      "total test reward=-43.4178620762475\n"
     ]
    },
    {
     "name": "stderr",
     "output_type": "stream",
     "text": [
      "100%|█████████████████████████████████████████████████████████████████████████████| 2010/2010 [00:03<00:00, 506.77it/s]\n",
      "  2%|█▉                                                                             | 50/2010 [00:00<00:03, 496.21it/s]"
     ]
    },
    {
     "name": "stdout",
     "output_type": "stream",
     "text": [
      "episode : 361 reward : -61.34889641457934\n",
      "total test reward=-9.259423396356905\n"
     ]
    },
    {
     "name": "stderr",
     "output_type": "stream",
     "text": [
      "100%|█████████████████████████████████████████████████████████████████████████████| 2010/2010 [00:03<00:00, 505.47it/s]\n",
      "  3%|██                                                                             | 51/2010 [00:00<00:03, 506.17it/s]"
     ]
    },
    {
     "name": "stdout",
     "output_type": "stream",
     "text": [
      "episode : 362 reward : -38.454784836368276\n",
      "total test reward=-33.01350801635263\n"
     ]
    },
    {
     "name": "stderr",
     "output_type": "stream",
     "text": [
      "100%|█████████████████████████████████████████████████████████████████████████████| 2010/2010 [00:03<00:00, 506.75it/s]\n",
      "  3%|██▏                                                                            | 56/2010 [00:00<00:03, 558.48it/s]"
     ]
    },
    {
     "name": "stdout",
     "output_type": "stream",
     "text": [
      "episode : 363 reward : 128.12470332374144\n",
      "total test reward=-32.68117452141759\n"
     ]
    },
    {
     "name": "stderr",
     "output_type": "stream",
     "text": [
      "100%|█████████████████████████████████████████████████████████████████████████████| 2010/2010 [00:04<00:00, 500.77it/s]\n",
      "  3%|██▏                                                                            | 55/2010 [00:00<00:03, 540.27it/s]"
     ]
    },
    {
     "name": "stdout",
     "output_type": "stream",
     "text": [
      "episode : 364 reward : 10.076152668896697\n",
      "total test reward=1.2949360911838426\n"
     ]
    },
    {
     "name": "stderr",
     "output_type": "stream",
     "text": [
      "100%|█████████████████████████████████████████████████████████████████████████████| 2010/2010 [00:03<00:00, 506.69it/s]\n",
      "  2%|█▉                                                                             | 49/2010 [00:00<00:04, 481.39it/s]"
     ]
    },
    {
     "name": "stdout",
     "output_type": "stream",
     "text": [
      "episode : 365 reward : -97.84468188402076\n",
      "total test reward=-55.157601438517986\n"
     ]
    },
    {
     "name": "stderr",
     "output_type": "stream",
     "text": [
      "100%|█████████████████████████████████████████████████████████████████████████████| 2010/2010 [00:03<00:00, 510.84it/s]\n",
      "  3%|██▏                                                                            | 55/2010 [00:00<00:03, 549.97it/s]"
     ]
    },
    {
     "name": "stdout",
     "output_type": "stream",
     "text": [
      "episode : 366 reward : -50.73880403457204\n",
      "total test reward=-40.18260265543483\n"
     ]
    },
    {
     "name": "stderr",
     "output_type": "stream",
     "text": [
      "100%|█████████████████████████████████████████████████████████████████████████████| 2010/2010 [00:04<00:00, 486.88it/s]\n",
      "  3%|██▏                                                                            | 55/2010 [00:00<00:03, 548.36it/s]"
     ]
    },
    {
     "name": "stdout",
     "output_type": "stream",
     "text": [
      "episode : 367 reward : -77.50174585911725\n",
      "total test reward=-54.96711000226854\n"
     ]
    },
    {
     "name": "stderr",
     "output_type": "stream",
     "text": [
      "100%|█████████████████████████████████████████████████████████████████████████████| 2010/2010 [00:03<00:00, 513.69it/s]\n",
      "  3%|██▏                                                                            | 56/2010 [00:00<00:03, 550.05it/s]"
     ]
    },
    {
     "name": "stdout",
     "output_type": "stream",
     "text": [
      "episode : 368 reward : -51.7338798095729\n",
      "total test reward=-98.0557679485463\n"
     ]
    },
    {
     "name": "stderr",
     "output_type": "stream",
     "text": [
      "100%|█████████████████████████████████████████████████████████████████████████████| 2010/2010 [00:03<00:00, 514.89it/s]\n",
      "  3%|██                                                                             | 52/2010 [00:00<00:03, 516.21it/s]"
     ]
    },
    {
     "name": "stdout",
     "output_type": "stream",
     "text": [
      "episode : 369 reward : -64.57190179527876\n",
      "total test reward=-71.89496045390591\n"
     ]
    },
    {
     "name": "stderr",
     "output_type": "stream",
     "text": [
      "100%|█████████████████████████████████████████████████████████████████████████████| 2010/2010 [00:03<00:00, 517.22it/s]\n",
      "  3%|██▏                                                                            | 57/2010 [00:00<00:03, 558.85it/s]"
     ]
    },
    {
     "name": "stdout",
     "output_type": "stream",
     "text": [
      "episode : 370 reward : 13.291047857964486\n",
      "total test reward=-30.649096106397998\n"
     ]
    },
    {
     "name": "stderr",
     "output_type": "stream",
     "text": [
      "100%|█████████████████████████████████████████████████████████████████████████████| 2010/2010 [00:04<00:00, 499.81it/s]\n",
      "  3%|██                                                                             | 53/2010 [00:00<00:03, 526.16it/s]"
     ]
    },
    {
     "name": "stdout",
     "output_type": "stream",
     "text": [
      "episode : 371 reward : -20.27808644668454\n",
      "total test reward=-42.85148561576294\n"
     ]
    },
    {
     "name": "stderr",
     "output_type": "stream",
     "text": [
      "100%|█████████████████████████████████████████████████████████████████████████████| 2010/2010 [00:04<00:00, 501.65it/s]\n",
      "  2%|█▉                                                                             | 49/2010 [00:00<00:04, 487.39it/s]"
     ]
    },
    {
     "name": "stdout",
     "output_type": "stream",
     "text": [
      "episode : 372 reward : -24.681309626362577\n",
      "total test reward=-52.109642491256366\n"
     ]
    },
    {
     "name": "stderr",
     "output_type": "stream",
     "text": [
      "100%|█████████████████████████████████████████████████████████████████████████████| 2010/2010 [00:03<00:00, 503.89it/s]\n",
      "  3%|██▏                                                                            | 56/2010 [00:00<00:03, 547.53it/s]"
     ]
    },
    {
     "name": "stdout",
     "output_type": "stream",
     "text": [
      "episode : 373 reward : -63.320840187299495\n",
      "total test reward=-39.99658112722786\n"
     ]
    },
    {
     "name": "stderr",
     "output_type": "stream",
     "text": [
      "100%|█████████████████████████████████████████████████████████████████████████████| 2010/2010 [00:03<00:00, 508.67it/s]\n",
      "  3%|██                                                                             | 52/2010 [00:00<00:03, 518.40it/s]"
     ]
    },
    {
     "name": "stdout",
     "output_type": "stream",
     "text": [
      "episode : 374 reward : -54.77213115031293\n",
      "total test reward=-31.364540373173032\n"
     ]
    },
    {
     "name": "stderr",
     "output_type": "stream",
     "text": [
      "100%|█████████████████████████████████████████████████████████████████████████████| 2010/2010 [00:03<00:00, 505.53it/s]\n",
      "  5%|████                                                                          | 104/2010 [00:00<00:03, 517.96it/s]"
     ]
    },
    {
     "name": "stdout",
     "output_type": "stream",
     "text": [
      "episode : 375 reward : -23.111414558734083\n",
      "total test reward=-0.0829364371066447\n"
     ]
    },
    {
     "name": "stderr",
     "output_type": "stream",
     "text": [
      "100%|█████████████████████████████████████████████████████████████████████████████| 2010/2010 [00:04<00:00, 459.22it/s]\n",
      "  3%|██▍                                                                            | 62/2010 [00:00<00:03, 609.56it/s]"
     ]
    },
    {
     "name": "stdout",
     "output_type": "stream",
     "text": [
      "episode : 376 reward : -14.046459845542302\n",
      "total test reward=-5.186409072983008\n"
     ]
    },
    {
     "name": "stderr",
     "output_type": "stream",
     "text": [
      "100%|█████████████████████████████████████████████████████████████████████████████| 2010/2010 [00:03<00:00, 508.47it/s]\n",
      "  3%|██▏                                                                            | 57/2010 [00:00<00:03, 566.41it/s]"
     ]
    },
    {
     "name": "stdout",
     "output_type": "stream",
     "text": [
      "episode : 377 reward : -22.358094717366555\n",
      "total test reward=-27.05077724129248\n"
     ]
    },
    {
     "name": "stderr",
     "output_type": "stream",
     "text": [
      "100%|█████████████████████████████████████████████████████████████████████████████| 2010/2010 [00:03<00:00, 551.14it/s]\n",
      "  2%|█▊                                                                             | 47/2010 [00:00<00:04, 466.09it/s]"
     ]
    },
    {
     "name": "stdout",
     "output_type": "stream",
     "text": [
      "episode : 378 reward : -71.56487206993384\n",
      "total test reward=-57.746986366873934\n"
     ]
    },
    {
     "name": "stderr",
     "output_type": "stream",
     "text": [
      "100%|█████████████████████████████████████████████████████████████████████████████| 2010/2010 [00:04<00:00, 456.22it/s]\n",
      "  2%|█▉                                                                             | 50/2010 [00:00<00:03, 495.91it/s]"
     ]
    },
    {
     "name": "stdout",
     "output_type": "stream",
     "text": [
      "episode : 379 reward : -37.074915475271666\n",
      "total test reward=-40.30149051970919\n"
     ]
    },
    {
     "name": "stderr",
     "output_type": "stream",
     "text": [
      "100%|█████████████████████████████████████████████████████████████████████████████| 2010/2010 [00:03<00:00, 519.33it/s]\n",
      "  5%|████                                                                          | 104/2010 [00:00<00:03, 527.01it/s]"
     ]
    },
    {
     "name": "stdout",
     "output_type": "stream",
     "text": [
      "episode : 380 reward : -56.599888598164\n",
      "total test reward=-42.1294999825418\n"
     ]
    },
    {
     "name": "stderr",
     "output_type": "stream",
     "text": [
      "100%|█████████████████████████████████████████████████████████████████████████████| 2010/2010 [00:03<00:00, 536.85it/s]\n",
      "  3%|██▎                                                                            | 59/2010 [00:00<00:03, 583.96it/s]"
     ]
    },
    {
     "name": "stdout",
     "output_type": "stream",
     "text": [
      "episode : 381 reward : -86.2212029843597\n",
      "total test reward=-10.30721083312169\n"
     ]
    },
    {
     "name": "stderr",
     "output_type": "stream",
     "text": [
      "100%|█████████████████████████████████████████████████████████████████████████████| 2010/2010 [00:03<00:00, 527.62it/s]\n",
      "  5%|███▉                                                                          | 102/2010 [00:00<00:04, 458.19it/s]"
     ]
    },
    {
     "name": "stdout",
     "output_type": "stream",
     "text": [
      "episode : 382 reward : -5.631061272301736\n",
      "total test reward=-46.32494477308762\n"
     ]
    },
    {
     "name": "stderr",
     "output_type": "stream",
     "text": [
      "100%|█████████████████████████████████████████████████████████████████████████████| 2010/2010 [00:03<00:00, 541.33it/s]\n",
      "  3%|██▏                                                                            | 57/2010 [00:00<00:03, 565.69it/s]"
     ]
    },
    {
     "name": "stdout",
     "output_type": "stream",
     "text": [
      "episode : 383 reward : -85.20658637032847\n",
      "total test reward=-35.074319786642754\n"
     ]
    },
    {
     "name": "stderr",
     "output_type": "stream",
     "text": [
      "100%|█████████████████████████████████████████████████████████████████████████████| 2010/2010 [00:03<00:00, 557.12it/s]\n",
      "  3%|██                                                                             | 53/2010 [00:00<00:03, 526.16it/s]"
     ]
    },
    {
     "name": "stdout",
     "output_type": "stream",
     "text": [
      "episode : 384 reward : 27.382315889309524\n",
      "total test reward=-16.32425024602923\n"
     ]
    },
    {
     "name": "stderr",
     "output_type": "stream",
     "text": [
      "100%|█████████████████████████████████████████████████████████████████████████████| 2010/2010 [00:03<00:00, 544.99it/s]\n",
      "  3%|██▍                                                                            | 62/2010 [00:00<00:03, 609.47it/s]"
     ]
    },
    {
     "name": "stdout",
     "output_type": "stream",
     "text": [
      "episode : 385 reward : -93.4160216463676\n",
      "total test reward=-34.197929465173125\n"
     ]
    },
    {
     "name": "stderr",
     "output_type": "stream",
     "text": [
      "100%|█████████████████████████████████████████████████████████████████████████████| 2010/2010 [00:03<00:00, 552.31it/s]\n",
      "  3%|██▏                                                                            | 57/2010 [00:00<00:03, 565.87it/s]"
     ]
    },
    {
     "name": "stdout",
     "output_type": "stream",
     "text": [
      "episode : 386 reward : -13.439321846124471\n",
      "total test reward=-23.375950581450002\n"
     ]
    },
    {
     "name": "stderr",
     "output_type": "stream",
     "text": [
      "100%|█████████████████████████████████████████████████████████████████████████████| 2010/2010 [00:03<00:00, 502.76it/s]\n",
      "  3%|██                                                                             | 54/2010 [00:00<00:03, 531.59it/s]"
     ]
    },
    {
     "name": "stdout",
     "output_type": "stream",
     "text": [
      "episode : 387 reward : -77.02169317614548\n",
      "total test reward=7.597899159622353\n"
     ]
    },
    {
     "name": "stderr",
     "output_type": "stream",
     "text": [
      "100%|█████████████████████████████████████████████████████████████████████████████| 2010/2010 [00:04<00:00, 458.30it/s]\n",
      "  3%|██                                                                             | 53/2010 [00:00<00:03, 515.90it/s]"
     ]
    },
    {
     "name": "stdout",
     "output_type": "stream",
     "text": [
      "episode : 388 reward : -27.644119982444067\n",
      "total test reward=-28.19604725632209\n"
     ]
    },
    {
     "name": "stderr",
     "output_type": "stream",
     "text": [
      "100%|█████████████████████████████████████████████████████████████████████████████| 2010/2010 [00:03<00:00, 508.23it/s]\n",
      "  3%|██▏                                                                            | 56/2010 [00:00<00:03, 555.47it/s]"
     ]
    },
    {
     "name": "stdout",
     "output_type": "stream",
     "text": [
      "episode : 389 reward : -30.048222543528823\n",
      "total test reward=-41.12961592374189\n"
     ]
    },
    {
     "name": "stderr",
     "output_type": "stream",
     "text": [
      "100%|█████████████████████████████████████████████████████████████████████████████| 2010/2010 [00:03<00:00, 525.76it/s]\n",
      "  3%|██                                                                             | 51/2010 [00:00<00:03, 503.69it/s]"
     ]
    },
    {
     "name": "stdout",
     "output_type": "stream",
     "text": [
      "episode : 390 reward : -57.764055259892615\n",
      "total test reward=-19.417438098746004\n"
     ]
    },
    {
     "name": "stderr",
     "output_type": "stream",
     "text": [
      "100%|█████████████████████████████████████████████████████████████████████████████| 2010/2010 [00:03<00:00, 518.75it/s]\n",
      "  3%|██▎                                                                            | 58/2010 [00:00<00:03, 575.81it/s]"
     ]
    },
    {
     "name": "stdout",
     "output_type": "stream",
     "text": [
      "episode : 391 reward : -54.98648618509972\n",
      "total test reward=-40.56635357458285\n"
     ]
    },
    {
     "name": "stderr",
     "output_type": "stream",
     "text": [
      "100%|█████████████████████████████████████████████████████████████████████████████| 2010/2010 [00:03<00:00, 541.63it/s]\n",
      "  2%|█▉                                                                             | 49/2010 [00:00<00:04, 481.51it/s]"
     ]
    },
    {
     "name": "stdout",
     "output_type": "stream",
     "text": [
      "episode : 392 reward : -68.06101225586053\n",
      "total test reward=-60.151408539983755\n"
     ]
    },
    {
     "name": "stderr",
     "output_type": "stream",
     "text": [
      "100%|█████████████████████████████████████████████████████████████████████████████| 2010/2010 [00:04<00:00, 474.66it/s]\n",
      "  3%|██▏                                                                            | 57/2010 [00:00<00:03, 560.04it/s]"
     ]
    },
    {
     "name": "stdout",
     "output_type": "stream",
     "text": [
      "episode : 393 reward : -16.903025576031354\n",
      "total test reward=-25.56568797731068\n"
     ]
    },
    {
     "name": "stderr",
     "output_type": "stream",
     "text": [
      "100%|█████████████████████████████████████████████████████████████████████████████| 2010/2010 [00:03<00:00, 522.78it/s]\n",
      "  3%|██▏                                                                            | 56/2010 [00:00<00:03, 559.90it/s]"
     ]
    },
    {
     "name": "stdout",
     "output_type": "stream",
     "text": [
      "episode : 394 reward : -26.222021904748573\n",
      "total test reward=-47.0676650242808\n"
     ]
    },
    {
     "name": "stderr",
     "output_type": "stream",
     "text": [
      "100%|█████████████████████████████████████████████████████████████████████████████| 2010/2010 [00:03<00:00, 534.82it/s]\n",
      "  3%|██▎                                                                            | 58/2010 [00:00<00:03, 576.11it/s]"
     ]
    },
    {
     "name": "stdout",
     "output_type": "stream",
     "text": [
      "episode : 395 reward : -14.235482299157013\n",
      "total test reward=-31.87057153834428\n"
     ]
    },
    {
     "name": "stderr",
     "output_type": "stream",
     "text": [
      "100%|█████████████████████████████████████████████████████████████████████████████| 2010/2010 [00:04<00:00, 456.79it/s]\n",
      "  3%|██▏                                                                            | 56/2010 [00:00<00:03, 555.94it/s]"
     ]
    },
    {
     "name": "stdout",
     "output_type": "stream",
     "text": [
      "episode : 396 reward : -8.99856012795837\n",
      "total test reward=-19.14654045561405\n"
     ]
    },
    {
     "name": "stderr",
     "output_type": "stream",
     "text": [
      "100%|█████████████████████████████████████████████████████████████████████████████| 2010/2010 [00:04<00:00, 464.73it/s]\n",
      "  2%|█▌                                                                             | 40/2010 [00:00<00:04, 397.09it/s]"
     ]
    },
    {
     "name": "stdout",
     "output_type": "stream",
     "text": [
      "episode : 397 reward : -49.754229541910604\n",
      "total test reward=-20.951604572021104\n"
     ]
    },
    {
     "name": "stderr",
     "output_type": "stream",
     "text": [
      "100%|█████████████████████████████████████████████████████████████████████████████| 2010/2010 [00:04<00:00, 500.82it/s]\n",
      "  3%|██▎                                                                            | 59/2010 [00:00<00:03, 585.51it/s]"
     ]
    },
    {
     "name": "stdout",
     "output_type": "stream",
     "text": [
      "episode : 398 reward : 6.612415329107108\n",
      "total test reward=-76.0297311378434\n"
     ]
    },
    {
     "name": "stderr",
     "output_type": "stream",
     "text": [
      "100%|█████████████████████████████████████████████████████████████████████████████| 2010/2010 [00:03<00:00, 526.29it/s]\n",
      "  3%|██                                                                             | 53/2010 [00:00<00:03, 528.73it/s]"
     ]
    },
    {
     "name": "stdout",
     "output_type": "stream",
     "text": [
      "episode : 399 reward : -159.68408987348826\n",
      "total test reward=-27.330748256280373\n"
     ]
    },
    {
     "name": "stderr",
     "output_type": "stream",
     "text": [
      "100%|█████████████████████████████████████████████████████████████████████████████| 2010/2010 [00:03<00:00, 529.02it/s]\n",
      "  3%|██▏                                                                            | 57/2010 [00:00<00:03, 553.50it/s]"
     ]
    },
    {
     "name": "stdout",
     "output_type": "stream",
     "text": [
      "episode : 400 reward : -55.435238318723805\n",
      "total test reward=-20.722260430650458\n"
     ]
    },
    {
     "name": "stderr",
     "output_type": "stream",
     "text": [
      "100%|█████████████████████████████████████████████████████████████████████████████| 2010/2010 [00:04<00:00, 476.79it/s]\n",
      "  2%|█▊                                                                             | 47/2010 [00:00<00:04, 453.14it/s]"
     ]
    },
    {
     "name": "stdout",
     "output_type": "stream",
     "text": [
      "episode : 401 reward : -36.19378535044922\n",
      "total test reward=-17.376711400754477\n"
     ]
    },
    {
     "name": "stderr",
     "output_type": "stream",
     "text": [
      "100%|█████████████████████████████████████████████████████████████████████████████| 2010/2010 [00:03<00:00, 512.16it/s]\n",
      "  3%|██▏                                                                            | 57/2010 [00:00<00:03, 554.88it/s]"
     ]
    },
    {
     "name": "stdout",
     "output_type": "stream",
     "text": [
      "episode : 402 reward : -18.273584359431425\n",
      "total test reward=-31.432028458805057\n"
     ]
    },
    {
     "name": "stderr",
     "output_type": "stream",
     "text": [
      "100%|█████████████████████████████████████████████████████████████████████████████| 2010/2010 [00:04<00:00, 433.17it/s]\n",
      "  2%|█▊                                                                             | 46/2010 [00:00<00:04, 456.67it/s]"
     ]
    },
    {
     "name": "stdout",
     "output_type": "stream",
     "text": [
      "episode : 403 reward : 130.10269176910234\n",
      "total test reward=-28.759907120137818\n"
     ]
    },
    {
     "name": "stderr",
     "output_type": "stream",
     "text": [
      "100%|█████████████████████████████████████████████████████████████████████████████| 2010/2010 [00:05<00:00, 383.20it/s]\n",
      "  2%|█▍                                                                             | 38/2010 [00:00<00:05, 370.12it/s]"
     ]
    },
    {
     "name": "stdout",
     "output_type": "stream",
     "text": [
      "episode : 404 reward : -222.872207022487\n",
      "total test reward=-10.122226818318108\n"
     ]
    },
    {
     "name": "stderr",
     "output_type": "stream",
     "text": [
      "100%|█████████████████████████████████████████████████████████████████████████████| 2010/2010 [00:04<00:00, 409.19it/s]\n",
      "  2%|█▌                                                                             | 41/2010 [00:00<00:04, 398.31it/s]"
     ]
    },
    {
     "name": "stdout",
     "output_type": "stream",
     "text": [
      "episode : 405 reward : -52.73624504584211\n",
      "total test reward=-72.53884690948294\n"
     ]
    },
    {
     "name": "stderr",
     "output_type": "stream",
     "text": [
      "100%|█████████████████████████████████████████████████████████████████████████████| 2010/2010 [00:04<00:00, 481.12it/s]\n",
      "  2%|█▉                                                                             | 50/2010 [00:00<00:03, 491.39it/s]"
     ]
    },
    {
     "name": "stdout",
     "output_type": "stream",
     "text": [
      "episode : 406 reward : -43.24242302111975\n",
      "total test reward=7.279116183515095\n"
     ]
    },
    {
     "name": "stderr",
     "output_type": "stream",
     "text": [
      "100%|█████████████████████████████████████████████████████████████████████████████| 2010/2010 [00:03<00:00, 503.19it/s]\n",
      "  3%|██▏                                                                            | 56/2010 [00:00<00:03, 555.76it/s]"
     ]
    },
    {
     "name": "stdout",
     "output_type": "stream",
     "text": [
      "episode : 407 reward : -59.05475226120677\n",
      "total test reward=-34.330734687392514\n"
     ]
    },
    {
     "name": "stderr",
     "output_type": "stream",
     "text": [
      "100%|█████████████████████████████████████████████████████████████████████████████| 2010/2010 [00:04<00:00, 498.64it/s]\n",
      "  2%|█▊                                                                             | 46/2010 [00:00<00:04, 459.73it/s]"
     ]
    },
    {
     "name": "stdout",
     "output_type": "stream",
     "text": [
      "episode : 408 reward : -12.2002822092943\n",
      "total test reward=-21.419316986698867\n"
     ]
    },
    {
     "name": "stderr",
     "output_type": "stream",
     "text": [
      "100%|█████████████████████████████████████████████████████████████████████████████| 2010/2010 [00:04<00:00, 485.45it/s]\n",
      "  3%|██▏                                                                            | 55/2010 [00:00<00:03, 540.66it/s]"
     ]
    },
    {
     "name": "stdout",
     "output_type": "stream",
     "text": [
      "episode : 409 reward : -28.151139922008298\n",
      "total test reward=-17.92266861356843\n"
     ]
    },
    {
     "name": "stderr",
     "output_type": "stream",
     "text": [
      "100%|█████████████████████████████████████████████████████████████████████████████| 2010/2010 [00:03<00:00, 508.87it/s]\n",
      "  3%|██                                                                             | 52/2010 [00:00<00:03, 513.54it/s]"
     ]
    },
    {
     "name": "stdout",
     "output_type": "stream",
     "text": [
      "episode : 410 reward : -17.575114421449854\n",
      "total test reward=-40.87175606992217\n"
     ]
    },
    {
     "name": "stderr",
     "output_type": "stream",
     "text": [
      "100%|█████████████████████████████████████████████████████████████████████████████| 2010/2010 [00:03<00:00, 511.68it/s]\n",
      "  3%|██                                                                             | 53/2010 [00:00<00:03, 520.40it/s]"
     ]
    },
    {
     "name": "stdout",
     "output_type": "stream",
     "text": [
      "episode : 411 reward : -21.06562216523227\n",
      "total test reward=-27.300868721087493\n"
     ]
    },
    {
     "name": "stderr",
     "output_type": "stream",
     "text": [
      "100%|█████████████████████████████████████████████████████████████████████████████| 2010/2010 [00:03<00:00, 505.08it/s]\n",
      "  3%|██                                                                             | 52/2010 [00:00<00:03, 513.49it/s]"
     ]
    },
    {
     "name": "stdout",
     "output_type": "stream",
     "text": [
      "episode : 412 reward : -18.192032008310946\n",
      "total test reward=-5.364098964349364\n"
     ]
    },
    {
     "name": "stderr",
     "output_type": "stream",
     "text": [
      "100%|█████████████████████████████████████████████████████████████████████████████| 2010/2010 [00:03<00:00, 506.81it/s]\n",
      "  5%|████                                                                          | 106/2010 [00:00<00:03, 529.92it/s]"
     ]
    },
    {
     "name": "stdout",
     "output_type": "stream",
     "text": [
      "episode : 413 reward : -27.10985269426922\n",
      "total test reward=-18.22570388709169\n"
     ]
    },
    {
     "name": "stderr",
     "output_type": "stream",
     "text": [
      "100%|█████████████████████████████████████████████████████████████████████████████| 2010/2010 [00:04<00:00, 501.99it/s]\n",
      "  3%|██                                                                             | 52/2010 [00:00<00:03, 516.33it/s]"
     ]
    },
    {
     "name": "stdout",
     "output_type": "stream",
     "text": [
      "episode : 414 reward : -62.58923065290156\n",
      "total test reward=-36.796489431374134\n"
     ]
    },
    {
     "name": "stderr",
     "output_type": "stream",
     "text": [
      "100%|█████████████████████████████████████████████████████████████████████████████| 2010/2010 [00:03<00:00, 510.80it/s]\n",
      "  2%|█▊                                                                             | 47/2010 [00:00<00:04, 466.56it/s]"
     ]
    },
    {
     "name": "stdout",
     "output_type": "stream",
     "text": [
      "episode : 415 reward : -17.191456127090277\n",
      "total test reward=-38.87017292887007\n"
     ]
    },
    {
     "name": "stderr",
     "output_type": "stream",
     "text": [
      "100%|█████████████████████████████████████████████████████████████████████████████| 2010/2010 [00:04<00:00, 500.91it/s]\n",
      "  3%|██▏                                                                            | 56/2010 [00:00<00:03, 555.64it/s]"
     ]
    },
    {
     "name": "stdout",
     "output_type": "stream",
     "text": [
      "episode : 416 reward : 126.07837764243965\n",
      "total test reward=-37.922438507337674\n"
     ]
    },
    {
     "name": "stderr",
     "output_type": "stream",
     "text": [
      "100%|█████████████████████████████████████████████████████████████████████████████| 2010/2010 [00:03<00:00, 505.54it/s]\n",
      "  3%|██                                                                             | 53/2010 [00:00<00:03, 528.15it/s]"
     ]
    },
    {
     "name": "stdout",
     "output_type": "stream",
     "text": [
      "episode : 417 reward : -63.63869185984254\n",
      "total test reward=-18.121329429667224\n"
     ]
    },
    {
     "name": "stderr",
     "output_type": "stream",
     "text": [
      "100%|█████████████████████████████████████████████████████████████████████████████| 2010/2010 [00:04<00:00, 500.62it/s]\n",
      "  2%|█▉                                                                             | 50/2010 [00:00<00:04, 486.75it/s]"
     ]
    },
    {
     "name": "stdout",
     "output_type": "stream",
     "text": [
      "episode : 418 reward : -45.69642716754518\n",
      "total test reward=-44.670573313581585\n"
     ]
    },
    {
     "name": "stderr",
     "output_type": "stream",
     "text": [
      "100%|█████████████████████████████████████████████████████████████████████████████| 2010/2010 [00:04<00:00, 499.62it/s]\n",
      "  3%|██                                                                             | 54/2010 [00:00<00:03, 533.45it/s]"
     ]
    },
    {
     "name": "stdout",
     "output_type": "stream",
     "text": [
      "episode : 419 reward : -2.4078056866777615\n",
      "total test reward=-40.6608822787814\n"
     ]
    },
    {
     "name": "stderr",
     "output_type": "stream",
     "text": [
      "100%|█████████████████████████████████████████████████████████████████████████████| 2010/2010 [00:03<00:00, 512.77it/s]\n",
      "  3%|██                                                                             | 54/2010 [00:00<00:03, 530.83it/s]"
     ]
    },
    {
     "name": "stdout",
     "output_type": "stream",
     "text": [
      "episode : 420 reward : -57.65374839168683\n",
      "total test reward=-37.84187442366019\n"
     ]
    },
    {
     "name": "stderr",
     "output_type": "stream",
     "text": [
      "100%|█████████████████████████████████████████████████████████████████████████████| 2010/2010 [00:03<00:00, 504.48it/s]\n",
      "  3%|██                                                                             | 53/2010 [00:00<00:03, 520.98it/s]"
     ]
    },
    {
     "name": "stdout",
     "output_type": "stream",
     "text": [
      "episode : 421 reward : -24.021549071945174\n",
      "total test reward=-48.97508222072918\n"
     ]
    },
    {
     "name": "stderr",
     "output_type": "stream",
     "text": [
      "100%|█████████████████████████████████████████████████████████████████████████████| 2010/2010 [00:03<00:00, 502.99it/s]\n",
      "  3%|██▎                                                                            | 58/2010 [00:00<00:03, 578.56it/s]"
     ]
    },
    {
     "name": "stdout",
     "output_type": "stream",
     "text": [
      "episode : 422 reward : -2.885512753541917\n",
      "total test reward=-35.08143465584376\n"
     ]
    },
    {
     "name": "stderr",
     "output_type": "stream",
     "text": [
      "100%|█████████████████████████████████████████████████████████████████████████████| 2010/2010 [00:04<00:00, 496.26it/s]\n",
      "  2%|█▉                                                                             | 50/2010 [00:00<00:03, 497.92it/s]"
     ]
    },
    {
     "name": "stdout",
     "output_type": "stream",
     "text": [
      "episode : 423 reward : -72.91998315106915\n",
      "total test reward=-44.48050206586338\n"
     ]
    },
    {
     "name": "stderr",
     "output_type": "stream",
     "text": [
      "100%|█████████████████████████████████████████████████████████████████████████████| 2010/2010 [00:04<00:00, 501.43it/s]\n",
      "  2%|█▉                                                                             | 49/2010 [00:00<00:04, 481.48it/s]"
     ]
    },
    {
     "name": "stdout",
     "output_type": "stream",
     "text": [
      "episode : 424 reward : -81.5568942523613\n",
      "total test reward=-27.624914674801847\n"
     ]
    },
    {
     "name": "stderr",
     "output_type": "stream",
     "text": [
      "100%|█████████████████████████████████████████████████████████████████████████████| 2010/2010 [00:03<00:00, 505.86it/s]\n",
      "  5%|███▉                                                                          | 102/2010 [00:00<00:03, 506.59it/s]"
     ]
    },
    {
     "name": "stdout",
     "output_type": "stream",
     "text": [
      "episode : 425 reward : -46.69140766184262\n",
      "total test reward=-31.64375211276414\n"
     ]
    },
    {
     "name": "stderr",
     "output_type": "stream",
     "text": [
      "100%|█████████████████████████████████████████████████████████████████████████████| 2010/2010 [00:03<00:00, 503.58it/s]\n",
      "  3%|██                                                                             | 53/2010 [00:00<00:03, 522.65it/s]"
     ]
    },
    {
     "name": "stdout",
     "output_type": "stream",
     "text": [
      "episode : 426 reward : -45.016960687805636\n",
      "total test reward=-46.998779488704045\n"
     ]
    },
    {
     "name": "stderr",
     "output_type": "stream",
     "text": [
      "100%|█████████████████████████████████████████████████████████████████████████████| 2010/2010 [00:04<00:00, 502.08it/s]\n",
      "  5%|███▉                                                                          | 100/2010 [00:00<00:03, 500.03it/s]"
     ]
    },
    {
     "name": "stdout",
     "output_type": "stream",
     "text": [
      "episode : 427 reward : -7.70583644404914\n",
      "total test reward=-20.511553144413377\n"
     ]
    },
    {
     "name": "stderr",
     "output_type": "stream",
     "text": [
      "100%|█████████████████████████████████████████████████████████████████████████████| 2010/2010 [00:03<00:00, 514.70it/s]\n",
      "  3%|██                                                                             | 51/2010 [00:00<00:03, 504.93it/s]"
     ]
    },
    {
     "name": "stdout",
     "output_type": "stream",
     "text": [
      "episode : 428 reward : -14.579482649452132\n",
      "total test reward=-41.713296758044365\n"
     ]
    },
    {
     "name": "stderr",
     "output_type": "stream",
     "text": [
      "100%|█████████████████████████████████████████████████████████████████████████████| 2010/2010 [00:03<00:00, 506.44it/s]\n",
      "  3%|██▏                                                                            | 56/2010 [00:00<00:03, 556.86it/s]"
     ]
    },
    {
     "name": "stdout",
     "output_type": "stream",
     "text": [
      "episode : 429 reward : -37.49246253298452\n",
      "total test reward=-4.599271084124453\n"
     ]
    },
    {
     "name": "stderr",
     "output_type": "stream",
     "text": [
      "100%|█████████████████████████████████████████████████████████████████████████████| 2010/2010 [00:03<00:00, 507.06it/s]\n",
      "  5%|███▉                                                                          | 100/2010 [00:00<00:03, 513.49it/s]"
     ]
    },
    {
     "name": "stdout",
     "output_type": "stream",
     "text": [
      "episode : 430 reward : -74.02069080570817\n",
      "total test reward=-40.51919639758159\n"
     ]
    },
    {
     "name": "stderr",
     "output_type": "stream",
     "text": [
      "100%|█████████████████████████████████████████████████████████████████████████████| 2010/2010 [00:03<00:00, 505.57it/s]\n",
      "  3%|██▏                                                                            | 55/2010 [00:00<00:03, 540.66it/s]"
     ]
    },
    {
     "name": "stdout",
     "output_type": "stream",
     "text": [
      "episode : 431 reward : -70.04778827411536\n",
      "total test reward=-38.075799766192844\n"
     ]
    },
    {
     "name": "stderr",
     "output_type": "stream",
     "text": [
      "100%|█████████████████████████████████████████████████████████████████████████████| 2010/2010 [00:04<00:00, 494.98it/s]\n",
      "  3%|██                                                                             | 52/2010 [00:00<00:03, 516.23it/s]"
     ]
    },
    {
     "name": "stdout",
     "output_type": "stream",
     "text": [
      "episode : 432 reward : -44.360591452637095\n",
      "total test reward=-37.103763700073415\n"
     ]
    },
    {
     "name": "stderr",
     "output_type": "stream",
     "text": [
      "100%|█████████████████████████████████████████████████████████████████████████████| 2010/2010 [00:04<00:00, 495.76it/s]\n",
      "  2%|█▊                                                                             | 45/2010 [00:00<00:04, 446.48it/s]"
     ]
    },
    {
     "name": "stdout",
     "output_type": "stream",
     "text": [
      "episode : 433 reward : -102.52492069504154\n",
      "total test reward=-29.66399069218162\n"
     ]
    },
    {
     "name": "stderr",
     "output_type": "stream",
     "text": [
      "100%|█████████████████████████████████████████████████████████████████████████████| 2010/2010 [00:03<00:00, 504.03it/s]\n",
      "  2%|█▉                                                                             | 48/2010 [00:00<00:04, 474.54it/s]"
     ]
    },
    {
     "name": "stdout",
     "output_type": "stream",
     "text": [
      "episode : 434 reward : -47.22340327216955\n",
      "total test reward=-22.772821470864574\n"
     ]
    },
    {
     "name": "stderr",
     "output_type": "stream",
     "text": [
      "100%|█████████████████████████████████████████████████████████████████████████████| 2010/2010 [00:04<00:00, 494.11it/s]\n",
      "  3%|██▏                                                                            | 55/2010 [00:00<00:03, 545.81it/s]"
     ]
    },
    {
     "name": "stdout",
     "output_type": "stream",
     "text": [
      "episode : 435 reward : -35.05273122699205\n",
      "total test reward=-40.12171966503608\n"
     ]
    },
    {
     "name": "stderr",
     "output_type": "stream",
     "text": [
      "100%|█████████████████████████████████████████████████████████████████████████████| 2010/2010 [00:04<00:00, 486.93it/s]\n",
      "  2%|█▊                                                                             | 47/2010 [00:00<00:04, 464.19it/s]"
     ]
    },
    {
     "name": "stdout",
     "output_type": "stream",
     "text": [
      "episode : 436 reward : -61.393050744309875\n",
      "total test reward=-65.47902978963864\n"
     ]
    },
    {
     "name": "stderr",
     "output_type": "stream",
     "text": [
      "100%|█████████████████████████████████████████████████████████████████████████████| 2010/2010 [00:04<00:00, 497.98it/s]\n",
      "  2%|█▉                                                                             | 50/2010 [00:00<00:04, 486.74it/s]"
     ]
    },
    {
     "name": "stdout",
     "output_type": "stream",
     "text": [
      "episode : 437 reward : -35.03949700408049\n",
      "total test reward=-31.078112481016312\n"
     ]
    },
    {
     "name": "stderr",
     "output_type": "stream",
     "text": [
      "100%|█████████████████████████████████████████████████████████████████████████████| 2010/2010 [00:04<00:00, 499.12it/s]\n",
      "  2%|█▉                                                                             | 48/2010 [00:00<00:04, 475.08it/s]"
     ]
    },
    {
     "name": "stdout",
     "output_type": "stream",
     "text": [
      "episode : 438 reward : -30.812196209636596\n",
      "total test reward=-51.87932833980294\n"
     ]
    },
    {
     "name": "stderr",
     "output_type": "stream",
     "text": [
      "100%|█████████████████████████████████████████████████████████████████████████████| 2010/2010 [00:04<00:00, 487.49it/s]\n",
      "  5%|████▏                                                                         | 107/2010 [00:00<00:03, 528.21it/s]"
     ]
    },
    {
     "name": "stdout",
     "output_type": "stream",
     "text": [
      "episode : 439 reward : -60.537890797903316\n",
      "total test reward=-24.946241106997757\n"
     ]
    },
    {
     "name": "stderr",
     "output_type": "stream",
     "text": [
      "100%|█████████████████████████████████████████████████████████████████████████████| 2010/2010 [00:04<00:00, 479.91it/s]\n",
      "  3%|██                                                                             | 52/2010 [00:00<00:03, 511.04it/s]"
     ]
    },
    {
     "name": "stdout",
     "output_type": "stream",
     "text": [
      "episode : 440 reward : -87.2621584037984\n",
      "total test reward=-53.56046548988039\n"
     ]
    },
    {
     "name": "stderr",
     "output_type": "stream",
     "text": [
      "100%|█████████████████████████████████████████████████████████████████████████████| 2010/2010 [00:04<00:00, 493.72it/s]\n",
      "  2%|█▊                                                                             | 47/2010 [00:00<00:04, 466.42it/s]"
     ]
    },
    {
     "name": "stdout",
     "output_type": "stream",
     "text": [
      "episode : 441 reward : -42.4419235512174\n",
      "total test reward=26.033253343834325\n"
     ]
    },
    {
     "name": "stderr",
     "output_type": "stream",
     "text": [
      "100%|█████████████████████████████████████████████████████████████████████████████| 2010/2010 [00:04<00:00, 490.46it/s]\n",
      "  2%|█▉                                                                             | 48/2010 [00:00<00:04, 477.13it/s]"
     ]
    },
    {
     "name": "stdout",
     "output_type": "stream",
     "text": [
      "episode : 442 reward : -3.65128302098438\n",
      "total test reward=-33.55407079753403\n"
     ]
    },
    {
     "name": "stderr",
     "output_type": "stream",
     "text": [
      "100%|█████████████████████████████████████████████████████████████████████████████| 2010/2010 [00:04<00:00, 493.55it/s]\n",
      "  3%|██                                                                             | 53/2010 [00:00<00:03, 528.57it/s]"
     ]
    },
    {
     "name": "stdout",
     "output_type": "stream",
     "text": [
      "episode : 443 reward : -35.83356354789336\n",
      "total test reward=-6.677345755787115\n"
     ]
    },
    {
     "name": "stderr",
     "output_type": "stream",
     "text": [
      "100%|█████████████████████████████████████████████████████████████████████████████| 2010/2010 [00:04<00:00, 496.52it/s]\n",
      "  3%|██                                                                             | 54/2010 [00:00<00:03, 531.00it/s]"
     ]
    },
    {
     "name": "stdout",
     "output_type": "stream",
     "text": [
      "episode : 444 reward : -20.609303274830808\n",
      "total test reward=-36.05571434530212\n"
     ]
    },
    {
     "name": "stderr",
     "output_type": "stream",
     "text": [
      "100%|█████████████████████████████████████████████████████████████████████████████| 2010/2010 [00:04<00:00, 483.63it/s]\n",
      "  3%|██                                                                             | 53/2010 [00:00<00:03, 521.92it/s]"
     ]
    },
    {
     "name": "stdout",
     "output_type": "stream",
     "text": [
      "episode : 445 reward : -23.771376842846223\n",
      "total test reward=-20.58205123819681\n"
     ]
    },
    {
     "name": "stderr",
     "output_type": "stream",
     "text": [
      "100%|█████████████████████████████████████████████████████████████████████████████| 2010/2010 [00:04<00:00, 494.74it/s]\n",
      "  2%|█▉                                                                             | 48/2010 [00:00<00:04, 471.60it/s]"
     ]
    },
    {
     "name": "stdout",
     "output_type": "stream",
     "text": [
      "episode : 446 reward : -39.39860115650271\n",
      "total test reward=-6.334061586903346\n"
     ]
    },
    {
     "name": "stderr",
     "output_type": "stream",
     "text": [
      "100%|█████████████████████████████████████████████████████████████████████████████| 2010/2010 [00:04<00:00, 476.13it/s]\n",
      "  3%|██                                                                             | 51/2010 [00:00<00:03, 500.68it/s]"
     ]
    },
    {
     "name": "stdout",
     "output_type": "stream",
     "text": [
      "episode : 447 reward : -35.86646680374827\n",
      "total test reward=-15.986287554446793\n"
     ]
    },
    {
     "name": "stderr",
     "output_type": "stream",
     "text": [
      "100%|█████████████████████████████████████████████████████████████████████████████| 2010/2010 [00:04<00:00, 496.04it/s]\n",
      "  2%|█▉                                                                             | 49/2010 [00:00<00:04, 484.14it/s]"
     ]
    },
    {
     "name": "stdout",
     "output_type": "stream",
     "text": [
      "episode : 448 reward : -27.248869529731905\n",
      "total test reward=-30.220522635567335\n"
     ]
    },
    {
     "name": "stderr",
     "output_type": "stream",
     "text": [
      "100%|█████████████████████████████████████████████████████████████████████████████| 2010/2010 [00:04<00:00, 500.50it/s]\n",
      "  3%|██                                                                             | 51/2010 [00:00<00:03, 501.83it/s]"
     ]
    },
    {
     "name": "stdout",
     "output_type": "stream",
     "text": [
      "episode : 449 reward : 84.41131581027702\n",
      "total test reward=-44.661167918849664\n"
     ]
    },
    {
     "name": "stderr",
     "output_type": "stream",
     "text": [
      "100%|█████████████████████████████████████████████████████████████████████████████| 2010/2010 [00:04<00:00, 495.79it/s]\n",
      "  3%|██                                                                             | 53/2010 [00:00<00:03, 521.16it/s]"
     ]
    },
    {
     "name": "stdout",
     "output_type": "stream",
     "text": [
      "episode : 450 reward : -44.19232812048432\n",
      "total test reward=-43.00972957458401\n"
     ]
    },
    {
     "name": "stderr",
     "output_type": "stream",
     "text": [
      "100%|█████████████████████████████████████████████████████████████████████████████| 2010/2010 [00:04<00:00, 479.51it/s]\n",
      "  3%|██                                                                             | 53/2010 [00:00<00:03, 528.20it/s]"
     ]
    },
    {
     "name": "stdout",
     "output_type": "stream",
     "text": [
      "episode : 451 reward : -35.381854026245804\n",
      "total test reward=8.109495571593374\n"
     ]
    },
    {
     "name": "stderr",
     "output_type": "stream",
     "text": [
      "100%|█████████████████████████████████████████████████████████████████████████████| 2010/2010 [00:04<00:00, 493.83it/s]\n",
      "  3%|██                                                                             | 52/2010 [00:00<00:03, 517.21it/s]"
     ]
    },
    {
     "name": "stdout",
     "output_type": "stream",
     "text": [
      "episode : 452 reward : -17.81637674627035\n",
      "total test reward=-39.940565566361656\n"
     ]
    },
    {
     "name": "stderr",
     "output_type": "stream",
     "text": [
      "100%|█████████████████████████████████████████████████████████████████████████████| 2010/2010 [00:04<00:00, 498.32it/s]\n",
      "  3%|██                                                                             | 53/2010 [00:00<00:03, 526.05it/s]"
     ]
    },
    {
     "name": "stdout",
     "output_type": "stream",
     "text": [
      "episode : 453 reward : -25.20514518141013\n",
      "total test reward=14.95939922064402\n"
     ]
    },
    {
     "name": "stderr",
     "output_type": "stream",
     "text": [
      "100%|█████████████████████████████████████████████████████████████████████████████| 2010/2010 [00:04<00:00, 472.53it/s]\n",
      "  2%|█▉                                                                             | 50/2010 [00:00<00:03, 492.86it/s]"
     ]
    },
    {
     "name": "stdout",
     "output_type": "stream",
     "text": [
      "episode : 454 reward : -47.525966156102555\n",
      "total test reward=-49.67060683769695\n"
     ]
    },
    {
     "name": "stderr",
     "output_type": "stream",
     "text": [
      "100%|█████████████████████████████████████████████████████████████████████████████| 2010/2010 [00:04<00:00, 492.10it/s]\n",
      "  4%|███▌                                                                           | 90/2010 [00:00<00:04, 455.78it/s]"
     ]
    },
    {
     "name": "stdout",
     "output_type": "stream",
     "text": [
      "episode : 455 reward : -87.83323042643144\n",
      "total test reward=-33.7673067932702\n"
     ]
    },
    {
     "name": "stderr",
     "output_type": "stream",
     "text": [
      "100%|█████████████████████████████████████████████████████████████████████████████| 2010/2010 [00:04<00:00, 494.50it/s]\n",
      "  3%|██                                                                             | 51/2010 [00:00<00:03, 502.93it/s]"
     ]
    },
    {
     "name": "stdout",
     "output_type": "stream",
     "text": [
      "episode : 456 reward : -61.86383817655954\n",
      "total test reward=-76.25053440211785\n"
     ]
    },
    {
     "name": "stderr",
     "output_type": "stream",
     "text": [
      "100%|█████████████████████████████████████████████████████████████████████████████| 2010/2010 [00:03<00:00, 505.76it/s]\n",
      "  2%|█▊                                                                             | 45/2010 [00:00<00:04, 442.72it/s]"
     ]
    },
    {
     "name": "stdout",
     "output_type": "stream",
     "text": [
      "episode : 457 reward : -5.754406358796274\n",
      "total test reward=-25.312232966349388\n"
     ]
    },
    {
     "name": "stderr",
     "output_type": "stream",
     "text": [
      "100%|█████████████████████████████████████████████████████████████████████████████| 2010/2010 [00:04<00:00, 487.99it/s]\n",
      "  3%|██                                                                             | 53/2010 [00:00<00:03, 523.92it/s]"
     ]
    },
    {
     "name": "stdout",
     "output_type": "stream",
     "text": [
      "episode : 458 reward : -68.29089985566381\n",
      "total test reward=-41.786206031883964\n"
     ]
    },
    {
     "name": "stderr",
     "output_type": "stream",
     "text": [
      "100%|█████████████████████████████████████████████████████████████████████████████| 2010/2010 [00:04<00:00, 493.23it/s]\n",
      "  3%|██▏                                                                            | 56/2010 [00:00<00:03, 558.33it/s]"
     ]
    },
    {
     "name": "stdout",
     "output_type": "stream",
     "text": [
      "episode : 459 reward : -55.98880960720962\n",
      "total test reward=-42.61751225546287\n"
     ]
    },
    {
     "name": "stderr",
     "output_type": "stream",
     "text": [
      "100%|█████████████████████████████████████████████████████████████████████████████| 2010/2010 [00:03<00:00, 505.40it/s]\n",
      "  3%|██                                                                             | 54/2010 [00:00<00:03, 535.21it/s]"
     ]
    },
    {
     "name": "stdout",
     "output_type": "stream",
     "text": [
      "episode : 460 reward : -73.68311736675838\n",
      "total test reward=-31.560498943257137\n"
     ]
    },
    {
     "name": "stderr",
     "output_type": "stream",
     "text": [
      "100%|█████████████████████████████████████████████████████████████████████████████| 2010/2010 [00:04<00:00, 500.23it/s]\n",
      "  3%|██                                                                             | 53/2010 [00:00<00:03, 526.23it/s]"
     ]
    },
    {
     "name": "stdout",
     "output_type": "stream",
     "text": [
      "episode : 461 reward : -62.16778049027067\n",
      "total test reward=-54.30923819412959\n"
     ]
    },
    {
     "name": "stderr",
     "output_type": "stream",
     "text": [
      "100%|█████████████████████████████████████████████████████████████████████████████| 2010/2010 [00:04<00:00, 486.48it/s]\n",
      "  3%|██                                                                             | 54/2010 [00:00<00:03, 530.83it/s]"
     ]
    },
    {
     "name": "stdout",
     "output_type": "stream",
     "text": [
      "episode : 462 reward : -57.125767654285994\n",
      "total test reward=-2.8475203896834445\n"
     ]
    },
    {
     "name": "stderr",
     "output_type": "stream",
     "text": [
      "100%|█████████████████████████████████████████████████████████████████████████████| 2010/2010 [00:04<00:00, 487.42it/s]\n",
      "  2%|█▉                                                                             | 48/2010 [00:00<00:04, 464.52it/s]"
     ]
    },
    {
     "name": "stdout",
     "output_type": "stream",
     "text": [
      "episode : 463 reward : -40.41880266220184\n",
      "total test reward=-34.3647731675902\n"
     ]
    },
    {
     "name": "stderr",
     "output_type": "stream",
     "text": [
      "100%|█████████████████████████████████████████████████████████████████████████████| 2010/2010 [00:03<00:00, 502.53it/s]\n",
      "  3%|██                                                                             | 51/2010 [00:00<00:03, 500.82it/s]"
     ]
    },
    {
     "name": "stdout",
     "output_type": "stream",
     "text": [
      "episode : 464 reward : -27.72145279433383\n",
      "total test reward=-37.24428786110949\n"
     ]
    },
    {
     "name": "stderr",
     "output_type": "stream",
     "text": [
      "100%|█████████████████████████████████████████████████████████████████████████████| 2010/2010 [00:04<00:00, 488.96it/s]\n",
      "  3%|██                                                                             | 54/2010 [00:00<00:03, 534.78it/s]"
     ]
    },
    {
     "name": "stdout",
     "output_type": "stream",
     "text": [
      "episode : 465 reward : -76.3151892938717\n",
      "total test reward=-51.2454023801691\n"
     ]
    },
    {
     "name": "stderr",
     "output_type": "stream",
     "text": [
      "100%|█████████████████████████████████████████████████████████████████████████████| 2010/2010 [00:04<00:00, 500.96it/s]\n",
      "  3%|██                                                                             | 51/2010 [00:00<00:03, 501.23it/s]"
     ]
    },
    {
     "name": "stdout",
     "output_type": "stream",
     "text": [
      "episode : 466 reward : -43.89474357886618\n",
      "total test reward=-56.765887104556974\n"
     ]
    },
    {
     "name": "stderr",
     "output_type": "stream",
     "text": [
      "100%|█████████████████████████████████████████████████████████████████████████████| 2010/2010 [00:04<00:00, 498.01it/s]\n",
      "  3%|██                                                                             | 51/2010 [00:00<00:03, 503.62it/s]"
     ]
    },
    {
     "name": "stdout",
     "output_type": "stream",
     "text": [
      "episode : 467 reward : -40.6216500156186\n",
      "total test reward=-33.42727455156523\n"
     ]
    },
    {
     "name": "stderr",
     "output_type": "stream",
     "text": [
      "100%|█████████████████████████████████████████████████████████████████████████████| 2010/2010 [00:04<00:00, 499.94it/s]\n",
      "  5%|████                                                                          | 106/2010 [00:00<00:03, 530.06it/s]"
     ]
    },
    {
     "name": "stdout",
     "output_type": "stream",
     "text": [
      "episode : 468 reward : -30.022869429244537\n",
      "total test reward=-17.2693139313229\n"
     ]
    },
    {
     "name": "stderr",
     "output_type": "stream",
     "text": [
      "100%|█████████████████████████████████████████████████████████████████████████████| 2010/2010 [00:04<00:00, 493.85it/s]\n",
      "  3%|██                                                                             | 52/2010 [00:00<00:03, 511.03it/s]"
     ]
    },
    {
     "name": "stdout",
     "output_type": "stream",
     "text": [
      "episode : 469 reward : -41.84423601034274\n",
      "total test reward=-64.97372506797792\n"
     ]
    },
    {
     "name": "stderr",
     "output_type": "stream",
     "text": [
      "100%|█████████████████████████████████████████████████████████████████████████████| 2010/2010 [00:04<00:00, 497.84it/s]\n",
      "  2%|█▉                                                                             | 50/2010 [00:00<00:04, 487.91it/s]"
     ]
    },
    {
     "name": "stdout",
     "output_type": "stream",
     "text": [
      "episode : 470 reward : -75.1525792974412\n",
      "total test reward=-4.290765604594336\n"
     ]
    },
    {
     "name": "stderr",
     "output_type": "stream",
     "text": [
      "100%|█████████████████████████████████████████████████████████████████████████████| 2010/2010 [00:04<00:00, 493.00it/s]\n",
      "  2%|█▊                                                                             | 47/2010 [00:00<00:04, 467.93it/s]"
     ]
    },
    {
     "name": "stdout",
     "output_type": "stream",
     "text": [
      "episode : 471 reward : -54.102174367553914\n",
      "total test reward=-45.87164164290504\n"
     ]
    },
    {
     "name": "stderr",
     "output_type": "stream",
     "text": [
      "100%|█████████████████████████████████████████████████████████████████████████████| 2010/2010 [00:04<00:00, 494.30it/s]\n",
      "  3%|██▏                                                                            | 55/2010 [00:00<00:03, 539.27it/s]"
     ]
    },
    {
     "name": "stdout",
     "output_type": "stream",
     "text": [
      "episode : 472 reward : 67.35573872890043\n",
      "total test reward=-34.292747993796276\n"
     ]
    },
    {
     "name": "stderr",
     "output_type": "stream",
     "text": [
      "100%|█████████████████████████████████████████████████████████████████████████████| 2010/2010 [00:04<00:00, 491.04it/s]\n",
      "  3%|██▎                                                                            | 58/2010 [00:00<00:03, 568.85it/s]"
     ]
    },
    {
     "name": "stdout",
     "output_type": "stream",
     "text": [
      "episode : 473 reward : -61.14642437153702\n",
      "total test reward=-28.6947429498995\n"
     ]
    },
    {
     "name": "stderr",
     "output_type": "stream",
     "text": [
      "100%|█████████████████████████████████████████████████████████████████████████████| 2010/2010 [00:04<00:00, 488.05it/s]\n",
      "  2%|█▍                                                                             | 35/2010 [00:00<00:05, 340.96it/s]"
     ]
    },
    {
     "name": "stdout",
     "output_type": "stream",
     "text": [
      "episode : 474 reward : -41.894833981895374\n",
      "total test reward=-9.34362061920757\n"
     ]
    },
    {
     "name": "stderr",
     "output_type": "stream",
     "text": [
      "100%|█████████████████████████████████████████████████████████████████████████████| 2010/2010 [00:04<00:00, 459.61it/s]\n",
      "  2%|█▉                                                                             | 49/2010 [00:00<00:04, 488.83it/s]"
     ]
    },
    {
     "name": "stdout",
     "output_type": "stream",
     "text": [
      "episode : 475 reward : -59.573677262915595\n",
      "total test reward=-19.405337983297755\n"
     ]
    },
    {
     "name": "stderr",
     "output_type": "stream",
     "text": [
      "100%|█████████████████████████████████████████████████████████████████████████████| 2010/2010 [00:04<00:00, 491.12it/s]\n",
      "  3%|██                                                                             | 54/2010 [00:00<00:03, 533.35it/s]"
     ]
    },
    {
     "name": "stdout",
     "output_type": "stream",
     "text": [
      "episode : 476 reward : -12.60767429002641\n",
      "total test reward=-34.5754308461356\n"
     ]
    },
    {
     "name": "stderr",
     "output_type": "stream",
     "text": [
      "100%|█████████████████████████████████████████████████████████████████████████████| 2010/2010 [00:04<00:00, 485.48it/s]\n",
      "  3%|██                                                                             | 51/2010 [00:00<00:03, 498.06it/s]"
     ]
    },
    {
     "name": "stdout",
     "output_type": "stream",
     "text": [
      "episode : 477 reward : -14.424698489003902\n",
      "total test reward=-21.36662903669034\n"
     ]
    },
    {
     "name": "stderr",
     "output_type": "stream",
     "text": [
      "100%|█████████████████████████████████████████████████████████████████████████████| 2010/2010 [00:04<00:00, 477.77it/s]\n",
      "  2%|█▉                                                                             | 50/2010 [00:00<00:03, 490.60it/s]"
     ]
    },
    {
     "name": "stdout",
     "output_type": "stream",
     "text": [
      "episode : 478 reward : -91.69453623926421\n",
      "total test reward=-43.38089894359103\n"
     ]
    },
    {
     "name": "stderr",
     "output_type": "stream",
     "text": [
      "100%|█████████████████████████████████████████████████████████████████████████████| 2010/2010 [00:04<00:00, 473.25it/s]\n",
      "  2%|█▉                                                                             | 50/2010 [00:00<00:03, 495.79it/s]"
     ]
    },
    {
     "name": "stdout",
     "output_type": "stream",
     "text": [
      "episode : 479 reward : -19.328599829684947\n",
      "total test reward=-3.388777000886006\n"
     ]
    },
    {
     "name": "stderr",
     "output_type": "stream",
     "text": [
      "100%|█████████████████████████████████████████████████████████████████████████████| 2010/2010 [00:04<00:00, 500.64it/s]\n",
      "  3%|██▏                                                                            | 56/2010 [00:00<00:03, 550.90it/s]"
     ]
    },
    {
     "name": "stdout",
     "output_type": "stream",
     "text": [
      "episode : 480 reward : -48.22403469677573\n",
      "total test reward=-36.37482926333205\n"
     ]
    },
    {
     "name": "stderr",
     "output_type": "stream",
     "text": [
      "100%|█████████████████████████████████████████████████████████████████████████████| 2010/2010 [00:04<00:00, 494.31it/s]\n",
      "  3%|██▏                                                                            | 55/2010 [00:00<00:03, 546.01it/s]"
     ]
    },
    {
     "name": "stdout",
     "output_type": "stream",
     "text": [
      "episode : 481 reward : -43.777903023422255\n",
      "total test reward=-31.573143487809876\n"
     ]
    },
    {
     "name": "stderr",
     "output_type": "stream",
     "text": [
      "100%|█████████████████████████████████████████████████████████████████████████████| 2010/2010 [00:04<00:00, 491.64it/s]\n",
      "  3%|██                                                                             | 52/2010 [00:00<00:03, 518.63it/s]"
     ]
    },
    {
     "name": "stdout",
     "output_type": "stream",
     "text": [
      "episode : 482 reward : -191.66308880461554\n",
      "total test reward=-38.561996425793744\n"
     ]
    },
    {
     "name": "stderr",
     "output_type": "stream",
     "text": [
      "100%|█████████████████████████████████████████████████████████████████████████████| 2010/2010 [00:04<00:00, 496.80it/s]\n",
      "  3%|██▏                                                                            | 56/2010 [00:00<00:03, 555.03it/s]"
     ]
    },
    {
     "name": "stdout",
     "output_type": "stream",
     "text": [
      "episode : 483 reward : -10.211630150694106\n",
      "total test reward=-41.30208418100975\n"
     ]
    },
    {
     "name": "stderr",
     "output_type": "stream",
     "text": [
      "100%|█████████████████████████████████████████████████████████████████████████████| 2010/2010 [00:04<00:00, 494.67it/s]\n",
      "  2%|█▉                                                                             | 49/2010 [00:00<00:04, 486.08it/s]"
     ]
    },
    {
     "name": "stdout",
     "output_type": "stream",
     "text": [
      "episode : 484 reward : -55.332401112676195\n",
      "total test reward=-8.732490691279429\n"
     ]
    },
    {
     "name": "stderr",
     "output_type": "stream",
     "text": [
      "100%|█████████████████████████████████████████████████████████████████████████████| 2010/2010 [00:04<00:00, 472.99it/s]\n",
      "  5%|███▉                                                                           | 99/2010 [00:00<00:03, 490.07it/s]"
     ]
    },
    {
     "name": "stdout",
     "output_type": "stream",
     "text": [
      "episode : 485 reward : -0.5137915004516174\n",
      "total test reward=1.8305474028728497\n"
     ]
    },
    {
     "name": "stderr",
     "output_type": "stream",
     "text": [
      "100%|█████████████████████████████████████████████████████████████████████████████| 2010/2010 [00:04<00:00, 487.17it/s]\n",
      "  3%|██▏                                                                            | 56/2010 [00:00<00:03, 559.79it/s]"
     ]
    },
    {
     "name": "stdout",
     "output_type": "stream",
     "text": [
      "episode : 486 reward : -91.77866003737074\n",
      "total test reward=-43.64062582050481\n"
     ]
    },
    {
     "name": "stderr",
     "output_type": "stream",
     "text": [
      "100%|█████████████████████████████████████████████████████████████████████████████| 2010/2010 [00:04<00:00, 501.64it/s]\n",
      "  3%|██                                                                             | 53/2010 [00:00<00:03, 527.77it/s]"
     ]
    },
    {
     "name": "stdout",
     "output_type": "stream",
     "text": [
      "episode : 487 reward : -42.57478067250216\n",
      "total test reward=-25.98567663869621\n"
     ]
    },
    {
     "name": "stderr",
     "output_type": "stream",
     "text": [
      "100%|█████████████████████████████████████████████████████████████████████████████| 2010/2010 [00:04<00:00, 488.96it/s]\n",
      "  2%|█▉                                                                             | 49/2010 [00:00<00:04, 486.16it/s]"
     ]
    },
    {
     "name": "stdout",
     "output_type": "stream",
     "text": [
      "episode : 488 reward : -21.901180873524225\n",
      "total test reward=-20.25340110999995\n"
     ]
    },
    {
     "name": "stderr",
     "output_type": "stream",
     "text": [
      "100%|█████████████████████████████████████████████████████████████████████████████| 2010/2010 [00:04<00:00, 496.47it/s]\n",
      "  5%|███▉                                                                          | 101/2010 [00:00<00:03, 510.15it/s]"
     ]
    },
    {
     "name": "stdout",
     "output_type": "stream",
     "text": [
      "episode : 489 reward : -28.860180515968068\n",
      "total test reward=-17.8068935483541\n"
     ]
    },
    {
     "name": "stderr",
     "output_type": "stream",
     "text": [
      "100%|█████████████████████████████████████████████████████████████████████████████| 2010/2010 [00:04<00:00, 494.21it/s]\n",
      "  5%|███▋                                                                           | 95/2010 [00:00<00:03, 479.49it/s]"
     ]
    },
    {
     "name": "stdout",
     "output_type": "stream",
     "text": [
      "episode : 490 reward : -115.10362701156805\n",
      "total test reward=-22.63607959466264\n"
     ]
    },
    {
     "name": "stderr",
     "output_type": "stream",
     "text": [
      "100%|█████████████████████████████████████████████████████████████████████████████| 2010/2010 [00:04<00:00, 487.67it/s]\n",
      "  2%|█▉                                                                             | 48/2010 [00:00<00:04, 471.86it/s]"
     ]
    },
    {
     "name": "stdout",
     "output_type": "stream",
     "text": [
      "episode : 491 reward : -83.84161589296309\n",
      "total test reward=-42.27397963790541\n"
     ]
    },
    {
     "name": "stderr",
     "output_type": "stream",
     "text": [
      "100%|█████████████████████████████████████████████████████████████████████████████| 2010/2010 [00:03<00:00, 506.92it/s]\n",
      "  2%|█▉                                                                             | 49/2010 [00:00<00:04, 486.45it/s]"
     ]
    },
    {
     "name": "stdout",
     "output_type": "stream",
     "text": [
      "episode : 492 reward : -80.69380316507579\n",
      "total test reward=-34.64140909290764\n"
     ]
    },
    {
     "name": "stderr",
     "output_type": "stream",
     "text": [
      "100%|█████████████████████████████████████████████████████████████████████████████| 2010/2010 [00:04<00:00, 495.57it/s]\n",
      "  2%|█▊                                                                             | 46/2010 [00:00<00:04, 455.50it/s]"
     ]
    },
    {
     "name": "stdout",
     "output_type": "stream",
     "text": [
      "episode : 493 reward : -37.60637831232307\n",
      "total test reward=-6.63179855637618\n"
     ]
    },
    {
     "name": "stderr",
     "output_type": "stream",
     "text": [
      "100%|█████████████████████████████████████████████████████████████████████████████| 2010/2010 [00:04<00:00, 494.84it/s]\n",
      "  3%|██▏                                                                            | 57/2010 [00:00<00:03, 565.06it/s]"
     ]
    },
    {
     "name": "stdout",
     "output_type": "stream",
     "text": [
      "episode : 494 reward : -50.99095586337398\n",
      "total test reward=-48.369001195906876\n"
     ]
    },
    {
     "name": "stderr",
     "output_type": "stream",
     "text": [
      "100%|█████████████████████████████████████████████████████████████████████████████| 2010/2010 [00:04<00:00, 498.25it/s]\n",
      "  3%|██                                                                             | 52/2010 [00:00<00:03, 515.22it/s]"
     ]
    },
    {
     "name": "stdout",
     "output_type": "stream",
     "text": [
      "episode : 495 reward : 2.534232932888443\n",
      "total test reward=-50.01891459931597\n"
     ]
    },
    {
     "name": "stderr",
     "output_type": "stream",
     "text": [
      "100%|█████████████████████████████████████████████████████████████████████████████| 2010/2010 [00:04<00:00, 477.36it/s]\n",
      "  3%|██                                                                             | 53/2010 [00:00<00:03, 513.27it/s]"
     ]
    },
    {
     "name": "stdout",
     "output_type": "stream",
     "text": [
      "episode : 496 reward : -40.720359728056735\n",
      "total test reward=-47.28844626623213\n"
     ]
    },
    {
     "name": "stderr",
     "output_type": "stream",
     "text": [
      "100%|█████████████████████████████████████████████████████████████████████████████| 2010/2010 [00:04<00:00, 491.41it/s]\n",
      "  2%|█▉                                                                             | 50/2010 [00:00<00:03, 491.40it/s]"
     ]
    },
    {
     "name": "stdout",
     "output_type": "stream",
     "text": [
      "episode : 497 reward : -18.721590651141952\n",
      "total test reward=-44.16717497103967\n"
     ]
    },
    {
     "name": "stderr",
     "output_type": "stream",
     "text": [
      "100%|█████████████████████████████████████████████████████████████████████████████| 2010/2010 [00:04<00:00, 488.86it/s]\n",
      "  2%|█▉                                                                             | 48/2010 [00:00<00:04, 474.85it/s]"
     ]
    },
    {
     "name": "stdout",
     "output_type": "stream",
     "text": [
      "episode : 498 reward : 38.51151342703912\n",
      "total test reward=-31.393249892748134\n"
     ]
    },
    {
     "name": "stderr",
     "output_type": "stream",
     "text": [
      "100%|█████████████████████████████████████████████████████████████████████████████| 2010/2010 [00:04<00:00, 499.68it/s]\n",
      "  2%|█▉                                                                             | 48/2010 [00:00<00:04, 474.15it/s]"
     ]
    },
    {
     "name": "stdout",
     "output_type": "stream",
     "text": [
      "episode : 499 reward : -47.66871825313686\n",
      "total test reward=-52.500851375567365\n"
     ]
    },
    {
     "name": "stderr",
     "output_type": "stream",
     "text": [
      "100%|█████████████████████████████████████████████████████████████████████████████| 2010/2010 [00:04<00:00, 494.82it/s]\n",
      "  2%|█▉                                                                             | 49/2010 [00:00<00:04, 489.99it/s]"
     ]
    },
    {
     "name": "stdout",
     "output_type": "stream",
     "text": [
      "episode : 500 reward : -31.611114903361397\n",
      "total test reward=-36.213921299331155\n"
     ]
    },
    {
     "name": "stderr",
     "output_type": "stream",
     "text": [
      "100%|█████████████████████████████████████████████████████████████████████████████| 2010/2010 [00:04<00:00, 494.91it/s]\n",
      "  2%|█▊                                                                             | 47/2010 [00:00<00:04, 463.46it/s]"
     ]
    },
    {
     "name": "stdout",
     "output_type": "stream",
     "text": [
      "episode : 501 reward : -44.88305470794529\n",
      "total test reward=-18.065579461867905\n"
     ]
    },
    {
     "name": "stderr",
     "output_type": "stream",
     "text": [
      "100%|█████████████████████████████████████████████████████████████████████████████| 2010/2010 [00:04<00:00, 475.09it/s]\n",
      "  2%|█▉                                                                             | 48/2010 [00:00<00:04, 478.78it/s]"
     ]
    },
    {
     "name": "stdout",
     "output_type": "stream",
     "text": [
      "episode : 502 reward : 9.31938872964065\n",
      "total test reward=-19.962871147488812\n"
     ]
    },
    {
     "name": "stderr",
     "output_type": "stream",
     "text": [
      "100%|█████████████████████████████████████████████████████████████████████████████| 2010/2010 [00:04<00:00, 480.18it/s]\n",
      "  2%|█▉                                                                             | 50/2010 [00:00<00:03, 497.64it/s]"
     ]
    },
    {
     "name": "stdout",
     "output_type": "stream",
     "text": [
      "episode : 503 reward : -56.69384994237379\n",
      "total test reward=-39.514870307172046\n"
     ]
    },
    {
     "name": "stderr",
     "output_type": "stream",
     "text": [
      "100%|█████████████████████████████████████████████████████████████████████████████| 2010/2010 [00:04<00:00, 487.33it/s]\n",
      "  2%|█▉                                                                             | 48/2010 [00:00<00:04, 474.62it/s]"
     ]
    },
    {
     "name": "stdout",
     "output_type": "stream",
     "text": [
      "episode : 504 reward : -41.32534521496987\n",
      "total test reward=-43.89842574777634\n"
     ]
    },
    {
     "name": "stderr",
     "output_type": "stream",
     "text": [
      "100%|█████████████████████████████████████████████████████████████████████████████| 2010/2010 [00:04<00:00, 488.08it/s]\n",
      "  2%|█▊                                                                             | 47/2010 [00:00<00:04, 462.02it/s]"
     ]
    },
    {
     "name": "stdout",
     "output_type": "stream",
     "text": [
      "episode : 505 reward : -227.7474712336746\n",
      "total test reward=-40.0871243577343\n"
     ]
    },
    {
     "name": "stderr",
     "output_type": "stream",
     "text": [
      "100%|█████████████████████████████████████████████████████████████████████████████| 2010/2010 [00:04<00:00, 490.18it/s]\n",
      "  2%|█▉                                                                             | 49/2010 [00:00<00:04, 481.48it/s]"
     ]
    },
    {
     "name": "stdout",
     "output_type": "stream",
     "text": [
      "episode : 506 reward : -55.981955535262585\n",
      "total test reward=-60.329658795815796\n"
     ]
    },
    {
     "name": "stderr",
     "output_type": "stream",
     "text": [
      "100%|█████████████████████████████████████████████████████████████████████████████| 2010/2010 [00:04<00:00, 492.90it/s]\n",
      "  3%|██▏                                                                            | 55/2010 [00:00<00:03, 546.10it/s]"
     ]
    },
    {
     "name": "stdout",
     "output_type": "stream",
     "text": [
      "episode : 507 reward : -39.027883259014175\n",
      "total test reward=-6.768332462488314\n"
     ]
    },
    {
     "name": "stderr",
     "output_type": "stream",
     "text": [
      "100%|█████████████████████████████████████████████████████████████████████████████| 2010/2010 [00:04<00:00, 482.57it/s]\n",
      "  2%|█▉                                                                             | 50/2010 [00:00<00:03, 496.10it/s]"
     ]
    },
    {
     "name": "stdout",
     "output_type": "stream",
     "text": [
      "episode : 508 reward : -37.076323055822\n",
      "total test reward=-45.890740093473966\n"
     ]
    },
    {
     "name": "stderr",
     "output_type": "stream",
     "text": [
      "100%|█████████████████████████████████████████████████████████████████████████████| 2010/2010 [00:04<00:00, 490.73it/s]\n",
      "  3%|██                                                                             | 52/2010 [00:00<00:03, 511.14it/s]"
     ]
    },
    {
     "name": "stdout",
     "output_type": "stream",
     "text": [
      "episode : 509 reward : -29.678122907170234\n",
      "total test reward=-43.19035667960691\n"
     ]
    },
    {
     "name": "stderr",
     "output_type": "stream",
     "text": [
      "100%|█████████████████████████████████████████████████████████████████████████████| 2010/2010 [00:04<00:00, 486.93it/s]\n",
      "  3%|██                                                                             | 53/2010 [00:00<00:03, 526.02it/s]"
     ]
    },
    {
     "name": "stdout",
     "output_type": "stream",
     "text": [
      "episode : 510 reward : -58.95968364588461\n",
      "total test reward=-18.29628377819722\n"
     ]
    },
    {
     "name": "stderr",
     "output_type": "stream",
     "text": [
      "100%|█████████████████████████████████████████████████████████████████████████████| 2010/2010 [00:03<00:00, 504.61it/s]\n",
      "  3%|██                                                                             | 53/2010 [00:00<00:03, 525.95it/s]"
     ]
    },
    {
     "name": "stdout",
     "output_type": "stream",
     "text": [
      "episode : 511 reward : -54.45587600664442\n",
      "total test reward=-46.940719145623\n"
     ]
    },
    {
     "name": "stderr",
     "output_type": "stream",
     "text": [
      "100%|█████████████████████████████████████████████████████████████████████████████| 2010/2010 [00:03<00:00, 509.44it/s]\n",
      "  5%|████                                                                          | 105/2010 [00:00<00:03, 512.75it/s]"
     ]
    },
    {
     "name": "stdout",
     "output_type": "stream",
     "text": [
      "episode : 512 reward : -10.253936001583241\n",
      "total test reward=-55.76079664094807\n"
     ]
    },
    {
     "name": "stderr",
     "output_type": "stream",
     "text": [
      "100%|█████████████████████████████████████████████████████████████████████████████| 2010/2010 [00:03<00:00, 509.20it/s]\n",
      "  5%|████▏                                                                         | 107/2010 [00:00<00:03, 524.68it/s]"
     ]
    },
    {
     "name": "stdout",
     "output_type": "stream",
     "text": [
      "episode : 513 reward : -29.870377344314193\n",
      "total test reward=-70.35092996244862\n"
     ]
    },
    {
     "name": "stderr",
     "output_type": "stream",
     "text": [
      "100%|█████████████████████████████████████████████████████████████████████████████| 2010/2010 [00:03<00:00, 507.49it/s]\n",
      "  2%|█▉                                                                             | 50/2010 [00:00<00:03, 493.83it/s]"
     ]
    },
    {
     "name": "stdout",
     "output_type": "stream",
     "text": [
      "episode : 514 reward : -14.090838728646531\n",
      "total test reward=-16.20325617781304\n"
     ]
    },
    {
     "name": "stderr",
     "output_type": "stream",
     "text": [
      "100%|█████████████████████████████████████████████████████████████████████████████| 2010/2010 [00:04<00:00, 501.40it/s]\n",
      "  2%|█▊                                                                             | 46/2010 [00:00<00:04, 459.89it/s]"
     ]
    },
    {
     "name": "stdout",
     "output_type": "stream",
     "text": [
      "episode : 515 reward : -47.22136975645489\n",
      "total test reward=-28.89265106181413\n"
     ]
    },
    {
     "name": "stderr",
     "output_type": "stream",
     "text": [
      "100%|█████████████████████████████████████████████████████████████████████████████| 2010/2010 [00:03<00:00, 514.62it/s]\n",
      "  5%|████▏                                                                         | 109/2010 [00:00<00:03, 531.61it/s]"
     ]
    },
    {
     "name": "stdout",
     "output_type": "stream",
     "text": [
      "episode : 516 reward : -39.73628869942394\n",
      "total test reward=-42.98711828218574\n"
     ]
    },
    {
     "name": "stderr",
     "output_type": "stream",
     "text": [
      "100%|█████████████████████████████████████████████████████████████████████████████| 2010/2010 [00:03<00:00, 509.93it/s]\n",
      "  3%|██                                                                             | 52/2010 [00:00<00:03, 510.98it/s]"
     ]
    },
    {
     "name": "stdout",
     "output_type": "stream",
     "text": [
      "episode : 517 reward : -4.962127149788216\n",
      "total test reward=-30.062281008203257\n"
     ]
    },
    {
     "name": "stderr",
     "output_type": "stream",
     "text": [
      "100%|█████████████████████████████████████████████████████████████████████████████| 2010/2010 [00:03<00:00, 517.97it/s]\n",
      "  3%|██                                                                             | 53/2010 [00:00<00:03, 526.14it/s]"
     ]
    },
    {
     "name": "stdout",
     "output_type": "stream",
     "text": [
      "episode : 518 reward : -24.573565513034907\n",
      "total test reward=-35.5726912254062\n"
     ]
    },
    {
     "name": "stderr",
     "output_type": "stream",
     "text": [
      "100%|█████████████████████████████████████████████████████████████████████████████| 2010/2010 [00:03<00:00, 518.08it/s]\n",
      "  3%|██▏                                                                            | 57/2010 [00:00<00:03, 568.16it/s]"
     ]
    },
    {
     "name": "stdout",
     "output_type": "stream",
     "text": [
      "episode : 519 reward : -18.843949609619386\n",
      "total test reward=-34.18398946523276\n"
     ]
    },
    {
     "name": "stderr",
     "output_type": "stream",
     "text": [
      "100%|█████████████████████████████████████████████████████████████████████████████| 2010/2010 [00:03<00:00, 513.50it/s]\n",
      "  3%|██                                                                             | 54/2010 [00:00<00:03, 536.06it/s]"
     ]
    },
    {
     "name": "stdout",
     "output_type": "stream",
     "text": [
      "episode : 520 reward : -16.20218424081341\n",
      "total test reward=-5.112611435503385\n"
     ]
    },
    {
     "name": "stderr",
     "output_type": "stream",
     "text": [
      "100%|█████████████████████████████████████████████████████████████████████████████| 2010/2010 [00:03<00:00, 517.54it/s]\n",
      "  2%|█▉                                                                             | 50/2010 [00:00<00:03, 491.51it/s]"
     ]
    },
    {
     "name": "stdout",
     "output_type": "stream",
     "text": [
      "episode : 521 reward : -68.95116447015349\n",
      "total test reward=-42.3176256691758\n"
     ]
    },
    {
     "name": "stderr",
     "output_type": "stream",
     "text": [
      "100%|█████████████████████████████████████████████████████████████████████████████| 2010/2010 [00:03<00:00, 514.57it/s]\n",
      "  3%|██▏                                                                            | 56/2010 [00:00<00:03, 553.85it/s]"
     ]
    },
    {
     "name": "stdout",
     "output_type": "stream",
     "text": [
      "episode : 522 reward : -80.38747023634167\n",
      "total test reward=-10.682331255254315\n"
     ]
    },
    {
     "name": "stderr",
     "output_type": "stream",
     "text": [
      "100%|█████████████████████████████████████████████████████████████████████████████| 2010/2010 [00:03<00:00, 522.89it/s]\n",
      "  5%|████▏                                                                         | 109/2010 [00:00<00:03, 536.65it/s]"
     ]
    },
    {
     "name": "stdout",
     "output_type": "stream",
     "text": [
      "episode : 523 reward : 100.85032071251757\n",
      "total test reward=-16.988618609068602\n"
     ]
    },
    {
     "name": "stderr",
     "output_type": "stream",
     "text": [
      "100%|█████████████████████████████████████████████████████████████████████████████| 2010/2010 [00:03<00:00, 524.05it/s]\n",
      "  3%|██                                                                             | 54/2010 [00:00<00:03, 536.09it/s]"
     ]
    },
    {
     "name": "stdout",
     "output_type": "stream",
     "text": [
      "episode : 524 reward : -26.327637159805533\n",
      "total test reward=-12.554281702667856\n"
     ]
    },
    {
     "name": "stderr",
     "output_type": "stream",
     "text": [
      "100%|█████████████████████████████████████████████████████████████████████████████| 2010/2010 [00:03<00:00, 518.04it/s]\n",
      "  3%|██▏                                                                            | 56/2010 [00:00<00:03, 558.19it/s]"
     ]
    },
    {
     "name": "stdout",
     "output_type": "stream",
     "text": [
      "episode : 525 reward : -59.994962601204776\n",
      "total test reward=-41.33682726527555\n"
     ]
    },
    {
     "name": "stderr",
     "output_type": "stream",
     "text": [
      "100%|█████████████████████████████████████████████████████████████████████████████| 2010/2010 [00:03<00:00, 517.77it/s]\n",
      "  3%|██                                                                             | 54/2010 [00:00<00:03, 530.17it/s]"
     ]
    },
    {
     "name": "stdout",
     "output_type": "stream",
     "text": [
      "episode : 526 reward : -47.65704652977925\n",
      "total test reward=-24.598473523316283\n"
     ]
    },
    {
     "name": "stderr",
     "output_type": "stream",
     "text": [
      "100%|█████████████████████████████████████████████████████████████████████████████| 2010/2010 [00:03<00:00, 528.91it/s]\n",
      "  2%|█▉                                                                             | 48/2010 [00:00<00:04, 476.36it/s]"
     ]
    },
    {
     "name": "stdout",
     "output_type": "stream",
     "text": [
      "episode : 527 reward : -175.78985501071867\n",
      "total test reward=-28.966616845765078\n"
     ]
    },
    {
     "name": "stderr",
     "output_type": "stream",
     "text": [
      "100%|█████████████████████████████████████████████████████████████████████████████| 2010/2010 [00:03<00:00, 523.79it/s]\n",
      "  3%|██                                                                             | 53/2010 [00:00<00:03, 523.19it/s]"
     ]
    },
    {
     "name": "stdout",
     "output_type": "stream",
     "text": [
      "episode : 528 reward : -1.7291000195296249\n",
      "total test reward=-34.50418918422153\n"
     ]
    },
    {
     "name": "stderr",
     "output_type": "stream",
     "text": [
      "100%|█████████████████████████████████████████████████████████████████████████████| 2010/2010 [00:04<00:00, 501.57it/s]\n",
      "  3%|██▏                                                                            | 56/2010 [00:00<00:03, 549.32it/s]"
     ]
    },
    {
     "name": "stdout",
     "output_type": "stream",
     "text": [
      "episode : 529 reward : -45.498573552683325\n",
      "total test reward=-20.237765224728964\n"
     ]
    },
    {
     "name": "stderr",
     "output_type": "stream",
     "text": [
      "100%|█████████████████████████████████████████████████████████████████████████████| 2010/2010 [00:03<00:00, 531.38it/s]\n",
      "  3%|██                                                                             | 51/2010 [00:00<00:03, 507.01it/s]"
     ]
    },
    {
     "name": "stdout",
     "output_type": "stream",
     "text": [
      "episode : 530 reward : -71.86346950642596\n",
      "total test reward=-38.57052030605773\n"
     ]
    },
    {
     "name": "stderr",
     "output_type": "stream",
     "text": [
      "100%|█████████████████████████████████████████████████████████████████████████████| 2010/2010 [00:03<00:00, 511.67it/s]\n",
      "  3%|██▏                                                                            | 56/2010 [00:00<00:03, 550.18it/s]"
     ]
    },
    {
     "name": "stdout",
     "output_type": "stream",
     "text": [
      "episode : 531 reward : -31.062729996222856\n",
      "total test reward=-69.67094837231193\n"
     ]
    },
    {
     "name": "stderr",
     "output_type": "stream",
     "text": [
      "100%|█████████████████████████████████████████████████████████████████████████████| 2010/2010 [00:03<00:00, 518.95it/s]\n",
      "  3%|██▏                                                                            | 57/2010 [00:00<00:03, 563.22it/s]"
     ]
    },
    {
     "name": "stdout",
     "output_type": "stream",
     "text": [
      "episode : 532 reward : -13.824944406890666\n",
      "total test reward=-32.636632029139555\n"
     ]
    },
    {
     "name": "stderr",
     "output_type": "stream",
     "text": [
      "100%|█████████████████████████████████████████████████████████████████████████████| 2010/2010 [00:03<00:00, 527.24it/s]\n",
      "  3%|██                                                                             | 52/2010 [00:00<00:03, 513.41it/s]"
     ]
    },
    {
     "name": "stdout",
     "output_type": "stream",
     "text": [
      "episode : 533 reward : 12.95009498261615\n",
      "total test reward=-43.60019828545895\n"
     ]
    },
    {
     "name": "stderr",
     "output_type": "stream",
     "text": [
      "100%|█████████████████████████████████████████████████████████████████████████████| 2010/2010 [00:03<00:00, 517.78it/s]\n",
      "  3%|██▎                                                                            | 59/2010 [00:00<00:03, 579.80it/s]"
     ]
    },
    {
     "name": "stdout",
     "output_type": "stream",
     "text": [
      "episode : 534 reward : -48.84807634340456\n",
      "total test reward=-37.276805042847016\n"
     ]
    },
    {
     "name": "stderr",
     "output_type": "stream",
     "text": [
      "100%|█████████████████████████████████████████████████████████████████████████████| 2010/2010 [00:03<00:00, 549.48it/s]\n",
      "  5%|███▉                                                                          | 100/2010 [00:00<00:03, 510.70it/s]"
     ]
    },
    {
     "name": "stdout",
     "output_type": "stream",
     "text": [
      "episode : 535 reward : -44.173259580267654\n",
      "total test reward=-27.79770105720649\n"
     ]
    },
    {
     "name": "stderr",
     "output_type": "stream",
     "text": [
      "100%|█████████████████████████████████████████████████████████████████████████████| 2010/2010 [00:03<00:00, 512.84it/s]\n",
      "  3%|██▎                                                                            | 58/2010 [00:00<00:03, 571.20it/s]"
     ]
    },
    {
     "name": "stdout",
     "output_type": "stream",
     "text": [
      "episode : 536 reward : -6.062407890587934\n",
      "total test reward=-18.388196973493713\n"
     ]
    },
    {
     "name": "stderr",
     "output_type": "stream",
     "text": [
      "100%|█████████████████████████████████████████████████████████████████████████████| 2010/2010 [00:03<00:00, 524.62it/s]\n",
      "  3%|██▏                                                                            | 56/2010 [00:00<00:03, 555.86it/s]"
     ]
    },
    {
     "name": "stdout",
     "output_type": "stream",
     "text": [
      "episode : 537 reward : 17.68847170072914\n",
      "total test reward=-32.466560183163566\n"
     ]
    },
    {
     "name": "stderr",
     "output_type": "stream",
     "text": [
      "100%|█████████████████████████████████████████████████████████████████████████████| 2010/2010 [00:03<00:00, 530.45it/s]\n",
      "  3%|██                                                                             | 52/2010 [00:00<00:03, 510.56it/s]"
     ]
    },
    {
     "name": "stdout",
     "output_type": "stream",
     "text": [
      "episode : 538 reward : 134.4638402064106\n",
      "total test reward=-24.9831938247232\n"
     ]
    },
    {
     "name": "stderr",
     "output_type": "stream",
     "text": [
      "100%|█████████████████████████████████████████████████████████████████████████████| 2010/2010 [00:03<00:00, 533.58it/s]\n",
      "  5%|███▊                                                                           | 96/2010 [00:00<00:04, 451.26it/s]"
     ]
    },
    {
     "name": "stdout",
     "output_type": "stream",
     "text": [
      "episode : 539 reward : -20.110280809570327\n",
      "total test reward=-43.75242155859728\n"
     ]
    },
    {
     "name": "stderr",
     "output_type": "stream",
     "text": [
      "100%|█████████████████████████████████████████████████████████████████████████████| 2010/2010 [00:03<00:00, 524.72it/s]\n",
      "  3%|██▏                                                                            | 55/2010 [00:00<00:03, 541.10it/s]"
     ]
    },
    {
     "name": "stdout",
     "output_type": "stream",
     "text": [
      "episode : 540 reward : -34.18564630410671\n",
      "total test reward=-17.499046959185215\n"
     ]
    },
    {
     "name": "stderr",
     "output_type": "stream",
     "text": [
      "100%|█████████████████████████████████████████████████████████████████████████████| 2010/2010 [00:03<00:00, 520.89it/s]\n",
      "  3%|██▏                                                                            | 57/2010 [00:00<00:03, 565.11it/s]"
     ]
    },
    {
     "name": "stdout",
     "output_type": "stream",
     "text": [
      "episode : 541 reward : -84.99702630766205\n",
      "total test reward=-55.62633360267114\n"
     ]
    },
    {
     "name": "stderr",
     "output_type": "stream",
     "text": [
      "100%|█████████████████████████████████████████████████████████████████████████████| 2010/2010 [00:03<00:00, 520.02it/s]\n",
      "  2%|█▋                                                                             | 44/2010 [00:00<00:04, 438.81it/s]"
     ]
    },
    {
     "name": "stdout",
     "output_type": "stream",
     "text": [
      "episode : 542 reward : -103.83372643497111\n",
      "total test reward=-63.81308287099479\n"
     ]
    },
    {
     "name": "stderr",
     "output_type": "stream",
     "text": [
      "100%|█████████████████████████████████████████████████████████████████████████████| 2010/2010 [00:03<00:00, 513.79it/s]\n",
      "  3%|██                                                                             | 54/2010 [00:00<00:03, 533.38it/s]"
     ]
    },
    {
     "name": "stdout",
     "output_type": "stream",
     "text": [
      "episode : 543 reward : -8.960438150802247\n",
      "total test reward=-21.46576083049281\n"
     ]
    },
    {
     "name": "stderr",
     "output_type": "stream",
     "text": [
      "100%|█████████████████████████████████████████████████████████████████████████████| 2010/2010 [00:03<00:00, 517.35it/s]\n",
      "  3%|██▏                                                                            | 55/2010 [00:00<00:03, 548.36it/s]"
     ]
    },
    {
     "name": "stdout",
     "output_type": "stream",
     "text": [
      "episode : 544 reward : -21.365936973114373\n",
      "total test reward=-34.32490666083807\n"
     ]
    },
    {
     "name": "stderr",
     "output_type": "stream",
     "text": [
      "100%|█████████████████████████████████████████████████████████████████████████████| 2010/2010 [00:03<00:00, 519.09it/s]\n",
      "  6%|████▎                                                                         | 111/2010 [00:00<00:03, 549.80it/s]"
     ]
    },
    {
     "name": "stdout",
     "output_type": "stream",
     "text": [
      "episode : 545 reward : 7.7501735353227446\n",
      "total test reward=-2.0345976086831\n"
     ]
    },
    {
     "name": "stderr",
     "output_type": "stream",
     "text": [
      "100%|█████████████████████████████████████████████████████████████████████████████| 2010/2010 [00:03<00:00, 525.61it/s]\n",
      "  2%|█▊                                                                             | 47/2010 [00:00<00:04, 469.12it/s]"
     ]
    },
    {
     "name": "stdout",
     "output_type": "stream",
     "text": [
      "episode : 546 reward : -73.03499893262085\n",
      "total test reward=-17.828150901208108\n"
     ]
    },
    {
     "name": "stderr",
     "output_type": "stream",
     "text": [
      "100%|█████████████████████████████████████████████████████████████████████████████| 2010/2010 [00:03<00:00, 513.83it/s]\n",
      "  2%|█▊                                                                             | 46/2010 [00:00<00:04, 456.11it/s]"
     ]
    },
    {
     "name": "stdout",
     "output_type": "stream",
     "text": [
      "episode : 547 reward : -21.317458663700165\n",
      "total test reward=-42.82482420934948\n"
     ]
    },
    {
     "name": "stderr",
     "output_type": "stream",
     "text": [
      "100%|█████████████████████████████████████████████████████████████████████████████| 2010/2010 [00:03<00:00, 514.45it/s]\n",
      "  3%|██▎                                                                            | 58/2010 [00:00<00:03, 575.37it/s]"
     ]
    },
    {
     "name": "stdout",
     "output_type": "stream",
     "text": [
      "episode : 548 reward : -8.843908256215656\n",
      "total test reward=-40.66921601041319\n"
     ]
    },
    {
     "name": "stderr",
     "output_type": "stream",
     "text": [
      "100%|█████████████████████████████████████████████████████████████████████████████| 2010/2010 [00:03<00:00, 524.09it/s]\n",
      "  3%|██▏                                                                            | 57/2010 [00:00<00:03, 559.74it/s]"
     ]
    },
    {
     "name": "stdout",
     "output_type": "stream",
     "text": [
      "episode : 549 reward : -47.87383083938181\n",
      "total test reward=-29.370118971105818\n"
     ]
    },
    {
     "name": "stderr",
     "output_type": "stream",
     "text": [
      "100%|█████████████████████████████████████████████████████████████████████████████| 2010/2010 [00:03<00:00, 509.41it/s]\n",
      "  5%|████                                                                          | 104/2010 [00:00<00:03, 513.38it/s]"
     ]
    },
    {
     "name": "stdout",
     "output_type": "stream",
     "text": [
      "episode : 550 reward : -38.28912840733341\n",
      "total test reward=-49.146321169462716\n"
     ]
    },
    {
     "name": "stderr",
     "output_type": "stream",
     "text": [
      "100%|█████████████████████████████████████████████████████████████████████████████| 2010/2010 [00:03<00:00, 511.83it/s]\n",
      "  3%|██▎                                                                            | 58/2010 [00:00<00:03, 570.57it/s]"
     ]
    },
    {
     "name": "stdout",
     "output_type": "stream",
     "text": [
      "episode : 551 reward : -79.02000826907977\n",
      "total test reward=14.127951099854831\n"
     ]
    },
    {
     "name": "stderr",
     "output_type": "stream",
     "text": [
      "100%|█████████████████████████████████████████████████████████████████████████████| 2010/2010 [00:03<00:00, 512.37it/s]\n",
      "  2%|█▉                                                                             | 48/2010 [00:00<00:04, 476.52it/s]"
     ]
    },
    {
     "name": "stdout",
     "output_type": "stream",
     "text": [
      "episode : 552 reward : -56.606226248265216\n",
      "total test reward=-45.08010575279729\n"
     ]
    },
    {
     "name": "stderr",
     "output_type": "stream",
     "text": [
      "100%|█████████████████████████████████████████████████████████████████████████████| 2010/2010 [00:03<00:00, 513.60it/s]\n",
      "  3%|██                                                                             | 54/2010 [00:00<00:03, 535.79it/s]"
     ]
    },
    {
     "name": "stdout",
     "output_type": "stream",
     "text": [
      "episode : 553 reward : -64.38596982547949\n",
      "total test reward=-55.413413481257635\n"
     ]
    },
    {
     "name": "stderr",
     "output_type": "stream",
     "text": [
      "100%|█████████████████████████████████████████████████████████████████████████████| 2010/2010 [00:03<00:00, 516.84it/s]\n",
      "  6%|████▍                                                                         | 113/2010 [00:00<00:03, 567.63it/s]"
     ]
    },
    {
     "name": "stdout",
     "output_type": "stream",
     "text": [
      "episode : 554 reward : 110.76744966132279\n",
      "total test reward=-48.58217207066749\n"
     ]
    },
    {
     "name": "stderr",
     "output_type": "stream",
     "text": [
      "100%|█████████████████████████████████████████████████████████████████████████████| 2010/2010 [00:04<00:00, 493.27it/s]\n",
      "  3%|██                                                                             | 52/2010 [00:00<00:03, 510.10it/s]"
     ]
    },
    {
     "name": "stdout",
     "output_type": "stream",
     "text": [
      "episode : 555 reward : -87.28063434376293\n",
      "total test reward=-52.38229803454726\n"
     ]
    },
    {
     "name": "stderr",
     "output_type": "stream",
     "text": [
      "100%|█████████████████████████████████████████████████████████████████████████████| 2010/2010 [00:03<00:00, 520.36it/s]\n",
      "  3%|██▏                                                                            | 56/2010 [00:00<00:03, 555.97it/s]"
     ]
    },
    {
     "name": "stdout",
     "output_type": "stream",
     "text": [
      "episode : 556 reward : -85.11705164232563\n",
      "total test reward=-39.25258561857224\n"
     ]
    },
    {
     "name": "stderr",
     "output_type": "stream",
     "text": [
      "100%|█████████████████████████████████████████████████████████████████████████████| 2010/2010 [00:03<00:00, 514.26it/s]\n",
      "  2%|█▋                                                                             | 44/2010 [00:00<00:04, 432.62it/s]"
     ]
    },
    {
     "name": "stdout",
     "output_type": "stream",
     "text": [
      "episode : 557 reward : -12.634231559952042\n",
      "total test reward=-26.137957692044637\n"
     ]
    },
    {
     "name": "stderr",
     "output_type": "stream",
     "text": [
      "100%|█████████████████████████████████████████████████████████████████████████████| 2010/2010 [00:03<00:00, 512.69it/s]\n",
      "  3%|██▏                                                                            | 57/2010 [00:00<00:03, 569.89it/s]"
     ]
    },
    {
     "name": "stdout",
     "output_type": "stream",
     "text": [
      "episode : 558 reward : 30.022635655229834\n",
      "total test reward=-44.79621084666146\n"
     ]
    },
    {
     "name": "stderr",
     "output_type": "stream",
     "text": [
      "100%|█████████████████████████████████████████████████████████████████████████████| 2010/2010 [00:03<00:00, 511.93it/s]\n",
      "  2%|█▊                                                                             | 47/2010 [00:00<00:04, 464.78it/s]"
     ]
    },
    {
     "name": "stdout",
     "output_type": "stream",
     "text": [
      "episode : 559 reward : -8.283830755116753\n",
      "total test reward=-42.38740104389212\n"
     ]
    },
    {
     "name": "stderr",
     "output_type": "stream",
     "text": [
      "100%|█████████████████████████████████████████████████████████████████████████████| 2010/2010 [00:03<00:00, 515.46it/s]\n",
      "  3%|██                                                                             | 52/2010 [00:00<00:03, 512.57it/s]"
     ]
    },
    {
     "name": "stdout",
     "output_type": "stream",
     "text": [
      "episode : 560 reward : -24.179751252130387\n",
      "total test reward=-19.21620204187071\n"
     ]
    },
    {
     "name": "stderr",
     "output_type": "stream",
     "text": [
      "100%|█████████████████████████████████████████████████████████████████████████████| 2010/2010 [00:03<00:00, 521.59it/s]\n",
      "  3%|██                                                                             | 52/2010 [00:00<00:03, 519.61it/s]"
     ]
    },
    {
     "name": "stdout",
     "output_type": "stream",
     "text": [
      "episode : 561 reward : -10.159601069057175\n",
      "total test reward=-35.42591815941665\n"
     ]
    },
    {
     "name": "stderr",
     "output_type": "stream",
     "text": [
      "100%|█████████████████████████████████████████████████████████████████████████████| 2010/2010 [00:03<00:00, 516.05it/s]\n",
      "  2%|█▉                                                                             | 48/2010 [00:00<00:04, 473.13it/s]"
     ]
    },
    {
     "name": "stdout",
     "output_type": "stream",
     "text": [
      "episode : 562 reward : -81.73776867655073\n",
      "total test reward=-49.22322867535392\n"
     ]
    },
    {
     "name": "stderr",
     "output_type": "stream",
     "text": [
      "100%|█████████████████████████████████████████████████████████████████████████████| 2010/2010 [00:03<00:00, 520.13it/s]\n",
      "  3%|██                                                                             | 54/2010 [00:00<00:03, 538.33it/s]"
     ]
    },
    {
     "name": "stdout",
     "output_type": "stream",
     "text": [
      "episode : 563 reward : -39.588505644495456\n",
      "total test reward=-7.367088115978379\n"
     ]
    },
    {
     "name": "stderr",
     "output_type": "stream",
     "text": [
      "100%|█████████████████████████████████████████████████████████████████████████████| 2010/2010 [00:03<00:00, 520.12it/s]\n",
      "  3%|██▏                                                                            | 56/2010 [00:00<00:03, 546.62it/s]"
     ]
    },
    {
     "name": "stdout",
     "output_type": "stream",
     "text": [
      "episode : 564 reward : -70.20567328332174\n",
      "total test reward=-73.76622798113519\n"
     ]
    },
    {
     "name": "stderr",
     "output_type": "stream",
     "text": [
      "100%|█████████████████████████████████████████████████████████████████████████████| 2010/2010 [00:03<00:00, 527.32it/s]\n",
      "  5%|███▊                                                                           | 98/2010 [00:00<00:03, 489.95it/s]"
     ]
    },
    {
     "name": "stdout",
     "output_type": "stream",
     "text": [
      "episode : 565 reward : -38.715104020704075\n",
      "total test reward=-38.72817543481623\n"
     ]
    },
    {
     "name": "stderr",
     "output_type": "stream",
     "text": [
      "100%|█████████████████████████████████████████████████████████████████████████████| 2010/2010 [00:04<00:00, 487.88it/s]\n",
      "  3%|██                                                                             | 53/2010 [00:00<00:03, 521.31it/s]"
     ]
    },
    {
     "name": "stdout",
     "output_type": "stream",
     "text": [
      "episode : 566 reward : -51.49873344283924\n",
      "total test reward=-82.70091521736805\n"
     ]
    },
    {
     "name": "stderr",
     "output_type": "stream",
     "text": [
      "100%|█████████████████████████████████████████████████████████████████████████████| 2010/2010 [00:03<00:00, 523.23it/s]\n",
      "  3%|██                                                                             | 53/2010 [00:00<00:03, 528.51it/s]"
     ]
    },
    {
     "name": "stdout",
     "output_type": "stream",
     "text": [
      "episode : 567 reward : -20.12383700999277\n",
      "total test reward=-28.65275433161593\n"
     ]
    },
    {
     "name": "stderr",
     "output_type": "stream",
     "text": [
      "100%|█████████████████████████████████████████████████████████████████████████████| 2010/2010 [00:03<00:00, 508.43it/s]\n",
      "  3%|██                                                                             | 52/2010 [00:00<00:03, 514.85it/s]"
     ]
    },
    {
     "name": "stdout",
     "output_type": "stream",
     "text": [
      "episode : 568 reward : -13.947650964790967\n",
      "total test reward=-31.226089938314622\n"
     ]
    },
    {
     "name": "stderr",
     "output_type": "stream",
     "text": [
      "100%|█████████████████████████████████████████████████████████████████████████████| 2010/2010 [00:03<00:00, 521.55it/s]\n",
      "  3%|██                                                                             | 54/2010 [00:00<00:03, 527.38it/s]"
     ]
    },
    {
     "name": "stdout",
     "output_type": "stream",
     "text": [
      "episode : 569 reward : -74.08114941326704\n",
      "total test reward=-43.64155779363483\n"
     ]
    },
    {
     "name": "stderr",
     "output_type": "stream",
     "text": [
      "100%|█████████████████████████████████████████████████████████████████████████████| 2010/2010 [00:03<00:00, 512.87it/s]\n",
      "  2%|█▌                                                                             | 41/2010 [00:00<00:04, 402.98it/s]"
     ]
    },
    {
     "name": "stdout",
     "output_type": "stream",
     "text": [
      "episode : 570 reward : -62.427957273785495\n",
      "total test reward=-11.021205347981885\n"
     ]
    },
    {
     "name": "stderr",
     "output_type": "stream",
     "text": [
      "100%|█████████████████████████████████████████████████████████████████████████████| 2010/2010 [00:03<00:00, 513.93it/s]\n",
      "  3%|██▏                                                                            | 57/2010 [00:00<00:03, 565.86it/s]"
     ]
    },
    {
     "name": "stdout",
     "output_type": "stream",
     "text": [
      "episode : 571 reward : -117.38867973910573\n",
      "total test reward=-24.251031291387456\n"
     ]
    },
    {
     "name": "stderr",
     "output_type": "stream",
     "text": [
      "100%|█████████████████████████████████████████████████████████████████████████████| 2010/2010 [00:03<00:00, 513.77it/s]\n",
      "  5%|███▉                                                                          | 100/2010 [00:00<00:03, 505.58it/s]"
     ]
    },
    {
     "name": "stdout",
     "output_type": "stream",
     "text": [
      "episode : 572 reward : -3.987007060035978\n",
      "total test reward=-38.20274950655856\n"
     ]
    },
    {
     "name": "stderr",
     "output_type": "stream",
     "text": [
      "100%|█████████████████████████████████████████████████████████████████████████████| 2010/2010 [00:04<00:00, 487.57it/s]\n",
      "  2%|█▉                                                                             | 49/2010 [00:00<00:04, 481.63it/s]"
     ]
    },
    {
     "name": "stdout",
     "output_type": "stream",
     "text": [
      "episode : 573 reward : 16.818845688854566\n",
      "total test reward=-26.362316356505705\n"
     ]
    },
    {
     "name": "stderr",
     "output_type": "stream",
     "text": [
      "100%|█████████████████████████████████████████████████████████████████████████████| 2010/2010 [00:03<00:00, 512.82it/s]\n",
      "  3%|██                                                                             | 53/2010 [00:00<00:03, 522.18it/s]"
     ]
    },
    {
     "name": "stdout",
     "output_type": "stream",
     "text": [
      "episode : 574 reward : -7.985730422162419\n",
      "total test reward=-3.179540762629222\n"
     ]
    },
    {
     "name": "stderr",
     "output_type": "stream",
     "text": [
      "100%|█████████████████████████████████████████████████████████████████████████████| 2010/2010 [00:03<00:00, 510.85it/s]\n",
      "  2%|█▉                                                                             | 50/2010 [00:00<00:03, 499.48it/s]"
     ]
    },
    {
     "name": "stdout",
     "output_type": "stream",
     "text": [
      "episode : 575 reward : -12.64457161115908\n",
      "total test reward=-42.02223097529083\n"
     ]
    },
    {
     "name": "stderr",
     "output_type": "stream",
     "text": [
      "100%|█████████████████████████████████████████████████████████████████████████████| 2010/2010 [00:03<00:00, 523.76it/s]\n",
      "  3%|██▏                                                                            | 57/2010 [00:00<00:03, 568.64it/s]"
     ]
    },
    {
     "name": "stdout",
     "output_type": "stream",
     "text": [
      "episode : 576 reward : -27.20882795920778\n",
      "total test reward=-3.4240229549031937\n"
     ]
    },
    {
     "name": "stderr",
     "output_type": "stream",
     "text": [
      "100%|█████████████████████████████████████████████████████████████████████████████| 2010/2010 [00:03<00:00, 520.47it/s]\n",
      "  3%|██                                                                             | 52/2010 [00:00<00:03, 511.74it/s]"
     ]
    },
    {
     "name": "stdout",
     "output_type": "stream",
     "text": [
      "episode : 577 reward : -35.76882531928638\n",
      "total test reward=-39.16086018203528\n"
     ]
    },
    {
     "name": "stderr",
     "output_type": "stream",
     "text": [
      "100%|█████████████████████████████████████████████████████████████████████████████| 2010/2010 [00:03<00:00, 523.75it/s]\n",
      "  5%|███▋                                                                           | 95/2010 [00:00<00:04, 475.50it/s]"
     ]
    },
    {
     "name": "stdout",
     "output_type": "stream",
     "text": [
      "episode : 578 reward : -45.70807731831857\n",
      "total test reward=-33.464255872441925\n"
     ]
    },
    {
     "name": "stderr",
     "output_type": "stream",
     "text": [
      "100%|█████████████████████████████████████████████████████████████████████████████| 2010/2010 [00:03<00:00, 514.06it/s]\n",
      "  3%|██                                                                             | 52/2010 [00:00<00:03, 518.97it/s]"
     ]
    },
    {
     "name": "stdout",
     "output_type": "stream",
     "text": [
      "episode : 579 reward : -39.39580522966469\n",
      "total test reward=-50.53333943732677\n"
     ]
    },
    {
     "name": "stderr",
     "output_type": "stream",
     "text": [
      "100%|█████████████████████████████████████████████████████████████████████████████| 2010/2010 [00:03<00:00, 512.10it/s]\n",
      "  3%|██                                                                             | 53/2010 [00:00<00:03, 518.39it/s]"
     ]
    },
    {
     "name": "stdout",
     "output_type": "stream",
     "text": [
      "episode : 580 reward : -42.60001923660002\n",
      "total test reward=-8.54610136543829\n"
     ]
    },
    {
     "name": "stderr",
     "output_type": "stream",
     "text": [
      "100%|█████████████████████████████████████████████████████████████████████████████| 2010/2010 [00:03<00:00, 503.07it/s]\n",
      "  3%|██                                                                             | 54/2010 [00:00<00:03, 536.02it/s]"
     ]
    },
    {
     "name": "stdout",
     "output_type": "stream",
     "text": [
      "episode : 581 reward : -12.349254416114775\n",
      "total test reward=-44.62988719157141\n"
     ]
    },
    {
     "name": "stderr",
     "output_type": "stream",
     "text": [
      "100%|█████████████████████████████████████████████████████████████████████████████| 2010/2010 [00:03<00:00, 521.31it/s]\n",
      "  2%|█▊                                                                             | 45/2010 [00:00<00:04, 444.49it/s]"
     ]
    },
    {
     "name": "stdout",
     "output_type": "stream",
     "text": [
      "episode : 582 reward : 1.578292429781925\n",
      "total test reward=-32.04757245358191\n"
     ]
    },
    {
     "name": "stderr",
     "output_type": "stream",
     "text": [
      "100%|█████████████████████████████████████████████████████████████████████████████| 2010/2010 [00:03<00:00, 515.49it/s]\n",
      "  3%|██                                                                             | 51/2010 [00:00<00:03, 503.76it/s]"
     ]
    },
    {
     "name": "stdout",
     "output_type": "stream",
     "text": [
      "episode : 583 reward : -50.64981515639312\n",
      "total test reward=-72.64993912712161\n"
     ]
    },
    {
     "name": "stderr",
     "output_type": "stream",
     "text": [
      "100%|█████████████████████████████████████████████████████████████████████████████| 2010/2010 [00:03<00:00, 520.39it/s]\n",
      "  3%|██                                                                             | 52/2010 [00:00<00:03, 511.29it/s]"
     ]
    },
    {
     "name": "stdout",
     "output_type": "stream",
     "text": [
      "episode : 584 reward : 30.191819651188638\n",
      "total test reward=-39.0075518831662\n"
     ]
    },
    {
     "name": "stderr",
     "output_type": "stream",
     "text": [
      "100%|█████████████████████████████████████████████████████████████████████████████| 2010/2010 [00:03<00:00, 519.83it/s]\n",
      "  3%|██▏                                                                            | 56/2010 [00:00<00:03, 550.49it/s]"
     ]
    },
    {
     "name": "stdout",
     "output_type": "stream",
     "text": [
      "episode : 585 reward : -30.843500548829752\n",
      "total test reward=-52.75134903087961\n"
     ]
    },
    {
     "name": "stderr",
     "output_type": "stream",
     "text": [
      "100%|█████████████████████████████████████████████████████████████████████████████| 2010/2010 [00:03<00:00, 519.26it/s]\n",
      "  2%|█▉                                                                             | 49/2010 [00:00<00:04, 488.64it/s]"
     ]
    },
    {
     "name": "stdout",
     "output_type": "stream",
     "text": [
      "episode : 586 reward : -81.2253419509899\n",
      "total test reward=-53.35258748900215\n"
     ]
    },
    {
     "name": "stderr",
     "output_type": "stream",
     "text": [
      "100%|█████████████████████████████████████████████████████████████████████████████| 2010/2010 [00:03<00:00, 517.60it/s]\n",
      "  3%|██                                                                             | 52/2010 [00:00<00:03, 511.04it/s]"
     ]
    },
    {
     "name": "stdout",
     "output_type": "stream",
     "text": [
      "episode : 587 reward : -54.54531830556087\n",
      "total test reward=-41.228901256133994\n"
     ]
    },
    {
     "name": "stderr",
     "output_type": "stream",
     "text": [
      "100%|█████████████████████████████████████████████████████████████████████████████| 2010/2010 [00:03<00:00, 518.66it/s]\n",
      "  5%|████                                                                          | 104/2010 [00:00<00:03, 517.65it/s]"
     ]
    },
    {
     "name": "stdout",
     "output_type": "stream",
     "text": [
      "episode : 588 reward : -41.62620790868024\n",
      "total test reward=-35.46459751789078\n"
     ]
    },
    {
     "name": "stderr",
     "output_type": "stream",
     "text": [
      "100%|█████████████████████████████████████████████████████████████████████████████| 2010/2010 [00:03<00:00, 516.73it/s]\n",
      "  3%|██▎                                                                            | 58/2010 [00:00<00:03, 571.69it/s]"
     ]
    },
    {
     "name": "stdout",
     "output_type": "stream",
     "text": [
      "episode : 589 reward : -7.386478681983789\n",
      "total test reward=-36.57419873316498\n"
     ]
    },
    {
     "name": "stderr",
     "output_type": "stream",
     "text": [
      "100%|█████████████████████████████████████████████████████████████████████████████| 2010/2010 [00:03<00:00, 522.66it/s]\n",
      "  3%|██▏                                                                            | 55/2010 [00:00<00:03, 539.95it/s]"
     ]
    },
    {
     "name": "stdout",
     "output_type": "stream",
     "text": [
      "episode : 590 reward : -16.056012825672326\n",
      "total test reward=6.394752940527593\n"
     ]
    },
    {
     "name": "stderr",
     "output_type": "stream",
     "text": [
      "100%|█████████████████████████████████████████████████████████████████████████████| 2010/2010 [00:03<00:00, 519.13it/s]\n",
      "  2%|█▉                                                                             | 49/2010 [00:00<00:04, 486.45it/s]"
     ]
    },
    {
     "name": "stdout",
     "output_type": "stream",
     "text": [
      "episode : 591 reward : -67.27607215825145\n",
      "total test reward=-14.225575479225602\n"
     ]
    },
    {
     "name": "stderr",
     "output_type": "stream",
     "text": [
      "100%|█████████████████████████████████████████████████████████████████████████████| 2010/2010 [00:03<00:00, 521.31it/s]\n",
      "  2%|█▊                                                                             | 47/2010 [00:00<00:04, 464.18it/s]"
     ]
    },
    {
     "name": "stdout",
     "output_type": "stream",
     "text": [
      "episode : 592 reward : -20.41805869519942\n",
      "total test reward=-3.0029409715017152\n"
     ]
    },
    {
     "name": "stderr",
     "output_type": "stream",
     "text": [
      "100%|█████████████████████████████████████████████████████████████████████████████| 2010/2010 [00:03<00:00, 505.14it/s]\n",
      "  3%|██▏                                                                            | 55/2010 [00:00<00:03, 545.97it/s]"
     ]
    },
    {
     "name": "stdout",
     "output_type": "stream",
     "text": [
      "episode : 593 reward : -28.92876924176889\n",
      "total test reward=-25.332448088018964\n"
     ]
    },
    {
     "name": "stderr",
     "output_type": "stream",
     "text": [
      "100%|█████████████████████████████████████████████████████████████████████████████| 2010/2010 [00:03<00:00, 514.65it/s]\n",
      "  3%|██▎                                                                            | 58/2010 [00:00<00:03, 577.15it/s]"
     ]
    },
    {
     "name": "stdout",
     "output_type": "stream",
     "text": [
      "episode : 594 reward : -34.439123294911525\n",
      "total test reward=-33.78236513264497\n"
     ]
    },
    {
     "name": "stderr",
     "output_type": "stream",
     "text": [
      "100%|█████████████████████████████████████████████████████████████████████████████| 2010/2010 [00:04<00:00, 494.67it/s]\n",
      "  2%|█▍                                                                             | 37/2010 [00:00<00:05, 356.36it/s]"
     ]
    },
    {
     "name": "stdout",
     "output_type": "stream",
     "text": [
      "episode : 595 reward : -10.734161921555966\n",
      "total test reward=-7.455898023303274\n"
     ]
    },
    {
     "name": "stderr",
     "output_type": "stream",
     "text": [
      "100%|█████████████████████████████████████████████████████████████████████████████| 2010/2010 [00:04<00:00, 434.78it/s]\n",
      "  6%|████▌                                                                         | 119/2010 [00:00<00:03, 588.68it/s]"
     ]
    },
    {
     "name": "stdout",
     "output_type": "stream",
     "text": [
      "episode : 596 reward : -87.15029734574722\n",
      "total test reward=-17.96270470553381\n"
     ]
    },
    {
     "name": "stderr",
     "output_type": "stream",
     "text": [
      "100%|█████████████████████████████████████████████████████████████████████████████| 2010/2010 [00:03<00:00, 543.82it/s]\n",
      "  3%|██                                                                             | 53/2010 [00:00<00:03, 521.00it/s]"
     ]
    },
    {
     "name": "stdout",
     "output_type": "stream",
     "text": [
      "episode : 597 reward : -85.68424173935165\n",
      "total test reward=-29.914300407248362\n"
     ]
    },
    {
     "name": "stderr",
     "output_type": "stream",
     "text": [
      "100%|█████████████████████████████████████████████████████████████████████████████| 2010/2010 [00:03<00:00, 565.96it/s]\n",
      "  3%|██▏                                                                            | 55/2010 [00:00<00:03, 546.01it/s]"
     ]
    },
    {
     "name": "stdout",
     "output_type": "stream",
     "text": [
      "episode : 598 reward : -71.68233879080952\n",
      "total test reward=-20.660298316422107\n"
     ]
    },
    {
     "name": "stderr",
     "output_type": "stream",
     "text": [
      "100%|█████████████████████████████████████████████████████████████████████████████| 2010/2010 [00:03<00:00, 549.60it/s]\n",
      "  6%|████▎                                                                         | 112/2010 [00:00<00:03, 563.38it/s]"
     ]
    },
    {
     "name": "stdout",
     "output_type": "stream",
     "text": [
      "episode : 599 reward : 14.413479490977238\n",
      "total test reward=50.10521462448109\n"
     ]
    },
    {
     "name": "stderr",
     "output_type": "stream",
     "text": [
      "100%|█████████████████████████████████████████████████████████████████████████████| 2010/2010 [00:03<00:00, 563.11it/s]\n",
      "  3%|██▌                                                                            | 64/2010 [00:00<00:03, 635.37it/s]"
     ]
    },
    {
     "name": "stdout",
     "output_type": "stream",
     "text": [
      "episode : 600 reward : -22.452279077966608\n",
      "total test reward=-38.46831978006607\n"
     ]
    },
    {
     "name": "stderr",
     "output_type": "stream",
     "text": [
      "100%|█████████████████████████████████████████████████████████████████████████████| 2010/2010 [00:03<00:00, 563.58it/s]\n",
      "  3%|██▍                                                                            | 63/2010 [00:00<00:03, 619.11it/s]"
     ]
    },
    {
     "name": "stdout",
     "output_type": "stream",
     "text": [
      "episode : 601 reward : 22.01905616344527\n",
      "total test reward=-20.528251449652032\n"
     ]
    },
    {
     "name": "stderr",
     "output_type": "stream",
     "text": [
      "100%|█████████████████████████████████████████████████████████████████████████████| 2010/2010 [00:03<00:00, 569.90it/s]\n",
      "  3%|██▏                                                                            | 57/2010 [00:00<00:03, 560.32it/s]"
     ]
    },
    {
     "name": "stdout",
     "output_type": "stream",
     "text": [
      "episode : 602 reward : -9.468825565598422\n",
      "total test reward=-46.547489418507425\n"
     ]
    },
    {
     "name": "stderr",
     "output_type": "stream",
     "text": [
      "100%|█████████████████████████████████████████████████████████████████████████████| 2010/2010 [00:03<00:00, 551.25it/s]\n",
      "  3%|██▍                                                                            | 61/2010 [00:00<00:03, 599.43it/s]"
     ]
    },
    {
     "name": "stdout",
     "output_type": "stream",
     "text": [
      "episode : 603 reward : -27.78925967716799\n",
      "total test reward=-75.70483653212426\n"
     ]
    },
    {
     "name": "stderr",
     "output_type": "stream",
     "text": [
      "100%|█████████████████████████████████████████████████████████████████████████████| 2010/2010 [00:03<00:00, 562.95it/s]\n",
      "  2%|█▉                                                                             | 49/2010 [00:00<00:04, 486.44it/s]"
     ]
    },
    {
     "name": "stdout",
     "output_type": "stream",
     "text": [
      "episode : 604 reward : -38.153116044604474\n",
      "total test reward=-6.50992214185049\n"
     ]
    },
    {
     "name": "stderr",
     "output_type": "stream",
     "text": [
      "100%|█████████████████████████████████████████████████████████████████████████████| 2010/2010 [00:03<00:00, 555.97it/s]\n",
      "  3%|██▏                                                                            | 55/2010 [00:00<00:03, 545.82it/s]"
     ]
    },
    {
     "name": "stdout",
     "output_type": "stream",
     "text": [
      "episode : 605 reward : -90.35862151104874\n",
      "total test reward=-25.97967395397082\n"
     ]
    },
    {
     "name": "stderr",
     "output_type": "stream",
     "text": [
      "100%|█████████████████████████████████████████████████████████████████████████████| 2010/2010 [00:03<00:00, 563.58it/s]\n",
      "  6%|████▌                                                                         | 117/2010 [00:00<00:03, 576.99it/s]"
     ]
    },
    {
     "name": "stdout",
     "output_type": "stream",
     "text": [
      "episode : 606 reward : -48.767061785902825\n",
      "total test reward=-70.48553664880224\n"
     ]
    },
    {
     "name": "stderr",
     "output_type": "stream",
     "text": [
      "100%|█████████████████████████████████████████████████████████████████████████████| 2010/2010 [00:03<00:00, 528.83it/s]\n",
      "  3%|██▏                                                                            | 55/2010 [00:00<00:03, 546.01it/s]"
     ]
    },
    {
     "name": "stdout",
     "output_type": "stream",
     "text": [
      "episode : 607 reward : -4.807959380895056\n",
      "total test reward=-24.795535919865898\n"
     ]
    },
    {
     "name": "stderr",
     "output_type": "stream",
     "text": [
      "100%|█████████████████████████████████████████████████████████████████████████████| 2010/2010 [00:03<00:00, 542.06it/s]\n",
      "  3%|██▍                                                                            | 62/2010 [00:00<00:03, 609.48it/s]"
     ]
    },
    {
     "name": "stdout",
     "output_type": "stream",
     "text": [
      "episode : 608 reward : -64.14531729535372\n",
      "total test reward=-42.46227032864986\n"
     ]
    },
    {
     "name": "stderr",
     "output_type": "stream",
     "text": [
      "100%|█████████████████████████████████████████████████████████████████████████████| 2010/2010 [00:03<00:00, 551.56it/s]\n",
      "  6%|████▌                                                                         | 117/2010 [00:00<00:03, 565.10it/s]"
     ]
    },
    {
     "name": "stdout",
     "output_type": "stream",
     "text": [
      "episode : 609 reward : -6.955759553452367\n",
      "total test reward=-18.828665580715864\n"
     ]
    },
    {
     "name": "stderr",
     "output_type": "stream",
     "text": [
      "100%|█████████████████████████████████████████████████████████████████████████████| 2010/2010 [00:03<00:00, 562.17it/s]\n",
      "  3%|██▏                                                                            | 56/2010 [00:00<00:03, 550.50it/s]"
     ]
    },
    {
     "name": "stdout",
     "output_type": "stream",
     "text": [
      "episode : 610 reward : -10.470274698687831\n",
      "total test reward=-14.716165880796188\n"
     ]
    },
    {
     "name": "stderr",
     "output_type": "stream",
     "text": [
      "100%|█████████████████████████████████████████████████████████████████████████████| 2010/2010 [00:03<00:00, 560.13it/s]\n",
      "  3%|██▏                                                                            | 55/2010 [00:00<00:03, 546.01it/s]"
     ]
    },
    {
     "name": "stdout",
     "output_type": "stream",
     "text": [
      "episode : 611 reward : -59.16875342748841\n",
      "total test reward=-44.94887734168971\n"
     ]
    },
    {
     "name": "stderr",
     "output_type": "stream",
     "text": [
      "100%|█████████████████████████████████████████████████████████████████████████████| 2010/2010 [00:03<00:00, 512.56it/s]\n",
      "  3%|██▏                                                                            | 57/2010 [00:00<00:03, 558.24it/s]"
     ]
    },
    {
     "name": "stdout",
     "output_type": "stream",
     "text": [
      "episode : 612 reward : -27.765483674717842\n",
      "total test reward=-39.46401093452972\n"
     ]
    },
    {
     "name": "stderr",
     "output_type": "stream",
     "text": [
      "100%|█████████████████████████████████████████████████████████████████████████████| 2010/2010 [00:03<00:00, 522.74it/s]\n",
      "  3%|██▍                                                                            | 63/2010 [00:00<00:03, 625.43it/s]"
     ]
    },
    {
     "name": "stdout",
     "output_type": "stream",
     "text": [
      "episode : 613 reward : -42.41564717003115\n",
      "total test reward=4.309804702675012\n"
     ]
    },
    {
     "name": "stderr",
     "output_type": "stream",
     "text": [
      "100%|█████████████████████████████████████████████████████████████████████████████| 2010/2010 [00:03<00:00, 503.26it/s]\n",
      "  2%|█▉                                                                             | 49/2010 [00:00<00:04, 481.52it/s]"
     ]
    },
    {
     "name": "stdout",
     "output_type": "stream",
     "text": [
      "episode : 614 reward : -65.49336095575586\n",
      "total test reward=-37.73642093089726\n"
     ]
    },
    {
     "name": "stderr",
     "output_type": "stream",
     "text": [
      "100%|█████████████████████████████████████████████████████████████████████████████| 2010/2010 [00:04<00:00, 492.40it/s]\n",
      "  2%|█▍                                                                             | 35/2010 [00:00<00:05, 340.61it/s]"
     ]
    },
    {
     "name": "stdout",
     "output_type": "stream",
     "text": [
      "episode : 615 reward : -62.49500450955898\n",
      "total test reward=-48.22825785770842\n"
     ]
    },
    {
     "name": "stderr",
     "output_type": "stream",
     "text": [
      "100%|█████████████████████████████████████████████████████████████████████████████| 2010/2010 [00:03<00:00, 516.50it/s]\n",
      "  3%|██▎                                                                            | 58/2010 [00:00<00:03, 575.80it/s]"
     ]
    },
    {
     "name": "stdout",
     "output_type": "stream",
     "text": [
      "episode : 616 reward : -76.43823850848574\n",
      "total test reward=-16.299688170446462\n"
     ]
    },
    {
     "name": "stderr",
     "output_type": "stream",
     "text": [
      "100%|█████████████████████████████████████████████████████████████████████████████| 2010/2010 [00:03<00:00, 542.51it/s]\n",
      "  3%|██                                                                             | 53/2010 [00:00<00:03, 526.16it/s]"
     ]
    },
    {
     "name": "stdout",
     "output_type": "stream",
     "text": [
      "episode : 617 reward : -47.1516112243703\n",
      "total test reward=-81.92148903743293\n"
     ]
    },
    {
     "name": "stderr",
     "output_type": "stream",
     "text": [
      "100%|█████████████████████████████████████████████████████████████████████████████| 2010/2010 [00:03<00:00, 518.72it/s]\n",
      "  2%|█▉                                                                             | 48/2010 [00:00<00:04, 476.36it/s]"
     ]
    },
    {
     "name": "stdout",
     "output_type": "stream",
     "text": [
      "episode : 618 reward : -24.89232025488809\n",
      "total test reward=-58.81758685935273\n"
     ]
    },
    {
     "name": "stderr",
     "output_type": "stream",
     "text": [
      "100%|█████████████████████████████████████████████████████████████████████████████| 2010/2010 [00:04<00:00, 470.22it/s]\n",
      "  3%|██                                                                             | 54/2010 [00:00<00:03, 530.66it/s]"
     ]
    },
    {
     "name": "stdout",
     "output_type": "stream",
     "text": [
      "episode : 619 reward : -41.00783140710362\n",
      "total test reward=-67.42701408453584\n"
     ]
    },
    {
     "name": "stderr",
     "output_type": "stream",
     "text": [
      "100%|█████████████████████████████████████████████████████████████████████████████| 2010/2010 [00:04<00:00, 485.63it/s]\n",
      "  2%|█▍                                                                             | 38/2010 [00:00<00:05, 377.24it/s]"
     ]
    },
    {
     "name": "stdout",
     "output_type": "stream",
     "text": [
      "episode : 620 reward : -18.90423147533008\n",
      "total test reward=-38.586726691740544\n"
     ]
    },
    {
     "name": "stderr",
     "output_type": "stream",
     "text": [
      "100%|█████████████████████████████████████████████████████████████████████████████| 2010/2010 [00:04<00:00, 461.08it/s]\n",
      "  2%|█▌                                                                             | 40/2010 [00:00<00:05, 393.20it/s]"
     ]
    },
    {
     "name": "stdout",
     "output_type": "stream",
     "text": [
      "episode : 621 reward : -44.5703496888502\n",
      "total test reward=-39.9866382811595\n"
     ]
    },
    {
     "name": "stderr",
     "output_type": "stream",
     "text": [
      "100%|█████████████████████████████████████████████████████████████████████████████| 2010/2010 [00:04<00:00, 462.98it/s]\n",
      "  3%|██▏                                                                            | 55/2010 [00:00<00:03, 540.66it/s]"
     ]
    },
    {
     "name": "stdout",
     "output_type": "stream",
     "text": [
      "episode : 622 reward : -67.16503571311816\n",
      "total test reward=-46.56421625945463\n"
     ]
    },
    {
     "name": "stderr",
     "output_type": "stream",
     "text": [
      "100%|█████████████████████████████████████████████████████████████████████████████| 2010/2010 [00:03<00:00, 515.31it/s]\n",
      "  3%|██▏                                                                            | 55/2010 [00:00<00:03, 546.02it/s]"
     ]
    },
    {
     "name": "stdout",
     "output_type": "stream",
     "text": [
      "episode : 623 reward : -0.6340090558221618\n",
      "total test reward=-35.71415280749828\n"
     ]
    },
    {
     "name": "stderr",
     "output_type": "stream",
     "text": [
      "100%|█████████████████████████████████████████████████████████████████████████████| 2010/2010 [00:03<00:00, 504.23it/s]\n",
      "  3%|██                                                                             | 51/2010 [00:00<00:03, 506.30it/s]"
     ]
    },
    {
     "name": "stdout",
     "output_type": "stream",
     "text": [
      "episode : 624 reward : -52.54580771097838\n",
      "total test reward=-33.91900047104123\n"
     ]
    },
    {
     "name": "stderr",
     "output_type": "stream",
     "text": [
      "100%|█████████████████████████████████████████████████████████████████████████████| 2010/2010 [00:04<00:00, 492.14it/s]\n",
      "  3%|██                                                                             | 53/2010 [00:00<00:03, 526.16it/s]"
     ]
    },
    {
     "name": "stdout",
     "output_type": "stream",
     "text": [
      "episode : 625 reward : -63.93274455240561\n",
      "total test reward=-36.222915020297506\n"
     ]
    },
    {
     "name": "stderr",
     "output_type": "stream",
     "text": [
      "100%|█████████████████████████████████████████████████████████████████████████████| 2010/2010 [00:03<00:00, 547.65it/s]\n",
      "  3%|██▏                                                                            | 57/2010 [00:00<00:03, 560.32it/s]"
     ]
    },
    {
     "name": "stdout",
     "output_type": "stream",
     "text": [
      "episode : 626 reward : -33.655611880998805\n",
      "total test reward=-30.270182414860404\n"
     ]
    },
    {
     "name": "stderr",
     "output_type": "stream",
     "text": [
      "100%|█████████████████████████████████████████████████████████████████████████████| 2010/2010 [00:03<00:00, 532.46it/s]\n",
      "  5%|████▏                                                                         | 109/2010 [00:00<00:03, 530.04it/s]"
     ]
    },
    {
     "name": "stdout",
     "output_type": "stream",
     "text": [
      "episode : 627 reward : -15.629891869503638\n",
      "total test reward=1.9868697247585942\n"
     ]
    },
    {
     "name": "stderr",
     "output_type": "stream",
     "text": [
      "100%|█████████████████████████████████████████████████████████████████████████████| 2010/2010 [00:03<00:00, 524.56it/s]\n",
      "  6%|████▍                                                                         | 115/2010 [00:00<00:03, 576.39it/s]"
     ]
    },
    {
     "name": "stdout",
     "output_type": "stream",
     "text": [
      "episode : 628 reward : -24.89822281130725\n",
      "total test reward=-17.41063944549732\n"
     ]
    },
    {
     "name": "stderr",
     "output_type": "stream",
     "text": [
      "100%|█████████████████████████████████████████████████████████████████████████████| 2010/2010 [00:04<00:00, 472.98it/s]\n",
      "  2%|█▉                                                                             | 49/2010 [00:00<00:04, 481.68it/s]"
     ]
    },
    {
     "name": "stdout",
     "output_type": "stream",
     "text": [
      "episode : 629 reward : -122.69399972720578\n",
      "total test reward=-29.60521616942122\n"
     ]
    },
    {
     "name": "stderr",
     "output_type": "stream",
     "text": [
      "100%|█████████████████████████████████████████████████████████████████████████████| 2010/2010 [00:04<00:00, 491.92it/s]\n",
      "  3%|██▏                                                                            | 57/2010 [00:00<00:03, 568.56it/s]"
     ]
    },
    {
     "name": "stdout",
     "output_type": "stream",
     "text": [
      "episode : 630 reward : 8.304493531337187\n",
      "total test reward=-24.853528432251647\n"
     ]
    },
    {
     "name": "stderr",
     "output_type": "stream",
     "text": [
      "100%|█████████████████████████████████████████████████████████████████████████████| 2010/2010 [00:03<00:00, 510.98it/s]\n",
      "  3%|██▍                                                                            | 62/2010 [00:00<00:03, 615.31it/s]"
     ]
    },
    {
     "name": "stdout",
     "output_type": "stream",
     "text": [
      "episode : 631 reward : -175.19897122097024\n",
      "total test reward=-37.837530892666436\n"
     ]
    },
    {
     "name": "stderr",
     "output_type": "stream",
     "text": [
      "100%|█████████████████████████████████████████████████████████████████████████████| 2010/2010 [00:03<00:00, 574.35it/s]\n",
      "  3%|██▍                                                                            | 61/2010 [00:00<00:03, 599.43it/s]"
     ]
    },
    {
     "name": "stdout",
     "output_type": "stream",
     "text": [
      "episode : 632 reward : 2.7861215632576375\n",
      "total test reward=-1.1649980466902974\n"
     ]
    },
    {
     "name": "stderr",
     "output_type": "stream",
     "text": [
      "100%|█████████████████████████████████████████████████████████████████████████████| 2010/2010 [00:03<00:00, 564.85it/s]\n",
      "  3%|██▍                                                                            | 61/2010 [00:00<00:03, 599.85it/s]"
     ]
    },
    {
     "name": "stdout",
     "output_type": "stream",
     "text": [
      "episode : 633 reward : -61.42418744301199\n",
      "total test reward=-11.884550356801913\n"
     ]
    },
    {
     "name": "stderr",
     "output_type": "stream",
     "text": [
      "100%|█████████████████████████████████████████████████████████████████████████████| 2010/2010 [00:03<00:00, 562.29it/s]\n",
      "  3%|██                                                                             | 53/2010 [00:00<00:03, 520.87it/s]"
     ]
    },
    {
     "name": "stdout",
     "output_type": "stream",
     "text": [
      "episode : 634 reward : -45.0092430529763\n",
      "total test reward=-41.4849821712071\n"
     ]
    },
    {
     "name": "stderr",
     "output_type": "stream",
     "text": [
      "100%|█████████████████████████████████████████████████████████████████████████████| 2010/2010 [00:03<00:00, 570.93it/s]\n",
      "  6%|█████                                                                         | 129/2010 [00:00<00:02, 637.88it/s]"
     ]
    },
    {
     "name": "stdout",
     "output_type": "stream",
     "text": [
      "episode : 635 reward : -59.51974309133277\n",
      "total test reward=-32.224617785578594\n"
     ]
    },
    {
     "name": "stderr",
     "output_type": "stream",
     "text": [
      "100%|█████████████████████████████████████████████████████████████████████████████| 2010/2010 [00:03<00:00, 620.89it/s]\n",
      "  3%|██▎                                                                            | 59/2010 [00:00<00:03, 579.98it/s]"
     ]
    },
    {
     "name": "stdout",
     "output_type": "stream",
     "text": [
      "episode : 636 reward : -26.975406268673908\n",
      "total test reward=-15.48913995857831\n"
     ]
    },
    {
     "name": "stderr",
     "output_type": "stream",
     "text": [
      "100%|█████████████████████████████████████████████████████████████████████████████| 2010/2010 [00:03<00:00, 591.19it/s]\n",
      "  3%|██▍                                                                            | 61/2010 [00:00<00:03, 605.58it/s]"
     ]
    },
    {
     "name": "stdout",
     "output_type": "stream",
     "text": [
      "episode : 637 reward : -7.813651423419941\n",
      "total test reward=-14.582451320070163\n"
     ]
    },
    {
     "name": "stderr",
     "output_type": "stream",
     "text": [
      "100%|█████████████████████████████████████████████████████████████████████████████| 2010/2010 [00:03<00:00, 576.81it/s]\n",
      "  6%|████▋                                                                         | 122/2010 [00:00<00:03, 597.04it/s]"
     ]
    },
    {
     "name": "stdout",
     "output_type": "stream",
     "text": [
      "episode : 638 reward : -42.83123551565285\n",
      "total test reward=-50.93348247310844\n"
     ]
    },
    {
     "name": "stderr",
     "output_type": "stream",
     "text": [
      "100%|█████████████████████████████████████████████████████████████████████████████| 2010/2010 [00:03<00:00, 613.17it/s]\n",
      "  2%|█▊                                                                             | 47/2010 [00:00<00:04, 466.63it/s]"
     ]
    },
    {
     "name": "stdout",
     "output_type": "stream",
     "text": [
      "episode : 639 reward : -0.8515100426633069\n",
      "total test reward=-23.76843660709494\n"
     ]
    },
    {
     "name": "stderr",
     "output_type": "stream",
     "text": [
      "100%|█████████████████████████████████████████████████████████████████████████████| 2010/2010 [00:03<00:00, 580.81it/s]\n",
      "  3%|██▏                                                                            | 56/2010 [00:00<00:03, 555.94it/s]"
     ]
    },
    {
     "name": "stdout",
     "output_type": "stream",
     "text": [
      "episode : 640 reward : -22.3652716776063\n",
      "total test reward=-39.78733966299289\n"
     ]
    },
    {
     "name": "stderr",
     "output_type": "stream",
     "text": [
      "100%|█████████████████████████████████████████████████████████████████████████████| 2010/2010 [00:03<00:00, 601.61it/s]\n",
      "  3%|██▍                                                                            | 61/2010 [00:00<00:03, 605.58it/s]"
     ]
    },
    {
     "name": "stdout",
     "output_type": "stream",
     "text": [
      "episode : 641 reward : -83.71213410331126\n",
      "total test reward=-34.07122658918235\n"
     ]
    },
    {
     "name": "stderr",
     "output_type": "stream",
     "text": [
      "100%|█████████████████████████████████████████████████████████████████████████████| 2010/2010 [00:03<00:00, 615.19it/s]\n",
      "  7%|█████                                                                         | 131/2010 [00:00<00:02, 647.85it/s]"
     ]
    },
    {
     "name": "stdout",
     "output_type": "stream",
     "text": [
      "episode : 642 reward : -80.4234038111552\n",
      "total test reward=-13.200590894930201\n"
     ]
    },
    {
     "name": "stderr",
     "output_type": "stream",
     "text": [
      "100%|█████████████████████████████████████████████████████████████████████████████| 2010/2010 [00:03<00:00, 624.63it/s]\n",
      "  7%|█████▏                                                                        | 133/2010 [00:00<00:02, 665.99it/s]"
     ]
    },
    {
     "name": "stdout",
     "output_type": "stream",
     "text": [
      "episode : 643 reward : -36.39808802561569\n",
      "total test reward=-47.87298612934946\n"
     ]
    },
    {
     "name": "stderr",
     "output_type": "stream",
     "text": [
      "100%|█████████████████████████████████████████████████████████████████████████████| 2010/2010 [00:03<00:00, 578.71it/s]\n",
      "  3%|██▍                                                                            | 63/2010 [00:00<00:03, 619.31it/s]"
     ]
    },
    {
     "name": "stdout",
     "output_type": "stream",
     "text": [
      "episode : 644 reward : -46.14191542381667\n",
      "total test reward=-33.92782281414564\n"
     ]
    },
    {
     "name": "stderr",
     "output_type": "stream",
     "text": [
      "100%|█████████████████████████████████████████████████████████████████████████████| 2010/2010 [00:03<00:00, 616.30it/s]\n",
      "  3%|██▍                                                                            | 62/2010 [00:00<00:03, 615.70it/s]"
     ]
    },
    {
     "name": "stdout",
     "output_type": "stream",
     "text": [
      "episode : 645 reward : -46.578403736411445\n",
      "total test reward=-66.20929312889052\n"
     ]
    },
    {
     "name": "stderr",
     "output_type": "stream",
     "text": [
      "100%|█████████████████████████████████████████████████████████████████████████████| 2010/2010 [00:03<00:00, 591.89it/s]\n",
      "  6%|████▌                                                                         | 117/2010 [00:00<00:03, 585.90it/s]"
     ]
    },
    {
     "name": "stdout",
     "output_type": "stream",
     "text": [
      "episode : 646 reward : -16.450254267602674\n",
      "total test reward=-43.40789239777967\n"
     ]
    },
    {
     "name": "stderr",
     "output_type": "stream",
     "text": [
      "100%|█████████████████████████████████████████████████████████████████████████████| 2010/2010 [00:03<00:00, 512.78it/s]\n",
      "  3%|██                                                                             | 53/2010 [00:00<00:03, 515.94it/s]"
     ]
    },
    {
     "name": "stdout",
     "output_type": "stream",
     "text": [
      "episode : 647 reward : -53.95574034455993\n",
      "total test reward=-48.77530676640107\n"
     ]
    },
    {
     "name": "stderr",
     "output_type": "stream",
     "text": [
      "100%|█████████████████████████████████████████████████████████████████████████████| 2010/2010 [00:03<00:00, 531.38it/s]\n",
      "  3%|██▍                                                                            | 61/2010 [00:00<00:03, 605.37it/s]"
     ]
    },
    {
     "name": "stdout",
     "output_type": "stream",
     "text": [
      "episode : 648 reward : -28.990201823166757\n",
      "total test reward=-32.17114499430506\n"
     ]
    },
    {
     "name": "stderr",
     "output_type": "stream",
     "text": [
      "100%|█████████████████████████████████████████████████████████████████████████████| 2010/2010 [00:03<00:00, 570.37it/s]\n",
      "  3%|██▏                                                                            | 57/2010 [00:00<00:03, 560.45it/s]"
     ]
    },
    {
     "name": "stdout",
     "output_type": "stream",
     "text": [
      "episode : 649 reward : -45.126756068872226\n",
      "total test reward=-0.9740079059783227\n"
     ]
    },
    {
     "name": "stderr",
     "output_type": "stream",
     "text": [
      "100%|█████████████████████████████████████████████████████████████████████████████| 2010/2010 [00:03<00:00, 572.69it/s]\n",
      "  3%|██                                                                             | 51/2010 [00:00<00:03, 501.33it/s]"
     ]
    },
    {
     "name": "stdout",
     "output_type": "stream",
     "text": [
      "episode : 650 reward : 12.020479185137788\n",
      "total test reward=-17.11928108215185\n"
     ]
    },
    {
     "name": "stderr",
     "output_type": "stream",
     "text": [
      "100%|█████████████████████████████████████████████████████████████████████████████| 2010/2010 [00:03<00:00, 530.24it/s]\n",
      "  3%|██▍                                                                            | 61/2010 [00:00<00:03, 605.77it/s]"
     ]
    },
    {
     "name": "stdout",
     "output_type": "stream",
     "text": [
      "episode : 651 reward : 81.6531910004604\n",
      "total test reward=-31.629746407376302\n"
     ]
    },
    {
     "name": "stderr",
     "output_type": "stream",
     "text": [
      "100%|█████████████████████████████████████████████████████████████████████████████| 2010/2010 [00:03<00:00, 558.88it/s]\n",
      "  3%|██▏                                                                            | 56/2010 [00:00<00:03, 555.94it/s]"
     ]
    },
    {
     "name": "stdout",
     "output_type": "stream",
     "text": [
      "episode : 652 reward : -41.79188899869436\n",
      "total test reward=-31.949041027271182\n"
     ]
    },
    {
     "name": "stderr",
     "output_type": "stream",
     "text": [
      "100%|█████████████████████████████████████████████████████████████████████████████| 2010/2010 [00:03<00:00, 553.52it/s]\n",
      "  3%|██▏                                                                            | 55/2010 [00:00<00:03, 546.73it/s]"
     ]
    },
    {
     "name": "stdout",
     "output_type": "stream",
     "text": [
      "episode : 653 reward : -50.54939432163826\n",
      "total test reward=-26.82409811133315\n"
     ]
    },
    {
     "name": "stderr",
     "output_type": "stream",
     "text": [
      "100%|█████████████████████████████████████████████████████████████████████████████| 2010/2010 [00:03<00:00, 553.15it/s]\n",
      "  3%|██▍                                                                            | 61/2010 [00:00<00:03, 609.42it/s]"
     ]
    },
    {
     "name": "stdout",
     "output_type": "stream",
     "text": [
      "episode : 654 reward : -35.84085193371385\n",
      "total test reward=-37.48106652233742\n"
     ]
    },
    {
     "name": "stderr",
     "output_type": "stream",
     "text": [
      "100%|█████████████████████████████████████████████████████████████████████████████| 2010/2010 [00:03<00:00, 547.44it/s]\n",
      "  3%|██▎                                                                            | 60/2010 [00:00<00:03, 595.65it/s]"
     ]
    },
    {
     "name": "stdout",
     "output_type": "stream",
     "text": [
      "episode : 655 reward : 10.486793013859312\n",
      "total test reward=-1.7754412880637176\n"
     ]
    },
    {
     "name": "stderr",
     "output_type": "stream",
     "text": [
      "100%|█████████████████████████████████████████████████████████████████████████████| 2010/2010 [00:03<00:00, 563.99it/s]\n",
      "  3%|██                                                                             | 53/2010 [00:00<00:03, 521.00it/s]"
     ]
    },
    {
     "name": "stdout",
     "output_type": "stream",
     "text": [
      "episode : 656 reward : -16.573117025068115\n",
      "total test reward=4.433030714083981\n"
     ]
    },
    {
     "name": "stderr",
     "output_type": "stream",
     "text": [
      "100%|█████████████████████████████████████████████████████████████████████████████| 2010/2010 [00:03<00:00, 539.03it/s]\n",
      "  3%|██▏                                                                            | 57/2010 [00:00<00:03, 565.87it/s]"
     ]
    },
    {
     "name": "stdout",
     "output_type": "stream",
     "text": [
      "episode : 657 reward : -59.239422139005825\n",
      "total test reward=-28.085695694060796\n"
     ]
    },
    {
     "name": "stderr",
     "output_type": "stream",
     "text": [
      "100%|█████████████████████████████████████████████████████████████████████████████| 2010/2010 [00:03<00:00, 554.06it/s]\n",
      "  3%|██                                                                             | 54/2010 [00:00<00:03, 536.09it/s]"
     ]
    },
    {
     "name": "stdout",
     "output_type": "stream",
     "text": [
      "episode : 658 reward : 71.41761719112012\n",
      "total test reward=-31.927928404684017\n"
     ]
    },
    {
     "name": "stderr",
     "output_type": "stream",
     "text": [
      "100%|█████████████████████████████████████████████████████████████████████████████| 2010/2010 [00:03<00:00, 520.96it/s]\n",
      "  3%|██▍                                                                            | 62/2010 [00:00<00:03, 618.34it/s]"
     ]
    },
    {
     "name": "stdout",
     "output_type": "stream",
     "text": [
      "episode : 659 reward : -52.5973222164408\n",
      "total test reward=-43.305273794222934\n"
     ]
    },
    {
     "name": "stderr",
     "output_type": "stream",
     "text": [
      "100%|█████████████████████████████████████████████████████████████████████████████| 2010/2010 [00:03<00:00, 554.19it/s]\n",
      "  3%|██▎                                                                            | 58/2010 [00:00<00:03, 570.18it/s]"
     ]
    },
    {
     "name": "stdout",
     "output_type": "stream",
     "text": [
      "episode : 660 reward : -84.64611925533629\n",
      "total test reward=-18.80934588751511\n"
     ]
    },
    {
     "name": "stderr",
     "output_type": "stream",
     "text": [
      "100%|█████████████████████████████████████████████████████████████████████████████| 2010/2010 [00:03<00:00, 558.37it/s]\n",
      "  3%|██▎                                                                            | 60/2010 [00:00<00:03, 595.90it/s]"
     ]
    },
    {
     "name": "stdout",
     "output_type": "stream",
     "text": [
      "episode : 661 reward : 19.68021965854419\n",
      "total test reward=-19.805283124920543\n"
     ]
    },
    {
     "name": "stderr",
     "output_type": "stream",
     "text": [
      "100%|█████████████████████████████████████████████████████████████████████████████| 2010/2010 [00:03<00:00, 550.72it/s]\n",
      "  6%|████▌                                                                         | 117/2010 [00:00<00:03, 560.50it/s]"
     ]
    },
    {
     "name": "stdout",
     "output_type": "stream",
     "text": [
      "episode : 662 reward : -25.66536985340153\n",
      "total test reward=-36.14020348158407\n"
     ]
    },
    {
     "name": "stderr",
     "output_type": "stream",
     "text": [
      "100%|█████████████████████████████████████████████████████████████████████████████| 2010/2010 [00:03<00:00, 565.78it/s]\n",
      "  3%|██▍                                                                            | 61/2010 [00:00<00:03, 601.04it/s]"
     ]
    },
    {
     "name": "stdout",
     "output_type": "stream",
     "text": [
      "episode : 663 reward : -24.867660897415533\n",
      "total test reward=-9.712329671804264\n"
     ]
    },
    {
     "name": "stderr",
     "output_type": "stream",
     "text": [
      "100%|█████████████████████████████████████████████████████████████████████████████| 2010/2010 [00:03<00:00, 569.19it/s]\n",
      "  3%|██▍                                                                            | 63/2010 [00:00<00:03, 625.43it/s]"
     ]
    },
    {
     "name": "stdout",
     "output_type": "stream",
     "text": [
      "episode : 664 reward : -97.45985534289923\n",
      "total test reward=-94.52202386602801\n"
     ]
    },
    {
     "name": "stderr",
     "output_type": "stream",
     "text": [
      "100%|█████████████████████████████████████████████████████████████████████████████| 2010/2010 [00:03<00:00, 577.91it/s]\n",
      "  3%|██▎                                                                            | 59/2010 [00:00<00:03, 579.97it/s]"
     ]
    },
    {
     "name": "stdout",
     "output_type": "stream",
     "text": [
      "episode : 665 reward : -34.81882500186265\n",
      "total test reward=-23.066569492645783\n"
     ]
    },
    {
     "name": "stderr",
     "output_type": "stream",
     "text": [
      "100%|█████████████████████████████████████████████████████████████████████████████| 2010/2010 [00:03<00:00, 585.52it/s]\n",
      "  3%|██▍                                                                            | 63/2010 [00:00<00:03, 618.77it/s]"
     ]
    },
    {
     "name": "stdout",
     "output_type": "stream",
     "text": [
      "episode : 666 reward : -18.918547285755096\n",
      "total test reward=-45.80781158392124\n"
     ]
    },
    {
     "name": "stderr",
     "output_type": "stream",
     "text": [
      "100%|█████████████████████████████████████████████████████████████████████████████| 2010/2010 [00:03<00:00, 570.89it/s]\n",
      "  3%|██▎                                                                            | 60/2010 [00:00<00:03, 595.44it/s]"
     ]
    },
    {
     "name": "stdout",
     "output_type": "stream",
     "text": [
      "episode : 667 reward : -23.33167996658233\n",
      "total test reward=-41.62821338190323\n"
     ]
    },
    {
     "name": "stderr",
     "output_type": "stream",
     "text": [
      "100%|█████████████████████████████████████████████████████████████████████████████| 2010/2010 [00:03<00:00, 574.43it/s]\n",
      "  3%|██▎                                                                            | 59/2010 [00:00<00:03, 585.72it/s]"
     ]
    },
    {
     "name": "stdout",
     "output_type": "stream",
     "text": [
      "episode : 668 reward : -38.07167546408195\n",
      "total test reward=-65.57054270132683\n"
     ]
    },
    {
     "name": "stderr",
     "output_type": "stream",
     "text": [
      "100%|█████████████████████████████████████████████████████████████████████████████| 2010/2010 [00:03<00:00, 573.17it/s]\n",
      "  3%|██▍                                                                            | 62/2010 [00:00<00:03, 615.29it/s]"
     ]
    },
    {
     "name": "stdout",
     "output_type": "stream",
     "text": [
      "episode : 669 reward : -28.541165511135432\n",
      "total test reward=-27.24381512925077\n"
     ]
    },
    {
     "name": "stderr",
     "output_type": "stream",
     "text": [
      "100%|█████████████████████████████████████████████████████████████████████████████| 2010/2010 [00:03<00:00, 574.70it/s]\n",
      "  3%|██▎                                                                            | 58/2010 [00:00<00:03, 579.20it/s]"
     ]
    },
    {
     "name": "stdout",
     "output_type": "stream",
     "text": [
      "episode : 670 reward : -88.40677223058131\n",
      "total test reward=-51.356851013152664\n"
     ]
    },
    {
     "name": "stderr",
     "output_type": "stream",
     "text": [
      "100%|█████████████████████████████████████████████████████████████████████████████| 2010/2010 [00:03<00:00, 580.08it/s]\n",
      "  3%|██▎                                                                            | 60/2010 [00:00<00:03, 589.81it/s]"
     ]
    },
    {
     "name": "stdout",
     "output_type": "stream",
     "text": [
      "episode : 671 reward : -68.49338918541895\n",
      "total test reward=-59.22784988211108\n"
     ]
    },
    {
     "name": "stderr",
     "output_type": "stream",
     "text": [
      "100%|█████████████████████████████████████████████████████████████████████████████| 2010/2010 [00:03<00:00, 573.52it/s]\n",
      "  3%|██▍                                                                            | 62/2010 [00:00<00:03, 611.87it/s]"
     ]
    },
    {
     "name": "stdout",
     "output_type": "stream",
     "text": [
      "episode : 672 reward : -57.91037436220782\n",
      "total test reward=-32.55973171838788\n"
     ]
    },
    {
     "name": "stderr",
     "output_type": "stream",
     "text": [
      "100%|█████████████████████████████████████████████████████████████████████████████| 2010/2010 [00:03<00:00, 577.35it/s]\n",
      "  3%|██▏                                                                            | 57/2010 [00:00<00:03, 561.04it/s]"
     ]
    },
    {
     "name": "stdout",
     "output_type": "stream",
     "text": [
      "episode : 673 reward : -69.5469735212468\n",
      "total test reward=-27.92139062724984\n"
     ]
    },
    {
     "name": "stderr",
     "output_type": "stream",
     "text": [
      "100%|█████████████████████████████████████████████████████████████████████████████| 2010/2010 [00:03<00:00, 568.45it/s]\n",
      "  3%|██▎                                                                            | 58/2010 [00:00<00:03, 575.79it/s]"
     ]
    },
    {
     "name": "stdout",
     "output_type": "stream",
     "text": [
      "episode : 674 reward : -48.08145832641236\n",
      "total test reward=-38.47372326167456\n"
     ]
    },
    {
     "name": "stderr",
     "output_type": "stream",
     "text": [
      "100%|█████████████████████████████████████████████████████████████████████████████| 2010/2010 [00:03<00:00, 579.00it/s]\n",
      "  3%|██▎                                                                            | 60/2010 [00:00<00:03, 595.84it/s]"
     ]
    },
    {
     "name": "stdout",
     "output_type": "stream",
     "text": [
      "episode : 675 reward : -80.08435355749023\n",
      "total test reward=-43.47670665449383\n"
     ]
    },
    {
     "name": "stderr",
     "output_type": "stream",
     "text": [
      "100%|█████████████████████████████████████████████████████████████████████████████| 2010/2010 [00:03<00:00, 562.39it/s]\n",
      "  3%|██▏                                                                            | 56/2010 [00:00<00:03, 550.63it/s]"
     ]
    },
    {
     "name": "stdout",
     "output_type": "stream",
     "text": [
      "episode : 676 reward : -7.961939576462413\n",
      "total test reward=-51.02853989885333\n"
     ]
    },
    {
     "name": "stderr",
     "output_type": "stream",
     "text": [
      "100%|█████████████████████████████████████████████████████████████████████████████| 2010/2010 [00:03<00:00, 571.08it/s]\n",
      "  3%|██▍                                                                            | 62/2010 [00:00<00:03, 609.46it/s]"
     ]
    },
    {
     "name": "stdout",
     "output_type": "stream",
     "text": [
      "episode : 677 reward : -57.889907947323536\n",
      "total test reward=-40.65557137009512\n"
     ]
    },
    {
     "name": "stderr",
     "output_type": "stream",
     "text": [
      "100%|█████████████████████████████████████████████████████████████████████████████| 2010/2010 [00:03<00:00, 573.49it/s]\n",
      "  5%|████                                                                          | 105/2010 [00:00<00:03, 513.65it/s]"
     ]
    },
    {
     "name": "stdout",
     "output_type": "stream",
     "text": [
      "episode : 678 reward : -47.40121952226906\n",
      "total test reward=-33.952679424301905\n"
     ]
    },
    {
     "name": "stderr",
     "output_type": "stream",
     "text": [
      "100%|█████████████████████████████████████████████████████████████████████████████| 2010/2010 [00:03<00:00, 560.20it/s]\n",
      "  3%|██▎                                                                            | 60/2010 [00:00<00:03, 595.65it/s]"
     ]
    },
    {
     "name": "stdout",
     "output_type": "stream",
     "text": [
      "episode : 679 reward : -30.718959095766763\n",
      "total test reward=-26.446557160764918\n"
     ]
    },
    {
     "name": "stderr",
     "output_type": "stream",
     "text": [
      "100%|█████████████████████████████████████████████████████████████████████████████| 2010/2010 [00:03<00:00, 565.87it/s]\n",
      "  3%|██▏                                                                            | 57/2010 [00:00<00:03, 560.32it/s]"
     ]
    },
    {
     "name": "stdout",
     "output_type": "stream",
     "text": [
      "episode : 680 reward : -4.124504436538075\n",
      "total test reward=-34.800669935528965\n"
     ]
    },
    {
     "name": "stderr",
     "output_type": "stream",
     "text": [
      "100%|█████████████████████████████████████████████████████████████████████████████| 2010/2010 [00:03<00:00, 563.33it/s]\n",
      "  3%|██▏                                                                            | 56/2010 [00:00<00:03, 550.49it/s]"
     ]
    },
    {
     "name": "stdout",
     "output_type": "stream",
     "text": [
      "episode : 681 reward : -57.63827673905169\n",
      "total test reward=-31.581792190504803\n"
     ]
    },
    {
     "name": "stderr",
     "output_type": "stream",
     "text": [
      "100%|█████████████████████████████████████████████████████████████████████████████| 2010/2010 [00:03<00:00, 560.08it/s]\n",
      "  3%|██▍                                                                            | 61/2010 [00:00<00:03, 605.57it/s]"
     ]
    },
    {
     "name": "stdout",
     "output_type": "stream",
     "text": [
      "episode : 682 reward : -11.100277772141794\n",
      "total test reward=-43.323481416573124\n"
     ]
    },
    {
     "name": "stderr",
     "output_type": "stream",
     "text": [
      "100%|█████████████████████████████████████████████████████████████████████████████| 2010/2010 [00:03<00:00, 544.02it/s]\n",
      "  3%|██                                                                             | 51/2010 [00:00<00:03, 506.31it/s]"
     ]
    },
    {
     "name": "stdout",
     "output_type": "stream",
     "text": [
      "episode : 683 reward : -61.3479181756764\n",
      "total test reward=-35.78530411691959\n"
     ]
    },
    {
     "name": "stderr",
     "output_type": "stream",
     "text": [
      "100%|█████████████████████████████████████████████████████████████████████████████| 2010/2010 [00:03<00:00, 557.69it/s]\n",
      "  3%|██▎                                                                            | 58/2010 [00:00<00:03, 570.16it/s]"
     ]
    },
    {
     "name": "stdout",
     "output_type": "stream",
     "text": [
      "episode : 684 reward : -14.529528691181781\n",
      "total test reward=-35.093188169897516\n"
     ]
    },
    {
     "name": "stderr",
     "output_type": "stream",
     "text": [
      "100%|█████████████████████████████████████████████████████████████████████████████| 2010/2010 [00:03<00:00, 566.77it/s]\n",
      "  3%|██▎                                                                            | 59/2010 [00:00<00:03, 589.63it/s]"
     ]
    },
    {
     "name": "stdout",
     "output_type": "stream",
     "text": [
      "episode : 685 reward : -27.931887252840255\n",
      "total test reward=-25.966215262118585\n"
     ]
    },
    {
     "name": "stderr",
     "output_type": "stream",
     "text": [
      "100%|█████████████████████████████████████████████████████████████████████████████| 2010/2010 [00:03<00:00, 560.03it/s]\n",
      "  3%|██▏                                                                            | 57/2010 [00:00<00:03, 560.32it/s]"
     ]
    },
    {
     "name": "stdout",
     "output_type": "stream",
     "text": [
      "episode : 686 reward : -46.44228763958648\n",
      "total test reward=-38.81831956612798\n"
     ]
    },
    {
     "name": "stderr",
     "output_type": "stream",
     "text": [
      "100%|█████████████████████████████████████████████████████████████████████████████| 2010/2010 [00:03<00:00, 517.88it/s]\n",
      "  3%|██▏                                                                            | 56/2010 [00:00<00:03, 555.94it/s]"
     ]
    },
    {
     "name": "stdout",
     "output_type": "stream",
     "text": [
      "episode : 687 reward : -5.186078747813809\n",
      "total test reward=-6.252645652644884\n"
     ]
    },
    {
     "name": "stderr",
     "output_type": "stream",
     "text": [
      "100%|█████████████████████████████████████████████████████████████████████████████| 2010/2010 [00:03<00:00, 544.03it/s]\n",
      "  3%|██▎                                                                            | 58/2010 [00:00<00:03, 569.71it/s]"
     ]
    },
    {
     "name": "stdout",
     "output_type": "stream",
     "text": [
      "episode : 688 reward : -46.5783569298618\n",
      "total test reward=-28.996481167563303\n"
     ]
    },
    {
     "name": "stderr",
     "output_type": "stream",
     "text": [
      "100%|█████████████████████████████████████████████████████████████████████████████| 2010/2010 [00:03<00:00, 548.72it/s]\n",
      "  2%|█▉                                                                             | 50/2010 [00:00<00:03, 496.27it/s]"
     ]
    },
    {
     "name": "stdout",
     "output_type": "stream",
     "text": [
      "episode : 689 reward : -84.50746095836061\n",
      "total test reward=-43.69002360300691\n"
     ]
    },
    {
     "name": "stderr",
     "output_type": "stream",
     "text": [
      "100%|█████████████████████████████████████████████████████████████████████████████| 2010/2010 [00:03<00:00, 532.10it/s]\n",
      "  3%|██▍                                                                            | 62/2010 [00:00<00:03, 615.50it/s]"
     ]
    },
    {
     "name": "stdout",
     "output_type": "stream",
     "text": [
      "episode : 690 reward : -95.95266705682388\n",
      "total test reward=-48.343129851267555\n"
     ]
    },
    {
     "name": "stderr",
     "output_type": "stream",
     "text": [
      "100%|█████████████████████████████████████████████████████████████████████████████| 2010/2010 [00:03<00:00, 545.23it/s]\n",
      "  2%|█▉                                                                             | 50/2010 [00:00<00:03, 496.63it/s]"
     ]
    },
    {
     "name": "stdout",
     "output_type": "stream",
     "text": [
      "episode : 691 reward : -194.237826814071\n",
      "total test reward=-42.09974745070549\n"
     ]
    },
    {
     "name": "stderr",
     "output_type": "stream",
     "text": [
      "100%|█████████████████████████████████████████████████████████████████████████████| 2010/2010 [00:03<00:00, 543.36it/s]\n",
      "  2%|█▊                                                                             | 45/2010 [00:00<00:04, 438.06it/s]"
     ]
    },
    {
     "name": "stdout",
     "output_type": "stream",
     "text": [
      "episode : 692 reward : -67.2604129562825\n",
      "total test reward=-16.62335004576901\n"
     ]
    },
    {
     "name": "stderr",
     "output_type": "stream",
     "text": [
      "100%|█████████████████████████████████████████████████████████████████████████████| 2010/2010 [00:04<00:00, 458.84it/s]\n",
      "  2%|█▊                                                                             | 46/2010 [00:00<00:04, 456.65it/s]"
     ]
    },
    {
     "name": "stdout",
     "output_type": "stream",
     "text": [
      "episode : 693 reward : -19.073058032536494\n",
      "total test reward=-34.05783526652152\n"
     ]
    },
    {
     "name": "stderr",
     "output_type": "stream",
     "text": [
      "100%|█████████████████████████████████████████████████████████████████████████████| 2010/2010 [00:04<00:00, 404.93it/s]\n",
      "  2%|█▋                                                                             | 44/2010 [00:00<00:04, 430.35it/s]"
     ]
    },
    {
     "name": "stdout",
     "output_type": "stream",
     "text": [
      "episode : 694 reward : 102.57419632141628\n",
      "total test reward=-33.982985364178006\n"
     ]
    },
    {
     "name": "stderr",
     "output_type": "stream",
     "text": [
      "100%|█████████████████████████████████████████████████████████████████████████████| 2010/2010 [00:04<00:00, 436.00it/s]\n",
      "  3%|██▏                                                                            | 57/2010 [00:00<00:03, 560.32it/s]"
     ]
    },
    {
     "name": "stdout",
     "output_type": "stream",
     "text": [
      "episode : 695 reward : -71.75798311989865\n",
      "total test reward=-1.1533282406276613\n"
     ]
    },
    {
     "name": "stderr",
     "output_type": "stream",
     "text": [
      "100%|█████████████████████████████████████████████████████████████████████████████| 2010/2010 [00:04<00:00, 500.64it/s]\n",
      "  5%|████▏                                                                         | 109/2010 [00:00<00:03, 542.96it/s]"
     ]
    },
    {
     "name": "stdout",
     "output_type": "stream",
     "text": [
      "episode : 696 reward : -32.23062400370634\n",
      "total test reward=-42.784369454834334\n"
     ]
    },
    {
     "name": "stderr",
     "output_type": "stream",
     "text": [
      "100%|█████████████████████████████████████████████████████████████████████████████| 2010/2010 [00:04<00:00, 496.93it/s]\n",
      "  2%|█▊                                                                             | 46/2010 [00:00<00:04, 456.66it/s]"
     ]
    },
    {
     "name": "stdout",
     "output_type": "stream",
     "text": [
      "episode : 697 reward : -37.46417669363939\n",
      "total test reward=-46.48709228124073\n"
     ]
    },
    {
     "name": "stderr",
     "output_type": "stream",
     "text": [
      "100%|█████████████████████████████████████████████████████████████████████████████| 2010/2010 [00:04<00:00, 432.08it/s]\n",
      "  3%|██                                                                             | 54/2010 [00:00<00:03, 530.84it/s]"
     ]
    },
    {
     "name": "stdout",
     "output_type": "stream",
     "text": [
      "episode : 698 reward : -4.004187169023538\n",
      "total test reward=-32.57507199147382\n"
     ]
    },
    {
     "name": "stderr",
     "output_type": "stream",
     "text": [
      "100%|█████████████████████████████████████████████████████████████████████████████| 2010/2010 [00:04<00:00, 496.95it/s]\n",
      "  3%|██▎                                                                            | 58/2010 [00:00<00:03, 575.58it/s]"
     ]
    },
    {
     "name": "stdout",
     "output_type": "stream",
     "text": [
      "episode : 699 reward : -40.17412175308385\n",
      "total test reward=-24.95898176314136\n"
     ]
    },
    {
     "name": "stderr",
     "output_type": "stream",
     "text": [
      "100%|█████████████████████████████████████████████████████████████████████████████| 2010/2010 [00:04<00:00, 452.58it/s]\n",
      "  2%|█▊                                                                             | 46/2010 [00:00<00:04, 454.73it/s]"
     ]
    },
    {
     "name": "stdout",
     "output_type": "stream",
     "text": [
      "episode : 700 reward : -11.655268907014204\n",
      "total test reward=-9.673193451278928\n"
     ]
    },
    {
     "name": "stderr",
     "output_type": "stream",
     "text": [
      "100%|█████████████████████████████████████████████████████████████████████████████| 2010/2010 [00:03<00:00, 506.40it/s]\n",
      "  3%|██                                                                             | 52/2010 [00:00<00:03, 515.71it/s]"
     ]
    },
    {
     "name": "stdout",
     "output_type": "stream",
     "text": [
      "episode : 701 reward : -43.03224419557526\n",
      "total test reward=-15.768026004094793\n"
     ]
    },
    {
     "name": "stderr",
     "output_type": "stream",
     "text": [
      "100%|█████████████████████████████████████████████████████████████████████████████| 2010/2010 [00:03<00:00, 513.37it/s]\n",
      "  3%|██                                                                             | 52/2010 [00:00<00:03, 516.07it/s]"
     ]
    },
    {
     "name": "stdout",
     "output_type": "stream",
     "text": [
      "episode : 702 reward : -16.002468432328214\n",
      "total test reward=-18.009301147638073\n"
     ]
    },
    {
     "name": "stderr",
     "output_type": "stream",
     "text": [
      "100%|█████████████████████████████████████████████████████████████████████████████| 2010/2010 [00:03<00:00, 518.46it/s]\n",
      "  3%|██                                                                             | 54/2010 [00:00<00:03, 535.87it/s]"
     ]
    },
    {
     "name": "stdout",
     "output_type": "stream",
     "text": [
      "episode : 703 reward : -100.03682830241667\n",
      "total test reward=-23.773708996710475\n"
     ]
    },
    {
     "name": "stderr",
     "output_type": "stream",
     "text": [
      "100%|█████████████████████████████████████████████████████████████████████████████| 2010/2010 [00:03<00:00, 510.11it/s]\n",
      "  3%|██                                                                             | 54/2010 [00:00<00:03, 536.22it/s]"
     ]
    },
    {
     "name": "stdout",
     "output_type": "stream",
     "text": [
      "episode : 704 reward : -42.83552457727842\n",
      "total test reward=-36.80317625591687\n"
     ]
    },
    {
     "name": "stderr",
     "output_type": "stream",
     "text": [
      "100%|█████████████████████████████████████████████████████████████████████████████| 2010/2010 [00:03<00:00, 505.48it/s]\n",
      "  3%|██▏                                                                            | 56/2010 [00:00<00:03, 555.99it/s]"
     ]
    },
    {
     "name": "stdout",
     "output_type": "stream",
     "text": [
      "episode : 705 reward : -27.6929123822581\n",
      "total test reward=-41.59767925589087\n"
     ]
    },
    {
     "name": "stderr",
     "output_type": "stream",
     "text": [
      "100%|█████████████████████████████████████████████████████████████████████████████| 2010/2010 [00:03<00:00, 514.07it/s]\n",
      "  3%|██                                                                             | 53/2010 [00:00<00:03, 521.00it/s]"
     ]
    },
    {
     "name": "stdout",
     "output_type": "stream",
     "text": [
      "episode : 706 reward : -22.595009273993497\n",
      "total test reward=-68.45183216712162\n"
     ]
    },
    {
     "name": "stderr",
     "output_type": "stream",
     "text": [
      "100%|█████████████████████████████████████████████████████████████████████████████| 2010/2010 [00:03<00:00, 509.89it/s]\n",
      "  3%|██                                                                             | 51/2010 [00:00<00:03, 501.34it/s]"
     ]
    },
    {
     "name": "stdout",
     "output_type": "stream",
     "text": [
      "episode : 707 reward : -34.8645126370204\n",
      "total test reward=-23.014053982130243\n"
     ]
    },
    {
     "name": "stderr",
     "output_type": "stream",
     "text": [
      "100%|█████████████████████████████████████████████████████████████████████████████| 2010/2010 [00:03<00:00, 516.20it/s]\n",
      "  3%|██                                                                             | 54/2010 [00:00<00:03, 536.08it/s]"
     ]
    },
    {
     "name": "stdout",
     "output_type": "stream",
     "text": [
      "episode : 708 reward : -55.7192888268041\n",
      "total test reward=-44.47272129709749\n"
     ]
    },
    {
     "name": "stderr",
     "output_type": "stream",
     "text": [
      "100%|█████████████████████████████████████████████████████████████████████████████| 2010/2010 [00:03<00:00, 515.78it/s]\n",
      "  3%|██                                                                             | 53/2010 [00:00<00:03, 526.18it/s]"
     ]
    },
    {
     "name": "stdout",
     "output_type": "stream",
     "text": [
      "episode : 709 reward : -105.47900174532168\n",
      "total test reward=-47.82824845056296\n"
     ]
    },
    {
     "name": "stderr",
     "output_type": "stream",
     "text": [
      "100%|█████████████████████████████████████████████████████████████████████████████| 2010/2010 [00:03<00:00, 514.66it/s]\n",
      "  3%|██                                                                             | 52/2010 [00:00<00:03, 511.33it/s]"
     ]
    },
    {
     "name": "stdout",
     "output_type": "stream",
     "text": [
      "episode : 710 reward : 85.49778412684509\n",
      "total test reward=-55.32346403149393\n"
     ]
    },
    {
     "name": "stderr",
     "output_type": "stream",
     "text": [
      "100%|█████████████████████████████████████████████████████████████████████████████| 2010/2010 [00:04<00:00, 501.66it/s]\n",
      "  3%|██                                                                             | 54/2010 [00:00<00:03, 536.21it/s]"
     ]
    },
    {
     "name": "stdout",
     "output_type": "stream",
     "text": [
      "episode : 711 reward : -34.8866938600859\n",
      "total test reward=-20.40056738131667\n"
     ]
    },
    {
     "name": "stderr",
     "output_type": "stream",
     "text": [
      "100%|█████████████████████████████████████████████████████████████████████████████| 2010/2010 [00:03<00:00, 513.79it/s]\n",
      "  3%|██                                                                             | 52/2010 [00:00<00:03, 518.96it/s]"
     ]
    },
    {
     "name": "stdout",
     "output_type": "stream",
     "text": [
      "episode : 712 reward : -70.88120587589958\n",
      "total test reward=-34.12455332064298\n"
     ]
    },
    {
     "name": "stderr",
     "output_type": "stream",
     "text": [
      "100%|█████████████████████████████████████████████████████████████████████████████| 2010/2010 [00:03<00:00, 504.08it/s]\n",
      "  2%|█▍                                                                             | 36/2010 [00:00<00:05, 353.88it/s]"
     ]
    },
    {
     "name": "stdout",
     "output_type": "stream",
     "text": [
      "episode : 713 reward : -74.87993180598426\n",
      "total test reward=-45.99748518409679\n"
     ]
    },
    {
     "name": "stderr",
     "output_type": "stream",
     "text": [
      "100%|█████████████████████████████████████████████████████████████████████████████| 2010/2010 [00:04<00:00, 407.49it/s]\n",
      "  3%|██▏                                                                            | 57/2010 [00:00<00:03, 560.32it/s]"
     ]
    },
    {
     "name": "stdout",
     "output_type": "stream",
     "text": [
      "episode : 714 reward : -14.18198594354834\n",
      "total test reward=24.885663694964016\n"
     ]
    },
    {
     "name": "stderr",
     "output_type": "stream",
     "text": [
      "100%|█████████████████████████████████████████████████████████████████████████████| 2010/2010 [00:04<00:00, 486.68it/s]\n",
      "  5%|████▏                                                                         | 108/2010 [00:00<00:03, 534.45it/s]"
     ]
    },
    {
     "name": "stdout",
     "output_type": "stream",
     "text": [
      "episode : 715 reward : -80.17905422295001\n",
      "total test reward=-6.283369433861509\n"
     ]
    },
    {
     "name": "stderr",
     "output_type": "stream",
     "text": [
      "100%|█████████████████████████████████████████████████████████████████████████████| 2010/2010 [00:04<00:00, 499.55it/s]\n",
      "  3%|██                                                                             | 51/2010 [00:00<00:03, 509.89it/s]"
     ]
    },
    {
     "name": "stdout",
     "output_type": "stream",
     "text": [
      "episode : 716 reward : -54.928974673211826\n",
      "total test reward=-45.12618849393473\n"
     ]
    },
    {
     "name": "stderr",
     "output_type": "stream",
     "text": [
      "100%|█████████████████████████████████████████████████████████████████████████████| 2010/2010 [00:04<00:00, 500.05it/s]\n",
      "  3%|██                                                                             | 52/2010 [00:00<00:03, 511.37it/s]"
     ]
    },
    {
     "name": "stdout",
     "output_type": "stream",
     "text": [
      "episode : 717 reward : -119.09085749814307\n",
      "total test reward=-26.496921850395903\n"
     ]
    },
    {
     "name": "stderr",
     "output_type": "stream",
     "text": [
      "100%|█████████████████████████████████████████████████████████████████████████████| 2010/2010 [00:04<00:00, 461.02it/s]\n",
      "  2%|█▉                                                                             | 49/2010 [00:00<00:04, 488.29it/s]"
     ]
    },
    {
     "name": "stdout",
     "output_type": "stream",
     "text": [
      "episode : 718 reward : -40.3742112169098\n",
      "total test reward=-32.04153802937382\n"
     ]
    },
    {
     "name": "stderr",
     "output_type": "stream",
     "text": [
      "100%|█████████████████████████████████████████████████████████████████████████████| 2010/2010 [00:04<00:00, 480.39it/s]\n",
      "  3%|██▏                                                                            | 55/2010 [00:00<00:03, 534.77it/s]"
     ]
    },
    {
     "name": "stdout",
     "output_type": "stream",
     "text": [
      "episode : 719 reward : -47.385573157314354\n",
      "total test reward=-17.033357884545204\n"
     ]
    },
    {
     "name": "stderr",
     "output_type": "stream",
     "text": [
      "100%|█████████████████████████████████████████████████████████████████████████████| 2010/2010 [00:04<00:00, 466.93it/s]\n",
      "  5%|███▉                                                                          | 101/2010 [00:00<00:03, 496.90it/s]"
     ]
    },
    {
     "name": "stdout",
     "output_type": "stream",
     "text": [
      "episode : 720 reward : -39.13834909860509\n",
      "total test reward=-29.41733193121342\n"
     ]
    },
    {
     "name": "stderr",
     "output_type": "stream",
     "text": [
      "100%|█████████████████████████████████████████████████████████████████████████████| 2010/2010 [00:04<00:00, 501.21it/s]\n",
      "  2%|█▋                                                                             | 42/2010 [00:00<00:04, 408.86it/s]"
     ]
    },
    {
     "name": "stdout",
     "output_type": "stream",
     "text": [
      "episode : 721 reward : -14.108694649146003\n",
      "total test reward=-46.191750738749604\n"
     ]
    },
    {
     "name": "stderr",
     "output_type": "stream",
     "text": [
      "100%|█████████████████████████████████████████████████████████████████████████████| 2010/2010 [00:04<00:00, 479.31it/s]\n",
      "  5%|████                                                                          | 106/2010 [00:00<00:03, 524.76it/s]"
     ]
    },
    {
     "name": "stdout",
     "output_type": "stream",
     "text": [
      "episode : 722 reward : -48.17476429262621\n",
      "total test reward=-34.36176165462772\n"
     ]
    },
    {
     "name": "stderr",
     "output_type": "stream",
     "text": [
      "100%|█████████████████████████████████████████████████████████████████████████████| 2010/2010 [00:04<00:00, 431.64it/s]\n",
      "  2%|█▊                                                                             | 46/2010 [00:00<00:04, 452.19it/s]"
     ]
    },
    {
     "name": "stdout",
     "output_type": "stream",
     "text": [
      "episode : 723 reward : -47.689781236980906\n",
      "total test reward=-40.89122297281122\n"
     ]
    },
    {
     "name": "stderr",
     "output_type": "stream",
     "text": [
      "100%|█████████████████████████████████████████████████████████████████████████████| 2010/2010 [00:04<00:00, 484.68it/s]\n",
      "  2%|█▉                                                                             | 50/2010 [00:00<00:03, 496.37it/s]"
     ]
    },
    {
     "name": "stdout",
     "output_type": "stream",
     "text": [
      "episode : 724 reward : -23.653213737736536\n",
      "total test reward=-31.46303018964067\n"
     ]
    },
    {
     "name": "stderr",
     "output_type": "stream",
     "text": [
      "100%|█████████████████████████████████████████████████████████████████████████████| 2010/2010 [00:04<00:00, 454.37it/s]\n",
      "  2%|█▊                                                                             | 45/2010 [00:00<00:04, 442.35it/s]"
     ]
    },
    {
     "name": "stdout",
     "output_type": "stream",
     "text": [
      "episode : 725 reward : -46.47794195163411\n",
      "total test reward=-29.81422288238851\n"
     ]
    },
    {
     "name": "stderr",
     "output_type": "stream",
     "text": [
      "100%|█████████████████████████████████████████████████████████████████████████████| 2010/2010 [00:04<00:00, 436.11it/s]\n",
      "  5%|███▉                                                                          | 101/2010 [00:00<00:03, 506.80it/s]"
     ]
    },
    {
     "name": "stdout",
     "output_type": "stream",
     "text": [
      "episode : 726 reward : -43.424057500283766\n",
      "total test reward=-25.9034558040057\n"
     ]
    },
    {
     "name": "stderr",
     "output_type": "stream",
     "text": [
      "100%|█████████████████████████████████████████████████████████████████████████████| 2010/2010 [00:04<00:00, 481.21it/s]\n",
      "  3%|██                                                                             | 51/2010 [00:00<00:03, 506.22it/s]"
     ]
    },
    {
     "name": "stdout",
     "output_type": "stream",
     "text": [
      "episode : 727 reward : -44.75587117872183\n",
      "total test reward=-77.17245860624789\n"
     ]
    },
    {
     "name": "stderr",
     "output_type": "stream",
     "text": [
      "100%|█████████████████████████████████████████████████████████████████████████████| 2010/2010 [00:04<00:00, 497.24it/s]\n",
      "  2%|█▊                                                                             | 47/2010 [00:00<00:04, 462.01it/s]"
     ]
    },
    {
     "name": "stdout",
     "output_type": "stream",
     "text": [
      "episode : 728 reward : -71.2231149269142\n",
      "total test reward=-35.18399361699635\n"
     ]
    },
    {
     "name": "stderr",
     "output_type": "stream",
     "text": [
      "100%|█████████████████████████████████████████████████████████████████████████████| 2010/2010 [00:04<00:00, 494.25it/s]\n",
      "  2%|█▊                                                                             | 46/2010 [00:00<00:04, 452.20it/s]"
     ]
    },
    {
     "name": "stdout",
     "output_type": "stream",
     "text": [
      "episode : 729 reward : -37.22901196641021\n",
      "total test reward=-43.685189121183456\n"
     ]
    },
    {
     "name": "stderr",
     "output_type": "stream",
     "text": [
      "100%|█████████████████████████████████████████████████████████████████████████████| 2010/2010 [00:04<00:00, 492.48it/s]\n",
      "  5%|████                                                                          | 105/2010 [00:00<00:03, 519.56it/s]"
     ]
    },
    {
     "name": "stdout",
     "output_type": "stream",
     "text": [
      "episode : 730 reward : -43.498242171562794\n",
      "total test reward=-31.466560616535958\n"
     ]
    },
    {
     "name": "stderr",
     "output_type": "stream",
     "text": [
      "100%|█████████████████████████████████████████████████████████████████████████████| 2010/2010 [00:04<00:00, 483.74it/s]\n",
      "  3%|██                                                                             | 52/2010 [00:00<00:03, 511.16it/s]"
     ]
    },
    {
     "name": "stdout",
     "output_type": "stream",
     "text": [
      "episode : 731 reward : 16.41354090335821\n",
      "total test reward=-31.08298574936174\n"
     ]
    },
    {
     "name": "stderr",
     "output_type": "stream",
     "text": [
      "100%|█████████████████████████████████████████████████████████████████████████████| 2010/2010 [00:04<00:00, 464.21it/s]\n",
      "  3%|██                                                                             | 51/2010 [00:00<00:03, 501.84it/s]"
     ]
    },
    {
     "name": "stdout",
     "output_type": "stream",
     "text": [
      "episode : 732 reward : -35.96141899359057\n",
      "total test reward=-17.157849097410832\n"
     ]
    },
    {
     "name": "stderr",
     "output_type": "stream",
     "text": [
      "100%|█████████████████████████████████████████████████████████████████████████████| 2010/2010 [00:04<00:00, 470.82it/s]\n",
      "  2%|█▊                                                                             | 45/2010 [00:00<00:04, 446.74it/s]"
     ]
    },
    {
     "name": "stdout",
     "output_type": "stream",
     "text": [
      "episode : 733 reward : -19.474352973326063\n",
      "total test reward=-28.044681784998552\n"
     ]
    },
    {
     "name": "stderr",
     "output_type": "stream",
     "text": [
      "100%|█████████████████████████████████████████████████████████████████████████████| 2010/2010 [00:04<00:00, 475.51it/s]\n",
      "  5%|████                                                                          | 106/2010 [00:00<00:03, 526.19it/s]"
     ]
    },
    {
     "name": "stdout",
     "output_type": "stream",
     "text": [
      "episode : 734 reward : -37.15110838522571\n",
      "total test reward=-33.383277890575656\n"
     ]
    },
    {
     "name": "stderr",
     "output_type": "stream",
     "text": [
      "100%|█████████████████████████████████████████████████████████████████████████████| 2010/2010 [00:03<00:00, 502.55it/s]\n",
      "  2%|█▉                                                                             | 49/2010 [00:00<00:04, 481.68it/s]"
     ]
    },
    {
     "name": "stdout",
     "output_type": "stream",
     "text": [
      "episode : 735 reward : -20.969714220482643\n",
      "total test reward=-34.71272696363273\n"
     ]
    },
    {
     "name": "stderr",
     "output_type": "stream",
     "text": [
      "100%|█████████████████████████████████████████████████████████████████████████████| 2010/2010 [00:04<00:00, 494.48it/s]\n",
      "  2%|█▉                                                                             | 50/2010 [00:00<00:03, 491.51it/s]"
     ]
    },
    {
     "name": "stdout",
     "output_type": "stream",
     "text": [
      "episode : 736 reward : -62.54120617735833\n",
      "total test reward=-27.321154966616326\n"
     ]
    },
    {
     "name": "stderr",
     "output_type": "stream",
     "text": [
      "100%|█████████████████████████████████████████████████████████████████████████████| 2010/2010 [00:04<00:00, 500.60it/s]\n",
      "  5%|████▎                                                                         | 110/2010 [00:00<00:03, 540.32it/s]"
     ]
    },
    {
     "name": "stdout",
     "output_type": "stream",
     "text": [
      "episode : 737 reward : 1.1943268595562415\n",
      "total test reward=-39.17527055033563\n"
     ]
    },
    {
     "name": "stderr",
     "output_type": "stream",
     "text": [
      "100%|█████████████████████████████████████████████████████████████████████████████| 2010/2010 [00:04<00:00, 497.92it/s]\n",
      "  3%|██                                                                             | 52/2010 [00:00<00:03, 511.29it/s]"
     ]
    },
    {
     "name": "stdout",
     "output_type": "stream",
     "text": [
      "episode : 738 reward : -40.38334249296278\n",
      "total test reward=-52.347446470366776\n"
     ]
    },
    {
     "name": "stderr",
     "output_type": "stream",
     "text": [
      "100%|█████████████████████████████████████████████████████████████████████████████| 2010/2010 [00:04<00:00, 488.17it/s]\n",
      "  3%|██                                                                             | 51/2010 [00:00<00:03, 506.30it/s]"
     ]
    },
    {
     "name": "stdout",
     "output_type": "stream",
     "text": [
      "episode : 739 reward : -69.08268120104506\n",
      "total test reward=-33.24687238606406\n"
     ]
    },
    {
     "name": "stderr",
     "output_type": "stream",
     "text": [
      "100%|█████████████████████████████████████████████████████████████████████████████| 2010/2010 [00:04<00:00, 494.57it/s]\n",
      "  3%|██                                                                             | 52/2010 [00:00<00:03, 511.04it/s]"
     ]
    },
    {
     "name": "stdout",
     "output_type": "stream",
     "text": [
      "episode : 740 reward : -10.235044394047634\n",
      "total test reward=-40.853260701276255\n"
     ]
    },
    {
     "name": "stderr",
     "output_type": "stream",
     "text": [
      "100%|█████████████████████████████████████████████████████████████████████████████| 2010/2010 [00:04<00:00, 497.56it/s]\n",
      "  2%|█▉                                                                             | 49/2010 [00:00<00:04, 472.42it/s]"
     ]
    },
    {
     "name": "stdout",
     "output_type": "stream",
     "text": [
      "episode : 741 reward : -37.66234713084634\n",
      "total test reward=-53.485936335592555\n"
     ]
    },
    {
     "name": "stderr",
     "output_type": "stream",
     "text": [
      "100%|█████████████████████████████████████████████████████████████████████████████| 2010/2010 [00:04<00:00, 487.45it/s]\n",
      "  4%|███▏                                                                           | 81/2010 [00:00<00:04, 391.77it/s]"
     ]
    },
    {
     "name": "stdout",
     "output_type": "stream",
     "text": [
      "episode : 742 reward : 42.19285500495491\n",
      "total test reward=-49.64722136423059\n"
     ]
    },
    {
     "name": "stderr",
     "output_type": "stream",
     "text": [
      "100%|█████████████████████████████████████████████████████████████████████████████| 2010/2010 [00:04<00:00, 481.99it/s]\n",
      "  3%|██                                                                             | 54/2010 [00:00<00:03, 536.08it/s]"
     ]
    },
    {
     "name": "stdout",
     "output_type": "stream",
     "text": [
      "episode : 743 reward : -24.10472593188004\n",
      "total test reward=-1.4278184783957613\n"
     ]
    },
    {
     "name": "stderr",
     "output_type": "stream",
     "text": [
      "100%|█████████████████████████████████████████████████████████████████████████████| 2010/2010 [00:04<00:00, 496.33it/s]\n",
      "  2%|█▉                                                                             | 50/2010 [00:00<00:03, 496.50it/s]"
     ]
    },
    {
     "name": "stdout",
     "output_type": "stream",
     "text": [
      "episode : 744 reward : -54.091729632681165\n",
      "total test reward=-29.20049833958698\n"
     ]
    },
    {
     "name": "stderr",
     "output_type": "stream",
     "text": [
      "100%|█████████████████████████████████████████████████████████████████████████████| 2010/2010 [00:04<00:00, 498.02it/s]\n",
      "  2%|█▉                                                                             | 50/2010 [00:00<00:03, 498.22it/s]"
     ]
    },
    {
     "name": "stdout",
     "output_type": "stream",
     "text": [
      "episode : 745 reward : -39.58117080283321\n",
      "total test reward=-61.95644933511833\n"
     ]
    },
    {
     "name": "stderr",
     "output_type": "stream",
     "text": [
      "100%|█████████████████████████████████████████████████████████████████████████████| 2010/2010 [00:04<00:00, 496.21it/s]\n",
      "  3%|██▏                                                                            | 55/2010 [00:00<00:03, 545.95it/s]"
     ]
    },
    {
     "name": "stdout",
     "output_type": "stream",
     "text": [
      "episode : 746 reward : -23.029704234033403\n",
      "total test reward=-37.30042171031768\n"
     ]
    },
    {
     "name": "stderr",
     "output_type": "stream",
     "text": [
      "100%|█████████████████████████████████████████████████████████████████████████████| 2010/2010 [00:04<00:00, 492.29it/s]\n",
      "  2%|█▉                                                                             | 49/2010 [00:00<00:04, 486.45it/s]"
     ]
    },
    {
     "name": "stdout",
     "output_type": "stream",
     "text": [
      "episode : 747 reward : -33.83147655362049\n",
      "total test reward=-10.439173574731104\n"
     ]
    },
    {
     "name": "stderr",
     "output_type": "stream",
     "text": [
      "100%|█████████████████████████████████████████████████████████████████████████████| 2010/2010 [00:04<00:00, 487.78it/s]\n",
      "  3%|██                                                                             | 54/2010 [00:00<00:03, 536.08it/s]"
     ]
    },
    {
     "name": "stdout",
     "output_type": "stream",
     "text": [
      "episode : 748 reward : -50.79050472141347\n",
      "total test reward=-3.3253579375353524\n"
     ]
    },
    {
     "name": "stderr",
     "output_type": "stream",
     "text": [
      "100%|█████████████████████████████████████████████████████████████████████████████| 2010/2010 [00:04<00:00, 493.83it/s]\n",
      "  2%|█▉                                                                             | 50/2010 [00:00<00:03, 491.49it/s]"
     ]
    },
    {
     "name": "stdout",
     "output_type": "stream",
     "text": [
      "episode : 749 reward : -27.464132175183124\n",
      "total test reward=-18.904062823692747\n"
     ]
    },
    {
     "name": "stderr",
     "output_type": "stream",
     "text": [
      "100%|█████████████████████████████████████████████████████████████████████████████| 2010/2010 [00:04<00:00, 490.43it/s]\n",
      "  5%|████                                                                          | 106/2010 [00:00<00:03, 525.76it/s]"
     ]
    },
    {
     "name": "stdout",
     "output_type": "stream",
     "text": [
      "episode : 750 reward : -53.14014032738933\n",
      "total test reward=-61.23813328329614\n"
     ]
    },
    {
     "name": "stderr",
     "output_type": "stream",
     "text": [
      "100%|█████████████████████████████████████████████████████████████████████████████| 2010/2010 [00:04<00:00, 494.59it/s]\n",
      "  2%|█▌                                                                             | 41/2010 [00:00<00:04, 407.03it/s]"
     ]
    },
    {
     "name": "stdout",
     "output_type": "stream",
     "text": [
      "episode : 751 reward : -2.3065844982697854\n",
      "total test reward=-51.70484433042068\n"
     ]
    },
    {
     "name": "stderr",
     "output_type": "stream",
     "text": [
      "100%|█████████████████████████████████████████████████████████████████████████████| 2010/2010 [00:04<00:00, 470.24it/s]\n",
      "  1%|▊                                                                              | 21/2010 [00:00<00:10, 198.39it/s]"
     ]
    },
    {
     "name": "stdout",
     "output_type": "stream",
     "text": [
      "episode : 752 reward : 15.767629471038873\n",
      "total test reward=-51.438031132130426\n"
     ]
    },
    {
     "name": "stderr",
     "output_type": "stream",
     "text": [
      "100%|█████████████████████████████████████████████████████████████████████████████| 2010/2010 [00:04<00:00, 436.38it/s]\n",
      "  2%|█▊                                                                             | 45/2010 [00:00<00:04, 446.74it/s]"
     ]
    },
    {
     "name": "stdout",
     "output_type": "stream",
     "text": [
      "episode : 753 reward : -48.26511104424728\n",
      "total test reward=-48.55602339444042\n"
     ]
    },
    {
     "name": "stderr",
     "output_type": "stream",
     "text": [
      "100%|█████████████████████████████████████████████████████████████████████████████| 2010/2010 [00:04<00:00, 438.27it/s]\n",
      "  3%|██                                                                             | 52/2010 [00:00<00:03, 511.32it/s]"
     ]
    },
    {
     "name": "stdout",
     "output_type": "stream",
     "text": [
      "episode : 754 reward : -22.61496236723721\n",
      "total test reward=-58.74905402763291\n"
     ]
    },
    {
     "name": "stderr",
     "output_type": "stream",
     "text": [
      "100%|█████████████████████████████████████████████████████████████████████████████| 2010/2010 [00:04<00:00, 486.97it/s]\n",
      "  3%|██                                                                             | 53/2010 [00:00<00:03, 515.93it/s]"
     ]
    },
    {
     "name": "stdout",
     "output_type": "stream",
     "text": [
      "episode : 755 reward : -66.67129336945737\n",
      "total test reward=-40.67002994700242\n"
     ]
    },
    {
     "name": "stderr",
     "output_type": "stream",
     "text": [
      "100%|█████████████████████████████████████████████████████████████████████████████| 2010/2010 [00:04<00:00, 480.06it/s]\n",
      "  3%|██                                                                             | 52/2010 [00:00<00:03, 511.17it/s]"
     ]
    },
    {
     "name": "stdout",
     "output_type": "stream",
     "text": [
      "episode : 756 reward : -0.713888540460232\n",
      "total test reward=-40.173508066450005\n"
     ]
    },
    {
     "name": "stderr",
     "output_type": "stream",
     "text": [
      "100%|█████████████████████████████████████████████████████████████████████████████| 2010/2010 [00:04<00:00, 463.72it/s]\n",
      "  3%|██                                                                             | 53/2010 [00:00<00:03, 521.17it/s]"
     ]
    },
    {
     "name": "stdout",
     "output_type": "stream",
     "text": [
      "episode : 757 reward : -6.550336674639112\n",
      "total test reward=-49.75572036772514\n"
     ]
    },
    {
     "name": "stderr",
     "output_type": "stream",
     "text": [
      "100%|█████████████████████████████████████████████████████████████████████████████| 2010/2010 [00:04<00:00, 475.90it/s]\n",
      "  2%|█▊                                                                             | 46/2010 [00:00<00:04, 452.19it/s]"
     ]
    },
    {
     "name": "stdout",
     "output_type": "stream",
     "text": [
      "episode : 758 reward : -52.094334733608065\n",
      "total test reward=-43.41783754447945\n"
     ]
    },
    {
     "name": "stderr",
     "output_type": "stream",
     "text": [
      "100%|█████████████████████████████████████████████████████████████████████████████| 2010/2010 [00:04<00:00, 434.71it/s]\n",
      "  1%|█▏                                                                             | 30/2010 [00:00<00:06, 297.82it/s]"
     ]
    },
    {
     "name": "stdout",
     "output_type": "stream",
     "text": [
      "episode : 759 reward : -58.84412675709041\n",
      "total test reward=-69.19391559466358\n"
     ]
    },
    {
     "name": "stderr",
     "output_type": "stream",
     "text": [
      "100%|█████████████████████████████████████████████████████████████████████████████| 2010/2010 [00:04<00:00, 442.57it/s]\n",
      "  5%|███▌                                                                           | 91/2010 [00:00<00:04, 450.54it/s]"
     ]
    },
    {
     "name": "stdout",
     "output_type": "stream",
     "text": [
      "episode : 760 reward : -51.200826124116986\n",
      "total test reward=-0.6019628804760799\n"
     ]
    },
    {
     "name": "stderr",
     "output_type": "stream",
     "text": [
      "100%|█████████████████████████████████████████████████████████████████████████████| 2010/2010 [00:04<00:00, 462.72it/s]\n",
      "  2%|█▊                                                                             | 47/2010 [00:00<00:04, 466.60it/s]"
     ]
    },
    {
     "name": "stdout",
     "output_type": "stream",
     "text": [
      "episode : 761 reward : -3.4792624017798914\n",
      "total test reward=-50.600757465460546\n"
     ]
    },
    {
     "name": "stderr",
     "output_type": "stream",
     "text": [
      "100%|█████████████████████████████████████████████████████████████████████████████| 2010/2010 [00:04<00:00, 407.01it/s]\n",
      "  2%|█▌                                                                             | 41/2010 [00:00<00:04, 402.25it/s]"
     ]
    },
    {
     "name": "stdout",
     "output_type": "stream",
     "text": [
      "episode : 762 reward : -29.420418332157226\n",
      "total test reward=-29.765137825460393\n"
     ]
    },
    {
     "name": "stderr",
     "output_type": "stream",
     "text": [
      "100%|█████████████████████████████████████████████████████████████████████████████| 2010/2010 [00:04<00:00, 483.99it/s]\n",
      "  3%|██▏                                                                            | 55/2010 [00:00<00:03, 540.65it/s]"
     ]
    },
    {
     "name": "stdout",
     "output_type": "stream",
     "text": [
      "episode : 763 reward : -40.265784921486556\n",
      "total test reward=-29.08897369462627\n"
     ]
    },
    {
     "name": "stderr",
     "output_type": "stream",
     "text": [
      "100%|█████████████████████████████████████████████████████████████████████████████| 2010/2010 [00:04<00:00, 440.30it/s]\n",
      "  2%|█▌                                                                             | 41/2010 [00:00<00:04, 403.04it/s]"
     ]
    },
    {
     "name": "stdout",
     "output_type": "stream",
     "text": [
      "episode : 764 reward : -34.91899511793491\n",
      "total test reward=-46.54321302232702\n"
     ]
    },
    {
     "name": "stderr",
     "output_type": "stream",
     "text": [
      "100%|█████████████████████████████████████████████████████████████████████████████| 2010/2010 [00:04<00:00, 468.51it/s]\n",
      "  2%|█▊                                                                             | 45/2010 [00:00<00:04, 442.26it/s]"
     ]
    },
    {
     "name": "stdout",
     "output_type": "stream",
     "text": [
      "episode : 765 reward : 71.07151998919738\n",
      "total test reward=-11.956301755001073\n"
     ]
    },
    {
     "name": "stderr",
     "output_type": "stream",
     "text": [
      "100%|█████████████████████████████████████████████████████████████████████████████| 2010/2010 [00:04<00:00, 451.24it/s]\n",
      "  2%|█▉                                                                             | 50/2010 [00:00<00:03, 491.51it/s]"
     ]
    },
    {
     "name": "stdout",
     "output_type": "stream",
     "text": [
      "episode : 766 reward : -23.428288414601326\n",
      "total test reward=-54.90286644718253\n"
     ]
    },
    {
     "name": "stderr",
     "output_type": "stream",
     "text": [
      "100%|█████████████████████████████████████████████████████████████████████████████| 2010/2010 [00:04<00:00, 450.63it/s]\n",
      "  2%|█▉                                                                             | 50/2010 [00:00<00:03, 491.50it/s]"
     ]
    },
    {
     "name": "stdout",
     "output_type": "stream",
     "text": [
      "episode : 767 reward : -76.89172377945005\n",
      "total test reward=-32.33293667680879\n"
     ]
    },
    {
     "name": "stderr",
     "output_type": "stream",
     "text": [
      "100%|█████████████████████████████████████████████████████████████████████████████| 2010/2010 [00:04<00:00, 464.37it/s]\n",
      "  2%|█▉                                                                             | 50/2010 [00:00<00:03, 491.51it/s]"
     ]
    },
    {
     "name": "stdout",
     "output_type": "stream",
     "text": [
      "episode : 768 reward : -11.111412920841445\n",
      "total test reward=-40.67484257832363\n"
     ]
    },
    {
     "name": "stderr",
     "output_type": "stream",
     "text": [
      "100%|█████████████████████████████████████████████████████████████████████████████| 2010/2010 [00:04<00:00, 449.37it/s]\n",
      "  2%|█▉                                                                             | 48/2010 [00:00<00:04, 478.13it/s]"
     ]
    },
    {
     "name": "stdout",
     "output_type": "stream",
     "text": [
      "episode : 769 reward : -54.22557512521985\n",
      "total test reward=-24.84873654360341\n"
     ]
    },
    {
     "name": "stderr",
     "output_type": "stream",
     "text": [
      "100%|█████████████████████████████████████████████████████████████████████████████| 2010/2010 [00:04<00:00, 456.53it/s]\n",
      "  3%|██                                                                             | 53/2010 [00:00<00:03, 521.16it/s]"
     ]
    },
    {
     "name": "stdout",
     "output_type": "stream",
     "text": [
      "episode : 770 reward : -34.56814772737687\n",
      "total test reward=-75.8580791033753\n"
     ]
    },
    {
     "name": "stderr",
     "output_type": "stream",
     "text": [
      "100%|█████████████████████████████████████████████████████████████████████████████| 2010/2010 [00:04<00:00, 458.52it/s]\n",
      "  2%|█▌                                                                             | 40/2010 [00:00<00:05, 393.10it/s]"
     ]
    },
    {
     "name": "stdout",
     "output_type": "stream",
     "text": [
      "episode : 771 reward : -53.28360493574516\n",
      "total test reward=-16.621314135162397\n"
     ]
    },
    {
     "name": "stderr",
     "output_type": "stream",
     "text": [
      "100%|█████████████████████████████████████████████████████████████████████████████| 2010/2010 [00:04<00:00, 450.73it/s]\n",
      "  3%|██                                                                             | 54/2010 [00:00<00:03, 530.78it/s]"
     ]
    },
    {
     "name": "stdout",
     "output_type": "stream",
     "text": [
      "episode : 772 reward : -37.38602807460532\n",
      "total test reward=-49.442696766045074\n"
     ]
    },
    {
     "name": "stderr",
     "output_type": "stream",
     "text": [
      "100%|█████████████████████████████████████████████████████████████████████████████| 2010/2010 [00:04<00:00, 461.94it/s]\n",
      "  2%|█▊                                                                             | 46/2010 [00:00<00:04, 447.80it/s]"
     ]
    },
    {
     "name": "stdout",
     "output_type": "stream",
     "text": [
      "episode : 773 reward : -33.295833469630765\n",
      "total test reward=-35.364454710972794\n"
     ]
    },
    {
     "name": "stderr",
     "output_type": "stream",
     "text": [
      "100%|█████████████████████████████████████████████████████████████████████████████| 2010/2010 [00:04<00:00, 460.95it/s]\n",
      "  2%|█▊                                                                             | 45/2010 [00:00<00:04, 446.74it/s]"
     ]
    },
    {
     "name": "stdout",
     "output_type": "stream",
     "text": [
      "episode : 774 reward : -34.11637339440844\n",
      "total test reward=8.443072455766089\n"
     ]
    },
    {
     "name": "stderr",
     "output_type": "stream",
     "text": [
      "100%|█████████████████████████████████████████████████████████████████████████████| 2010/2010 [00:04<00:00, 457.25it/s]\n",
      "  2%|█▊                                                                             | 46/2010 [00:00<00:04, 456.63it/s]"
     ]
    },
    {
     "name": "stdout",
     "output_type": "stream",
     "text": [
      "episode : 775 reward : -26.266875590495573\n",
      "total test reward=-53.274459110478595\n"
     ]
    },
    {
     "name": "stderr",
     "output_type": "stream",
     "text": [
      "100%|█████████████████████████████████████████████████████████████████████████████| 2010/2010 [00:04<00:00, 438.87it/s]\n",
      "  2%|█▊                                                                             | 45/2010 [00:00<00:04, 442.36it/s]"
     ]
    },
    {
     "name": "stdout",
     "output_type": "stream",
     "text": [
      "episode : 776 reward : -79.73330276793254\n",
      "total test reward=-62.30470226682384\n"
     ]
    },
    {
     "name": "stderr",
     "output_type": "stream",
     "text": [
      "100%|█████████████████████████████████████████████████████████████████████████████| 2010/2010 [00:04<00:00, 469.78it/s]\n",
      "  2%|█▊                                                                             | 46/2010 [00:00<00:04, 456.13it/s]"
     ]
    },
    {
     "name": "stdout",
     "output_type": "stream",
     "text": [
      "episode : 777 reward : -38.65794179832781\n",
      "total test reward=-21.15327492912062\n"
     ]
    },
    {
     "name": "stderr",
     "output_type": "stream",
     "text": [
      "100%|█████████████████████████████████████████████████████████████████████████████| 2010/2010 [00:04<00:00, 473.85it/s]\n",
      "  2%|█▊                                                                             | 47/2010 [00:00<00:04, 463.98it/s]"
     ]
    },
    {
     "name": "stdout",
     "output_type": "stream",
     "text": [
      "episode : 778 reward : -29.93791952369986\n",
      "total test reward=-28.753172275022813\n"
     ]
    },
    {
     "name": "stderr",
     "output_type": "stream",
     "text": [
      "100%|█████████████████████████████████████████████████████████████████████████████| 2010/2010 [00:04<00:00, 485.45it/s]\n",
      "  2%|█▉                                                                             | 49/2010 [00:00<00:04, 481.68it/s]"
     ]
    },
    {
     "name": "stdout",
     "output_type": "stream",
     "text": [
      "episode : 779 reward : -23.16823003355492\n",
      "total test reward=-58.29223368391545\n"
     ]
    },
    {
     "name": "stderr",
     "output_type": "stream",
     "text": [
      "100%|█████████████████████████████████████████████████████████████████████████████| 2010/2010 [00:04<00:00, 454.32it/s]\n",
      "  3%|██                                                                             | 51/2010 [00:00<00:03, 503.15it/s]"
     ]
    },
    {
     "name": "stdout",
     "output_type": "stream",
     "text": [
      "episode : 780 reward : -60.95616654866882\n",
      "total test reward=-54.263268218870735\n"
     ]
    },
    {
     "name": "stderr",
     "output_type": "stream",
     "text": [
      "100%|█████████████████████████████████████████████████████████████████████████████| 2010/2010 [00:04<00:00, 449.42it/s]\n",
      "  5%|███▉                                                                          | 102/2010 [00:00<00:03, 505.35it/s]"
     ]
    },
    {
     "name": "stdout",
     "output_type": "stream",
     "text": [
      "episode : 781 reward : -32.82035358365039\n",
      "total test reward=-40.857646981831834\n"
     ]
    },
    {
     "name": "stderr",
     "output_type": "stream",
     "text": [
      "100%|█████████████████████████████████████████████████████████████████████████████| 2010/2010 [00:04<00:00, 450.41it/s]\n",
      "  2%|█▌                                                                             | 41/2010 [00:00<00:04, 407.03it/s]"
     ]
    },
    {
     "name": "stdout",
     "output_type": "stream",
     "text": [
      "episode : 782 reward : -71.39478488795407\n",
      "total test reward=-40.15667506937454\n"
     ]
    },
    {
     "name": "stderr",
     "output_type": "stream",
     "text": [
      "100%|█████████████████████████████████████████████████████████████████████████████| 2010/2010 [00:04<00:00, 445.05it/s]\n",
      "  2%|█▉                                                                             | 49/2010 [00:00<00:04, 486.45it/s]"
     ]
    },
    {
     "name": "stdout",
     "output_type": "stream",
     "text": [
      "episode : 783 reward : -18.689548432015812\n",
      "total test reward=0.30197051245859824\n"
     ]
    },
    {
     "name": "stderr",
     "output_type": "stream",
     "text": [
      "100%|█████████████████████████████████████████████████████████████████████████████| 2010/2010 [00:04<00:00, 466.75it/s]\n",
      "  2%|█▊                                                                             | 46/2010 [00:00<00:04, 452.19it/s]"
     ]
    },
    {
     "name": "stdout",
     "output_type": "stream",
     "text": [
      "episode : 784 reward : -80.57275748253588\n",
      "total test reward=-29.88013574890894\n"
     ]
    },
    {
     "name": "stderr",
     "output_type": "stream",
     "text": [
      "100%|█████████████████████████████████████████████████████████████████████████████| 2010/2010 [00:04<00:00, 457.62it/s]\n",
      "  2%|█▊                                                                             | 46/2010 [00:00<00:04, 458.41it/s]"
     ]
    },
    {
     "name": "stdout",
     "output_type": "stream",
     "text": [
      "episode : 785 reward : -60.86541414976401\n",
      "total test reward=-43.26651335381881\n"
     ]
    },
    {
     "name": "stderr",
     "output_type": "stream",
     "text": [
      "100%|█████████████████████████████████████████████████████████████████████████████| 2010/2010 [00:04<00:00, 429.05it/s]\n",
      "  2%|█▋                                                                             | 43/2010 [00:00<00:04, 418.60it/s]"
     ]
    },
    {
     "name": "stdout",
     "output_type": "stream",
     "text": [
      "episode : 786 reward : -64.57246235009197\n",
      "total test reward=-27.740159217527196\n"
     ]
    },
    {
     "name": "stderr",
     "output_type": "stream",
     "text": [
      "100%|█████████████████████████████████████████████████████████████████████████████| 2010/2010 [00:04<00:00, 457.83it/s]\n",
      "  2%|█▊                                                                             | 47/2010 [00:00<00:04, 462.01it/s]"
     ]
    },
    {
     "name": "stdout",
     "output_type": "stream",
     "text": [
      "episode : 787 reward : -41.25734965251527\n",
      "total test reward=-39.31357752839999\n"
     ]
    },
    {
     "name": "stderr",
     "output_type": "stream",
     "text": [
      "100%|█████████████████████████████████████████████████████████████████████████████| 2010/2010 [00:04<00:00, 460.91it/s]\n",
      "  2%|█▉                                                                             | 48/2010 [00:00<00:04, 476.52it/s]"
     ]
    },
    {
     "name": "stdout",
     "output_type": "stream",
     "text": [
      "episode : 788 reward : 89.00288472721752\n",
      "total test reward=-46.70172697500564\n"
     ]
    },
    {
     "name": "stderr",
     "output_type": "stream",
     "text": [
      "100%|█████████████████████████████████████████████████████████████████████████████| 2010/2010 [00:04<00:00, 446.06it/s]\n",
      "  2%|█▊                                                                             | 46/2010 [00:00<00:04, 452.19it/s]"
     ]
    },
    {
     "name": "stdout",
     "output_type": "stream",
     "text": [
      "episode : 789 reward : 13.035944368189178\n",
      "total test reward=-120.77980827140068\n"
     ]
    },
    {
     "name": "stderr",
     "output_type": "stream",
     "text": [
      "100%|█████████████████████████████████████████████████████████████████████████████| 2010/2010 [00:04<00:00, 461.54it/s]\n",
      "  3%|██                                                                             | 53/2010 [00:00<00:03, 526.16it/s]"
     ]
    },
    {
     "name": "stdout",
     "output_type": "stream",
     "text": [
      "episode : 790 reward : -3.454296849444347\n",
      "total test reward=-37.8986847962958\n"
     ]
    },
    {
     "name": "stderr",
     "output_type": "stream",
     "text": [
      "100%|█████████████████████████████████████████████████████████████████████████████| 2010/2010 [00:04<00:00, 473.03it/s]\n",
      "  2%|█▉                                                                             | 50/2010 [00:00<00:03, 496.37it/s]"
     ]
    },
    {
     "name": "stdout",
     "output_type": "stream",
     "text": [
      "episode : 791 reward : -46.73779245317786\n",
      "total test reward=-2.2228591405600016\n"
     ]
    },
    {
     "name": "stderr",
     "output_type": "stream",
     "text": [
      "100%|█████████████████████████████████████████████████████████████████████████████| 2010/2010 [00:04<00:00, 472.88it/s]\n",
      "  3%|██                                                                             | 52/2010 [00:00<00:03, 516.23it/s]"
     ]
    },
    {
     "name": "stdout",
     "output_type": "stream",
     "text": [
      "episode : 792 reward : -22.905437903112215\n",
      "total test reward=-49.3509703446249\n"
     ]
    },
    {
     "name": "stderr",
     "output_type": "stream",
     "text": [
      "100%|█████████████████████████████████████████████████████████████████████████████| 2010/2010 [00:04<00:00, 493.41it/s]\n",
      "  3%|██                                                                             | 52/2010 [00:00<00:03, 511.17it/s]"
     ]
    },
    {
     "name": "stdout",
     "output_type": "stream",
     "text": [
      "episode : 793 reward : -28.164077814416203\n",
      "total test reward=-32.658170683697065\n"
     ]
    },
    {
     "name": "stderr",
     "output_type": "stream",
     "text": [
      "100%|█████████████████████████████████████████████████████████████████████████████| 2010/2010 [00:04<00:00, 493.02it/s]\n",
      "  3%|██▏                                                                            | 55/2010 [00:00<00:03, 549.58it/s]"
     ]
    },
    {
     "name": "stdout",
     "output_type": "stream",
     "text": [
      "episode : 794 reward : -87.41143843615345\n",
      "total test reward=-43.863025898465224\n"
     ]
    },
    {
     "name": "stderr",
     "output_type": "stream",
     "text": [
      "100%|█████████████████████████████████████████████████████████████████████████████| 2010/2010 [00:04<00:00, 487.28it/s]\n",
      "  2%|█▋                                                                             | 43/2010 [00:00<00:04, 428.91it/s]"
     ]
    },
    {
     "name": "stdout",
     "output_type": "stream",
     "text": [
      "episode : 795 reward : -34.627541463717336\n",
      "total test reward=-46.04982786120893\n"
     ]
    },
    {
     "name": "stderr",
     "output_type": "stream",
     "text": [
      "100%|█████████████████████████████████████████████████████████████████████████████| 2010/2010 [00:04<00:00, 474.38it/s]\n",
      "  2%|█▉                                                                             | 49/2010 [00:00<00:04, 481.68it/s]"
     ]
    },
    {
     "name": "stdout",
     "output_type": "stream",
     "text": [
      "episode : 796 reward : -59.102390202150445\n",
      "total test reward=-37.13959280386056\n"
     ]
    },
    {
     "name": "stderr",
     "output_type": "stream",
     "text": [
      "100%|█████████████████████████████████████████████████████████████████████████████| 2010/2010 [00:04<00:00, 421.68it/s]\n",
      "  2%|█▊                                                                             | 47/2010 [00:00<00:04, 467.34it/s]"
     ]
    },
    {
     "name": "stdout",
     "output_type": "stream",
     "text": [
      "episode : 797 reward : -24.20393236071851\n",
      "total test reward=-21.173419667713198\n"
     ]
    },
    {
     "name": "stderr",
     "output_type": "stream",
     "text": [
      "100%|█████████████████████████████████████████████████████████████████████████████| 2010/2010 [00:04<00:00, 440.70it/s]\n",
      "  3%|██                                                                             | 54/2010 [00:00<00:03, 530.83it/s]"
     ]
    },
    {
     "name": "stdout",
     "output_type": "stream",
     "text": [
      "episode : 798 reward : -16.619413672596494\n",
      "total test reward=-5.023184912288642\n"
     ]
    },
    {
     "name": "stderr",
     "output_type": "stream",
     "text": [
      "100%|█████████████████████████████████████████████████████████████████████████████| 2010/2010 [00:04<00:00, 425.30it/s]\n",
      "  3%|██▏                                                                            | 55/2010 [00:00<00:03, 546.01it/s]"
     ]
    },
    {
     "name": "stdout",
     "output_type": "stream",
     "text": [
      "episode : 799 reward : -45.64988241632025\n",
      "total test reward=-39.936073963751184\n"
     ]
    },
    {
     "name": "stderr",
     "output_type": "stream",
     "text": [
      "100%|█████████████████████████████████████████████████████████████████████████████| 2010/2010 [00:04<00:00, 488.71it/s]\n",
      "  2%|█▊                                                                             | 45/2010 [00:00<00:04, 446.75it/s]"
     ]
    },
    {
     "name": "stdout",
     "output_type": "stream",
     "text": [
      "episode : 800 reward : 103.69928613698829\n",
      "total test reward=-4.847559358073539\n"
     ]
    },
    {
     "name": "stderr",
     "output_type": "stream",
     "text": [
      "100%|█████████████████████████████████████████████████████████████████████████████| 2010/2010 [00:03<00:00, 504.32it/s]\n",
      "  6%|████▍                                                                         | 113/2010 [00:00<00:03, 562.61it/s]"
     ]
    },
    {
     "name": "stdout",
     "output_type": "stream",
     "text": [
      "episode : 801 reward : 9.872420169874317\n",
      "total test reward=-19.028393749316244\n"
     ]
    },
    {
     "name": "stderr",
     "output_type": "stream",
     "text": [
      "100%|█████████████████████████████████████████████████████████████████████████████| 2010/2010 [00:03<00:00, 523.44it/s]\n",
      "  3%|██▎                                                                            | 60/2010 [00:00<00:03, 589.61it/s]"
     ]
    },
    {
     "name": "stdout",
     "output_type": "stream",
     "text": [
      "episode : 802 reward : -33.50850581154293\n",
      "total test reward=-17.60591950481301\n"
     ]
    },
    {
     "name": "stderr",
     "output_type": "stream",
     "text": [
      "100%|█████████████████████████████████████████████████████████████████████████████| 2010/2010 [00:04<00:00, 479.96it/s]\n",
      "  2%|█▊                                                                             | 47/2010 [00:00<00:04, 466.60it/s]"
     ]
    },
    {
     "name": "stdout",
     "output_type": "stream",
     "text": [
      "episode : 803 reward : -52.621673446405595\n",
      "total test reward=-40.030683504560834\n"
     ]
    },
    {
     "name": "stderr",
     "output_type": "stream",
     "text": [
      "100%|█████████████████████████████████████████████████████████████████████████████| 2010/2010 [00:04<00:00, 446.47it/s]\n",
      "  3%|██                                                                             | 51/2010 [00:00<00:03, 506.30it/s]"
     ]
    },
    {
     "name": "stdout",
     "output_type": "stream",
     "text": [
      "episode : 804 reward : -50.220370723893495\n",
      "total test reward=-48.98417236721618\n"
     ]
    },
    {
     "name": "stderr",
     "output_type": "stream",
     "text": [
      "100%|█████████████████████████████████████████████████████████████████████████████| 2010/2010 [00:03<00:00, 517.96it/s]\n",
      "  5%|████▏                                                                         | 109/2010 [00:00<00:03, 539.15it/s]"
     ]
    },
    {
     "name": "stdout",
     "output_type": "stream",
     "text": [
      "episode : 805 reward : -54.68278332691855\n",
      "total test reward=-38.188863184019546\n"
     ]
    },
    {
     "name": "stderr",
     "output_type": "stream",
     "text": [
      "100%|█████████████████████████████████████████████████████████████████████████████| 2010/2010 [00:03<00:00, 546.17it/s]\n",
      "  5%|████▎                                                                         | 110/2010 [00:00<00:03, 546.21it/s]"
     ]
    },
    {
     "name": "stdout",
     "output_type": "stream",
     "text": [
      "episode : 806 reward : -22.295223014589\n",
      "total test reward=-23.556255413366785\n"
     ]
    },
    {
     "name": "stderr",
     "output_type": "stream",
     "text": [
      "100%|█████████████████████████████████████████████████████████████████████████████| 2010/2010 [00:03<00:00, 557.66it/s]\n",
      "  3%|██                                                                             | 53/2010 [00:00<00:03, 520.83it/s]"
     ]
    },
    {
     "name": "stdout",
     "output_type": "stream",
     "text": [
      "episode : 807 reward : -10.020943237728886\n",
      "total test reward=-8.571390686847678\n"
     ]
    },
    {
     "name": "stderr",
     "output_type": "stream",
     "text": [
      "100%|█████████████████████████████████████████████████████████████████████████████| 2010/2010 [00:03<00:00, 546.17it/s]\n",
      "  3%|██▏                                                                            | 55/2010 [00:00<00:03, 546.01it/s]"
     ]
    },
    {
     "name": "stdout",
     "output_type": "stream",
     "text": [
      "episode : 808 reward : -6.428624581974219\n",
      "total test reward=-34.322939560297755\n"
     ]
    },
    {
     "name": "stderr",
     "output_type": "stream",
     "text": [
      "100%|█████████████████████████████████████████████████████████████████████████████| 2010/2010 [00:03<00:00, 540.31it/s]\n",
      "  3%|██                                                                             | 52/2010 [00:00<00:03, 516.06it/s]"
     ]
    },
    {
     "name": "stdout",
     "output_type": "stream",
     "text": [
      "episode : 809 reward : -32.10558788486122\n",
      "total test reward=-21.839474963298443\n"
     ]
    },
    {
     "name": "stderr",
     "output_type": "stream",
     "text": [
      "100%|█████████████████████████████████████████████████████████████████████████████| 2010/2010 [00:03<00:00, 549.44it/s]\n",
      "  2%|█▌                                                                             | 41/2010 [00:00<00:04, 395.29it/s]"
     ]
    },
    {
     "name": "stdout",
     "output_type": "stream",
     "text": [
      "episode : 810 reward : -82.43788217687893\n",
      "total test reward=9.305204067934165\n"
     ]
    },
    {
     "name": "stderr",
     "output_type": "stream",
     "text": [
      "100%|█████████████████████████████████████████████████████████████████████████████| 2010/2010 [00:03<00:00, 509.06it/s]\n",
      "  3%|██▎                                                                            | 58/2010 [00:00<00:03, 564.61it/s]"
     ]
    },
    {
     "name": "stdout",
     "output_type": "stream",
     "text": [
      "episode : 811 reward : -72.12128350548807\n",
      "total test reward=-51.5132886266696\n"
     ]
    },
    {
     "name": "stderr",
     "output_type": "stream",
     "text": [
      "100%|█████████████████████████████████████████████████████████████████████████████| 2010/2010 [00:03<00:00, 538.01it/s]\n",
      "  2%|█▌                                                                             | 40/2010 [00:00<00:05, 393.12it/s]"
     ]
    },
    {
     "name": "stdout",
     "output_type": "stream",
     "text": [
      "episode : 812 reward : -18.292329135632542\n",
      "total test reward=-5.9957424308442\n"
     ]
    },
    {
     "name": "stderr",
     "output_type": "stream",
     "text": [
      "100%|█████████████████████████████████████████████████████████████████████████████| 2010/2010 [00:04<00:00, 491.80it/s]\n",
      "  6%|████▍                                                                         | 115/2010 [00:00<00:03, 568.80it/s]"
     ]
    },
    {
     "name": "stdout",
     "output_type": "stream",
     "text": [
      "episode : 813 reward : -15.182303643214794\n",
      "total test reward=-1.3931889068633836\n"
     ]
    },
    {
     "name": "stderr",
     "output_type": "stream",
     "text": [
      "100%|█████████████████████████████████████████████████████████████████████████████| 2010/2010 [00:03<00:00, 525.11it/s]\n",
      "  2%|█▌                                                                             | 39/2010 [00:00<00:05, 383.36it/s]"
     ]
    },
    {
     "name": "stdout",
     "output_type": "stream",
     "text": [
      "episode : 814 reward : -210.94892552559514\n",
      "total test reward=-24.161234257367205\n"
     ]
    },
    {
     "name": "stderr",
     "output_type": "stream",
     "text": [
      "100%|█████████████████████████████████████████████████████████████████████████████| 2010/2010 [00:04<00:00, 423.49it/s]\n",
      "  2%|█▉                                                                             | 48/2010 [00:00<00:04, 476.38it/s]"
     ]
    },
    {
     "name": "stdout",
     "output_type": "stream",
     "text": [
      "episode : 815 reward : -42.72351467326945\n",
      "total test reward=-68.75599204218864\n"
     ]
    },
    {
     "name": "stderr",
     "output_type": "stream",
     "text": [
      "100%|█████████████████████████████████████████████████████████████████████████████| 2010/2010 [00:03<00:00, 532.18it/s]\n",
      "  6%|████▎                                                                         | 111/2010 [00:00<00:03, 552.77it/s]"
     ]
    },
    {
     "name": "stdout",
     "output_type": "stream",
     "text": [
      "episode : 816 reward : -34.5730695290718\n",
      "total test reward=-18.0126782823451\n"
     ]
    },
    {
     "name": "stderr",
     "output_type": "stream",
     "text": [
      "100%|█████████████████████████████████████████████████████████████████████████████| 2010/2010 [00:03<00:00, 508.93it/s]\n",
      "  3%|██▎                                                                            | 58/2010 [00:00<00:03, 575.80it/s]"
     ]
    },
    {
     "name": "stdout",
     "output_type": "stream",
     "text": [
      "episode : 817 reward : -60.28567040579037\n",
      "total test reward=-22.256426028328566\n"
     ]
    },
    {
     "name": "stderr",
     "output_type": "stream",
     "text": [
      "100%|█████████████████████████████████████████████████████████████████████████████| 2010/2010 [00:03<00:00, 527.45it/s]\n",
      "  2%|█▌                                                                             | 39/2010 [00:00<00:05, 387.18it/s]"
     ]
    },
    {
     "name": "stdout",
     "output_type": "stream",
     "text": [
      "episode : 818 reward : -44.10898635010864\n",
      "total test reward=-80.68837497699023\n"
     ]
    },
    {
     "name": "stderr",
     "output_type": "stream",
     "text": [
      "100%|█████████████████████████████████████████████████████████████████████████████| 2010/2010 [00:04<00:00, 462.77it/s]\n",
      "  6%|████▎                                                                         | 112/2010 [00:00<00:03, 559.76it/s]"
     ]
    },
    {
     "name": "stdout",
     "output_type": "stream",
     "text": [
      "episode : 819 reward : -25.773309769115173\n",
      "total test reward=-41.21763896653846\n"
     ]
    },
    {
     "name": "stderr",
     "output_type": "stream",
     "text": [
      "100%|█████████████████████████████████████████████████████████████████████████████| 2010/2010 [00:03<00:00, 532.89it/s]\n",
      "  5%|████                                                                          | 106/2010 [00:00<00:03, 526.04it/s]"
     ]
    },
    {
     "name": "stdout",
     "output_type": "stream",
     "text": [
      "episode : 820 reward : -45.537235550241235\n",
      "total test reward=35.55312060641714\n"
     ]
    },
    {
     "name": "stderr",
     "output_type": "stream",
     "text": [
      "100%|█████████████████████████████████████████████████████████████████████████████| 2010/2010 [00:03<00:00, 555.20it/s]\n",
      "  6%|████▋                                                                         | 120/2010 [00:00<00:03, 599.48it/s]"
     ]
    },
    {
     "name": "stdout",
     "output_type": "stream",
     "text": [
      "episode : 821 reward : -27.74897543906434\n",
      "total test reward=-28.889283727005495\n"
     ]
    },
    {
     "name": "stderr",
     "output_type": "stream",
     "text": [
      "100%|█████████████████████████████████████████████████████████████████████████████| 2010/2010 [00:03<00:00, 525.11it/s]\n",
      "  3%|██▏                                                                            | 56/2010 [00:00<00:03, 555.93it/s]"
     ]
    },
    {
     "name": "stdout",
     "output_type": "stream",
     "text": [
      "episode : 822 reward : -5.304822064337941\n",
      "total test reward=-45.23481385360397\n"
     ]
    },
    {
     "name": "stderr",
     "output_type": "stream",
     "text": [
      "100%|█████████████████████████████████████████████████████████████████████████████| 2010/2010 [00:03<00:00, 528.28it/s]\n",
      "  3%|██▎                                                                            | 58/2010 [00:00<00:03, 575.97it/s]"
     ]
    },
    {
     "name": "stdout",
     "output_type": "stream",
     "text": [
      "episode : 823 reward : -29.901643785772592\n",
      "total test reward=-41.82619588487048\n"
     ]
    },
    {
     "name": "stderr",
     "output_type": "stream",
     "text": [
      "100%|█████████████████████████████████████████████████████████████████████████████| 2010/2010 [00:04<00:00, 502.34it/s]\n",
      "  6%|████▌                                                                         | 116/2010 [00:00<00:03, 586.39it/s]"
     ]
    },
    {
     "name": "stdout",
     "output_type": "stream",
     "text": [
      "episode : 824 reward : -34.00905578353266\n",
      "total test reward=-41.12932862991589\n"
     ]
    },
    {
     "name": "stderr",
     "output_type": "stream",
     "text": [
      "100%|█████████████████████████████████████████████████████████████████████████████| 2010/2010 [00:03<00:00, 545.87it/s]\n",
      "  3%|██                                                                             | 52/2010 [00:00<00:03, 511.01it/s]"
     ]
    },
    {
     "name": "stdout",
     "output_type": "stream",
     "text": [
      "episode : 825 reward : -52.38695884886994\n",
      "total test reward=-11.815956878137012\n"
     ]
    },
    {
     "name": "stderr",
     "output_type": "stream",
     "text": [
      "100%|█████████████████████████████████████████████████████████████████████████████| 2010/2010 [00:03<00:00, 550.95it/s]\n",
      "  3%|██▎                                                                            | 58/2010 [00:00<00:03, 575.62it/s]"
     ]
    },
    {
     "name": "stdout",
     "output_type": "stream",
     "text": [
      "episode : 826 reward : -197.4192536072172\n",
      "total test reward=-43.8175567271517\n"
     ]
    },
    {
     "name": "stderr",
     "output_type": "stream",
     "text": [
      "100%|█████████████████████████████████████████████████████████████████████████████| 2010/2010 [00:03<00:00, 526.07it/s]\n",
      "  3%|██▎                                                                            | 58/2010 [00:00<00:03, 575.61it/s]"
     ]
    },
    {
     "name": "stdout",
     "output_type": "stream",
     "text": [
      "episode : 827 reward : -66.58519944035817\n",
      "total test reward=-34.34045538855415\n"
     ]
    },
    {
     "name": "stderr",
     "output_type": "stream",
     "text": [
      "100%|█████████████████████████████████████████████████████████████████████████████| 2010/2010 [00:03<00:00, 527.31it/s]\n",
      "  3%|██▍                                                                            | 61/2010 [00:00<00:03, 599.64it/s]"
     ]
    },
    {
     "name": "stdout",
     "output_type": "stream",
     "text": [
      "episode : 828 reward : -21.569482382138943\n",
      "total test reward=-101.1013191428177\n"
     ]
    },
    {
     "name": "stderr",
     "output_type": "stream",
     "text": [
      "100%|█████████████████████████████████████████████████████████████████████████████| 2010/2010 [00:03<00:00, 549.14it/s]\n",
      "  5%|███▊                                                                           | 96/2010 [00:00<00:03, 489.65it/s]"
     ]
    },
    {
     "name": "stdout",
     "output_type": "stream",
     "text": [
      "episode : 829 reward : -30.18962596397415\n",
      "total test reward=-32.95619951136577\n"
     ]
    },
    {
     "name": "stderr",
     "output_type": "stream",
     "text": [
      "100%|█████████████████████████████████████████████████████████████████████████████| 2010/2010 [00:04<00:00, 496.40it/s]\n",
      "  3%|██▍                                                                            | 61/2010 [00:00<00:03, 605.58it/s]"
     ]
    },
    {
     "name": "stdout",
     "output_type": "stream",
     "text": [
      "episode : 830 reward : -46.754554433346726\n",
      "total test reward=-36.219363694300505\n"
     ]
    },
    {
     "name": "stderr",
     "output_type": "stream",
     "text": [
      "100%|█████████████████████████████████████████████████████████████████████████████| 2010/2010 [00:03<00:00, 564.85it/s]\n",
      "  6%|████▋                                                                         | 121/2010 [00:00<00:03, 594.35it/s]"
     ]
    },
    {
     "name": "stdout",
     "output_type": "stream",
     "text": [
      "episode : 831 reward : -25.405672031686663\n",
      "total test reward=1.3136654753824075\n"
     ]
    },
    {
     "name": "stderr",
     "output_type": "stream",
     "text": [
      "100%|█████████████████████████████████████████████████████████████████████████████| 2010/2010 [00:04<00:00, 479.85it/s]\n",
      "  3%|██▎                                                                            | 59/2010 [00:00<00:03, 579.98it/s]"
     ]
    },
    {
     "name": "stdout",
     "output_type": "stream",
     "text": [
      "episode : 832 reward : -41.26324640256777\n",
      "total test reward=-40.51255855308372\n"
     ]
    },
    {
     "name": "stderr",
     "output_type": "stream",
     "text": [
      "100%|█████████████████████████████████████████████████████████████████████████████| 2010/2010 [00:03<00:00, 533.17it/s]\n",
      "  3%|██▎                                                                            | 60/2010 [00:00<00:03, 589.99it/s]"
     ]
    },
    {
     "name": "stdout",
     "output_type": "stream",
     "text": [
      "episode : 833 reward : -72.70657089854274\n",
      "total test reward=-56.19835314696159\n"
     ]
    },
    {
     "name": "stderr",
     "output_type": "stream",
     "text": [
      "100%|█████████████████████████████████████████████████████████████████████████████| 2010/2010 [00:03<00:00, 560.03it/s]\n",
      "  3%|██                                                                             | 52/2010 [00:00<00:03, 511.00it/s]"
     ]
    },
    {
     "name": "stdout",
     "output_type": "stream",
     "text": [
      "episode : 834 reward : -2.8205519582504053\n",
      "total test reward=8.673423604303599\n"
     ]
    },
    {
     "name": "stderr",
     "output_type": "stream",
     "text": [
      "100%|█████████████████████████████████████████████████████████████████████████████| 2010/2010 [00:03<00:00, 569.64it/s]\n",
      "  3%|██▍                                                                            | 61/2010 [00:00<00:03, 605.58it/s]"
     ]
    },
    {
     "name": "stdout",
     "output_type": "stream",
     "text": [
      "episode : 835 reward : -54.68394363541415\n",
      "total test reward=-18.01609990456268\n"
     ]
    },
    {
     "name": "stderr",
     "output_type": "stream",
     "text": [
      "100%|█████████████████████████████████████████████████████████████████████████████| 2010/2010 [00:03<00:00, 573.36it/s]\n",
      "  3%|██▎                                                                            | 60/2010 [00:00<00:03, 595.43it/s]"
     ]
    },
    {
     "name": "stdout",
     "output_type": "stream",
     "text": [
      "episode : 836 reward : -25.16442030300408\n",
      "total test reward=-43.645433368836976\n"
     ]
    },
    {
     "name": "stderr",
     "output_type": "stream",
     "text": [
      "100%|█████████████████████████████████████████████████████████████████████████████| 2010/2010 [00:03<00:00, 579.30it/s]\n",
      "  3%|██▎                                                                            | 60/2010 [00:00<00:03, 595.63it/s]"
     ]
    },
    {
     "name": "stdout",
     "output_type": "stream",
     "text": [
      "episode : 837 reward : -21.36055598869939\n",
      "total test reward=-9.305703217970967\n"
     ]
    },
    {
     "name": "stderr",
     "output_type": "stream",
     "text": [
      "100%|█████████████████████████████████████████████████████████████████████████████| 2010/2010 [00:03<00:00, 569.48it/s]\n",
      "  3%|██▎                                                                            | 60/2010 [00:00<00:03, 595.65it/s]"
     ]
    },
    {
     "name": "stdout",
     "output_type": "stream",
     "text": [
      "episode : 838 reward : -52.1477917835887\n",
      "total test reward=-16.725244827691476\n"
     ]
    },
    {
     "name": "stderr",
     "output_type": "stream",
     "text": [
      "100%|█████████████████████████████████████████████████████████████████████████████| 2010/2010 [00:03<00:00, 556.89it/s]\n",
      "  3%|██▎                                                                            | 60/2010 [00:00<00:03, 589.86it/s]"
     ]
    },
    {
     "name": "stdout",
     "output_type": "stream",
     "text": [
      "episode : 839 reward : -17.445764234401196\n",
      "total test reward=-38.309449030583906\n"
     ]
    },
    {
     "name": "stderr",
     "output_type": "stream",
     "text": [
      "100%|█████████████████████████████████████████████████████████████████████████████| 2010/2010 [00:03<00:00, 582.62it/s]\n",
      "  3%|██                                                                             | 54/2010 [00:00<00:03, 536.08it/s]"
     ]
    },
    {
     "name": "stdout",
     "output_type": "stream",
     "text": [
      "episode : 840 reward : 3.34973189338902\n",
      "total test reward=-38.92962982622041\n"
     ]
    },
    {
     "name": "stderr",
     "output_type": "stream",
     "text": [
      "100%|█████████████████████████████████████████████████████████████████████████████| 2010/2010 [00:03<00:00, 531.67it/s]\n",
      "  3%|██▎                                                                            | 58/2010 [00:00<00:03, 570.07it/s]"
     ]
    },
    {
     "name": "stdout",
     "output_type": "stream",
     "text": [
      "episode : 841 reward : -8.777962451237102\n",
      "total test reward=1.690444760732592\n"
     ]
    },
    {
     "name": "stderr",
     "output_type": "stream",
     "text": [
      "100%|█████████████████████████████████████████████████████████████████████████████| 2010/2010 [00:03<00:00, 582.41it/s]\n",
      "  3%|██▏                                                                            | 55/2010 [00:00<00:03, 546.01it/s]"
     ]
    },
    {
     "name": "stdout",
     "output_type": "stream",
     "text": [
      "episode : 842 reward : -51.365494239063395\n",
      "total test reward=-39.51579055656127\n"
     ]
    },
    {
     "name": "stderr",
     "output_type": "stream",
     "text": [
      "100%|█████████████████████████████████████████████████████████████████████████████| 2010/2010 [00:03<00:00, 570.44it/s]\n",
      "  3%|██▋                                                                            | 69/2010 [00:00<00:02, 684.79it/s]"
     ]
    },
    {
     "name": "stdout",
     "output_type": "stream",
     "text": [
      "episode : 843 reward : 58.83675049767257\n",
      "total test reward=-20.69807997327818\n"
     ]
    },
    {
     "name": "stderr",
     "output_type": "stream",
     "text": [
      "100%|█████████████████████████████████████████████████████████████████████████████| 2010/2010 [00:03<00:00, 527.86it/s]\n",
      "  3%|██▏                                                                            | 56/2010 [00:00<00:03, 555.92it/s]"
     ]
    },
    {
     "name": "stdout",
     "output_type": "stream",
     "text": [
      "episode : 844 reward : -28.907573110798808\n",
      "total test reward=-59.77857298098718\n"
     ]
    },
    {
     "name": "stderr",
     "output_type": "stream",
     "text": [
      "100%|█████████████████████████████████████████████████████████████████████████████| 2010/2010 [00:03<00:00, 540.46it/s]\n",
      "  6%|████▌                                                                         | 117/2010 [00:00<00:03, 572.71it/s]"
     ]
    },
    {
     "name": "stdout",
     "output_type": "stream",
     "text": [
      "episode : 845 reward : -35.37193987541323\n",
      "total test reward=-9.017047340056171\n"
     ]
    },
    {
     "name": "stderr",
     "output_type": "stream",
     "text": [
      "100%|█████████████████████████████████████████████████████████████████████████████| 2010/2010 [00:03<00:00, 568.96it/s]\n",
      "  6%|████▋                                                                         | 121/2010 [00:00<00:03, 600.38it/s]"
     ]
    },
    {
     "name": "stdout",
     "output_type": "stream",
     "text": [
      "episode : 846 reward : -155.74182864352406\n",
      "total test reward=2.126912564287619\n"
     ]
    },
    {
     "name": "stderr",
     "output_type": "stream",
     "text": [
      "100%|█████████████████████████████████████████████████████████████████████████████| 2010/2010 [00:03<00:00, 563.43it/s]\n",
      "  3%|██▍                                                                            | 63/2010 [00:00<00:03, 619.35it/s]"
     ]
    },
    {
     "name": "stdout",
     "output_type": "stream",
     "text": [
      "episode : 847 reward : -90.99800585917845\n",
      "total test reward=-17.743462335196188\n"
     ]
    },
    {
     "name": "stderr",
     "output_type": "stream",
     "text": [
      "100%|█████████████████████████████████████████████████████████████████████████████| 2010/2010 [00:03<00:00, 603.04it/s]\n",
      "  3%|██▌                                                                            | 66/2010 [00:00<00:02, 648.78it/s]"
     ]
    },
    {
     "name": "stdout",
     "output_type": "stream",
     "text": [
      "episode : 848 reward : -66.28134578450985\n",
      "total test reward=-21.0006487684986\n"
     ]
    },
    {
     "name": "stderr",
     "output_type": "stream",
     "text": [
      "100%|█████████████████████████████████████████████████████████████████████████████| 2010/2010 [00:03<00:00, 597.86it/s]\n",
      "  6%|████▉                                                                         | 126/2010 [00:00<00:03, 623.74it/s]"
     ]
    },
    {
     "name": "stdout",
     "output_type": "stream",
     "text": [
      "episode : 849 reward : -24.484390497646302\n",
      "total test reward=7.940601665155202\n"
     ]
    },
    {
     "name": "stderr",
     "output_type": "stream",
     "text": [
      "100%|█████████████████████████████████████████████████████████████████████████████| 2010/2010 [00:03<00:00, 603.59it/s]\n",
      "  6%|█████                                                                         | 129/2010 [00:00<00:02, 646.06it/s]"
     ]
    },
    {
     "name": "stdout",
     "output_type": "stream",
     "text": [
      "episode : 850 reward : -33.005366311033214\n",
      "total test reward=-23.970990762903067\n"
     ]
    },
    {
     "name": "stderr",
     "output_type": "stream",
     "text": [
      "100%|█████████████████████████████████████████████████████████████████████████████| 2010/2010 [00:03<00:00, 597.50it/s]\n",
      "  3%|██▌                                                                            | 64/2010 [00:00<00:03, 629.13it/s]"
     ]
    },
    {
     "name": "stdout",
     "output_type": "stream",
     "text": [
      "episode : 851 reward : -30.550110309882797\n",
      "total test reward=-42.97544763863537\n"
     ]
    },
    {
     "name": "stderr",
     "output_type": "stream",
     "text": [
      "100%|█████████████████████████████████████████████████████████████████████████████| 2010/2010 [00:03<00:00, 606.67it/s]\n",
      "  3%|██▍                                                                            | 62/2010 [00:00<00:03, 609.47it/s]"
     ]
    },
    {
     "name": "stdout",
     "output_type": "stream",
     "text": [
      "episode : 852 reward : -47.335951430361604\n",
      "total test reward=-58.90825939252291\n"
     ]
    },
    {
     "name": "stderr",
     "output_type": "stream",
     "text": [
      "100%|█████████████████████████████████████████████████████████████████████████████| 2010/2010 [00:03<00:00, 584.50it/s]\n",
      "  3%|██▎                                                                            | 60/2010 [00:00<00:03, 595.43it/s]"
     ]
    },
    {
     "name": "stdout",
     "output_type": "stream",
     "text": [
      "episode : 853 reward : -20.939098069225167\n",
      "total test reward=-29.17837082173648\n"
     ]
    },
    {
     "name": "stderr",
     "output_type": "stream",
     "text": [
      "100%|█████████████████████████████████████████████████████████████████████████████| 2010/2010 [00:03<00:00, 592.74it/s]\n",
      "  3%|██▌                                                                            | 65/2010 [00:00<00:03, 638.76it/s]"
     ]
    },
    {
     "name": "stdout",
     "output_type": "stream",
     "text": [
      "episode : 854 reward : 9.901764751478055\n",
      "total test reward=-6.5303440836404665\n"
     ]
    },
    {
     "name": "stderr",
     "output_type": "stream",
     "text": [
      "100%|█████████████████████████████████████████████████████████████████████████████| 2010/2010 [00:03<00:00, 582.31it/s]\n",
      "  3%|██▎                                                                            | 59/2010 [00:00<00:03, 580.16it/s]"
     ]
    },
    {
     "name": "stdout",
     "output_type": "stream",
     "text": [
      "episode : 855 reward : -24.509094937909367\n",
      "total test reward=-6.60625608294468\n"
     ]
    },
    {
     "name": "stderr",
     "output_type": "stream",
     "text": [
      "100%|█████████████████████████████████████████████████████████████████████████████| 2010/2010 [00:03<00:00, 577.15it/s]\n",
      "  3%|██▍                                                                            | 61/2010 [00:00<00:03, 605.58it/s]"
     ]
    },
    {
     "name": "stdout",
     "output_type": "stream",
     "text": [
      "episode : 856 reward : -40.75542785587092\n",
      "total test reward=-45.37761673374794\n"
     ]
    },
    {
     "name": "stderr",
     "output_type": "stream",
     "text": [
      "100%|█████████████████████████████████████████████████████████████████████████████| 2010/2010 [00:03<00:00, 553.68it/s]\n",
      "  3%|██▎                                                                            | 59/2010 [00:00<00:03, 585.72it/s]"
     ]
    },
    {
     "name": "stdout",
     "output_type": "stream",
     "text": [
      "episode : 857 reward : 5.314049172104291\n",
      "total test reward=-23.50156250511955\n"
     ]
    },
    {
     "name": "stderr",
     "output_type": "stream",
     "text": [
      "100%|█████████████████████████████████████████████████████████████████████████████| 2010/2010 [00:03<00:00, 565.64it/s]\n",
      "  3%|██▎                                                                            | 59/2010 [00:00<00:03, 585.72it/s]"
     ]
    },
    {
     "name": "stdout",
     "output_type": "stream",
     "text": [
      "episode : 858 reward : -159.04971093735216\n",
      "total test reward=-33.660401905129255\n"
     ]
    },
    {
     "name": "stderr",
     "output_type": "stream",
     "text": [
      "100%|█████████████████████████████████████████████████████████████████████████████| 2010/2010 [00:03<00:00, 595.74it/s]\n",
      "  3%|██▎                                                                            | 60/2010 [00:00<00:03, 584.26it/s]"
     ]
    },
    {
     "name": "stdout",
     "output_type": "stream",
     "text": [
      "episode : 859 reward : -58.54449400607331\n",
      "total test reward=-43.21696174641214\n"
     ]
    },
    {
     "name": "stderr",
     "output_type": "stream",
     "text": [
      "100%|█████████████████████████████████████████████████████████████████████████████| 2010/2010 [00:03<00:00, 554.59it/s]\n",
      "  3%|██▎                                                                            | 60/2010 [00:00<00:03, 589.81it/s]"
     ]
    },
    {
     "name": "stdout",
     "output_type": "stream",
     "text": [
      "episode : 860 reward : -50.91979265104865\n",
      "total test reward=-45.18982828483647\n"
     ]
    },
    {
     "name": "stderr",
     "output_type": "stream",
     "text": [
      "100%|█████████████████████████████████████████████████████████████████████████████| 2010/2010 [00:03<00:00, 574.67it/s]\n",
      "  3%|██▌                                                                            | 65/2010 [00:00<00:03, 645.28it/s]"
     ]
    },
    {
     "name": "stdout",
     "output_type": "stream",
     "text": [
      "episode : 861 reward : -58.47202683099607\n",
      "total test reward=-26.74047709047722\n"
     ]
    },
    {
     "name": "stderr",
     "output_type": "stream",
     "text": [
      "100%|█████████████████████████████████████████████████████████████████████████████| 2010/2010 [00:03<00:00, 582.30it/s]\n",
      "  6%|████▊                                                                         | 124/2010 [00:00<00:03, 618.83it/s]"
     ]
    },
    {
     "name": "stdout",
     "output_type": "stream",
     "text": [
      "episode : 862 reward : -7.084433802379721\n",
      "total test reward=-4.237432912333935\n"
     ]
    },
    {
     "name": "stderr",
     "output_type": "stream",
     "text": [
      "100%|█████████████████████████████████████████████████████████████████████████████| 2010/2010 [00:03<00:00, 580.81it/s]\n",
      "  3%|██▍                                                                            | 61/2010 [00:00<00:03, 599.92it/s]"
     ]
    },
    {
     "name": "stdout",
     "output_type": "stream",
     "text": [
      "episode : 863 reward : -29.506916176919475\n",
      "total test reward=-30.204264808558555\n"
     ]
    },
    {
     "name": "stderr",
     "output_type": "stream",
     "text": [
      "100%|█████████████████████████████████████████████████████████████████████████████| 2010/2010 [00:03<00:00, 574.18it/s]\n",
      "  6%|████▌                                                                         | 118/2010 [00:00<00:03, 585.59it/s]"
     ]
    },
    {
     "name": "stdout",
     "output_type": "stream",
     "text": [
      "episode : 864 reward : 127.77954658897275\n",
      "total test reward=-44.324321718737416\n"
     ]
    },
    {
     "name": "stderr",
     "output_type": "stream",
     "text": [
      "100%|█████████████████████████████████████████████████████████████████████████████| 2010/2010 [00:03<00:00, 578.46it/s]\n",
      "  3%|██▍                                                                            | 61/2010 [00:00<00:03, 605.56it/s]"
     ]
    },
    {
     "name": "stdout",
     "output_type": "stream",
     "text": [
      "episode : 865 reward : -52.19807116480138\n",
      "total test reward=-44.596838004512506\n"
     ]
    },
    {
     "name": "stderr",
     "output_type": "stream",
     "text": [
      "100%|█████████████████████████████████████████████████████████████████████████████| 2010/2010 [00:03<00:00, 560.14it/s]\n",
      "  3%|██▍                                                                            | 62/2010 [00:00<00:03, 615.28it/s]"
     ]
    },
    {
     "name": "stdout",
     "output_type": "stream",
     "text": [
      "episode : 866 reward : -181.31040385207103\n",
      "total test reward=-38.55581534240529\n"
     ]
    },
    {
     "name": "stderr",
     "output_type": "stream",
     "text": [
      "100%|█████████████████████████████████████████████████████████████████████████████| 2010/2010 [00:03<00:00, 579.63it/s]\n",
      "  3%|██▏                                                                            | 57/2010 [00:00<00:03, 565.87it/s]"
     ]
    },
    {
     "name": "stdout",
     "output_type": "stream",
     "text": [
      "episode : 867 reward : -42.19135594390653\n",
      "total test reward=-36.05016933931006\n"
     ]
    },
    {
     "name": "stderr",
     "output_type": "stream",
     "text": [
      "100%|█████████████████████████████████████████████████████████████████████████████| 2010/2010 [00:03<00:00, 582.81it/s]\n",
      "  3%|██▍                                                                            | 63/2010 [00:00<00:03, 625.43it/s]"
     ]
    },
    {
     "name": "stdout",
     "output_type": "stream",
     "text": [
      "episode : 868 reward : 113.09918406699465\n",
      "total test reward=-8.778953065678445\n"
     ]
    },
    {
     "name": "stderr",
     "output_type": "stream",
     "text": [
      "100%|█████████████████████████████████████████████████████████████████████████████| 2010/2010 [00:03<00:00, 568.67it/s]\n",
      "  3%|██▍                                                                            | 63/2010 [00:00<00:03, 625.19it/s]"
     ]
    },
    {
     "name": "stdout",
     "output_type": "stream",
     "text": [
      "episode : 869 reward : -67.41392655940282\n",
      "total test reward=-25.66814049049767\n"
     ]
    },
    {
     "name": "stderr",
     "output_type": "stream",
     "text": [
      "100%|█████████████████████████████████████████████████████████████████████████████| 2010/2010 [00:03<00:00, 570.12it/s]\n",
      "  3%|██▍                                                                            | 63/2010 [00:00<00:03, 619.11it/s]"
     ]
    },
    {
     "name": "stdout",
     "output_type": "stream",
     "text": [
      "episode : 870 reward : -18.89604461252253\n",
      "total test reward=-30.895155716669258\n"
     ]
    },
    {
     "name": "stderr",
     "output_type": "stream",
     "text": [
      "100%|█████████████████████████████████████████████████████████████████████████████| 2010/2010 [00:03<00:00, 540.46it/s]\n",
      "  3%|██                                                                             | 54/2010 [00:00<00:03, 530.82it/s]"
     ]
    },
    {
     "name": "stdout",
     "output_type": "stream",
     "text": [
      "episode : 871 reward : -23.825926547134316\n",
      "total test reward=-32.27185590149719\n"
     ]
    },
    {
     "name": "stderr",
     "output_type": "stream",
     "text": [
      "100%|█████████████████████████████████████████████████████████████████████████████| 2010/2010 [00:03<00:00, 556.43it/s]\n",
      "  3%|██                                                                             | 53/2010 [00:00<00:03, 520.99it/s]"
     ]
    },
    {
     "name": "stdout",
     "output_type": "stream",
     "text": [
      "episode : 872 reward : -52.51522368943105\n",
      "total test reward=-42.654341774004244\n"
     ]
    },
    {
     "name": "stderr",
     "output_type": "stream",
     "text": [
      "100%|█████████████████████████████████████████████████████████████████████████████| 2010/2010 [00:03<00:00, 560.13it/s]\n",
      "  3%|██▋                                                                            | 67/2010 [00:00<00:02, 665.12it/s]"
     ]
    },
    {
     "name": "stdout",
     "output_type": "stream",
     "text": [
      "episode : 873 reward : -51.237537021201746\n",
      "total test reward=-31.812403799499226\n"
     ]
    },
    {
     "name": "stderr",
     "output_type": "stream",
     "text": [
      "100%|█████████████████████████████████████████████████████████████████████████████| 2010/2010 [00:03<00:00, 505.12it/s]\n",
      "  3%|██▍                                                                            | 61/2010 [00:00<00:03, 599.63it/s]"
     ]
    },
    {
     "name": "stdout",
     "output_type": "stream",
     "text": [
      "episode : 874 reward : -57.6788599964224\n",
      "total test reward=-28.38177196216558\n"
     ]
    },
    {
     "name": "stderr",
     "output_type": "stream",
     "text": [
      "100%|█████████████████████████████████████████████████████████████████████████████| 2010/2010 [00:03<00:00, 504.92it/s]\n",
      "  3%|██▎                                                                            | 59/2010 [00:00<00:03, 585.53it/s]"
     ]
    },
    {
     "name": "stdout",
     "output_type": "stream",
     "text": [
      "episode : 875 reward : -55.36259512712206\n",
      "total test reward=-44.47569537043361\n"
     ]
    },
    {
     "name": "stderr",
     "output_type": "stream",
     "text": [
      "100%|█████████████████████████████████████████████████████████████████████████████| 2010/2010 [00:04<00:00, 476.24it/s]\n",
      "  3%|██▎                                                                            | 59/2010 [00:00<00:03, 585.52it/s]"
     ]
    },
    {
     "name": "stdout",
     "output_type": "stream",
     "text": [
      "episode : 876 reward : -28.563563688914826\n",
      "total test reward=-30.984260238411515\n"
     ]
    },
    {
     "name": "stderr",
     "output_type": "stream",
     "text": [
      "100%|█████████████████████████████████████████████████████████████████████████████| 2010/2010 [00:03<00:00, 528.55it/s]\n",
      "  3%|██                                                                             | 54/2010 [00:00<00:03, 530.83it/s]"
     ]
    },
    {
     "name": "stdout",
     "output_type": "stream",
     "text": [
      "episode : 877 reward : -30.95374590906195\n",
      "total test reward=-33.65012023742139\n"
     ]
    },
    {
     "name": "stderr",
     "output_type": "stream",
     "text": [
      "100%|█████████████████████████████████████████████████████████████████████████████| 2010/2010 [00:03<00:00, 550.04it/s]\n",
      "  3%|██▍                                                                            | 62/2010 [00:00<00:03, 615.31it/s]"
     ]
    },
    {
     "name": "stdout",
     "output_type": "stream",
     "text": [
      "episode : 878 reward : -38.641252891985545\n",
      "total test reward=-43.5638344596272\n"
     ]
    },
    {
     "name": "stderr",
     "output_type": "stream",
     "text": [
      "100%|█████████████████████████████████████████████████████████████████████████████| 2010/2010 [00:03<00:00, 528.24it/s]\n",
      "  3%|██                                                                             | 51/2010 [00:00<00:03, 496.46it/s]"
     ]
    },
    {
     "name": "stdout",
     "output_type": "stream",
     "text": [
      "episode : 879 reward : -60.039594409707775\n",
      "total test reward=-17.304703849274777\n"
     ]
    },
    {
     "name": "stderr",
     "output_type": "stream",
     "text": [
      "100%|█████████████████████████████████████████████████████████████████████████████| 2010/2010 [00:03<00:00, 511.25it/s]\n",
      "  6%|████▍                                                                         | 114/2010 [00:00<00:03, 557.30it/s]"
     ]
    },
    {
     "name": "stdout",
     "output_type": "stream",
     "text": [
      "episode : 880 reward : -43.585895212859555\n",
      "total test reward=-48.9397047367825\n"
     ]
    },
    {
     "name": "stderr",
     "output_type": "stream",
     "text": [
      "100%|█████████████████████████████████████████████████████████████████████████████| 2010/2010 [00:03<00:00, 580.47it/s]\n",
      "  3%|██▏                                                                            | 56/2010 [00:00<00:03, 555.99it/s]"
     ]
    },
    {
     "name": "stdout",
     "output_type": "stream",
     "text": [
      "episode : 881 reward : 5.370620032064096\n",
      "total test reward=-7.414516492963469\n"
     ]
    },
    {
     "name": "stderr",
     "output_type": "stream",
     "text": [
      "100%|█████████████████████████████████████████████████████████████████████████████| 2010/2010 [00:03<00:00, 567.39it/s]\n",
      "  3%|██▏                                                                            | 56/2010 [00:00<00:03, 556.16it/s]"
     ]
    },
    {
     "name": "stdout",
     "output_type": "stream",
     "text": [
      "episode : 882 reward : -24.951176202003353\n",
      "total test reward=-62.3859771326391\n"
     ]
    },
    {
     "name": "stderr",
     "output_type": "stream",
     "text": [
      "100%|█████████████████████████████████████████████████████████████████████████████| 2010/2010 [00:03<00:00, 571.09it/s]\n",
      "  3%|██▏                                                                            | 57/2010 [00:00<00:03, 560.48it/s]"
     ]
    },
    {
     "name": "stdout",
     "output_type": "stream",
     "text": [
      "episode : 883 reward : -36.593945609869394\n",
      "total test reward=-50.84601870965666\n"
     ]
    },
    {
     "name": "stderr",
     "output_type": "stream",
     "text": [
      "100%|█████████████████████████████████████████████████████████████████████████████| 2010/2010 [00:03<00:00, 583.16it/s]\n",
      "  3%|██▎                                                                            | 59/2010 [00:00<00:03, 579.79it/s]"
     ]
    },
    {
     "name": "stdout",
     "output_type": "stream",
     "text": [
      "episode : 884 reward : -41.16785339340967\n",
      "total test reward=-1.53410096481\n"
     ]
    },
    {
     "name": "stderr",
     "output_type": "stream",
     "text": [
      "100%|█████████████████████████████████████████████████████████████████████████████| 2010/2010 [00:03<00:00, 585.18it/s]\n",
      "  3%|██▎                                                                            | 60/2010 [00:00<00:03, 589.88it/s]"
     ]
    },
    {
     "name": "stdout",
     "output_type": "stream",
     "text": [
      "episode : 885 reward : -41.640676188553044\n",
      "total test reward=-42.085936265846044\n"
     ]
    },
    {
     "name": "stderr",
     "output_type": "stream",
     "text": [
      "100%|█████████████████████████████████████████████████████████████████████████████| 2010/2010 [00:03<00:00, 540.79it/s]\n",
      "  3%|██▏                                                                            | 56/2010 [00:00<00:03, 555.76it/s]"
     ]
    },
    {
     "name": "stdout",
     "output_type": "stream",
     "text": [
      "episode : 886 reward : -35.924915059658815\n",
      "total test reward=-23.99831766574784\n"
     ]
    },
    {
     "name": "stderr",
     "output_type": "stream",
     "text": [
      "100%|█████████████████████████████████████████████████████████████████████████████| 2010/2010 [00:03<00:00, 534.16it/s]\n",
      "  6%|████▉                                                                         | 128/2010 [00:00<00:02, 637.11it/s]"
     ]
    },
    {
     "name": "stdout",
     "output_type": "stream",
     "text": [
      "episode : 887 reward : -18.376855612103668\n",
      "total test reward=-1.53149353131937\n"
     ]
    },
    {
     "name": "stderr",
     "output_type": "stream",
     "text": [
      "100%|█████████████████████████████████████████████████████████████████████████████| 2010/2010 [00:03<00:00, 512.01it/s]\n",
      "  3%|██                                                                             | 54/2010 [00:00<00:03, 530.82it/s]"
     ]
    },
    {
     "name": "stdout",
     "output_type": "stream",
     "text": [
      "episode : 888 reward : -56.24059794461465\n",
      "total test reward=-25.417101626421974\n"
     ]
    },
    {
     "name": "stderr",
     "output_type": "stream",
     "text": [
      "100%|█████████████████████████████████████████████████████████████████████████████| 2010/2010 [00:03<00:00, 569.64it/s]\n",
      "  3%|██▏                                                                            | 57/2010 [00:00<00:03, 560.14it/s]"
     ]
    },
    {
     "name": "stdout",
     "output_type": "stream",
     "text": [
      "episode : 889 reward : -95.87548513237533\n",
      "total test reward=-29.494058117240854\n"
     ]
    },
    {
     "name": "stderr",
     "output_type": "stream",
     "text": [
      "100%|█████████████████████████████████████████████████████████████████████████████| 2010/2010 [00:03<00:00, 569.96it/s]\n",
      "  6%|████▊                                                                         | 123/2010 [00:00<00:03, 617.67it/s]"
     ]
    },
    {
     "name": "stdout",
     "output_type": "stream",
     "text": [
      "episode : 890 reward : -47.70474753851377\n",
      "total test reward=-46.3059408290262\n"
     ]
    },
    {
     "name": "stderr",
     "output_type": "stream",
     "text": [
      "100%|█████████████████████████████████████████████████████████████████████████████| 2010/2010 [00:03<00:00, 554.48it/s]\n",
      "  3%|██▎                                                                            | 58/2010 [00:00<00:03, 570.14it/s]"
     ]
    },
    {
     "name": "stdout",
     "output_type": "stream",
     "text": [
      "episode : 891 reward : 12.02813597347452\n",
      "total test reward=-19.95843968429373\n"
     ]
    },
    {
     "name": "stderr",
     "output_type": "stream",
     "text": [
      "100%|█████████████████████████████████████████████████████████████████████████████| 2010/2010 [00:03<00:00, 547.89it/s]\n",
      "  3%|██▏                                                                            | 57/2010 [00:00<00:03, 560.31it/s]"
     ]
    },
    {
     "name": "stdout",
     "output_type": "stream",
     "text": [
      "episode : 892 reward : -54.74450504561065\n",
      "total test reward=-35.435323114592855\n"
     ]
    },
    {
     "name": "stderr",
     "output_type": "stream",
     "text": [
      "100%|█████████████████████████████████████████████████████████████████████████████| 2010/2010 [00:03<00:00, 551.85it/s]\n",
      "  6%|████▍                                                                         | 115/2010 [00:00<00:03, 562.88it/s]"
     ]
    },
    {
     "name": "stdout",
     "output_type": "stream",
     "text": [
      "episode : 893 reward : -71.93372816310625\n",
      "total test reward=-5.153377963807503\n"
     ]
    },
    {
     "name": "stderr",
     "output_type": "stream",
     "text": [
      "100%|█████████████████████████████████████████████████████████████████████████████| 2010/2010 [00:03<00:00, 548.72it/s]\n",
      "  3%|██▏                                                                            | 57/2010 [00:00<00:03, 560.32it/s]"
     ]
    },
    {
     "name": "stdout",
     "output_type": "stream",
     "text": [
      "episode : 894 reward : -126.99095982283325\n",
      "total test reward=-3.3964101762268797\n"
     ]
    },
    {
     "name": "stderr",
     "output_type": "stream",
     "text": [
      "100%|█████████████████████████████████████████████████████████████████████████████| 2010/2010 [00:04<00:00, 470.17it/s]\n",
      "  3%|██                                                                             | 54/2010 [00:00<00:03, 535.95it/s]"
     ]
    },
    {
     "name": "stdout",
     "output_type": "stream",
     "text": [
      "episode : 895 reward : -21.35410722263302\n",
      "total test reward=-37.40632232059303\n"
     ]
    },
    {
     "name": "stderr",
     "output_type": "stream",
     "text": [
      "100%|█████████████████████████████████████████████████████████████████████████████| 2010/2010 [00:04<00:00, 493.07it/s]\n",
      "  3%|██▏                                                                            | 56/2010 [00:00<00:03, 555.94it/s]"
     ]
    },
    {
     "name": "stdout",
     "output_type": "stream",
     "text": [
      "episode : 896 reward : -16.23435329920403\n",
      "total test reward=-44.08584035768404\n"
     ]
    },
    {
     "name": "stderr",
     "output_type": "stream",
     "text": [
      "100%|█████████████████████████████████████████████████████████████████████████████| 2010/2010 [00:03<00:00, 523.73it/s]\n",
      "  3%|██                                                                             | 52/2010 [00:00<00:03, 513.38it/s]"
     ]
    },
    {
     "name": "stdout",
     "output_type": "stream",
     "text": [
      "episode : 897 reward : -25.83387268934149\n",
      "total test reward=-27.360872338945125\n"
     ]
    },
    {
     "name": "stderr",
     "output_type": "stream",
     "text": [
      "100%|█████████████████████████████████████████████████████████████████████████████| 2010/2010 [00:03<00:00, 557.72it/s]\n",
      "  3%|██                                                                             | 54/2010 [00:00<00:03, 535.92it/s]"
     ]
    },
    {
     "name": "stdout",
     "output_type": "stream",
     "text": [
      "episode : 898 reward : -26.9018880717951\n",
      "total test reward=-26.8137936991853\n"
     ]
    },
    {
     "name": "stderr",
     "output_type": "stream",
     "text": [
      "100%|█████████████████████████████████████████████████████████████████████████████| 2010/2010 [00:04<00:00, 498.08it/s]\n",
      "  3%|██▎                                                                            | 58/2010 [00:00<00:03, 569.97it/s]"
     ]
    },
    {
     "name": "stdout",
     "output_type": "stream",
     "text": [
      "episode : 899 reward : -81.72206057966332\n",
      "total test reward=-29.195541943660125\n"
     ]
    },
    {
     "name": "stderr",
     "output_type": "stream",
     "text": [
      "100%|█████████████████████████████████████████████████████████████████████████████| 2010/2010 [00:03<00:00, 547.65it/s]\n",
      "  6%|████▊                                                                         | 123/2010 [00:00<00:03, 612.48it/s]"
     ]
    },
    {
     "name": "stdout",
     "output_type": "stream",
     "text": [
      "episode : 900 reward : -30.38897205480842\n",
      "total test reward=-41.08265687908209\n"
     ]
    },
    {
     "name": "stderr",
     "output_type": "stream",
     "text": [
      "100%|█████████████████████████████████████████████████████████████████████████████| 2010/2010 [00:03<00:00, 586.55it/s]\n",
      "  6%|████▊                                                                         | 124/2010 [00:00<00:03, 609.60it/s]"
     ]
    },
    {
     "name": "stdout",
     "output_type": "stream",
     "text": [
      "episode : 901 reward : -43.693458613122175\n",
      "total test reward=-34.8303585260381\n"
     ]
    },
    {
     "name": "stderr",
     "output_type": "stream",
     "text": [
      "100%|█████████████████████████████████████████████████████████████████████████████| 2010/2010 [00:04<00:00, 500.99it/s]\n",
      "  2%|█▊                                                                             | 46/2010 [00:00<00:04, 456.52it/s]"
     ]
    },
    {
     "name": "stdout",
     "output_type": "stream",
     "text": [
      "episode : 902 reward : -38.88813702398164\n",
      "total test reward=-4.731181611510777\n"
     ]
    },
    {
     "name": "stderr",
     "output_type": "stream",
     "text": [
      "100%|█████████████████████████████████████████████████████████████████████████████| 2010/2010 [00:03<00:00, 541.48it/s]\n",
      "  3%|██▍                                                                            | 61/2010 [00:00<00:03, 605.58it/s]"
     ]
    },
    {
     "name": "stdout",
     "output_type": "stream",
     "text": [
      "episode : 903 reward : 109.59548829130844\n",
      "total test reward=-49.28760579220873\n"
     ]
    },
    {
     "name": "stderr",
     "output_type": "stream",
     "text": [
      "100%|█████████████████████████████████████████████████████████████████████████████| 2010/2010 [00:03<00:00, 572.54it/s]\n",
      "  3%|██▌                                                                            | 64/2010 [00:00<00:03, 635.36it/s]"
     ]
    },
    {
     "name": "stdout",
     "output_type": "stream",
     "text": [
      "episode : 904 reward : -82.15627515204048\n",
      "total test reward=-56.7077775628351\n"
     ]
    },
    {
     "name": "stderr",
     "output_type": "stream",
     "text": [
      "100%|█████████████████████████████████████████████████████████████████████████████| 2010/2010 [00:03<00:00, 578.63it/s]\n",
      "  3%|██▌                                                                            | 65/2010 [00:00<00:03, 638.76it/s]"
     ]
    },
    {
     "name": "stdout",
     "output_type": "stream",
     "text": [
      "episode : 905 reward : -23.040844989152788\n",
      "total test reward=-47.022472682763365\n"
     ]
    },
    {
     "name": "stderr",
     "output_type": "stream",
     "text": [
      "100%|█████████████████████████████████████████████████████████████████████████████| 2010/2010 [00:03<00:00, 515.97it/s]\n",
      "  3%|██▏                                                                            | 57/2010 [00:00<00:03, 565.93it/s]"
     ]
    },
    {
     "name": "stdout",
     "output_type": "stream",
     "text": [
      "episode : 906 reward : -70.82472528119484\n",
      "total test reward=-49.71231954397396\n"
     ]
    },
    {
     "name": "stderr",
     "output_type": "stream",
     "text": [
      "100%|█████████████████████████████████████████████████████████████████████████████| 2010/2010 [00:03<00:00, 557.04it/s]\n",
      "  2%|█▍                                                                             | 38/2010 [00:00<00:05, 377.26it/s]"
     ]
    },
    {
     "name": "stdout",
     "output_type": "stream",
     "text": [
      "episode : 907 reward : -29.327175263820067\n",
      "total test reward=-38.728525349044894\n"
     ]
    },
    {
     "name": "stderr",
     "output_type": "stream",
     "text": [
      "100%|█████████████████████████████████████████████████████████████████████████████| 2010/2010 [00:03<00:00, 514.26it/s]\n",
      "  3%|██                                                                             | 51/2010 [00:00<00:03, 506.31it/s]"
     ]
    },
    {
     "name": "stdout",
     "output_type": "stream",
     "text": [
      "episode : 908 reward : -36.10159633465301\n",
      "total test reward=-37.07933366493628\n"
     ]
    },
    {
     "name": "stderr",
     "output_type": "stream",
     "text": [
      "100%|█████████████████████████████████████████████████████████████████████████████| 2010/2010 [00:03<00:00, 526.03it/s]\n",
      "  3%|██                                                                             | 54/2010 [00:00<00:03, 536.08it/s]"
     ]
    },
    {
     "name": "stdout",
     "output_type": "stream",
     "text": [
      "episode : 909 reward : -7.400748303611891\n",
      "total test reward=-60.96133431263786\n"
     ]
    },
    {
     "name": "stderr",
     "output_type": "stream",
     "text": [
      "100%|█████████████████████████████████████████████████████████████████████████████| 2010/2010 [00:03<00:00, 550.04it/s]\n",
      "  3%|██▌                                                                            | 64/2010 [00:00<00:03, 629.24it/s]"
     ]
    },
    {
     "name": "stdout",
     "output_type": "stream",
     "text": [
      "episode : 910 reward : -247.0973538644212\n",
      "total test reward=-37.64193781091678\n"
     ]
    },
    {
     "name": "stderr",
     "output_type": "stream",
     "text": [
      "100%|█████████████████████████████████████████████████████████████████████████████| 2010/2010 [00:03<00:00, 557.96it/s]\n",
      "  3%|██▏                                                                            | 57/2010 [00:00<00:03, 565.69it/s]"
     ]
    },
    {
     "name": "stdout",
     "output_type": "stream",
     "text": [
      "episode : 911 reward : -6.312631316660287\n",
      "total test reward=-35.72800648360718\n"
     ]
    },
    {
     "name": "stderr",
     "output_type": "stream",
     "text": [
      "100%|█████████████████████████████████████████████████████████████████████████████| 2010/2010 [00:03<00:00, 537.00it/s]\n",
      "  3%|██▎                                                                            | 60/2010 [00:00<00:03, 595.45it/s]"
     ]
    },
    {
     "name": "stdout",
     "output_type": "stream",
     "text": [
      "episode : 912 reward : -40.344599913599694\n",
      "total test reward=-12.003375752094069\n"
     ]
    },
    {
     "name": "stderr",
     "output_type": "stream",
     "text": [
      "100%|█████████████████████████████████████████████████████████████████████████████| 2010/2010 [00:04<00:00, 486.22it/s]\n",
      "  2%|█▋                                                                             | 42/2010 [00:00<00:04, 416.96it/s]"
     ]
    },
    {
     "name": "stdout",
     "output_type": "stream",
     "text": [
      "episode : 913 reward : 2.4739088072797415\n",
      "total test reward=-37.289492223827764\n"
     ]
    },
    {
     "name": "stderr",
     "output_type": "stream",
     "text": [
      "100%|█████████████████████████████████████████████████████████████████████████████| 2010/2010 [00:04<00:00, 483.65it/s]\n",
      "  2%|█▊                                                                             | 45/2010 [00:00<00:04, 437.92it/s]"
     ]
    },
    {
     "name": "stdout",
     "output_type": "stream",
     "text": [
      "episode : 914 reward : -69.5941430580263\n",
      "total test reward=-31.53896248927247\n"
     ]
    },
    {
     "name": "stderr",
     "output_type": "stream",
     "text": [
      "100%|█████████████████████████████████████████████████████████████████████████████| 2010/2010 [00:04<00:00, 475.32it/s]\n",
      "  3%|██▎                                                                            | 59/2010 [00:00<00:03, 580.06it/s]"
     ]
    },
    {
     "name": "stdout",
     "output_type": "stream",
     "text": [
      "episode : 915 reward : -54.627519455520314\n",
      "total test reward=-27.452878968321688\n"
     ]
    },
    {
     "name": "stderr",
     "output_type": "stream",
     "text": [
      "100%|█████████████████████████████████████████████████████████████████████████████| 2010/2010 [00:03<00:00, 567.88it/s]\n",
      "  3%|██▏                                                                            | 57/2010 [00:00<00:03, 565.87it/s]"
     ]
    },
    {
     "name": "stdout",
     "output_type": "stream",
     "text": [
      "episode : 916 reward : 78.98095230629394\n",
      "total test reward=5.488216059400048\n"
     ]
    },
    {
     "name": "stderr",
     "output_type": "stream",
     "text": [
      "100%|█████████████████████████████████████████████████████████████████████████████| 2010/2010 [00:03<00:00, 577.31it/s]\n",
      "  3%|██▍                                                                            | 61/2010 [00:00<00:03, 605.39it/s]"
     ]
    },
    {
     "name": "stdout",
     "output_type": "stream",
     "text": [
      "episode : 917 reward : -47.097574450097795\n",
      "total test reward=-2.5030836437323387\n"
     ]
    },
    {
     "name": "stderr",
     "output_type": "stream",
     "text": [
      "100%|█████████████████████████████████████████████████████████████████████████████| 2010/2010 [00:03<00:00, 576.98it/s]\n",
      "  3%|██▏                                                                            | 57/2010 [00:00<00:03, 565.87it/s]"
     ]
    },
    {
     "name": "stdout",
     "output_type": "stream",
     "text": [
      "episode : 918 reward : -49.63813076640332\n",
      "total test reward=-48.90647441022834\n"
     ]
    },
    {
     "name": "stderr",
     "output_type": "stream",
     "text": [
      "100%|█████████████████████████████████████████████████████████████████████████████| 2010/2010 [00:03<00:00, 572.22it/s]\n",
      "  3%|██▍                                                                            | 61/2010 [00:00<00:03, 599.69it/s]"
     ]
    },
    {
     "name": "stdout",
     "output_type": "stream",
     "text": [
      "episode : 919 reward : -37.43871473092321\n",
      "total test reward=-50.79980940646583\n"
     ]
    },
    {
     "name": "stderr",
     "output_type": "stream",
     "text": [
      "100%|█████████████████████████████████████████████████████████████████████████████| 2010/2010 [00:03<00:00, 554.29it/s]\n",
      "  3%|██▏                                                                            | 55/2010 [00:00<00:03, 540.66it/s]"
     ]
    },
    {
     "name": "stdout",
     "output_type": "stream",
     "text": [
      "episode : 920 reward : -12.786838315053785\n",
      "total test reward=-43.616741676065296\n"
     ]
    },
    {
     "name": "stderr",
     "output_type": "stream",
     "text": [
      "100%|█████████████████████████████████████████████████████████████████████████████| 2010/2010 [00:03<00:00, 565.06it/s]\n",
      "  2%|█▉                                                                             | 48/2010 [00:00<00:04, 471.85it/s]"
     ]
    },
    {
     "name": "stdout",
     "output_type": "stream",
     "text": [
      "episode : 921 reward : -2.780732129093593\n",
      "total test reward=-36.86635568905335\n"
     ]
    },
    {
     "name": "stderr",
     "output_type": "stream",
     "text": [
      "100%|█████████████████████████████████████████████████████████████████████████████| 2010/2010 [00:03<00:00, 507.40it/s]\n",
      "  3%|██                                                                             | 54/2010 [00:00<00:03, 531.06it/s]"
     ]
    },
    {
     "name": "stdout",
     "output_type": "stream",
     "text": [
      "episode : 922 reward : -112.22759539363159\n",
      "total test reward=-15.17486326302436\n"
     ]
    },
    {
     "name": "stderr",
     "output_type": "stream",
     "text": [
      "100%|█████████████████████████████████████████████████████████████████████████████| 2010/2010 [00:03<00:00, 545.29it/s]\n",
      "  3%|██▏                                                                            | 57/2010 [00:00<00:03, 565.86it/s]"
     ]
    },
    {
     "name": "stdout",
     "output_type": "stream",
     "text": [
      "episode : 923 reward : -5.7076845905612\n",
      "total test reward=-13.759355699642986\n"
     ]
    },
    {
     "name": "stderr",
     "output_type": "stream",
     "text": [
      "100%|█████████████████████████████████████████████████████████████████████████████| 2010/2010 [00:03<00:00, 543.96it/s]\n",
      "  2%|█▊                                                                             | 46/2010 [00:00<00:04, 452.19it/s]"
     ]
    },
    {
     "name": "stdout",
     "output_type": "stream",
     "text": [
      "episode : 924 reward : -10.469234167227114\n",
      "total test reward=-22.115504157373845\n"
     ]
    },
    {
     "name": "stderr",
     "output_type": "stream",
     "text": [
      "100%|█████████████████████████████████████████████████████████████████████████████| 2010/2010 [00:03<00:00, 555.35it/s]\n",
      "  1%|▉                                                                              | 25/2010 [00:00<00:08, 245.75it/s]"
     ]
    },
    {
     "name": "stdout",
     "output_type": "stream",
     "text": [
      "episode : 925 reward : -35.32178621937078\n",
      "total test reward=-32.74322203858834\n"
     ]
    },
    {
     "name": "stderr",
     "output_type": "stream",
     "text": [
      "100%|█████████████████████████████████████████████████████████████████████████████| 2010/2010 [00:03<00:00, 523.74it/s]\n",
      "  3%|██                                                                             | 54/2010 [00:00<00:03, 530.67it/s]"
     ]
    },
    {
     "name": "stdout",
     "output_type": "stream",
     "text": [
      "episode : 926 reward : -53.50317163042621\n",
      "total test reward=-13.055683399478886\n"
     ]
    },
    {
     "name": "stderr",
     "output_type": "stream",
     "text": [
      "100%|█████████████████████████████████████████████████████████████████████████████| 2010/2010 [00:03<00:00, 558.74it/s]\n",
      "  2%|█▉                                                                             | 49/2010 [00:00<00:04, 486.44it/s]"
     ]
    },
    {
     "name": "stdout",
     "output_type": "stream",
     "text": [
      "episode : 927 reward : -47.89239982210157\n",
      "total test reward=-90.841406582741\n"
     ]
    },
    {
     "name": "stderr",
     "output_type": "stream",
     "text": [
      "100%|█████████████████████████████████████████████████████████████████████████████| 2010/2010 [00:04<00:00, 497.00it/s]\n",
      "  3%|██▏                                                                            | 56/2010 [00:00<00:03, 555.94it/s]"
     ]
    },
    {
     "name": "stdout",
     "output_type": "stream",
     "text": [
      "episode : 928 reward : -35.40774577440018\n",
      "total test reward=-27.63808960779708\n"
     ]
    },
    {
     "name": "stderr",
     "output_type": "stream",
     "text": [
      "100%|█████████████████████████████████████████████████████████████████████████████| 2010/2010 [00:03<00:00, 534.44it/s]\n",
      "  3%|██▎                                                                            | 58/2010 [00:00<00:03, 575.79it/s]"
     ]
    },
    {
     "name": "stdout",
     "output_type": "stream",
     "text": [
      "episode : 929 reward : -16.445587511469654\n",
      "total test reward=-45.346827517960286\n"
     ]
    },
    {
     "name": "stderr",
     "output_type": "stream",
     "text": [
      "100%|█████████████████████████████████████████████████████████████████████████████| 2010/2010 [00:03<00:00, 544.69it/s]\n",
      "  2%|█▊                                                                             | 46/2010 [00:00<00:04, 452.18it/s]"
     ]
    },
    {
     "name": "stdout",
     "output_type": "stream",
     "text": [
      "episode : 930 reward : -10.377468686177679\n",
      "total test reward=-29.328200496590984\n"
     ]
    },
    {
     "name": "stderr",
     "output_type": "stream",
     "text": [
      "100%|█████████████████████████████████████████████████████████████████████████████| 2010/2010 [00:04<00:00, 477.69it/s]\n",
      "  2%|█▊                                                                             | 47/2010 [00:00<00:04, 466.75it/s]"
     ]
    },
    {
     "name": "stdout",
     "output_type": "stream",
     "text": [
      "episode : 931 reward : -60.10972858348319\n",
      "total test reward=-27.821242493127112\n"
     ]
    },
    {
     "name": "stderr",
     "output_type": "stream",
     "text": [
      "100%|█████████████████████████████████████████████████████████████████████████████| 2010/2010 [00:03<00:00, 509.96it/s]\n",
      "  5%|████▏                                                                         | 108/2010 [00:00<00:03, 547.68it/s]"
     ]
    },
    {
     "name": "stdout",
     "output_type": "stream",
     "text": [
      "episode : 932 reward : -56.49763596684636\n",
      "total test reward=-54.61411634587358\n"
     ]
    },
    {
     "name": "stderr",
     "output_type": "stream",
     "text": [
      "100%|█████████████████████████████████████████████████████████████████████████████| 2010/2010 [00:03<00:00, 537.14it/s]\n",
      "  3%|██▍                                                                            | 63/2010 [00:00<00:03, 625.24it/s]"
     ]
    },
    {
     "name": "stdout",
     "output_type": "stream",
     "text": [
      "episode : 933 reward : -38.031684278603194\n",
      "total test reward=-55.49138966183396\n"
     ]
    },
    {
     "name": "stderr",
     "output_type": "stream",
     "text": [
      "100%|█████████████████████████████████████████████████████████████████████████████| 2010/2010 [00:03<00:00, 539.32it/s]\n",
      "  3%|██▍                                                                            | 61/2010 [00:00<00:03, 599.64it/s]"
     ]
    },
    {
     "name": "stdout",
     "output_type": "stream",
     "text": [
      "episode : 934 reward : -37.84069905793771\n",
      "total test reward=-78.8838185335463\n"
     ]
    },
    {
     "name": "stderr",
     "output_type": "stream",
     "text": [
      "100%|█████████████████████████████████████████████████████████████████████████████| 2010/2010 [00:03<00:00, 554.89it/s]\n",
      "  3%|██▎                                                                            | 58/2010 [00:00<00:03, 570.14it/s]"
     ]
    },
    {
     "name": "stdout",
     "output_type": "stream",
     "text": [
      "episode : 935 reward : -72.87145092020177\n",
      "total test reward=-35.41863272112498\n"
     ]
    },
    {
     "name": "stderr",
     "output_type": "stream",
     "text": [
      "100%|█████████████████████████████████████████████████████████████████████████████| 2010/2010 [00:03<00:00, 580.79it/s]\n",
      "  3%|██▎                                                                            | 60/2010 [00:00<00:03, 590.11it/s]"
     ]
    },
    {
     "name": "stdout",
     "output_type": "stream",
     "text": [
      "episode : 936 reward : -37.83038025920419\n",
      "total test reward=-24.85239770732901\n"
     ]
    },
    {
     "name": "stderr",
     "output_type": "stream",
     "text": [
      "100%|█████████████████████████████████████████████████████████████████████████████| 2010/2010 [00:03<00:00, 551.79it/s]\n",
      "  2%|█▋                                                                             | 44/2010 [00:00<00:04, 438.08it/s]"
     ]
    },
    {
     "name": "stdout",
     "output_type": "stream",
     "text": [
      "episode : 937 reward : -26.414629241646793\n",
      "total test reward=-11.535140241209456\n"
     ]
    },
    {
     "name": "stderr",
     "output_type": "stream",
     "text": [
      "100%|█████████████████████████████████████████████████████████████████████████████| 2010/2010 [00:04<00:00, 501.02it/s]\n",
      "  2%|█▉                                                                             | 50/2010 [00:00<00:03, 495.31it/s]"
     ]
    },
    {
     "name": "stdout",
     "output_type": "stream",
     "text": [
      "episode : 938 reward : 4.5743731965071674\n",
      "total test reward=-24.32072850549606\n"
     ]
    },
    {
     "name": "stderr",
     "output_type": "stream",
     "text": [
      "100%|█████████████████████████████████████████████████████████████████████████████| 2010/2010 [00:03<00:00, 511.06it/s]\n",
      "  3%|██                                                                             | 54/2010 [00:00<00:03, 538.52it/s]"
     ]
    },
    {
     "name": "stdout",
     "output_type": "stream",
     "text": [
      "episode : 939 reward : 102.01697724726876\n",
      "total test reward=-36.02031878057724\n"
     ]
    },
    {
     "name": "stderr",
     "output_type": "stream",
     "text": [
      "100%|█████████████████████████████████████████████████████████████████████████████| 2010/2010 [00:03<00:00, 517.44it/s]\n",
      "  2%|█▍                                                                             | 35/2010 [00:00<00:05, 346.59it/s]"
     ]
    },
    {
     "name": "stdout",
     "output_type": "stream",
     "text": [
      "episode : 940 reward : -27.609998801635726\n",
      "total test reward=-55.287811451059156\n"
     ]
    },
    {
     "name": "stderr",
     "output_type": "stream",
     "text": [
      "100%|█████████████████████████████████████████████████████████████████████████████| 2010/2010 [00:04<00:00, 462.36it/s]\n",
      "  2%|█▋                                                                             | 44/2010 [00:00<00:04, 427.35it/s]"
     ]
    },
    {
     "name": "stdout",
     "output_type": "stream",
     "text": [
      "episode : 941 reward : -47.70643758632252\n",
      "total test reward=-19.687966874354736\n"
     ]
    },
    {
     "name": "stderr",
     "output_type": "stream",
     "text": [
      "100%|█████████████████████████████████████████████████████████████████████████████| 2010/2010 [00:04<00:00, 473.82it/s]\n",
      "  3%|██                                                                             | 52/2010 [00:00<00:03, 511.18it/s]"
     ]
    },
    {
     "name": "stdout",
     "output_type": "stream",
     "text": [
      "episode : 942 reward : -62.988171376647756\n",
      "total test reward=-8.865261308125985\n"
     ]
    },
    {
     "name": "stderr",
     "output_type": "stream",
     "text": [
      "100%|█████████████████████████████████████████████████████████████████████████████| 2010/2010 [00:04<00:00, 489.97it/s]\n",
      "  3%|██▏                                                                            | 57/2010 [00:00<00:03, 565.86it/s]"
     ]
    },
    {
     "name": "stdout",
     "output_type": "stream",
     "text": [
      "episode : 943 reward : -47.76148921850097\n",
      "total test reward=-55.56766980090457\n"
     ]
    },
    {
     "name": "stderr",
     "output_type": "stream",
     "text": [
      "100%|█████████████████████████████████████████████████████████████████████████████| 2010/2010 [00:04<00:00, 501.93it/s]\n",
      "  3%|██▏                                                                            | 55/2010 [00:00<00:03, 546.08it/s]"
     ]
    },
    {
     "name": "stdout",
     "output_type": "stream",
     "text": [
      "episode : 944 reward : -36.1030461381327\n",
      "total test reward=-31.438352449485723\n"
     ]
    },
    {
     "name": "stderr",
     "output_type": "stream",
     "text": [
      "100%|█████████████████████████████████████████████████████████████████████████████| 2010/2010 [00:03<00:00, 511.48it/s]\n",
      "  2%|█▉                                                                             | 50/2010 [00:00<00:03, 490.35it/s]"
     ]
    },
    {
     "name": "stdout",
     "output_type": "stream",
     "text": [
      "episode : 945 reward : -51.012856942605055\n",
      "total test reward=-35.86450065848417\n"
     ]
    },
    {
     "name": "stderr",
     "output_type": "stream",
     "text": [
      "100%|█████████████████████████████████████████████████████████████████████████████| 2010/2010 [00:03<00:00, 525.76it/s]\n",
      "  3%|██                                                                             | 53/2010 [00:00<00:03, 525.92it/s]"
     ]
    },
    {
     "name": "stdout",
     "output_type": "stream",
     "text": [
      "episode : 946 reward : -62.33036351932947\n",
      "total test reward=-58.373401582316866\n"
     ]
    },
    {
     "name": "stderr",
     "output_type": "stream",
     "text": [
      "100%|█████████████████████████████████████████████████████████████████████████████| 2010/2010 [00:04<00:00, 460.43it/s]\n",
      "  2%|█▉                                                                             | 49/2010 [00:00<00:04, 486.56it/s]"
     ]
    },
    {
     "name": "stdout",
     "output_type": "stream",
     "text": [
      "episode : 947 reward : -26.16448958559286\n",
      "total test reward=-17.681179058987254\n"
     ]
    },
    {
     "name": "stderr",
     "output_type": "stream",
     "text": [
      "100%|█████████████████████████████████████████████████████████████████████████████| 2010/2010 [00:04<00:00, 495.25it/s]\n",
      "  4%|███▍                                                                           | 89/2010 [00:00<00:04, 445.93it/s]"
     ]
    },
    {
     "name": "stdout",
     "output_type": "stream",
     "text": [
      "episode : 948 reward : -25.720989156023478\n",
      "total test reward=-24.636014038943763\n"
     ]
    },
    {
     "name": "stderr",
     "output_type": "stream",
     "text": [
      "100%|█████████████████████████████████████████████████████████████████████████████| 2010/2010 [00:04<00:00, 434.52it/s]\n",
      "  3%|██                                                                             | 52/2010 [00:00<00:03, 516.23it/s]"
     ]
    },
    {
     "name": "stdout",
     "output_type": "stream",
     "text": [
      "episode : 949 reward : -41.09888078193191\n",
      "total test reward=-31.136778272326058\n"
     ]
    },
    {
     "name": "stderr",
     "output_type": "stream",
     "text": [
      "100%|█████████████████████████████████████████████████████████████████████████████| 2010/2010 [00:04<00:00, 465.56it/s]\n",
      "  3%|██                                                                             | 54/2010 [00:00<00:03, 530.70it/s]"
     ]
    },
    {
     "name": "stdout",
     "output_type": "stream",
     "text": [
      "episode : 950 reward : -57.61989101315146\n",
      "total test reward=-37.01403553421151\n"
     ]
    },
    {
     "name": "stderr",
     "output_type": "stream",
     "text": [
      "100%|█████████████████████████████████████████████████████████████████████████████| 2010/2010 [00:04<00:00, 470.07it/s]\n",
      "  2%|█▊                                                                             | 45/2010 [00:00<00:04, 447.46it/s]"
     ]
    },
    {
     "name": "stdout",
     "output_type": "stream",
     "text": [
      "episode : 951 reward : -2.5643684951112107\n",
      "total test reward=-24.465042804075978\n"
     ]
    },
    {
     "name": "stderr",
     "output_type": "stream",
     "text": [
      "100%|█████████████████████████████████████████████████████████████████████████████| 2010/2010 [00:04<00:00, 492.57it/s]\n",
      "  3%|██▏                                                                            | 56/2010 [00:00<00:03, 558.72it/s]"
     ]
    },
    {
     "name": "stdout",
     "output_type": "stream",
     "text": [
      "episode : 952 reward : -49.76749604552913\n",
      "total test reward=-41.40460985146627\n"
     ]
    },
    {
     "name": "stderr",
     "output_type": "stream",
     "text": [
      "100%|█████████████████████████████████████████████████████████████████████████████| 2010/2010 [00:03<00:00, 508.90it/s]\n",
      "  2%|█▉                                                                             | 49/2010 [00:00<00:04, 476.82it/s]"
     ]
    },
    {
     "name": "stdout",
     "output_type": "stream",
     "text": [
      "episode : 953 reward : -29.95652628848154\n",
      "total test reward=-27.72891547336177\n"
     ]
    },
    {
     "name": "stderr",
     "output_type": "stream",
     "text": [
      "100%|█████████████████████████████████████████████████████████████████████████████| 2010/2010 [00:04<00:00, 494.09it/s]\n",
      "  2%|█▉                                                                             | 50/2010 [00:00<00:03, 496.38it/s]"
     ]
    },
    {
     "name": "stdout",
     "output_type": "stream",
     "text": [
      "episode : 954 reward : -70.74736097976245\n",
      "total test reward=19.370483228733043\n"
     ]
    },
    {
     "name": "stderr",
     "output_type": "stream",
     "text": [
      "100%|█████████████████████████████████████████████████████████████████████████████| 2010/2010 [00:04<00:00, 495.96it/s]\n",
      "  3%|██                                                                             | 52/2010 [00:00<00:03, 514.23it/s]"
     ]
    },
    {
     "name": "stdout",
     "output_type": "stream",
     "text": [
      "episode : 955 reward : 15.751341049057856\n",
      "total test reward=-47.43770364582467\n"
     ]
    },
    {
     "name": "stderr",
     "output_type": "stream",
     "text": [
      "100%|█████████████████████████████████████████████████████████████████████████████| 2010/2010 [00:03<00:00, 516.39it/s]\n",
      "  3%|██                                                                             | 52/2010 [00:00<00:03, 516.11it/s]"
     ]
    },
    {
     "name": "stdout",
     "output_type": "stream",
     "text": [
      "episode : 956 reward : -49.36807850986227\n",
      "total test reward=-47.9928736123302\n"
     ]
    },
    {
     "name": "stderr",
     "output_type": "stream",
     "text": [
      "100%|█████████████████████████████████████████████████████████████████████████████| 2010/2010 [00:04<00:00, 502.31it/s]\n",
      "  2%|█▋                                                                             | 44/2010 [00:00<00:04, 435.60it/s]"
     ]
    },
    {
     "name": "stdout",
     "output_type": "stream",
     "text": [
      "episode : 957 reward : 52.60572630574353\n",
      "total test reward=-8.34847486698133\n"
     ]
    },
    {
     "name": "stderr",
     "output_type": "stream",
     "text": [
      "100%|█████████████████████████████████████████████████████████████████████████████| 2010/2010 [00:04<00:00, 472.69it/s]\n",
      "  3%|██▏                                                                            | 57/2010 [00:00<00:03, 563.02it/s]"
     ]
    },
    {
     "name": "stdout",
     "output_type": "stream",
     "text": [
      "episode : 958 reward : -32.881502620169044\n",
      "total test reward=-30.914583609475983\n"
     ]
    },
    {
     "name": "stderr",
     "output_type": "stream",
     "text": [
      "100%|█████████████████████████████████████████████████████████████████████████████| 2010/2010 [00:04<00:00, 501.65it/s]\n",
      "  2%|█▉                                                                             | 48/2010 [00:00<00:04, 476.41it/s]"
     ]
    },
    {
     "name": "stdout",
     "output_type": "stream",
     "text": [
      "episode : 959 reward : -51.70196004334173\n",
      "total test reward=-33.410639452690575\n"
     ]
    },
    {
     "name": "stderr",
     "output_type": "stream",
     "text": [
      "100%|█████████████████████████████████████████████████████████████████████████████| 2010/2010 [00:04<00:00, 497.48it/s]\n",
      "  3%|██                                                                             | 53/2010 [00:00<00:03, 519.56it/s]"
     ]
    },
    {
     "name": "stdout",
     "output_type": "stream",
     "text": [
      "episode : 960 reward : 261.7702621258785\n",
      "total test reward=-42.64479163224383\n"
     ]
    },
    {
     "name": "stderr",
     "output_type": "stream",
     "text": [
      "100%|█████████████████████████████████████████████████████████████████████████████| 2010/2010 [00:04<00:00, 477.01it/s]\n",
      "  3%|██▏                                                                            | 56/2010 [00:00<00:03, 550.49it/s]"
     ]
    },
    {
     "name": "stdout",
     "output_type": "stream",
     "text": [
      "episode : 961 reward : -12.28531809258871\n",
      "total test reward=-44.2640268965627\n"
     ]
    },
    {
     "name": "stderr",
     "output_type": "stream",
     "text": [
      "100%|█████████████████████████████████████████████████████████████████████████████| 2010/2010 [00:04<00:00, 482.67it/s]\n",
      "  3%|██▏                                                                            | 56/2010 [00:00<00:03, 555.93it/s]"
     ]
    },
    {
     "name": "stdout",
     "output_type": "stream",
     "text": [
      "episode : 962 reward : -49.935420503471164\n",
      "total test reward=-43.458375178496055\n"
     ]
    },
    {
     "name": "stderr",
     "output_type": "stream",
     "text": [
      "100%|█████████████████████████████████████████████████████████████████████████████| 2010/2010 [00:03<00:00, 543.23it/s]\n",
      "  3%|██                                                                             | 54/2010 [00:00<00:03, 535.92it/s]"
     ]
    },
    {
     "name": "stdout",
     "output_type": "stream",
     "text": [
      "episode : 963 reward : -25.519967231315178\n",
      "total test reward=-33.28557102517914\n"
     ]
    },
    {
     "name": "stderr",
     "output_type": "stream",
     "text": [
      "100%|█████████████████████████████████████████████████████████████████████████████| 2010/2010 [00:04<00:00, 490.35it/s]\n",
      "  3%|██▎                                                                            | 58/2010 [00:00<00:03, 575.79it/s]"
     ]
    },
    {
     "name": "stdout",
     "output_type": "stream",
     "text": [
      "episode : 964 reward : -18.663287510679652\n",
      "total test reward=-13.471284186795463\n"
     ]
    },
    {
     "name": "stderr",
     "output_type": "stream",
     "text": [
      "100%|█████████████████████████████████████████████████████████████████████████████| 2010/2010 [00:03<00:00, 557.96it/s]\n",
      "  2%|█▊                                                                             | 47/2010 [00:00<00:04, 461.86it/s]"
     ]
    },
    {
     "name": "stdout",
     "output_type": "stream",
     "text": [
      "episode : 965 reward : -54.981501675301644\n",
      "total test reward=-46.73909169366787\n"
     ]
    },
    {
     "name": "stderr",
     "output_type": "stream",
     "text": [
      "100%|█████████████████████████████████████████████████████████████████████████████| 2010/2010 [00:03<00:00, 527.03it/s]\n",
      "  6%|████▋                                                                         | 120/2010 [00:00<00:03, 599.47it/s]"
     ]
    },
    {
     "name": "stdout",
     "output_type": "stream",
     "text": [
      "episode : 966 reward : -22.51942253110667\n",
      "total test reward=-39.62317631784025\n"
     ]
    },
    {
     "name": "stderr",
     "output_type": "stream",
     "text": [
      "100%|█████████████████████████████████████████████████████████████████████████████| 2010/2010 [00:03<00:00, 574.83it/s]\n",
      "  3%|██▌                                                                            | 64/2010 [00:00<00:03, 629.08it/s]"
     ]
    },
    {
     "name": "stdout",
     "output_type": "stream",
     "text": [
      "episode : 967 reward : -50.34550115144441\n",
      "total test reward=-63.73106939843149\n"
     ]
    },
    {
     "name": "stderr",
     "output_type": "stream",
     "text": [
      "100%|█████████████████████████████████████████████████████████████████████████████| 2010/2010 [00:03<00:00, 588.95it/s]\n",
      "  3%|██▌                                                                            | 65/2010 [00:00<00:03, 638.80it/s]"
     ]
    },
    {
     "name": "stdout",
     "output_type": "stream",
     "text": [
      "episode : 968 reward : -60.714195415140125\n",
      "total test reward=-29.03136301510845\n"
     ]
    },
    {
     "name": "stderr",
     "output_type": "stream",
     "text": [
      "100%|█████████████████████████████████████████████████████████████████████████████| 2010/2010 [00:03<00:00, 597.14it/s]\n",
      "  3%|██▌                                                                            | 64/2010 [00:00<00:03, 629.13it/s]"
     ]
    },
    {
     "name": "stdout",
     "output_type": "stream",
     "text": [
      "episode : 969 reward : -38.47842159981013\n",
      "total test reward=-32.028159757331544\n"
     ]
    },
    {
     "name": "stderr",
     "output_type": "stream",
     "text": [
      "100%|█████████████████████████████████████████████████████████████████████████████| 2010/2010 [00:03<00:00, 583.74it/s]\n",
      "  6%|████▌                                                                         | 117/2010 [00:00<00:03, 582.29it/s]"
     ]
    },
    {
     "name": "stdout",
     "output_type": "stream",
     "text": [
      "episode : 970 reward : -75.41806140936544\n",
      "total test reward=-26.61415620070813\n"
     ]
    },
    {
     "name": "stderr",
     "output_type": "stream",
     "text": [
      "100%|█████████████████████████████████████████████████████████████████████████████| 2010/2010 [00:03<00:00, 587.75it/s]\n",
      "  3%|██▎                                                                            | 58/2010 [00:00<00:03, 575.60it/s]"
     ]
    },
    {
     "name": "stdout",
     "output_type": "stream",
     "text": [
      "episode : 971 reward : -37.7264464671959\n",
      "total test reward=-21.993836181057617\n"
     ]
    },
    {
     "name": "stderr",
     "output_type": "stream",
     "text": [
      "100%|█████████████████████████████████████████████████████████████████████████████| 2010/2010 [00:03<00:00, 591.71it/s]\n",
      "  3%|██▎                                                                            | 58/2010 [00:00<00:03, 569.96it/s]"
     ]
    },
    {
     "name": "stdout",
     "output_type": "stream",
     "text": [
      "episode : 972 reward : -34.7889615538416\n",
      "total test reward=-43.13027562232767\n"
     ]
    },
    {
     "name": "stderr",
     "output_type": "stream",
     "text": [
      "100%|█████████████████████████████████████████████████████████████████████████████| 2010/2010 [00:03<00:00, 587.74it/s]\n",
      "  3%|██▍                                                                            | 62/2010 [00:00<00:03, 609.28it/s]"
     ]
    },
    {
     "name": "stdout",
     "output_type": "stream",
     "text": [
      "episode : 973 reward : -10.736574778796978\n",
      "total test reward=-23.171518343734412\n"
     ]
    },
    {
     "name": "stderr",
     "output_type": "stream",
     "text": [
      "100%|█████████████████████████████████████████████████████████████████████████████| 2010/2010 [00:03<00:00, 544.84it/s]\n",
      "  3%|██▎                                                                            | 60/2010 [00:00<00:03, 595.50it/s]"
     ]
    },
    {
     "name": "stdout",
     "output_type": "stream",
     "text": [
      "episode : 974 reward : -93.22483426025974\n",
      "total test reward=-26.396556289356898\n"
     ]
    },
    {
     "name": "stderr",
     "output_type": "stream",
     "text": [
      "100%|█████████████████████████████████████████████████████████████████████████████| 2010/2010 [00:03<00:00, 534.72it/s]\n",
      "  6%|████▌                                                                         | 119/2010 [00:00<00:03, 582.82it/s]"
     ]
    },
    {
     "name": "stdout",
     "output_type": "stream",
     "text": [
      "episode : 975 reward : -10.657013230633055\n",
      "total test reward=-50.32192328186526\n"
     ]
    },
    {
     "name": "stderr",
     "output_type": "stream",
     "text": [
      "100%|█████████████████████████████████████████████████████████████████████████████| 2010/2010 [00:03<00:00, 513.23it/s]\n",
      "  2%|█▋                                                                             | 43/2010 [00:00<00:04, 422.70it/s]"
     ]
    },
    {
     "name": "stdout",
     "output_type": "stream",
     "text": [
      "episode : 976 reward : -13.912210053272048\n",
      "total test reward=-44.4513151785821\n"
     ]
    },
    {
     "name": "stderr",
     "output_type": "stream",
     "text": [
      "100%|█████████████████████████████████████████████████████████████████████████████| 2010/2010 [00:04<00:00, 481.92it/s]\n",
      "  2%|█▌                                                                             | 41/2010 [00:00<00:04, 396.63it/s]"
     ]
    },
    {
     "name": "stdout",
     "output_type": "stream",
     "text": [
      "episode : 977 reward : -68.33323737962519\n",
      "total test reward=-43.04410936543406\n"
     ]
    },
    {
     "name": "stderr",
     "output_type": "stream",
     "text": [
      "100%|█████████████████████████████████████████████████████████████████████████████| 2010/2010 [00:03<00:00, 557.64it/s]\n",
      "  3%|██▏                                                                            | 57/2010 [00:00<00:03, 565.86it/s]"
     ]
    },
    {
     "name": "stdout",
     "output_type": "stream",
     "text": [
      "episode : 978 reward : -13.054023748516585\n",
      "total test reward=-43.60834687920947\n"
     ]
    },
    {
     "name": "stderr",
     "output_type": "stream",
     "text": [
      "100%|█████████████████████████████████████████████████████████████████████████████| 2010/2010 [00:03<00:00, 580.63it/s]\n",
      "  3%|██▍                                                                            | 63/2010 [00:00<00:03, 619.30it/s]"
     ]
    },
    {
     "name": "stdout",
     "output_type": "stream",
     "text": [
      "episode : 979 reward : -41.69568309967909\n",
      "total test reward=-7.704848099960429\n"
     ]
    },
    {
     "name": "stderr",
     "output_type": "stream",
     "text": [
      "100%|█████████████████████████████████████████████████████████████████████████████| 2010/2010 [00:03<00:00, 593.81it/s]\n",
      "  3%|██▍                                                                            | 61/2010 [00:00<00:03, 605.32it/s]"
     ]
    },
    {
     "name": "stdout",
     "output_type": "stream",
     "text": [
      "episode : 980 reward : -42.165856449206984\n",
      "total test reward=-30.971807014646537\n"
     ]
    },
    {
     "name": "stderr",
     "output_type": "stream",
     "text": [
      "100%|█████████████████████████████████████████████████████████████████████████████| 2010/2010 [00:03<00:00, 597.80it/s]\n",
      "  3%|██▍                                                                            | 62/2010 [00:00<00:03, 609.79it/s]"
     ]
    },
    {
     "name": "stdout",
     "output_type": "stream",
     "text": [
      "episode : 981 reward : 10.07866713210089\n",
      "total test reward=-44.13086455207805\n"
     ]
    },
    {
     "name": "stderr",
     "output_type": "stream",
     "text": [
      "100%|█████████████████████████████████████████████████████████████████████████████| 2010/2010 [00:03<00:00, 595.77it/s]\n",
      "  3%|██▍                                                                            | 63/2010 [00:00<00:03, 625.24it/s]"
     ]
    },
    {
     "name": "stdout",
     "output_type": "stream",
     "text": [
      "episode : 982 reward : -22.032996450739205\n",
      "total test reward=-22.889578984252488\n"
     ]
    },
    {
     "name": "stderr",
     "output_type": "stream",
     "text": [
      "100%|█████████████████████████████████████████████████████████████████████████████| 2010/2010 [00:03<00:00, 596.26it/s]\n",
      "  6%|████▋                                                                         | 120/2010 [00:00<00:03, 595.51it/s]"
     ]
    },
    {
     "name": "stdout",
     "output_type": "stream",
     "text": [
      "episode : 983 reward : -37.92423526892466\n",
      "total test reward=-35.96643636282677\n"
     ]
    },
    {
     "name": "stderr",
     "output_type": "stream",
     "text": [
      "100%|█████████████████████████████████████████████████████████████████████████████| 2010/2010 [00:03<00:00, 588.39it/s]\n",
      "  3%|██▎                                                                            | 60/2010 [00:00<00:03, 595.65it/s]"
     ]
    },
    {
     "name": "stdout",
     "output_type": "stream",
     "text": [
      "episode : 984 reward : -58.67202182687879\n",
      "total test reward=-72.90175681322947\n"
     ]
    },
    {
     "name": "stderr",
     "output_type": "stream",
     "text": [
      "100%|█████████████████████████████████████████████████████████████████████████████| 2010/2010 [00:03<00:00, 605.25it/s]\n",
      "  3%|██▌                                                                            | 65/2010 [00:00<00:03, 645.27it/s]"
     ]
    },
    {
     "name": "stdout",
     "output_type": "stream",
     "text": [
      "episode : 985 reward : -26.077041649016195\n",
      "total test reward=-35.88305321449067\n"
     ]
    },
    {
     "name": "stderr",
     "output_type": "stream",
     "text": [
      "100%|█████████████████████████████████████████████████████████████████████████████| 2010/2010 [00:03<00:00, 586.04it/s]\n",
      "  6%|████▊                                                                         | 124/2010 [00:00<00:03, 619.34it/s]"
     ]
    },
    {
     "name": "stdout",
     "output_type": "stream",
     "text": [
      "episode : 986 reward : -5.457893090677146\n",
      "total test reward=-26.08554950748144\n"
     ]
    },
    {
     "name": "stderr",
     "output_type": "stream",
     "text": [
      "100%|█████████████████████████████████████████████████████████████████████████████| 2010/2010 [00:03<00:00, 597.69it/s]\n",
      "  3%|██▍                                                                            | 63/2010 [00:00<00:03, 625.23it/s]"
     ]
    },
    {
     "name": "stdout",
     "output_type": "stream",
     "text": [
      "episode : 987 reward : -22.346784953781878\n",
      "total test reward=-97.28460419491651\n"
     ]
    },
    {
     "name": "stderr",
     "output_type": "stream",
     "text": [
      "100%|█████████████████████████████████████████████████████████████████████████████| 2010/2010 [00:03<00:00, 607.38it/s]\n",
      "  3%|██▍                                                                            | 63/2010 [00:00<00:03, 625.44it/s]"
     ]
    },
    {
     "name": "stdout",
     "output_type": "stream",
     "text": [
      "episode : 988 reward : -38.317891072904104\n",
      "total test reward=-40.29350795890731\n"
     ]
    },
    {
     "name": "stderr",
     "output_type": "stream",
     "text": [
      "100%|█████████████████████████████████████████████████████████████████████████████| 2010/2010 [00:03<00:00, 604.49it/s]\n",
      "  3%|██▍                                                                            | 62/2010 [00:00<00:03, 615.30it/s]"
     ]
    },
    {
     "name": "stdout",
     "output_type": "stream",
     "text": [
      "episode : 989 reward : 10.361739792592516\n",
      "total test reward=-42.9038294924679\n"
     ]
    },
    {
     "name": "stderr",
     "output_type": "stream",
     "text": [
      "100%|█████████████████████████████████████████████████████████████████████████████| 2010/2010 [00:03<00:00, 606.12it/s]\n",
      "  3%|██                                                                             | 52/2010 [00:00<00:03, 518.64it/s]"
     ]
    },
    {
     "name": "stdout",
     "output_type": "stream",
     "text": [
      "episode : 990 reward : -78.41015792833883\n",
      "total test reward=-6.847907275665778\n"
     ]
    },
    {
     "name": "stderr",
     "output_type": "stream",
     "text": [
      "100%|█████████████████████████████████████████████████████████████████████████████| 2010/2010 [00:03<00:00, 577.48it/s]\n",
      "  3%|██▌                                                                            | 64/2010 [00:00<00:03, 629.13it/s]"
     ]
    },
    {
     "name": "stdout",
     "output_type": "stream",
     "text": [
      "episode : 991 reward : -28.199633834518693\n",
      "total test reward=-37.12505429575263\n"
     ]
    },
    {
     "name": "stderr",
     "output_type": "stream",
     "text": [
      "100%|█████████████████████████████████████████████████████████████████████████████| 2010/2010 [00:03<00:00, 612.58it/s]\n",
      "  3%|██▏                                                                            | 57/2010 [00:00<00:03, 565.86it/s]"
     ]
    },
    {
     "name": "stdout",
     "output_type": "stream",
     "text": [
      "episode : 992 reward : 3.1888906036393507\n",
      "total test reward=-21.928258205419873\n"
     ]
    },
    {
     "name": "stderr",
     "output_type": "stream",
     "text": [
      "100%|█████████████████████████████████████████████████████████████████████████████| 2010/2010 [00:03<00:00, 585.52it/s]\n",
      "  6%|████▋                                                                         | 120/2010 [00:00<00:03, 571.77it/s]"
     ]
    },
    {
     "name": "stdout",
     "output_type": "stream",
     "text": [
      "episode : 993 reward : -41.17044741998325\n",
      "total test reward=-39.88759664215847\n"
     ]
    },
    {
     "name": "stderr",
     "output_type": "stream",
     "text": [
      "100%|█████████████████████████████████████████████████████████████████████████████| 2010/2010 [00:03<00:00, 609.54it/s]\n",
      "  3%|██▍                                                                            | 62/2010 [00:00<00:03, 609.47it/s]"
     ]
    },
    {
     "name": "stdout",
     "output_type": "stream",
     "text": [
      "episode : 994 reward : -28.14055334366222\n",
      "total test reward=-32.37227731674442\n"
     ]
    },
    {
     "name": "stderr",
     "output_type": "stream",
     "text": [
      "100%|█████████████████████████████████████████████████████████████████████████████| 2010/2010 [00:03<00:00, 617.80it/s]\n",
      "  2%|█▌                                                                             | 40/2010 [00:00<00:04, 397.83it/s]"
     ]
    },
    {
     "name": "stdout",
     "output_type": "stream",
     "text": [
      "episode : 995 reward : -13.076710831297845\n",
      "total test reward=-20.14935328593439\n"
     ]
    },
    {
     "name": "stderr",
     "output_type": "stream",
     "text": [
      "100%|█████████████████████████████████████████████████████████████████████████████| 2010/2010 [00:03<00:00, 594.68it/s]\n",
      "  3%|██▎                                                                            | 59/2010 [00:00<00:03, 580.19it/s]"
     ]
    },
    {
     "name": "stdout",
     "output_type": "stream",
     "text": [
      "episode : 996 reward : -57.22182315395179\n",
      "total test reward=-20.92047301770297\n"
     ]
    },
    {
     "name": "stderr",
     "output_type": "stream",
     "text": [
      "100%|█████████████████████████████████████████████████████████████████████████████| 2010/2010 [00:03<00:00, 589.09it/s]\n",
      "  3%|██▍                                                                            | 62/2010 [00:00<00:03, 615.51it/s]"
     ]
    },
    {
     "name": "stdout",
     "output_type": "stream",
     "text": [
      "episode : 997 reward : -39.292977088203315\n",
      "total test reward=-45.655550387237405\n"
     ]
    },
    {
     "name": "stderr",
     "output_type": "stream",
     "text": [
      "100%|█████████████████████████████████████████████████████████████████████████████| 2010/2010 [00:03<00:00, 622.61it/s]\n",
      "  3%|██▋                                                                            | 67/2010 [00:00<00:02, 658.61it/s]"
     ]
    },
    {
     "name": "stdout",
     "output_type": "stream",
     "text": [
      "episode : 998 reward : -43.275693223241774\n",
      "total test reward=-62.04974349800523\n"
     ]
    },
    {
     "name": "stderr",
     "output_type": "stream",
     "text": [
      "100%|█████████████████████████████████████████████████████████████████████████████| 2010/2010 [00:03<00:00, 625.30it/s]\n"
     ]
    },
    {
     "name": "stdout",
     "output_type": "stream",
     "text": [
      "episode : 999 reward : -29.852312890918512\n",
      "total test reward=-39.396595646841305\n"
     ]
    },
    {
     "data": {
      "text/plain": [
       "[<matplotlib.lines.Line2D at 0x1aa57a41988>,\n",
       " <matplotlib.lines.Line2D at 0x1aa57a41b08>]"
      ]
     },
     "execution_count": 2,
     "metadata": {},
     "output_type": "execute_result"
    },
    {
     "data": {
      "image/png": "[encoded data removed]",
      "text/plain": [
       "<Figure size 432x288 with 1 Axes>"
      ]
     },
     "metadata": {
      "needs_background": "light"
     },
     "output_type": "display_data"
    }
   ],
   "source": [
    "from tensorflow.keras.callbacks import TensorBoard\n",
    "from tensorflow.keras.layers import Input, Dense, Conv2D, MaxPooling2D, Flatten\n",
    "from tensorflow.keras.models import Model\n",
    "from tensorflow.keras.optimizers import Adam\n",
    "from tensorflow.keras import backend as K\n",
    "from tensorflow.keras.applications.mobilenet_v2 import MobileNetV2\n",
    "\n",
    "\n",
    "import tensorflow\n",
    "from tensorflow.keras.layers import Dense\n",
    "from tensorflow.keras.layers import  ReLU#,TanH\n",
    "TanH=tensorflow.keras.layers.Activation('tanh')\n",
    "Sigmoid=tensorflow.keras.layers.Activation('sigmoid')\n",
    "\n",
    "\n",
    "\n",
    "class Actor(Model):\n",
    "  def __init__(self,n_act):\n",
    "    super(Actor, self).__init__()\n",
    "    self.d1 = Dense(512, activation='relu')\n",
    "    self.d2 = Dense(256, activation='relu')\n",
    "    self.mean = Dense(n_act)\n",
    "    self.tanh  = TanH\n",
    "    self.sigmoid  = Sigmoid\n",
    "    self.std = Dense(n_act)\n",
    "\n",
    "  def call(self, x):\n",
    "    \n",
    "    x = self.d1(x)\n",
    "    x = self.d2(x)\n",
    "    #x = self.d3(x)\n",
    "    #x = self.d4(x)\n",
    "    mean = self.mean(x)\n",
    "    mean = self.tanh(mean)\n",
    "    std = self.std(x)\n",
    "    std = self.sigmoid(std)\n",
    "    return mean,std+10e-10\n",
    "\n",
    "\n",
    "class Critic(Model):\n",
    "  def __init__(self):\n",
    "    super(Critic, self).__init__()\n",
    "    self.d1 = Dense(512, activation='relu')\n",
    "    self.d2 = Dense(256, activation='relu')\n",
    "    #self.d3 = Dense(5, activation='relu')\n",
    "    #self.d4 = Dense(6, activation='relu')\n",
    "    self.value = Dense(1)\n",
    "    \n",
    "\n",
    "  def call(self, x):\n",
    "    \n",
    "    x = self.d1(x)\n",
    "    x = self.d2(x)\n",
    "    #x = self.d3(x)\n",
    "    #x = self.d4(x)\n",
    "    value = self.value(x)\n",
    "    return value\n",
    "\n",
    "class ppo_model():\n",
    "    def __init__(self):\n",
    "        self._actor=Actor(n_act)\n",
    "        self._critic=Critic()\n",
    "        self._debug = False\n",
    "        self._actor_opt= Adam(0.001)\n",
    "        self._critic_opt= Adam(0.001)\n",
    "        self.value_coef=0.5\n",
    "        self.entropy_coef=0.01\n",
    "        self._gamma=0.99\n",
    "        self._lambda=0.95\n",
    "        self.clip_epsilon=0.05\n",
    "        self._advantage=10\n",
    "        \n",
    "    def get_advantages(self,values, masks, rewards):\n",
    "        target_qvals = []\n",
    "        for i in range(len(rewards)-self._advantage):\n",
    "            _values=values[i:i+self._advantage+1]\n",
    "            _rewards=rewards[i:i+self._advantage]\n",
    "            _masks=masks[i:i+self._advantage]\n",
    "            gae = 0\n",
    "            for j in reversed(range(self._advantage)):\n",
    "                delta = _rewards[j] + self._gamma * _values[j + 1] * _masks[j] - _values[j]\n",
    "                gae = delta + self._gamma * self._lambda * _masks[j] * gae\n",
    "            target_qvals.append(gae + _values[0])\n",
    "        target_qvals = np.array(target_qvals)\n",
    "        adv = np.array(target_qvals) - values[:-self._advantage-1]\n",
    "        return target_qvals, (adv - np.mean(adv)) / (np.std(adv) + 1e-10)\n",
    "    \n",
    "    def _get_advantages(self,values, masks, rewards):\n",
    "        target_qvals = []\n",
    "        gae=0\n",
    "        for i in reversed(range(len(rewards))):\n",
    "                delta = rewards[j] + self.gamma * values[j + 1] * masks[j] - values[j]\n",
    "                gae = delta + self._gamma * self._lambda * masks[j] * gae\n",
    "        target_qvals.append(gae + _values[0])\n",
    "        target_qvals = np.array(target_qvals)\n",
    "        adv = np.array(target_qvals) - values[:-self._advantage-1]\n",
    "        return target_qvals, (adv - np.mean(adv)) / (np.std(adv) + 1e-10)\n",
    "\n",
    "    def actor_loss(self,mean,std,old_mean,old_std,old_action,advantage_raw):#, rewards, values):\n",
    "            old_probs = self.get_log_probs(old_action,old_mean,old_std)\n",
    "            new_probs = self.get_log_probs(old_action,mean,std)\n",
    "            entropy_loss = self.get_entropy(std)\n",
    "            ratio = K.exp(new_probs-old_probs)\n",
    "            p1 = ratio * advantage_raw\n",
    "            p2 = K.clip(ratio, min_value=1 - self.clip_epsilon, max_value=1 + self.clip_epsilon) * advantage_raw\n",
    "            actor_loss = K.mean(K.minimum(p1, p2))\n",
    "            total_loss =   -actor_loss - self.entropy_coef * entropy_loss \n",
    "            #tf.print('A',tf.reduce_sum(new_probs),tf.reduce_sum(old_probs),'B',tf.reduce_sum(ratio))\n",
    "            return total_loss\n",
    "\n",
    "    @tf.function\n",
    "    def train_actor(self,curr_states,_old_mean,_old_std,_old_actions,_advantage_raw):\n",
    "             _advantage_raw=tf.cast(_advantage_raw,tf.float32)\n",
    "             with tf.GradientTape() as tape:\n",
    "                  mean,std = self._actor(curr_states, training=True)\n",
    "                  if self._debug ==True :tf.print('1 : train_actor :',tf.reduce_sum(curr_states),tf.reduce_sum(mean),tf.reduce_sum(std))\n",
    "                  _act_loss = self.actor_loss(mean,std,_old_mean,_old_std,_old_actions,_advantage_raw)\n",
    "                  gradients = tape.gradient(_act_loss, self._actor.trainable_variables)\n",
    "                  self._actor_opt.apply_gradients(zip(gradients, self._actor.trainable_variables))\n",
    "                  #tf.print('actor grad : ',gradients[0])\n",
    "             return  _act_loss\n",
    "\n",
    "    @tf.function          \n",
    "    def critic_loss(self,_values,_target_rewards):\n",
    "            batch_size=_values.shape[0]\n",
    "            critic_loss=self.value_coef*2*tf.reduce_sum(tf.square(_target_rewards-_values))/batch_size\n",
    "            return critic_loss\n",
    "        \n",
    "    @tf.function\n",
    "    def train_critic(self,_states,_target_rewards):\n",
    "            with tf.GradientTape() as tape:\n",
    "                _values=self._critic(_states)\n",
    "                _values=tf.cast(_values,tf.float32)\n",
    "                _target_rewards=tf.cast(_target_rewards,tf.float32)\n",
    "                _critic_loss=self.critic_loss(_values,_target_rewards)\n",
    "                gradients = tape.gradient(_critic_loss, self._critic.trainable_variables)\n",
    "                self._critic_opt.apply_gradients(zip(gradients, self._critic.trainable_variables))\n",
    "                #tf.print('critic grad : ',gradients[0])\n",
    "            return _critic_loss\n",
    "    @tf.function\n",
    "    def get_log_probs(self,_actions,mean,std):\n",
    "        _actions=tf.cast(_actions,tf.float32)\n",
    "        mean=tf.cast(mean,tf.float32)\n",
    "        std=tf.cast(std,tf.float32)\n",
    "        _var = -0.5*((_actions-mean)/(std))**2\n",
    "        _coef = 1/(std*tf.sqrt(2*np.pi)) \n",
    "        \n",
    "        _probs = _coef*tf.cast(tf.exp(_var),tf.float32)\n",
    "        #_probs = tf.abs(_probs+ )\n",
    "        log_probs = tf.math.log(_probs)\n",
    "        #if _debug==True:\n",
    "        #    tf.print('2 : log_prob : _var  ',tf.reduce_sum(_var),tf.reduce_sum(_coef),tf.reduce_sum(_actions))\n",
    "        #    tf.print('2 : log_prob : _probs',tf.reduce_sum(_probs),tf.reduce_sum(log_probs))\n",
    "        return log_probs\n",
    "    def get_entropy(self,std):\n",
    "        entropy = 0.5 * (tf.math.log(2 * np.pi * std ** 2) + 1)\n",
    "        return entropy\n",
    "\n",
    "\n",
    "\n",
    "\n",
    "def test_reward():\n",
    "    state = env.reset()\n",
    "    done = False\n",
    "    total_reward = 0\n",
    "    while not done:\n",
    "        state_input = K.expand_dims(state, 0)\n",
    "        mean,std = _model._actor(state_input)\n",
    "        act=np.random.normal(mean,std)[0]\n",
    "        next_state, reward, done, _ = env.step(mean[0])\n",
    "        if reward == -100:\n",
    "            reward=-2\n",
    "        state = next_state\n",
    "        total_reward += reward\n",
    "        \n",
    "    return total_reward\n",
    "    \n",
    "image_based = False\n",
    "\n",
    "env=gym.make('LunarLanderContinuous-v2')\n",
    "env.seed(seed)\n",
    "state = env.reset()\n",
    "n_state = env.observation_space.shape[0]\n",
    "n_act = env.action_space.shape[0]\n",
    "\n",
    "_model=ppo_model()\n",
    "ppo_steps = 2000\n",
    "train_epochs = 5\n",
    "batch_size = 200\n",
    "target_reached = False\n",
    "best_reward = 0\n",
    "iters = 0\n",
    "episodes = 1000\n",
    "adv=_model._advantage\n",
    "rewards_log=[]\n",
    "max_reward=0\n",
    "for episode in range(episodes):\n",
    "\n",
    "    curr_states = []\n",
    "    old_actions = []\n",
    "    old_probs =[]\n",
    "    values = []\n",
    "    masks = []\n",
    "    rewards = []\n",
    "    old_means = []\n",
    "    old_stds  = []\n",
    "    state_input = None\n",
    "    sum_reward=0\n",
    "    sum_reward_log=0\n",
    "    for itr in trange(ppo_steps+adv):\n",
    "        state_input = K.expand_dims(state, 0)\n",
    "        mean,std = _model._actor(state_input)\n",
    "        q_value  = _model._critic(state_input)\n",
    "        action = np.random.normal(mean,std)[0]\n",
    "        #prob=get_log_probs(action,mean,std)\n",
    "        observation, reward, done, info = env.step(action)\n",
    "        if reward == -100:\n",
    "            reward=-2\n",
    "        #print('itration: ' + str(itr) + ', action=' + str(action) + ', reward=' + str(reward) + ', q val=' + str(q_value.numpy()))\n",
    "        mask = not done\n",
    "\n",
    "        curr_states.append(state)\n",
    "        old_actions.append(action)\n",
    "        #old_probs.append(prob)\n",
    "        old_means.append(mean)\n",
    "        old_stds.append(std)\n",
    "        values.append(q_value)\n",
    "        masks.append(mask)\n",
    "        rewards.append(reward)\n",
    "        sum_reward+=reward\n",
    "\n",
    "        state = observation\n",
    "        if done:\n",
    "            sum_reward_log=copy(sum_reward)\n",
    "            sum_reward=0\n",
    "            env.reset()\n",
    "        \n",
    "    state_input=K.expand_dims(state, 0)\n",
    "    q_value = _model._critic(state_input)\n",
    "    values.append(q_value)\n",
    "    _curr_states=np.array(curr_states).reshape(-1,n_state)\n",
    "    _old_actions=np.array(old_actions).reshape(-1,n_act)\n",
    "    _old_means=np.array(old_means).reshape(-1,n_act)\n",
    "    _old_stds=np.array(old_stds).reshape(-1,n_act)\n",
    "    _values=np.array(values).reshape(-1,1)\n",
    "    _rewards=np.array(rewards).reshape(-1,1)\n",
    "    _masks  = np.array(masks).reshape(-1,1)\n",
    "    \n",
    "    _target_qvals, _advantages = _model.get_advantages(_values, _masks, _rewards)\n",
    "    for _ in range(train_epochs):\n",
    "        no_of_batch=(ppo_steps//batch_size)\n",
    "        index=np.arange(ppo_steps)\n",
    "        np.random.shuffle(index)\n",
    "        for batch in range(no_of_batch):\n",
    "            _ind=index[batch*batch_size:(batch+1)*batch_size]\n",
    "            _model.train_actor(_curr_states[_ind],_old_means[_ind],_old_stds[_ind],_old_actions[_ind],_advantages[_ind])\n",
    "            _model.train_critic(_curr_states[_ind],_target_qvals[_ind])                            \n",
    "\n",
    "    avg_reward = np.mean([test_reward() for _ in range(5)])\n",
    "    print('episode :',episode,'reward :',sum_reward_log)   \n",
    "    print('total test reward=' + str(avg_reward))\n",
    "    if avg_reward >=max_reward:\n",
    "        _model._actor.save_weights('ppo_best_actor_lunar.hdf5')\n",
    "        _model._critic.save_weights('ppo_best_critic_lunar'+'.hdf5')\n",
    "        best_eps=episode\n",
    "        max_reward = avg_reward\n",
    "    rewards_log.append([sum_reward_log,avg_reward])\n",
    "    iters += 1\n",
    "    env.reset()\n",
    "\n",
    "env.close()\n",
    "plt.plot(rewards_log)"
   ]
  },
  {
   "cell_type": "code",
   "execution_count": 3,
   "metadata": {},
   "outputs": [
    {
     "data": {
      "text/plain": [
       "(2000, 1)"
      ]
     },
     "execution_count": 3,
     "metadata": {},
     "output_type": "execute_result"
    }
   ],
   "source": [
    "_target_qvals.shape"
   ]
  },
  {
   "cell_type": "code",
   "execution_count": 4,
   "metadata": {},
   "outputs": [
    {
     "data": {
      "text/plain": [
       "array([-0.34142235,  0.21836315], dtype=float32)"
      ]
     },
     "execution_count": 4,
     "metadata": {},
     "output_type": "execute_result"
    }
   ],
   "source": [
    "env.action_space.sample()"
   ]
  },
  {
   "cell_type": "code",
   "execution_count": 5,
   "metadata": {},
   "outputs": [],
   "source": [
    "#_model._actor.save_weights('ppo-1000.hdf5')\n",
    "import pickle\n",
    "f=open('ppo-lunar-loss.pkl','wb')\n",
    "pickle.dump(rewards_log,f)\n",
    "f.close()"
   ]
  },
  {
   "cell_type": "code",
   "execution_count": 6,
   "metadata": {},
   "outputs": [],
   "source": [
    "#_model._actor.load_weights('ppo-1000.hdf5')"
   ]
  },
  {
   "cell_type": "code",
   "execution_count": 7,
   "metadata": {},
   "outputs": [
    {
     "data": {
      "text/plain": [
       "[<matplotlib.lines.Line2D at 0x1aa4e8fc488>,\n",
       " <matplotlib.lines.Line2D at 0x1aa57ad7c88>]"
      ]
     },
     "execution_count": 7,
     "metadata": {},
     "output_type": "execute_result"
    },
    {
     "data": {
      "image/png": "[encoded data removed]",
      "text/plain": [
       "<Figure size 432x288 with 1 Axes>"
      ]
     },
     "metadata": {
      "needs_background": "light"
     },
     "output_type": "display_data"
    }
   ],
   "source": [
    "plt.plot(old_actions)"
   ]
  },
  {
   "cell_type": "code",
   "execution_count": 8,
   "metadata": {},
   "outputs": [
    {
     "data": {
      "image/png": "[encoded data removed]",
      "text/plain": [
       "<Figure size 432x288 with 1 Axes>"
      ]
     },
     "metadata": {
      "needs_background": "light"
     },
     "output_type": "display_data"
    },
    {
     "data": {
      "text/plain": [
       "[<matplotlib.lines.Line2D at 0x1aa57b89f88>,\n",
       " <matplotlib.lines.Line2D at 0x1aa57b94208>]"
      ]
     },
     "execution_count": 8,
     "metadata": {},
     "output_type": "execute_result"
    },
    {
     "data": {
      "image/png": "[encoded data removed]",
      "text/plain": [
       "<Figure size 432x288 with 1 Axes>"
      ]
     },
     "metadata": {
      "needs_background": "light"
     },
     "output_type": "display_data"
    }
   ],
   "source": [
    "plt.plot(_old_means)\n",
    "plt.show()\n",
    "plt.plot(_old_stds)"
   ]
  },
  {
   "cell_type": "code",
   "execution_count": 13,
   "metadata": {},
   "outputs": [
    {
     "data": {
      "image/png": "[encoded data removed]",
      "text/plain": [
       "<Figure size 432x288 with 1 Axes>"
      ]
     },
     "metadata": {
      "needs_background": "light"
     },
     "output_type": "display_data"
    }
   ],
   "source": [
    "plt.plot(rewards_log[:200])\n",
    "plt.savefig('lunar-ppo.png')"
   ]
  },
  {
   "cell_type": "code",
   "execution_count": 10,
   "metadata": {},
   "outputs": [],
   "source": [
    "import os\n",
    "os.mkdir('lunar_ppo')"
   ]
  },
  {
   "cell_type": "code",
   "execution_count": 11,
   "metadata": {},
   "outputs": [
    {
     "name": "stdout",
     "output_type": "stream",
     "text": [
      "WARNING:tensorflow:From <ipython-input-11-230efa19530f>:28: is_gpu_available (from tensorflow.python.framework.test_util) is deprecated and will be removed in a future version.\n",
      "Instructions for updating:\n",
      "Use `tf.config.list_physical_devices('GPU')` instead.\n",
      "WARNING:tensorflow:Layer actor_1 is casting an input tensor from dtype float64 to the layer's dtype of float32, which is new behavior in TensorFlow 2.  The layer has dtype float32 because it's dtype defaults to floatx.\n",
      "\n",
      "If you intended to run this layer in float32, you can safely ignore this warning. If in doubt, this warning is likely only an issue if you are porting a TensorFlow 1.X model to TensorFlow 2.\n",
      "\n",
      "To change all layers to have dtype float64 by default, call `tf.keras.backend.set_floatx('float64')`. To change just this layer, pass dtype='float64' to the layer constructor. If you are the author of this layer, you can disable autocasting by passing autocast=False to the base Layer constructor.\n",
      "\n"
     ]
    }
   ],
   "source": [
    "seed=1\n",
    "import os\n",
    "os.environ[\"CUDA_VISIBLE_DEVICES\"] = \"-1\"\n",
    "os.environ['PYTHONHASHSEED']=str(seed)\n",
    "import numpy as np\n",
    "np.random.seed(seed)\n",
    "import tensorflow as tf\n",
    "tf.random.set_seed(seed)\n",
    "import tensorflow\n",
    "from tensorflow.keras.models import Model\n",
    "from tensorflow.keras.layers import Flatten, Dense ,Input,concatenate ,Conv2D,Conv2DTranspose,\\\n",
    "MaxPooling2D,AveragePooling2D, LSTM ,Reshape, TimeDistributed,ReLU, LeakyReLU, Dropout, BatchNormalization\n",
    "from tensorflow.keras.optimizers import Adam,Adagrad\n",
    "from tensorflow.keras import regularizers\n",
    "from tensorflow.keras.callbacks import ModelCheckpoint\n",
    "from tensorflow.keras import backend as K\n",
    "import warnings\n",
    "import glob\n",
    "import math\n",
    "import cv2\n",
    "from matplotlib import pyplot as plt\n",
    "import pandas as pd\n",
    "import pickle\n",
    "from collections import deque\n",
    "from tqdm import tqdm,trange\n",
    "import gym\n",
    "from copy import copy , deepcopy\n",
    "tf.test.is_gpu_available()\n",
    "\n",
    "\n",
    "TanH=tensorflow.keras.layers.Activation('tanh')\n",
    "Sigmoid=tensorflow.keras.layers.Activation('sigmoid')\n",
    "\n",
    "class Actor(Model):\n",
    "  def __init__(self,n_act):\n",
    "    super(Actor, self).__init__()\n",
    "    self.d1 = Dense(512, activation='relu')\n",
    "    self.d2 = Dense(256, activation='relu')\n",
    "    self.mean = Dense(n_act)\n",
    "    self.tanh  = TanH\n",
    "    self.sigmoid  = Sigmoid\n",
    "    self.std = Dense(n_act)\n",
    "\n",
    "  def call(self, x):\n",
    "    \n",
    "    x = self.d1(x)\n",
    "    x = self.d2(x)\n",
    "    #x = self.d3(x)\n",
    "    #x = self.d4(x)\n",
    "    mean = self.mean(x)\n",
    "    mean = self.tanh(mean)\n",
    "    std = self.std(x)\n",
    "    std = self.sigmoid(std)\n",
    "    return mean,std+10e-10\n",
    "\n",
    "def test_reward():\n",
    "    state = env.reset()\n",
    "    done = False\n",
    "    total_reward = 0\n",
    "    while not done:\n",
    "        state_input = K.expand_dims(state, 0)\n",
    "        mean,std = _model._actor(state_input)\n",
    "        act=np.random.normal(mean,std)[0]\n",
    "        next_state, reward, done, _ = env.step(mean[0])\n",
    "        if reward == -100:\n",
    "            reward=-2\n",
    "        state = next_state\n",
    "        total_reward += reward\n",
    "        \n",
    "    return total_reward\n",
    "\n",
    "env = gym.make('LunarLanderContinuous-v2')\n",
    "env.seed(seed)\n",
    "n_act=env.action_space.shape[0]\n",
    "n_state=env.observation_space.shape[0]\n",
    "_actor=Actor(n_act)\n",
    "_actor(np.ones((1,n_state)))\n",
    "_actor.load_weights('ppo_best_actor_lunar.hdf5')"
   ]
  },
  {
   "cell_type": "code",
   "execution_count": 14,
   "metadata": {},
   "outputs": [],
   "source": [
    "state=env.reset()\n",
    "i=0\n",
    "ter_count=0\n",
    "while True:\n",
    "    action=_actor(state.reshape(1,n_state))\n",
    "    state,rwd,ter,info=env.step(action[0][0])\n",
    "    img=env.render('rgb_array')\n",
    "    cv2.imwrite('lunar_ppo/'+str(i)+'.jpg',img)\n",
    "    i+=1\n",
    "    if ter==True:\n",
    "            ter_count+=1\n",
    "            state=env.reset()\n",
    "    if ter_count==5:\n",
    "             break"
   ]
  },
  {
   "cell_type": "code",
   "execution_count": 15,
   "metadata": {
    "scrolled": true
   },
   "outputs": [],
   "source": [
    "env.close()"
   ]
  },
  {
   "cell_type": "markdown",
   "metadata": {},
   "source": []
  }
 ],
 "metadata": {
  "kernelspec": {
   "display_name": "Python 3",
   "language": "python",
   "name": "python3"
  },
  "language_info": {
   "codemirror_mode": {
    "name": "ipython",
    "version": 3
   },
   "file_extension": ".py",
   "mimetype": "text/x-python",
   "name": "python",
   "nbconvert_exporter": "python",
   "pygments_lexer": "ipython3",
   "version": "3.7.7"
  }
 },
 "nbformat": 4,
 "nbformat_minor": 4
}
