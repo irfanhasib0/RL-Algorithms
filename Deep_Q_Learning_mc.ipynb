{
 "cells": [
  {
   "cell_type": "markdown",
   "metadata": {},
   "source": [
    "***Importing Libraries***"
   ]
  },
  {
   "cell_type": "code",
   "execution_count": 1,
   "metadata": {},
   "outputs": [
    {
     "name": "stderr",
     "output_type": "stream",
     "text": [
      "Using TensorFlow backend.\n"
     ]
    }
   ],
   "source": [
    "import gym\n",
    "import numpy as np\n",
    "from collections import deque\n",
    "import random\n",
    "import keras\n",
    "from keras.models import Sequential\n",
    "from keras.layers import Dense\n",
    "from keras.optimizers import Adam\n",
    "import matplotlib.pyplot as plt\n",
    "from sklearn.preprocessing import OneHotEncoder"
   ]
  },
  {
   "cell_type": "code",
   "execution_count": 2,
   "metadata": {},
   "outputs": [],
   "source": [
    "import gym\n",
    "import numpy as np\n",
    "import renom as rm\n",
    "from collections import deque\n",
    "import matplotlib.pyplot as plt\n",
    "from renom_rl.discrete.double_dqn import DoubleDQN\n",
    "from renom_rl.environ.env import BaseEnv\n",
    "from renom_rl.utility.filter import EpsilonEIFilter\n",
    "from renom_rl.utility import Animation\n",
    "from renom.optimizer import Adam as AdamR\n",
    "from renom.cuda import set_cuda_active\n",
    "set_cuda_active(False)"
   ]
  },
  {
   "cell_type": "markdown",
   "metadata": {},
   "source": [
    "***Initialization of Environment***"
   ]
  },
  {
   "cell_type": "code",
   "execution_count": 3,
   "metadata": {},
   "outputs": [
    {
     "name": "stdout",
     "output_type": "stream",
     "text": [
      "\u001b[33mWARN: gym.spaces.Box autodetected dtype as <class 'numpy.float32'>. Please provide explicit dtype.\u001b[0m\n"
     ]
    }
   ],
   "source": [
    "class MountainCar(BaseEnv):\n",
    "    \n",
    "    def __init__(self):\n",
    "        self.env = gym.make('MountainCar-v0') \n",
    "        self.action_shape = (self.env.action_space.n,)\n",
    "        self.state_shape = self.env.observation_space.shape\n",
    "        #print(\"Env Space : \", self.state_shape)\n",
    "        #print(\"Action Space : \", self.action_shape)\n",
    "        \n",
    "        self.animation = Animation()\n",
    "        self.test_mode = False\n",
    "    \n",
    "    def reset(self):\n",
    "        return self.env.reset()\n",
    "    \n",
    "    def sample(self):\n",
    "        return self.env.action_space.sample()\n",
    "    \n",
    "    def step(self, action):\n",
    "        state, reward, terminal, _ = self.env.step(int(action))\n",
    "        #reward = 0\n",
    "        \n",
    "        #if terminal:\n",
    "            #if state[0] > 0.5:\n",
    "                #reward = 1\n",
    "            #else:\n",
    "                #reward = state[0] + 0.5\n",
    "         \n",
    "        return state, reward, terminal\n",
    "    \n",
    "    def test_start(self):\n",
    "        self.animation.reset()\n",
    "        self.env.reset()\n",
    "    \n",
    "    def test_epoch_step(self):\n",
    "        pass\n",
    "        #self.animation.store(self.env.render(mode=\"rgb_array\"))\n",
    "    \n",
    "    def test_close(self):\n",
    "        #self.env.close() \n",
    "        self.env.viewer = None\n",
    "                \n",
    "MC = MountainCar()\n",
    "st_shape=MC.state_shape[0]\n",
    "act_shape=MC.action_shape[0]\n",
    "\n",
    "q_network = rm.Sequential([rm.Dense(100),\n",
    "                                                   rm.Relu(),\n",
    "                                                   rm.Dense(100),\n",
    "                                                   rm.Relu(),\n",
    "                                                   rm.Dense(act_shape)\n",
    "                                                ])\n"
   ]
  },
  {
   "cell_type": "code",
   "execution_count": 4,
   "metadata": {},
   "outputs": [],
   "source": [
    "action_list = [0,1,2]\n",
    "gamma =0.45\n",
    "lr =0.001\n",
    "num_episodes =1000\n",
    "epsilon =1\n",
    "epsilon_decay =0.995\n",
    "memory_size =1000\n",
    "batch_size=100\n",
    "show=False\n"
   ]
  },
  {
   "cell_type": "code",
   "execution_count": 20,
   "metadata": {},
   "outputs": [
    {
     "data": {
      "text/plain": [
       "[1, 100]"
      ]
     },
     "execution_count": 20,
     "metadata": {},
     "output_type": "execute_result"
    }
   ],
   "source": [
    "factor=[1,100]"
   ]
  },
  {
   "cell_type": "code",
   "execution_count": 6,
   "metadata": {},
   "outputs": [],
   "source": [
    "memory=deque(maxlen=memory_size)\n",
    "s=MC.reset()\n",
    "s = s.reshape((1,-1))\n",
    "s = s*factor\n",
    "for _ in range(memory_size):\n",
    "    a = np.random.randint(0,act_shape)\n",
    "    new_s,r,d =MC.step(a)\n",
    "    new_s = new_s.reshape((1,-1))\n",
    "    new_s = new_s*factor\n",
    "    if show:\n",
    "        MC.render()\n",
    "    if d:\n",
    "        r=-100\n",
    "        experience =(s,r,a,new_s,d)\n",
    "        s=MC.reset()\n",
    "        s = s.reshape((1,-1))\n",
    "    else:    \n",
    "        experience =(s,r,a,new_s,d)\n",
    "    memory.append(experience)\n",
    "    s = new_s\n",
    "  "
   ]
  },
  {
   "cell_type": "markdown",
   "metadata": {},
   "source": [
    "***Model Definition***"
   ]
  },
  {
   "cell_type": "markdown",
   "metadata": {},
   "source": [
    "Here , I have defined the model as a simple MLP neural network with 2 hidden layers of 100 nodes with ```relu``` activation function"
   ]
  },
  {
   "cell_type": "code",
   "execution_count": 8,
   "metadata": {},
   "outputs": [
    {
     "name": "stdout",
     "output_type": "stream",
     "text": [
      "_________________________________________________________________\n",
      "Layer (type)                 Output Shape              Param #   \n",
      "=================================================================\n",
      "dense_4 (Dense)              (None, 100)               300       \n",
      "_________________________________________________________________\n",
      "dense_5 (Dense)              (None, 100)               10100     \n",
      "_________________________________________________________________\n",
      "dense_6 (Dense)              (None, 3)                 303       \n",
      "=================================================================\n",
      "Total params: 10,703\n",
      "Trainable params: 10,703\n",
      "Non-trainable params: 0\n",
      "_________________________________________________________________\n"
     ]
    }
   ],
   "source": [
    "model = Sequential()\n",
    "model.add(Dense(100,activation='relu',input_shape=(st_shape,)))\n",
    "model.add(Dense(100,activation='relu'))\n",
    "model.add(Dense(act_shape,activation='linear'))\n",
    "model.compile(loss='mse',optimizer=Adam(lr=lr),)\n",
    "model.summary()"
   ]
  },
  {
   "cell_type": "code",
   "execution_count": 17,
   "metadata": {},
   "outputs": [
    {
     "name": "stdout",
     "output_type": "stream",
     "text": [
      "Episode 0, Failed! Reward -200\n"
     ]
    },
    {
     "ename": "IndexError",
     "evalue": "too many indices for array",
     "output_type": "error",
     "traceback": [
      "\u001b[0;31m---------------------------------------------------------------------------\u001b[0m",
      "\u001b[0;31mIndexError\u001b[0m                                Traceback (most recent call last)",
      "\u001b[0;32m<ipython-input-17-917a03f90ce2>\u001b[0m in \u001b[0;36m<module>\u001b[0;34m()\u001b[0m\n\u001b[1;32m     61\u001b[0m     \u001b[0mnew_Qs\u001b[0m \u001b[0;34m=\u001b[0m \u001b[0mmodel\u001b[0m\u001b[0;34m.\u001b[0m\u001b[0mpredict\u001b[0m\u001b[0;34m(\u001b[0m\u001b[0mnew_states\u001b[0m\u001b[0;34m)\u001b[0m\u001b[0;34m\u001b[0m\u001b[0;34m\u001b[0m\u001b[0m\n\u001b[1;32m     62\u001b[0m     \u001b[0mtarget_Qs\u001b[0m\u001b[0;34m=\u001b[0m\u001b[0mrewards\u001b[0m\u001b[0;34m+\u001b[0m\u001b[0mgamma\u001b[0m\u001b[0;34m*\u001b[0m\u001b[0;34m(\u001b[0m\u001b[0mnp\u001b[0m\u001b[0;34m.\u001b[0m\u001b[0mmax\u001b[0m\u001b[0;34m(\u001b[0m\u001b[0mnew_Qs\u001b[0m\u001b[0;34m,\u001b[0m\u001b[0maxis\u001b[0m\u001b[0;34m=\u001b[0m\u001b[0;36m1\u001b[0m\u001b[0;34m)\u001b[0m\u001b[0;34m*\u001b[0m\u001b[0;34m(\u001b[0m\u001b[0;34m~\u001b[0m\u001b[0mdones\u001b[0m\u001b[0;34m)\u001b[0m\u001b[0;34m)\u001b[0m\u001b[0;34m\u001b[0m\u001b[0;34m\u001b[0m\u001b[0m\n\u001b[0;32m---> 63\u001b[0;31m     \u001b[0mQs\u001b[0m\u001b[0;34m[\u001b[0m\u001b[0mactions\u001b[0m\u001b[0;34m==\u001b[0m\u001b[0;36m1\u001b[0m\u001b[0;34m]\u001b[0m\u001b[0;34m=\u001b[0m\u001b[0mtarget_Qs\u001b[0m\u001b[0;31m#.reshape(-1,)\u001b[0m\u001b[0;34m\u001b[0m\u001b[0;34m\u001b[0m\u001b[0m\n\u001b[0m\u001b[1;32m     64\u001b[0m     \u001b[0mmodel\u001b[0m\u001b[0;34m.\u001b[0m\u001b[0mfit\u001b[0m\u001b[0;34m(\u001b[0m\u001b[0mstates\u001b[0m\u001b[0;34m,\u001b[0m\u001b[0mQs\u001b[0m\u001b[0;34m,\u001b[0m\u001b[0mverbose\u001b[0m\u001b[0;34m=\u001b[0m\u001b[0;36m0\u001b[0m \u001b[0;34m)\u001b[0m\u001b[0;34m\u001b[0m\u001b[0;34m\u001b[0m\u001b[0m\n\u001b[1;32m     65\u001b[0m     \u001b[0mepsilon\u001b[0m\u001b[0;34m=\u001b[0m\u001b[0mepsilon\u001b[0m\u001b[0;34m*\u001b[0m\u001b[0mepsilon_decay\u001b[0m\u001b[0;34m\u001b[0m\u001b[0;34m\u001b[0m\u001b[0m\n",
      "\u001b[0;31mIndexError\u001b[0m: too many indices for array"
     ]
    }
   ],
   "source": [
    "ep_list =[]\n",
    "reward_list =[] \n",
    "index=0 \n",
    "oh = OneHotEncoder(categories=[range(3)])\n",
    "for ep in range(num_episodes):\n",
    "    s= MC.reset()\n",
    "    s=s.reshape((1,-1))\n",
    "    s = s*factor\n",
    "    total_rewards =0\n",
    "    d = False\n",
    "    j = 0\n",
    "    for j in range(200):\n",
    "        if np.random.random()< epsilon:\n",
    "            a = np.random.randint(0,len(action_list))\n",
    "        else:\n",
    "            Q = model.predict(s.reshape(1,-1))\n",
    "            a =np.argmax(Q)\n",
    "        new_s,r,d = MC.step(a)\n",
    "        new_s = new_s.reshape((1,-1))\n",
    "        new_s = new_s*factor\n",
    "        total_rewards=total_rewards+r\n",
    "        if show:\n",
    "            MC.render()\n",
    "        if d:\n",
    "            if total_rewards<-199:\n",
    "                r =-100\n",
    "                experience = (s,r,a,new_s,d)\n",
    "                memory.append(experience)\n",
    "                print(\"Episode %d, Failed! Reward %d\"%(ep,total_rewards))\n",
    "            elif total_rewards<-110 and total_rewards>-199:\n",
    "                r=10\n",
    "                d=True\n",
    "                experience = (s,r,a,new_s,d)\n",
    "                memory.append(experience)\n",
    "                print(\"Episode %d, Better! Reward %d\"%(ep,total_rewards))\n",
    "            elif total_rewards>=-110:\n",
    "                r=100\n",
    "                experience = (s,r,a,new_s,d)\n",
    "                memory.append(experience)\n",
    "\n",
    "                print(\"Episode %d, Passed! Reward %d\"%(ep,total_rewards))\n",
    "            ep_list.append(ep)\n",
    "            reward_list.append(total_rewards)\n",
    "            break\n",
    "        \n",
    "        experience = (s,r,a,new_s,d)\n",
    "        memory.append(experience)\n",
    "        if j==199:\n",
    "            print(\"Reward %d after full episode\"%(total_rewards))\n",
    "            \n",
    "        s = new_s\n",
    "    batches=random.sample(memory,batch_size)\n",
    "    states= np.array([batch[0] for batch in batches],ndmin=3).reshape(len(batches),-1)\n",
    "    rewards= np.array([batch[1] for batch in batches])\n",
    "    actions= np.array([batch[2] for batch in batches])\n",
    "    actions=oh.fit_transform(actions.reshape(-1,1)).toarray()\n",
    "    actions = actions.reshape(-1,1,act_shape)\n",
    "    new_states= np.array([batch[3] for batch in batches],ndmin=3).reshape(len(batches),-1)\n",
    "    dones= np.array([batch[4] for batch in batches])\n",
    "    Qs =model.predict(states)\n",
    "    new_Qs = model.predict(new_states)\n",
    "    target_Qs=rewards+gamma*(np.max(new_Qs,axis=1)*(~dones))\n",
    "    Qs[actions==1]=target_Qs#.reshape(-1,)\n",
    "    model.fit(states,Qs,verbose=0 )\n",
    "    epsilon=epsilon*epsilon_decay\n"
   ]
  },
  {
   "cell_type": "code",
   "execution_count": 19,
   "metadata": {},
   "outputs": [
    {
     "data": {
      "text/plain": [
       "((100, 3), (100, 1, 3))"
      ]
     },
     "execution_count": 19,
     "metadata": {},
     "output_type": "execute_result"
    }
   ],
   "source": [
    "Qs.shape,actions.shape"
   ]
  },
  {
   "cell_type": "code",
   "execution_count": 8,
   "metadata": {
    "scrolled": true
   },
   "outputs": [
    {
     "data": {
      "text/plain": [
       "Text(0,0.5,'Rewards')"
      ]
     },
     "execution_count": 8,
     "metadata": {},
     "output_type": "execute_result"
    },
    {
     "data": {
      "image/png": "[encoded data removed]",
      "text/plain": [
       "<Figure size 432x288 with 1 Axes>"
      ]
     },
     "metadata": {
      "needs_background": "light"
     },
     "output_type": "display_data"
    }
   ],
   "source": [
    "plt.plot(reward_list)\n",
    "plt.title(\"Rewards vs Episode\")\n",
    "plt.xlabel(\"Episodes\")\n",
    "plt.ylabel(\"Rewards\")"
   ]
  },
  {
   "cell_type": "code",
   "execution_count": null,
   "metadata": {},
   "outputs": [],
   "source": []
  }
 ],
 "metadata": {
  "kernelspec": {
   "display_name": "Python 3",
   "language": "python",
   "name": "python3"
  },
  "language_info": {
   "codemirror_mode": {
    "name": "ipython",
    "version": 3
   },
   "file_extension": ".py",
   "mimetype": "text/x-python",
   "name": "python",
   "nbconvert_exporter": "python",
   "pygments_lexer": "ipython3",
   "version": "3.6.7"
  }
 },
 "nbformat": 4,
 "nbformat_minor": 2
}
