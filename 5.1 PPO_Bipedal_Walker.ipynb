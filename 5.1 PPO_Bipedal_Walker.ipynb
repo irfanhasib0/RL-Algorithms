{
 "cells": [
  {
   "cell_type": "code",
   "execution_count": 11,
   "metadata": {},
   "outputs": [
    {
     "name": "stdout",
     "output_type": "stream",
     "text": [
      "WARNING:tensorflow:From <ipython-input-11-68ab24f4a316>:27: is_gpu_available (from tensorflow.python.framework.test_util) is deprecated and will be removed in a future version.\n",
      "Instructions for updating:\n",
      "Use `tf.config.list_physical_devices('GPU')` instead.\n"
     ]
    },
    {
     "data": {
      "text/plain": [
       "False"
      ]
     },
     "execution_count": 11,
     "metadata": {},
     "output_type": "execute_result"
    }
   ],
   "source": [
    "seed=1\n",
    "import os\n",
    "os.environ[\"CUDA_VISIBLE_DEVICES\"] = \"-1\"\n",
    "os.environ['PYTHONHASHSEED']=str(seed)\n",
    "import numpy as np\n",
    "np.random.seed(seed)\n",
    "import tensorflow as tf\n",
    "tf.random.set_seed(seed)\n",
    "from tensorflow.keras.models import Model\n",
    "from tensorflow.keras.layers import Flatten, Dense ,Input,concatenate ,Conv2D,Conv2DTranspose,\\\n",
    "MaxPooling2D,AveragePooling2D, LSTM ,Reshape, TimeDistributed,ReLU, LeakyReLU, Dropout, BatchNormalization\n",
    "from tensorflow.keras.optimizers import Adam,Adagrad\n",
    "from tensorflow.keras import regularizers\n",
    "from tensorflow.keras.callbacks import ModelCheckpoint\n",
    "from tensorflow.keras import backend as K\n",
    "import warnings\n",
    "import glob\n",
    "import math\n",
    "import cv2\n",
    "from matplotlib import pyplot as plt\n",
    "import pandas as pd\n",
    "import pickle\n",
    "from collections import deque\n",
    "from tqdm import tqdm,trange\n",
    "import gym\n",
    "from copy import copy , deepcopy\n",
    "tf.test.is_gpu_available()"
   ]
  },
  {
   "cell_type": "code",
   "execution_count": 2,
   "metadata": {},
   "outputs": [
    {
     "name": "stderr",
     "output_type": "stream",
     "text": [
      "\r",
      "  0%|                                                                                         | 0/2010 [00:00<?, ?it/s]"
     ]
    },
    {
     "name": "stdout",
     "output_type": "stream",
     "text": [
      "WARNING:tensorflow:Layer actor is casting an input tensor from dtype float64 to the layer's dtype of float32, which is new behavior in TensorFlow 2.  The layer has dtype float32 because it's dtype defaults to floatx.\n",
      "\n",
      "If you intended to run this layer in float32, you can safely ignore this warning. If in doubt, this warning is likely only an issue if you are porting a TensorFlow 1.X model to TensorFlow 2.\n",
      "\n",
      "To change all layers to have dtype float64 by default, call `tf.keras.backend.set_floatx('float64')`. To change just this layer, pass dtype='float64' to the layer constructor. If you are the author of this layer, you can disable autocasting by passing autocast=False to the base Layer constructor.\n",
      "\n",
      "WARNING:tensorflow:Layer critic is casting an input tensor from dtype float64 to the layer's dtype of float32, which is new behavior in TensorFlow 2.  The layer has dtype float32 because it's dtype defaults to floatx.\n",
      "\n",
      "If you intended to run this layer in float32, you can safely ignore this warning. If in doubt, this warning is likely only an issue if you are porting a TensorFlow 1.X model to TensorFlow 2.\n",
      "\n",
      "To change all layers to have dtype float64 by default, call `tf.keras.backend.set_floatx('float64')`. To change just this layer, pass dtype='float64' to the layer constructor. If you are the author of this layer, you can disable autocasting by passing autocast=False to the base Layer constructor.\n",
      "\n"
     ]
    },
    {
     "name": "stderr",
     "output_type": "stream",
     "text": [
      "100%|█████████████████████████████████████████████████████████████████████████████| 2010/2010 [00:03<00:00, 522.39it/s]\n",
      "  2%|█▉                                                                             | 48/2010 [00:00<00:04, 452.22it/s]"
     ]
    },
    {
     "name": "stdout",
     "output_type": "stream",
     "text": [
      "episode : 0 reward : 1.2897102799144187\n",
      "total test reward=-20.968053000940774\n"
     ]
    },
    {
     "name": "stderr",
     "output_type": "stream",
     "text": [
      "100%|█████████████████████████████████████████████████████████████████████████████| 2010/2010 [00:04<00:00, 479.24it/s]\n",
      "  3%|██▏                                                                            | 57/2010 [00:00<00:03, 499.57it/s]"
     ]
    },
    {
     "name": "stdout",
     "output_type": "stream",
     "text": [
      "episode : 1 reward : -0.6288668723422852\n",
      "total test reward=-18.780709801987683\n"
     ]
    },
    {
     "name": "stderr",
     "output_type": "stream",
     "text": [
      "100%|█████████████████████████████████████████████████████████████████████████████| 2010/2010 [00:04<00:00, 498.52it/s]\n",
      "  2%|█▉                                                                             | 50/2010 [00:00<00:03, 496.57it/s]"
     ]
    },
    {
     "name": "stdout",
     "output_type": "stream",
     "text": [
      "episode : 2 reward : -1.0629153609754765\n",
      "total test reward=-18.373203781987236\n"
     ]
    },
    {
     "name": "stderr",
     "output_type": "stream",
     "text": [
      "100%|█████████████████████████████████████████████████████████████████████████████| 2010/2010 [00:04<00:00, 486.22it/s]\n",
      "  2%|█▉                                                                             | 48/2010 [00:00<00:04, 468.17it/s]"
     ]
    },
    {
     "name": "stdout",
     "output_type": "stream",
     "text": [
      "episode : 3 reward : -2.562671171736416\n",
      "total test reward=-18.853496081383156\n"
     ]
    },
    {
     "name": "stderr",
     "output_type": "stream",
     "text": [
      "100%|█████████████████████████████████████████████████████████████████████████████| 2010/2010 [00:04<00:00, 481.92it/s]\n",
      "  2%|█▊                                                                             | 47/2010 [00:00<00:04, 464.57it/s]"
     ]
    },
    {
     "name": "stdout",
     "output_type": "stream",
     "text": [
      "episode : 4 reward : -3.2842707766633525\n",
      "total test reward=-20.211933489617458\n"
     ]
    },
    {
     "name": "stderr",
     "output_type": "stream",
     "text": [
      "100%|█████████████████████████████████████████████████████████████████████████████| 2010/2010 [00:04<00:00, 471.10it/s]\n",
      "  4%|███▌                                                                           | 90/2010 [00:00<00:04, 446.88it/s]"
     ]
    },
    {
     "name": "stdout",
     "output_type": "stream",
     "text": [
      "episode : 5 reward : -7.997718637803821\n",
      "total test reward=-25.5126894339774\n"
     ]
    },
    {
     "name": "stderr",
     "output_type": "stream",
     "text": [
      "100%|█████████████████████████████████████████████████████████████████████████████| 2010/2010 [00:04<00:00, 463.39it/s]\n",
      "  2%|█▊                                                                             | 45/2010 [00:00<00:04, 446.73it/s]"
     ]
    },
    {
     "name": "stdout",
     "output_type": "stream",
     "text": [
      "episode : 6 reward : -0.5763867847651576\n",
      "total test reward=-20.186781975167992\n"
     ]
    },
    {
     "name": "stderr",
     "output_type": "stream",
     "text": [
      "100%|█████████████████████████████████████████████████████████████████████████████| 2010/2010 [00:04<00:00, 461.45it/s]\n",
      "  2%|█▊                                                                             | 47/2010 [00:00<00:04, 462.83it/s]"
     ]
    },
    {
     "name": "stdout",
     "output_type": "stream",
     "text": [
      "episode : 7 reward : 0.21505527348713427\n",
      "total test reward=-5.012989703769228\n"
     ]
    },
    {
     "name": "stderr",
     "output_type": "stream",
     "text": [
      "100%|█████████████████████████████████████████████████████████████████████████████| 2010/2010 [00:04<00:00, 456.34it/s]\n",
      "  2%|█▊                                                                             | 47/2010 [00:00<00:04, 462.02it/s]"
     ]
    },
    {
     "name": "stdout",
     "output_type": "stream",
     "text": [
      "episode : 8 reward : 0.5651424358393773\n",
      "total test reward=4.610428409344996\n"
     ]
    },
    {
     "name": "stderr",
     "output_type": "stream",
     "text": [
      "100%|█████████████████████████████████████████████████████████████████████████████| 2010/2010 [00:04<00:00, 456.74it/s]\n",
      "  2%|█▊                                                                             | 46/2010 [00:00<00:04, 452.19it/s]"
     ]
    },
    {
     "name": "stdout",
     "output_type": "stream",
     "text": [
      "episode : 9 reward : 0.26467812617153275\n",
      "total test reward=4.671211946189327\n"
     ]
    },
    {
     "name": "stderr",
     "output_type": "stream",
     "text": [
      "100%|█████████████████████████████████████████████████████████████████████████████| 2010/2010 [00:04<00:00, 438.98it/s]\n",
      "  2%|█▊                                                                             | 45/2010 [00:00<00:04, 441.81it/s]"
     ]
    },
    {
     "name": "stdout",
     "output_type": "stream",
     "text": [
      "episode : 10 reward : -1.1630711675430512\n",
      "total test reward=-20.63271616226215\n"
     ]
    },
    {
     "name": "stderr",
     "output_type": "stream",
     "text": [
      "100%|█████████████████████████████████████████████████████████████████████████████| 2010/2010 [00:04<00:00, 422.78it/s]\n",
      "  2%|█▌                                                                             | 39/2010 [00:00<00:05, 378.68it/s]"
     ]
    },
    {
     "name": "stdout",
     "output_type": "stream",
     "text": [
      "episode : 11 reward : 1.9515764890388199\n",
      "total test reward=3.8648597539936502\n"
     ]
    },
    {
     "name": "stderr",
     "output_type": "stream",
     "text": [
      "100%|█████████████████████████████████████████████████████████████████████████████| 2010/2010 [00:05<00:00, 398.94it/s]\n",
      "  2%|█▌                                                                             | 40/2010 [00:00<00:04, 397.11it/s]"
     ]
    },
    {
     "name": "stdout",
     "output_type": "stream",
     "text": [
      "episode : 12 reward : 0.9838103655851178\n",
      "total test reward=4.858576206041812\n"
     ]
    },
    {
     "name": "stderr",
     "output_type": "stream",
     "text": [
      "100%|█████████████████████████████████████████████████████████████████████████████| 2010/2010 [00:05<00:00, 393.98it/s]\n",
      "  2%|█▋                                                                             | 44/2010 [00:00<00:04, 432.39it/s]"
     ]
    },
    {
     "name": "stdout",
     "output_type": "stream",
     "text": [
      "episode : 13 reward : -6.794365422690919\n",
      "total test reward=4.086474931074771\n"
     ]
    },
    {
     "name": "stderr",
     "output_type": "stream",
     "text": [
      "100%|█████████████████████████████████████████████████████████████████████████████| 2010/2010 [00:04<00:00, 441.84it/s]\n",
      "  2%|█▌                                                                             | 39/2010 [00:00<00:05, 379.88it/s]"
     ]
    },
    {
     "name": "stdout",
     "output_type": "stream",
     "text": [
      "episode : 14 reward : -0.3462586580172313\n",
      "total test reward=4.389179363131401\n"
     ]
    },
    {
     "name": "stderr",
     "output_type": "stream",
     "text": [
      "100%|█████████████████████████████████████████████████████████████████████████████| 2010/2010 [00:04<00:00, 439.99it/s]\n",
      "  2%|█▋                                                                             | 44/2010 [00:00<00:04, 436.65it/s]"
     ]
    },
    {
     "name": "stdout",
     "output_type": "stream",
     "text": [
      "episode : 15 reward : 0.9116658288693387\n",
      "total test reward=4.463411242908946\n"
     ]
    },
    {
     "name": "stderr",
     "output_type": "stream",
     "text": [
      "100%|█████████████████████████████████████████████████████████████████████████████| 2010/2010 [00:04<00:00, 432.80it/s]\n",
      "  2%|█▋                                                                             | 42/2010 [00:00<00:04, 412.86it/s]"
     ]
    },
    {
     "name": "stdout",
     "output_type": "stream",
     "text": [
      "episode : 16 reward : 1.0667126730673249\n",
      "total test reward=4.367018313895901\n"
     ]
    },
    {
     "name": "stderr",
     "output_type": "stream",
     "text": [
      "100%|█████████████████████████████████████████████████████████████████████████████| 2010/2010 [00:04<00:00, 414.17it/s]\n",
      "  2%|█▊                                                                             | 45/2010 [00:00<00:04, 446.74it/s]"
     ]
    },
    {
     "name": "stdout",
     "output_type": "stream",
     "text": [
      "episode : 17 reward : -2.606931502358213\n",
      "total test reward=-23.270871741063388\n"
     ]
    },
    {
     "name": "stderr",
     "output_type": "stream",
     "text": [
      "100%|█████████████████████████████████████████████████████████████████████████████| 2010/2010 [00:04<00:00, 432.64it/s]\n",
      "  3%|██                                                                             | 52/2010 [00:00<00:04, 471.55it/s]"
     ]
    },
    {
     "name": "stdout",
     "output_type": "stream",
     "text": [
      "episode : 18 reward : -2.511541223786766\n",
      "total test reward=-19.224887734791253\n"
     ]
    },
    {
     "name": "stderr",
     "output_type": "stream",
     "text": [
      "100%|█████████████████████████████████████████████████████████████████████████████| 2010/2010 [00:04<00:00, 428.20it/s]\n",
      "  2%|█▉                                                                             | 48/2010 [00:00<00:04, 471.85it/s]"
     ]
    },
    {
     "name": "stdout",
     "output_type": "stream",
     "text": [
      "episode : 19 reward : 1.4424803921578189\n",
      "total test reward=-1.5358779194100578\n"
     ]
    },
    {
     "name": "stderr",
     "output_type": "stream",
     "text": [
      "100%|█████████████████████████████████████████████████████████████████████████████| 2010/2010 [00:04<00:00, 420.70it/s]\n",
      "  2%|█▊                                                                             | 46/2010 [00:00<00:04, 456.66it/s]"
     ]
    },
    {
     "name": "stdout",
     "output_type": "stream",
     "text": [
      "episode : 20 reward : -3.1775312421977464\n",
      "total test reward=4.95425305058964\n"
     ]
    },
    {
     "name": "stderr",
     "output_type": "stream",
     "text": [
      "100%|█████████████████████████████████████████████████████████████████████████████| 2010/2010 [00:04<00:00, 423.42it/s]\n",
      "  2%|█▊                                                                             | 46/2010 [00:00<00:04, 456.66it/s]"
     ]
    },
    {
     "name": "stdout",
     "output_type": "stream",
     "text": [
      "episode : 21 reward : -3.539702083525034\n",
      "total test reward=3.894047629893321\n"
     ]
    },
    {
     "name": "stderr",
     "output_type": "stream",
     "text": [
      "100%|█████████████████████████████████████████████████████████████████████████████| 2010/2010 [00:05<00:00, 385.89it/s]\n",
      "  4%|███▏                                                                           | 82/2010 [00:00<00:04, 401.85it/s]"
     ]
    },
    {
     "name": "stdout",
     "output_type": "stream",
     "text": [
      "episode : 22 reward : -2.945452285265595\n",
      "total test reward=-26.690794405152786\n"
     ]
    },
    {
     "name": "stderr",
     "output_type": "stream",
     "text": [
      "100%|█████████████████████████████████████████████████████████████████████████████| 2010/2010 [00:04<00:00, 427.96it/s]\n",
      "  2%|█▋                                                                             | 44/2010 [00:00<00:04, 432.53it/s]"
     ]
    },
    {
     "name": "stdout",
     "output_type": "stream",
     "text": [
      "episode : 23 reward : 0.7200878801245185\n",
      "total test reward=-17.411700813648164\n"
     ]
    },
    {
     "name": "stderr",
     "output_type": "stream",
     "text": [
      "100%|█████████████████████████████████████████████████████████████████████████████| 2010/2010 [00:04<00:00, 422.27it/s]\n",
      "  2%|█▊                                                                             | 46/2010 [00:00<00:04, 456.66it/s]"
     ]
    },
    {
     "name": "stdout",
     "output_type": "stream",
     "text": [
      "episode : 24 reward : -2.954379137517533\n",
      "total test reward=-0.33599136414648084\n"
     ]
    },
    {
     "name": "stderr",
     "output_type": "stream",
     "text": [
      "100%|█████████████████████████████████████████████████████████████████████████████| 2010/2010 [00:04<00:00, 426.81it/s]\n",
      "  2%|█▊                                                                             | 47/2010 [00:00<00:04, 415.57it/s]"
     ]
    },
    {
     "name": "stdout",
     "output_type": "stream",
     "text": [
      "episode : 25 reward : -0.4256462230038869\n",
      "total test reward=-0.07028352496755437\n"
     ]
    },
    {
     "name": "stderr",
     "output_type": "stream",
     "text": [
      "100%|█████████████████████████████████████████████████████████████████████████████| 2010/2010 [00:04<00:00, 425.60it/s]\n",
      "  2%|█▌                                                                             | 39/2010 [00:00<00:05, 382.32it/s]"
     ]
    },
    {
     "name": "stdout",
     "output_type": "stream",
     "text": [
      "episode : 26 reward : -1.4064405956078148\n",
      "total test reward=-0.10316384456789204\n"
     ]
    },
    {
     "name": "stderr",
     "output_type": "stream",
     "text": [
      "100%|█████████████████████████████████████████████████████████████████████████████| 2010/2010 [00:04<00:00, 430.57it/s]\n",
      "  2%|█▋                                                                             | 44/2010 [00:00<00:04, 432.37it/s]"
     ]
    },
    {
     "name": "stdout",
     "output_type": "stream",
     "text": [
      "episode : 27 reward : 0.23178885428285634\n",
      "total test reward=-0.45264763275858205\n"
     ]
    },
    {
     "name": "stderr",
     "output_type": "stream",
     "text": [
      "100%|█████████████████████████████████████████████████████████████████████████████| 2010/2010 [00:04<00:00, 426.69it/s]\n",
      "  2%|█▉                                                                             | 50/2010 [00:00<00:04, 434.36it/s]"
     ]
    },
    {
     "name": "stdout",
     "output_type": "stream",
     "text": [
      "episode : 28 reward : -1.1347821486105805\n",
      "total test reward=-0.45884188146156574\n"
     ]
    },
    {
     "name": "stderr",
     "output_type": "stream",
     "text": [
      "100%|█████████████████████████████████████████████████████████████████████████████| 2010/2010 [00:04<00:00, 430.11it/s]\n",
      "  2%|█▊                                                                             | 46/2010 [00:00<00:04, 447.80it/s]"
     ]
    },
    {
     "name": "stdout",
     "output_type": "stream",
     "text": [
      "episode : 29 reward : -1.5007006519251527\n",
      "total test reward=-0.5331566664289991\n"
     ]
    },
    {
     "name": "stderr",
     "output_type": "stream",
     "text": [
      "100%|█████████████████████████████████████████████████████████████████████████████| 2010/2010 [00:04<00:00, 433.19it/s]\n",
      "  2%|█▊                                                                             | 46/2010 [00:00<00:04, 456.53it/s]"
     ]
    },
    {
     "name": "stdout",
     "output_type": "stream",
     "text": [
      "episode : 30 reward : -2.446393655789357\n",
      "total test reward=-0.3794472646666886\n"
     ]
    },
    {
     "name": "stderr",
     "output_type": "stream",
     "text": [
      "100%|█████████████████████████████████████████████████████████████████████████████| 2010/2010 [00:05<00:00, 397.89it/s]\n",
      "  2%|█▌                                                                             | 41/2010 [00:00<00:05, 379.01it/s]"
     ]
    },
    {
     "name": "stdout",
     "output_type": "stream",
     "text": [
      "episode : 31 reward : 0.9349188378753523\n",
      "total test reward=-0.26351569688462134\n"
     ]
    },
    {
     "name": "stderr",
     "output_type": "stream",
     "text": [
      "100%|█████████████████████████████████████████████████████████████████████████████| 2010/2010 [00:04<00:00, 412.78it/s]\n",
      "  2%|█▊                                                                             | 46/2010 [00:00<00:04, 456.85it/s]"
     ]
    },
    {
     "name": "stdout",
     "output_type": "stream",
     "text": [
      "episode : 32 reward : -2.048797104550309\n",
      "total test reward=-0.3374475629146199\n"
     ]
    },
    {
     "name": "stderr",
     "output_type": "stream",
     "text": [
      "100%|█████████████████████████████████████████████████████████████████████████████| 2010/2010 [00:04<00:00, 431.77it/s]\n",
      "  2%|█▊                                                                             | 45/2010 [00:00<00:04, 446.74it/s]"
     ]
    },
    {
     "name": "stdout",
     "output_type": "stream",
     "text": [
      "episode : 33 reward : -0.6935671411059745\n",
      "total test reward=-0.2602384564057837\n"
     ]
    },
    {
     "name": "stderr",
     "output_type": "stream",
     "text": [
      "100%|█████████████████████████████████████████████████████████████████████████████| 2010/2010 [00:04<00:00, 430.20it/s]\n",
      "  2%|█▍                                                                             | 38/2010 [00:00<00:05, 374.81it/s]"
     ]
    },
    {
     "name": "stdout",
     "output_type": "stream",
     "text": [
      "episode : 34 reward : -2.095416869743564\n",
      "total test reward=-0.35358150473233996\n"
     ]
    },
    {
     "name": "stderr",
     "output_type": "stream",
     "text": [
      "100%|█████████████████████████████████████████████████████████████████████████████| 2010/2010 [00:04<00:00, 435.06it/s]\n",
      "  4%|███▍                                                                           | 86/2010 [00:00<00:04, 414.27it/s]"
     ]
    },
    {
     "name": "stdout",
     "output_type": "stream",
     "text": [
      "episode : 35 reward : -0.15449375839757584\n",
      "total test reward=-0.3629617783522713\n"
     ]
    },
    {
     "name": "stderr",
     "output_type": "stream",
     "text": [
      "100%|█████████████████████████████████████████████████████████████████████████████| 2010/2010 [00:04<00:00, 434.68it/s]\n",
      "  2%|█▌                                                                             | 41/2010 [00:00<00:04, 407.77it/s]"
     ]
    },
    {
     "name": "stdout",
     "output_type": "stream",
     "text": [
      "episode : 36 reward : 1.5920717852823518\n",
      "total test reward=-0.37895311852768143\n"
     ]
    },
    {
     "name": "stderr",
     "output_type": "stream",
     "text": [
      "100%|█████████████████████████████████████████████████████████████████████████████| 2010/2010 [00:04<00:00, 428.38it/s]\n",
      "  2%|█▋                                                                             | 42/2010 [00:00<00:04, 408.73it/s]"
     ]
    },
    {
     "name": "stdout",
     "output_type": "stream",
     "text": [
      "episode : 37 reward : -2.8329637862158\n",
      "total test reward=-0.022395011394570608\n"
     ]
    },
    {
     "name": "stderr",
     "output_type": "stream",
     "text": [
      "100%|█████████████████████████████████████████████████████████████████████████████| 2010/2010 [00:04<00:00, 409.44it/s]\n",
      "  2%|█▉                                                                             | 48/2010 [00:00<00:04, 476.51it/s]"
     ]
    },
    {
     "name": "stdout",
     "output_type": "stream",
     "text": [
      "episode : 38 reward : -1.3539250226281339\n",
      "total test reward=0.8924183614097758\n"
     ]
    },
    {
     "name": "stderr",
     "output_type": "stream",
     "text": [
      "100%|█████████████████████████████████████████████████████████████████████████████| 2010/2010 [00:04<00:00, 443.92it/s]\n",
      "  2%|█▉                                                                             | 48/2010 [00:00<00:04, 467.10it/s]"
     ]
    },
    {
     "name": "stdout",
     "output_type": "stream",
     "text": [
      "episode : 39 reward : 0.06652443374528882\n",
      "total test reward=3.0967386215657493\n"
     ]
    },
    {
     "name": "stderr",
     "output_type": "stream",
     "text": [
      "100%|█████████████████████████████████████████████████████████████████████████████| 2010/2010 [00:04<00:00, 443.28it/s]\n",
      "  2%|█▋                                                                             | 44/2010 [00:00<00:04, 438.45it/s]"
     ]
    },
    {
     "name": "stdout",
     "output_type": "stream",
     "text": [
      "episode : 40 reward : 0.384586200296265\n",
      "total test reward=3.7103882657525014\n"
     ]
    },
    {
     "name": "stderr",
     "output_type": "stream",
     "text": [
      "100%|█████████████████████████████████████████████████████████████████████████████| 2010/2010 [00:04<00:00, 444.27it/s]\n",
      "  2%|█▋                                                                             | 44/2010 [00:00<00:04, 436.81it/s]"
     ]
    },
    {
     "name": "stdout",
     "output_type": "stream",
     "text": [
      "episode : 41 reward : -1.418007176641197\n",
      "total test reward=3.2484624091676424\n"
     ]
    },
    {
     "name": "stderr",
     "output_type": "stream",
     "text": [
      "100%|█████████████████████████████████████████████████████████████████████████████| 2010/2010 [00:04<00:00, 438.56it/s]\n",
      "  2%|█▊                                                                             | 45/2010 [00:00<00:04, 418.09it/s]"
     ]
    },
    {
     "name": "stdout",
     "output_type": "stream",
     "text": [
      "episode : 42 reward : -0.09639099377938054\n",
      "total test reward=3.539321110988704\n"
     ]
    },
    {
     "name": "stderr",
     "output_type": "stream",
     "text": [
      "100%|█████████████████████████████████████████████████████████████████████████████| 2010/2010 [00:04<00:00, 440.42it/s]\n",
      "  2%|█▊                                                                             | 47/2010 [00:00<00:04, 466.73it/s]"
     ]
    },
    {
     "name": "stdout",
     "output_type": "stream",
     "text": [
      "episode : 43 reward : 0.9438098771010415\n",
      "total test reward=3.4815138815353803\n"
     ]
    },
    {
     "name": "stderr",
     "output_type": "stream",
     "text": [
      "100%|█████████████████████████████████████████████████████████████████████████████| 2010/2010 [00:04<00:00, 439.68it/s]\n",
      "  2%|█▊                                                                             | 47/2010 [00:00<00:04, 462.15it/s]"
     ]
    },
    {
     "name": "stdout",
     "output_type": "stream",
     "text": [
      "episode : 44 reward : 1.7310693987170116\n",
      "total test reward=2.9844983938877485\n"
     ]
    },
    {
     "name": "stderr",
     "output_type": "stream",
     "text": [
      "100%|█████████████████████████████████████████████████████████████████████████████| 2010/2010 [00:04<00:00, 442.65it/s]\n",
      "  2%|█▋                                                                             | 43/2010 [00:00<00:04, 426.88it/s]"
     ]
    },
    {
     "name": "stdout",
     "output_type": "stream",
     "text": [
      "episode : 45 reward : -2.776472678098406\n",
      "total test reward=2.308162244188041\n"
     ]
    },
    {
     "name": "stderr",
     "output_type": "stream",
     "text": [
      "100%|█████████████████████████████████████████████████████████████████████████████| 2010/2010 [00:04<00:00, 430.48it/s]\n",
      "  2%|█▊                                                                             | 47/2010 [00:00<00:04, 462.02it/s]"
     ]
    },
    {
     "name": "stdout",
     "output_type": "stream",
     "text": [
      "episode : 46 reward : -0.6438351522518135\n",
      "total test reward=2.5226906637815185\n"
     ]
    },
    {
     "name": "stderr",
     "output_type": "stream",
     "text": [
      "100%|█████████████████████████████████████████████████████████████████████████████| 2010/2010 [00:04<00:00, 437.09it/s]\n",
      "  2%|█▊                                                                             | 47/2010 [00:00<00:04, 462.02it/s]"
     ]
    },
    {
     "name": "stdout",
     "output_type": "stream",
     "text": [
      "episode : 47 reward : 1.599742081871165\n",
      "total test reward=2.1519245869702965\n"
     ]
    },
    {
     "name": "stderr",
     "output_type": "stream",
     "text": [
      "100%|█████████████████████████████████████████████████████████████████████████████| 2010/2010 [00:04<00:00, 437.46it/s]\n",
      "  2%|█▋                                                                             | 44/2010 [00:00<00:04, 428.33it/s]"
     ]
    },
    {
     "name": "stdout",
     "output_type": "stream",
     "text": [
      "episode : 48 reward : 0.8408105478257757\n",
      "total test reward=2.53761021261604\n"
     ]
    },
    {
     "name": "stderr",
     "output_type": "stream",
     "text": [
      "100%|█████████████████████████████████████████████████████████████████████████████| 2010/2010 [00:04<00:00, 448.55it/s]\n",
      "  2%|█▉                                                                             | 50/2010 [00:00<00:04, 479.97it/s]"
     ]
    },
    {
     "name": "stdout",
     "output_type": "stream",
     "text": [
      "episode : 49 reward : 1.5012984908340052\n",
      "total test reward=3.01156428029087\n"
     ]
    },
    {
     "name": "stderr",
     "output_type": "stream",
     "text": [
      "100%|█████████████████████████████████████████████████████████████████████████████| 2010/2010 [00:04<00:00, 434.25it/s]\n",
      "  5%|███▊                                                                           | 96/2010 [00:00<00:03, 478.85it/s]"
     ]
    },
    {
     "name": "stdout",
     "output_type": "stream",
     "text": [
      "episode : 50 reward : -1.0788932100538504\n",
      "total test reward=3.47765327958903\n"
     ]
    },
    {
     "name": "stderr",
     "output_type": "stream",
     "text": [
      "100%|█████████████████████████████████████████████████████████████████████████████| 2010/2010 [00:04<00:00, 439.81it/s]\n",
      "  2%|█▊                                                                             | 46/2010 [00:00<00:04, 449.88it/s]"
     ]
    },
    {
     "name": "stdout",
     "output_type": "stream",
     "text": [
      "episode : 51 reward : 0.8753700594361509\n",
      "total test reward=3.491892998113461\n"
     ]
    },
    {
     "name": "stderr",
     "output_type": "stream",
     "text": [
      "100%|█████████████████████████████████████████████████████████████████████████████| 2010/2010 [00:04<00:00, 443.46it/s]\n",
      "  2%|█▌                                                                             | 39/2010 [00:00<00:05, 380.04it/s]"
     ]
    },
    {
     "name": "stdout",
     "output_type": "stream",
     "text": [
      "episode : 52 reward : 3.5164299561081167\n",
      "total test reward=3.7617593511027216\n"
     ]
    },
    {
     "name": "stderr",
     "output_type": "stream",
     "text": [
      "100%|█████████████████████████████████████████████████████████████████████████████| 2010/2010 [00:04<00:00, 437.56it/s]\n",
      "  2%|█▊                                                                             | 46/2010 [00:00<00:04, 449.57it/s]"
     ]
    },
    {
     "name": "stdout",
     "output_type": "stream",
     "text": [
      "episode : 53 reward : 1.649083446495419\n",
      "total test reward=2.8395456662565186\n"
     ]
    },
    {
     "name": "stderr",
     "output_type": "stream",
     "text": [
      "100%|█████████████████████████████████████████████████████████████████████████████| 2010/2010 [00:04<00:00, 451.88it/s]\n",
      "  2%|█▊                                                                             | 45/2010 [00:00<00:04, 403.00it/s]"
     ]
    },
    {
     "name": "stdout",
     "output_type": "stream",
     "text": [
      "episode : 54 reward : -1.9589380925846465\n",
      "total test reward=3.7157702773639314\n"
     ]
    },
    {
     "name": "stderr",
     "output_type": "stream",
     "text": [
      "100%|█████████████████████████████████████████████████████████████████████████████| 2010/2010 [00:04<00:00, 433.02it/s]\n",
      "  2%|█▋                                                                             | 42/2010 [00:00<00:04, 415.65it/s]"
     ]
    },
    {
     "name": "stdout",
     "output_type": "stream",
     "text": [
      "episode : 55 reward : 0.15189888132577067\n",
      "total test reward=3.7456335649834513\n"
     ]
    },
    {
     "name": "stderr",
     "output_type": "stream",
     "text": [
      "100%|█████████████████████████████████████████████████████████████████████████████| 2010/2010 [00:04<00:00, 441.51it/s]\n",
      "  2%|█▊                                                                             | 47/2010 [00:00<00:04, 466.45it/s]"
     ]
    },
    {
     "name": "stdout",
     "output_type": "stream",
     "text": [
      "episode : 56 reward : -18.4048078311348\n",
      "total test reward=3.71798703198919\n"
     ]
    },
    {
     "name": "stderr",
     "output_type": "stream",
     "text": [
      "100%|█████████████████████████████████████████████████████████████████████████████| 2010/2010 [00:04<00:00, 444.90it/s]\n",
      "  2%|█▋                                                                             | 43/2010 [00:00<00:04, 426.80it/s]"
     ]
    },
    {
     "name": "stdout",
     "output_type": "stream",
     "text": [
      "episode : 57 reward : 0.8694178621618618\n",
      "total test reward=5.187845544215788\n"
     ]
    },
    {
     "name": "stderr",
     "output_type": "stream",
     "text": [
      "100%|█████████████████████████████████████████████████████████████████████████████| 2010/2010 [00:04<00:00, 439.81it/s]\n",
      "  2%|█▊                                                                             | 46/2010 [00:00<00:04, 453.56it/s]"
     ]
    },
    {
     "name": "stdout",
     "output_type": "stream",
     "text": [
      "episode : 58 reward : 1.5289857027370903\n",
      "total test reward=3.853513378470841\n"
     ]
    },
    {
     "name": "stderr",
     "output_type": "stream",
     "text": [
      "100%|█████████████████████████████████████████████████████████████████████████████| 2010/2010 [00:04<00:00, 443.17it/s]\n",
      "  2%|█▋                                                                             | 43/2010 [00:00<00:05, 386.18it/s]"
     ]
    },
    {
     "name": "stdout",
     "output_type": "stream",
     "text": [
      "episode : 59 reward : -2.153717891869789\n",
      "total test reward=7.119271105611531\n"
     ]
    },
    {
     "name": "stderr",
     "output_type": "stream",
     "text": [
      "100%|█████████████████████████████████████████████████████████████████████████████| 2010/2010 [00:04<00:00, 452.04it/s]\n",
      "  2%|█▊                                                                             | 47/2010 [00:00<00:04, 424.43it/s]"
     ]
    },
    {
     "name": "stdout",
     "output_type": "stream",
     "text": [
      "episode : 60 reward : 3.1190432209493517\n",
      "total test reward=8.185670946589488\n"
     ]
    },
    {
     "name": "stderr",
     "output_type": "stream",
     "text": [
      "100%|█████████████████████████████████████████████████████████████████████████████| 2010/2010 [00:04<00:00, 455.09it/s]\n",
      "  2%|█▉                                                                             | 50/2010 [00:00<00:04, 484.53it/s]"
     ]
    },
    {
     "name": "stdout",
     "output_type": "stream",
     "text": [
      "episode : 61 reward : 1.592979465798869\n",
      "total test reward=8.905665504396298\n"
     ]
    },
    {
     "name": "stderr",
     "output_type": "stream",
     "text": [
      "100%|█████████████████████████████████████████████████████████████████████████████| 2010/2010 [00:04<00:00, 453.25it/s]\n",
      "  2%|█▉                                                                             | 48/2010 [00:00<00:04, 471.85it/s]"
     ]
    },
    {
     "name": "stdout",
     "output_type": "stream",
     "text": [
      "episode : 62 reward : 3.1244050075525074\n",
      "total test reward=8.724186448288188\n"
     ]
    },
    {
     "name": "stderr",
     "output_type": "stream",
     "text": [
      "100%|█████████████████████████████████████████████████████████████████████████████| 2010/2010 [00:04<00:00, 449.27it/s]\n",
      "  3%|██                                                                             | 52/2010 [00:00<00:03, 516.09it/s]"
     ]
    },
    {
     "name": "stdout",
     "output_type": "stream",
     "text": [
      "episode : 63 reward : 4.513848020198281\n",
      "total test reward=10.0260078686114\n"
     ]
    },
    {
     "name": "stderr",
     "output_type": "stream",
     "text": [
      "100%|█████████████████████████████████████████████████████████████████████████████| 2010/2010 [00:04<00:00, 455.82it/s]\n",
      "  2%|█▊                                                                             | 47/2010 [00:00<00:04, 466.60it/s]"
     ]
    },
    {
     "name": "stdout",
     "output_type": "stream",
     "text": [
      "episode : 64 reward : 0.5594272842099746\n",
      "total test reward=10.784817964116758\n"
     ]
    },
    {
     "name": "stderr",
     "output_type": "stream",
     "text": [
      "100%|█████████████████████████████████████████████████████████████████████████████| 2010/2010 [00:04<00:00, 460.90it/s]\n",
      "  2%|█▊                                                                             | 46/2010 [00:00<00:04, 452.18it/s]"
     ]
    },
    {
     "name": "stdout",
     "output_type": "stream",
     "text": [
      "episode : 65 reward : -48.139716879812326\n",
      "total test reward=10.645728556555943\n"
     ]
    },
    {
     "name": "stderr",
     "output_type": "stream",
     "text": [
      "100%|█████████████████████████████████████████████████████████████████████████████| 2010/2010 [00:04<00:00, 453.69it/s]\n",
      "  2%|█▉                                                                             | 49/2010 [00:00<00:04, 486.45it/s]"
     ]
    },
    {
     "name": "stdout",
     "output_type": "stream",
     "text": [
      "episode : 66 reward : 8.391838752407766\n",
      "total test reward=9.985521283111852\n"
     ]
    },
    {
     "name": "stderr",
     "output_type": "stream",
     "text": [
      "100%|█████████████████████████████████████████████████████████████████████████████| 2010/2010 [00:04<00:00, 424.66it/s]\n",
      "  2%|█▊                                                                             | 46/2010 [00:00<00:04, 456.52it/s]"
     ]
    },
    {
     "name": "stdout",
     "output_type": "stream",
     "text": [
      "episode : 67 reward : 3.130291705328977\n",
      "total test reward=12.995527169660921\n"
     ]
    },
    {
     "name": "stderr",
     "output_type": "stream",
     "text": [
      "100%|█████████████████████████████████████████████████████████████████████████████| 2010/2010 [00:04<00:00, 436.03it/s]\n",
      "  2%|█▉                                                                             | 48/2010 [00:00<00:04, 471.70it/s]"
     ]
    },
    {
     "name": "stdout",
     "output_type": "stream",
     "text": [
      "episode : 68 reward : 3.7931676585735215\n",
      "total test reward=12.626331274399377\n"
     ]
    },
    {
     "name": "stderr",
     "output_type": "stream",
     "text": [
      "100%|█████████████████████████████████████████████████████████████████████████████| 2010/2010 [00:04<00:00, 450.44it/s]\n",
      "  2%|█▊                                                                             | 47/2010 [00:00<00:04, 466.59it/s]"
     ]
    },
    {
     "name": "stdout",
     "output_type": "stream",
     "text": [
      "episode : 69 reward : 0.9263506498923024\n",
      "total test reward=12.823018177581407\n"
     ]
    },
    {
     "name": "stderr",
     "output_type": "stream",
     "text": [
      "100%|█████████████████████████████████████████████████████████████████████████████| 2010/2010 [00:04<00:00, 444.77it/s]\n",
      "  2%|█▊                                                                             | 47/2010 [00:00<00:04, 460.83it/s]"
     ]
    },
    {
     "name": "stdout",
     "output_type": "stream",
     "text": [
      "episode : 70 reward : 3.709770457806906\n",
      "total test reward=12.15139596749895\n"
     ]
    },
    {
     "name": "stderr",
     "output_type": "stream",
     "text": [
      "100%|█████████████████████████████████████████████████████████████████████████████| 2010/2010 [00:04<00:00, 445.12it/s]\n",
      "  2%|█▊                                                                             | 47/2010 [00:00<00:04, 461.87it/s]"
     ]
    },
    {
     "name": "stdout",
     "output_type": "stream",
     "text": [
      "episode : 71 reward : 3.0122169076902097\n",
      "total test reward=10.953753828388292\n"
     ]
    },
    {
     "name": "stderr",
     "output_type": "stream",
     "text": [
      "100%|█████████████████████████████████████████████████████████████████████████████| 2010/2010 [00:04<00:00, 443.08it/s]\n",
      "  2%|█▉                                                                             | 49/2010 [00:00<00:04, 471.63it/s]"
     ]
    },
    {
     "name": "stdout",
     "output_type": "stream",
     "text": [
      "episode : 72 reward : 4.542170011100724\n",
      "total test reward=11.424693098009909\n"
     ]
    },
    {
     "name": "stderr",
     "output_type": "stream",
     "text": [
      "100%|█████████████████████████████████████████████████████████████████████████████| 2010/2010 [00:04<00:00, 423.54it/s]\n",
      "  2%|█▋                                                                             | 43/2010 [00:00<00:04, 428.86it/s]"
     ]
    },
    {
     "name": "stdout",
     "output_type": "stream",
     "text": [
      "episode : 73 reward : 4.5467086318841945\n",
      "total test reward=11.110679079762381\n"
     ]
    },
    {
     "name": "stderr",
     "output_type": "stream",
     "text": [
      "100%|█████████████████████████████████████████████████████████████████████████████| 2010/2010 [00:04<00:00, 459.67it/s]\n",
      "  2%|█▋                                                                             | 43/2010 [00:00<00:04, 422.70it/s]"
     ]
    },
    {
     "name": "stdout",
     "output_type": "stream",
     "text": [
      "episode : 74 reward : -44.55896173570385\n",
      "total test reward=10.50512622921815\n"
     ]
    },
    {
     "name": "stderr",
     "output_type": "stream",
     "text": [
      "100%|█████████████████████████████████████████████████████████████████████████████| 2010/2010 [00:04<00:00, 441.02it/s]\n",
      "  2%|█▊                                                                             | 47/2010 [00:00<00:04, 466.74it/s]"
     ]
    },
    {
     "name": "stdout",
     "output_type": "stream",
     "text": [
      "episode : 75 reward : 5.762919863583288\n",
      "total test reward=11.004009845530721\n"
     ]
    },
    {
     "name": "stderr",
     "output_type": "stream",
     "text": [
      "100%|█████████████████████████████████████████████████████████████████████████████| 2010/2010 [00:04<00:00, 412.06it/s]\n",
      "  2%|█▋                                                                             | 44/2010 [00:00<00:04, 439.31it/s]"
     ]
    },
    {
     "name": "stdout",
     "output_type": "stream",
     "text": [
      "episode : 76 reward : 5.456836962422061\n",
      "total test reward=10.668921394612447\n"
     ]
    },
    {
     "name": "stderr",
     "output_type": "stream",
     "text": [
      "100%|█████████████████████████████████████████████████████████████████████████████| 2010/2010 [00:04<00:00, 445.72it/s]\n",
      "  2%|█▉                                                                             | 50/2010 [00:00<00:04, 470.05it/s]"
     ]
    },
    {
     "name": "stdout",
     "output_type": "stream",
     "text": [
      "episode : 77 reward : 0.5402386691304679\n",
      "total test reward=10.020059059817575\n"
     ]
    },
    {
     "name": "stderr",
     "output_type": "stream",
     "text": [
      "100%|█████████████████████████████████████████████████████████████████████████████| 2010/2010 [00:04<00:00, 447.03it/s]\n",
      "  2%|█▊                                                                             | 47/2010 [00:00<00:04, 454.30it/s]"
     ]
    },
    {
     "name": "stdout",
     "output_type": "stream",
     "text": [
      "episode : 78 reward : 0.6025381118321569\n",
      "total test reward=10.60374371696073\n"
     ]
    },
    {
     "name": "stderr",
     "output_type": "stream",
     "text": [
      "100%|█████████████████████████████████████████████████████████████████████████████| 2010/2010 [00:04<00:00, 450.49it/s]\n",
      "  2%|█▊                                                                             | 45/2010 [00:00<00:04, 442.36it/s]"
     ]
    },
    {
     "name": "stdout",
     "output_type": "stream",
     "text": [
      "episode : 79 reward : 7.595681274854458\n",
      "total test reward=11.006557162444754\n"
     ]
    },
    {
     "name": "stderr",
     "output_type": "stream",
     "text": [
      "100%|█████████████████████████████████████████████████████████████████████████████| 2010/2010 [00:04<00:00, 464.89it/s]\n",
      "  3%|██                                                                             | 51/2010 [00:00<00:03, 501.18it/s]"
     ]
    },
    {
     "name": "stdout",
     "output_type": "stream",
     "text": [
      "episode : 80 reward : 7.103482065605897\n",
      "total test reward=6.779337442860189\n"
     ]
    },
    {
     "name": "stderr",
     "output_type": "stream",
     "text": [
      "100%|█████████████████████████████████████████████████████████████████████████████| 2010/2010 [00:04<00:00, 465.16it/s]\n",
      "  5%|███▋                                                                           | 94/2010 [00:00<00:04, 465.32it/s]"
     ]
    },
    {
     "name": "stdout",
     "output_type": "stream",
     "text": [
      "episode : 81 reward : 3.0893146116902566\n",
      "total test reward=7.649648008742093\n"
     ]
    },
    {
     "name": "stderr",
     "output_type": "stream",
     "text": [
      "100%|█████████████████████████████████████████████████████████████████████████████| 2010/2010 [00:04<00:00, 452.98it/s]\n",
      "  2%|█▉                                                                             | 48/2010 [00:00<00:04, 457.78it/s]"
     ]
    },
    {
     "name": "stdout",
     "output_type": "stream",
     "text": [
      "episode : 82 reward : 4.739073278724037\n",
      "total test reward=11.638490511402507\n"
     ]
    },
    {
     "name": "stderr",
     "output_type": "stream",
     "text": [
      "100%|█████████████████████████████████████████████████████████████████████████████| 2010/2010 [00:04<00:00, 460.04it/s]\n",
      "  2%|█▉                                                                             | 48/2010 [00:00<00:04, 422.84it/s]"
     ]
    },
    {
     "name": "stdout",
     "output_type": "stream",
     "text": [
      "episode : 83 reward : 10.708997414438103\n",
      "total test reward=12.548646866725658\n"
     ]
    },
    {
     "name": "stderr",
     "output_type": "stream",
     "text": [
      "100%|█████████████████████████████████████████████████████████████████████████████| 2010/2010 [00:04<00:00, 460.95it/s]\n",
      "  2%|█▉                                                                             | 48/2010 [00:00<00:04, 471.85it/s]"
     ]
    },
    {
     "name": "stdout",
     "output_type": "stream",
     "text": [
      "episode : 84 reward : 6.837990014459756\n",
      "total test reward=12.470653047785143\n"
     ]
    },
    {
     "name": "stderr",
     "output_type": "stream",
     "text": [
      "100%|█████████████████████████████████████████████████████████████████████████████| 2010/2010 [00:04<00:00, 458.95it/s]\n",
      "  2%|█▋                                                                             | 44/2010 [00:00<00:04, 409.49it/s]"
     ]
    },
    {
     "name": "stdout",
     "output_type": "stream",
     "text": [
      "episode : 85 reward : 7.827794606619266\n",
      "total test reward=-22.64807389157583\n"
     ]
    },
    {
     "name": "stderr",
     "output_type": "stream",
     "text": [
      "100%|█████████████████████████████████████████████████████████████████████████████| 2010/2010 [00:04<00:00, 438.65it/s]\n",
      "  2%|█▉                                                                             | 48/2010 [00:00<00:04, 423.57it/s]"
     ]
    },
    {
     "name": "stdout",
     "output_type": "stream",
     "text": [
      "episode : 86 reward : 5.950350887708914\n",
      "total test reward=-16.038965053919867\n"
     ]
    },
    {
     "name": "stderr",
     "output_type": "stream",
     "text": [
      "100%|█████████████████████████████████████████████████████████████████████████████| 2010/2010 [00:04<00:00, 434.33it/s]\n",
      "  2%|█▊                                                                             | 46/2010 [00:00<00:04, 452.26it/s]"
     ]
    },
    {
     "name": "stdout",
     "output_type": "stream",
     "text": [
      "episode : 87 reward : 4.834234120597536\n",
      "total test reward=10.809637474839883\n"
     ]
    },
    {
     "name": "stderr",
     "output_type": "stream",
     "text": [
      "100%|█████████████████████████████████████████████████████████████████████████████| 2010/2010 [00:04<00:00, 461.06it/s]\n",
      "  5%|███▌                                                                           | 92/2010 [00:00<00:04, 462.31it/s]"
     ]
    },
    {
     "name": "stdout",
     "output_type": "stream",
     "text": [
      "episode : 88 reward : -9.134125991187487\n",
      "total test reward=5.821186681993943\n"
     ]
    },
    {
     "name": "stderr",
     "output_type": "stream",
     "text": [
      "100%|█████████████████████████████████████████████████████████████████████████████| 2010/2010 [00:04<00:00, 448.86it/s]\n",
      "  2%|█▉                                                                             | 49/2010 [00:00<00:04, 486.54it/s]"
     ]
    },
    {
     "name": "stdout",
     "output_type": "stream",
     "text": [
      "episode : 89 reward : 6.4506685388015\n",
      "total test reward=12.107378872414234\n"
     ]
    },
    {
     "name": "stderr",
     "output_type": "stream",
     "text": [
      "100%|█████████████████████████████████████████████████████████████████████████████| 2010/2010 [00:04<00:00, 448.77it/s]\n",
      "  2%|█▋                                                                             | 44/2010 [00:00<00:04, 408.01it/s]"
     ]
    },
    {
     "name": "stdout",
     "output_type": "stream",
     "text": [
      "episode : 90 reward : 3.745000083326251\n",
      "total test reward=14.132972296883773\n"
     ]
    },
    {
     "name": "stderr",
     "output_type": "stream",
     "text": [
      "100%|█████████████████████████████████████████████████████████████████████████████| 2010/2010 [00:04<00:00, 457.53it/s]\n",
      "  3%|██                                                                             | 51/2010 [00:00<00:03, 501.17it/s]"
     ]
    },
    {
     "name": "stdout",
     "output_type": "stream",
     "text": [
      "episode : 91 reward : 3.8904223272677436\n",
      "total test reward=13.218087011973063\n"
     ]
    },
    {
     "name": "stderr",
     "output_type": "stream",
     "text": [
      "100%|█████████████████████████████████████████████████████████████████████████████| 2010/2010 [00:04<00:00, 452.04it/s]\n",
      "  2%|█▋                                                                             | 43/2010 [00:00<00:04, 426.87it/s]"
     ]
    },
    {
     "name": "stdout",
     "output_type": "stream",
     "text": [
      "episode : 92 reward : 8.198575170090189\n",
      "total test reward=12.706039061544676\n"
     ]
    },
    {
     "name": "stderr",
     "output_type": "stream",
     "text": [
      "100%|█████████████████████████████████████████████████████████████████████████████| 2010/2010 [00:04<00:00, 444.67it/s]\n",
      "  2%|█▊                                                                             | 46/2010 [00:00<00:04, 422.86it/s]"
     ]
    },
    {
     "name": "stdout",
     "output_type": "stream",
     "text": [
      "episode : 93 reward : 5.5156707858531036\n",
      "total test reward=12.359476371769807\n"
     ]
    },
    {
     "name": "stderr",
     "output_type": "stream",
     "text": [
      "100%|█████████████████████████████████████████████████████████████████████████████| 2010/2010 [00:04<00:00, 437.05it/s]\n",
      "  2%|█▉                                                                             | 50/2010 [00:00<00:04, 436.02it/s]"
     ]
    },
    {
     "name": "stdout",
     "output_type": "stream",
     "text": [
      "episode : 94 reward : 5.714063429864075\n",
      "total test reward=11.33175853281906\n"
     ]
    },
    {
     "name": "stderr",
     "output_type": "stream",
     "text": [
      "100%|█████████████████████████████████████████████████████████████████████████████| 2010/2010 [00:04<00:00, 445.01it/s]\n",
      "  2%|█▊                                                                             | 47/2010 [00:00<00:04, 431.16it/s]"
     ]
    },
    {
     "name": "stdout",
     "output_type": "stream",
     "text": [
      "episode : 95 reward : 9.849007344516117\n",
      "total test reward=11.296576519767017\n"
     ]
    },
    {
     "name": "stderr",
     "output_type": "stream",
     "text": [
      "100%|█████████████████████████████████████████████████████████████████████████████| 2010/2010 [00:04<00:00, 453.14it/s]\n",
      "  2%|█▋                                                                             | 43/2010 [00:00<00:04, 422.83it/s]"
     ]
    },
    {
     "name": "stdout",
     "output_type": "stream",
     "text": [
      "episode : 96 reward : 12.148786404545326\n",
      "total test reward=12.21527253573042\n"
     ]
    },
    {
     "name": "stderr",
     "output_type": "stream",
     "text": [
      "100%|█████████████████████████████████████████████████████████████████████████████| 2010/2010 [00:04<00:00, 450.95it/s]\n",
      "  2%|█▉                                                                             | 48/2010 [00:00<00:04, 472.00it/s]"
     ]
    },
    {
     "name": "stdout",
     "output_type": "stream",
     "text": [
      "episode : 97 reward : 6.351825919282218\n",
      "total test reward=12.938769744620416\n"
     ]
    },
    {
     "name": "stderr",
     "output_type": "stream",
     "text": [
      "100%|█████████████████████████████████████████████████████████████████████████████| 2010/2010 [00:04<00:00, 451.49it/s]\n",
      "  2%|█▉                                                                             | 48/2010 [00:00<00:04, 472.06it/s]"
     ]
    },
    {
     "name": "stdout",
     "output_type": "stream",
     "text": [
      "episode : 98 reward : 8.917441418164758\n",
      "total test reward=12.619997442026941\n"
     ]
    },
    {
     "name": "stderr",
     "output_type": "stream",
     "text": [
      "100%|█████████████████████████████████████████████████████████████████████████████| 2010/2010 [00:04<00:00, 446.18it/s]\n",
      "  2%|█▉                                                                             | 49/2010 [00:00<00:04, 470.21it/s]"
     ]
    },
    {
     "name": "stdout",
     "output_type": "stream",
     "text": [
      "episode : 99 reward : 9.345664116413216\n",
      "total test reward=7.4605388644453825\n"
     ]
    },
    {
     "name": "stderr",
     "output_type": "stream",
     "text": [
      "100%|█████████████████████████████████████████████████████████████████████████████| 2010/2010 [00:04<00:00, 444.13it/s]\n",
      "  2%|█▉                                                                             | 50/2010 [00:00<00:03, 496.37it/s]"
     ]
    },
    {
     "name": "stdout",
     "output_type": "stream",
     "text": [
      "episode : 100 reward : 8.056109383994299\n",
      "total test reward=-3.528749622188001\n"
     ]
    },
    {
     "name": "stderr",
     "output_type": "stream",
     "text": [
      "100%|█████████████████████████████████████████████████████████████████████████████| 2010/2010 [00:04<00:00, 452.13it/s]\n",
      "  2%|█▊                                                                             | 47/2010 [00:00<00:04, 457.53it/s]"
     ]
    },
    {
     "name": "stdout",
     "output_type": "stream",
     "text": [
      "episode : 101 reward : 6.801233599911104\n",
      "total test reward=12.976838302022676\n"
     ]
    },
    {
     "name": "stderr",
     "output_type": "stream",
     "text": [
      "100%|█████████████████████████████████████████████████████████████████████████████| 2010/2010 [00:04<00:00, 430.82it/s]\n",
      "  2%|█▊                                                                             | 47/2010 [00:00<00:04, 432.10it/s]"
     ]
    },
    {
     "name": "stdout",
     "output_type": "stream",
     "text": [
      "episode : 102 reward : 8.715653915439557\n",
      "total test reward=12.655255702955099\n"
     ]
    },
    {
     "name": "stderr",
     "output_type": "stream",
     "text": [
      "100%|█████████████████████████████████████████████████████████████████████████████| 2010/2010 [00:04<00:00, 447.56it/s]\n",
      "  2%|█▉                                                                             | 48/2010 [00:00<00:04, 464.65it/s]"
     ]
    },
    {
     "name": "stdout",
     "output_type": "stream",
     "text": [
      "episode : 103 reward : 9.426131402345945\n",
      "total test reward=13.336046268071602\n"
     ]
    },
    {
     "name": "stderr",
     "output_type": "stream",
     "text": [
      "100%|█████████████████████████████████████████████████████████████████████████████| 2010/2010 [00:04<00:00, 457.87it/s]\n",
      "  2%|█▉                                                                             | 49/2010 [00:00<00:04, 481.67it/s]"
     ]
    },
    {
     "name": "stdout",
     "output_type": "stream",
     "text": [
      "episode : 104 reward : 11.275102764721103\n",
      "total test reward=13.351705082036489\n"
     ]
    },
    {
     "name": "stderr",
     "output_type": "stream",
     "text": [
      "100%|█████████████████████████████████████████████████████████████████████████████| 2010/2010 [00:04<00:00, 445.69it/s]\n",
      "  3%|██                                                                             | 51/2010 [00:00<00:03, 506.30it/s]"
     ]
    },
    {
     "name": "stdout",
     "output_type": "stream",
     "text": [
      "episode : 105 reward : 7.851383850550697\n",
      "total test reward=13.622570230455437\n"
     ]
    },
    {
     "name": "stderr",
     "output_type": "stream",
     "text": [
      "100%|█████████████████████████████████████████████████████████████████████████████| 2010/2010 [00:04<00:00, 441.73it/s]\n",
      "  2%|█▉                                                                             | 48/2010 [00:00<00:04, 467.26it/s]"
     ]
    },
    {
     "name": "stdout",
     "output_type": "stream",
     "text": [
      "episode : 106 reward : 8.596501288721575\n",
      "total test reward=12.796611140672209\n"
     ]
    },
    {
     "name": "stderr",
     "output_type": "stream",
     "text": [
      "100%|█████████████████████████████████████████████████████████████████████████████| 2010/2010 [00:04<00:00, 452.39it/s]\n",
      "  2%|█▊                                                                             | 46/2010 [00:00<00:04, 456.66it/s]"
     ]
    },
    {
     "name": "stdout",
     "output_type": "stream",
     "text": [
      "episode : 107 reward : 10.641465041346624\n",
      "total test reward=14.812233544910319\n"
     ]
    },
    {
     "name": "stderr",
     "output_type": "stream",
     "text": [
      "100%|█████████████████████████████████████████████████████████████████████████████| 2010/2010 [00:04<00:00, 456.91it/s]\n",
      "  2%|█▊                                                                             | 46/2010 [00:00<00:04, 421.82it/s]"
     ]
    },
    {
     "name": "stdout",
     "output_type": "stream",
     "text": [
      "episode : 108 reward : 10.141496176216922\n",
      "total test reward=14.97959892846907\n"
     ]
    },
    {
     "name": "stderr",
     "output_type": "stream",
     "text": [
      "100%|█████████████████████████████████████████████████████████████████████████████| 2010/2010 [00:04<00:00, 448.92it/s]\n",
      "  3%|██                                                                             | 52/2010 [00:00<00:04, 472.11it/s]"
     ]
    },
    {
     "name": "stdout",
     "output_type": "stream",
     "text": [
      "episode : 109 reward : 13.744721986783334\n",
      "total test reward=1.011201577921673\n"
     ]
    },
    {
     "name": "stderr",
     "output_type": "stream",
     "text": [
      "100%|█████████████████████████████████████████████████████████████████████████████| 2010/2010 [00:04<00:00, 456.90it/s]\n",
      "  2%|█▉                                                                             | 49/2010 [00:00<00:04, 425.21it/s]"
     ]
    },
    {
     "name": "stdout",
     "output_type": "stream",
     "text": [
      "episode : 110 reward : 9.240898941611624\n",
      "total test reward=1.1145310696691595\n"
     ]
    },
    {
     "name": "stderr",
     "output_type": "stream",
     "text": [
      "100%|█████████████████████████████████████████████████████████████████████████████| 2010/2010 [00:04<00:00, 457.18it/s]\n",
      "  2%|█▉                                                                             | 48/2010 [00:00<00:04, 446.85it/s]"
     ]
    },
    {
     "name": "stdout",
     "output_type": "stream",
     "text": [
      "episode : 111 reward : 20.874508596324798\n",
      "total test reward=1.5738057771623637\n"
     ]
    },
    {
     "name": "stderr",
     "output_type": "stream",
     "text": [
      "100%|█████████████████████████████████████████████████████████████████████████████| 2010/2010 [00:04<00:00, 452.00it/s]\n",
      "  2%|█▊                                                                             | 47/2010 [00:00<00:04, 466.59it/s]"
     ]
    },
    {
     "name": "stdout",
     "output_type": "stream",
     "text": [
      "episode : 112 reward : 10.385938528659477\n",
      "total test reward=5.676818887305222\n"
     ]
    },
    {
     "name": "stderr",
     "output_type": "stream",
     "text": [
      "100%|█████████████████████████████████████████████████████████████████████████████| 2010/2010 [00:04<00:00, 454.83it/s]\n",
      "  2%|█▉                                                                             | 49/2010 [00:00<00:04, 448.19it/s]"
     ]
    },
    {
     "name": "stdout",
     "output_type": "stream",
     "text": [
      "episode : 113 reward : 11.81408728844327\n",
      "total test reward=-21.702689774374875\n"
     ]
    },
    {
     "name": "stderr",
     "output_type": "stream",
     "text": [
      "100%|█████████████████████████████████████████████████████████████████████████████| 2010/2010 [00:04<00:00, 453.91it/s]\n",
      "  2%|█▊                                                                             | 46/2010 [00:00<00:04, 452.18it/s]"
     ]
    },
    {
     "name": "stdout",
     "output_type": "stream",
     "text": [
      "episode : 114 reward : 14.336295707759085\n",
      "total test reward=-21.509502029834113\n"
     ]
    },
    {
     "name": "stderr",
     "output_type": "stream",
     "text": [
      "100%|█████████████████████████████████████████████████████████████████████████████| 2010/2010 [00:04<00:00, 456.96it/s]\n",
      "  2%|█▊                                                                             | 46/2010 [00:00<00:04, 456.52it/s]"
     ]
    },
    {
     "name": "stdout",
     "output_type": "stream",
     "text": [
      "episode : 115 reward : 8.896897199479554\n",
      "total test reward=39.486308583953914\n"
     ]
    },
    {
     "name": "stderr",
     "output_type": "stream",
     "text": [
      "100%|█████████████████████████████████████████████████████████████████████████████| 2010/2010 [00:04<00:00, 454.55it/s]\n",
      "  3%|██                                                                             | 52/2010 [00:00<00:04, 480.86it/s]"
     ]
    },
    {
     "name": "stdout",
     "output_type": "stream",
     "text": [
      "episode : 116 reward : 25.881629730410886\n",
      "total test reward=65.71009954353605\n"
     ]
    },
    {
     "name": "stderr",
     "output_type": "stream",
     "text": [
      "100%|█████████████████████████████████████████████████████████████████████████████| 2010/2010 [00:04<00:00, 462.52it/s]\n",
      "  2%|█▋                                                                             | 44/2010 [00:00<00:04, 399.97it/s]"
     ]
    },
    {
     "name": "stdout",
     "output_type": "stream",
     "text": [
      "episode : 117 reward : 4.005236241225462\n",
      "total test reward=58.66666479781772\n"
     ]
    },
    {
     "name": "stderr",
     "output_type": "stream",
     "text": [
      "100%|█████████████████████████████████████████████████████████████████████████████| 2010/2010 [00:04<00:00, 455.31it/s]\n",
      "  2%|█▊                                                                             | 47/2010 [00:00<00:04, 466.45it/s]"
     ]
    },
    {
     "name": "stdout",
     "output_type": "stream",
     "text": [
      "episode : 118 reward : 15.139776620251546\n",
      "total test reward=17.75865620573039\n"
     ]
    },
    {
     "name": "stderr",
     "output_type": "stream",
     "text": [
      "100%|█████████████████████████████████████████████████████████████████████████████| 2010/2010 [00:04<00:00, 455.45it/s]\n",
      "  2%|█▊                                                                             | 45/2010 [00:00<00:04, 447.42it/s]"
     ]
    },
    {
     "name": "stdout",
     "output_type": "stream",
     "text": [
      "episode : 119 reward : 7.059929433197853\n",
      "total test reward=54.80360966705147\n"
     ]
    },
    {
     "name": "stderr",
     "output_type": "stream",
     "text": [
      "100%|█████████████████████████████████████████████████████████████████████████████| 2010/2010 [00:04<00:00, 463.09it/s]\n",
      "  2%|█▉                                                                             | 49/2010 [00:00<00:04, 486.45it/s]"
     ]
    },
    {
     "name": "stdout",
     "output_type": "stream",
     "text": [
      "episode : 120 reward : 37.49450892478278\n",
      "total test reward=29.61347445857644\n"
     ]
    },
    {
     "name": "stderr",
     "output_type": "stream",
     "text": [
      "100%|█████████████████████████████████████████████████████████████████████████████| 2010/2010 [00:04<00:00, 464.71it/s]\n",
      "  2%|█▋                                                                             | 42/2010 [00:00<00:04, 418.65it/s]"
     ]
    },
    {
     "name": "stdout",
     "output_type": "stream",
     "text": [
      "episode : 121 reward : 17.652255409617656\n",
      "total test reward=80.98594540022873\n"
     ]
    },
    {
     "name": "stderr",
     "output_type": "stream",
     "text": [
      "100%|█████████████████████████████████████████████████████████████████████████████| 2010/2010 [00:04<00:00, 422.86it/s]\n",
      "  2%|█▊                                                                             | 47/2010 [00:00<00:04, 460.01it/s]"
     ]
    },
    {
     "name": "stdout",
     "output_type": "stream",
     "text": [
      "episode : 122 reward : 20.487067645806942\n",
      "total test reward=80.53243582653721\n"
     ]
    },
    {
     "name": "stderr",
     "output_type": "stream",
     "text": [
      "100%|█████████████████████████████████████████████████████████████████████████████| 2010/2010 [00:04<00:00, 477.59it/s]\n",
      "  2%|█▊                                                                             | 45/2010 [00:00<00:04, 413.03it/s]"
     ]
    },
    {
     "name": "stdout",
     "output_type": "stream",
     "text": [
      "episode : 123 reward : 12.650833734343562\n",
      "total test reward=42.426941364618756\n"
     ]
    },
    {
     "name": "stderr",
     "output_type": "stream",
     "text": [
      "100%|█████████████████████████████████████████████████████████████████████████████| 2010/2010 [00:04<00:00, 478.88it/s]\n",
      "  3%|██▎                                                                            | 58/2010 [00:00<00:03, 503.69it/s]"
     ]
    },
    {
     "name": "stdout",
     "output_type": "stream",
     "text": [
      "episode : 124 reward : 11.471287161675901\n",
      "total test reward=44.0948703539647\n"
     ]
    },
    {
     "name": "stderr",
     "output_type": "stream",
     "text": [
      "100%|█████████████████████████████████████████████████████████████████████████████| 2010/2010 [00:04<00:00, 483.64it/s]\n",
      "  3%|██                                                                             | 52/2010 [00:00<00:03, 511.16it/s]"
     ]
    },
    {
     "name": "stdout",
     "output_type": "stream",
     "text": [
      "episode : 125 reward : 14.886330838366295\n",
      "total test reward=53.042769791504\n"
     ]
    },
    {
     "name": "stderr",
     "output_type": "stream",
     "text": [
      "100%|█████████████████████████████████████████████████████████████████████████████| 2010/2010 [00:04<00:00, 486.65it/s]\n",
      "  3%|██▎                                                                            | 60/2010 [00:00<00:03, 525.73it/s]"
     ]
    },
    {
     "name": "stdout",
     "output_type": "stream",
     "text": [
      "episode : 126 reward : 12.714890442783632\n",
      "total test reward=41.47210059521329\n"
     ]
    },
    {
     "name": "stderr",
     "output_type": "stream",
     "text": [
      "100%|█████████████████████████████████████████████████████████████████████████████| 2010/2010 [00:04<00:00, 494.78it/s]\n",
      "  2%|█▉                                                                             | 50/2010 [00:00<00:04, 478.91it/s]"
     ]
    },
    {
     "name": "stdout",
     "output_type": "stream",
     "text": [
      "episode : 127 reward : 13.478243018332646\n",
      "total test reward=59.33564813553515\n"
     ]
    },
    {
     "name": "stderr",
     "output_type": "stream",
     "text": [
      "100%|█████████████████████████████████████████████████████████████████████████████| 2010/2010 [00:04<00:00, 494.12it/s]\n",
      "  2%|█▊                                                                             | 46/2010 [00:00<00:04, 450.23it/s]"
     ]
    },
    {
     "name": "stdout",
     "output_type": "stream",
     "text": [
      "episode : 128 reward : 6.49814783956824\n",
      "total test reward=78.297282550985\n"
     ]
    },
    {
     "name": "stderr",
     "output_type": "stream",
     "text": [
      "100%|█████████████████████████████████████████████████████████████████████████████| 2010/2010 [00:04<00:00, 485.88it/s]\n",
      "  2%|█▉                                                                             | 49/2010 [00:00<00:04, 486.45it/s]"
     ]
    },
    {
     "name": "stdout",
     "output_type": "stream",
     "text": [
      "episode : 129 reward : 10.315336690034586\n",
      "total test reward=50.39948979441051\n"
     ]
    },
    {
     "name": "stderr",
     "output_type": "stream",
     "text": [
      "100%|█████████████████████████████████████████████████████████████████████████████| 2010/2010 [00:04<00:00, 496.70it/s]\n",
      "  2%|█▊                                                                             | 47/2010 [00:00<00:04, 445.77it/s]"
     ]
    },
    {
     "name": "stdout",
     "output_type": "stream",
     "text": [
      "episode : 130 reward : 19.061084632007898\n",
      "total test reward=100.1132196610566\n"
     ]
    },
    {
     "name": "stderr",
     "output_type": "stream",
     "text": [
      "100%|█████████████████████████████████████████████████████████████████████████████| 2010/2010 [00:04<00:00, 499.75it/s]\n",
      "  2%|█▋                                                                             | 43/2010 [00:00<00:05, 379.69it/s]"
     ]
    },
    {
     "name": "stdout",
     "output_type": "stream",
     "text": [
      "episode : 131 reward : 14.065994841747358\n",
      "total test reward=88.03606226420149\n"
     ]
    },
    {
     "name": "stderr",
     "output_type": "stream",
     "text": [
      "100%|█████████████████████████████████████████████████████████████████████████████| 2010/2010 [00:04<00:00, 494.12it/s]\n",
      "  3%|██▏                                                                            | 55/2010 [00:00<00:04, 477.93it/s]"
     ]
    },
    {
     "name": "stdout",
     "output_type": "stream",
     "text": [
      "episode : 132 reward : 10.357336215829681\n",
      "total test reward=66.08262140726575\n"
     ]
    },
    {
     "name": "stderr",
     "output_type": "stream",
     "text": [
      "100%|█████████████████████████████████████████████████████████████████████████████| 2010/2010 [00:04<00:00, 497.29it/s]\n",
      "  5%|███▊                                                                           | 98/2010 [00:00<00:04, 463.16it/s]"
     ]
    },
    {
     "name": "stdout",
     "output_type": "stream",
     "text": [
      "episode : 133 reward : 20.567752038169644\n",
      "total test reward=72.6299216570233\n"
     ]
    },
    {
     "name": "stderr",
     "output_type": "stream",
     "text": [
      "100%|█████████████████████████████████████████████████████████████████████████████| 2010/2010 [00:03<00:00, 503.76it/s]\n",
      "  3%|██                                                                             | 52/2010 [00:00<00:04, 474.86it/s]"
     ]
    },
    {
     "name": "stdout",
     "output_type": "stream",
     "text": [
      "episode : 134 reward : 13.772461745125405\n",
      "total test reward=84.59674107869276\n"
     ]
    },
    {
     "name": "stderr",
     "output_type": "stream",
     "text": [
      "100%|█████████████████████████████████████████████████████████████████████████████| 2010/2010 [00:04<00:00, 497.28it/s]\n",
      "  2%|█▊                                                                             | 47/2010 [00:00<00:04, 455.47it/s]"
     ]
    },
    {
     "name": "stdout",
     "output_type": "stream",
     "text": [
      "episode : 135 reward : 16.831256858600494\n",
      "total test reward=43.611837619444316\n"
     ]
    },
    {
     "name": "stderr",
     "output_type": "stream",
     "text": [
      "100%|█████████████████████████████████████████████████████████████████████████████| 2010/2010 [00:04<00:00, 494.68it/s]\n",
      "  3%|██                                                                             | 53/2010 [00:00<00:03, 520.84it/s]"
     ]
    },
    {
     "name": "stdout",
     "output_type": "stream",
     "text": [
      "episode : 136 reward : 24.385790304307406\n",
      "total test reward=20.061074945511823\n"
     ]
    },
    {
     "name": "stderr",
     "output_type": "stream",
     "text": [
      "100%|█████████████████████████████████████████████████████████████████████████████| 2010/2010 [00:04<00:00, 494.58it/s]\n",
      "  3%|██▏                                                                            | 56/2010 [00:00<00:03, 493.15it/s]"
     ]
    },
    {
     "name": "stdout",
     "output_type": "stream",
     "text": [
      "episode : 137 reward : 26.016253140060666\n",
      "total test reward=24.417317074264123\n"
     ]
    },
    {
     "name": "stderr",
     "output_type": "stream",
     "text": [
      "100%|█████████████████████████████████████████████████████████████████████████████| 2010/2010 [00:04<00:00, 486.95it/s]\n",
      "  3%|██                                                                             | 52/2010 [00:00<00:03, 516.23it/s]"
     ]
    },
    {
     "name": "stdout",
     "output_type": "stream",
     "text": [
      "episode : 138 reward : 11.89749289023855\n",
      "total test reward=14.205597787608104\n"
     ]
    },
    {
     "name": "stderr",
     "output_type": "stream",
     "text": [
      "100%|█████████████████████████████████████████████████████████████████████████████| 2010/2010 [00:04<00:00, 499.54it/s]\n",
      "  2%|█▊                                                                             | 46/2010 [00:00<00:04, 454.08it/s]"
     ]
    },
    {
     "name": "stdout",
     "output_type": "stream",
     "text": [
      "episode : 139 reward : 14.645975385793104\n",
      "total test reward=22.528626108808858\n"
     ]
    },
    {
     "name": "stderr",
     "output_type": "stream",
     "text": [
      "100%|█████████████████████████████████████████████████████████████████████████████| 2010/2010 [00:04<00:00, 488.26it/s]\n",
      "  5%|███▊                                                                           | 98/2010 [00:00<00:04, 462.05it/s]"
     ]
    },
    {
     "name": "stdout",
     "output_type": "stream",
     "text": [
      "episode : 140 reward : 13.613724445474366\n",
      "total test reward=29.257801644446396\n"
     ]
    },
    {
     "name": "stderr",
     "output_type": "stream",
     "text": [
      "100%|█████████████████████████████████████████████████████████████████████████████| 2010/2010 [00:04<00:00, 488.57it/s]\n",
      "  2%|█▋                                                                             | 44/2010 [00:00<00:04, 416.99it/s]"
     ]
    },
    {
     "name": "stdout",
     "output_type": "stream",
     "text": [
      "episode : 141 reward : 10.325059980581793\n",
      "total test reward=35.38585068295027\n"
     ]
    },
    {
     "name": "stderr",
     "output_type": "stream",
     "text": [
      "100%|█████████████████████████████████████████████████████████████████████████████| 2010/2010 [00:04<00:00, 487.23it/s]\n",
      "  3%|██▏                                                                            | 55/2010 [00:00<00:03, 540.66it/s]"
     ]
    },
    {
     "name": "stdout",
     "output_type": "stream",
     "text": [
      "episode : 142 reward : 22.41797858485135\n",
      "total test reward=20.2459613202517\n"
     ]
    },
    {
     "name": "stderr",
     "output_type": "stream",
     "text": [
      "100%|█████████████████████████████████████████████████████████████████████████████| 2010/2010 [00:04<00:00, 495.95it/s]\n",
      "  3%|██                                                                             | 51/2010 [00:00<00:04, 486.85it/s]"
     ]
    },
    {
     "name": "stdout",
     "output_type": "stream",
     "text": [
      "episode : 143 reward : 27.657582244527813\n",
      "total test reward=34.50877653650183\n"
     ]
    },
    {
     "name": "stderr",
     "output_type": "stream",
     "text": [
      "100%|█████████████████████████████████████████████████████████████████████████████| 2010/2010 [00:04<00:00, 496.20it/s]\n",
      "  2%|█▊                                                                             | 47/2010 [00:00<00:04, 464.32it/s]"
     ]
    },
    {
     "name": "stdout",
     "output_type": "stream",
     "text": [
      "episode : 144 reward : 18.35667112306089\n",
      "total test reward=31.532568154740737\n"
     ]
    },
    {
     "name": "stderr",
     "output_type": "stream",
     "text": [
      "100%|█████████████████████████████████████████████████████████████████████████████| 2010/2010 [00:04<00:00, 492.25it/s]\n",
      "  3%|██                                                                             | 54/2010 [00:00<00:04, 471.36it/s]"
     ]
    },
    {
     "name": "stdout",
     "output_type": "stream",
     "text": [
      "episode : 145 reward : 12.354395250437351\n",
      "total test reward=33.943605718850456\n"
     ]
    },
    {
     "name": "stderr",
     "output_type": "stream",
     "text": [
      "100%|█████████████████████████████████████████████████████████████████████████████| 2010/2010 [00:04<00:00, 494.50it/s]\n",
      "  2%|█▊                                                                             | 46/2010 [00:00<00:04, 452.27it/s]"
     ]
    },
    {
     "name": "stdout",
     "output_type": "stream",
     "text": [
      "episode : 146 reward : -7.615612174293608\n",
      "total test reward=32.00677583931431\n"
     ]
    },
    {
     "name": "stderr",
     "output_type": "stream",
     "text": [
      "100%|█████████████████████████████████████████████████████████████████████████████| 2010/2010 [00:04<00:00, 498.95it/s]\n",
      "  2%|█▉                                                                             | 50/2010 [00:00<00:03, 492.93it/s]"
     ]
    },
    {
     "name": "stdout",
     "output_type": "stream",
     "text": [
      "episode : 147 reward : 22.383413586080067\n",
      "total test reward=38.31768198424764\n"
     ]
    },
    {
     "name": "stderr",
     "output_type": "stream",
     "text": [
      "100%|█████████████████████████████████████████████████████████████████████████████| 2010/2010 [00:04<00:00, 499.98it/s]\n",
      "  3%|██▏                                                                            | 56/2010 [00:00<00:03, 490.49it/s]"
     ]
    },
    {
     "name": "stdout",
     "output_type": "stream",
     "text": [
      "episode : 148 reward : 11.561553303094946\n",
      "total test reward=47.87706918866791\n"
     ]
    },
    {
     "name": "stderr",
     "output_type": "stream",
     "text": [
      "100%|█████████████████████████████████████████████████████████████████████████████| 2010/2010 [00:04<00:00, 495.07it/s]\n",
      "  3%|██                                                                             | 53/2010 [00:00<00:04, 481.03it/s]"
     ]
    },
    {
     "name": "stdout",
     "output_type": "stream",
     "text": [
      "episode : 149 reward : 9.79931101542448\n",
      "total test reward=34.379991050287536\n"
     ]
    },
    {
     "name": "stderr",
     "output_type": "stream",
     "text": [
      "100%|█████████████████████████████████████████████████████████████████████████████| 2010/2010 [00:04<00:00, 500.64it/s]\n",
      "  2%|█▉                                                                             | 49/2010 [00:00<00:04, 453.44it/s]"
     ]
    },
    {
     "name": "stdout",
     "output_type": "stream",
     "text": [
      "episode : 150 reward : 23.03419026447998\n",
      "total test reward=47.44113732073703\n"
     ]
    },
    {
     "name": "stderr",
     "output_type": "stream",
     "text": [
      "100%|█████████████████████████████████████████████████████████████████████████████| 2010/2010 [00:04<00:00, 500.77it/s]\n",
      "  5%|███▌                                                                           | 91/2010 [00:00<00:04, 435.11it/s]"
     ]
    },
    {
     "name": "stdout",
     "output_type": "stream",
     "text": [
      "episode : 151 reward : 29.24712705042685\n",
      "total test reward=62.56475434301873\n"
     ]
    },
    {
     "name": "stderr",
     "output_type": "stream",
     "text": [
      "100%|█████████████████████████████████████████████████████████████████████████████| 2010/2010 [00:04<00:00, 495.47it/s]\n",
      "  2%|█▉                                                                             | 48/2010 [00:00<00:04, 473.17it/s]"
     ]
    },
    {
     "name": "stdout",
     "output_type": "stream",
     "text": [
      "episode : 152 reward : -3.1039291278530325\n",
      "total test reward=37.46536076623703\n"
     ]
    },
    {
     "name": "stderr",
     "output_type": "stream",
     "text": [
      "100%|█████████████████████████████████████████████████████████████████████████████| 2010/2010 [00:04<00:00, 493.35it/s]\n",
      "  3%|██                                                                             | 53/2010 [00:00<00:03, 526.16it/s]"
     ]
    },
    {
     "name": "stdout",
     "output_type": "stream",
     "text": [
      "episode : 153 reward : 18.01130534509245\n",
      "total test reward=45.48338897160659\n"
     ]
    },
    {
     "name": "stderr",
     "output_type": "stream",
     "text": [
      "100%|█████████████████████████████████████████████████████████████████████████████| 2010/2010 [00:04<00:00, 476.11it/s]\n",
      "  2%|█▋                                                                             | 44/2010 [00:00<00:04, 418.18it/s]"
     ]
    },
    {
     "name": "stdout",
     "output_type": "stream",
     "text": [
      "episode : 154 reward : 11.065524454707859\n",
      "total test reward=63.65959378105877\n"
     ]
    },
    {
     "name": "stderr",
     "output_type": "stream",
     "text": [
      "100%|█████████████████████████████████████████████████████████████████████████████| 2010/2010 [00:04<00:00, 478.49it/s]\n",
      "  5%|███▋                                                                           | 95/2010 [00:00<00:04, 473.85it/s]"
     ]
    },
    {
     "name": "stdout",
     "output_type": "stream",
     "text": [
      "episode : 155 reward : 23.260539838424744\n",
      "total test reward=40.65092530901172\n"
     ]
    },
    {
     "name": "stderr",
     "output_type": "stream",
     "text": [
      "100%|█████████████████████████████████████████████████████████████████████████████| 2010/2010 [00:04<00:00, 402.35it/s]\n",
      "  5%|███▉                                                                          | 100/2010 [00:00<00:03, 485.84it/s]"
     ]
    },
    {
     "name": "stdout",
     "output_type": "stream",
     "text": [
      "episode : 156 reward : 35.040740856719715\n",
      "total test reward=73.52639516821849\n"
     ]
    },
    {
     "name": "stderr",
     "output_type": "stream",
     "text": [
      "100%|█████████████████████████████████████████████████████████████████████████████| 2010/2010 [00:04<00:00, 480.11it/s]\n",
      "  2%|█▉                                                                             | 49/2010 [00:00<00:04, 486.29it/s]"
     ]
    },
    {
     "name": "stdout",
     "output_type": "stream",
     "text": [
      "episode : 157 reward : 35.012088747789186\n",
      "total test reward=81.58051744860437\n"
     ]
    },
    {
     "name": "stderr",
     "output_type": "stream",
     "text": [
      "100%|█████████████████████████████████████████████████████████████████████████████| 2010/2010 [00:04<00:00, 472.07it/s]\n",
      "  2%|█▉                                                                             | 48/2010 [00:00<00:04, 476.53it/s]"
     ]
    },
    {
     "name": "stdout",
     "output_type": "stream",
     "text": [
      "episode : 158 reward : 20.946895786393572\n",
      "total test reward=35.93196532110406\n"
     ]
    },
    {
     "name": "stderr",
     "output_type": "stream",
     "text": [
      "100%|█████████████████████████████████████████████████████████████████████████████| 2010/2010 [00:04<00:00, 479.75it/s]\n",
      "  2%|█▊                                                                             | 45/2010 [00:00<00:04, 442.35it/s]"
     ]
    },
    {
     "name": "stdout",
     "output_type": "stream",
     "text": [
      "episode : 159 reward : 12.538572857117144\n",
      "total test reward=74.59444309340941\n"
     ]
    },
    {
     "name": "stderr",
     "output_type": "stream",
     "text": [
      "100%|█████████████████████████████████████████████████████████████████████████████| 2010/2010 [00:04<00:00, 469.44it/s]\n",
      "  3%|██                                                                             | 51/2010 [00:00<00:03, 506.23it/s]"
     ]
    },
    {
     "name": "stdout",
     "output_type": "stream",
     "text": [
      "episode : 160 reward : 18.475072510376634\n",
      "total test reward=33.120920843585466\n"
     ]
    },
    {
     "name": "stderr",
     "output_type": "stream",
     "text": [
      "100%|█████████████████████████████████████████████████████████████████████████████| 2010/2010 [00:04<00:00, 471.94it/s]\n",
      "  3%|██                                                                             | 51/2010 [00:00<00:03, 496.45it/s]"
     ]
    },
    {
     "name": "stdout",
     "output_type": "stream",
     "text": [
      "episode : 161 reward : 20.44467416643385\n",
      "total test reward=55.80300676165731\n"
     ]
    },
    {
     "name": "stderr",
     "output_type": "stream",
     "text": [
      "100%|█████████████████████████████████████████████████████████████████████████████| 2010/2010 [00:04<00:00, 482.18it/s]\n",
      "  2%|█▊                                                                             | 47/2010 [00:00<00:04, 430.93it/s]"
     ]
    },
    {
     "name": "stdout",
     "output_type": "stream",
     "text": [
      "episode : 162 reward : 31.086125468996563\n",
      "total test reward=45.190538579983965\n"
     ]
    },
    {
     "name": "stderr",
     "output_type": "stream",
     "text": [
      "100%|█████████████████████████████████████████████████████████████████████████████| 2010/2010 [00:04<00:00, 485.15it/s]\n",
      "  2%|█▉                                                                             | 50/2010 [00:00<00:03, 491.52it/s]"
     ]
    },
    {
     "name": "stdout",
     "output_type": "stream",
     "text": [
      "episode : 163 reward : 47.68189629626027\n",
      "total test reward=51.97664334380769\n"
     ]
    },
    {
     "name": "stderr",
     "output_type": "stream",
     "text": [
      "100%|█████████████████████████████████████████████████████████████████████████████| 2010/2010 [00:04<00:00, 472.45it/s]\n",
      "  2%|█▋                                                                             | 42/2010 [00:00<00:04, 416.08it/s]"
     ]
    },
    {
     "name": "stdout",
     "output_type": "stream",
     "text": [
      "episode : 164 reward : 27.970144335472586\n",
      "total test reward=33.05632342915546\n"
     ]
    },
    {
     "name": "stderr",
     "output_type": "stream",
     "text": [
      "100%|█████████████████████████████████████████████████████████████████████████████| 2010/2010 [00:04<00:00, 479.19it/s]\n",
      "  2%|█▋                                                                             | 43/2010 [00:00<00:04, 422.70it/s]"
     ]
    },
    {
     "name": "stdout",
     "output_type": "stream",
     "text": [
      "episode : 165 reward : 14.16840167405028\n",
      "total test reward=33.24027176281203\n"
     ]
    },
    {
     "name": "stderr",
     "output_type": "stream",
     "text": [
      "100%|█████████████████████████████████████████████████████████████████████████████| 2010/2010 [00:04<00:00, 472.22it/s]\n",
      "  2%|█▊                                                                             | 45/2010 [00:00<00:04, 442.35it/s]"
     ]
    },
    {
     "name": "stdout",
     "output_type": "stream",
     "text": [
      "episode : 166 reward : 13.590369170873036\n",
      "total test reward=30.385418631423256\n"
     ]
    },
    {
     "name": "stderr",
     "output_type": "stream",
     "text": [
      "100%|█████████████████████████████████████████████████████████████████████████████| 2010/2010 [00:04<00:00, 466.22it/s]\n",
      "  2%|█▉                                                                             | 50/2010 [00:00<00:04, 459.26it/s]"
     ]
    },
    {
     "name": "stdout",
     "output_type": "stream",
     "text": [
      "episode : 167 reward : 22.55437949455902\n",
      "total test reward=21.000189533264013\n"
     ]
    },
    {
     "name": "stderr",
     "output_type": "stream",
     "text": [
      "100%|█████████████████████████████████████████████████████████████████████████████| 2010/2010 [00:04<00:00, 474.02it/s]\n",
      "  2%|█▊                                                                             | 45/2010 [00:00<00:04, 446.73it/s]"
     ]
    },
    {
     "name": "stdout",
     "output_type": "stream",
     "text": [
      "episode : 168 reward : 29.28921922606345\n",
      "total test reward=31.68550495520747\n"
     ]
    },
    {
     "name": "stderr",
     "output_type": "stream",
     "text": [
      "100%|█████████████████████████████████████████████████████████████████████████████| 2010/2010 [00:04<00:00, 476.03it/s]\n",
      "  2%|█▊                                                                             | 46/2010 [00:00<00:04, 444.69it/s]"
     ]
    },
    {
     "name": "stdout",
     "output_type": "stream",
     "text": [
      "episode : 169 reward : 3.6774740568492765\n",
      "total test reward=26.546610714203286\n"
     ]
    },
    {
     "name": "stderr",
     "output_type": "stream",
     "text": [
      "100%|█████████████████████████████████████████████████████████████████████████████| 2010/2010 [00:04<00:00, 460.41it/s]\n",
      "  3%|██                                                                             | 51/2010 [00:00<00:03, 501.34it/s]"
     ]
    },
    {
     "name": "stdout",
     "output_type": "stream",
     "text": [
      "episode : 170 reward : 24.16643530284534\n",
      "total test reward=32.19943157707219\n"
     ]
    },
    {
     "name": "stderr",
     "output_type": "stream",
     "text": [
      "100%|█████████████████████████████████████████████████████████████████████████████| 2010/2010 [00:04<00:00, 470.97it/s]\n",
      "  3%|██                                                                             | 51/2010 [00:00<00:03, 501.34it/s]"
     ]
    },
    {
     "name": "stdout",
     "output_type": "stream",
     "text": [
      "episode : 171 reward : 23.377245399474642\n",
      "total test reward=27.61140685617703\n"
     ]
    },
    {
     "name": "stderr",
     "output_type": "stream",
     "text": [
      "100%|█████████████████████████████████████████████████████████████████████████████| 2010/2010 [00:04<00:00, 473.43it/s]\n",
      "  2%|█▌                                                                             | 41/2010 [00:00<00:04, 405.59it/s]"
     ]
    },
    {
     "name": "stdout",
     "output_type": "stream",
     "text": [
      "episode : 172 reward : 41.267313079400836\n",
      "total test reward=32.29202369910293\n"
     ]
    },
    {
     "name": "stderr",
     "output_type": "stream",
     "text": [
      "100%|█████████████████████████████████████████████████████████████████████████████| 2010/2010 [00:04<00:00, 482.40it/s]\n",
      "  2%|█▉                                                                             | 50/2010 [00:00<00:03, 491.35it/s]"
     ]
    },
    {
     "name": "stdout",
     "output_type": "stream",
     "text": [
      "episode : 173 reward : 15.959435685952812\n",
      "total test reward=45.45855202598882\n"
     ]
    },
    {
     "name": "stderr",
     "output_type": "stream",
     "text": [
      "100%|█████████████████████████████████████████████████████████████████████████████| 2010/2010 [00:04<00:00, 474.71it/s]\n",
      "  2%|█▊                                                                             | 47/2010 [00:00<00:04, 469.45it/s]"
     ]
    },
    {
     "name": "stdout",
     "output_type": "stream",
     "text": [
      "episode : 174 reward : 9.885466565367572\n",
      "total test reward=47.73778266550766\n"
     ]
    },
    {
     "name": "stderr",
     "output_type": "stream",
     "text": [
      "100%|█████████████████████████████████████████████████████████████████████████████| 2010/2010 [00:04<00:00, 482.79it/s]\n",
      "  2%|█▉                                                                             | 49/2010 [00:00<00:04, 486.45it/s]"
     ]
    },
    {
     "name": "stdout",
     "output_type": "stream",
     "text": [
      "episode : 175 reward : 67.21424773147314\n",
      "total test reward=43.03118069853467\n"
     ]
    },
    {
     "name": "stderr",
     "output_type": "stream",
     "text": [
      "100%|█████████████████████████████████████████████████████████████████████████████| 2010/2010 [00:04<00:00, 481.91it/s]\n",
      "  2%|█▊                                                                             | 47/2010 [00:00<00:04, 466.43it/s]"
     ]
    },
    {
     "name": "stdout",
     "output_type": "stream",
     "text": [
      "episode : 176 reward : 19.45868814223427\n",
      "total test reward=33.15369348364211\n"
     ]
    },
    {
     "name": "stderr",
     "output_type": "stream",
     "text": [
      "100%|█████████████████████████████████████████████████████████████████████████████| 2010/2010 [00:04<00:00, 478.42it/s]\n",
      "  5%|███▋                                                                           | 95/2010 [00:00<00:04, 462.21it/s]"
     ]
    },
    {
     "name": "stdout",
     "output_type": "stream",
     "text": [
      "episode : 177 reward : 56.72321618661155\n",
      "total test reward=59.44044173219762\n"
     ]
    },
    {
     "name": "stderr",
     "output_type": "stream",
     "text": [
      "100%|█████████████████████████████████████████████████████████████████████████████| 2010/2010 [00:04<00:00, 464.32it/s]\n",
      "  2%|█▉                                                                             | 48/2010 [00:00<00:04, 442.05it/s]"
     ]
    },
    {
     "name": "stdout",
     "output_type": "stream",
     "text": [
      "episode : 178 reward : 34.12492977867257\n",
      "total test reward=72.25074612612107\n"
     ]
    },
    {
     "name": "stderr",
     "output_type": "stream",
     "text": [
      "100%|█████████████████████████████████████████████████████████████████████████████| 2010/2010 [00:04<00:00, 476.37it/s]\n",
      "  2%|█▊                                                                             | 46/2010 [00:00<00:04, 452.04it/s]"
     ]
    },
    {
     "name": "stdout",
     "output_type": "stream",
     "text": [
      "episode : 179 reward : 23.997195934553908\n",
      "total test reward=72.33343113637605\n"
     ]
    },
    {
     "name": "stderr",
     "output_type": "stream",
     "text": [
      "100%|█████████████████████████████████████████████████████████████████████████████| 2010/2010 [00:04<00:00, 479.94it/s]\n",
      "  2%|█▋                                                                             | 44/2010 [00:00<00:04, 433.43it/s]"
     ]
    },
    {
     "name": "stdout",
     "output_type": "stream",
     "text": [
      "episode : 180 reward : 14.407482999047936\n",
      "total test reward=49.89722977225655\n"
     ]
    },
    {
     "name": "stderr",
     "output_type": "stream",
     "text": [
      "100%|█████████████████████████████████████████████████████████████████████████████| 2010/2010 [00:04<00:00, 438.08it/s]\n",
      "  5%|███▋                                                                           | 94/2010 [00:00<00:04, 462.45it/s]"
     ]
    },
    {
     "name": "stdout",
     "output_type": "stream",
     "text": [
      "episode : 181 reward : 20.521498422860088\n",
      "total test reward=70.42291529397656\n"
     ]
    },
    {
     "name": "stderr",
     "output_type": "stream",
     "text": [
      "100%|█████████████████████████████████████████████████████████████████████████████| 2010/2010 [00:04<00:00, 466.33it/s]\n",
      "  2%|█▊                                                                             | 47/2010 [00:00<00:04, 461.97it/s]"
     ]
    },
    {
     "name": "stdout",
     "output_type": "stream",
     "text": [
      "episode : 182 reward : 23.889594322437222\n",
      "total test reward=95.65860685771591\n"
     ]
    },
    {
     "name": "stderr",
     "output_type": "stream",
     "text": [
      "100%|█████████████████████████████████████████████████████████████████████████████| 2010/2010 [00:04<00:00, 463.26it/s]\n",
      "  4%|███▌                                                                           | 90/2010 [00:00<00:04, 437.11it/s]"
     ]
    },
    {
     "name": "stdout",
     "output_type": "stream",
     "text": [
      "episode : 183 reward : 15.978887947385576\n",
      "total test reward=63.05432630463433\n"
     ]
    },
    {
     "name": "stderr",
     "output_type": "stream",
     "text": [
      "100%|█████████████████████████████████████████████████████████████████████████████| 2010/2010 [00:04<00:00, 472.02it/s]\n",
      "  2%|█▉                                                                             | 48/2010 [00:00<00:04, 476.38it/s]"
     ]
    },
    {
     "name": "stdout",
     "output_type": "stream",
     "text": [
      "episode : 184 reward : 28.777032973970158\n",
      "total test reward=120.14003786057519\n"
     ]
    },
    {
     "name": "stderr",
     "output_type": "stream",
     "text": [
      "100%|█████████████████████████████████████████████████████████████████████████████| 2010/2010 [00:04<00:00, 469.57it/s]\n",
      "  3%|██                                                                             | 52/2010 [00:00<00:03, 516.23it/s]"
     ]
    },
    {
     "name": "stdout",
     "output_type": "stream",
     "text": [
      "episode : 185 reward : 20.700888183316764\n",
      "total test reward=132.84541390562623\n"
     ]
    },
    {
     "name": "stderr",
     "output_type": "stream",
     "text": [
      "100%|█████████████████████████████████████████████████████████████████████████████| 2010/2010 [00:04<00:00, 451.04it/s]\n",
      "  2%|█▋                                                                             | 44/2010 [00:00<00:04, 432.54it/s]"
     ]
    },
    {
     "name": "stdout",
     "output_type": "stream",
     "text": [
      "episode : 186 reward : 40.54886457613059\n",
      "total test reward=74.96866760781067\n"
     ]
    },
    {
     "name": "stderr",
     "output_type": "stream",
     "text": [
      "100%|█████████████████████████████████████████████████████████████████████████████| 2010/2010 [00:04<00:00, 469.77it/s]\n",
      "  3%|██                                                                             | 51/2010 [00:00<00:04, 451.48it/s]"
     ]
    },
    {
     "name": "stdout",
     "output_type": "stream",
     "text": [
      "episode : 187 reward : 13.816917026562683\n",
      "total test reward=105.39656991286499\n"
     ]
    },
    {
     "name": "stderr",
     "output_type": "stream",
     "text": [
      "100%|█████████████████████████████████████████████████████████████████████████████| 2010/2010 [00:04<00:00, 464.46it/s]\n",
      "  4%|███▌                                                                           | 90/2010 [00:00<00:04, 412.65it/s]"
     ]
    },
    {
     "name": "stdout",
     "output_type": "stream",
     "text": [
      "episode : 188 reward : 36.025709800869826\n",
      "total test reward=91.47775495633518\n"
     ]
    },
    {
     "name": "stderr",
     "output_type": "stream",
     "text": [
      "100%|█████████████████████████████████████████████████████████████████████████████| 2010/2010 [00:04<00:00, 474.41it/s]\n",
      "  2%|█▉                                                                             | 50/2010 [00:00<00:03, 491.56it/s]"
     ]
    },
    {
     "name": "stdout",
     "output_type": "stream",
     "text": [
      "episode : 189 reward : 38.26563129387744\n",
      "total test reward=188.14574578446727\n"
     ]
    },
    {
     "name": "stderr",
     "output_type": "stream",
     "text": [
      "100%|█████████████████████████████████████████████████████████████████████████████| 2010/2010 [00:04<00:00, 468.71it/s]\n",
      "  2%|█▊                                                                             | 47/2010 [00:00<00:04, 462.01it/s]"
     ]
    },
    {
     "name": "stdout",
     "output_type": "stream",
     "text": [
      "episode : 190 reward : 89.87038481220382\n",
      "total test reward=151.37797277279478\n"
     ]
    },
    {
     "name": "stderr",
     "output_type": "stream",
     "text": [
      "100%|█████████████████████████████████████████████████████████████████████████████| 2010/2010 [00:04<00:00, 469.98it/s]\n",
      "  2%|█▋                                                                             | 44/2010 [00:00<00:04, 436.67it/s]"
     ]
    },
    {
     "name": "stdout",
     "output_type": "stream",
     "text": [
      "episode : 191 reward : 63.953818132095165\n",
      "total test reward=76.61420301286955\n"
     ]
    },
    {
     "name": "stderr",
     "output_type": "stream",
     "text": [
      "100%|█████████████████████████████████████████████████████████████████████████████| 2010/2010 [00:04<00:00, 473.95it/s]\n",
      "  2%|█▊                                                                             | 45/2010 [00:00<00:04, 442.21it/s]"
     ]
    },
    {
     "name": "stdout",
     "output_type": "stream",
     "text": [
      "episode : 192 reward : 60.49978000781968\n",
      "total test reward=153.83601503750924\n"
     ]
    },
    {
     "name": "stderr",
     "output_type": "stream",
     "text": [
      "100%|█████████████████████████████████████████████████████████████████████████████| 2010/2010 [00:04<00:00, 462.01it/s]\n",
      "  2%|█▊                                                                             | 45/2010 [00:00<00:04, 442.22it/s]"
     ]
    },
    {
     "name": "stdout",
     "output_type": "stream",
     "text": [
      "episode : 193 reward : 27.728208333031546\n",
      "total test reward=72.70261122429284\n"
     ]
    },
    {
     "name": "stderr",
     "output_type": "stream",
     "text": [
      "100%|█████████████████████████████████████████████████████████████████████████████| 2010/2010 [00:04<00:00, 461.20it/s]\n",
      "  2%|█▉                                                                             | 48/2010 [00:00<00:04, 476.37it/s]"
     ]
    },
    {
     "name": "stdout",
     "output_type": "stream",
     "text": [
      "episode : 194 reward : 11.970294714891757\n",
      "total test reward=90.99527078618945\n"
     ]
    },
    {
     "name": "stderr",
     "output_type": "stream",
     "text": [
      "100%|█████████████████████████████████████████████████████████████████████████████| 2010/2010 [00:04<00:00, 458.93it/s]\n",
      "  2%|█▉                                                                             | 50/2010 [00:00<00:04, 445.15it/s]"
     ]
    },
    {
     "name": "stdout",
     "output_type": "stream",
     "text": [
      "episode : 195 reward : 81.8162554421526\n",
      "total test reward=93.13083353437386\n"
     ]
    },
    {
     "name": "stderr",
     "output_type": "stream",
     "text": [
      "100%|█████████████████████████████████████████████████████████████████████████████| 2010/2010 [00:04<00:00, 464.01it/s]\n",
      "  2%|█▊                                                                             | 46/2010 [00:00<00:04, 456.66it/s]"
     ]
    },
    {
     "name": "stdout",
     "output_type": "stream",
     "text": [
      "episode : 196 reward : 46.1824714497599\n",
      "total test reward=112.8383884726317\n"
     ]
    },
    {
     "name": "stderr",
     "output_type": "stream",
     "text": [
      "100%|█████████████████████████████████████████████████████████████████████████████| 2010/2010 [00:04<00:00, 466.28it/s]\n",
      "  2%|█▊                                                                             | 46/2010 [00:00<00:04, 452.32it/s]"
     ]
    },
    {
     "name": "stdout",
     "output_type": "stream",
     "text": [
      "episode : 197 reward : 33.569719338109564\n",
      "total test reward=57.87252992537416\n"
     ]
    },
    {
     "name": "stderr",
     "output_type": "stream",
     "text": [
      "100%|█████████████████████████████████████████████████████████████████████████████| 2010/2010 [00:04<00:00, 459.45it/s]\n",
      "  2%|█▉                                                                             | 49/2010 [00:00<00:04, 481.67it/s]"
     ]
    },
    {
     "name": "stdout",
     "output_type": "stream",
     "text": [
      "episode : 198 reward : 36.52943728658353\n",
      "total test reward=50.42983872275316\n"
     ]
    },
    {
     "name": "stderr",
     "output_type": "stream",
     "text": [
      "100%|█████████████████████████████████████████████████████████████████████████████| 2010/2010 [00:04<00:00, 462.33it/s]\n",
      "  2%|█▊                                                                             | 46/2010 [00:00<00:04, 456.67it/s]"
     ]
    },
    {
     "name": "stdout",
     "output_type": "stream",
     "text": [
      "episode : 199 reward : 33.34939828899246\n",
      "total test reward=61.81350004200711\n"
     ]
    },
    {
     "name": "stderr",
     "output_type": "stream",
     "text": [
      "100%|█████████████████████████████████████████████████████████████████████████████| 2010/2010 [00:04<00:00, 459.45it/s]\n",
      "  2%|█▉                                                                             | 48/2010 [00:00<00:04, 418.42it/s]"
     ]
    },
    {
     "name": "stdout",
     "output_type": "stream",
     "text": [
      "episode : 200 reward : 47.718448997888856\n",
      "total test reward=131.72748850569093\n"
     ]
    },
    {
     "name": "stderr",
     "output_type": "stream",
     "text": [
      "100%|█████████████████████████████████████████████████████████████████████████████| 2010/2010 [00:04<00:00, 466.14it/s]\n",
      "  2%|█▉                                                                             | 49/2010 [00:00<00:04, 481.62it/s]"
     ]
    },
    {
     "name": "stdout",
     "output_type": "stream",
     "text": [
      "episode : 201 reward : 27.801890148717728\n",
      "total test reward=75.63665509500404\n"
     ]
    },
    {
     "name": "stderr",
     "output_type": "stream",
     "text": [
      "100%|█████████████████████████████████████████████████████████████████████████████| 2010/2010 [00:04<00:00, 452.63it/s]\n",
      "  2%|█▊                                                                             | 45/2010 [00:00<00:04, 446.87it/s]"
     ]
    },
    {
     "name": "stdout",
     "output_type": "stream",
     "text": [
      "episode : 202 reward : 39.442491498431565\n",
      "total test reward=89.80093318284199\n"
     ]
    },
    {
     "name": "stderr",
     "output_type": "stream",
     "text": [
      "100%|█████████████████████████████████████████████████████████████████████████████| 2010/2010 [00:04<00:00, 469.48it/s]\n",
      "  3%|██                                                                             | 52/2010 [00:00<00:04, 470.62it/s]"
     ]
    },
    {
     "name": "stdout",
     "output_type": "stream",
     "text": [
      "episode : 203 reward : 31.491460529195244\n",
      "total test reward=78.26375548926471\n"
     ]
    },
    {
     "name": "stderr",
     "output_type": "stream",
     "text": [
      "100%|█████████████████████████████████████████████████████████████████████████████| 2010/2010 [00:04<00:00, 465.10it/s]\n",
      "  2%|█▊                                                                             | 45/2010 [00:00<00:04, 437.93it/s]"
     ]
    },
    {
     "name": "stdout",
     "output_type": "stream",
     "text": [
      "episode : 204 reward : 34.425420005798436\n",
      "total test reward=99.94953056625974\n"
     ]
    },
    {
     "name": "stderr",
     "output_type": "stream",
     "text": [
      "100%|█████████████████████████████████████████████████████████████████████████████| 2010/2010 [00:04<00:00, 452.12it/s]\n",
      "  2%|█▊                                                                             | 46/2010 [00:00<00:04, 452.19it/s]"
     ]
    },
    {
     "name": "stdout",
     "output_type": "stream",
     "text": [
      "episode : 205 reward : 41.32358866204919\n",
      "total test reward=85.32313772344978\n"
     ]
    },
    {
     "name": "stderr",
     "output_type": "stream",
     "text": [
      "100%|█████████████████████████████████████████████████████████████████████████████| 2010/2010 [00:04<00:00, 459.14it/s]\n",
      "  3%|██                                                                             | 51/2010 [00:00<00:03, 501.18it/s]"
     ]
    },
    {
     "name": "stdout",
     "output_type": "stream",
     "text": [
      "episode : 206 reward : 18.639332810619557\n",
      "total test reward=92.88704366214972\n"
     ]
    },
    {
     "name": "stderr",
     "output_type": "stream",
     "text": [
      "100%|█████████████████████████████████████████████████████████████████████████████| 2010/2010 [00:04<00:00, 463.94it/s]\n",
      "  2%|█▉                                                                             | 48/2010 [00:00<00:04, 476.52it/s]"
     ]
    },
    {
     "name": "stdout",
     "output_type": "stream",
     "text": [
      "episode : 207 reward : 52.51970747569006\n",
      "total test reward=107.39698802025275\n"
     ]
    },
    {
     "name": "stderr",
     "output_type": "stream",
     "text": [
      "100%|█████████████████████████████████████████████████████████████████████████████| 2010/2010 [00:04<00:00, 465.49it/s]\n",
      "  2%|█▊                                                                             | 45/2010 [00:00<00:04, 446.60it/s]"
     ]
    },
    {
     "name": "stdout",
     "output_type": "stream",
     "text": [
      "episode : 208 reward : 23.85274145256099\n",
      "total test reward=79.73587786593598\n"
     ]
    },
    {
     "name": "stderr",
     "output_type": "stream",
     "text": [
      "100%|█████████████████████████████████████████████████████████████████████████████| 2010/2010 [00:04<00:00, 454.78it/s]\n",
      "  3%|██                                                                             | 54/2010 [00:00<00:04, 479.62it/s]"
     ]
    },
    {
     "name": "stdout",
     "output_type": "stream",
     "text": [
      "episode : 209 reward : 24.485331078735783\n",
      "total test reward=56.34887488612164\n"
     ]
    },
    {
     "name": "stderr",
     "output_type": "stream",
     "text": [
      "100%|█████████████████████████████████████████████████████████████████████████████| 2010/2010 [00:04<00:00, 442.22it/s]\n",
      "  2%|█▊                                                                             | 45/2010 [00:00<00:04, 442.22it/s]"
     ]
    },
    {
     "name": "stdout",
     "output_type": "stream",
     "text": [
      "episode : 210 reward : 26.873318354935332\n",
      "total test reward=158.7187067174535\n"
     ]
    },
    {
     "name": "stderr",
     "output_type": "stream",
     "text": [
      "100%|█████████████████████████████████████████████████████████████████████████████| 2010/2010 [00:04<00:00, 458.70it/s]\n",
      "  2%|█▉                                                                             | 48/2010 [00:00<00:04, 476.37it/s]"
     ]
    },
    {
     "name": "stdout",
     "output_type": "stream",
     "text": [
      "episode : 211 reward : 13.242123680910993\n",
      "total test reward=191.24556904854117\n"
     ]
    },
    {
     "name": "stderr",
     "output_type": "stream",
     "text": [
      "100%|█████████████████████████████████████████████████████████████████████████████| 2010/2010 [00:04<00:00, 468.03it/s]\n",
      "  2%|█▊                                                                             | 45/2010 [00:00<00:04, 429.34it/s]"
     ]
    },
    {
     "name": "stdout",
     "output_type": "stream",
     "text": [
      "episode : 212 reward : 59.26993648714335\n",
      "total test reward=99.88062932349902\n"
     ]
    },
    {
     "name": "stderr",
     "output_type": "stream",
     "text": [
      "100%|█████████████████████████████████████████████████████████████████████████████| 2010/2010 [00:04<00:00, 456.35it/s]\n",
      "  2%|█▊                                                                             | 47/2010 [00:00<00:04, 466.59it/s]"
     ]
    },
    {
     "name": "stdout",
     "output_type": "stream",
     "text": [
      "episode : 213 reward : 44.66689725685068\n",
      "total test reward=124.59250484755361\n"
     ]
    },
    {
     "name": "stderr",
     "output_type": "stream",
     "text": [
      "100%|█████████████████████████████████████████████████████████████████████████████| 2010/2010 [00:04<00:00, 471.78it/s]\n",
      "  2%|█▊                                                                             | 46/2010 [00:00<00:04, 456.67it/s]"
     ]
    },
    {
     "name": "stdout",
     "output_type": "stream",
     "text": [
      "episode : 214 reward : 16.582122963334125\n",
      "total test reward=75.76256159795471\n"
     ]
    },
    {
     "name": "stderr",
     "output_type": "stream",
     "text": [
      "100%|█████████████████████████████████████████████████████████████████████████████| 2010/2010 [00:04<00:00, 456.56it/s]\n",
      "  2%|█▊                                                                             | 46/2010 [00:00<00:04, 458.87it/s]"
     ]
    },
    {
     "name": "stdout",
     "output_type": "stream",
     "text": [
      "episode : 215 reward : 37.627799095656265\n",
      "total test reward=95.59785746256269\n"
     ]
    },
    {
     "name": "stderr",
     "output_type": "stream",
     "text": [
      "100%|█████████████████████████████████████████████████████████████████████████████| 2010/2010 [00:04<00:00, 463.70it/s]\n",
      "  2%|█▌                                                                             | 41/2010 [00:00<00:05, 388.12it/s]"
     ]
    },
    {
     "name": "stdout",
     "output_type": "stream",
     "text": [
      "episode : 216 reward : 55.27695420706301\n",
      "total test reward=136.67735070073167\n"
     ]
    },
    {
     "name": "stderr",
     "output_type": "stream",
     "text": [
      "100%|█████████████████████████████████████████████████████████████████████████████| 2010/2010 [00:04<00:00, 456.70it/s]\n",
      "  2%|█▋                                                                             | 43/2010 [00:00<00:04, 426.22it/s]"
     ]
    },
    {
     "name": "stdout",
     "output_type": "stream",
     "text": [
      "episode : 217 reward : 132.3874011163463\n",
      "total test reward=37.507000000488176\n"
     ]
    },
    {
     "name": "stderr",
     "output_type": "stream",
     "text": [
      "100%|█████████████████████████████████████████████████████████████████████████████| 2010/2010 [00:04<00:00, 459.68it/s]\n",
      "  3%|██▏                                                                            | 57/2010 [00:00<00:03, 500.89it/s]"
     ]
    },
    {
     "name": "stdout",
     "output_type": "stream",
     "text": [
      "episode : 218 reward : 42.27297689819396\n",
      "total test reward=47.07137808426744\n"
     ]
    },
    {
     "name": "stderr",
     "output_type": "stream",
     "text": [
      "100%|█████████████████████████████████████████████████████████████████████████████| 2010/2010 [00:04<00:00, 454.13it/s]\n",
      "  2%|█▉                                                                             | 48/2010 [00:00<00:04, 464.50it/s]"
     ]
    },
    {
     "name": "stdout",
     "output_type": "stream",
     "text": [
      "episode : 219 reward : 31.10146876565681\n",
      "total test reward=34.65631266243764\n"
     ]
    },
    {
     "name": "stderr",
     "output_type": "stream",
     "text": [
      "100%|█████████████████████████████████████████████████████████████████████████████| 2010/2010 [00:04<00:00, 461.49it/s]\n",
      "  2%|█▉                                                                             | 48/2010 [00:00<00:04, 460.65it/s]"
     ]
    },
    {
     "name": "stdout",
     "output_type": "stream",
     "text": [
      "episode : 220 reward : 10.258805509432095\n",
      "total test reward=87.21867540053019\n"
     ]
    },
    {
     "name": "stderr",
     "output_type": "stream",
     "text": [
      "100%|█████████████████████████████████████████████████████████████████████████████| 2010/2010 [00:04<00:00, 456.76it/s]\n",
      "  2%|█▉                                                                             | 48/2010 [00:00<00:04, 476.37it/s]"
     ]
    },
    {
     "name": "stdout",
     "output_type": "stream",
     "text": [
      "episode : 221 reward : 27.458311605859265\n",
      "total test reward=46.751767616342065\n"
     ]
    },
    {
     "name": "stderr",
     "output_type": "stream",
     "text": [
      "100%|█████████████████████████████████████████████████████████████████████████████| 2010/2010 [00:04<00:00, 464.31it/s]\n",
      "  2%|█▉                                                                             | 50/2010 [00:00<00:04, 447.66it/s]"
     ]
    },
    {
     "name": "stdout",
     "output_type": "stream",
     "text": [
      "episode : 222 reward : 57.02562501001312\n",
      "total test reward=68.20031770945074\n"
     ]
    },
    {
     "name": "stderr",
     "output_type": "stream",
     "text": [
      "100%|█████████████████████████████████████████████████████████████████████████████| 2010/2010 [00:04<00:00, 444.42it/s]\n",
      "  2%|█▊                                                                             | 47/2010 [00:00<00:04, 466.43it/s]"
     ]
    },
    {
     "name": "stdout",
     "output_type": "stream",
     "text": [
      "episode : 223 reward : 41.62389933886523\n",
      "total test reward=119.46580632516842\n"
     ]
    },
    {
     "name": "stderr",
     "output_type": "stream",
     "text": [
      "100%|█████████████████████████████████████████████████████████████████████████████| 2010/2010 [00:04<00:00, 461.94it/s]\n",
      "  2%|█▊                                                                             | 47/2010 [00:00<00:04, 452.59it/s]"
     ]
    },
    {
     "name": "stdout",
     "output_type": "stream",
     "text": [
      "episode : 224 reward : 24.86482693192582\n",
      "total test reward=39.1305633366502\n"
     ]
    },
    {
     "name": "stderr",
     "output_type": "stream",
     "text": [
      "100%|█████████████████████████████████████████████████████████████████████████████| 2010/2010 [00:04<00:00, 464.41it/s]\n",
      "  2%|█▊                                                                             | 45/2010 [00:00<00:04, 442.36it/s]"
     ]
    },
    {
     "name": "stdout",
     "output_type": "stream",
     "text": [
      "episode : 225 reward : 84.78731188414001\n",
      "total test reward=89.74134732467033\n"
     ]
    },
    {
     "name": "stderr",
     "output_type": "stream",
     "text": [
      "100%|█████████████████████████████████████████████████████████████████████████████| 2010/2010 [00:04<00:00, 453.18it/s]\n",
      "  2%|█▊                                                                             | 46/2010 [00:00<00:04, 456.50it/s]"
     ]
    },
    {
     "name": "stdout",
     "output_type": "stream",
     "text": [
      "episode : 226 reward : 46.09255089123185\n",
      "total test reward=51.04863102710586\n"
     ]
    },
    {
     "name": "stderr",
     "output_type": "stream",
     "text": [
      "100%|█████████████████████████████████████████████████████████████████████████████| 2010/2010 [00:04<00:00, 462.37it/s]\n",
      "  3%|██                                                                             | 52/2010 [00:00<00:04, 449.99it/s]"
     ]
    },
    {
     "name": "stdout",
     "output_type": "stream",
     "text": [
      "episode : 227 reward : 93.8359945111789\n",
      "total test reward=102.60243828719231\n"
     ]
    },
    {
     "name": "stderr",
     "output_type": "stream",
     "text": [
      "100%|█████████████████████████████████████████████████████████████████████████████| 2010/2010 [00:04<00:00, 459.75it/s]\n",
      "  2%|█▉                                                                             | 48/2010 [00:00<00:04, 434.75it/s]"
     ]
    },
    {
     "name": "stdout",
     "output_type": "stream",
     "text": [
      "episode : 228 reward : 37.517111373850376\n",
      "total test reward=88.51464807694646\n"
     ]
    },
    {
     "name": "stderr",
     "output_type": "stream",
     "text": [
      "100%|█████████████████████████████████████████████████████████████████████████████| 2010/2010 [00:04<00:00, 450.26it/s]\n",
      "  2%|█▋                                                                             | 43/2010 [00:00<00:04, 402.53it/s]"
     ]
    },
    {
     "name": "stdout",
     "output_type": "stream",
     "text": [
      "episode : 229 reward : 11.671162557823926\n",
      "total test reward=51.18008681051199\n"
     ]
    },
    {
     "name": "stderr",
     "output_type": "stream",
     "text": [
      "100%|█████████████████████████████████████████████████████████████████████████████| 2010/2010 [00:04<00:00, 452.35it/s]\n",
      "  3%|██                                                                             | 51/2010 [00:00<00:03, 501.33it/s]"
     ]
    },
    {
     "name": "stdout",
     "output_type": "stream",
     "text": [
      "episode : 230 reward : 38.89249216773088\n",
      "total test reward=134.8852689246849\n"
     ]
    },
    {
     "name": "stderr",
     "output_type": "stream",
     "text": [
      "100%|█████████████████████████████████████████████████████████████████████████████| 2010/2010 [00:04<00:00, 459.95it/s]\n",
      "  4%|███▎                                                                           | 84/2010 [00:00<00:04, 412.56it/s]"
     ]
    },
    {
     "name": "stdout",
     "output_type": "stream",
     "text": [
      "episode : 231 reward : 45.737278070280865\n",
      "total test reward=21.655291935876583\n"
     ]
    },
    {
     "name": "stderr",
     "output_type": "stream",
     "text": [
      "100%|█████████████████████████████████████████████████████████████████████████████| 2010/2010 [00:04<00:00, 447.52it/s]\n",
      "  2%|█▊                                                                             | 47/2010 [00:00<00:04, 466.44it/s]"
     ]
    },
    {
     "name": "stdout",
     "output_type": "stream",
     "text": [
      "episode : 232 reward : 58.55371675953348\n",
      "total test reward=84.39582902557665\n"
     ]
    },
    {
     "name": "stderr",
     "output_type": "stream",
     "text": [
      "100%|█████████████████████████████████████████████████████████████████████████████| 2010/2010 [00:04<00:00, 458.48it/s]\n",
      "  2%|█▊                                                                             | 46/2010 [00:00<00:04, 415.81it/s]"
     ]
    },
    {
     "name": "stdout",
     "output_type": "stream",
     "text": [
      "episode : 233 reward : 23.844904338822182\n",
      "total test reward=99.77641962127716\n"
     ]
    },
    {
     "name": "stderr",
     "output_type": "stream",
     "text": [
      "100%|█████████████████████████████████████████████████████████████████████████████| 2010/2010 [00:04<00:00, 434.50it/s]\n",
      "  2%|█▊                                                                             | 45/2010 [00:00<00:04, 446.60it/s]"
     ]
    },
    {
     "name": "stdout",
     "output_type": "stream",
     "text": [
      "episode : 234 reward : 153.91432616009982\n",
      "total test reward=61.908688874412086\n"
     ]
    },
    {
     "name": "stderr",
     "output_type": "stream",
     "text": [
      "100%|█████████████████████████████████████████████████████████████████████████████| 2010/2010 [00:04<00:00, 454.23it/s]\n",
      "  4%|███▍                                                                           | 89/2010 [00:00<00:04, 442.00it/s]"
     ]
    },
    {
     "name": "stdout",
     "output_type": "stream",
     "text": [
      "episode : 235 reward : 45.43950539431974\n",
      "total test reward=56.0497526929585\n"
     ]
    },
    {
     "name": "stderr",
     "output_type": "stream",
     "text": [
      "100%|█████████████████████████████████████████████████████████████████████████████| 2010/2010 [00:04<00:00, 442.37it/s]\n",
      "  2%|█▊                                                                             | 47/2010 [00:00<00:04, 462.01it/s]"
     ]
    },
    {
     "name": "stdout",
     "output_type": "stream",
     "text": [
      "episode : 236 reward : 29.792671553158467\n",
      "total test reward=59.66703826405048\n"
     ]
    },
    {
     "name": "stderr",
     "output_type": "stream",
     "text": [
      "100%|█████████████████████████████████████████████████████████████████████████████| 2010/2010 [00:04<00:00, 454.46it/s]\n",
      "  2%|█▊                                                                             | 47/2010 [00:00<00:04, 466.59it/s]"
     ]
    },
    {
     "name": "stdout",
     "output_type": "stream",
     "text": [
      "episode : 237 reward : 37.342380962291095\n",
      "total test reward=94.788588527808\n"
     ]
    },
    {
     "name": "stderr",
     "output_type": "stream",
     "text": [
      "100%|█████████████████████████████████████████████████████████████████████████████| 2010/2010 [00:04<00:00, 460.04it/s]\n",
      "  2%|█▊                                                                             | 46/2010 [00:00<00:04, 452.24it/s]"
     ]
    },
    {
     "name": "stdout",
     "output_type": "stream",
     "text": [
      "episode : 238 reward : 32.211200038733594\n",
      "total test reward=31.491367398017083\n"
     ]
    },
    {
     "name": "stderr",
     "output_type": "stream",
     "text": [
      "100%|█████████████████████████████████████████████████████████████████████████████| 2010/2010 [00:04<00:00, 463.15it/s]\n",
      "  2%|█▊                                                                             | 47/2010 [00:00<00:04, 462.02it/s]"
     ]
    },
    {
     "name": "stdout",
     "output_type": "stream",
     "text": [
      "episode : 239 reward : 0.04974993630624702\n",
      "total test reward=133.51808450233116\n"
     ]
    },
    {
     "name": "stderr",
     "output_type": "stream",
     "text": [
      "100%|█████████████████████████████████████████████████████████████████████████████| 2010/2010 [00:04<00:00, 454.31it/s]\n",
      "  2%|█▋                                                                             | 44/2010 [00:00<00:04, 428.80it/s]"
     ]
    },
    {
     "name": "stdout",
     "output_type": "stream",
     "text": [
      "episode : 240 reward : 62.19826733472097\n",
      "total test reward=47.5005042045136\n"
     ]
    },
    {
     "name": "stderr",
     "output_type": "stream",
     "text": [
      "100%|█████████████████████████████████████████████████████████████████████████████| 2010/2010 [00:04<00:00, 467.19it/s]\n",
      "  2%|█▉                                                                             | 50/2010 [00:00<00:03, 491.66it/s]"
     ]
    },
    {
     "name": "stdout",
     "output_type": "stream",
     "text": [
      "episode : 241 reward : -2.604056658473627\n",
      "total test reward=69.10491387365545\n"
     ]
    },
    {
     "name": "stderr",
     "output_type": "stream",
     "text": [
      "100%|█████████████████████████████████████████████████████████████████████████████| 2010/2010 [00:04<00:00, 449.79it/s]\n",
      "  2%|█▊                                                                             | 46/2010 [00:00<00:04, 458.46it/s]"
     ]
    },
    {
     "name": "stdout",
     "output_type": "stream",
     "text": [
      "episode : 242 reward : 15.262954043260844\n",
      "total test reward=73.95547582174058\n"
     ]
    },
    {
     "name": "stderr",
     "output_type": "stream",
     "text": [
      "100%|█████████████████████████████████████████████████████████████████████████████| 2010/2010 [00:04<00:00, 456.54it/s]\n",
      "  2%|█▊                                                                             | 47/2010 [00:00<00:04, 461.86it/s]"
     ]
    },
    {
     "name": "stdout",
     "output_type": "stream",
     "text": [
      "episode : 243 reward : 26.9777425803115\n",
      "total test reward=80.65374126627097\n"
     ]
    },
    {
     "name": "stderr",
     "output_type": "stream",
     "text": [
      "100%|█████████████████████████████████████████████████████████████████████████████| 2010/2010 [00:04<00:00, 451.49it/s]\n",
      "  2%|█▊                                                                             | 45/2010 [00:00<00:04, 446.73it/s]"
     ]
    },
    {
     "name": "stdout",
     "output_type": "stream",
     "text": [
      "episode : 244 reward : 45.98991457407386\n",
      "total test reward=8.386821556813853\n"
     ]
    },
    {
     "name": "stderr",
     "output_type": "stream",
     "text": [
      "100%|█████████████████████████████████████████████████████████████████████████████| 2010/2010 [00:04<00:00, 465.80it/s]\n",
      "  3%|██                                                                             | 51/2010 [00:00<00:04, 474.26it/s]"
     ]
    },
    {
     "name": "stdout",
     "output_type": "stream",
     "text": [
      "episode : 245 reward : 97.01954065787295\n",
      "total test reward=-1.715627356868228\n"
     ]
    },
    {
     "name": "stderr",
     "output_type": "stream",
     "text": [
      "100%|█████████████████████████████████████████████████████████████████████████████| 2010/2010 [00:04<00:00, 456.24it/s]\n",
      "  2%|█▊                                                                             | 47/2010 [00:00<00:04, 462.02it/s]"
     ]
    },
    {
     "name": "stdout",
     "output_type": "stream",
     "text": [
      "episode : 246 reward : 26.503626402193003\n",
      "total test reward=43.49207948972138\n"
     ]
    },
    {
     "name": "stderr",
     "output_type": "stream",
     "text": [
      "100%|█████████████████████████████████████████████████████████████████████████████| 2010/2010 [00:04<00:00, 451.92it/s]\n",
      "  2%|█▋                                                                             | 43/2010 [00:00<00:04, 426.89it/s]"
     ]
    },
    {
     "name": "stdout",
     "output_type": "stream",
     "text": [
      "episode : 247 reward : 109.87207179478352\n",
      "total test reward=75.51458618946364\n"
     ]
    },
    {
     "name": "stderr",
     "output_type": "stream",
     "text": [
      "100%|█████████████████████████████████████████████████████████████████████████████| 2010/2010 [00:04<00:00, 445.09it/s]\n",
      "  2%|█▉                                                                             | 48/2010 [00:00<00:04, 476.53it/s]"
     ]
    },
    {
     "name": "stdout",
     "output_type": "stream",
     "text": [
      "episode : 248 reward : 22.694982375091335\n",
      "total test reward=44.5605679302527\n"
     ]
    },
    {
     "name": "stderr",
     "output_type": "stream",
     "text": [
      "100%|█████████████████████████████████████████████████████████████████████████████| 2010/2010 [00:04<00:00, 454.32it/s]\n",
      "  2%|█▋                                                                             | 43/2010 [00:00<00:04, 428.10it/s]"
     ]
    },
    {
     "name": "stdout",
     "output_type": "stream",
     "text": [
      "episode : 249 reward : 22.4675333482082\n",
      "total test reward=37.067855720643415\n"
     ]
    },
    {
     "name": "stderr",
     "output_type": "stream",
     "text": [
      "100%|█████████████████████████████████████████████████████████████████████████████| 2010/2010 [00:04<00:00, 442.16it/s]\n",
      "  2%|█▊                                                                             | 47/2010 [00:00<00:04, 412.61it/s]"
     ]
    },
    {
     "name": "stdout",
     "output_type": "stream",
     "text": [
      "episode : 250 reward : 37.8407082231018\n",
      "total test reward=1.1758918340181472\n"
     ]
    },
    {
     "name": "stderr",
     "output_type": "stream",
     "text": [
      "100%|█████████████████████████████████████████████████████████████████████████████| 2010/2010 [00:04<00:00, 456.05it/s]\n",
      "  2%|█▉                                                                             | 49/2010 [00:00<00:04, 486.45it/s]"
     ]
    },
    {
     "name": "stdout",
     "output_type": "stream",
     "text": [
      "episode : 251 reward : 49.14671444407164\n",
      "total test reward=2.3101393359796027\n"
     ]
    },
    {
     "name": "stderr",
     "output_type": "stream",
     "text": [
      "100%|█████████████████████████████████████████████████████████████████████████████| 2010/2010 [00:04<00:00, 463.38it/s]\n",
      "  3%|██                                                                             | 51/2010 [00:00<00:03, 506.30it/s]"
     ]
    },
    {
     "name": "stdout",
     "output_type": "stream",
     "text": [
      "episode : 252 reward : 26.35925657572066\n",
      "total test reward=1.0026856024768436\n"
     ]
    },
    {
     "name": "stderr",
     "output_type": "stream",
     "text": [
      "100%|█████████████████████████████████████████████████████████████████████████████| 2010/2010 [00:04<00:00, 459.27it/s]\n",
      "  2%|█▊                                                                             | 46/2010 [00:00<00:04, 447.71it/s]"
     ]
    },
    {
     "name": "stdout",
     "output_type": "stream",
     "text": [
      "episode : 253 reward : 51.00944330775704\n",
      "total test reward=56.12543900021793\n"
     ]
    },
    {
     "name": "stderr",
     "output_type": "stream",
     "text": [
      "100%|█████████████████████████████████████████████████████████████████████████████| 2010/2010 [00:04<00:00, 446.67it/s]\n",
      "  2%|█▉                                                                             | 48/2010 [00:00<00:04, 471.85it/s]"
     ]
    },
    {
     "name": "stdout",
     "output_type": "stream",
     "text": [
      "episode : 254 reward : 60.263206127494925\n",
      "total test reward=-0.49864426855708927\n"
     ]
    },
    {
     "name": "stderr",
     "output_type": "stream",
     "text": [
      "100%|█████████████████████████████████████████████████████████████████████████████| 2010/2010 [00:04<00:00, 455.09it/s]\n",
      "  2%|█▊                                                                             | 47/2010 [00:00<00:04, 462.02it/s]"
     ]
    },
    {
     "name": "stdout",
     "output_type": "stream",
     "text": [
      "episode : 255 reward : 29.594513328944508\n",
      "total test reward=41.50070209949213\n"
     ]
    },
    {
     "name": "stderr",
     "output_type": "stream",
     "text": [
      "100%|█████████████████████████████████████████████████████████████████████████████| 2010/2010 [00:04<00:00, 433.16it/s]\n",
      "  3%|██                                                                             | 51/2010 [00:00<00:04, 469.86it/s]"
     ]
    },
    {
     "name": "stdout",
     "output_type": "stream",
     "text": [
      "episode : 256 reward : 136.354046042982\n",
      "total test reward=20.80181547513642\n"
     ]
    },
    {
     "name": "stderr",
     "output_type": "stream",
     "text": [
      "100%|█████████████████████████████████████████████████████████████████████████████| 2010/2010 [00:04<00:00, 469.94it/s]\n",
      "  3%|██                                                                             | 52/2010 [00:00<00:03, 503.42it/s]"
     ]
    },
    {
     "name": "stdout",
     "output_type": "stream",
     "text": [
      "episode : 257 reward : 52.32547373231823\n",
      "total test reward=23.90004240885139\n"
     ]
    },
    {
     "name": "stderr",
     "output_type": "stream",
     "text": [
      "100%|█████████████████████████████████████████████████████████████████████████████| 2010/2010 [00:04<00:00, 481.60it/s]\n",
      "  2%|█▊                                                                             | 47/2010 [00:00<00:04, 468.68it/s]"
     ]
    },
    {
     "name": "stdout",
     "output_type": "stream",
     "text": [
      "episode : 258 reward : 69.84898426111866\n",
      "total test reward=5.996455406708952\n"
     ]
    },
    {
     "name": "stderr",
     "output_type": "stream",
     "text": [
      "100%|█████████████████████████████████████████████████████████████████████████████| 2010/2010 [00:04<00:00, 483.73it/s]\n",
      "  2%|█▋                                                                             | 44/2010 [00:00<00:04, 438.91it/s]"
     ]
    },
    {
     "name": "stdout",
     "output_type": "stream",
     "text": [
      "episode : 259 reward : 15.204419652458348\n",
      "total test reward=39.47301795511026\n"
     ]
    },
    {
     "name": "stderr",
     "output_type": "stream",
     "text": [
      "100%|█████████████████████████████████████████████████████████████████████████████| 2010/2010 [00:04<00:00, 470.95it/s]\n",
      "  2%|█▉                                                                             | 48/2010 [00:00<00:04, 471.69it/s]"
     ]
    },
    {
     "name": "stdout",
     "output_type": "stream",
     "text": [
      "episode : 260 reward : 71.54186389929757\n",
      "total test reward=-2.08738199836216\n"
     ]
    },
    {
     "name": "stderr",
     "output_type": "stream",
     "text": [
      "100%|█████████████████████████████████████████████████████████████████████████████| 2010/2010 [00:03<00:00, 502.72it/s]\n",
      "  3%|██▏                                                                            | 55/2010 [00:00<00:03, 507.58it/s]"
     ]
    },
    {
     "name": "stdout",
     "output_type": "stream",
     "text": [
      "episode : 261 reward : 86.3226171060563\n",
      "total test reward=-4.527359394910269\n"
     ]
    },
    {
     "name": "stderr",
     "output_type": "stream",
     "text": [
      "100%|█████████████████████████████████████████████████████████████████████████████| 2010/2010 [00:04<00:00, 495.84it/s]\n",
      "  3%|██                                                                             | 52/2010 [00:00<00:04, 455.76it/s]"
     ]
    },
    {
     "name": "stdout",
     "output_type": "stream",
     "text": [
      "episode : 262 reward : 288.2767992616965\n",
      "total test reward=28.185767929444\n"
     ]
    },
    {
     "name": "stderr",
     "output_type": "stream",
     "text": [
      "100%|█████████████████████████████████████████████████████████████████████████████| 2010/2010 [00:04<00:00, 482.49it/s]\n",
      "  2%|█▉                                                                             | 49/2010 [00:00<00:04, 444.26it/s]"
     ]
    },
    {
     "name": "stdout",
     "output_type": "stream",
     "text": [
      "episode : 263 reward : 109.45147451639093\n",
      "total test reward=24.401295948834456\n"
     ]
    },
    {
     "name": "stderr",
     "output_type": "stream",
     "text": [
      "100%|█████████████████████████████████████████████████████████████████████████████| 2010/2010 [00:04<00:00, 486.96it/s]\n",
      "  5%|███▉                                                                          | 103/2010 [00:00<00:03, 494.32it/s]"
     ]
    },
    {
     "name": "stdout",
     "output_type": "stream",
     "text": [
      "episode : 264 reward : 65.97039807100201\n",
      "total test reward=-1.1271651857808904\n"
     ]
    },
    {
     "name": "stderr",
     "output_type": "stream",
     "text": [
      "100%|█████████████████████████████████████████████████████████████████████████████| 2010/2010 [00:04<00:00, 501.00it/s]\n",
      "  2%|█▉                                                                             | 49/2010 [00:00<00:04, 439.71it/s]"
     ]
    },
    {
     "name": "stdout",
     "output_type": "stream",
     "text": [
      "episode : 265 reward : 55.90122548665878\n",
      "total test reward=-0.816945933971802\n"
     ]
    },
    {
     "name": "stderr",
     "output_type": "stream",
     "text": [
      "100%|█████████████████████████████████████████████████████████████████████████████| 2010/2010 [00:04<00:00, 482.34it/s]\n",
      "  3%|██                                                                             | 52/2010 [00:00<00:03, 501.18it/s]"
     ]
    },
    {
     "name": "stdout",
     "output_type": "stream",
     "text": [
      "episode : 266 reward : 83.47573375621877\n",
      "total test reward=65.69303227827666\n"
     ]
    },
    {
     "name": "stderr",
     "output_type": "stream",
     "text": [
      "100%|█████████████████████████████████████████████████████████████████████████████| 2010/2010 [00:04<00:00, 493.19it/s]\n",
      "  3%|██                                                                             | 54/2010 [00:00<00:03, 506.56it/s]"
     ]
    },
    {
     "name": "stdout",
     "output_type": "stream",
     "text": [
      "episode : 267 reward : 57.14002831079726\n",
      "total test reward=-1.0855300512186168\n"
     ]
    },
    {
     "name": "stderr",
     "output_type": "stream",
     "text": [
      "100%|█████████████████████████████████████████████████████████████████████████████| 2010/2010 [00:04<00:00, 486.42it/s]\n",
      "  2%|█▊                                                                             | 45/2010 [00:00<00:04, 433.59it/s]"
     ]
    },
    {
     "name": "stdout",
     "output_type": "stream",
     "text": [
      "episode : 268 reward : 91.58255021220403\n",
      "total test reward=62.28575012982837\n"
     ]
    },
    {
     "name": "stderr",
     "output_type": "stream",
     "text": [
      "100%|█████████████████████████████████████████████████████████████████████████████| 2010/2010 [00:04<00:00, 501.30it/s]\n",
      "  2%|█▉                                                                             | 50/2010 [00:00<00:03, 491.51it/s]"
     ]
    },
    {
     "name": "stdout",
     "output_type": "stream",
     "text": [
      "episode : 269 reward : 151.26776876094866\n",
      "total test reward=13.280223130561367\n"
     ]
    },
    {
     "name": "stderr",
     "output_type": "stream",
     "text": [
      "100%|█████████████████████████████████████████████████████████████████████████████| 2010/2010 [00:04<00:00, 486.48it/s]\n",
      "  3%|██                                                                             | 51/2010 [00:00<00:04, 485.02it/s]"
     ]
    },
    {
     "name": "stdout",
     "output_type": "stream",
     "text": [
      "episode : 270 reward : 46.26920719775023\n",
      "total test reward=10.95854577150806\n"
     ]
    },
    {
     "name": "stderr",
     "output_type": "stream",
     "text": [
      "100%|█████████████████████████████████████████████████████████████████████████████| 2010/2010 [00:04<00:00, 499.48it/s]\n",
      "  3%|██                                                                             | 51/2010 [00:00<00:03, 506.31it/s]"
     ]
    },
    {
     "name": "stdout",
     "output_type": "stream",
     "text": [
      "episode : 271 reward : 43.0718668125658\n",
      "total test reward=3.904896822998958\n"
     ]
    },
    {
     "name": "stderr",
     "output_type": "stream",
     "text": [
      "100%|█████████████████████████████████████████████████████████████████████████████| 2010/2010 [00:04<00:00, 501.83it/s]\n",
      "  2%|█▉                                                                             | 50/2010 [00:00<00:04, 435.37it/s]"
     ]
    },
    {
     "name": "stdout",
     "output_type": "stream",
     "text": [
      "episode : 272 reward : 40.23425431139814\n",
      "total test reward=2.6244463298440808\n"
     ]
    },
    {
     "name": "stderr",
     "output_type": "stream",
     "text": [
      "100%|█████████████████████████████████████████████████████████████████████████████| 2010/2010 [00:04<00:00, 501.05it/s]\n",
      "  2%|█▊                                                                             | 45/2010 [00:00<00:04, 447.10it/s]"
     ]
    },
    {
     "name": "stdout",
     "output_type": "stream",
     "text": [
      "episode : 273 reward : 42.66326632580117\n",
      "total test reward=81.98367980098439\n"
     ]
    },
    {
     "name": "stderr",
     "output_type": "stream",
     "text": [
      "100%|█████████████████████████████████████████████████████████████████████████████| 2010/2010 [00:04<00:00, 489.09it/s]\n",
      "  3%|██                                                                             | 52/2010 [00:00<00:03, 516.24it/s]"
     ]
    },
    {
     "name": "stdout",
     "output_type": "stream",
     "text": [
      "episode : 274 reward : 69.80139652503442\n",
      "total test reward=40.86992570803789\n"
     ]
    },
    {
     "name": "stderr",
     "output_type": "stream",
     "text": [
      "100%|█████████████████████████████████████████████████████████████████████████████| 2010/2010 [00:04<00:00, 496.58it/s]\n",
      "  3%|██                                                                             | 51/2010 [00:00<00:04, 470.35it/s]"
     ]
    },
    {
     "name": "stdout",
     "output_type": "stream",
     "text": [
      "episode : 275 reward : 73.46332391861202\n",
      "total test reward=21.857527457589534\n"
     ]
    },
    {
     "name": "stderr",
     "output_type": "stream",
     "text": [
      "100%|█████████████████████████████████████████████████████████████████████████████| 2010/2010 [00:04<00:00, 501.61it/s]\n",
      "  2%|█▊                                                                             | 46/2010 [00:00<00:04, 459.44it/s]"
     ]
    },
    {
     "name": "stdout",
     "output_type": "stream",
     "text": [
      "episode : 276 reward : 111.79181033288187\n",
      "total test reward=-2.664930348346581\n"
     ]
    },
    {
     "name": "stderr",
     "output_type": "stream",
     "text": [
      "100%|█████████████████████████████████████████████████████████████████████████████| 2010/2010 [00:03<00:00, 508.11it/s]\n",
      "  2%|█▊                                                                             | 45/2010 [00:00<00:04, 426.36it/s]"
     ]
    },
    {
     "name": "stdout",
     "output_type": "stream",
     "text": [
      "episode : 277 reward : 79.50872992470474\n",
      "total test reward=57.759174630237474\n"
     ]
    },
    {
     "name": "stderr",
     "output_type": "stream",
     "text": [
      "100%|█████████████████████████████████████████████████████████████████████████████| 2010/2010 [00:04<00:00, 501.07it/s]\n",
      "  2%|█▍                                                                             | 38/2010 [00:00<00:05, 376.73it/s]"
     ]
    },
    {
     "name": "stdout",
     "output_type": "stream",
     "text": [
      "episode : 278 reward : 26.476632706809216\n",
      "total test reward=58.75273231220117\n"
     ]
    },
    {
     "name": "stderr",
     "output_type": "stream",
     "text": [
      "100%|█████████████████████████████████████████████████████████████████████████████| 2010/2010 [00:04<00:00, 500.68it/s]\n",
      "  3%|██                                                                             | 52/2010 [00:00<00:03, 513.89it/s]"
     ]
    },
    {
     "name": "stdout",
     "output_type": "stream",
     "text": [
      "episode : 279 reward : 74.47494430214226\n",
      "total test reward=143.2500482451959\n"
     ]
    },
    {
     "name": "stderr",
     "output_type": "stream",
     "text": [
      "100%|█████████████████████████████████████████████████████████████████████████████| 2010/2010 [00:04<00:00, 493.79it/s]\n",
      "  3%|██                                                                             | 52/2010 [00:00<00:03, 517.61it/s]"
     ]
    },
    {
     "name": "stdout",
     "output_type": "stream",
     "text": [
      "episode : 280 reward : 26.305466122184296\n",
      "total test reward=67.8588523209303\n"
     ]
    },
    {
     "name": "stderr",
     "output_type": "stream",
     "text": [
      "100%|█████████████████████████████████████████████████████████████████████████████| 2010/2010 [00:04<00:00, 489.49it/s]\n",
      "  2%|█▉                                                                             | 49/2010 [00:00<00:04, 477.05it/s]"
     ]
    },
    {
     "name": "stdout",
     "output_type": "stream",
     "text": [
      "episode : 281 reward : 68.91030096477778\n",
      "total test reward=46.458883904208456\n"
     ]
    },
    {
     "name": "stderr",
     "output_type": "stream",
     "text": [
      "100%|█████████████████████████████████████████████████████████████████████████████| 2010/2010 [00:04<00:00, 482.32it/s]\n",
      "  2%|█▉                                                                             | 49/2010 [00:00<00:04, 487.29it/s]"
     ]
    },
    {
     "name": "stdout",
     "output_type": "stream",
     "text": [
      "episode : 282 reward : 75.88579208164204\n",
      "total test reward=35.42752214695833\n"
     ]
    },
    {
     "name": "stderr",
     "output_type": "stream",
     "text": [
      "100%|█████████████████████████████████████████████████████████████████████████████| 2010/2010 [00:04<00:00, 490.68it/s]\n",
      "  3%|██▏                                                                            | 55/2010 [00:00<00:03, 507.78it/s]"
     ]
    },
    {
     "name": "stdout",
     "output_type": "stream",
     "text": [
      "episode : 283 reward : 28.995283499306915\n",
      "total test reward=39.15159941296133\n"
     ]
    },
    {
     "name": "stderr",
     "output_type": "stream",
     "text": [
      "100%|█████████████████████████████████████████████████████████████████████████████| 2010/2010 [00:04<00:00, 502.08it/s]\n",
      "  2%|█▉                                                                             | 48/2010 [00:00<00:04, 419.69it/s]"
     ]
    },
    {
     "name": "stdout",
     "output_type": "stream",
     "text": [
      "episode : 284 reward : 129.64868346373754\n",
      "total test reward=40.34084683404011\n"
     ]
    },
    {
     "name": "stderr",
     "output_type": "stream",
     "text": [
      "100%|█████████████████████████████████████████████████████████████████████████████| 2010/2010 [00:04<00:00, 500.97it/s]\n",
      "  3%|██                                                                             | 51/2010 [00:00<00:03, 501.34it/s]"
     ]
    },
    {
     "name": "stdout",
     "output_type": "stream",
     "text": [
      "episode : 285 reward : 42.01449498290037\n",
      "total test reward=20.781703821179434\n"
     ]
    },
    {
     "name": "stderr",
     "output_type": "stream",
     "text": [
      "100%|█████████████████████████████████████████████████████████████████████████████| 2010/2010 [00:04<00:00, 500.98it/s]\n",
      "  2%|█▊                                                                             | 46/2010 [00:00<00:04, 454.14it/s]"
     ]
    },
    {
     "name": "stdout",
     "output_type": "stream",
     "text": [
      "episode : 286 reward : 13.060469723992737\n",
      "total test reward=3.933765707023592\n"
     ]
    },
    {
     "name": "stderr",
     "output_type": "stream",
     "text": [
      "100%|█████████████████████████████████████████████████████████████████████████████| 2010/2010 [00:04<00:00, 496.66it/s]\n",
      "  2%|█▉                                                                             | 49/2010 [00:00<00:04, 457.42it/s]"
     ]
    },
    {
     "name": "stdout",
     "output_type": "stream",
     "text": [
      "episode : 287 reward : 33.71520253755104\n",
      "total test reward=2.5102954372133377\n"
     ]
    },
    {
     "name": "stderr",
     "output_type": "stream",
     "text": [
      "100%|█████████████████████████████████████████████████████████████████████████████| 2010/2010 [00:04<00:00, 493.41it/s]\n",
      "  2%|█▉                                                                             | 50/2010 [00:00<00:04, 456.18it/s]"
     ]
    },
    {
     "name": "stdout",
     "output_type": "stream",
     "text": [
      "episode : 288 reward : 69.74730560635135\n",
      "total test reward=130.5107099921442\n"
     ]
    },
    {
     "name": "stderr",
     "output_type": "stream",
     "text": [
      "100%|█████████████████████████████████████████████████████████████████████████████| 2010/2010 [00:04<00:00, 490.10it/s]\n",
      "  2%|█▉                                                                             | 49/2010 [00:00<00:04, 481.67it/s]"
     ]
    },
    {
     "name": "stdout",
     "output_type": "stream",
     "text": [
      "episode : 289 reward : 49.75062711990465\n",
      "total test reward=23.86695948278409\n"
     ]
    },
    {
     "name": "stderr",
     "output_type": "stream",
     "text": [
      "100%|█████████████████████████████████████████████████████████████████████████████| 2010/2010 [00:04<00:00, 499.72it/s]\n",
      "  2%|█▉                                                                             | 49/2010 [00:00<00:04, 486.45it/s]"
     ]
    },
    {
     "name": "stdout",
     "output_type": "stream",
     "text": [
      "episode : 290 reward : 22.416746914339218\n",
      "total test reward=41.90860584165506\n"
     ]
    },
    {
     "name": "stderr",
     "output_type": "stream",
     "text": [
      "100%|█████████████████████████████████████████████████████████████████████████████| 2010/2010 [00:04<00:00, 498.21it/s]\n",
      "  3%|██                                                                             | 54/2010 [00:00<00:03, 530.67it/s]"
     ]
    },
    {
     "name": "stdout",
     "output_type": "stream",
     "text": [
      "episode : 291 reward : 27.666277648758506\n",
      "total test reward=6.805511619559999\n"
     ]
    },
    {
     "name": "stderr",
     "output_type": "stream",
     "text": [
      "100%|█████████████████████████████████████████████████████████████████████████████| 2010/2010 [00:03<00:00, 505.46it/s]\n",
      "  3%|██▏                                                                            | 55/2010 [00:00<00:03, 546.02it/s]"
     ]
    },
    {
     "name": "stdout",
     "output_type": "stream",
     "text": [
      "episode : 292 reward : 62.161526899896074\n",
      "total test reward=7.613853985964636\n"
     ]
    },
    {
     "name": "stderr",
     "output_type": "stream",
     "text": [
      "100%|█████████████████████████████████████████████████████████████████████████████| 2010/2010 [00:04<00:00, 437.96it/s]\n",
      "  2%|█▉                                                                             | 48/2010 [00:00<00:04, 471.70it/s]"
     ]
    },
    {
     "name": "stdout",
     "output_type": "stream",
     "text": [
      "episode : 293 reward : 83.3985046411727\n",
      "total test reward=3.4664024176902957\n"
     ]
    },
    {
     "name": "stderr",
     "output_type": "stream",
     "text": [
      "100%|█████████████████████████████████████████████████████████████████████████████| 2010/2010 [00:04<00:00, 464.30it/s]\n",
      "  3%|██                                                                             | 51/2010 [00:00<00:03, 501.34it/s]"
     ]
    },
    {
     "name": "stdout",
     "output_type": "stream",
     "text": [
      "episode : 294 reward : 72.10513745379035\n",
      "total test reward=7.4139088825721355\n"
     ]
    },
    {
     "name": "stderr",
     "output_type": "stream",
     "text": [
      "100%|█████████████████████████████████████████████████████████████████████████████| 2010/2010 [00:04<00:00, 475.20it/s]\n",
      "  2%|█▉                                                                             | 48/2010 [00:00<00:04, 472.54it/s]"
     ]
    },
    {
     "name": "stdout",
     "output_type": "stream",
     "text": [
      "episode : 295 reward : 47.07281943716319\n",
      "total test reward=3.0632076993816253\n"
     ]
    },
    {
     "name": "stderr",
     "output_type": "stream",
     "text": [
      "100%|█████████████████████████████████████████████████████████████████████████████| 2010/2010 [00:04<00:00, 473.68it/s]\n",
      "  3%|██                                                                             | 53/2010 [00:00<00:04, 480.89it/s]"
     ]
    },
    {
     "name": "stdout",
     "output_type": "stream",
     "text": [
      "episode : 296 reward : 57.13475973528713\n",
      "total test reward=5.075183579365492\n"
     ]
    },
    {
     "name": "stderr",
     "output_type": "stream",
     "text": [
      "100%|█████████████████████████████████████████████████████████████████████████████| 2010/2010 [00:04<00:00, 476.87it/s]\n",
      "  2%|█▉                                                                             | 49/2010 [00:00<00:04, 484.93it/s]"
     ]
    },
    {
     "name": "stdout",
     "output_type": "stream",
     "text": [
      "episode : 297 reward : 46.15893155407222\n",
      "total test reward=2.241602196885506\n"
     ]
    },
    {
     "name": "stderr",
     "output_type": "stream",
     "text": [
      "100%|█████████████████████████████████████████████████████████████████████████████| 2010/2010 [00:04<00:00, 462.80it/s]\n",
      "  3%|██                                                                             | 54/2010 [00:00<00:04, 479.35it/s]"
     ]
    },
    {
     "name": "stdout",
     "output_type": "stream",
     "text": [
      "episode : 298 reward : 10.367803794274941\n",
      "total test reward=2.3593492870716366\n"
     ]
    },
    {
     "name": "stderr",
     "output_type": "stream",
     "text": [
      "100%|█████████████████████████████████████████████████████████████████████████████| 2010/2010 [00:04<00:00, 464.09it/s]\n",
      "  2%|█▊                                                                             | 45/2010 [00:00<00:04, 427.56it/s]"
     ]
    },
    {
     "name": "stdout",
     "output_type": "stream",
     "text": [
      "episode : 299 reward : 45.10912256520733\n",
      "total test reward=140.0386520751062\n"
     ]
    },
    {
     "name": "stderr",
     "output_type": "stream",
     "text": [
      "100%|█████████████████████████████████████████████████████████████████████████████| 2010/2010 [00:04<00:00, 464.24it/s]\n",
      "  2%|█▉                                                                             | 48/2010 [00:00<00:04, 445.97it/s]"
     ]
    },
    {
     "name": "stdout",
     "output_type": "stream",
     "text": [
      "episode : 300 reward : 46.72420597659059\n",
      "total test reward=51.62677026284613\n"
     ]
    },
    {
     "name": "stderr",
     "output_type": "stream",
     "text": [
      "100%|█████████████████████████████████████████████████████████████████████████████| 2010/2010 [00:04<00:00, 464.77it/s]\n",
      "  2%|█▉                                                                             | 49/2010 [00:00<00:04, 481.68it/s]"
     ]
    },
    {
     "name": "stdout",
     "output_type": "stream",
     "text": [
      "episode : 301 reward : 84.3359526807087\n",
      "total test reward=65.88862220327891\n"
     ]
    },
    {
     "name": "stderr",
     "output_type": "stream",
     "text": [
      "100%|█████████████████████████████████████████████████████████████████████████████| 2010/2010 [00:04<00:00, 464.93it/s]\n",
      "  2%|█▊                                                                             | 45/2010 [00:00<00:04, 446.74it/s]"
     ]
    },
    {
     "name": "stdout",
     "output_type": "stream",
     "text": [
      "episode : 302 reward : 25.54345221493704\n",
      "total test reward=11.652023473315907\n"
     ]
    },
    {
     "name": "stderr",
     "output_type": "stream",
     "text": [
      "100%|█████████████████████████████████████████████████████████████████████████████| 2010/2010 [00:04<00:00, 465.64it/s]\n",
      "  2%|█▊                                                                             | 47/2010 [00:00<00:04, 462.02it/s]"
     ]
    },
    {
     "name": "stdout",
     "output_type": "stream",
     "text": [
      "episode : 303 reward : 57.00314471334442\n",
      "total test reward=8.081064772295328\n"
     ]
    },
    {
     "name": "stderr",
     "output_type": "stream",
     "text": [
      "100%|█████████████████████████████████████████████████████████████████████████████| 2010/2010 [00:04<00:00, 464.30it/s]\n",
      "  2%|█▉                                                                             | 48/2010 [00:00<00:04, 476.52it/s]"
     ]
    },
    {
     "name": "stdout",
     "output_type": "stream",
     "text": [
      "episode : 304 reward : 43.095006202664635\n",
      "total test reward=1.762498222943939\n"
     ]
    },
    {
     "name": "stderr",
     "output_type": "stream",
     "text": [
      "100%|█████████████████████████████████████████████████████████████████████████████| 2010/2010 [00:04<00:00, 464.20it/s]\n",
      "  5%|███▋                                                                           | 95/2010 [00:00<00:04, 477.11it/s]"
     ]
    },
    {
     "name": "stdout",
     "output_type": "stream",
     "text": [
      "episode : 305 reward : -9.806365708668414\n",
      "total test reward=100.91205157890693\n"
     ]
    },
    {
     "name": "stderr",
     "output_type": "stream",
     "text": [
      "100%|█████████████████████████████████████████████████████████████████████████████| 2010/2010 [00:04<00:00, 456.02it/s]\n",
      "  2%|█▉                                                                             | 49/2010 [00:00<00:04, 450.11it/s]"
     ]
    },
    {
     "name": "stdout",
     "output_type": "stream",
     "text": [
      "episode : 306 reward : 115.90961685013039\n",
      "total test reward=26.019134198984325\n"
     ]
    },
    {
     "name": "stderr",
     "output_type": "stream",
     "text": [
      "100%|█████████████████████████████████████████████████████████████████████████████| 2010/2010 [00:04<00:00, 456.93it/s]\n",
      "  2%|█▊                                                                             | 47/2010 [00:00<00:04, 462.02it/s]"
     ]
    },
    {
     "name": "stdout",
     "output_type": "stream",
     "text": [
      "episode : 307 reward : 25.88197393314653\n",
      "total test reward=64.16734910919311\n"
     ]
    },
    {
     "name": "stderr",
     "output_type": "stream",
     "text": [
      "100%|█████████████████████████████████████████████████████████████████████████████| 2010/2010 [00:04<00:00, 463.97it/s]\n",
      "  2%|█▊                                                                             | 47/2010 [00:00<00:04, 457.38it/s]"
     ]
    },
    {
     "name": "stdout",
     "output_type": "stream",
     "text": [
      "episode : 308 reward : 26.17368698294079\n",
      "total test reward=82.27205606189196\n"
     ]
    },
    {
     "name": "stderr",
     "output_type": "stream",
     "text": [
      "100%|█████████████████████████████████████████████████████████████████████████████| 2010/2010 [00:04<00:00, 459.19it/s]\n",
      "  2%|█▉                                                                             | 48/2010 [00:00<00:04, 471.85it/s]"
     ]
    },
    {
     "name": "stdout",
     "output_type": "stream",
     "text": [
      "episode : 309 reward : 169.4405424428769\n",
      "total test reward=34.835802213006495\n"
     ]
    },
    {
     "name": "stderr",
     "output_type": "stream",
     "text": [
      "100%|█████████████████████████████████████████████████████████████████████████████| 2010/2010 [00:04<00:00, 461.25it/s]\n",
      "  5%|███▋                                                                           | 95/2010 [00:00<00:04, 447.47it/s]"
     ]
    },
    {
     "name": "stdout",
     "output_type": "stream",
     "text": [
      "episode : 310 reward : 13.422024876703118\n",
      "total test reward=86.16304561299323\n"
     ]
    },
    {
     "name": "stderr",
     "output_type": "stream",
     "text": [
      "100%|█████████████████████████████████████████████████████████████████████████████| 2010/2010 [00:04<00:00, 456.70it/s]\n",
      "  2%|█▋                                                                             | 44/2010 [00:00<00:04, 436.95it/s]"
     ]
    },
    {
     "name": "stdout",
     "output_type": "stream",
     "text": [
      "episode : 311 reward : 64.30174350633068\n",
      "total test reward=39.27480637786489\n"
     ]
    },
    {
     "name": "stderr",
     "output_type": "stream",
     "text": [
      "100%|█████████████████████████████████████████████████████████████████████████████| 2010/2010 [00:04<00:00, 460.15it/s]\n",
      "  2%|█▌                                                                             | 41/2010 [00:00<00:05, 388.92it/s]"
     ]
    },
    {
     "name": "stdout",
     "output_type": "stream",
     "text": [
      "episode : 312 reward : 15.645808188341832\n",
      "total test reward=21.596009778564998\n"
     ]
    },
    {
     "name": "stderr",
     "output_type": "stream",
     "text": [
      "100%|█████████████████████████████████████████████████████████████████████████████| 2010/2010 [00:04<00:00, 458.59it/s]\n",
      "  2%|█▋                                                                             | 44/2010 [00:00<00:04, 432.53it/s]"
     ]
    },
    {
     "name": "stdout",
     "output_type": "stream",
     "text": [
      "episode : 313 reward : 30.66933675155024\n",
      "total test reward=42.888908940803105\n"
     ]
    },
    {
     "name": "stderr",
     "output_type": "stream",
     "text": [
      "100%|█████████████████████████████████████████████████████████████████████████████| 2010/2010 [00:04<00:00, 442.97it/s]\n",
      "  2%|█▉                                                                             | 48/2010 [00:00<00:04, 476.37it/s]"
     ]
    },
    {
     "name": "stdout",
     "output_type": "stream",
     "text": [
      "episode : 314 reward : 110.6387590876616\n",
      "total test reward=65.86665110487084\n"
     ]
    },
    {
     "name": "stderr",
     "output_type": "stream",
     "text": [
      "100%|█████████████████████████████████████████████████████████████████████████████| 2010/2010 [00:04<00:00, 459.37it/s]\n",
      "  2%|█▊                                                                             | 47/2010 [00:00<00:04, 424.99it/s]"
     ]
    },
    {
     "name": "stdout",
     "output_type": "stream",
     "text": [
      "episode : 315 reward : 122.3865440766678\n",
      "total test reward=43.2191838947231\n"
     ]
    },
    {
     "name": "stderr",
     "output_type": "stream",
     "text": [
      "100%|█████████████████████████████████████████████████████████████████████████████| 2010/2010 [00:04<00:00, 457.44it/s]\n",
      "  2%|█▊                                                                             | 47/2010 [00:00<00:04, 449.85it/s]"
     ]
    },
    {
     "name": "stdout",
     "output_type": "stream",
     "text": [
      "episode : 316 reward : 52.67725043686667\n",
      "total test reward=8.696718480857191\n"
     ]
    },
    {
     "name": "stderr",
     "output_type": "stream",
     "text": [
      "100%|█████████████████████████████████████████████████████████████████████████████| 2010/2010 [00:04<00:00, 449.60it/s]\n",
      "  2%|█▋                                                                             | 44/2010 [00:00<00:04, 436.81it/s]"
     ]
    },
    {
     "name": "stdout",
     "output_type": "stream",
     "text": [
      "episode : 317 reward : 32.12180599303592\n",
      "total test reward=33.73961598946649\n"
     ]
    },
    {
     "name": "stderr",
     "output_type": "stream",
     "text": [
      "100%|█████████████████████████████████████████████████████████████████████████████| 2010/2010 [00:04<00:00, 458.66it/s]\n",
      "  2%|█▉                                                                             | 50/2010 [00:00<00:03, 491.51it/s]"
     ]
    },
    {
     "name": "stdout",
     "output_type": "stream",
     "text": [
      "episode : 318 reward : 15.40914028256783\n",
      "total test reward=87.80827023995008\n"
     ]
    },
    {
     "name": "stderr",
     "output_type": "stream",
     "text": [
      "100%|█████████████████████████████████████████████████████████████████████████████| 2010/2010 [00:04<00:00, 459.41it/s]\n",
      "  2%|█▊                                                                             | 45/2010 [00:00<00:04, 446.73it/s]"
     ]
    },
    {
     "name": "stdout",
     "output_type": "stream",
     "text": [
      "episode : 319 reward : 41.73829691025675\n",
      "total test reward=113.51629366374102\n"
     ]
    },
    {
     "name": "stderr",
     "output_type": "stream",
     "text": [
      "100%|█████████████████████████████████████████████████████████████████████████████| 2010/2010 [00:04<00:00, 456.11it/s]\n",
      "  2%|█▋                                                                             | 44/2010 [00:00<00:04, 412.38it/s]"
     ]
    },
    {
     "name": "stdout",
     "output_type": "stream",
     "text": [
      "episode : 320 reward : 113.91825887919185\n",
      "total test reward=112.83875475394919\n"
     ]
    },
    {
     "name": "stderr",
     "output_type": "stream",
     "text": [
      "100%|█████████████████████████████████████████████████████████████████████████████| 2010/2010 [00:04<00:00, 459.40it/s]\n",
      "  2%|█▋                                                                             | 44/2010 [00:00<00:04, 423.16it/s]"
     ]
    },
    {
     "name": "stdout",
     "output_type": "stream",
     "text": [
      "episode : 321 reward : -12.163867848073197\n",
      "total test reward=62.12470844209652\n"
     ]
    },
    {
     "name": "stderr",
     "output_type": "stream",
     "text": [
      "100%|█████████████████████████████████████████████████████████████████████████████| 2010/2010 [00:04<00:00, 442.90it/s]\n",
      "  2%|█▊                                                                             | 45/2010 [00:00<00:05, 391.67it/s]"
     ]
    },
    {
     "name": "stdout",
     "output_type": "stream",
     "text": [
      "episode : 322 reward : 74.62196074444476\n",
      "total test reward=31.403776909324257\n"
     ]
    },
    {
     "name": "stderr",
     "output_type": "stream",
     "text": [
      "100%|█████████████████████████████████████████████████████████████████████████████| 2010/2010 [00:04<00:00, 455.18it/s]\n",
      "  2%|█▉                                                                             | 49/2010 [00:00<00:04, 486.30it/s]"
     ]
    },
    {
     "name": "stdout",
     "output_type": "stream",
     "text": [
      "episode : 323 reward : 51.97973770626946\n",
      "total test reward=9.997750439455332\n"
     ]
    },
    {
     "name": "stderr",
     "output_type": "stream",
     "text": [
      "100%|█████████████████████████████████████████████████████████████████████████████| 2010/2010 [00:04<00:00, 447.31it/s]\n",
      "  3%|██                                                                             | 51/2010 [00:00<00:03, 506.31it/s]"
     ]
    },
    {
     "name": "stdout",
     "output_type": "stream",
     "text": [
      "episode : 324 reward : 73.38021388733635\n",
      "total test reward=4.022655853648313\n"
     ]
    },
    {
     "name": "stderr",
     "output_type": "stream",
     "text": [
      "100%|█████████████████████████████████████████████████████████████████████████████| 2010/2010 [00:04<00:00, 455.00it/s]\n",
      "  2%|█▉                                                                             | 48/2010 [00:00<00:04, 428.46it/s]"
     ]
    },
    {
     "name": "stdout",
     "output_type": "stream",
     "text": [
      "episode : 325 reward : 73.9191021489247\n",
      "total test reward=5.265526739019461\n"
     ]
    },
    {
     "name": "stderr",
     "output_type": "stream",
     "text": [
      "100%|█████████████████████████████████████████████████████████████████████████████| 2010/2010 [00:04<00:00, 443.63it/s]\n",
      "  2%|█▊                                                                             | 47/2010 [00:00<00:04, 412.72it/s]"
     ]
    },
    {
     "name": "stdout",
     "output_type": "stream",
     "text": [
      "episode : 326 reward : 35.94155414305836\n",
      "total test reward=60.74040434272092\n"
     ]
    },
    {
     "name": "stderr",
     "output_type": "stream",
     "text": [
      "100%|█████████████████████████████████████████████████████████████████████████████| 2010/2010 [00:04<00:00, 458.00it/s]\n",
      "  2%|█▋                                                                             | 43/2010 [00:00<00:04, 422.83it/s]"
     ]
    },
    {
     "name": "stdout",
     "output_type": "stream",
     "text": [
      "episode : 327 reward : 66.44720663498232\n",
      "total test reward=23.296388639377014\n"
     ]
    },
    {
     "name": "stderr",
     "output_type": "stream",
     "text": [
      "100%|█████████████████████████████████████████████████████████████████████████████| 2010/2010 [00:04<00:00, 459.28it/s]\n",
      "  2%|█▌                                                                             | 41/2010 [00:00<00:04, 406.89it/s]"
     ]
    },
    {
     "name": "stdout",
     "output_type": "stream",
     "text": [
      "episode : 328 reward : 53.8253499521346\n",
      "total test reward=59.490344085238235\n"
     ]
    },
    {
     "name": "stderr",
     "output_type": "stream",
     "text": [
      "100%|█████████████████████████████████████████████████████████████████████████████| 2010/2010 [00:04<00:00, 457.47it/s]\n",
      "  2%|█▉                                                                             | 48/2010 [00:00<00:04, 476.51it/s]"
     ]
    },
    {
     "name": "stdout",
     "output_type": "stream",
     "text": [
      "episode : 329 reward : 80.05806540531319\n",
      "total test reward=64.3308413020122\n"
     ]
    },
    {
     "name": "stderr",
     "output_type": "stream",
     "text": [
      "100%|█████████████████████████████████████████████████████████████████████████████| 2010/2010 [00:04<00:00, 451.40it/s]\n",
      "  3%|██                                                                             | 54/2010 [00:00<00:04, 476.41it/s]"
     ]
    },
    {
     "name": "stdout",
     "output_type": "stream",
     "text": [
      "episode : 330 reward : 33.607198902716426\n",
      "total test reward=103.74037571735064\n"
     ]
    },
    {
     "name": "stderr",
     "output_type": "stream",
     "text": [
      "100%|█████████████████████████████████████████████████████████████████████████████| 2010/2010 [00:04<00:00, 455.36it/s]\n",
      "  2%|█▌                                                                             | 39/2010 [00:00<00:05, 365.53it/s]"
     ]
    },
    {
     "name": "stdout",
     "output_type": "stream",
     "text": [
      "episode : 331 reward : 6.633272232460136\n",
      "total test reward=274.2651491023843\n"
     ]
    },
    {
     "name": "stderr",
     "output_type": "stream",
     "text": [
      "100%|█████████████████████████████████████████████████████████████████████████████| 2010/2010 [00:04<00:00, 462.40it/s]\n",
      "  2%|█▊                                                                             | 45/2010 [00:00<00:04, 446.79it/s]"
     ]
    },
    {
     "name": "stdout",
     "output_type": "stream",
     "text": [
      "episode : 332 reward : 81.17059604309802\n",
      "total test reward=136.4673814251448\n"
     ]
    },
    {
     "name": "stderr",
     "output_type": "stream",
     "text": [
      "100%|█████████████████████████████████████████████████████████████████████████████| 2010/2010 [00:04<00:00, 448.37it/s]\n",
      "  4%|███                                                                            | 77/2010 [00:00<00:05, 372.03it/s]"
     ]
    },
    {
     "name": "stdout",
     "output_type": "stream",
     "text": [
      "episode : 333 reward : 30.769698407372623\n",
      "total test reward=91.06877679385306\n"
     ]
    },
    {
     "name": "stderr",
     "output_type": "stream",
     "text": [
      "100%|█████████████████████████████████████████████████████████████████████████████| 2010/2010 [00:04<00:00, 447.93it/s]\n",
      "  2%|█▉                                                                             | 48/2010 [00:00<00:04, 471.68it/s]"
     ]
    },
    {
     "name": "stdout",
     "output_type": "stream",
     "text": [
      "episode : 334 reward : 84.78595923561141\n",
      "total test reward=154.27145998949217\n"
     ]
    },
    {
     "name": "stderr",
     "output_type": "stream",
     "text": [
      "100%|█████████████████████████████████████████████████████████████████████████████| 2010/2010 [00:04<00:00, 450.69it/s]\n",
      "  2%|█▊                                                                             | 46/2010 [00:00<00:04, 452.05it/s]"
     ]
    },
    {
     "name": "stdout",
     "output_type": "stream",
     "text": [
      "episode : 335 reward : 60.103040635196336\n",
      "total test reward=26.145475421791133\n"
     ]
    },
    {
     "name": "stderr",
     "output_type": "stream",
     "text": [
      "100%|█████████████████████████████████████████████████████████████████████████████| 2010/2010 [00:04<00:00, 449.31it/s]\n",
      "  2%|█▊                                                                             | 47/2010 [00:00<00:04, 462.15it/s]"
     ]
    },
    {
     "name": "stdout",
     "output_type": "stream",
     "text": [
      "episode : 336 reward : 91.83091248171753\n",
      "total test reward=149.6829211135154\n"
     ]
    },
    {
     "name": "stderr",
     "output_type": "stream",
     "text": [
      "100%|█████████████████████████████████████████████████████████████████████████████| 2010/2010 [00:04<00:00, 435.71it/s]\n",
      "  2%|█▊                                                                             | 45/2010 [00:00<00:04, 423.47it/s]"
     ]
    },
    {
     "name": "stdout",
     "output_type": "stream",
     "text": [
      "episode : 337 reward : 296.91139161267756\n",
      "total test reward=144.44459344234423\n"
     ]
    },
    {
     "name": "stderr",
     "output_type": "stream",
     "text": [
      "100%|█████████████████████████████████████████████████████████████████████████████| 2010/2010 [00:04<00:00, 432.00it/s]\n",
      "  5%|███▌                                                                           | 92/2010 [00:00<00:04, 441.50it/s]"
     ]
    },
    {
     "name": "stdout",
     "output_type": "stream",
     "text": [
      "episode : 338 reward : 295.3825762746401\n",
      "total test reward=135.10447038604053\n"
     ]
    },
    {
     "name": "stderr",
     "output_type": "stream",
     "text": [
      "100%|█████████████████████████████████████████████████████████████████████████████| 2010/2010 [00:04<00:00, 438.67it/s]\n",
      "  2%|█▋                                                                             | 43/2010 [00:00<00:04, 422.69it/s]"
     ]
    },
    {
     "name": "stdout",
     "output_type": "stream",
     "text": [
      "episode : 339 reward : 86.90846379501859\n",
      "total test reward=94.96596976094881\n"
     ]
    },
    {
     "name": "stderr",
     "output_type": "stream",
     "text": [
      "100%|█████████████████████████████████████████████████████████████████████████████| 2010/2010 [00:04<00:00, 440.86it/s]\n",
      "  2%|█▊                                                                             | 45/2010 [00:00<00:04, 446.74it/s]"
     ]
    },
    {
     "name": "stdout",
     "output_type": "stream",
     "text": [
      "episode : 340 reward : 133.5256073969121\n",
      "total test reward=3.0292880592878477\n"
     ]
    },
    {
     "name": "stderr",
     "output_type": "stream",
     "text": [
      "100%|█████████████████████████████████████████████████████████████████████████████| 2010/2010 [00:04<00:00, 447.02it/s]\n",
      "  2%|█▊                                                                             | 46/2010 [00:00<00:04, 456.52it/s]"
     ]
    },
    {
     "name": "stdout",
     "output_type": "stream",
     "text": [
      "episode : 341 reward : 67.92432471099082\n",
      "total test reward=47.958228679502106\n"
     ]
    },
    {
     "name": "stderr",
     "output_type": "stream",
     "text": [
      "100%|█████████████████████████████████████████████████████████████████████████████| 2010/2010 [00:04<00:00, 433.07it/s]\n",
      "  2%|█▊                                                                             | 45/2010 [00:00<00:04, 446.73it/s]"
     ]
    },
    {
     "name": "stdout",
     "output_type": "stream",
     "text": [
      "episode : 342 reward : 42.28710289834786\n",
      "total test reward=110.3315534251586\n"
     ]
    },
    {
     "name": "stderr",
     "output_type": "stream",
     "text": [
      "100%|█████████████████████████████████████████████████████████████████████████████| 2010/2010 [00:04<00:00, 436.37it/s]\n",
      "  2%|█▉                                                                             | 49/2010 [00:00<00:04, 434.44it/s]"
     ]
    },
    {
     "name": "stdout",
     "output_type": "stream",
     "text": [
      "episode : 343 reward : 44.87173188015036\n",
      "total test reward=28.500460950153496\n"
     ]
    },
    {
     "name": "stderr",
     "output_type": "stream",
     "text": [
      "100%|█████████████████████████████████████████████████████████████████████████████| 2010/2010 [00:04<00:00, 443.94it/s]\n",
      "  3%|██                                                                             | 51/2010 [00:00<00:04, 466.73it/s]"
     ]
    },
    {
     "name": "stdout",
     "output_type": "stream",
     "text": [
      "episode : 344 reward : 52.498656367893716\n",
      "total test reward=35.33476533416764\n"
     ]
    },
    {
     "name": "stderr",
     "output_type": "stream",
     "text": [
      "100%|█████████████████████████████████████████████████████████████████████████████| 2010/2010 [00:04<00:00, 436.82it/s]\n",
      "  4%|███▍                                                                           | 89/2010 [00:00<00:04, 439.46it/s]"
     ]
    },
    {
     "name": "stdout",
     "output_type": "stream",
     "text": [
      "episode : 345 reward : 13.77008565116327\n",
      "total test reward=15.576391019460337\n"
     ]
    },
    {
     "name": "stderr",
     "output_type": "stream",
     "text": [
      "100%|█████████████████████████████████████████████████████████████████████████████| 2010/2010 [00:04<00:00, 429.94it/s]\n",
      "  2%|█▊                                                                             | 45/2010 [00:00<00:04, 442.35it/s]"
     ]
    },
    {
     "name": "stdout",
     "output_type": "stream",
     "text": [
      "episode : 346 reward : 58.21630473291468\n",
      "total test reward=68.80838483465095\n"
     ]
    },
    {
     "name": "stderr",
     "output_type": "stream",
     "text": [
      "100%|█████████████████████████████████████████████████████████████████████████████| 2010/2010 [00:04<00:00, 439.44it/s]\n",
      "  2%|█▋                                                                             | 44/2010 [00:00<00:04, 432.52it/s]"
     ]
    },
    {
     "name": "stdout",
     "output_type": "stream",
     "text": [
      "episode : 347 reward : 33.091184785345106\n",
      "total test reward=1.6825718316363478\n"
     ]
    },
    {
     "name": "stderr",
     "output_type": "stream",
     "text": [
      "100%|█████████████████████████████████████████████████████████████████████████████| 2010/2010 [00:04<00:00, 426.61it/s]\n",
      "  2%|█▊                                                                             | 45/2010 [00:00<00:04, 442.36it/s]"
     ]
    },
    {
     "name": "stdout",
     "output_type": "stream",
     "text": [
      "episode : 348 reward : 121.51550322321485\n",
      "total test reward=26.888183178332707\n"
     ]
    },
    {
     "name": "stderr",
     "output_type": "stream",
     "text": [
      "100%|█████████████████████████████████████████████████████████████████████████████| 2010/2010 [00:04<00:00, 434.31it/s]\n",
      "  4%|███                                                                            | 78/2010 [00:00<00:04, 388.28it/s]"
     ]
    },
    {
     "name": "stdout",
     "output_type": "stream",
     "text": [
      "episode : 349 reward : 240.27945391848237\n",
      "total test reward=46.469327952210726\n"
     ]
    },
    {
     "name": "stderr",
     "output_type": "stream",
     "text": [
      "100%|█████████████████████████████████████████████████████████████████████████████| 2010/2010 [00:04<00:00, 410.56it/s]\n",
      "  2%|█▋                                                                             | 43/2010 [00:00<00:04, 422.70it/s]"
     ]
    },
    {
     "name": "stdout",
     "output_type": "stream",
     "text": [
      "episode : 350 reward : 75.39942038964453\n",
      "total test reward=43.827673265309315\n"
     ]
    },
    {
     "name": "stderr",
     "output_type": "stream",
     "text": [
      "100%|█████████████████████████████████████████████████████████████████████████████| 2010/2010 [00:04<00:00, 408.26it/s]\n",
      "  2%|█▊                                                                             | 45/2010 [00:00<00:04, 393.91it/s]"
     ]
    },
    {
     "name": "stdout",
     "output_type": "stream",
     "text": [
      "episode : 351 reward : 28.445906253311925\n",
      "total test reward=64.88021218067314\n"
     ]
    },
    {
     "name": "stderr",
     "output_type": "stream",
     "text": [
      "100%|█████████████████████████████████████████████████████████████████████████████| 2010/2010 [00:04<00:00, 426.65it/s]\n",
      "  2%|█▍                                                                             | 36/2010 [00:00<00:05, 354.39it/s]"
     ]
    },
    {
     "name": "stdout",
     "output_type": "stream",
     "text": [
      "episode : 352 reward : 47.930872119912934\n",
      "total test reward=50.912883057419876\n"
     ]
    },
    {
     "name": "stderr",
     "output_type": "stream",
     "text": [
      "100%|█████████████████████████████████████████████████████████████████████████████| 2010/2010 [00:04<00:00, 427.66it/s]\n",
      "  2%|█▊                                                                             | 47/2010 [00:00<00:04, 466.59it/s]"
     ]
    },
    {
     "name": "stdout",
     "output_type": "stream",
     "text": [
      "episode : 353 reward : 87.50949189747337\n",
      "total test reward=3.160532207904549\n"
     ]
    },
    {
     "name": "stderr",
     "output_type": "stream",
     "text": [
      "100%|█████████████████████████████████████████████████████████████████████████████| 2010/2010 [00:04<00:00, 424.34it/s]\n",
      "  2%|█▉                                                                             | 50/2010 [00:00<00:03, 491.35it/s]"
     ]
    },
    {
     "name": "stdout",
     "output_type": "stream",
     "text": [
      "episode : 354 reward : 119.56004931643325\n",
      "total test reward=63.17837256052651\n"
     ]
    },
    {
     "name": "stderr",
     "output_type": "stream",
     "text": [
      "100%|█████████████████████████████████████████████████████████████████████████████| 2010/2010 [00:04<00:00, 436.75it/s]\n",
      "  2%|█▊                                                                             | 46/2010 [00:00<00:04, 452.05it/s]"
     ]
    },
    {
     "name": "stdout",
     "output_type": "stream",
     "text": [
      "episode : 355 reward : 37.60261782044075\n",
      "total test reward=71.05317062261642\n"
     ]
    },
    {
     "name": "stderr",
     "output_type": "stream",
     "text": [
      "100%|█████████████████████████████████████████████████████████████████████████████| 2010/2010 [00:04<00:00, 433.78it/s]\n",
      "  2%|█▋                                                                             | 43/2010 [00:00<00:04, 427.01it/s]"
     ]
    },
    {
     "name": "stdout",
     "output_type": "stream",
     "text": [
      "episode : 356 reward : 9.352025607591703\n",
      "total test reward=31.817769481408202\n"
     ]
    },
    {
     "name": "stderr",
     "output_type": "stream",
     "text": [
      "100%|█████████████████████████████████████████████████████████████████████████████| 2010/2010 [00:04<00:00, 437.65it/s]\n",
      "  2%|█▌                                                                             | 39/2010 [00:00<00:05, 382.81it/s]"
     ]
    },
    {
     "name": "stdout",
     "output_type": "stream",
     "text": [
      "episode : 357 reward : 30.55085936577356\n",
      "total test reward=71.99380348024314\n"
     ]
    },
    {
     "name": "stderr",
     "output_type": "stream",
     "text": [
      "100%|█████████████████████████████████████████████████████████████████████████████| 2010/2010 [00:04<00:00, 443.01it/s]\n",
      "  2%|█▊                                                                             | 46/2010 [00:00<00:04, 452.19it/s]"
     ]
    },
    {
     "name": "stdout",
     "output_type": "stream",
     "text": [
      "episode : 358 reward : 18.792374893509443\n",
      "total test reward=16.228198576945864\n"
     ]
    },
    {
     "name": "stderr",
     "output_type": "stream",
     "text": [
      "100%|█████████████████████████████████████████████████████████████████████████████| 2010/2010 [00:04<00:00, 456.85it/s]\n",
      "  2%|█▋                                                                             | 43/2010 [00:00<00:04, 422.84it/s]"
     ]
    },
    {
     "name": "stdout",
     "output_type": "stream",
     "text": [
      "episode : 359 reward : 71.4242493687122\n",
      "total test reward=9.007079802405485\n"
     ]
    },
    {
     "name": "stderr",
     "output_type": "stream",
     "text": [
      "100%|█████████████████████████████████████████████████████████████████████████████| 2010/2010 [00:04<00:00, 454.62it/s]\n",
      "  2%|█▊                                                                             | 46/2010 [00:00<00:04, 456.15it/s]"
     ]
    },
    {
     "name": "stdout",
     "output_type": "stream",
     "text": [
      "episode : 360 reward : 78.7344381524841\n",
      "total test reward=106.52522762188487\n"
     ]
    },
    {
     "name": "stderr",
     "output_type": "stream",
     "text": [
      "100%|█████████████████████████████████████████████████████████████████████████████| 2010/2010 [00:04<00:00, 446.87it/s]\n",
      "  2%|█▉                                                                             | 50/2010 [00:00<00:04, 433.21it/s]"
     ]
    },
    {
     "name": "stdout",
     "output_type": "stream",
     "text": [
      "episode : 361 reward : 67.40823924170847\n",
      "total test reward=10.179884932179913\n"
     ]
    },
    {
     "name": "stderr",
     "output_type": "stream",
     "text": [
      "100%|█████████████████████████████████████████████████████████████████████████████| 2010/2010 [00:04<00:00, 440.01it/s]\n",
      "  2%|█▉                                                                             | 48/2010 [00:00<00:04, 471.74it/s]"
     ]
    },
    {
     "name": "stdout",
     "output_type": "stream",
     "text": [
      "episode : 362 reward : 215.772784407552\n",
      "total test reward=9.605886215538407\n"
     ]
    },
    {
     "name": "stderr",
     "output_type": "stream",
     "text": [
      "100%|█████████████████████████████████████████████████████████████████████████████| 2010/2010 [00:04<00:00, 435.17it/s]\n",
      "  2%|█▊                                                                             | 47/2010 [00:00<00:04, 466.59it/s]"
     ]
    },
    {
     "name": "stdout",
     "output_type": "stream",
     "text": [
      "episode : 363 reward : 62.712207449553006\n",
      "total test reward=67.96665151017775\n"
     ]
    },
    {
     "name": "stderr",
     "output_type": "stream",
     "text": [
      "100%|█████████████████████████████████████████████████████████████████████████████| 2010/2010 [00:04<00:00, 450.70it/s]\n",
      "  2%|█▉                                                                             | 48/2010 [00:00<00:04, 476.67it/s]"
     ]
    },
    {
     "name": "stdout",
     "output_type": "stream",
     "text": [
      "episode : 364 reward : 220.09389071485347\n",
      "total test reward=27.409568031863735\n"
     ]
    },
    {
     "name": "stderr",
     "output_type": "stream",
     "text": [
      "100%|█████████████████████████████████████████████████████████████████████████████| 2010/2010 [00:04<00:00, 453.22it/s]\n",
      "  2%|█▊                                                                             | 45/2010 [00:00<00:04, 442.44it/s]"
     ]
    },
    {
     "name": "stdout",
     "output_type": "stream",
     "text": [
      "episode : 365 reward : 18.450960746254626\n",
      "total test reward=57.035377312950814\n"
     ]
    },
    {
     "name": "stderr",
     "output_type": "stream",
     "text": [
      "100%|█████████████████████████████████████████████████████████████████████████████| 2010/2010 [00:04<00:00, 441.11it/s]\n",
      "  2%|█▋                                                                             | 43/2010 [00:00<00:04, 426.89it/s]"
     ]
    },
    {
     "name": "stdout",
     "output_type": "stream",
     "text": [
      "episode : 366 reward : -18.779715256373688\n",
      "total test reward=100.13884401883352\n"
     ]
    },
    {
     "name": "stderr",
     "output_type": "stream",
     "text": [
      "100%|█████████████████████████████████████████████████████████████████████████████| 2010/2010 [00:04<00:00, 442.62it/s]\n",
      "  5%|███▋                                                                           | 95/2010 [00:00<00:04, 460.51it/s]"
     ]
    },
    {
     "name": "stdout",
     "output_type": "stream",
     "text": [
      "episode : 367 reward : -8.369183204841613\n",
      "total test reward=100.2823695609811\n"
     ]
    },
    {
     "name": "stderr",
     "output_type": "stream",
     "text": [
      "100%|█████████████████████████████████████████████████████████████████████████████| 2010/2010 [00:04<00:00, 451.05it/s]\n",
      "  2%|█▋                                                                             | 44/2010 [00:00<00:04, 433.10it/s]"
     ]
    },
    {
     "name": "stdout",
     "output_type": "stream",
     "text": [
      "episode : 368 reward : 25.220307830969197\n",
      "total test reward=75.06966757408699\n"
     ]
    },
    {
     "name": "stderr",
     "output_type": "stream",
     "text": [
      "100%|█████████████████████████████████████████████████████████████████████████████| 2010/2010 [00:04<00:00, 447.23it/s]\n",
      "  2%|█▊                                                                             | 45/2010 [00:00<00:04, 437.44it/s]"
     ]
    },
    {
     "name": "stdout",
     "output_type": "stream",
     "text": [
      "episode : 369 reward : 74.83629762205241\n",
      "total test reward=173.405035533534\n"
     ]
    },
    {
     "name": "stderr",
     "output_type": "stream",
     "text": [
      "100%|█████████████████████████████████████████████████████████████████████████████| 2010/2010 [00:04<00:00, 438.99it/s]\n",
      "  2%|█▉                                                                             | 48/2010 [00:00<00:04, 476.68it/s]"
     ]
    },
    {
     "name": "stdout",
     "output_type": "stream",
     "text": [
      "episode : 370 reward : 56.7694291687616\n",
      "total test reward=53.883530031127506\n"
     ]
    },
    {
     "name": "stderr",
     "output_type": "stream",
     "text": [
      "100%|█████████████████████████████████████████████████████████████████████████████| 2010/2010 [00:04<00:00, 448.33it/s]\n",
      "  2%|█▉                                                                             | 50/2010 [00:00<00:03, 496.54it/s]"
     ]
    },
    {
     "name": "stdout",
     "output_type": "stream",
     "text": [
      "episode : 371 reward : 44.301543293299844\n",
      "total test reward=46.303382904128824\n"
     ]
    },
    {
     "name": "stderr",
     "output_type": "stream",
     "text": [
      "100%|█████████████████████████████████████████████████████████████████████████████| 2010/2010 [00:04<00:00, 451.33it/s]\n",
      "  2%|█▊                                                                             | 47/2010 [00:00<00:04, 439.45it/s]"
     ]
    },
    {
     "name": "stdout",
     "output_type": "stream",
     "text": [
      "episode : 372 reward : 11.185475057617735\n",
      "total test reward=76.55834724508271\n"
     ]
    },
    {
     "name": "stderr",
     "output_type": "stream",
     "text": [
      "100%|█████████████████████████████████████████████████████████████████████████████| 2010/2010 [00:04<00:00, 448.53it/s]\n",
      "  2%|█▉                                                                             | 48/2010 [00:00<00:04, 476.50it/s]"
     ]
    },
    {
     "name": "stdout",
     "output_type": "stream",
     "text": [
      "episode : 373 reward : 159.4489930141335\n",
      "total test reward=103.16265448401046\n"
     ]
    },
    {
     "name": "stderr",
     "output_type": "stream",
     "text": [
      "100%|█████████████████████████████████████████████████████████████████████████████| 2010/2010 [00:04<00:00, 454.60it/s]\n",
      "  2%|█▉                                                                             | 48/2010 [00:00<00:04, 476.36it/s]"
     ]
    },
    {
     "name": "stdout",
     "output_type": "stream",
     "text": [
      "episode : 374 reward : 204.66579536991517\n",
      "total test reward=164.14358075430567\n"
     ]
    },
    {
     "name": "stderr",
     "output_type": "stream",
     "text": [
      "100%|█████████████████████████████████████████████████████████████████████████████| 2010/2010 [00:04<00:00, 453.32it/s]\n",
      "  2%|█▋                                                                             | 44/2010 [00:00<00:04, 432.53it/s]"
     ]
    },
    {
     "name": "stdout",
     "output_type": "stream",
     "text": [
      "episode : 375 reward : 222.5473636431869\n",
      "total test reward=190.95234811247374\n"
     ]
    },
    {
     "name": "stderr",
     "output_type": "stream",
     "text": [
      "100%|█████████████████████████████████████████████████████████████████████████████| 2010/2010 [00:04<00:00, 446.27it/s]\n",
      "  2%|█▉                                                                             | 49/2010 [00:00<00:04, 443.48it/s]"
     ]
    },
    {
     "name": "stdout",
     "output_type": "stream",
     "text": [
      "episode : 376 reward : 112.90934840202672\n",
      "total test reward=105.41019000199401\n"
     ]
    },
    {
     "name": "stderr",
     "output_type": "stream",
     "text": [
      "100%|█████████████████████████████████████████████████████████████████████████████| 2010/2010 [00:04<00:00, 454.09it/s]\n",
      "  2%|█▊                                                                             | 47/2010 [00:00<00:04, 462.02it/s]"
     ]
    },
    {
     "name": "stdout",
     "output_type": "stream",
     "text": [
      "episode : 377 reward : 42.03295562717072\n",
      "total test reward=61.80254841104369\n"
     ]
    },
    {
     "name": "stderr",
     "output_type": "stream",
     "text": [
      "100%|█████████████████████████████████████████████████████████████████████████████| 2010/2010 [00:04<00:00, 446.55it/s]\n",
      "  2%|█▊                                                                             | 47/2010 [00:00<00:04, 462.02it/s]"
     ]
    },
    {
     "name": "stdout",
     "output_type": "stream",
     "text": [
      "episode : 378 reward : 62.0040152453266\n",
      "total test reward=126.8309479263825\n"
     ]
    },
    {
     "name": "stderr",
     "output_type": "stream",
     "text": [
      "100%|█████████████████████████████████████████████████████████████████████████████| 2010/2010 [00:04<00:00, 444.20it/s]\n",
      "  2%|█▊                                                                             | 46/2010 [00:00<00:04, 456.66it/s]"
     ]
    },
    {
     "name": "stdout",
     "output_type": "stream",
     "text": [
      "episode : 379 reward : 89.59070073739973\n",
      "total test reward=84.38125008545867\n"
     ]
    },
    {
     "name": "stderr",
     "output_type": "stream",
     "text": [
      "100%|█████████████████████████████████████████████████████████████████████████████| 2010/2010 [00:04<00:00, 452.76it/s]\n",
      "  2%|█▊                                                                             | 45/2010 [00:00<00:04, 446.73it/s]"
     ]
    },
    {
     "name": "stdout",
     "output_type": "stream",
     "text": [
      "episode : 380 reward : 101.30850341522688\n",
      "total test reward=208.11827973739815\n"
     ]
    },
    {
     "name": "stderr",
     "output_type": "stream",
     "text": [
      "100%|█████████████████████████████████████████████████████████████████████████████| 2010/2010 [00:04<00:00, 447.51it/s]\n",
      "  2%|█▋                                                                             | 43/2010 [00:00<00:04, 422.83it/s]"
     ]
    },
    {
     "name": "stdout",
     "output_type": "stream",
     "text": [
      "episode : 381 reward : 150.52966582839898\n",
      "total test reward=167.02420100576657\n"
     ]
    },
    {
     "name": "stderr",
     "output_type": "stream",
     "text": [
      "100%|█████████████████████████████████████████████████████████████████████████████| 2010/2010 [00:04<00:00, 433.34it/s]\n",
      "  2%|█▊                                                                             | 45/2010 [00:00<00:04, 411.50it/s]"
     ]
    },
    {
     "name": "stdout",
     "output_type": "stream",
     "text": [
      "episode : 382 reward : 204.88367770892538\n",
      "total test reward=109.61770480072407\n"
     ]
    },
    {
     "name": "stderr",
     "output_type": "stream",
     "text": [
      "100%|█████████████████████████████████████████████████████████████████████████████| 2010/2010 [00:04<00:00, 434.78it/s]\n",
      "  2%|█▉                                                                             | 48/2010 [00:00<00:04, 476.52it/s]"
     ]
    },
    {
     "name": "stdout",
     "output_type": "stream",
     "text": [
      "episode : 383 reward : 28.31274045785146\n",
      "total test reward=166.906291909736\n"
     ]
    },
    {
     "name": "stderr",
     "output_type": "stream",
     "text": [
      "100%|█████████████████████████████████████████████████████████████████████████████| 2010/2010 [00:04<00:00, 434.87it/s]\n",
      "  2%|█▍                                                                             | 37/2010 [00:00<00:05, 360.87it/s]"
     ]
    },
    {
     "name": "stdout",
     "output_type": "stream",
     "text": [
      "episode : 384 reward : 218.56447439243942\n",
      "total test reward=103.14013337384681\n"
     ]
    },
    {
     "name": "stderr",
     "output_type": "stream",
     "text": [
      "100%|█████████████████████████████████████████████████████████████████████████████| 2010/2010 [00:04<00:00, 434.56it/s]\n",
      "  2%|█▊                                                                             | 46/2010 [00:00<00:04, 456.66it/s]"
     ]
    },
    {
     "name": "stdout",
     "output_type": "stream",
     "text": [
      "episode : 385 reward : -16.4544078324593\n",
      "total test reward=58.465289922565\n"
     ]
    },
    {
     "name": "stderr",
     "output_type": "stream",
     "text": [
      "100%|█████████████████████████████████████████████████████████████████████████████| 2010/2010 [00:04<00:00, 417.20it/s]\n",
      "  2%|█▉                                                                             | 48/2010 [00:00<00:04, 471.70it/s]"
     ]
    },
    {
     "name": "stdout",
     "output_type": "stream",
     "text": [
      "episode : 386 reward : 35.137061693115164\n",
      "total test reward=122.5439089301972\n"
     ]
    },
    {
     "name": "stderr",
     "output_type": "stream",
     "text": [
      "100%|█████████████████████████████████████████████████████████████████████████████| 2010/2010 [00:04<00:00, 444.42it/s]\n",
      "  2%|█▉                                                                             | 49/2010 [00:00<00:04, 481.68it/s]"
     ]
    },
    {
     "name": "stdout",
     "output_type": "stream",
     "text": [
      "episode : 387 reward : 41.17110313781488\n",
      "total test reward=75.844995991687\n"
     ]
    },
    {
     "name": "stderr",
     "output_type": "stream",
     "text": [
      "100%|█████████████████████████████████████████████████████████████████████████████| 2010/2010 [00:04<00:00, 455.15it/s]\n",
      "  2%|█▊                                                                             | 47/2010 [00:00<00:04, 461.87it/s]"
     ]
    },
    {
     "name": "stdout",
     "output_type": "stream",
     "text": [
      "episode : 388 reward : 40.00808334909123\n",
      "total test reward=109.26073010629948\n"
     ]
    },
    {
     "name": "stderr",
     "output_type": "stream",
     "text": [
      "100%|█████████████████████████████████████████████████████████████████████████████| 2010/2010 [00:04<00:00, 452.91it/s]\n",
      "  2%|█▉                                                                             | 48/2010 [00:00<00:04, 471.84it/s]"
     ]
    },
    {
     "name": "stdout",
     "output_type": "stream",
     "text": [
      "episode : 389 reward : 22.954544011765364\n",
      "total test reward=81.22763422642001\n"
     ]
    },
    {
     "name": "stderr",
     "output_type": "stream",
     "text": [
      "100%|█████████████████████████████████████████████████████████████████████████████| 2010/2010 [00:04<00:00, 447.08it/s]\n",
      "  2%|█▉                                                                             | 49/2010 [00:00<00:04, 433.30it/s]"
     ]
    },
    {
     "name": "stdout",
     "output_type": "stream",
     "text": [
      "episode : 390 reward : -5.064070700610735\n",
      "total test reward=110.44376161443844\n"
     ]
    },
    {
     "name": "stderr",
     "output_type": "stream",
     "text": [
      "100%|█████████████████████████████████████████████████████████████████████████████| 2010/2010 [00:04<00:00, 455.10it/s]\n",
      "  2%|█▋                                                                             | 43/2010 [00:00<00:04, 426.89it/s]"
     ]
    },
    {
     "name": "stdout",
     "output_type": "stream",
     "text": [
      "episode : 391 reward : 20.75958149736937\n",
      "total test reward=73.4488608007194\n"
     ]
    },
    {
     "name": "stderr",
     "output_type": "stream",
     "text": [
      "100%|█████████████████████████████████████████████████████████████████████████████| 2010/2010 [00:04<00:00, 448.69it/s]\n",
      "  2%|█▋                                                                             | 44/2010 [00:00<00:04, 432.53it/s]"
     ]
    },
    {
     "name": "stdout",
     "output_type": "stream",
     "text": [
      "episode : 392 reward : 111.32041103865998\n",
      "total test reward=57.66891682938213\n"
     ]
    },
    {
     "name": "stderr",
     "output_type": "stream",
     "text": [
      "100%|█████████████████████████████████████████████████████████████████████████████| 2010/2010 [00:04<00:00, 452.47it/s]\n",
      "  4%|███▎                                                                           | 83/2010 [00:00<00:04, 404.39it/s]"
     ]
    },
    {
     "name": "stdout",
     "output_type": "stream",
     "text": [
      "episode : 393 reward : 74.88293017890989\n",
      "total test reward=98.1767373614184\n"
     ]
    },
    {
     "name": "stderr",
     "output_type": "stream",
     "text": [
      "100%|█████████████████████████████████████████████████████████████████████████████| 2010/2010 [00:04<00:00, 438.91it/s]\n",
      "  2%|█▌                                                                             | 41/2010 [00:00<00:04, 402.16it/s]"
     ]
    },
    {
     "name": "stdout",
     "output_type": "stream",
     "text": [
      "episode : 394 reward : 18.339234458622663\n",
      "total test reward=32.487897285045406\n"
     ]
    },
    {
     "name": "stderr",
     "output_type": "stream",
     "text": [
      "100%|█████████████████████████████████████████████████████████████████████████████| 2010/2010 [00:04<00:00, 444.52it/s]\n",
      "  2%|█▉                                                                             | 48/2010 [00:00<00:04, 476.35it/s]"
     ]
    },
    {
     "name": "stdout",
     "output_type": "stream",
     "text": [
      "episode : 395 reward : 142.90996958035498\n",
      "total test reward=75.1099376818014\n"
     ]
    },
    {
     "name": "stderr",
     "output_type": "stream",
     "text": [
      "100%|█████████████████████████████████████████████████████████████████████████████| 2010/2010 [00:04<00:00, 448.76it/s]\n",
      "  2%|█▊                                                                             | 47/2010 [00:00<00:04, 462.01it/s]"
     ]
    },
    {
     "name": "stdout",
     "output_type": "stream",
     "text": [
      "episode : 396 reward : 77.70180574519567\n",
      "total test reward=56.71111403304569\n"
     ]
    },
    {
     "name": "stderr",
     "output_type": "stream",
     "text": [
      "100%|█████████████████████████████████████████████████████████████████████████████| 2010/2010 [00:04<00:00, 453.77it/s]\n",
      "  2%|█▊                                                                             | 47/2010 [00:00<00:04, 466.45it/s]"
     ]
    },
    {
     "name": "stdout",
     "output_type": "stream",
     "text": [
      "episode : 397 reward : 35.05825452987879\n",
      "total test reward=161.595318759199\n"
     ]
    },
    {
     "name": "stderr",
     "output_type": "stream",
     "text": [
      "100%|█████████████████████████████████████████████████████████████████████████████| 2010/2010 [00:04<00:00, 447.03it/s]\n",
      "  2%|█▋                                                                             | 44/2010 [00:00<00:04, 403.25it/s]"
     ]
    },
    {
     "name": "stdout",
     "output_type": "stream",
     "text": [
      "episode : 398 reward : 133.20076036523065\n",
      "total test reward=92.2459550772086\n"
     ]
    },
    {
     "name": "stderr",
     "output_type": "stream",
     "text": [
      "100%|█████████████████████████████████████████████████████████████████████████████| 2010/2010 [00:04<00:00, 423.27it/s]\n",
      "  3%|██                                                                             | 51/2010 [00:00<00:03, 506.29it/s]"
     ]
    },
    {
     "name": "stdout",
     "output_type": "stream",
     "text": [
      "episode : 399 reward : 51.70977696863682\n",
      "total test reward=92.88713359169702\n"
     ]
    },
    {
     "name": "stderr",
     "output_type": "stream",
     "text": [
      "100%|█████████████████████████████████████████████████████████████████████████████| 2010/2010 [00:04<00:00, 461.47it/s]\n",
      "  5%|███▊                                                                           | 96/2010 [00:00<00:04, 454.95it/s]"
     ]
    },
    {
     "name": "stdout",
     "output_type": "stream",
     "text": [
      "episode : 400 reward : 10.435815099158866\n",
      "total test reward=179.631723247517\n"
     ]
    },
    {
     "name": "stderr",
     "output_type": "stream",
     "text": [
      "100%|█████████████████████████████████████████████████████████████████████████████| 2010/2010 [00:04<00:00, 469.24it/s]\n",
      "  4%|███▍                                                                           | 87/2010 [00:00<00:04, 397.63it/s]"
     ]
    },
    {
     "name": "stdout",
     "output_type": "stream",
     "text": [
      "episode : 401 reward : 91.08224915231392\n",
      "total test reward=119.44899326595927\n"
     ]
    },
    {
     "name": "stderr",
     "output_type": "stream",
     "text": [
      "100%|█████████████████████████████████████████████████████████████████████████████| 2010/2010 [00:04<00:00, 473.56it/s]\n",
      "  2%|█▉                                                                             | 50/2010 [00:00<00:03, 491.65it/s]"
     ]
    },
    {
     "name": "stdout",
     "output_type": "stream",
     "text": [
      "episode : 402 reward : 59.66322156140701\n",
      "total test reward=72.39333943744742\n"
     ]
    },
    {
     "name": "stderr",
     "output_type": "stream",
     "text": [
      "100%|█████████████████████████████████████████████████████████████████████████████| 2010/2010 [00:04<00:00, 490.26it/s]\n",
      "  2%|█▊                                                                             | 46/2010 [00:00<00:04, 452.20it/s]"
     ]
    },
    {
     "name": "stdout",
     "output_type": "stream",
     "text": [
      "episode : 403 reward : 55.92574209893939\n",
      "total test reward=83.60885890418147\n"
     ]
    },
    {
     "name": "stderr",
     "output_type": "stream",
     "text": [
      "100%|█████████████████████████████████████████████████████████████████████████████| 2010/2010 [00:04<00:00, 494.25it/s]\n",
      "  3%|██                                                                             | 51/2010 [00:00<00:04, 457.09it/s]"
     ]
    },
    {
     "name": "stdout",
     "output_type": "stream",
     "text": [
      "episode : 404 reward : 41.17457827762683\n",
      "total test reward=76.87170461206283\n"
     ]
    },
    {
     "name": "stderr",
     "output_type": "stream",
     "text": [
      "100%|█████████████████████████████████████████████████████████████████████████████| 2010/2010 [00:04<00:00, 471.75it/s]\n",
      "  2%|█▉                                                                             | 49/2010 [00:00<00:04, 447.44it/s]"
     ]
    },
    {
     "name": "stdout",
     "output_type": "stream",
     "text": [
      "episode : 405 reward : 205.35643638154986\n",
      "total test reward=51.34302476395012\n"
     ]
    },
    {
     "name": "stderr",
     "output_type": "stream",
     "text": [
      "100%|█████████████████████████████████████████████████████████████████████████████| 2010/2010 [00:04<00:00, 491.55it/s]\n",
      "  3%|██                                                                             | 53/2010 [00:00<00:04, 459.89it/s]"
     ]
    },
    {
     "name": "stdout",
     "output_type": "stream",
     "text": [
      "episode : 406 reward : 9.469565158176533\n",
      "total test reward=60.86316957036953\n"
     ]
    },
    {
     "name": "stderr",
     "output_type": "stream",
     "text": [
      "100%|█████████████████████████████████████████████████████████████████████████████| 2010/2010 [00:04<00:00, 501.28it/s]\n",
      "  3%|██                                                                             | 54/2010 [00:00<00:03, 518.43it/s]"
     ]
    },
    {
     "name": "stdout",
     "output_type": "stream",
     "text": [
      "episode : 407 reward : 157.2076682659912\n",
      "total test reward=110.05283413918369\n"
     ]
    },
    {
     "name": "stderr",
     "output_type": "stream",
     "text": [
      "100%|█████████████████████████████████████████████████████████████████████████████| 2010/2010 [00:04<00:00, 494.43it/s]\n",
      "  2%|█▉                                                                             | 49/2010 [00:00<00:04, 481.66it/s]"
     ]
    },
    {
     "name": "stdout",
     "output_type": "stream",
     "text": [
      "episode : 408 reward : 37.43899010297655\n",
      "total test reward=121.14874298516399\n"
     ]
    },
    {
     "name": "stderr",
     "output_type": "stream",
     "text": [
      "100%|█████████████████████████████████████████████████████████████████████████████| 2010/2010 [00:04<00:00, 498.69it/s]\n",
      "  3%|██▏                                                                            | 56/2010 [00:00<00:04, 485.76it/s]"
     ]
    },
    {
     "name": "stdout",
     "output_type": "stream",
     "text": [
      "episode : 409 reward : 129.79895989441158\n",
      "total test reward=106.82105629944877\n"
     ]
    },
    {
     "name": "stderr",
     "output_type": "stream",
     "text": [
      "100%|█████████████████████████████████████████████████████████████████████████████| 2010/2010 [00:03<00:00, 510.93it/s]\n",
      "  2%|█▊                                                                             | 47/2010 [00:00<00:04, 424.01it/s]"
     ]
    },
    {
     "name": "stdout",
     "output_type": "stream",
     "text": [
      "episode : 410 reward : 204.67815044153573\n",
      "total test reward=98.38915144866712\n"
     ]
    },
    {
     "name": "stderr",
     "output_type": "stream",
     "text": [
      "100%|█████████████████████████████████████████████████████████████████████████████| 2010/2010 [00:04<00:00, 490.65it/s]\n",
      "  5%|███▉                                                                          | 103/2010 [00:00<00:03, 481.64it/s]"
     ]
    },
    {
     "name": "stdout",
     "output_type": "stream",
     "text": [
      "episode : 411 reward : 110.96923745518482\n",
      "total test reward=85.95665181241382\n"
     ]
    },
    {
     "name": "stderr",
     "output_type": "stream",
     "text": [
      "100%|█████████████████████████████████████████████████████████████████████████████| 2010/2010 [00:03<00:00, 506.15it/s]\n",
      "  2%|█▍                                                                             | 38/2010 [00:00<00:05, 379.30it/s]"
     ]
    },
    {
     "name": "stdout",
     "output_type": "stream",
     "text": [
      "episode : 412 reward : 210.6515353052171\n",
      "total test reward=93.03843000174318\n"
     ]
    },
    {
     "name": "stderr",
     "output_type": "stream",
     "text": [
      "100%|█████████████████████████████████████████████████████████████████████████████| 2010/2010 [00:04<00:00, 497.13it/s]\n",
      "  2%|█▉                                                                             | 50/2010 [00:00<00:03, 491.51it/s]"
     ]
    },
    {
     "name": "stdout",
     "output_type": "stream",
     "text": [
      "episode : 413 reward : 35.90105782234843\n",
      "total test reward=85.06007724582848\n"
     ]
    },
    {
     "name": "stderr",
     "output_type": "stream",
     "text": [
      "100%|█████████████████████████████████████████████████████████████████████████████| 2010/2010 [00:04<00:00, 466.39it/s]\n",
      "  2%|█▊                                                                             | 45/2010 [00:00<00:04, 446.87it/s]"
     ]
    },
    {
     "name": "stdout",
     "output_type": "stream",
     "text": [
      "episode : 414 reward : 135.31151523806648\n",
      "total test reward=78.82637827804093\n"
     ]
    },
    {
     "name": "stderr",
     "output_type": "stream",
     "text": [
      "100%|█████████████████████████████████████████████████████████████████████████████| 2010/2010 [00:04<00:00, 494.63it/s]\n",
      "  2%|█▊                                                                             | 46/2010 [00:00<00:04, 450.60it/s]"
     ]
    },
    {
     "name": "stdout",
     "output_type": "stream",
     "text": [
      "episode : 415 reward : 176.87418978293542\n",
      "total test reward=69.75507580154365\n"
     ]
    },
    {
     "name": "stderr",
     "output_type": "stream",
     "text": [
      "100%|█████████████████████████████████████████████████████████████████████████████| 2010/2010 [00:04<00:00, 491.82it/s]\n",
      "  2%|█▉                                                                             | 49/2010 [00:00<00:04, 477.60it/s]"
     ]
    },
    {
     "name": "stdout",
     "output_type": "stream",
     "text": [
      "episode : 416 reward : 194.7212396295903\n",
      "total test reward=26.112698941750995\n"
     ]
    },
    {
     "name": "stderr",
     "output_type": "stream",
     "text": [
      "100%|█████████████████████████████████████████████████████████████████████████████| 2010/2010 [00:04<00:00, 488.85it/s]\n",
      "  5%|███▊                                                                           | 97/2010 [00:00<00:04, 467.32it/s]"
     ]
    },
    {
     "name": "stdout",
     "output_type": "stream",
     "text": [
      "episode : 417 reward : 169.78312799292905\n",
      "total test reward=108.43885416875187\n"
     ]
    },
    {
     "name": "stderr",
     "output_type": "stream",
     "text": [
      "100%|█████████████████████████████████████████████████████████████████████████████| 2010/2010 [00:04<00:00, 493.64it/s]\n",
      "  3%|██                                                                             | 52/2010 [00:00<00:03, 505.61it/s]"
     ]
    },
    {
     "name": "stdout",
     "output_type": "stream",
     "text": [
      "episode : 418 reward : 77.7904600768055\n",
      "total test reward=155.70870506590038\n"
     ]
    },
    {
     "name": "stderr",
     "output_type": "stream",
     "text": [
      "100%|█████████████████████████████████████████████████████████████████████████████| 2010/2010 [00:04<00:00, 501.32it/s]\n",
      "  3%|██                                                                             | 54/2010 [00:00<00:03, 507.00it/s]"
     ]
    },
    {
     "name": "stdout",
     "output_type": "stream",
     "text": [
      "episode : 419 reward : 43.01672431419399\n",
      "total test reward=67.05132125839467\n"
     ]
    },
    {
     "name": "stderr",
     "output_type": "stream",
     "text": [
      "100%|█████████████████████████████████████████████████████████████████████████████| 2010/2010 [00:04<00:00, 478.23it/s]\n",
      "  2%|█▊                                                                             | 45/2010 [00:00<00:04, 434.48it/s]"
     ]
    },
    {
     "name": "stdout",
     "output_type": "stream",
     "text": [
      "episode : 420 reward : 1.8445303133150532\n",
      "total test reward=138.5531675060235\n"
     ]
    },
    {
     "name": "stderr",
     "output_type": "stream",
     "text": [
      "100%|█████████████████████████████████████████████████████████████████████████████| 2010/2010 [00:04<00:00, 479.69it/s]\n",
      "  3%|██                                                                             | 53/2010 [00:00<00:03, 500.90it/s]"
     ]
    },
    {
     "name": "stdout",
     "output_type": "stream",
     "text": [
      "episode : 421 reward : 91.63741103370808\n",
      "total test reward=187.7954074630493\n"
     ]
    },
    {
     "name": "stderr",
     "output_type": "stream",
     "text": [
      "100%|█████████████████████████████████████████████████████████████████████████████| 2010/2010 [00:04<00:00, 473.23it/s]\n",
      "  5%|███▊                                                                           | 98/2010 [00:00<00:04, 455.79it/s]"
     ]
    },
    {
     "name": "stdout",
     "output_type": "stream",
     "text": [
      "episode : 422 reward : 16.986757738426984\n",
      "total test reward=133.92370969418312\n"
     ]
    },
    {
     "name": "stderr",
     "output_type": "stream",
     "text": [
      "100%|█████████████████████████████████████████████████████████████████████████████| 2010/2010 [00:04<00:00, 492.19it/s]\n",
      "  2%|█▋                                                                             | 42/2010 [00:00<00:04, 412.91it/s]"
     ]
    },
    {
     "name": "stdout",
     "output_type": "stream",
     "text": [
      "episode : 423 reward : 109.91993152521013\n",
      "total test reward=51.17173017055079\n"
     ]
    },
    {
     "name": "stderr",
     "output_type": "stream",
     "text": [
      "100%|█████████████████████████████████████████████████████████████████████████████| 2010/2010 [00:04<00:00, 482.92it/s]\n",
      "  3%|██                                                                             | 53/2010 [00:00<00:03, 521.04it/s]"
     ]
    },
    {
     "name": "stdout",
     "output_type": "stream",
     "text": [
      "episode : 424 reward : 51.12478077382433\n",
      "total test reward=99.56783796352926\n"
     ]
    },
    {
     "name": "stderr",
     "output_type": "stream",
     "text": [
      "100%|█████████████████████████████████████████████████████████████████████████████| 2010/2010 [00:04<00:00, 487.56it/s]\n",
      "  3%|██                                                                             | 52/2010 [00:00<00:03, 511.33it/s]"
     ]
    },
    {
     "name": "stdout",
     "output_type": "stream",
     "text": [
      "episode : 425 reward : 59.18404440403661\n",
      "total test reward=123.56742612976049\n"
     ]
    },
    {
     "name": "stderr",
     "output_type": "stream",
     "text": [
      "100%|█████████████████████████████████████████████████████████████████████████████| 2010/2010 [00:04<00:00, 485.45it/s]\n",
      "  3%|██▎                                                                            | 59/2010 [00:00<00:03, 525.84it/s]"
     ]
    },
    {
     "name": "stdout",
     "output_type": "stream",
     "text": [
      "episode : 426 reward : 57.69421339074509\n",
      "total test reward=111.06318779256193\n"
     ]
    },
    {
     "name": "stderr",
     "output_type": "stream",
     "text": [
      "100%|█████████████████████████████████████████████████████████████████████████████| 2010/2010 [00:04<00:00, 496.00it/s]\n",
      "  3%|██                                                                             | 51/2010 [00:00<00:04, 449.63it/s]"
     ]
    },
    {
     "name": "stdout",
     "output_type": "stream",
     "text": [
      "episode : 427 reward : 72.53518731668183\n",
      "total test reward=114.653504296147\n"
     ]
    },
    {
     "name": "stderr",
     "output_type": "stream",
     "text": [
      "100%|█████████████████████████████████████████████████████████████████████████████| 2010/2010 [00:04<00:00, 475.03it/s]\n",
      "  4%|███▎                                                                           | 84/2010 [00:00<00:04, 408.31it/s]"
     ]
    },
    {
     "name": "stdout",
     "output_type": "stream",
     "text": [
      "episode : 428 reward : 208.96178463965367\n",
      "total test reward=123.99553423184973\n"
     ]
    },
    {
     "name": "stderr",
     "output_type": "stream",
     "text": [
      "100%|█████████████████████████████████████████████████████████████████████████████| 2010/2010 [00:04<00:00, 469.03it/s]\n",
      "  2%|█▋                                                                             | 44/2010 [00:00<00:04, 396.86it/s]"
     ]
    },
    {
     "name": "stdout",
     "output_type": "stream",
     "text": [
      "episode : 429 reward : 67.33775168948401\n",
      "total test reward=82.9290363350297\n"
     ]
    },
    {
     "name": "stderr",
     "output_type": "stream",
     "text": [
      "100%|█████████████████████████████████████████████████████████████████████████████| 2010/2010 [00:04<00:00, 452.39it/s]\n",
      "  2%|█▉                                                                             | 48/2010 [00:00<00:04, 476.51it/s]"
     ]
    },
    {
     "name": "stdout",
     "output_type": "stream",
     "text": [
      "episode : 430 reward : 79.4244774996641\n",
      "total test reward=56.820250946552825\n"
     ]
    },
    {
     "name": "stderr",
     "output_type": "stream",
     "text": [
      "100%|█████████████████████████████████████████████████████████████████████████████| 2010/2010 [00:04<00:00, 467.01it/s]\n",
      "  2%|█▉                                                                             | 50/2010 [00:00<00:04, 443.54it/s]"
     ]
    },
    {
     "name": "stdout",
     "output_type": "stream",
     "text": [
      "episode : 431 reward : 32.713954594861086\n",
      "total test reward=37.697489753447634\n"
     ]
    },
    {
     "name": "stderr",
     "output_type": "stream",
     "text": [
      "100%|█████████████████████████████████████████████████████████████████████████████| 2010/2010 [00:04<00:00, 450.99it/s]\n",
      "  5%|███▋                                                                           | 94/2010 [00:00<00:04, 461.12it/s]"
     ]
    },
    {
     "name": "stdout",
     "output_type": "stream",
     "text": [
      "episode : 432 reward : 136.2969116994938\n",
      "total test reward=72.23529081141601\n"
     ]
    },
    {
     "name": "stderr",
     "output_type": "stream",
     "text": [
      "100%|█████████████████████████████████████████████████████████████████████████████| 2010/2010 [00:04<00:00, 470.25it/s]\n",
      "  2%|█▊                                                                             | 47/2010 [00:00<00:04, 462.02it/s]"
     ]
    },
    {
     "name": "stdout",
     "output_type": "stream",
     "text": [
      "episode : 433 reward : 154.46557090449\n",
      "total test reward=125.8841583035332\n"
     ]
    },
    {
     "name": "stderr",
     "output_type": "stream",
     "text": [
      "100%|█████████████████████████████████████████████████████████████████████████████| 2010/2010 [00:04<00:00, 464.06it/s]\n",
      "  2%|█▋                                                                             | 43/2010 [00:00<00:05, 391.75it/s]"
     ]
    },
    {
     "name": "stdout",
     "output_type": "stream",
     "text": [
      "episode : 434 reward : 94.40972775296129\n",
      "total test reward=107.1803421863995\n"
     ]
    },
    {
     "name": "stderr",
     "output_type": "stream",
     "text": [
      "100%|█████████████████████████████████████████████████████████████████████████████| 2010/2010 [00:04<00:00, 456.82it/s]\n",
      "  2%|█▉                                                                             | 48/2010 [00:00<00:04, 471.85it/s]"
     ]
    },
    {
     "name": "stdout",
     "output_type": "stream",
     "text": [
      "episode : 435 reward : 120.7844524354362\n",
      "total test reward=67.08521166850664\n"
     ]
    },
    {
     "name": "stderr",
     "output_type": "stream",
     "text": [
      "100%|█████████████████████████████████████████████████████████████████████████████| 2010/2010 [00:04<00:00, 463.52it/s]\n",
      "  2%|█▋                                                                             | 44/2010 [00:00<00:04, 438.69it/s]"
     ]
    },
    {
     "name": "stdout",
     "output_type": "stream",
     "text": [
      "episode : 436 reward : 42.456769803504024\n",
      "total test reward=119.70455773569105\n"
     ]
    },
    {
     "name": "stderr",
     "output_type": "stream",
     "text": [
      "100%|█████████████████████████████████████████████████████████████████████████████| 2010/2010 [00:04<00:00, 469.81it/s]\n",
      "  2%|█▊                                                                             | 47/2010 [00:00<00:04, 462.01it/s]"
     ]
    },
    {
     "name": "stdout",
     "output_type": "stream",
     "text": [
      "episode : 437 reward : 82.07714479901934\n",
      "total test reward=140.96684974395302\n"
     ]
    },
    {
     "name": "stderr",
     "output_type": "stream",
     "text": [
      "100%|█████████████████████████████████████████████████████████████████████████████| 2010/2010 [00:04<00:00, 448.42it/s]\n",
      "  3%|██                                                                             | 52/2010 [00:00<00:04, 475.35it/s]"
     ]
    },
    {
     "name": "stdout",
     "output_type": "stream",
     "text": [
      "episode : 438 reward : 21.570121534732166\n",
      "total test reward=182.78789028880072\n"
     ]
    },
    {
     "name": "stderr",
     "output_type": "stream",
     "text": [
      "100%|█████████████████████████████████████████████████████████████████████████████| 2010/2010 [00:04<00:00, 458.48it/s]\n",
      "  2%|█▋                                                                             | 44/2010 [00:00<00:04, 436.67it/s]"
     ]
    },
    {
     "name": "stdout",
     "output_type": "stream",
     "text": [
      "episode : 439 reward : 130.45211905435963\n",
      "total test reward=151.17797132945594\n"
     ]
    },
    {
     "name": "stderr",
     "output_type": "stream",
     "text": [
      "100%|█████████████████████████████████████████████████████████████████████████████| 2010/2010 [00:04<00:00, 453.66it/s]\n",
      "  2%|█▊                                                                             | 47/2010 [00:00<00:04, 462.22it/s]"
     ]
    },
    {
     "name": "stdout",
     "output_type": "stream",
     "text": [
      "episode : 440 reward : 15.70667171463215\n",
      "total test reward=115.17015262790562\n"
     ]
    },
    {
     "name": "stderr",
     "output_type": "stream",
     "text": [
      "100%|█████████████████████████████████████████████████████████████████████████████| 2010/2010 [00:04<00:00, 456.57it/s]\n",
      "  2%|█▉                                                                             | 49/2010 [00:00<00:04, 481.68it/s]"
     ]
    },
    {
     "name": "stdout",
     "output_type": "stream",
     "text": [
      "episode : 441 reward : 53.03869786157798\n",
      "total test reward=199.13947550559786\n"
     ]
    },
    {
     "name": "stderr",
     "output_type": "stream",
     "text": [
      "100%|█████████████████████████████████████████████████████████████████████████████| 2010/2010 [00:04<00:00, 456.94it/s]\n",
      "  2%|█▋                                                                             | 43/2010 [00:00<00:04, 426.26it/s]"
     ]
    },
    {
     "name": "stdout",
     "output_type": "stream",
     "text": [
      "episode : 442 reward : 116.11120729348715\n",
      "total test reward=118.71943842716621\n"
     ]
    },
    {
     "name": "stderr",
     "output_type": "stream",
     "text": [
      "100%|█████████████████████████████████████████████████████████████████████████████| 2010/2010 [00:04<00:00, 445.80it/s]\n",
      "  2%|█▋                                                                             | 43/2010 [00:00<00:04, 426.88it/s]"
     ]
    },
    {
     "name": "stdout",
     "output_type": "stream",
     "text": [
      "episode : 443 reward : 0.899760492237291\n",
      "total test reward=189.39293716926994\n"
     ]
    },
    {
     "name": "stderr",
     "output_type": "stream",
     "text": [
      "100%|█████████████████████████████████████████████████████████████████████████████| 2010/2010 [00:04<00:00, 450.23it/s]\n",
      "  2%|█▋                                                                             | 42/2010 [00:00<00:04, 414.17it/s]"
     ]
    },
    {
     "name": "stdout",
     "output_type": "stream",
     "text": [
      "episode : 444 reward : 125.89840238677158\n",
      "total test reward=67.6697960037106\n"
     ]
    },
    {
     "name": "stderr",
     "output_type": "stream",
     "text": [
      "100%|█████████████████████████████████████████████████████████████████████████████| 2010/2010 [00:04<00:00, 455.62it/s]\n",
      "  2%|█▌                                                                             | 40/2010 [00:00<00:04, 396.14it/s]"
     ]
    },
    {
     "name": "stdout",
     "output_type": "stream",
     "text": [
      "episode : 445 reward : 89.7838406027275\n",
      "total test reward=179.0533990264874\n"
     ]
    },
    {
     "name": "stderr",
     "output_type": "stream",
     "text": [
      "100%|█████████████████████████████████████████████████████████████████████████████| 2010/2010 [00:04<00:00, 438.68it/s]\n",
      "  2%|█▍                                                                             | 38/2010 [00:00<00:05, 377.74it/s]"
     ]
    },
    {
     "name": "stdout",
     "output_type": "stream",
     "text": [
      "episode : 446 reward : 21.87375178459415\n",
      "total test reward=45.09756507073289\n"
     ]
    },
    {
     "name": "stderr",
     "output_type": "stream",
     "text": [
      "100%|█████████████████████████████████████████████████████████████████████████████| 2010/2010 [00:04<00:00, 447.03it/s]\n",
      "  4%|███▏                                                                           | 80/2010 [00:00<00:05, 372.78it/s]"
     ]
    },
    {
     "name": "stdout",
     "output_type": "stream",
     "text": [
      "episode : 447 reward : 116.44774028321615\n",
      "total test reward=145.16998837996735\n"
     ]
    },
    {
     "name": "stderr",
     "output_type": "stream",
     "text": [
      "100%|█████████████████████████████████████████████████████████████████████████████| 2010/2010 [00:04<00:00, 440.49it/s]\n",
      "  3%|██                                                                             | 53/2010 [00:00<00:04, 483.18it/s]"
     ]
    },
    {
     "name": "stdout",
     "output_type": "stream",
     "text": [
      "episode : 448 reward : 115.28096369795112\n",
      "total test reward=172.5868338770703\n"
     ]
    },
    {
     "name": "stderr",
     "output_type": "stream",
     "text": [
      "100%|█████████████████████████████████████████████████████████████████████████████| 2010/2010 [00:04<00:00, 446.89it/s]\n",
      "  2%|█▋                                                                             | 42/2010 [00:00<00:04, 404.83it/s]"
     ]
    },
    {
     "name": "stdout",
     "output_type": "stream",
     "text": [
      "episode : 449 reward : 159.6303708110954\n",
      "total test reward=77.78178907935762\n"
     ]
    },
    {
     "name": "stderr",
     "output_type": "stream",
     "text": [
      "100%|█████████████████████████████████████████████████████████████████████████████| 2010/2010 [00:04<00:00, 456.18it/s]\n",
      "  2%|█▊                                                                             | 47/2010 [00:00<00:04, 435.64it/s]"
     ]
    },
    {
     "name": "stdout",
     "output_type": "stream",
     "text": [
      "episode : 450 reward : 49.28509642135649\n",
      "total test reward=194.26959272089758\n"
     ]
    },
    {
     "name": "stderr",
     "output_type": "stream",
     "text": [
      "100%|█████████████████████████████████████████████████████████████████████████████| 2010/2010 [00:04<00:00, 453.81it/s]\n",
      "  2%|█▋                                                                             | 42/2010 [00:00<00:04, 412.92it/s]"
     ]
    },
    {
     "name": "stdout",
     "output_type": "stream",
     "text": [
      "episode : 451 reward : 92.76019983115674\n",
      "total test reward=181.5333937993469\n"
     ]
    },
    {
     "name": "stderr",
     "output_type": "stream",
     "text": [
      "100%|█████████████████████████████████████████████████████████████████████████████| 2010/2010 [00:04<00:00, 447.71it/s]\n",
      "  2%|█▊                                                                             | 45/2010 [00:00<00:04, 442.21it/s]"
     ]
    },
    {
     "name": "stdout",
     "output_type": "stream",
     "text": [
      "episode : 452 reward : 31.306186792001057\n",
      "total test reward=319.20598441848125\n"
     ]
    },
    {
     "name": "stderr",
     "output_type": "stream",
     "text": [
      "100%|█████████████████████████████████████████████████████████████████████████████| 2010/2010 [00:04<00:00, 455.49it/s]\n",
      "  2%|█▊                                                                             | 47/2010 [00:00<00:04, 461.83it/s]"
     ]
    },
    {
     "name": "stdout",
     "output_type": "stream",
     "text": [
      "episode : 453 reward : 12.372842198012423\n",
      "total test reward=268.8244706274231\n"
     ]
    },
    {
     "name": "stderr",
     "output_type": "stream",
     "text": [
      "100%|█████████████████████████████████████████████████████████████████████████████| 2010/2010 [00:04<00:00, 455.89it/s]\n",
      "  2%|█▋                                                                             | 44/2010 [00:00<00:04, 436.96it/s]"
     ]
    },
    {
     "name": "stdout",
     "output_type": "stream",
     "text": [
      "episode : 454 reward : 8.595763975446735\n",
      "total test reward=241.89638428559124\n"
     ]
    },
    {
     "name": "stderr",
     "output_type": "stream",
     "text": [
      "100%|█████████████████████████████████████████████████████████████████████████████| 2010/2010 [00:04<00:00, 451.79it/s]\n",
      "  2%|█▋                                                                             | 43/2010 [00:00<00:04, 426.88it/s]"
     ]
    },
    {
     "name": "stdout",
     "output_type": "stream",
     "text": [
      "episode : 455 reward : 41.21322131848905\n",
      "total test reward=206.88524700973193\n"
     ]
    },
    {
     "name": "stderr",
     "output_type": "stream",
     "text": [
      "100%|█████████████████████████████████████████████████████████████████████████████| 2010/2010 [00:04<00:00, 430.09it/s]\n",
      "  2%|█▋                                                                             | 43/2010 [00:00<00:04, 426.88it/s]"
     ]
    },
    {
     "name": "stdout",
     "output_type": "stream",
     "text": [
      "episode : 456 reward : 22.226271058799693\n",
      "total test reward=168.97326274476214\n"
     ]
    },
    {
     "name": "stderr",
     "output_type": "stream",
     "text": [
      "100%|█████████████████████████████████████████████████████████████████████████████| 2010/2010 [00:04<00:00, 444.29it/s]\n",
      "  2%|█▊                                                                             | 45/2010 [00:00<00:04, 442.35it/s]"
     ]
    },
    {
     "name": "stdout",
     "output_type": "stream",
     "text": [
      "episode : 457 reward : 225.84485037496077\n",
      "total test reward=83.25717799678941\n"
     ]
    },
    {
     "name": "stderr",
     "output_type": "stream",
     "text": [
      "100%|█████████████████████████████████████████████████████████████████████████████| 2010/2010 [00:04<00:00, 429.11it/s]\n",
      "  2%|█▉                                                                             | 48/2010 [00:00<00:04, 476.60it/s]"
     ]
    },
    {
     "name": "stdout",
     "output_type": "stream",
     "text": [
      "episode : 458 reward : 172.72542005509334\n",
      "total test reward=83.86707392653281\n"
     ]
    },
    {
     "name": "stderr",
     "output_type": "stream",
     "text": [
      "100%|█████████████████████████████████████████████████████████████████████████████| 2010/2010 [00:04<00:00, 440.35it/s]\n",
      "  2%|█▌                                                                             | 40/2010 [00:00<00:04, 395.34it/s]"
     ]
    },
    {
     "name": "stdout",
     "output_type": "stream",
     "text": [
      "episode : 459 reward : 213.98767875711158\n",
      "total test reward=192.2039206812792\n"
     ]
    },
    {
     "name": "stderr",
     "output_type": "stream",
     "text": [
      "100%|█████████████████████████████████████████████████████████████████████████████| 2010/2010 [00:04<00:00, 438.58it/s]\n",
      "  2%|█▋                                                                             | 43/2010 [00:00<00:04, 426.88it/s]"
     ]
    },
    {
     "name": "stdout",
     "output_type": "stream",
     "text": [
      "episode : 460 reward : 86.6167306376747\n",
      "total test reward=79.10796093517504\n"
     ]
    },
    {
     "name": "stderr",
     "output_type": "stream",
     "text": [
      "100%|█████████████████████████████████████████████████████████████████████████████| 2010/2010 [00:04<00:00, 438.52it/s]\n",
      "  2%|█▊                                                                             | 46/2010 [00:00<00:04, 416.78it/s]"
     ]
    },
    {
     "name": "stdout",
     "output_type": "stream",
     "text": [
      "episode : 461 reward : 38.92597807673068\n",
      "total test reward=121.74276795982283\n"
     ]
    },
    {
     "name": "stderr",
     "output_type": "stream",
     "text": [
      "100%|█████████████████████████████████████████████████████████████████████████████| 2010/2010 [00:04<00:00, 433.32it/s]\n",
      "  2%|█▊                                                                             | 45/2010 [00:00<00:04, 442.36it/s]"
     ]
    },
    {
     "name": "stdout",
     "output_type": "stream",
     "text": [
      "episode : 462 reward : 128.54892011546266\n",
      "total test reward=88.6492471335828\n"
     ]
    },
    {
     "name": "stderr",
     "output_type": "stream",
     "text": [
      "100%|█████████████████████████████████████████████████████████████████████████████| 2010/2010 [00:04<00:00, 435.74it/s]\n",
      "  2%|█▋                                                                             | 43/2010 [00:00<00:04, 418.73it/s]"
     ]
    },
    {
     "name": "stdout",
     "output_type": "stream",
     "text": [
      "episode : 463 reward : 94.04573308294002\n",
      "total test reward=66.82500176248462\n"
     ]
    },
    {
     "name": "stderr",
     "output_type": "stream",
     "text": [
      "100%|█████████████████████████████████████████████████████████████████████████████| 2010/2010 [00:04<00:00, 441.52it/s]\n",
      "  2%|█▋                                                                             | 43/2010 [00:00<00:04, 399.83it/s]"
     ]
    },
    {
     "name": "stdout",
     "output_type": "stream",
     "text": [
      "episode : 464 reward : 35.51616727314213\n",
      "total test reward=60.786908123744354\n"
     ]
    },
    {
     "name": "stderr",
     "output_type": "stream",
     "text": [
      "100%|█████████████████████████████████████████████████████████████████████████████| 2010/2010 [00:04<00:00, 442.28it/s]\n",
      "  2%|█▊                                                                             | 45/2010 [00:00<00:04, 446.73it/s]"
     ]
    },
    {
     "name": "stdout",
     "output_type": "stream",
     "text": [
      "episode : 465 reward : 74.5433732692644\n",
      "total test reward=66.94610645436468\n"
     ]
    },
    {
     "name": "stderr",
     "output_type": "stream",
     "text": [
      "100%|█████████████████████████████████████████████████████████████████████████████| 2010/2010 [00:04<00:00, 429.24it/s]\n",
      "  2%|█▋                                                                             | 44/2010 [00:00<00:04, 431.98it/s]"
     ]
    },
    {
     "name": "stdout",
     "output_type": "stream",
     "text": [
      "episode : 466 reward : 39.792424071470144\n",
      "total test reward=69.68072912284211\n"
     ]
    },
    {
     "name": "stderr",
     "output_type": "stream",
     "text": [
      "100%|█████████████████████████████████████████████████████████████████████████████| 2010/2010 [00:04<00:00, 437.02it/s]\n",
      "  2%|█▊                                                                             | 45/2010 [00:00<00:04, 442.21it/s]"
     ]
    },
    {
     "name": "stdout",
     "output_type": "stream",
     "text": [
      "episode : 467 reward : 120.64680118572265\n",
      "total test reward=31.78297668647506\n"
     ]
    },
    {
     "name": "stderr",
     "output_type": "stream",
     "text": [
      "100%|█████████████████████████████████████████████████████████████████████████████| 2010/2010 [00:04<00:00, 435.93it/s]\n",
      "  2%|█▋                                                                             | 44/2010 [00:00<00:04, 437.59it/s]"
     ]
    },
    {
     "name": "stdout",
     "output_type": "stream",
     "text": [
      "episode : 468 reward : 147.44797564090263\n",
      "total test reward=68.67363781211202\n"
     ]
    },
    {
     "name": "stderr",
     "output_type": "stream",
     "text": [
      "100%|█████████████████████████████████████████████████████████████████████████████| 2010/2010 [00:04<00:00, 442.63it/s]\n",
      "  2%|█▋                                                                             | 43/2010 [00:00<00:04, 422.70it/s]"
     ]
    },
    {
     "name": "stdout",
     "output_type": "stream",
     "text": [
      "episode : 469 reward : 92.8118756407969\n",
      "total test reward=99.5202112710208\n"
     ]
    },
    {
     "name": "stderr",
     "output_type": "stream",
     "text": [
      "100%|█████████████████████████████████████████████████████████████████████████████| 2010/2010 [00:04<00:00, 448.11it/s]\n",
      "  4%|███▎                                                                           | 84/2010 [00:00<00:04, 408.91it/s]"
     ]
    },
    {
     "name": "stdout",
     "output_type": "stream",
     "text": [
      "episode : 470 reward : -12.535505808238883\n",
      "total test reward=69.41567122183311\n"
     ]
    },
    {
     "name": "stderr",
     "output_type": "stream",
     "text": [
      "100%|█████████████████████████████████████████████████████████████████████████████| 2010/2010 [00:04<00:00, 454.83it/s]\n",
      "  2%|█▍                                                                             | 37/2010 [00:00<00:05, 355.78it/s]"
     ]
    },
    {
     "name": "stdout",
     "output_type": "stream",
     "text": [
      "episode : 471 reward : 298.5596056192778\n",
      "total test reward=33.14658613818366\n"
     ]
    },
    {
     "name": "stderr",
     "output_type": "stream",
     "text": [
      "100%|█████████████████████████████████████████████████████████████████████████████| 2010/2010 [00:04<00:00, 455.00it/s]\n",
      "  2%|█▋                                                                             | 44/2010 [00:00<00:04, 436.85it/s]"
     ]
    },
    {
     "name": "stdout",
     "output_type": "stream",
     "text": [
      "episode : 472 reward : 45.958547218656314\n",
      "total test reward=22.20132935196343\n"
     ]
    },
    {
     "name": "stderr",
     "output_type": "stream",
     "text": [
      "100%|█████████████████████████████████████████████████████████████████████████████| 2010/2010 [00:04<00:00, 453.62it/s]\n",
      "  5%|███▌                                                                           | 92/2010 [00:00<00:04, 443.79it/s]"
     ]
    },
    {
     "name": "stdout",
     "output_type": "stream",
     "text": [
      "episode : 473 reward : 83.04314859566881\n",
      "total test reward=95.09652374679477\n"
     ]
    },
    {
     "name": "stderr",
     "output_type": "stream",
     "text": [
      "100%|█████████████████████████████████████████████████████████████████████████████| 2010/2010 [00:04<00:00, 437.52it/s]\n",
      "  2%|█▊                                                                             | 47/2010 [00:00<00:04, 437.10it/s]"
     ]
    },
    {
     "name": "stdout",
     "output_type": "stream",
     "text": [
      "episode : 474 reward : 57.089844842783286\n",
      "total test reward=77.40497467861694\n"
     ]
    },
    {
     "name": "stderr",
     "output_type": "stream",
     "text": [
      "100%|█████████████████████████████████████████████████████████████████████████████| 2010/2010 [00:04<00:00, 461.10it/s]\n",
      "  2%|█▊                                                                             | 45/2010 [00:00<00:04, 431.09it/s]"
     ]
    },
    {
     "name": "stdout",
     "output_type": "stream",
     "text": [
      "episode : 475 reward : 79.36076320347458\n",
      "total test reward=100.78743649586845\n"
     ]
    },
    {
     "name": "stderr",
     "output_type": "stream",
     "text": [
      "100%|█████████████████████████████████████████████████████████████████████████████| 2010/2010 [00:04<00:00, 449.62it/s]\n",
      "  2%|█▋                                                                             | 44/2010 [00:00<00:04, 436.82it/s]"
     ]
    },
    {
     "name": "stdout",
     "output_type": "stream",
     "text": [
      "episode : 476 reward : 73.11891690438318\n",
      "total test reward=81.70872567721317\n"
     ]
    },
    {
     "name": "stderr",
     "output_type": "stream",
     "text": [
      "100%|█████████████████████████████████████████████████████████████████████████████| 2010/2010 [00:04<00:00, 453.02it/s]\n",
      "  2%|█▉                                                                             | 49/2010 [00:00<00:04, 431.90it/s]"
     ]
    },
    {
     "name": "stdout",
     "output_type": "stream",
     "text": [
      "episode : 477 reward : 155.598459849385\n",
      "total test reward=141.9807031525978\n"
     ]
    },
    {
     "name": "stderr",
     "output_type": "stream",
     "text": [
      "100%|█████████████████████████████████████████████████████████████████████████████| 2010/2010 [00:04<00:00, 442.87it/s]\n",
      "  3%|██                                                                             | 52/2010 [00:00<00:04, 474.98it/s]"
     ]
    },
    {
     "name": "stdout",
     "output_type": "stream",
     "text": [
      "episode : 478 reward : 219.78173622735494\n",
      "total test reward=85.59011172195946\n"
     ]
    },
    {
     "name": "stderr",
     "output_type": "stream",
     "text": [
      "100%|█████████████████████████████████████████████████████████████████████████████| 2010/2010 [00:04<00:00, 449.22it/s]\n",
      "  2%|█▊                                                                             | 47/2010 [00:00<00:04, 466.65it/s]"
     ]
    },
    {
     "name": "stdout",
     "output_type": "stream",
     "text": [
      "episode : 479 reward : 291.511761418239\n",
      "total test reward=55.320864081783895\n"
     ]
    },
    {
     "name": "stderr",
     "output_type": "stream",
     "text": [
      "100%|█████████████████████████████████████████████████████████████████████████████| 2010/2010 [00:04<00:00, 455.42it/s]\n",
      "  2%|█▊                                                                             | 45/2010 [00:00<00:04, 442.36it/s]"
     ]
    },
    {
     "name": "stdout",
     "output_type": "stream",
     "text": [
      "episode : 480 reward : 294.8219575423292\n",
      "total test reward=104.20205342558431\n"
     ]
    },
    {
     "name": "stderr",
     "output_type": "stream",
     "text": [
      "100%|█████████████████████████████████████████████████████████████████████████████| 2010/2010 [00:04<00:00, 455.36it/s]\n",
      "  2%|█▊                                                                             | 45/2010 [00:00<00:04, 437.93it/s]"
     ]
    },
    {
     "name": "stdout",
     "output_type": "stream",
     "text": [
      "episode : 481 reward : 88.69802070832344\n",
      "total test reward=75.8643739060298\n"
     ]
    },
    {
     "name": "stderr",
     "output_type": "stream",
     "text": [
      "100%|█████████████████████████████████████████████████████████████████████████████| 2010/2010 [00:04<00:00, 446.82it/s]\n",
      "  2%|█▊                                                                             | 45/2010 [00:00<00:04, 447.43it/s]"
     ]
    },
    {
     "name": "stdout",
     "output_type": "stream",
     "text": [
      "episode : 482 reward : 130.09096900973557\n",
      "total test reward=82.59856129417615\n"
     ]
    },
    {
     "name": "stderr",
     "output_type": "stream",
     "text": [
      "100%|█████████████████████████████████████████████████████████████████████████████| 2010/2010 [00:04<00:00, 456.18it/s]\n",
      "  2%|█▊                                                                             | 46/2010 [00:00<00:04, 433.73it/s]"
     ]
    },
    {
     "name": "stdout",
     "output_type": "stream",
     "text": [
      "episode : 483 reward : 164.7564139583567\n",
      "total test reward=129.58936953815333\n"
     ]
    },
    {
     "name": "stderr",
     "output_type": "stream",
     "text": [
      "100%|█████████████████████████████████████████████████████████████████████████████| 2010/2010 [00:04<00:00, 452.01it/s]\n",
      "  2%|█▉                                                                             | 48/2010 [00:00<00:04, 476.50it/s]"
     ]
    },
    {
     "name": "stdout",
     "output_type": "stream",
     "text": [
      "episode : 484 reward : 16.9320403896271\n",
      "total test reward=139.4433324816564\n"
     ]
    },
    {
     "name": "stderr",
     "output_type": "stream",
     "text": [
      "100%|█████████████████████████████████████████████████████████████████████████████| 2010/2010 [00:04<00:00, 456.03it/s]\n",
      "  4%|███▎                                                                           | 83/2010 [00:00<00:04, 395.71it/s]"
     ]
    },
    {
     "name": "stdout",
     "output_type": "stream",
     "text": [
      "episode : 485 reward : 297.226014435584\n",
      "total test reward=175.72044792660512\n"
     ]
    },
    {
     "name": "stderr",
     "output_type": "stream",
     "text": [
      "100%|█████████████████████████████████████████████████████████████████████████████| 2010/2010 [00:04<00:00, 445.15it/s]\n",
      "  2%|█▊                                                                             | 45/2010 [00:00<00:04, 437.93it/s]"
     ]
    },
    {
     "name": "stdout",
     "output_type": "stream",
     "text": [
      "episode : 486 reward : 32.19712622226337\n",
      "total test reward=239.09043321696566\n"
     ]
    },
    {
     "name": "stderr",
     "output_type": "stream",
     "text": [
      "100%|█████████████████████████████████████████████████████████████████████████████| 2010/2010 [00:04<00:00, 450.53it/s]\n",
      "  2%|█▊                                                                             | 46/2010 [00:00<00:04, 456.82it/s]"
     ]
    },
    {
     "name": "stdout",
     "output_type": "stream",
     "text": [
      "episode : 487 reward : 10.106899040385848\n",
      "total test reward=247.1181497084116\n"
     ]
    },
    {
     "name": "stderr",
     "output_type": "stream",
     "text": [
      "100%|█████████████████████████████████████████████████████████████████████████████| 2010/2010 [00:04<00:00, 456.56it/s]\n",
      "  2%|█▋                                                                             | 43/2010 [00:00<00:04, 418.72it/s]"
     ]
    },
    {
     "name": "stdout",
     "output_type": "stream",
     "text": [
      "episode : 488 reward : 17.389336403925434\n",
      "total test reward=219.3957222737099\n"
     ]
    },
    {
     "name": "stderr",
     "output_type": "stream",
     "text": [
      "100%|█████████████████████████████████████████████████████████████████████████████| 2010/2010 [00:04<00:00, 433.32it/s]\n",
      "  2%|█▋                                                                             | 44/2010 [00:00<00:04, 436.55it/s]"
     ]
    },
    {
     "name": "stdout",
     "output_type": "stream",
     "text": [
      "episode : 489 reward : 77.42865033984982\n",
      "total test reward=159.31734983260125\n"
     ]
    },
    {
     "name": "stderr",
     "output_type": "stream",
     "text": [
      "100%|█████████████████████████████████████████████████████████████████████████████| 2010/2010 [00:04<00:00, 428.91it/s]\n",
      "  3%|██                                                                             | 52/2010 [00:00<00:04, 458.36it/s]"
     ]
    },
    {
     "name": "stdout",
     "output_type": "stream",
     "text": [
      "episode : 490 reward : 51.03019678742051\n",
      "total test reward=213.94828706613725\n"
     ]
    },
    {
     "name": "stderr",
     "output_type": "stream",
     "text": [
      "100%|█████████████████████████████████████████████████████████████████████████████| 2010/2010 [00:04<00:00, 442.91it/s]\n",
      "  4%|███▎                                                                           | 84/2010 [00:00<00:04, 413.92it/s]"
     ]
    },
    {
     "name": "stdout",
     "output_type": "stream",
     "text": [
      "episode : 491 reward : 90.60410084887016\n",
      "total test reward=124.9802630670118\n"
     ]
    },
    {
     "name": "stderr",
     "output_type": "stream",
     "text": [
      "100%|█████████████████████████████████████████████████████████████████████████████| 2010/2010 [00:04<00:00, 448.65it/s]\n",
      "  2%|█▉                                                                             | 48/2010 [00:00<00:04, 471.80it/s]"
     ]
    },
    {
     "name": "stdout",
     "output_type": "stream",
     "text": [
      "episode : 492 reward : 141.97963687797116\n",
      "total test reward=273.07470769168526\n"
     ]
    },
    {
     "name": "stderr",
     "output_type": "stream",
     "text": [
      "100%|█████████████████████████████████████████████████████████████████████████████| 2010/2010 [00:04<00:00, 453.18it/s]\n",
      "  2%|█▊                                                                             | 46/2010 [00:00<00:04, 456.66it/s]"
     ]
    },
    {
     "name": "stdout",
     "output_type": "stream",
     "text": [
      "episode : 493 reward : 19.46370174840851\n",
      "total test reward=126.60916463296235\n"
     ]
    },
    {
     "name": "stderr",
     "output_type": "stream",
     "text": [
      "100%|█████████████████████████████████████████████████████████████████████████████| 2010/2010 [00:04<00:00, 441.40it/s]\n",
      "  2%|█▊                                                                             | 45/2010 [00:00<00:04, 448.55it/s]"
     ]
    },
    {
     "name": "stdout",
     "output_type": "stream",
     "text": [
      "episode : 494 reward : 123.45748785243502\n",
      "total test reward=83.72896280061084\n"
     ]
    },
    {
     "name": "stderr",
     "output_type": "stream",
     "text": [
      "100%|█████████████████████████████████████████████████████████████████████████████| 2010/2010 [00:04<00:00, 455.65it/s]\n",
      "  2%|█▊                                                                             | 45/2010 [00:00<00:04, 442.21it/s]"
     ]
    },
    {
     "name": "stdout",
     "output_type": "stream",
     "text": [
      "episode : 495 reward : 73.55604741105181\n",
      "total test reward=146.60806092612083\n"
     ]
    },
    {
     "name": "stderr",
     "output_type": "stream",
     "text": [
      "100%|█████████████████████████████████████████████████████████████████████████████| 2010/2010 [00:04<00:00, 449.93it/s]\n",
      "  2%|█▊                                                                             | 46/2010 [00:00<00:04, 447.79it/s]"
     ]
    },
    {
     "name": "stdout",
     "output_type": "stream",
     "text": [
      "episode : 496 reward : 146.13947429771275\n",
      "total test reward=133.86665940615805\n"
     ]
    },
    {
     "name": "stderr",
     "output_type": "stream",
     "text": [
      "100%|█████████████████████████████████████████████████████████████████████████████| 2010/2010 [00:04<00:00, 455.82it/s]\n",
      "  2%|█▉                                                                             | 50/2010 [00:00<00:04, 463.20it/s]"
     ]
    },
    {
     "name": "stdout",
     "output_type": "stream",
     "text": [
      "episode : 497 reward : 299.7936320214559\n",
      "total test reward=185.51005619855323\n"
     ]
    },
    {
     "name": "stderr",
     "output_type": "stream",
     "text": [
      "100%|█████████████████████████████████████████████████████████████████████████████| 2010/2010 [00:04<00:00, 437.07it/s]\n",
      "  2%|█▊                                                                             | 47/2010 [00:00<00:04, 417.22it/s]"
     ]
    },
    {
     "name": "stdout",
     "output_type": "stream",
     "text": [
      "episode : 498 reward : 57.212549706795656\n",
      "total test reward=228.64475518966296\n"
     ]
    },
    {
     "name": "stderr",
     "output_type": "stream",
     "text": [
      "100%|█████████████████████████████████████████████████████████████████████████████| 2010/2010 [00:04<00:00, 446.13it/s]\n",
      "  2%|█▊                                                                             | 47/2010 [00:00<00:04, 462.01it/s]"
     ]
    },
    {
     "name": "stdout",
     "output_type": "stream",
     "text": [
      "episode : 499 reward : 96.48401978671669\n",
      "total test reward=246.10720638643352\n"
     ]
    },
    {
     "name": "stderr",
     "output_type": "stream",
     "text": [
      "100%|█████████████████████████████████████████████████████████████████████████████| 2010/2010 [00:04<00:00, 449.82it/s]\n",
      "  2%|█▌                                                                             | 40/2010 [00:00<00:05, 389.32it/s]"
     ]
    },
    {
     "name": "stdout",
     "output_type": "stream",
     "text": [
      "episode : 500 reward : 112.82338359956896\n",
      "total test reward=109.17351914612266\n"
     ]
    },
    {
     "name": "stderr",
     "output_type": "stream",
     "text": [
      "100%|█████████████████████████████████████████████████████████████████████████████| 2010/2010 [00:04<00:00, 445.06it/s]\n",
      "  2%|█▋                                                                             | 44/2010 [00:00<00:04, 414.77it/s]"
     ]
    },
    {
     "name": "stdout",
     "output_type": "stream",
     "text": [
      "episode : 501 reward : 64.84981091864931\n",
      "total test reward=310.5119768138794\n"
     ]
    },
    {
     "name": "stderr",
     "output_type": "stream",
     "text": [
      "100%|█████████████████████████████████████████████████████████████████████████████| 2010/2010 [00:04<00:00, 448.36it/s]\n",
      "  2%|█▉                                                                             | 49/2010 [00:00<00:04, 476.86it/s]"
     ]
    },
    {
     "name": "stdout",
     "output_type": "stream",
     "text": [
      "episode : 502 reward : 86.9614395626408\n",
      "total test reward=311.2425189162314\n"
     ]
    },
    {
     "name": "stderr",
     "output_type": "stream",
     "text": [
      "100%|█████████████████████████████████████████████████████████████████████████████| 2010/2010 [00:04<00:00, 451.83it/s]\n",
      "  2%|█▋                                                                             | 42/2010 [00:00<00:04, 416.82it/s]"
     ]
    },
    {
     "name": "stdout",
     "output_type": "stream",
     "text": [
      "episode : 503 reward : 76.30717685735101\n",
      "total test reward=266.57275149418973\n"
     ]
    },
    {
     "name": "stderr",
     "output_type": "stream",
     "text": [
      "100%|█████████████████████████████████████████████████████████████████████████████| 2010/2010 [00:04<00:00, 451.78it/s]\n",
      "  2%|█▉                                                                             | 48/2010 [00:00<00:04, 471.71it/s]"
     ]
    },
    {
     "name": "stdout",
     "output_type": "stream",
     "text": [
      "episode : 504 reward : 77.81952094371825\n",
      "total test reward=273.7275493149659\n"
     ]
    },
    {
     "name": "stderr",
     "output_type": "stream",
     "text": [
      "100%|█████████████████████████████████████████████████████████████████████████████| 2010/2010 [00:04<00:00, 462.00it/s]\n",
      "  2%|█▋                                                                             | 44/2010 [00:00<00:04, 432.53it/s]"
     ]
    },
    {
     "name": "stdout",
     "output_type": "stream",
     "text": [
      "episode : 505 reward : 175.8148153429113\n",
      "total test reward=185.64798112108548\n"
     ]
    },
    {
     "name": "stderr",
     "output_type": "stream",
     "text": [
      "100%|█████████████████████████████████████████████████████████████████████████████| 2010/2010 [00:04<00:00, 447.45it/s]\n",
      "  2%|█▋                                                                             | 44/2010 [00:00<00:04, 436.67it/s]"
     ]
    },
    {
     "name": "stdout",
     "output_type": "stream",
     "text": [
      "episode : 506 reward : 52.905508618832286\n",
      "total test reward=270.7939237567354\n"
     ]
    },
    {
     "name": "stderr",
     "output_type": "stream",
     "text": [
      "100%|█████████████████████████████████████████████████████████████████████████████| 2010/2010 [00:04<00:00, 439.20it/s]\n",
      "  2%|█▉                                                                             | 48/2010 [00:00<00:04, 471.69it/s]"
     ]
    },
    {
     "name": "stdout",
     "output_type": "stream",
     "text": [
      "episode : 507 reward : 49.681030808600624\n",
      "total test reward=125.61218882599178\n"
     ]
    },
    {
     "name": "stderr",
     "output_type": "stream",
     "text": [
      "100%|█████████████████████████████████████████████████████████████████████████████| 2010/2010 [00:04<00:00, 444.90it/s]\n",
      "  4%|██▉                                                                            | 76/2010 [00:00<00:05, 351.12it/s]"
     ]
    },
    {
     "name": "stdout",
     "output_type": "stream",
     "text": [
      "episode : 508 reward : 136.55782830010125\n",
      "total test reward=7.068618116112641\n"
     ]
    },
    {
     "name": "stderr",
     "output_type": "stream",
     "text": [
      "100%|█████████████████████████████████████████████████████████████████████████████| 2010/2010 [00:04<00:00, 440.24it/s]\n",
      "  2%|█▉                                                                             | 49/2010 [00:00<00:04, 441.77it/s]"
     ]
    },
    {
     "name": "stdout",
     "output_type": "stream",
     "text": [
      "episode : 509 reward : 70.0735252435581\n",
      "total test reward=10.159511722208512\n"
     ]
    },
    {
     "name": "stderr",
     "output_type": "stream",
     "text": [
      "100%|█████████████████████████████████████████████████████████████████████████████| 2010/2010 [00:04<00:00, 449.97it/s]\n",
      "  2%|█▊                                                                             | 47/2010 [00:00<00:04, 438.81it/s]"
     ]
    },
    {
     "name": "stdout",
     "output_type": "stream",
     "text": [
      "episode : 510 reward : 68.41227325330155\n",
      "total test reward=139.46974597505314\n"
     ]
    },
    {
     "name": "stderr",
     "output_type": "stream",
     "text": [
      "100%|█████████████████████████████████████████████████████████████████████████████| 2010/2010 [00:04<00:00, 449.00it/s]\n",
      "  2%|█▊                                                                             | 47/2010 [00:00<00:04, 461.97it/s]"
     ]
    },
    {
     "name": "stdout",
     "output_type": "stream",
     "text": [
      "episode : 511 reward : 78.56177999574145\n",
      "total test reward=263.89098776132346\n"
     ]
    },
    {
     "name": "stderr",
     "output_type": "stream",
     "text": [
      "100%|█████████████████████████████████████████████████████████████████████████████| 2010/2010 [00:04<00:00, 441.64it/s]\n",
      "  2%|█▋                                                                             | 44/2010 [00:00<00:04, 411.27it/s]"
     ]
    },
    {
     "name": "stdout",
     "output_type": "stream",
     "text": [
      "episode : 512 reward : 56.91257918983468\n",
      "total test reward=237.54262791752484\n"
     ]
    },
    {
     "name": "stderr",
     "output_type": "stream",
     "text": [
      "100%|█████████████████████████████████████████████████████████████████████████████| 2010/2010 [00:04<00:00, 460.17it/s]\n",
      "  2%|█▊                                                                             | 45/2010 [00:00<00:04, 402.51it/s]"
     ]
    },
    {
     "name": "stdout",
     "output_type": "stream",
     "text": [
      "episode : 513 reward : 22.88665454582361\n",
      "total test reward=204.85968491018775\n"
     ]
    },
    {
     "name": "stderr",
     "output_type": "stream",
     "text": [
      "100%|█████████████████████████████████████████████████████████████████████████████| 2010/2010 [00:04<00:00, 466.14it/s]\n",
      "  3%|██                                                                             | 51/2010 [00:00<00:04, 462.66it/s]"
     ]
    },
    {
     "name": "stdout",
     "output_type": "stream",
     "text": [
      "episode : 514 reward : 16.73352344947669\n",
      "total test reward=286.29842200216956\n"
     ]
    },
    {
     "name": "stderr",
     "output_type": "stream",
     "text": [
      "100%|█████████████████████████████████████████████████████████████████████████████| 2010/2010 [00:04<00:00, 486.41it/s]\n",
      "  3%|██                                                                             | 51/2010 [00:00<00:03, 506.28it/s]"
     ]
    },
    {
     "name": "stdout",
     "output_type": "stream",
     "text": [
      "episode : 515 reward : 112.2125933974719\n",
      "total test reward=311.71341706735524\n"
     ]
    },
    {
     "name": "stderr",
     "output_type": "stream",
     "text": [
      "100%|█████████████████████████████████████████████████████████████████████████████| 2010/2010 [00:04<00:00, 497.54it/s]\n",
      "  3%|██                                                                             | 52/2010 [00:00<00:04, 484.80it/s]"
     ]
    },
    {
     "name": "stdout",
     "output_type": "stream",
     "text": [
      "episode : 516 reward : -0.31485200849430894\n",
      "total test reward=199.67561906095108\n"
     ]
    },
    {
     "name": "stderr",
     "output_type": "stream",
     "text": [
      "100%|█████████████████████████████████████████████████████████████████████████████| 2010/2010 [00:04<00:00, 490.86it/s]\n",
      "  2%|█▊                                                                             | 47/2010 [00:00<00:04, 432.73it/s]"
     ]
    },
    {
     "name": "stdout",
     "output_type": "stream",
     "text": [
      "episode : 517 reward : 89.35051647107598\n",
      "total test reward=140.30065745642585\n"
     ]
    },
    {
     "name": "stderr",
     "output_type": "stream",
     "text": [
      "100%|█████████████████████████████████████████████████████████████████████████████| 2010/2010 [00:04<00:00, 484.89it/s]\n",
      "  2%|█▋                                                                             | 43/2010 [00:00<00:04, 405.66it/s]"
     ]
    },
    {
     "name": "stdout",
     "output_type": "stream",
     "text": [
      "episode : 518 reward : 30.79996274992601\n",
      "total test reward=156.59935245451985\n"
     ]
    },
    {
     "name": "stderr",
     "output_type": "stream",
     "text": [
      "100%|█████████████████████████████████████████████████████████████████████████████| 2010/2010 [00:04<00:00, 491.61it/s]\n",
      "  2%|█▉                                                                             | 50/2010 [00:00<00:04, 436.31it/s]"
     ]
    },
    {
     "name": "stdout",
     "output_type": "stream",
     "text": [
      "episode : 519 reward : 21.2066590039996\n",
      "total test reward=287.784383628154\n"
     ]
    },
    {
     "name": "stderr",
     "output_type": "stream",
     "text": [
      "100%|█████████████████████████████████████████████████████████████████████████████| 2010/2010 [00:04<00:00, 494.12it/s]\n",
      "  3%|██                                                                             | 51/2010 [00:00<00:03, 501.34it/s]"
     ]
    },
    {
     "name": "stdout",
     "output_type": "stream",
     "text": [
      "episode : 520 reward : 64.71858527399945\n",
      "total test reward=294.5496074028516\n"
     ]
    },
    {
     "name": "stderr",
     "output_type": "stream",
     "text": [
      "100%|█████████████████████████████████████████████████████████████████████████████| 2010/2010 [00:04<00:00, 496.49it/s]\n",
      "  3%|██▏                                                                            | 56/2010 [00:00<00:04, 486.35it/s]"
     ]
    },
    {
     "name": "stdout",
     "output_type": "stream",
     "text": [
      "episode : 521 reward : 87.06021205436912\n",
      "total test reward=195.85125002043927\n"
     ]
    },
    {
     "name": "stderr",
     "output_type": "stream",
     "text": [
      "100%|█████████████████████████████████████████████████████████████████████████████| 2010/2010 [00:04<00:00, 488.05it/s]\n",
      "  3%|██▏                                                                            | 57/2010 [00:00<00:03, 506.03it/s]"
     ]
    },
    {
     "name": "stdout",
     "output_type": "stream",
     "text": [
      "episode : 522 reward : 103.53778978216374\n",
      "total test reward=248.85423375352693\n"
     ]
    },
    {
     "name": "stderr",
     "output_type": "stream",
     "text": [
      "100%|█████████████████████████████████████████████████████████████████████████████| 2010/2010 [00:04<00:00, 498.52it/s]\n",
      "  3%|██                                                                             | 52/2010 [00:00<00:04, 457.58it/s]"
     ]
    },
    {
     "name": "stdout",
     "output_type": "stream",
     "text": [
      "episode : 523 reward : 116.82524536559549\n",
      "total test reward=251.64337374107845\n"
     ]
    },
    {
     "name": "stderr",
     "output_type": "stream",
     "text": [
      "100%|█████████████████████████████████████████████████████████████████████████████| 2010/2010 [00:04<00:00, 501.90it/s]\n",
      "  2%|█▋                                                                             | 43/2010 [00:00<00:04, 423.00it/s]"
     ]
    },
    {
     "name": "stdout",
     "output_type": "stream",
     "text": [
      "episode : 524 reward : 255.13956762344674\n",
      "total test reward=277.5214542251195\n"
     ]
    },
    {
     "name": "stderr",
     "output_type": "stream",
     "text": [
      "100%|█████████████████████████████████████████████████████████████████████████████| 2010/2010 [00:04<00:00, 495.52it/s]\n",
      "  3%|██                                                                             | 51/2010 [00:00<00:04, 445.20it/s]"
     ]
    },
    {
     "name": "stdout",
     "output_type": "stream",
     "text": [
      "episode : 525 reward : 8.814084295770956\n",
      "total test reward=312.25253909867854\n"
     ]
    },
    {
     "name": "stderr",
     "output_type": "stream",
     "text": [
      "100%|█████████████████████████████████████████████████████████████████████████████| 2010/2010 [00:04<00:00, 474.45it/s]\n",
      "  3%|██                                                                             | 52/2010 [00:00<00:04, 465.98it/s]"
     ]
    },
    {
     "name": "stdout",
     "output_type": "stream",
     "text": [
      "episode : 526 reward : 60.45812073590439\n",
      "total test reward=314.4284113368641\n"
     ]
    },
    {
     "name": "stderr",
     "output_type": "stream",
     "text": [
      "100%|█████████████████████████████████████████████████████████████████████████████| 2010/2010 [00:04<00:00, 501.78it/s]\n",
      "  2%|█▊                                                                             | 46/2010 [00:00<00:04, 445.14it/s]"
     ]
    },
    {
     "name": "stdout",
     "output_type": "stream",
     "text": [
      "episode : 527 reward : 45.43233439716362\n",
      "total test reward=314.46320635646913\n"
     ]
    },
    {
     "name": "stderr",
     "output_type": "stream",
     "text": [
      "100%|█████████████████████████████████████████████████████████████████████████████| 2010/2010 [00:04<00:00, 490.74it/s]\n",
      "  2%|█▉                                                                             | 50/2010 [00:00<00:03, 496.60it/s]"
     ]
    },
    {
     "name": "stdout",
     "output_type": "stream",
     "text": [
      "episode : 528 reward : 257.6547670834192\n",
      "total test reward=313.6374094010071\n"
     ]
    },
    {
     "name": "stderr",
     "output_type": "stream",
     "text": [
      "100%|█████████████████████████████████████████████████████████████████████████████| 2010/2010 [00:04<00:00, 500.86it/s]\n",
      "  3%|██                                                                             | 51/2010 [00:00<00:04, 469.19it/s]"
     ]
    },
    {
     "name": "stdout",
     "output_type": "stream",
     "text": [
      "episode : 529 reward : 85.25645086127668\n",
      "total test reward=313.53848642212347\n"
     ]
    },
    {
     "name": "stderr",
     "output_type": "stream",
     "text": [
      "100%|█████████████████████████████████████████████████████████████████████████████| 2010/2010 [00:04<00:00, 490.27it/s]\n",
      "  3%|██                                                                             | 52/2010 [00:00<00:03, 494.23it/s]"
     ]
    },
    {
     "name": "stdout",
     "output_type": "stream",
     "text": [
      "episode : 530 reward : 30.76224068075166\n",
      "total test reward=312.4289779119243\n"
     ]
    },
    {
     "name": "stderr",
     "output_type": "stream",
     "text": [
      "100%|█████████████████████████████████████████████████████████████████████████████| 2010/2010 [00:04<00:00, 497.92it/s]\n",
      "  2%|█▋                                                                             | 44/2010 [00:00<00:04, 436.81it/s]"
     ]
    },
    {
     "name": "stdout",
     "output_type": "stream",
     "text": [
      "episode : 531 reward : 72.679595702232\n",
      "total test reward=183.91469445982247\n"
     ]
    },
    {
     "name": "stderr",
     "output_type": "stream",
     "text": [
      "100%|█████████████████████████████████████████████████████████████████████████████| 2010/2010 [00:04<00:00, 460.01it/s]\n",
      "  2%|█▊                                                                             | 46/2010 [00:00<00:04, 452.33it/s]"
     ]
    },
    {
     "name": "stdout",
     "output_type": "stream",
     "text": [
      "episode : 532 reward : 203.0065539040143\n",
      "total test reward=250.15811210844808\n"
     ]
    },
    {
     "name": "stderr",
     "output_type": "stream",
     "text": [
      "100%|█████████████████████████████████████████████████████████████████████████████| 2010/2010 [00:04<00:00, 466.70it/s]\n",
      "  5%|███▉                                                                           | 99/2010 [00:00<00:03, 489.87it/s]"
     ]
    },
    {
     "name": "stdout",
     "output_type": "stream",
     "text": [
      "episode : 533 reward : 295.6780342377709\n",
      "total test reward=311.3142912717524\n"
     ]
    },
    {
     "name": "stderr",
     "output_type": "stream",
     "text": [
      "100%|█████████████████████████████████████████████████████████████████████████████| 2010/2010 [00:04<00:00, 468.28it/s]\n",
      "  2%|█▊                                                                             | 47/2010 [00:00<00:04, 466.44it/s]"
     ]
    },
    {
     "name": "stdout",
     "output_type": "stream",
     "text": [
      "episode : 534 reward : 29.684795604170798\n",
      "total test reward=245.46845111539392\n"
     ]
    },
    {
     "name": "stderr",
     "output_type": "stream",
     "text": [
      "100%|█████████████████████████████████████████████████████████████████████████████| 2010/2010 [00:04<00:00, 480.50it/s]\n",
      "  2%|█▎                                                                             | 34/2010 [00:00<00:05, 330.97it/s]"
     ]
    },
    {
     "name": "stdout",
     "output_type": "stream",
     "text": [
      "episode : 535 reward : 79.66123139605604\n",
      "total test reward=310.3533014158874\n"
     ]
    },
    {
     "name": "stderr",
     "output_type": "stream",
     "text": [
      "100%|█████████████████████████████████████████████████████████████████████████████| 2010/2010 [00:04<00:00, 442.06it/s]\n",
      "  2%|█▊                                                                             | 47/2010 [00:00<00:04, 462.02it/s]"
     ]
    },
    {
     "name": "stdout",
     "output_type": "stream",
     "text": [
      "episode : 536 reward : 163.47328858535462\n",
      "total test reward=310.27644777098993\n"
     ]
    },
    {
     "name": "stderr",
     "output_type": "stream",
     "text": [
      "100%|█████████████████████████████████████████████████████████████████████████████| 2010/2010 [00:04<00:00, 442.04it/s]\n",
      "  5%|███▌                                                                           | 91/2010 [00:00<00:04, 438.62it/s]"
     ]
    },
    {
     "name": "stdout",
     "output_type": "stream",
     "text": [
      "episode : 537 reward : 105.08313474372802\n",
      "total test reward=310.5680163029113\n"
     ]
    },
    {
     "name": "stderr",
     "output_type": "stream",
     "text": [
      "100%|█████████████████████████████████████████████████████████████████████████████| 2010/2010 [00:04<00:00, 433.89it/s]\n",
      "  2%|█▋                                                                             | 43/2010 [00:00<00:04, 426.88it/s]"
     ]
    },
    {
     "name": "stdout",
     "output_type": "stream",
     "text": [
      "episode : 538 reward : 64.48817179485253\n",
      "total test reward=291.8650736553024\n"
     ]
    },
    {
     "name": "stderr",
     "output_type": "stream",
     "text": [
      "100%|█████████████████████████████████████████████████████████████████████████████| 2010/2010 [00:04<00:00, 467.44it/s]\n",
      "  2%|█▌                                                                             | 41/2010 [00:00<00:04, 408.83it/s]"
     ]
    },
    {
     "name": "stdout",
     "output_type": "stream",
     "text": [
      "episode : 539 reward : 60.697008314018255\n",
      "total test reward=264.8407360831984\n"
     ]
    },
    {
     "name": "stderr",
     "output_type": "stream",
     "text": [
      "100%|█████████████████████████████████████████████████████████████████████████████| 2010/2010 [00:04<00:00, 465.66it/s]\n",
      "  2%|█▊                                                                             | 46/2010 [00:00<00:04, 456.66it/s]"
     ]
    },
    {
     "name": "stdout",
     "output_type": "stream",
     "text": [
      "episode : 540 reward : 59.20834203293118\n",
      "total test reward=280.49728881492354\n"
     ]
    },
    {
     "name": "stderr",
     "output_type": "stream",
     "text": [
      "100%|█████████████████████████████████████████████████████████████████████████████| 2010/2010 [00:04<00:00, 465.23it/s]\n",
      "  2%|█▊                                                                             | 46/2010 [00:00<00:04, 456.66it/s]"
     ]
    },
    {
     "name": "stdout",
     "output_type": "stream",
     "text": [
      "episode : 541 reward : 140.5774056991791\n",
      "total test reward=313.0439718049165\n"
     ]
    },
    {
     "name": "stderr",
     "output_type": "stream",
     "text": [
      "100%|█████████████████████████████████████████████████████████████████████████████| 2010/2010 [00:04<00:00, 455.78it/s]\n",
      "  2%|█▉                                                                             | 48/2010 [00:00<00:04, 476.52it/s]"
     ]
    },
    {
     "name": "stdout",
     "output_type": "stream",
     "text": [
      "episode : 542 reward : 139.41039946596808\n",
      "total test reward=311.94004167019466\n"
     ]
    },
    {
     "name": "stderr",
     "output_type": "stream",
     "text": [
      "100%|█████████████████████████████████████████████████████████████████████████████| 2010/2010 [00:04<00:00, 465.47it/s]\n",
      "  2%|█▊                                                                             | 45/2010 [00:00<00:04, 446.60it/s]"
     ]
    },
    {
     "name": "stdout",
     "output_type": "stream",
     "text": [
      "episode : 543 reward : 98.47203558315918\n",
      "total test reward=310.4294971961357\n"
     ]
    },
    {
     "name": "stderr",
     "output_type": "stream",
     "text": [
      "100%|█████████████████████████████████████████████████████████████████████████████| 2010/2010 [00:04<00:00, 447.01it/s]\n",
      "  2%|█▉                                                                             | 49/2010 [00:00<00:04, 481.68it/s]"
     ]
    },
    {
     "name": "stdout",
     "output_type": "stream",
     "text": [
      "episode : 544 reward : 81.41744273197489\n",
      "total test reward=309.2763431490838\n"
     ]
    },
    {
     "name": "stderr",
     "output_type": "stream",
     "text": [
      "100%|█████████████████████████████████████████████████████████████████████████████| 2010/2010 [00:04<00:00, 475.54it/s]\n",
      "  2%|█▊                                                                             | 47/2010 [00:00<00:04, 462.02it/s]"
     ]
    },
    {
     "name": "stdout",
     "output_type": "stream",
     "text": [
      "episode : 545 reward : 153.21579286281153\n",
      "total test reward=308.25209913448\n"
     ]
    },
    {
     "name": "stderr",
     "output_type": "stream",
     "text": [
      "100%|█████████████████████████████████████████████████████████████████████████████| 2010/2010 [00:04<00:00, 466.55it/s]\n",
      "  2%|█▊                                                                             | 46/2010 [00:00<00:04, 447.98it/s]"
     ]
    },
    {
     "name": "stdout",
     "output_type": "stream",
     "text": [
      "episode : 546 reward : 123.78511862621191\n",
      "total test reward=307.2279018292906\n"
     ]
    },
    {
     "name": "stderr",
     "output_type": "stream",
     "text": [
      "100%|█████████████████████████████████████████████████████████████████████████████| 2010/2010 [00:04<00:00, 459.88it/s]\n",
      "  2%|█▉                                                                             | 49/2010 [00:00<00:04, 486.45it/s]"
     ]
    },
    {
     "name": "stdout",
     "output_type": "stream",
     "text": [
      "episode : 547 reward : 169.0237361611218\n",
      "total test reward=308.9185116817664\n"
     ]
    },
    {
     "name": "stderr",
     "output_type": "stream",
     "text": [
      "100%|█████████████████████████████████████████████████████████████████████████████| 2010/2010 [00:04<00:00, 463.81it/s]\n",
      "  2%|█▋                                                                             | 42/2010 [00:00<00:04, 396.29it/s]"
     ]
    },
    {
     "name": "stdout",
     "output_type": "stream",
     "text": [
      "episode : 548 reward : 195.59166891543052\n",
      "total test reward=309.93334438494935\n"
     ]
    },
    {
     "name": "stderr",
     "output_type": "stream",
     "text": [
      "100%|█████████████████████████████████████████████████████████████████████████████| 2010/2010 [00:04<00:00, 457.49it/s]\n",
      "  5%|███▋                                                                           | 94/2010 [00:00<00:04, 453.61it/s]"
     ]
    },
    {
     "name": "stdout",
     "output_type": "stream",
     "text": [
      "episode : 549 reward : 147.2572556584764\n",
      "total test reward=307.27575372713727\n"
     ]
    },
    {
     "name": "stderr",
     "output_type": "stream",
     "text": [
      "100%|█████████████████████████████████████████████████████████████████████████████| 2010/2010 [00:04<00:00, 452.96it/s]\n",
      "  2%|█▊                                                                             | 45/2010 [00:00<00:04, 442.36it/s]"
     ]
    },
    {
     "name": "stdout",
     "output_type": "stream",
     "text": [
      "episode : 550 reward : 180.0109618068638\n",
      "total test reward=249.12393514001315\n"
     ]
    },
    {
     "name": "stderr",
     "output_type": "stream",
     "text": [
      "100%|█████████████████████████████████████████████████████████████████████████████| 2010/2010 [00:04<00:00, 457.65it/s]\n",
      "  2%|█▍                                                                             | 37/2010 [00:00<00:05, 367.17it/s]"
     ]
    },
    {
     "name": "stdout",
     "output_type": "stream",
     "text": [
      "episode : 551 reward : 140.9123821263217\n",
      "total test reward=306.0590180082076\n"
     ]
    },
    {
     "name": "stderr",
     "output_type": "stream",
     "text": [
      "100%|█████████████████████████████████████████████████████████████████████████████| 2010/2010 [00:04<00:00, 462.38it/s]\n",
      "  2%|█▉                                                                             | 48/2010 [00:00<00:04, 468.75it/s]"
     ]
    },
    {
     "name": "stdout",
     "output_type": "stream",
     "text": [
      "episode : 552 reward : 212.37684952598715\n",
      "total test reward=310.85894120318534\n"
     ]
    },
    {
     "name": "stderr",
     "output_type": "stream",
     "text": [
      "100%|█████████████████████████████████████████████████████████████████████████████| 2010/2010 [00:04<00:00, 456.30it/s]\n",
      "  5%|███▋                                                                           | 95/2010 [00:00<00:04, 461.74it/s]"
     ]
    },
    {
     "name": "stdout",
     "output_type": "stream",
     "text": [
      "episode : 553 reward : 88.3610848284211\n",
      "total test reward=293.1488653740064\n"
     ]
    },
    {
     "name": "stderr",
     "output_type": "stream",
     "text": [
      "100%|█████████████████████████████████████████████████████████████████████████████| 2010/2010 [00:04<00:00, 447.75it/s]\n",
      "  2%|█▉                                                                             | 48/2010 [00:00<00:04, 471.83it/s]"
     ]
    },
    {
     "name": "stdout",
     "output_type": "stream",
     "text": [
      "episode : 554 reward : 101.3027935515455\n",
      "total test reward=280.489349081816\n"
     ]
    },
    {
     "name": "stderr",
     "output_type": "stream",
     "text": [
      "100%|█████████████████████████████████████████████████████████████████████████████| 2010/2010 [00:04<00:00, 460.78it/s]\n",
      "  2%|█▉                                                                             | 48/2010 [00:00<00:04, 471.85it/s]"
     ]
    },
    {
     "name": "stdout",
     "output_type": "stream",
     "text": [
      "episode : 555 reward : 128.6342460298129\n",
      "total test reward=312.68426281967015\n"
     ]
    },
    {
     "name": "stderr",
     "output_type": "stream",
     "text": [
      "100%|█████████████████████████████████████████████████████████████████████████████| 2010/2010 [00:04<00:00, 457.47it/s]\n",
      "  2%|█▊                                                                             | 46/2010 [00:00<00:04, 456.81it/s]"
     ]
    },
    {
     "name": "stdout",
     "output_type": "stream",
     "text": [
      "episode : 556 reward : 66.88315098132335\n",
      "total test reward=250.08144388671516\n"
     ]
    },
    {
     "name": "stderr",
     "output_type": "stream",
     "text": [
      "100%|█████████████████████████████████████████████████████████████████████████████| 2010/2010 [00:04<00:00, 465.08it/s]\n",
      "  4%|███▍                                                                           | 89/2010 [00:00<00:04, 430.40it/s]"
     ]
    },
    {
     "name": "stdout",
     "output_type": "stream",
     "text": [
      "episode : 557 reward : 267.9044415351726\n",
      "total test reward=312.5033926312388\n"
     ]
    },
    {
     "name": "stderr",
     "output_type": "stream",
     "text": [
      "100%|█████████████████████████████████████████████████████████████████████████████| 2010/2010 [00:04<00:00, 461.05it/s]\n",
      "  2%|█▊                                                                             | 46/2010 [00:00<00:04, 456.66it/s]"
     ]
    },
    {
     "name": "stdout",
     "output_type": "stream",
     "text": [
      "episode : 558 reward : -0.23592271376951457\n",
      "total test reward=312.5274240735628\n"
     ]
    },
    {
     "name": "stderr",
     "output_type": "stream",
     "text": [
      "100%|█████████████████████████████████████████████████████████████████████████████| 2010/2010 [00:04<00:00, 462.79it/s]\n",
      "  2%|█▊                                                                             | 46/2010 [00:00<00:04, 429.62it/s]"
     ]
    },
    {
     "name": "stdout",
     "output_type": "stream",
     "text": [
      "episode : 559 reward : 88.18581098047675\n",
      "total test reward=311.5218349006833\n"
     ]
    },
    {
     "name": "stderr",
     "output_type": "stream",
     "text": [
      "100%|█████████████████████████████████████████████████████████████████████████████| 2010/2010 [00:04<00:00, 469.05it/s]\n",
      "  2%|█▊                                                                             | 46/2010 [00:00<00:04, 456.67it/s]"
     ]
    },
    {
     "name": "stdout",
     "output_type": "stream",
     "text": [
      "episode : 560 reward : 135.91916275583213\n",
      "total test reward=312.48001154902215\n"
     ]
    },
    {
     "name": "stderr",
     "output_type": "stream",
     "text": [
      "100%|█████████████████████████████████████████████████████████████████████████████| 2010/2010 [00:04<00:00, 437.12it/s]\n",
      "  2%|█▉                                                                             | 49/2010 [00:00<00:04, 481.68it/s]"
     ]
    },
    {
     "name": "stdout",
     "output_type": "stream",
     "text": [
      "episode : 561 reward : 46.63286875371544\n",
      "total test reward=257.6279793639777\n"
     ]
    },
    {
     "name": "stderr",
     "output_type": "stream",
     "text": [
      "100%|█████████████████████████████████████████████████████████████████████████████| 2010/2010 [00:04<00:00, 469.24it/s]\n",
      "  2%|█▌                                                                             | 40/2010 [00:00<00:05, 379.82it/s]"
     ]
    },
    {
     "name": "stdout",
     "output_type": "stream",
     "text": [
      "episode : 562 reward : 190.25349784188066\n",
      "total test reward=276.598922630306\n"
     ]
    },
    {
     "name": "stderr",
     "output_type": "stream",
     "text": [
      "100%|█████████████████████████████████████████████████████████████████████████████| 2010/2010 [00:04<00:00, 461.16it/s]\n",
      "  2%|█▊                                                                             | 46/2010 [00:00<00:04, 447.80it/s]"
     ]
    },
    {
     "name": "stdout",
     "output_type": "stream",
     "text": [
      "episode : 563 reward : 87.3773196585676\n",
      "total test reward=310.0166623406253\n"
     ]
    },
    {
     "name": "stderr",
     "output_type": "stream",
     "text": [
      "100%|█████████████████████████████████████████████████████████████████████████████| 2010/2010 [00:04<00:00, 460.82it/s]\n",
      "  2%|█▊                                                                             | 46/2010 [00:00<00:04, 456.67it/s]"
     ]
    },
    {
     "name": "stdout",
     "output_type": "stream",
     "text": [
      "episode : 564 reward : 295.3559570485565\n",
      "total test reward=269.9200818115472\n"
     ]
    },
    {
     "name": "stderr",
     "output_type": "stream",
     "text": [
      "100%|█████████████████████████████████████████████████████████████████████████████| 2010/2010 [00:04<00:00, 468.65it/s]\n",
      "  2%|█▉                                                                             | 48/2010 [00:00<00:04, 476.36it/s]"
     ]
    },
    {
     "name": "stdout",
     "output_type": "stream",
     "text": [
      "episode : 565 reward : 287.23366688495656\n",
      "total test reward=298.1178883010715\n"
     ]
    },
    {
     "name": "stderr",
     "output_type": "stream",
     "text": [
      "100%|█████████████████████████████████████████████████████████████████████████████| 2010/2010 [00:04<00:00, 454.35it/s]\n",
      "  2%|█▌                                                                             | 41/2010 [00:00<00:04, 407.87it/s]"
     ]
    },
    {
     "name": "stdout",
     "output_type": "stream",
     "text": [
      "episode : 566 reward : 62.17295534327556\n",
      "total test reward=262.1150254761193\n"
     ]
    },
    {
     "name": "stderr",
     "output_type": "stream",
     "text": [
      "100%|█████████████████████████████████████████████████████████████████████████████| 2010/2010 [00:04<00:00, 454.99it/s]\n",
      "  2%|█▊                                                                             | 45/2010 [00:00<00:04, 443.48it/s]"
     ]
    },
    {
     "name": "stdout",
     "output_type": "stream",
     "text": [
      "episode : 567 reward : 35.613607654477505\n",
      "total test reward=313.0912443203434\n"
     ]
    },
    {
     "name": "stderr",
     "output_type": "stream",
     "text": [
      "100%|█████████████████████████████████████████████████████████████████████████████| 2010/2010 [00:04<00:00, 441.59it/s]\n",
      "  2%|█▋                                                                             | 44/2010 [00:00<00:04, 432.53it/s]"
     ]
    },
    {
     "name": "stdout",
     "output_type": "stream",
     "text": [
      "episode : 568 reward : 142.88159614367527\n",
      "total test reward=313.2261137702497\n"
     ]
    },
    {
     "name": "stderr",
     "output_type": "stream",
     "text": [
      "100%|█████████████████████████████████████████████████████████████████████████████| 2010/2010 [00:04<00:00, 460.17it/s]\n",
      "  2%|█▊                                                                             | 47/2010 [00:00<00:04, 413.66it/s]"
     ]
    },
    {
     "name": "stdout",
     "output_type": "stream",
     "text": [
      "episode : 569 reward : 124.89256327387471\n",
      "total test reward=312.2584591457825\n"
     ]
    },
    {
     "name": "stderr",
     "output_type": "stream",
     "text": [
      "100%|█████████████████████████████████████████████████████████████████████████████| 2010/2010 [00:04<00:00, 464.88it/s]\n",
      "  2%|█▊                                                                             | 46/2010 [00:00<00:04, 456.52it/s]"
     ]
    },
    {
     "name": "stdout",
     "output_type": "stream",
     "text": [
      "episode : 570 reward : 23.82833883169937\n",
      "total test reward=312.19534760964575\n"
     ]
    },
    {
     "name": "stderr",
     "output_type": "stream",
     "text": [
      "100%|█████████████████████████████████████████████████████████████████████████████| 2010/2010 [00:04<00:00, 467.34it/s]\n",
      "  2%|█▉                                                                             | 48/2010 [00:00<00:04, 471.85it/s]"
     ]
    },
    {
     "name": "stdout",
     "output_type": "stream",
     "text": [
      "episode : 571 reward : 147.2585817123481\n",
      "total test reward=311.4828420807592\n"
     ]
    },
    {
     "name": "stderr",
     "output_type": "stream",
     "text": [
      "100%|█████████████████████████████████████████████████████████████████████████████| 2010/2010 [00:04<00:00, 464.08it/s]\n",
      "  2%|█▉                                                                             | 48/2010 [00:00<00:04, 476.69it/s]"
     ]
    },
    {
     "name": "stdout",
     "output_type": "stream",
     "text": [
      "episode : 572 reward : 143.71995360482177\n",
      "total test reward=311.6892507709671\n"
     ]
    },
    {
     "name": "stderr",
     "output_type": "stream",
     "text": [
      "100%|█████████████████████████████████████████████████████████████████████████████| 2010/2010 [00:04<00:00, 468.02it/s]\n",
      "  2%|█▉                                                                             | 49/2010 [00:00<00:04, 481.67it/s]"
     ]
    },
    {
     "name": "stdout",
     "output_type": "stream",
     "text": [
      "episode : 573 reward : 149.93778751748115\n",
      "total test reward=312.3566457541903\n"
     ]
    },
    {
     "name": "stderr",
     "output_type": "stream",
     "text": [
      "100%|█████████████████████████████████████████████████████████████████████████████| 2010/2010 [00:04<00:00, 457.57it/s]\n",
      "  2%|█▉                                                                             | 48/2010 [00:00<00:04, 427.12it/s]"
     ]
    },
    {
     "name": "stdout",
     "output_type": "stream",
     "text": [
      "episode : 574 reward : 108.24478324234566\n",
      "total test reward=312.3919079510252\n"
     ]
    },
    {
     "name": "stderr",
     "output_type": "stream",
     "text": [
      "100%|█████████████████████████████████████████████████████████████████████████████| 2010/2010 [00:04<00:00, 468.54it/s]\n",
      "  2%|█▊                                                                             | 47/2010 [00:00<00:04, 462.01it/s]"
     ]
    },
    {
     "name": "stdout",
     "output_type": "stream",
     "text": [
      "episode : 575 reward : 194.6956345454445\n",
      "total test reward=313.354800002381\n"
     ]
    },
    {
     "name": "stderr",
     "output_type": "stream",
     "text": [
      "100%|█████████████████████████████████████████████████████████████████████████████| 2010/2010 [00:04<00:00, 469.52it/s]\n",
      "  2%|█▌                                                                             | 39/2010 [00:00<00:05, 383.50it/s]"
     ]
    },
    {
     "name": "stdout",
     "output_type": "stream",
     "text": [
      "episode : 576 reward : 271.8237281012279\n",
      "total test reward=312.76922485111635\n"
     ]
    },
    {
     "name": "stderr",
     "output_type": "stream",
     "text": [
      "100%|█████████████████████████████████████████████████████████████████████████████| 2010/2010 [00:04<00:00, 464.69it/s]\n",
      "  3%|██                                                                             | 52/2010 [00:00<00:04, 452.68it/s]"
     ]
    },
    {
     "name": "stdout",
     "output_type": "stream",
     "text": [
      "episode : 577 reward : 62.82535719099758\n",
      "total test reward=312.13413592333666\n"
     ]
    },
    {
     "name": "stderr",
     "output_type": "stream",
     "text": [
      "100%|█████████████████████████████████████████████████████████████████████████████| 2010/2010 [00:04<00:00, 460.12it/s]\n",
      "  2%|█▉                                                                             | 48/2010 [00:00<00:04, 472.08it/s]"
     ]
    },
    {
     "name": "stdout",
     "output_type": "stream",
     "text": [
      "episode : 578 reward : 59.189851033174676\n",
      "total test reward=311.57431587325107\n"
     ]
    },
    {
     "name": "stderr",
     "output_type": "stream",
     "text": [
      "100%|█████████████████████████████████████████████████████████████████████████████| 2010/2010 [00:04<00:00, 464.37it/s]\n",
      "  2%|█▊                                                                             | 47/2010 [00:00<00:04, 466.60it/s]"
     ]
    },
    {
     "name": "stdout",
     "output_type": "stream",
     "text": [
      "episode : 579 reward : 57.82901807882656\n",
      "total test reward=312.3113327087001\n"
     ]
    },
    {
     "name": "stderr",
     "output_type": "stream",
     "text": [
      "100%|█████████████████████████████████████████████████████████████████████████████| 2010/2010 [00:04<00:00, 446.45it/s]\n",
      "  2%|█▉                                                                             | 50/2010 [00:00<00:03, 496.37it/s]"
     ]
    },
    {
     "name": "stdout",
     "output_type": "stream",
     "text": [
      "episode : 580 reward : 176.07338297854545\n",
      "total test reward=311.0353593446661\n"
     ]
    },
    {
     "name": "stderr",
     "output_type": "stream",
     "text": [
      "100%|█████████████████████████████████████████████████████████████████████████████| 2010/2010 [00:04<00:00, 467.44it/s]\n",
      "  2%|█▊                                                                             | 47/2010 [00:00<00:04, 424.16it/s]"
     ]
    },
    {
     "name": "stdout",
     "output_type": "stream",
     "text": [
      "episode : 581 reward : 146.2053809385294\n",
      "total test reward=309.3611059331421\n"
     ]
    },
    {
     "name": "stderr",
     "output_type": "stream",
     "text": [
      "100%|█████████████████████████████████████████████████████████████████████████████| 2010/2010 [00:04<00:00, 452.70it/s]\n",
      "  2%|█▊                                                                             | 47/2010 [00:00<00:04, 466.58it/s]"
     ]
    },
    {
     "name": "stdout",
     "output_type": "stream",
     "text": [
      "episode : 582 reward : 40.096455112890396\n",
      "total test reward=310.7370857346974\n"
     ]
    },
    {
     "name": "stderr",
     "output_type": "stream",
     "text": [
      "100%|█████████████████████████████████████████████████████████████████████████████| 2010/2010 [00:04<00:00, 462.02it/s]\n",
      "  2%|█▊                                                                             | 47/2010 [00:00<00:04, 416.84it/s]"
     ]
    },
    {
     "name": "stdout",
     "output_type": "stream",
     "text": [
      "episode : 583 reward : 130.96954599293298\n",
      "total test reward=312.04423471542225\n"
     ]
    },
    {
     "name": "stderr",
     "output_type": "stream",
     "text": [
      "100%|█████████████████████████████████████████████████████████████████████████████| 2010/2010 [00:04<00:00, 458.43it/s]\n",
      "  2%|█▉                                                                             | 49/2010 [00:00<00:04, 486.28it/s]"
     ]
    },
    {
     "name": "stdout",
     "output_type": "stream",
     "text": [
      "episode : 584 reward : 4.507047931913064\n",
      "total test reward=312.60623715919616\n"
     ]
    },
    {
     "name": "stderr",
     "output_type": "stream",
     "text": [
      "100%|█████████████████████████████████████████████████████████████████████████████| 2010/2010 [00:04<00:00, 477.26it/s]\n",
      "  2%|█▋                                                                             | 44/2010 [00:00<00:04, 434.76it/s]"
     ]
    },
    {
     "name": "stdout",
     "output_type": "stream",
     "text": [
      "episode : 585 reward : 263.73378205238106\n",
      "total test reward=311.821853052984\n"
     ]
    },
    {
     "name": "stderr",
     "output_type": "stream",
     "text": [
      "100%|█████████████████████████████████████████████████████████████████████████████| 2010/2010 [00:04<00:00, 461.04it/s]\n",
      "  2%|█▋                                                                             | 43/2010 [00:00<00:04, 422.70it/s]"
     ]
    },
    {
     "name": "stdout",
     "output_type": "stream",
     "text": [
      "episode : 586 reward : 203.459515090322\n",
      "total test reward=311.5992309641884\n"
     ]
    },
    {
     "name": "stderr",
     "output_type": "stream",
     "text": [
      "100%|█████████████████████████████████████████████████████████████████████████████| 2010/2010 [00:04<00:00, 456.81it/s]\n",
      "  2%|█▉                                                                             | 49/2010 [00:00<00:04, 481.53it/s]"
     ]
    },
    {
     "name": "stdout",
     "output_type": "stream",
     "text": [
      "episode : 587 reward : 178.73227481561366\n",
      "total test reward=313.28806119973757\n"
     ]
    },
    {
     "name": "stderr",
     "output_type": "stream",
     "text": [
      "100%|█████████████████████████████████████████████████████████████████████████████| 2010/2010 [00:04<00:00, 476.44it/s]\n",
      "  2%|█▌                                                                             | 41/2010 [00:00<00:05, 386.45it/s]"
     ]
    },
    {
     "name": "stdout",
     "output_type": "stream",
     "text": [
      "episode : 588 reward : 146.51102978064836\n",
      "total test reward=313.0781400859363\n"
     ]
    },
    {
     "name": "stderr",
     "output_type": "stream",
     "text": [
      "100%|█████████████████████████████████████████████████████████████████████████████| 2010/2010 [00:04<00:00, 468.30it/s]\n",
      "  2%|█▉                                                                             | 49/2010 [00:00<00:04, 486.44it/s]"
     ]
    },
    {
     "name": "stdout",
     "output_type": "stream",
     "text": [
      "episode : 589 reward : 64.13965537953918\n",
      "total test reward=311.70998341537506\n"
     ]
    },
    {
     "name": "stderr",
     "output_type": "stream",
     "text": [
      "100%|█████████████████████████████████████████████████████████████████████████████| 2010/2010 [00:04<00:00, 487.18it/s]\n",
      "  3%|██                                                                             | 51/2010 [00:00<00:04, 461.84it/s]"
     ]
    },
    {
     "name": "stdout",
     "output_type": "stream",
     "text": [
      "episode : 590 reward : 77.01628845633746\n",
      "total test reward=287.6865839468867\n"
     ]
    },
    {
     "name": "stderr",
     "output_type": "stream",
     "text": [
      "100%|█████████████████████████████████████████████████████████████████████████████| 2010/2010 [00:03<00:00, 507.03it/s]\n",
      "  5%|████                                                                          | 106/2010 [00:00<00:03, 519.50it/s]"
     ]
    },
    {
     "name": "stdout",
     "output_type": "stream",
     "text": [
      "episode : 591 reward : 180.67334887751952\n",
      "total test reward=310.81595794265786\n"
     ]
    },
    {
     "name": "stderr",
     "output_type": "stream",
     "text": [
      "100%|█████████████████████████████████████████████████████████████████████████████| 2010/2010 [00:04<00:00, 502.21it/s]\n",
      "  3%|██                                                                             | 52/2010 [00:00<00:04, 471.60it/s]"
     ]
    },
    {
     "name": "stdout",
     "output_type": "stream",
     "text": [
      "episode : 592 reward : 120.44321211966788\n",
      "total test reward=284.4013090764066\n"
     ]
    },
    {
     "name": "stderr",
     "output_type": "stream",
     "text": [
      "100%|█████████████████████████████████████████████████████████████████████████████| 2010/2010 [00:03<00:00, 508.46it/s]\n",
      "  3%|██                                                                             | 53/2010 [00:00<00:03, 526.16it/s]"
     ]
    },
    {
     "name": "stdout",
     "output_type": "stream",
     "text": [
      "episode : 593 reward : 162.1255447940402\n",
      "total test reward=304.0320617694079\n"
     ]
    },
    {
     "name": "stderr",
     "output_type": "stream",
     "text": [
      "100%|█████████████████████████████████████████████████████████████████████████████| 2010/2010 [00:03<00:00, 508.93it/s]\n",
      "  2%|█▉                                                                             | 49/2010 [00:00<00:04, 466.43it/s]"
     ]
    },
    {
     "name": "stdout",
     "output_type": "stream",
     "text": [
      "episode : 594 reward : 213.01559096218125\n",
      "total test reward=280.4496332766994\n"
     ]
    },
    {
     "name": "stderr",
     "output_type": "stream",
     "text": [
      "100%|█████████████████████████████████████████████████████████████████████████████| 2010/2010 [00:03<00:00, 512.54it/s]\n",
      "  3%|██                                                                             | 53/2010 [00:00<00:03, 499.46it/s]"
     ]
    },
    {
     "name": "stdout",
     "output_type": "stream",
     "text": [
      "episode : 595 reward : 165.13206038588578\n",
      "total test reward=312.56447314839625\n"
     ]
    },
    {
     "name": "stderr",
     "output_type": "stream",
     "text": [
      "100%|█████████████████████████████████████████████████████████████████████████████| 2010/2010 [00:03<00:00, 503.39it/s]\n",
      "  3%|██                                                                             | 51/2010 [00:00<00:03, 501.50it/s]"
     ]
    },
    {
     "name": "stdout",
     "output_type": "stream",
     "text": [
      "episode : 596 reward : 1.3826151775531001\n",
      "total test reward=263.8839088343855\n"
     ]
    },
    {
     "name": "stderr",
     "output_type": "stream",
     "text": [
      "100%|█████████████████████████████████████████████████████████████████████████████| 2010/2010 [00:04<00:00, 500.97it/s]\n",
      "  2%|█▊                                                                             | 45/2010 [00:00<00:04, 446.04it/s]"
     ]
    },
    {
     "name": "stdout",
     "output_type": "stream",
     "text": [
      "episode : 597 reward : 38.13787923588455\n",
      "total test reward=313.3864108695144\n"
     ]
    },
    {
     "name": "stderr",
     "output_type": "stream",
     "text": [
      "100%|█████████████████████████████████████████████████████████████████████████████| 2010/2010 [00:04<00:00, 498.93it/s]\n",
      "  2%|█▋                                                                             | 42/2010 [00:00<00:04, 413.42it/s]"
     ]
    },
    {
     "name": "stdout",
     "output_type": "stream",
     "text": [
      "episode : 598 reward : 105.9493431196374\n",
      "total test reward=313.34298562904223\n"
     ]
    },
    {
     "name": "stderr",
     "output_type": "stream",
     "text": [
      "100%|█████████████████████████████████████████████████████████████████████████████| 2010/2010 [00:03<00:00, 510.28it/s]\n",
      "  3%|██                                                                             | 51/2010 [00:00<00:04, 467.95it/s]"
     ]
    },
    {
     "name": "stdout",
     "output_type": "stream",
     "text": [
      "episode : 599 reward : 153.0073879590075\n",
      "total test reward=288.04590379664126\n"
     ]
    },
    {
     "name": "stderr",
     "output_type": "stream",
     "text": [
      "100%|█████████████████████████████████████████████████████████████████████████████| 2010/2010 [00:03<00:00, 508.49it/s]\n",
      "  2%|█▋                                                                             | 43/2010 [00:00<00:04, 407.17it/s]"
     ]
    },
    {
     "name": "stdout",
     "output_type": "stream",
     "text": [
      "episode : 600 reward : 67.29018990501937\n",
      "total test reward=277.26519430285447\n"
     ]
    },
    {
     "name": "stderr",
     "output_type": "stream",
     "text": [
      "100%|█████████████████████████████████████████████████████████████████████████████| 2010/2010 [00:04<00:00, 482.35it/s]\n",
      "  2%|█▉                                                                             | 50/2010 [00:00<00:04, 445.97it/s]"
     ]
    },
    {
     "name": "stdout",
     "output_type": "stream",
     "text": [
      "episode : 601 reward : 191.31877273649206\n",
      "total test reward=313.9005377892769\n"
     ]
    },
    {
     "name": "stderr",
     "output_type": "stream",
     "text": [
      "100%|█████████████████████████████████████████████████████████████████████████████| 2010/2010 [00:04<00:00, 477.48it/s]\n",
      "  2%|█▊                                                                             | 45/2010 [00:00<00:04, 409.77it/s]"
     ]
    },
    {
     "name": "stdout",
     "output_type": "stream",
     "text": [
      "episode : 602 reward : 48.22344462748471\n",
      "total test reward=315.0956817544162\n"
     ]
    },
    {
     "name": "stderr",
     "output_type": "stream",
     "text": [
      "100%|█████████████████████████████████████████████████████████████████████████████| 2010/2010 [00:04<00:00, 497.38it/s]\n",
      "  3%|██                                                                             | 53/2010 [00:00<00:04, 486.52it/s]"
     ]
    },
    {
     "name": "stdout",
     "output_type": "stream",
     "text": [
      "episode : 603 reward : 58.509750816004974\n",
      "total test reward=313.6500289616111\n"
     ]
    },
    {
     "name": "stderr",
     "output_type": "stream",
     "text": [
      "100%|█████████████████████████████████████████████████████████████████████████████| 2010/2010 [00:04<00:00, 490.56it/s]\n",
      "  2%|█▉                                                                             | 49/2010 [00:00<00:04, 461.59it/s]"
     ]
    },
    {
     "name": "stdout",
     "output_type": "stream",
     "text": [
      "episode : 604 reward : 21.41898201801254\n",
      "total test reward=313.89332835298626\n"
     ]
    },
    {
     "name": "stderr",
     "output_type": "stream",
     "text": [
      "100%|█████████████████████████████████████████████████████████████████████████████| 2010/2010 [00:04<00:00, 489.63it/s]\n",
      "  2%|█▉                                                                             | 48/2010 [00:00<00:04, 422.61it/s]"
     ]
    },
    {
     "name": "stdout",
     "output_type": "stream",
     "text": [
      "episode : 605 reward : 231.47422838239228\n",
      "total test reward=315.00948533595334\n"
     ]
    },
    {
     "name": "stderr",
     "output_type": "stream",
     "text": [
      "100%|█████████████████████████████████████████████████████████████████████████████| 2010/2010 [00:04<00:00, 487.72it/s]\n",
      "  2%|█▉                                                                             | 48/2010 [00:00<00:04, 463.79it/s]"
     ]
    },
    {
     "name": "stdout",
     "output_type": "stream",
     "text": [
      "episode : 606 reward : 299.6821658331881\n",
      "total test reward=314.4369309623818\n"
     ]
    },
    {
     "name": "stderr",
     "output_type": "stream",
     "text": [
      "100%|█████████████████████████████████████████████████████████████████████████████| 2010/2010 [00:04<00:00, 495.44it/s]\n",
      "  2%|█▉                                                                             | 48/2010 [00:00<00:04, 476.52it/s]"
     ]
    },
    {
     "name": "stdout",
     "output_type": "stream",
     "text": [
      "episode : 607 reward : 181.5810761763845\n",
      "total test reward=284.26655419417983\n"
     ]
    },
    {
     "name": "stderr",
     "output_type": "stream",
     "text": [
      "100%|█████████████████████████████████████████████████████████████████████████████| 2010/2010 [00:04<00:00, 488.30it/s]\n",
      "  2%|█▉                                                                             | 49/2010 [00:00<00:04, 486.44it/s]"
     ]
    },
    {
     "name": "stdout",
     "output_type": "stream",
     "text": [
      "episode : 608 reward : 227.0563130839116\n",
      "total test reward=314.16548787124356\n"
     ]
    },
    {
     "name": "stderr",
     "output_type": "stream",
     "text": [
      "100%|█████████████████████████████████████████████████████████████████████████████| 2010/2010 [00:04<00:00, 481.18it/s]\n",
      "  2%|█▉                                                                             | 49/2010 [00:00<00:04, 481.67it/s]"
     ]
    },
    {
     "name": "stdout",
     "output_type": "stream",
     "text": [
      "episode : 609 reward : 129.62532769048363\n",
      "total test reward=312.8415791063859\n"
     ]
    },
    {
     "name": "stderr",
     "output_type": "stream",
     "text": [
      "100%|█████████████████████████████████████████████████████████████████████████████| 2010/2010 [00:04<00:00, 457.28it/s]\n",
      "  2%|█▉                                                                             | 50/2010 [00:00<00:04, 433.49it/s]"
     ]
    },
    {
     "name": "stdout",
     "output_type": "stream",
     "text": [
      "episode : 610 reward : 75.08865807691913\n",
      "total test reward=312.6239036447649\n"
     ]
    },
    {
     "name": "stderr",
     "output_type": "stream",
     "text": [
      "100%|█████████████████████████████████████████████████████████████████████████████| 2010/2010 [00:04<00:00, 470.97it/s]\n",
      "  2%|█▍                                                                             | 35/2010 [00:00<00:05, 340.71it/s]"
     ]
    },
    {
     "name": "stdout",
     "output_type": "stream",
     "text": [
      "episode : 611 reward : 300.06283749066716\n",
      "total test reward=312.5059904734177\n"
     ]
    },
    {
     "name": "stderr",
     "output_type": "stream",
     "text": [
      "100%|█████████████████████████████████████████████████████████████████████████████| 2010/2010 [00:04<00:00, 439.81it/s]\n",
      "  2%|█▊                                                                             | 45/2010 [00:00<00:04, 446.51it/s]"
     ]
    },
    {
     "name": "stdout",
     "output_type": "stream",
     "text": [
      "episode : 612 reward : 105.11384441313923\n",
      "total test reward=312.63833559282705\n"
     ]
    },
    {
     "name": "stderr",
     "output_type": "stream",
     "text": [
      "100%|█████████████████████████████████████████████████████████████████████████████| 2010/2010 [00:04<00:00, 464.00it/s]\n",
      "  2%|█▊                                                                             | 46/2010 [00:00<00:04, 452.33it/s]"
     ]
    },
    {
     "name": "stdout",
     "output_type": "stream",
     "text": [
      "episode : 613 reward : 176.40092064009477\n",
      "total test reward=313.2698776944766\n"
     ]
    },
    {
     "name": "stderr",
     "output_type": "stream",
     "text": [
      "100%|█████████████████████████████████████████████████████████████████████████████| 2010/2010 [00:04<00:00, 479.23it/s]\n",
      "  2%|█▊                                                                             | 47/2010 [00:00<00:04, 466.59it/s]"
     ]
    },
    {
     "name": "stdout",
     "output_type": "stream",
     "text": [
      "episode : 614 reward : 278.5841203122144\n",
      "total test reward=254.53492821211677\n"
     ]
    },
    {
     "name": "stderr",
     "output_type": "stream",
     "text": [
      "100%|█████████████████████████████████████████████████████████████████████████████| 2010/2010 [00:04<00:00, 469.39it/s]\n",
      "  2%|█▉                                                                             | 50/2010 [00:00<00:03, 496.37it/s]"
     ]
    },
    {
     "name": "stdout",
     "output_type": "stream",
     "text": [
      "episode : 615 reward : 162.88694435061393\n",
      "total test reward=312.8183339395073\n"
     ]
    },
    {
     "name": "stderr",
     "output_type": "stream",
     "text": [
      "100%|█████████████████████████████████████████████████████████████████████████████| 2010/2010 [00:04<00:00, 480.05it/s]\n",
      "  2%|█▊                                                                             | 45/2010 [00:00<00:04, 421.21it/s]"
     ]
    },
    {
     "name": "stdout",
     "output_type": "stream",
     "text": [
      "episode : 616 reward : -9.056965966602633\n",
      "total test reward=220.18630389577447\n"
     ]
    },
    {
     "name": "stderr",
     "output_type": "stream",
     "text": [
      "100%|█████████████████████████████████████████████████████████████████████████████| 2010/2010 [00:04<00:00, 479.79it/s]\n",
      "  2%|█▉                                                                             | 48/2010 [00:00<00:04, 476.52it/s]"
     ]
    },
    {
     "name": "stdout",
     "output_type": "stream",
     "text": [
      "episode : 617 reward : 171.03813946741693\n",
      "total test reward=312.9338471725401\n"
     ]
    },
    {
     "name": "stderr",
     "output_type": "stream",
     "text": [
      "100%|█████████████████████████████████████████████████████████████████████████████| 2010/2010 [00:04<00:00, 474.15it/s]\n",
      "  2%|█▋                                                                             | 44/2010 [00:00<00:04, 428.36it/s]"
     ]
    },
    {
     "name": "stdout",
     "output_type": "stream",
     "text": [
      "episode : 618 reward : 163.30666143888243\n",
      "total test reward=313.55916108502595\n"
     ]
    },
    {
     "name": "stderr",
     "output_type": "stream",
     "text": [
      "100%|█████████████████████████████████████████████████████████████████████████████| 2010/2010 [00:04<00:00, 462.18it/s]\n",
      "  2%|█▊                                                                             | 47/2010 [00:00<00:04, 466.59it/s]"
     ]
    },
    {
     "name": "stdout",
     "output_type": "stream",
     "text": [
      "episode : 619 reward : 145.94350970426663\n",
      "total test reward=313.1642400965426\n"
     ]
    },
    {
     "name": "stderr",
     "output_type": "stream",
     "text": [
      "100%|█████████████████████████████████████████████████████████████████████████████| 2010/2010 [00:04<00:00, 468.15it/s]\n",
      "  2%|█▉                                                                             | 50/2010 [00:00<00:03, 496.14it/s]"
     ]
    },
    {
     "name": "stdout",
     "output_type": "stream",
     "text": [
      "episode : 620 reward : 93.21592675972644\n",
      "total test reward=312.01893643503354\n"
     ]
    },
    {
     "name": "stderr",
     "output_type": "stream",
     "text": [
      "100%|█████████████████████████████████████████████████████████████████████████████| 2010/2010 [00:04<00:00, 471.54it/s]\n",
      "  3%|██                                                                             | 52/2010 [00:00<00:04, 469.04it/s]"
     ]
    },
    {
     "name": "stdout",
     "output_type": "stream",
     "text": [
      "episode : 621 reward : 18.40892180090259\n",
      "total test reward=312.9312274312004\n"
     ]
    },
    {
     "name": "stderr",
     "output_type": "stream",
     "text": [
      "100%|█████████████████████████████████████████████████████████████████████████████| 2010/2010 [00:04<00:00, 459.49it/s]\n",
      "  2%|█▊                                                                             | 45/2010 [00:00<00:04, 442.36it/s]"
     ]
    },
    {
     "name": "stdout",
     "output_type": "stream",
     "text": [
      "episode : 622 reward : 80.33484873232945\n",
      "total test reward=312.5190366208806\n"
     ]
    },
    {
     "name": "stderr",
     "output_type": "stream",
     "text": [
      "100%|█████████████████████████████████████████████████████████████████████████████| 2010/2010 [00:04<00:00, 465.82it/s]\n",
      "  3%|██                                                                             | 51/2010 [00:00<00:04, 460.57it/s]"
     ]
    },
    {
     "name": "stdout",
     "output_type": "stream",
     "text": [
      "episode : 623 reward : 266.22067120069136\n",
      "total test reward=311.9667274905462\n"
     ]
    },
    {
     "name": "stderr",
     "output_type": "stream",
     "text": [
      "100%|█████████████████████████████████████████████████████████████████████████████| 2010/2010 [00:04<00:00, 453.01it/s]\n",
      "  2%|█▊                                                                             | 46/2010 [00:00<00:04, 452.05it/s]"
     ]
    },
    {
     "name": "stdout",
     "output_type": "stream",
     "text": [
      "episode : 624 reward : 218.5698292134144\n",
      "total test reward=311.8763975997722\n"
     ]
    },
    {
     "name": "stderr",
     "output_type": "stream",
     "text": [
      "100%|█████████████████████████████████████████████████████████████████████████████| 2010/2010 [00:04<00:00, 464.85it/s]\n",
      "  4%|███▍                                                                           | 86/2010 [00:00<00:04, 404.59it/s]"
     ]
    },
    {
     "name": "stdout",
     "output_type": "stream",
     "text": [
      "episode : 625 reward : 299.51806715418866\n",
      "total test reward=312.8307491452315\n"
     ]
    },
    {
     "name": "stderr",
     "output_type": "stream",
     "text": [
      "100%|█████████████████████████████████████████████████████████████████████████████| 2010/2010 [00:04<00:00, 458.42it/s]\n",
      "  2%|█▊                                                                             | 46/2010 [00:00<00:04, 456.66it/s]"
     ]
    },
    {
     "name": "stdout",
     "output_type": "stream",
     "text": [
      "episode : 626 reward : 57.123739757635725\n",
      "total test reward=310.97846562736856\n"
     ]
    },
    {
     "name": "stderr",
     "output_type": "stream",
     "text": [
      "100%|█████████████████████████████████████████████████████████████████████████████| 2010/2010 [00:04<00:00, 469.63it/s]\n",
      "  2%|█▉                                                                             | 48/2010 [00:00<00:04, 415.93it/s]"
     ]
    },
    {
     "name": "stdout",
     "output_type": "stream",
     "text": [
      "episode : 627 reward : 95.06130477541357\n",
      "total test reward=309.21133890566136\n"
     ]
    },
    {
     "name": "stderr",
     "output_type": "stream",
     "text": [
      "100%|█████████████████████████████████████████████████████████████████████████████| 2010/2010 [00:04<00:00, 452.53it/s]\n",
      "  2%|█▊                                                                             | 47/2010 [00:00<00:04, 466.67it/s]"
     ]
    },
    {
     "name": "stdout",
     "output_type": "stream",
     "text": [
      "episode : 628 reward : 300.8644890247792\n",
      "total test reward=311.9293114016811\n"
     ]
    },
    {
     "name": "stderr",
     "output_type": "stream",
     "text": [
      "100%|█████████████████████████████████████████████████████████████████████████████| 2010/2010 [00:04<00:00, 466.36it/s]\n",
      "  2%|█▉                                                                             | 48/2010 [00:00<00:04, 471.99it/s]"
     ]
    },
    {
     "name": "stdout",
     "output_type": "stream",
     "text": [
      "episode : 629 reward : 206.3805473083252\n",
      "total test reward=313.04152327384725\n"
     ]
    },
    {
     "name": "stderr",
     "output_type": "stream",
     "text": [
      "100%|█████████████████████████████████████████████████████████████████████████████| 2010/2010 [00:04<00:00, 438.67it/s]\n",
      "  2%|█▊                                                                             | 47/2010 [00:00<00:04, 461.87it/s]"
     ]
    },
    {
     "name": "stdout",
     "output_type": "stream",
     "text": [
      "episode : 630 reward : 25.37745960492453\n",
      "total test reward=313.2073856623417\n"
     ]
    },
    {
     "name": "stderr",
     "output_type": "stream",
     "text": [
      "100%|█████████████████████████████████████████████████████████████████████████████| 2010/2010 [00:04<00:00, 463.09it/s]\n",
      "  2%|█▋                                                                             | 43/2010 [00:00<00:04, 394.44it/s]"
     ]
    },
    {
     "name": "stdout",
     "output_type": "stream",
     "text": [
      "episode : 631 reward : 35.904029825558375\n",
      "total test reward=312.6600070318318\n"
     ]
    },
    {
     "name": "stderr",
     "output_type": "stream",
     "text": [
      "100%|█████████████████████████████████████████████████████████████████████████████| 2010/2010 [00:04<00:00, 474.99it/s]\n",
      "  2%|█▉                                                                             | 48/2010 [00:00<00:04, 471.68it/s]"
     ]
    },
    {
     "name": "stdout",
     "output_type": "stream",
     "text": [
      "episode : 632 reward : 60.88494767528852\n",
      "total test reward=313.3346622411681\n"
     ]
    },
    {
     "name": "stderr",
     "output_type": "stream",
     "text": [
      "100%|█████████████████████████████████████████████████████████████████████████████| 2010/2010 [00:04<00:00, 471.00it/s]\n",
      "  3%|██                                                                             | 51/2010 [00:00<00:03, 506.31it/s]"
     ]
    },
    {
     "name": "stdout",
     "output_type": "stream",
     "text": [
      "episode : 633 reward : 298.5143910180217\n",
      "total test reward=313.01175363703214\n"
     ]
    },
    {
     "name": "stderr",
     "output_type": "stream",
     "text": [
      "100%|█████████████████████████████████████████████████████████████████████████████| 2010/2010 [00:04<00:00, 471.61it/s]\n",
      "  2%|█▊                                                                             | 45/2010 [00:00<00:04, 442.36it/s]"
     ]
    },
    {
     "name": "stdout",
     "output_type": "stream",
     "text": [
      "episode : 634 reward : 125.4265811021649\n",
      "total test reward=314.13745272205995\n"
     ]
    },
    {
     "name": "stderr",
     "output_type": "stream",
     "text": [
      "100%|█████████████████████████████████████████████████████████████████████████████| 2010/2010 [00:04<00:00, 476.39it/s]\n",
      "  4%|███▎                                                                           | 84/2010 [00:00<00:04, 414.17it/s]"
     ]
    },
    {
     "name": "stdout",
     "output_type": "stream",
     "text": [
      "episode : 635 reward : 272.7419791347602\n",
      "total test reward=312.9842739906996\n"
     ]
    },
    {
     "name": "stderr",
     "output_type": "stream",
     "text": [
      "100%|█████████████████████████████████████████████████████████████████████████████| 2010/2010 [00:04<00:00, 466.81it/s]\n",
      "  2%|█▉                                                                             | 50/2010 [00:00<00:04, 486.74it/s]"
     ]
    },
    {
     "name": "stdout",
     "output_type": "stream",
     "text": [
      "episode : 636 reward : 80.36832201851954\n",
      "total test reward=311.89233965097924\n"
     ]
    },
    {
     "name": "stderr",
     "output_type": "stream",
     "text": [
      "100%|█████████████████████████████████████████████████████████████████████████████| 2010/2010 [00:04<00:00, 482.64it/s]\n",
      "  2%|█▊                                                                             | 47/2010 [00:00<00:04, 466.78it/s]"
     ]
    },
    {
     "name": "stdout",
     "output_type": "stream",
     "text": [
      "episode : 637 reward : 300.4571330139685\n",
      "total test reward=311.2991639041793\n"
     ]
    },
    {
     "name": "stderr",
     "output_type": "stream",
     "text": [
      "100%|█████████████████████████████████████████████████████████████████████████████| 2010/2010 [00:04<00:00, 468.81it/s]\n",
      "  2%|█▊                                                                             | 47/2010 [00:00<00:04, 457.57it/s]"
     ]
    },
    {
     "name": "stdout",
     "output_type": "stream",
     "text": [
      "episode : 638 reward : 188.50024982776904\n",
      "total test reward=312.18651957124155\n"
     ]
    },
    {
     "name": "stderr",
     "output_type": "stream",
     "text": [
      "100%|█████████████████████████████████████████████████████████████████████████████| 2010/2010 [00:04<00:00, 470.27it/s]\n",
      "  2%|█▋                                                                             | 44/2010 [00:00<00:04, 436.85it/s]"
     ]
    },
    {
     "name": "stdout",
     "output_type": "stream",
     "text": [
      "episode : 639 reward : 273.1084770361895\n",
      "total test reward=310.8227218852462\n"
     ]
    },
    {
     "name": "stderr",
     "output_type": "stream",
     "text": [
      "100%|█████████████████████████████████████████████████████████████████████████████| 2010/2010 [00:04<00:00, 475.03it/s]\n",
      "  2%|█▋                                                                             | 43/2010 [00:00<00:04, 427.02it/s]"
     ]
    },
    {
     "name": "stdout",
     "output_type": "stream",
     "text": [
      "episode : 640 reward : 68.90730715334382\n",
      "total test reward=311.386612043897\n"
     ]
    },
    {
     "name": "stderr",
     "output_type": "stream",
     "text": [
      "100%|█████████████████████████████████████████████████████████████████████████████| 2010/2010 [00:04<00:00, 477.00it/s]\n",
      "  2%|█▊                                                                             | 47/2010 [00:00<00:04, 446.49it/s]"
     ]
    },
    {
     "name": "stdout",
     "output_type": "stream",
     "text": [
      "episode : 641 reward : 214.53490734220833\n",
      "total test reward=311.17631438760714\n"
     ]
    },
    {
     "name": "stderr",
     "output_type": "stream",
     "text": [
      "100%|█████████████████████████████████████████████████████████████████████████████| 2010/2010 [00:04<00:00, 464.74it/s]\n",
      "  2%|█▉                                                                             | 49/2010 [00:00<00:04, 481.68it/s]"
     ]
    },
    {
     "name": "stdout",
     "output_type": "stream",
     "text": [
      "episode : 642 reward : 17.35031483781494\n",
      "total test reward=310.0746676084009\n"
     ]
    },
    {
     "name": "stderr",
     "output_type": "stream",
     "text": [
      "100%|█████████████████████████████████████████████████████████████████████████████| 2010/2010 [00:04<00:00, 476.80it/s]\n",
      "  2%|█▊                                                                             | 46/2010 [00:00<00:04, 456.66it/s]"
     ]
    },
    {
     "name": "stdout",
     "output_type": "stream",
     "text": [
      "episode : 643 reward : 28.907751665091634\n",
      "total test reward=309.09333946842696\n"
     ]
    },
    {
     "name": "stderr",
     "output_type": "stream",
     "text": [
      "100%|█████████████████████████████████████████████████████████████████████████████| 2010/2010 [00:04<00:00, 474.18it/s]\n",
      "  2%|█▋                                                                             | 43/2010 [00:00<00:04, 421.33it/s]"
     ]
    },
    {
     "name": "stdout",
     "output_type": "stream",
     "text": [
      "episode : 644 reward : 265.04488571712\n",
      "total test reward=309.47141656821884\n"
     ]
    },
    {
     "name": "stderr",
     "output_type": "stream",
     "text": [
      "100%|█████████████████████████████████████████████████████████████████████████████| 2010/2010 [00:04<00:00, 473.63it/s]\n",
      "  2%|█▊                                                                             | 47/2010 [00:00<00:04, 457.52it/s]"
     ]
    },
    {
     "name": "stdout",
     "output_type": "stream",
     "text": [
      "episode : 645 reward : 233.39941922748412\n",
      "total test reward=309.7411721006399\n"
     ]
    },
    {
     "name": "stderr",
     "output_type": "stream",
     "text": [
      "100%|█████████████████████████████████████████████████████████████████████████████| 2010/2010 [00:04<00:00, 476.19it/s]\n",
      "  2%|█▊                                                                             | 46/2010 [00:00<00:04, 452.03it/s]"
     ]
    },
    {
     "name": "stdout",
     "output_type": "stream",
     "text": [
      "episode : 646 reward : 125.33566468640518\n",
      "total test reward=309.0672264917729\n"
     ]
    },
    {
     "name": "stderr",
     "output_type": "stream",
     "text": [
      "100%|█████████████████████████████████████████████████████████████████████████████| 2010/2010 [00:04<00:00, 474.53it/s]\n",
      "  3%|██                                                                             | 51/2010 [00:00<00:03, 506.30it/s]"
     ]
    },
    {
     "name": "stdout",
     "output_type": "stream",
     "text": [
      "episode : 647 reward : 201.86854043734795\n",
      "total test reward=308.73355351117846\n"
     ]
    },
    {
     "name": "stderr",
     "output_type": "stream",
     "text": [
      "100%|█████████████████████████████████████████████████████████████████████████████| 2010/2010 [00:04<00:00, 483.14it/s]\n",
      "  2%|█▌                                                                             | 41/2010 [00:00<00:04, 403.16it/s]"
     ]
    },
    {
     "name": "stdout",
     "output_type": "stream",
     "text": [
      "episode : 648 reward : 197.8666166191851\n",
      "total test reward=307.5416267661743\n"
     ]
    },
    {
     "name": "stderr",
     "output_type": "stream",
     "text": [
      "100%|█████████████████████████████████████████████████████████████████████████████| 2010/2010 [00:04<00:00, 467.11it/s]\n",
      "  2%|█▌                                                                             | 39/2010 [00:00<00:05, 357.17it/s]"
     ]
    },
    {
     "name": "stdout",
     "output_type": "stream",
     "text": [
      "episode : 649 reward : 85.74970158713785\n",
      "total test reward=308.48630437463993\n"
     ]
    },
    {
     "name": "stderr",
     "output_type": "stream",
     "text": [
      "100%|█████████████████████████████████████████████████████████████████████████████| 2010/2010 [00:04<00:00, 457.06it/s]\n",
      "  2%|█▉                                                                             | 48/2010 [00:00<00:04, 471.85it/s]"
     ]
    },
    {
     "name": "stdout",
     "output_type": "stream",
     "text": [
      "episode : 650 reward : 190.49770027230102\n",
      "total test reward=306.03262517169856\n"
     ]
    },
    {
     "name": "stderr",
     "output_type": "stream",
     "text": [
      "100%|█████████████████████████████████████████████████████████████████████████████| 2010/2010 [00:04<00:00, 475.09it/s]\n",
      "  2%|█▊                                                                             | 45/2010 [00:00<00:04, 446.58it/s]"
     ]
    },
    {
     "name": "stdout",
     "output_type": "stream",
     "text": [
      "episode : 651 reward : 98.91498076407713\n",
      "total test reward=306.9996784452121\n"
     ]
    },
    {
     "name": "stderr",
     "output_type": "stream",
     "text": [
      "100%|█████████████████████████████████████████████████████████████████████████████| 2010/2010 [00:04<00:00, 483.03it/s]\n",
      "  5%|███▋                                                                           | 95/2010 [00:00<00:04, 474.21it/s]"
     ]
    },
    {
     "name": "stdout",
     "output_type": "stream",
     "text": [
      "episode : 652 reward : 59.24372368509189\n",
      "total test reward=308.13035542134315\n"
     ]
    },
    {
     "name": "stderr",
     "output_type": "stream",
     "text": [
      "100%|█████████████████████████████████████████████████████████████████████████████| 2010/2010 [00:04<00:00, 475.40it/s]\n",
      "  2%|█▋                                                                             | 43/2010 [00:00<00:04, 395.49it/s]"
     ]
    },
    {
     "name": "stdout",
     "output_type": "stream",
     "text": [
      "episode : 653 reward : 220.48258004689117\n",
      "total test reward=307.5977159344019\n"
     ]
    },
    {
     "name": "stderr",
     "output_type": "stream",
     "text": [
      "100%|█████████████████████████████████████████████████████████████████████████████| 2010/2010 [00:04<00:00, 465.99it/s]\n",
      "  2%|█▊                                                                             | 47/2010 [00:00<00:04, 466.59it/s]"
     ]
    },
    {
     "name": "stdout",
     "output_type": "stream",
     "text": [
      "episode : 654 reward : 85.50020178546622\n",
      "total test reward=309.22040414498565\n"
     ]
    },
    {
     "name": "stderr",
     "output_type": "stream",
     "text": [
      "100%|█████████████████████████████████████████████████████████████████████████████| 2010/2010 [00:04<00:00, 479.89it/s]\n",
      "  2%|█▊                                                                             | 45/2010 [00:00<00:04, 424.36it/s]"
     ]
    },
    {
     "name": "stdout",
     "output_type": "stream",
     "text": [
      "episode : 655 reward : 202.10232937123567\n",
      "total test reward=307.79447860533793\n"
     ]
    },
    {
     "name": "stderr",
     "output_type": "stream",
     "text": [
      "100%|█████████████████████████████████████████████████████████████████████████████| 2010/2010 [00:04<00:00, 477.36it/s]\n",
      "  2%|█▉                                                                             | 49/2010 [00:00<00:04, 468.91it/s]"
     ]
    },
    {
     "name": "stdout",
     "output_type": "stream",
     "text": [
      "episode : 656 reward : 88.41132602072008\n",
      "total test reward=309.18464040015647\n"
     ]
    },
    {
     "name": "stderr",
     "output_type": "stream",
     "text": [
      "100%|█████████████████████████████████████████████████████████████████████████████| 2010/2010 [00:04<00:00, 479.93it/s]\n",
      "  3%|██                                                                             | 51/2010 [00:00<00:04, 443.04it/s]"
     ]
    },
    {
     "name": "stdout",
     "output_type": "stream",
     "text": [
      "episode : 657 reward : 17.189358119562375\n",
      "total test reward=308.74091752834346\n"
     ]
    },
    {
     "name": "stderr",
     "output_type": "stream",
     "text": [
      "100%|█████████████████████████████████████████████████████████████████████████████| 2010/2010 [00:04<00:00, 471.99it/s]\n",
      "  2%|█▉                                                                             | 49/2010 [00:00<00:04, 486.55it/s]"
     ]
    },
    {
     "name": "stdout",
     "output_type": "stream",
     "text": [
      "episode : 658 reward : 64.92316200802252\n",
      "total test reward=308.3854004259144\n"
     ]
    },
    {
     "name": "stderr",
     "output_type": "stream",
     "text": [
      "100%|█████████████████████████████████████████████████████████████████████████████| 2010/2010 [00:04<00:00, 478.75it/s]\n",
      "  3%|██                                                                             | 52/2010 [00:00<00:03, 511.17it/s]"
     ]
    },
    {
     "name": "stdout",
     "output_type": "stream",
     "text": [
      "episode : 659 reward : 123.1857137899803\n",
      "total test reward=307.30204667211717\n"
     ]
    },
    {
     "name": "stderr",
     "output_type": "stream",
     "text": [
      "100%|█████████████████████████████████████████████████████████████████████████████| 2010/2010 [00:04<00:00, 470.10it/s]\n",
      "  2%|█▊                                                                             | 47/2010 [00:00<00:04, 466.59it/s]"
     ]
    },
    {
     "name": "stdout",
     "output_type": "stream",
     "text": [
      "episode : 660 reward : -6.505585285210505\n",
      "total test reward=308.3427646380218\n"
     ]
    },
    {
     "name": "stderr",
     "output_type": "stream",
     "text": [
      "100%|█████████████████████████████████████████████████████████████████████████████| 2010/2010 [00:04<00:00, 477.88it/s]\n",
      "  2%|█▌                                                                             | 41/2010 [00:00<00:04, 403.14it/s]"
     ]
    },
    {
     "name": "stdout",
     "output_type": "stream",
     "text": [
      "episode : 661 reward : 70.87949925137303\n",
      "total test reward=309.1290215315497\n"
     ]
    },
    {
     "name": "stderr",
     "output_type": "stream",
     "text": [
      "100%|█████████████████████████████████████████████████████████████████████████████| 2010/2010 [00:04<00:00, 452.61it/s]\n",
      "  2%|█▊                                                                             | 47/2010 [00:00<00:04, 449.75it/s]"
     ]
    },
    {
     "name": "stdout",
     "output_type": "stream",
     "text": [
      "episode : 662 reward : 188.4777859962994\n",
      "total test reward=307.66290313907587\n"
     ]
    },
    {
     "name": "stderr",
     "output_type": "stream",
     "text": [
      "100%|█████████████████████████████████████████████████████████████████████████████| 2010/2010 [00:04<00:00, 476.33it/s]\n",
      "  2%|█▊                                                                             | 46/2010 [00:00<00:04, 452.05it/s]"
     ]
    },
    {
     "name": "stdout",
     "output_type": "stream",
     "text": [
      "episode : 663 reward : 202.2815694482775\n",
      "total test reward=292.5184167002966\n"
     ]
    },
    {
     "name": "stderr",
     "output_type": "stream",
     "text": [
      "100%|█████████████████████████████████████████████████████████████████████████████| 2010/2010 [00:04<00:00, 476.85it/s]\n",
      "  2%|█▉                                                                             | 49/2010 [00:00<00:04, 457.35it/s]"
     ]
    },
    {
     "name": "stdout",
     "output_type": "stream",
     "text": [
      "episode : 664 reward : 299.17106043384393\n",
      "total test reward=292.07471679896906\n"
     ]
    },
    {
     "name": "stderr",
     "output_type": "stream",
     "text": [
      "100%|█████████████████████████████████████████████████████████████████████████████| 2010/2010 [00:04<00:00, 467.80it/s]\n",
      "  3%|██                                                                             | 51/2010 [00:00<00:03, 501.34it/s]"
     ]
    },
    {
     "name": "stdout",
     "output_type": "stream",
     "text": [
      "episode : 665 reward : 265.97189868372556\n",
      "total test reward=307.02798010654385\n"
     ]
    },
    {
     "name": "stderr",
     "output_type": "stream",
     "text": [
      "100%|█████████████████████████████████████████████████████████████████████████████| 2010/2010 [00:04<00:00, 473.29it/s]\n",
      "  2%|█▉                                                                             | 50/2010 [00:00<00:03, 491.51it/s]"
     ]
    },
    {
     "name": "stdout",
     "output_type": "stream",
     "text": [
      "episode : 666 reward : 39.36637588223927\n",
      "total test reward=308.3606359619909\n"
     ]
    },
    {
     "name": "stderr",
     "output_type": "stream",
     "text": [
      "100%|█████████████████████████████████████████████████████████████████████████████| 2010/2010 [00:04<00:00, 472.59it/s]\n",
      "  2%|█▉                                                                             | 48/2010 [00:00<00:04, 471.84it/s]"
     ]
    },
    {
     "name": "stdout",
     "output_type": "stream",
     "text": [
      "episode : 667 reward : 196.87327341589412\n",
      "total test reward=308.3042667356205\n"
     ]
    },
    {
     "name": "stderr",
     "output_type": "stream",
     "text": [
      "100%|█████████████████████████████████████████████████████████████████████████████| 2010/2010 [00:04<00:00, 478.10it/s]\n",
      "  2%|█▉                                                                             | 48/2010 [00:00<00:04, 447.96it/s]"
     ]
    },
    {
     "name": "stdout",
     "output_type": "stream",
     "text": [
      "episode : 668 reward : 54.13331174254108\n",
      "total test reward=283.61956179245965\n"
     ]
    },
    {
     "name": "stderr",
     "output_type": "stream",
     "text": [
      "100%|█████████████████████████████████████████████████████████████████████████████| 2010/2010 [00:04<00:00, 479.74it/s]\n",
      "  2%|█▋                                                                             | 44/2010 [00:00<00:04, 436.81it/s]"
     ]
    },
    {
     "name": "stdout",
     "output_type": "stream",
     "text": [
      "episode : 669 reward : 72.47898445538371\n",
      "total test reward=307.9328081531149\n"
     ]
    },
    {
     "name": "stderr",
     "output_type": "stream",
     "text": [
      "100%|█████████████████████████████████████████████████████████████████████████████| 2010/2010 [00:04<00:00, 459.69it/s]\n",
      "  5%|███▌                                                                           | 91/2010 [00:00<00:04, 448.68it/s]"
     ]
    },
    {
     "name": "stdout",
     "output_type": "stream",
     "text": [
      "episode : 670 reward : 94.27869321631275\n",
      "total test reward=306.69272775624387\n"
     ]
    },
    {
     "name": "stderr",
     "output_type": "stream",
     "text": [
      "100%|█████████████████████████████████████████████████████████████████████████████| 2010/2010 [00:04<00:00, 484.91it/s]\n",
      "  2%|█▊                                                                             | 46/2010 [00:00<00:04, 446.64it/s]"
     ]
    },
    {
     "name": "stdout",
     "output_type": "stream",
     "text": [
      "episode : 671 reward : 140.83385529843767\n",
      "total test reward=305.8974452742651\n"
     ]
    },
    {
     "name": "stderr",
     "output_type": "stream",
     "text": [
      "100%|█████████████████████████████████████████████████████████████████████████████| 2010/2010 [00:04<00:00, 499.80it/s]\n",
      "  2%|█▊                                                                             | 46/2010 [00:00<00:04, 449.84it/s]"
     ]
    },
    {
     "name": "stdout",
     "output_type": "stream",
     "text": [
      "episode : 672 reward : 163.01982987640002\n",
      "total test reward=307.10904973254674\n"
     ]
    },
    {
     "name": "stderr",
     "output_type": "stream",
     "text": [
      "100%|█████████████████████████████████████████████████████████████████████████████| 2010/2010 [00:03<00:00, 506.57it/s]\n",
      "  3%|██▎                                                                            | 58/2010 [00:00<00:03, 511.27it/s]"
     ]
    },
    {
     "name": "stdout",
     "output_type": "stream",
     "text": [
      "episode : 673 reward : 298.30251803618637\n",
      "total test reward=306.4035845882436\n"
     ]
    },
    {
     "name": "stderr",
     "output_type": "stream",
     "text": [
      "100%|█████████████████████████████████████████████████████████████████████████████| 2010/2010 [00:04<00:00, 490.34it/s]\n",
      "  0%|                                                                                         | 0/2010 [00:00<?, ?it/s]"
     ]
    },
    {
     "name": "stdout",
     "output_type": "stream",
     "text": [
      "episode : 674 reward : 258.33170788885286\n",
      "total test reward=306.80054655313916\n"
     ]
    },
    {
     "name": "stderr",
     "output_type": "stream",
     "text": [
      "100%|█████████████████████████████████████████████████████████████████████████████| 2010/2010 [00:04<00:00, 501.19it/s]\n",
      "  2%|█▋                                                                             | 43/2010 [00:00<00:04, 398.18it/s]"
     ]
    },
    {
     "name": "stdout",
     "output_type": "stream",
     "text": [
      "episode : 675 reward : 297.22441610876854\n",
      "total test reward=306.22006556688075\n"
     ]
    },
    {
     "name": "stderr",
     "output_type": "stream",
     "text": [
      "100%|█████████████████████████████████████████████████████████████████████████████| 2010/2010 [00:04<00:00, 500.05it/s]\n",
      "  3%|██                                                                             | 51/2010 [00:00<00:03, 492.79it/s]"
     ]
    },
    {
     "name": "stdout",
     "output_type": "stream",
     "text": [
      "episode : 676 reward : 167.60119741843678\n",
      "total test reward=304.8354532261939\n"
     ]
    },
    {
     "name": "stderr",
     "output_type": "stream",
     "text": [
      "100%|█████████████████████████████████████████████████████████████████████████████| 2010/2010 [00:03<00:00, 508.58it/s]\n",
      "  2%|█▉                                                                             | 49/2010 [00:00<00:04, 473.26it/s]"
     ]
    },
    {
     "name": "stdout",
     "output_type": "stream",
     "text": [
      "episode : 677 reward : 296.38793958025735\n",
      "total test reward=306.49066946004007\n"
     ]
    },
    {
     "name": "stderr",
     "output_type": "stream",
     "text": [
      "100%|█████████████████████████████████████████████████████████████████████████████| 2010/2010 [00:04<00:00, 490.61it/s]\n",
      "  3%|██                                                                             | 54/2010 [00:00<00:03, 536.09it/s]"
     ]
    },
    {
     "name": "stdout",
     "output_type": "stream",
     "text": [
      "episode : 678 reward : 178.38097939296037\n",
      "total test reward=307.12739516023106\n"
     ]
    },
    {
     "name": "stderr",
     "output_type": "stream",
     "text": [
      "100%|█████████████████████████████████████████████████████████████████████████████| 2010/2010 [00:03<00:00, 515.43it/s]\n",
      "  5%|████                                                                          | 105/2010 [00:00<00:03, 482.81it/s]"
     ]
    },
    {
     "name": "stdout",
     "output_type": "stream",
     "text": [
      "episode : 679 reward : 298.7207728405626\n",
      "total test reward=299.2310308003179\n"
     ]
    },
    {
     "name": "stderr",
     "output_type": "stream",
     "text": [
      "100%|█████████████████████████████████████████████████████████████████████████████| 2010/2010 [00:03<00:00, 516.13it/s]\n",
      "  3%|██                                                                             | 53/2010 [00:00<00:03, 513.49it/s]"
     ]
    },
    {
     "name": "stdout",
     "output_type": "stream",
     "text": [
      "episode : 680 reward : 167.1092261617933\n",
      "total test reward=306.48323401865315\n"
     ]
    },
    {
     "name": "stderr",
     "output_type": "stream",
     "text": [
      "100%|█████████████████████████████████████████████████████████████████████████████| 2010/2010 [00:03<00:00, 508.55it/s]\n",
      "  2%|█▉                                                                             | 48/2010 [00:00<00:04, 417.95it/s]"
     ]
    },
    {
     "name": "stdout",
     "output_type": "stream",
     "text": [
      "episode : 681 reward : 298.67865540145056\n",
      "total test reward=294.01854302136286\n"
     ]
    },
    {
     "name": "stderr",
     "output_type": "stream",
     "text": [
      "100%|█████████████████████████████████████████████████████████████████████████████| 2010/2010 [00:04<00:00, 490.08it/s]\n",
      "  3%|██                                                                             | 53/2010 [00:00<00:03, 516.07it/s]"
     ]
    },
    {
     "name": "stdout",
     "output_type": "stream",
     "text": [
      "episode : 682 reward : 299.26368527582423\n",
      "total test reward=307.75457053690843\n"
     ]
    },
    {
     "name": "stderr",
     "output_type": "stream",
     "text": [
      "100%|█████████████████████████████████████████████████████████████████████████████| 2010/2010 [00:03<00:00, 514.56it/s]\n",
      "  3%|██                                                                             | 52/2010 [00:00<00:03, 511.35it/s]"
     ]
    },
    {
     "name": "stdout",
     "output_type": "stream",
     "text": [
      "episode : 683 reward : -7.064513977671761\n",
      "total test reward=307.2941876124273\n"
     ]
    },
    {
     "name": "stderr",
     "output_type": "stream",
     "text": [
      "100%|█████████████████████████████████████████████████████████████████████████████| 2010/2010 [00:03<00:00, 509.75it/s]\n",
      "  2%|█▉                                                                             | 50/2010 [00:00<00:04, 449.08it/s]"
     ]
    },
    {
     "name": "stdout",
     "output_type": "stream",
     "text": [
      "episode : 684 reward : 299.27969705185427\n",
      "total test reward=294.37999451834264\n"
     ]
    },
    {
     "name": "stderr",
     "output_type": "stream",
     "text": [
      "100%|█████████████████████████████████████████████████████████████████████████████| 2010/2010 [00:03<00:00, 506.97it/s]\n",
      "  5%|███▋                                                                           | 93/2010 [00:00<00:04, 450.95it/s]"
     ]
    },
    {
     "name": "stdout",
     "output_type": "stream",
     "text": [
      "episode : 685 reward : 298.5686029056129\n",
      "total test reward=305.76312538245764\n"
     ]
    },
    {
     "name": "stderr",
     "output_type": "stream",
     "text": [
      "100%|█████████████████████████████████████████████████████████████████████████████| 2010/2010 [00:04<00:00, 490.60it/s]\n",
      "  3%|██▏                                                                            | 55/2010 [00:00<00:04, 482.72it/s]"
     ]
    },
    {
     "name": "stdout",
     "output_type": "stream",
     "text": [
      "episode : 686 reward : 42.728031777429166\n",
      "total test reward=307.6610366229114\n"
     ]
    },
    {
     "name": "stderr",
     "output_type": "stream",
     "text": [
      "100%|█████████████████████████████████████████████████████████████████████████████| 2010/2010 [00:03<00:00, 507.36it/s]\n",
      "  3%|██▏                                                                            | 55/2010 [00:00<00:03, 527.11it/s]"
     ]
    },
    {
     "name": "stdout",
     "output_type": "stream",
     "text": [
      "episode : 687 reward : 97.41409377918373\n",
      "total test reward=306.159948365061\n"
     ]
    },
    {
     "name": "stderr",
     "output_type": "stream",
     "text": [
      "100%|█████████████████████████████████████████████████████████████████████████████| 2010/2010 [00:03<00:00, 518.20it/s]\n",
      "  3%|██▏                                                                            | 55/2010 [00:00<00:03, 526.81it/s]"
     ]
    },
    {
     "name": "stdout",
     "output_type": "stream",
     "text": [
      "episode : 688 reward : 294.49411164482984\n",
      "total test reward=306.29410689409474\n"
     ]
    },
    {
     "name": "stderr",
     "output_type": "stream",
     "text": [
      "100%|█████████████████████████████████████████████████████████████████████████████| 2010/2010 [00:04<00:00, 449.64it/s]\n",
      "  2%|█▊                                                                             | 47/2010 [00:00<00:04, 449.10it/s]"
     ]
    },
    {
     "name": "stdout",
     "output_type": "stream",
     "text": [
      "episode : 689 reward : 57.9904561087856\n",
      "total test reward=305.21326436232187\n"
     ]
    },
    {
     "name": "stderr",
     "output_type": "stream",
     "text": [
      "100%|█████████████████████████████████████████████████████████████████████████████| 2010/2010 [00:04<00:00, 491.44it/s]\n",
      "  2%|█▉                                                                             | 49/2010 [00:00<00:04, 486.59it/s]"
     ]
    },
    {
     "name": "stdout",
     "output_type": "stream",
     "text": [
      "episode : 690 reward : 296.50819518217\n",
      "total test reward=305.5765157332544\n"
     ]
    },
    {
     "name": "stderr",
     "output_type": "stream",
     "text": [
      "100%|█████████████████████████████████████████████████████████████████████████████| 2010/2010 [00:04<00:00, 495.50it/s]\n",
      "  3%|██                                                                             | 52/2010 [00:00<00:03, 511.17it/s]"
     ]
    },
    {
     "name": "stdout",
     "output_type": "stream",
     "text": [
      "episode : 691 reward : 295.1470155743272\n",
      "total test reward=305.4423084440684\n"
     ]
    },
    {
     "name": "stderr",
     "output_type": "stream",
     "text": [
      "100%|█████████████████████████████████████████████████████████████████████████████| 2010/2010 [00:04<00:00, 492.21it/s]\n",
      "  2%|█▉                                                                             | 49/2010 [00:00<00:04, 481.51it/s]"
     ]
    },
    {
     "name": "stdout",
     "output_type": "stream",
     "text": [
      "episode : 692 reward : 160.8158822987203\n",
      "total test reward=304.15606428378015\n"
     ]
    },
    {
     "name": "stderr",
     "output_type": "stream",
     "text": [
      "100%|█████████████████████████████████████████████████████████████████████████████| 2010/2010 [00:04<00:00, 496.59it/s]\n",
      "  2%|█▉                                                                             | 50/2010 [00:00<00:03, 496.38it/s]"
     ]
    },
    {
     "name": "stdout",
     "output_type": "stream",
     "text": [
      "episode : 693 reward : 41.8349878815119\n",
      "total test reward=282.19820745804617\n"
     ]
    },
    {
     "name": "stderr",
     "output_type": "stream",
     "text": [
      "100%|█████████████████████████████████████████████████████████████████████████████| 2010/2010 [00:04<00:00, 483.83it/s]\n",
      "  3%|██                                                                             | 51/2010 [00:00<00:03, 506.30it/s]"
     ]
    },
    {
     "name": "stdout",
     "output_type": "stream",
     "text": [
      "episode : 694 reward : 53.956599774959166\n",
      "total test reward=304.771597019015\n"
     ]
    },
    {
     "name": "stderr",
     "output_type": "stream",
     "text": [
      "100%|█████████████████████████████████████████████████████████████████████████████| 2010/2010 [00:04<00:00, 494.00it/s]\n",
      "  2%|█▉                                                                             | 49/2010 [00:00<00:04, 476.81it/s]"
     ]
    },
    {
     "name": "stdout",
     "output_type": "stream",
     "text": [
      "episode : 695 reward : 227.85480642390004\n",
      "total test reward=306.0171490300777\n"
     ]
    },
    {
     "name": "stderr",
     "output_type": "stream",
     "text": [
      "100%|█████████████████████████████████████████████████████████████████████████████| 2010/2010 [00:04<00:00, 496.54it/s]\n",
      "  3%|██                                                                             | 51/2010 [00:00<00:03, 501.34it/s]"
     ]
    },
    {
     "name": "stdout",
     "output_type": "stream",
     "text": [
      "episode : 696 reward : 18.22250404725118\n",
      "total test reward=272.62927006623966\n"
     ]
    },
    {
     "name": "stderr",
     "output_type": "stream",
     "text": [
      "100%|█████████████████████████████████████████████████████████████████████████████| 2010/2010 [00:04<00:00, 490.66it/s]\n",
      "  2%|█▉                                                                             | 49/2010 [00:00<00:04, 429.29it/s]"
     ]
    },
    {
     "name": "stdout",
     "output_type": "stream",
     "text": [
      "episode : 697 reward : 9.380996400437036\n",
      "total test reward=303.529661799768\n"
     ]
    },
    {
     "name": "stderr",
     "output_type": "stream",
     "text": [
      "100%|█████████████████████████████████████████████████████████████████████████████| 2010/2010 [00:04<00:00, 479.11it/s]\n",
      "  2%|█▉                                                                             | 49/2010 [00:00<00:04, 486.44it/s]"
     ]
    },
    {
     "name": "stdout",
     "output_type": "stream",
     "text": [
      "episode : 698 reward : 205.88493366445527\n",
      "total test reward=271.8753393348541\n"
     ]
    },
    {
     "name": "stderr",
     "output_type": "stream",
     "text": [
      "100%|█████████████████████████████████████████████████████████████████████████████| 2010/2010 [00:04<00:00, 488.57it/s]\n",
      "  2%|█▊                                                                             | 46/2010 [00:00<00:04, 456.66it/s]"
     ]
    },
    {
     "name": "stdout",
     "output_type": "stream",
     "text": [
      "episode : 699 reward : 54.6227017215541\n",
      "total test reward=303.2547734381879\n"
     ]
    },
    {
     "name": "stderr",
     "output_type": "stream",
     "text": [
      "100%|█████████████████████████████████████████████████████████████████████████████| 2010/2010 [00:04<00:00, 488.56it/s]\n",
      "  2%|█▋                                                                             | 44/2010 [00:00<00:04, 436.81it/s]"
     ]
    },
    {
     "name": "stdout",
     "output_type": "stream",
     "text": [
      "episode : 700 reward : 104.33867967680273\n",
      "total test reward=303.5537734720493\n"
     ]
    },
    {
     "name": "stderr",
     "output_type": "stream",
     "text": [
      "100%|█████████████████████████████████████████████████████████████████████████████| 2010/2010 [00:04<00:00, 499.37it/s]\n",
      "  3%|██                                                                             | 52/2010 [00:00<00:03, 502.40it/s]"
     ]
    },
    {
     "name": "stdout",
     "output_type": "stream",
     "text": [
      "episode : 701 reward : 224.64107718968023\n",
      "total test reward=288.9853583666618\n"
     ]
    },
    {
     "name": "stderr",
     "output_type": "stream",
     "text": [
      "100%|█████████████████████████████████████████████████████████████████████████████| 2010/2010 [00:04<00:00, 479.79it/s]\n",
      "  3%|██                                                                             | 51/2010 [00:00<00:03, 506.30it/s]"
     ]
    },
    {
     "name": "stdout",
     "output_type": "stream",
     "text": [
      "episode : 702 reward : 292.64489861112014\n",
      "total test reward=304.22680627898694\n"
     ]
    },
    {
     "name": "stderr",
     "output_type": "stream",
     "text": [
      "100%|█████████████████████████████████████████████████████████████████████████████| 2010/2010 [00:04<00:00, 488.39it/s]\n",
      "  3%|██                                                                             | 52/2010 [00:00<00:04, 451.91it/s]"
     ]
    },
    {
     "name": "stdout",
     "output_type": "stream",
     "text": [
      "episode : 703 reward : 49.1729533169002\n",
      "total test reward=304.40874627022095\n"
     ]
    },
    {
     "name": "stderr",
     "output_type": "stream",
     "text": [
      "100%|█████████████████████████████████████████████████████████████████████████████| 2010/2010 [00:04<00:00, 486.88it/s]\n",
      "  2%|█▊                                                                             | 45/2010 [00:00<00:04, 446.73it/s]"
     ]
    },
    {
     "name": "stdout",
     "output_type": "stream",
     "text": [
      "episode : 704 reward : 69.62097074175638\n",
      "total test reward=304.14703893827084\n"
     ]
    },
    {
     "name": "stderr",
     "output_type": "stream",
     "text": [
      "100%|█████████████████████████████████████████████████████████████████████████████| 2010/2010 [00:04<00:00, 490.14it/s]\n",
      "  2%|█▊                                                                             | 47/2010 [00:00<00:04, 466.59it/s]"
     ]
    },
    {
     "name": "stdout",
     "output_type": "stream",
     "text": [
      "episode : 705 reward : 89.81272745516915\n",
      "total test reward=303.86749891022885\n"
     ]
    },
    {
     "name": "stderr",
     "output_type": "stream",
     "text": [
      "100%|█████████████████████████████████████████████████████████████████████████████| 2010/2010 [00:04<00:00, 480.76it/s]\n",
      "  2%|█▋                                                                             | 43/2010 [00:00<00:05, 391.12it/s]"
     ]
    },
    {
     "name": "stdout",
     "output_type": "stream",
     "text": [
      "episode : 706 reward : 64.15166221623316\n",
      "total test reward=304.8377159931085\n"
     ]
    },
    {
     "name": "stderr",
     "output_type": "stream",
     "text": [
      "100%|█████████████████████████████████████████████████████████████████████████████| 2010/2010 [00:04<00:00, 482.52it/s]\n",
      "  3%|██                                                                             | 52/2010 [00:00<00:03, 511.00it/s]"
     ]
    },
    {
     "name": "stdout",
     "output_type": "stream",
     "text": [
      "episode : 707 reward : 9.795502062048412\n",
      "total test reward=301.9814690554878\n"
     ]
    },
    {
     "name": "stderr",
     "output_type": "stream",
     "text": [
      "100%|█████████████████████████████████████████████████████████████████████████████| 2010/2010 [00:04<00:00, 487.91it/s]\n",
      "  3%|██                                                                             | 52/2010 [00:00<00:03, 506.75it/s]"
     ]
    },
    {
     "name": "stdout",
     "output_type": "stream",
     "text": [
      "episode : 708 reward : 49.004835879311806\n",
      "total test reward=304.4995931623244\n"
     ]
    },
    {
     "name": "stderr",
     "output_type": "stream",
     "text": [
      "100%|█████████████████████████████████████████████████████████████████████████████| 2010/2010 [00:04<00:00, 491.05it/s]\n",
      "  2%|█▊                                                                             | 45/2010 [00:00<00:04, 442.36it/s]"
     ]
    },
    {
     "name": "stdout",
     "output_type": "stream",
     "text": [
      "episode : 709 reward : 69.64300847925793\n",
      "total test reward=300.89186885220363\n"
     ]
    },
    {
     "name": "stderr",
     "output_type": "stream",
     "text": [
      "100%|█████████████████████████████████████████████████████████████████████████████| 2010/2010 [00:04<00:00, 485.75it/s]\n",
      "  3%|██                                                                             | 52/2010 [00:00<00:04, 470.70it/s]"
     ]
    },
    {
     "name": "stdout",
     "output_type": "stream",
     "text": [
      "episode : 710 reward : 29.777790620418582\n",
      "total test reward=299.357742198442\n"
     ]
    },
    {
     "name": "stderr",
     "output_type": "stream",
     "text": [
      "100%|█████████████████████████████████████████████████████████████████████████████| 2010/2010 [00:04<00:00, 486.59it/s]\n",
      "  2%|█▉                                                                             | 48/2010 [00:00<00:04, 436.26it/s]"
     ]
    },
    {
     "name": "stdout",
     "output_type": "stream",
     "text": [
      "episode : 711 reward : 179.68405785935173\n",
      "total test reward=299.7016558176268\n"
     ]
    },
    {
     "name": "stderr",
     "output_type": "stream",
     "text": [
      "100%|█████████████████████████████████████████████████████████████████████████████| 2010/2010 [00:04<00:00, 492.83it/s]\n",
      "  3%|██                                                                             | 53/2010 [00:00<00:04, 459.05it/s]"
     ]
    },
    {
     "name": "stdout",
     "output_type": "stream",
     "text": [
      "episode : 712 reward : 293.18484436697116\n",
      "total test reward=300.56090329186793\n"
     ]
    },
    {
     "name": "stderr",
     "output_type": "stream",
     "text": [
      "100%|█████████████████████████████████████████████████████████████████████████████| 2010/2010 [00:04<00:00, 496.84it/s]\n",
      "  2%|█▉                                                                             | 50/2010 [00:00<00:03, 496.38it/s]"
     ]
    },
    {
     "name": "stdout",
     "output_type": "stream",
     "text": [
      "episode : 713 reward : 294.5180291951576\n",
      "total test reward=300.13797646532265\n"
     ]
    },
    {
     "name": "stderr",
     "output_type": "stream",
     "text": [
      "100%|█████████████████████████████████████████████████████████████████████████████| 2010/2010 [00:04<00:00, 483.13it/s]\n",
      "  2%|█▊                                                                             | 45/2010 [00:00<00:04, 442.35it/s]"
     ]
    },
    {
     "name": "stdout",
     "output_type": "stream",
     "text": [
      "episode : 714 reward : 282.80973272831704\n",
      "total test reward=300.9906512314493\n"
     ]
    },
    {
     "name": "stderr",
     "output_type": "stream",
     "text": [
      "100%|█████████████████████████████████████████████████████████████████████████████| 2010/2010 [00:04<00:00, 493.42it/s]\n",
      "  2%|█▉                                                                             | 49/2010 [00:00<00:04, 486.30it/s]"
     ]
    },
    {
     "name": "stdout",
     "output_type": "stream",
     "text": [
      "episode : 715 reward : 294.51919130324296\n",
      "total test reward=299.99800295843454\n"
     ]
    },
    {
     "name": "stderr",
     "output_type": "stream",
     "text": [
      "100%|█████████████████████████████████████████████████████████████████████████████| 2010/2010 [00:04<00:00, 497.28it/s]\n",
      "  3%|██                                                                             | 53/2010 [00:00<00:04, 486.15it/s]"
     ]
    },
    {
     "name": "stdout",
     "output_type": "stream",
     "text": [
      "episode : 716 reward : -20.563817711878556\n",
      "total test reward=300.40246497423857\n"
     ]
    },
    {
     "name": "stderr",
     "output_type": "stream",
     "text": [
      "100%|█████████████████████████████████████████████████████████████████████████████| 2010/2010 [00:04<00:00, 496.12it/s]\n",
      "  2%|█▊                                                                             | 47/2010 [00:00<00:04, 466.16it/s]"
     ]
    },
    {
     "name": "stdout",
     "output_type": "stream",
     "text": [
      "episode : 717 reward : 26.10564483221321\n",
      "total test reward=295.63711219456854\n"
     ]
    },
    {
     "name": "stderr",
     "output_type": "stream",
     "text": [
      "100%|█████████████████████████████████████████████████████████████████████████████| 2010/2010 [00:04<00:00, 499.02it/s]\n",
      "  3%|██                                                                             | 51/2010 [00:00<00:03, 506.41it/s]"
     ]
    },
    {
     "name": "stdout",
     "output_type": "stream",
     "text": [
      "episode : 718 reward : 251.96110206899414\n",
      "total test reward=302.92801385164046\n"
     ]
    },
    {
     "name": "stderr",
     "output_type": "stream",
     "text": [
      "100%|█████████████████████████████████████████████████████████████████████████████| 2010/2010 [00:04<00:00, 498.41it/s]\n",
      "  2%|█▊                                                                             | 47/2010 [00:00<00:04, 469.91it/s]"
     ]
    },
    {
     "name": "stdout",
     "output_type": "stream",
     "text": [
      "episode : 719 reward : 1.5274325623562235\n",
      "total test reward=304.0575692985145\n"
     ]
    },
    {
     "name": "stderr",
     "output_type": "stream",
     "text": [
      "100%|█████████████████████████████████████████████████████████████████████████████| 2010/2010 [00:04<00:00, 492.27it/s]\n",
      "  3%|██                                                                             | 51/2010 [00:00<00:03, 501.34it/s]"
     ]
    },
    {
     "name": "stdout",
     "output_type": "stream",
     "text": [
      "episode : 720 reward : 151.68890710638863\n",
      "total test reward=301.8776033174005\n"
     ]
    },
    {
     "name": "stderr",
     "output_type": "stream",
     "text": [
      "100%|█████████████████████████████████████████████████████████████████████████████| 2010/2010 [00:04<00:00, 494.54it/s]\n",
      "  3%|██                                                                             | 51/2010 [00:00<00:03, 506.30it/s]"
     ]
    },
    {
     "name": "stdout",
     "output_type": "stream",
     "text": [
      "episode : 721 reward : 296.7668085783868\n",
      "total test reward=300.5791327661649\n"
     ]
    },
    {
     "name": "stderr",
     "output_type": "stream",
     "text": [
      "100%|█████████████████████████████████████████████████████████████████████████████| 2010/2010 [00:04<00:00, 479.00it/s]\n",
      "  2%|█▉                                                                             | 48/2010 [00:00<00:04, 476.52it/s]"
     ]
    },
    {
     "name": "stdout",
     "output_type": "stream",
     "text": [
      "episode : 722 reward : 142.89301760655383\n",
      "total test reward=301.23102252502883\n"
     ]
    },
    {
     "name": "stderr",
     "output_type": "stream",
     "text": [
      "100%|█████████████████████████████████████████████████████████████████████████████| 2010/2010 [00:04<00:00, 501.00it/s]\n",
      "  3%|██▏                                                                            | 56/2010 [00:00<00:03, 492.57it/s]"
     ]
    },
    {
     "name": "stdout",
     "output_type": "stream",
     "text": [
      "episode : 723 reward : 129.98721650611793\n",
      "total test reward=302.0860206563542\n"
     ]
    },
    {
     "name": "stderr",
     "output_type": "stream",
     "text": [
      "100%|█████████████████████████████████████████████████████████████████████████████| 2010/2010 [00:04<00:00, 491.86it/s]\n",
      "  2%|█▉                                                                             | 49/2010 [00:00<00:04, 486.44it/s]"
     ]
    },
    {
     "name": "stdout",
     "output_type": "stream",
     "text": [
      "episode : 724 reward : 294.7088526451626\n",
      "total test reward=301.11943512054415\n"
     ]
    },
    {
     "name": "stderr",
     "output_type": "stream",
     "text": [
      "100%|█████████████████████████████████████████████████████████████████████████████| 2010/2010 [00:04<00:00, 493.56it/s]\n",
      "  2%|█▉                                                                             | 50/2010 [00:00<00:03, 491.51it/s]"
     ]
    },
    {
     "name": "stdout",
     "output_type": "stream",
     "text": [
      "episode : 725 reward : 130.60761112552527\n",
      "total test reward=300.9400285355856\n"
     ]
    },
    {
     "name": "stderr",
     "output_type": "stream",
     "text": [
      "100%|█████████████████████████████████████████████████████████████████████████████| 2010/2010 [00:04<00:00, 483.73it/s]\n",
      "  2%|█▉                                                                             | 49/2010 [00:00<00:04, 441.05it/s]"
     ]
    },
    {
     "name": "stdout",
     "output_type": "stream",
     "text": [
      "episode : 726 reward : 187.763502914347\n",
      "total test reward=301.2838020028288\n"
     ]
    },
    {
     "name": "stderr",
     "output_type": "stream",
     "text": [
      "100%|█████████████████████████████████████████████████████████████████████████████| 2010/2010 [00:04<00:00, 492.47it/s]\n",
      "  3%|██                                                                             | 53/2010 [00:00<00:03, 525.99it/s]"
     ]
    },
    {
     "name": "stdout",
     "output_type": "stream",
     "text": [
      "episode : 727 reward : 298.3957478775198\n",
      "total test reward=300.7949854310497\n"
     ]
    },
    {
     "name": "stderr",
     "output_type": "stream",
     "text": [
      "100%|█████████████████████████████████████████████████████████████████████████████| 2010/2010 [00:04<00:00, 494.29it/s]\n",
      "  2%|█▉                                                                             | 49/2010 [00:00<00:04, 457.93it/s]"
     ]
    },
    {
     "name": "stdout",
     "output_type": "stream",
     "text": [
      "episode : 728 reward : 169.98471602725473\n",
      "total test reward=300.35505381805035\n"
     ]
    },
    {
     "name": "stderr",
     "output_type": "stream",
     "text": [
      "100%|█████████████████████████████████████████████████████████████████████████████| 2010/2010 [00:04<00:00, 482.88it/s]\n",
      "  2%|█▉                                                                             | 50/2010 [00:00<00:03, 491.49it/s]"
     ]
    },
    {
     "name": "stdout",
     "output_type": "stream",
     "text": [
      "episode : 729 reward : 271.11778077164985\n",
      "total test reward=300.9559116498795\n"
     ]
    },
    {
     "name": "stderr",
     "output_type": "stream",
     "text": [
      "100%|█████████████████████████████████████████████████████████████████████████████| 2010/2010 [00:04<00:00, 484.03it/s]\n",
      "  3%|██                                                                             | 52/2010 [00:00<00:03, 511.28it/s]"
     ]
    },
    {
     "name": "stdout",
     "output_type": "stream",
     "text": [
      "episode : 730 reward : 257.61318409318596\n",
      "total test reward=301.75741130360086\n"
     ]
    },
    {
     "name": "stderr",
     "output_type": "stream",
     "text": [
      "100%|█████████████████████████████████████████████████████████████████████████████| 2010/2010 [00:04<00:00, 491.41it/s]\n",
      "  2%|█▉                                                                             | 49/2010 [00:00<00:04, 481.67it/s]"
     ]
    },
    {
     "name": "stdout",
     "output_type": "stream",
     "text": [
      "episode : 731 reward : 199.6996976024369\n",
      "total test reward=301.9175834693025\n"
     ]
    },
    {
     "name": "stderr",
     "output_type": "stream",
     "text": [
      "100%|█████████████████████████████████████████████████████████████████████████████| 2010/2010 [00:04<00:00, 490.17it/s]\n",
      "  2%|█▌                                                                             | 41/2010 [00:00<00:04, 403.99it/s]"
     ]
    },
    {
     "name": "stdout",
     "output_type": "stream",
     "text": [
      "episode : 732 reward : 140.94798574222455\n",
      "total test reward=302.46789432889875\n"
     ]
    },
    {
     "name": "stderr",
     "output_type": "stream",
     "text": [
      "100%|█████████████████████████████████████████████████████████████████████████████| 2010/2010 [00:04<00:00, 488.51it/s]\n",
      "  2%|█▊                                                                             | 46/2010 [00:00<00:04, 456.51it/s]"
     ]
    },
    {
     "name": "stdout",
     "output_type": "stream",
     "text": [
      "episode : 733 reward : 97.8027537230803\n",
      "total test reward=303.30237342649735\n"
     ]
    },
    {
     "name": "stderr",
     "output_type": "stream",
     "text": [
      "100%|█████████████████████████████████████████████████████████████████████████████| 2010/2010 [00:04<00:00, 482.11it/s]\n",
      "  3%|██                                                                             | 52/2010 [00:00<00:03, 516.23it/s]"
     ]
    },
    {
     "name": "stdout",
     "output_type": "stream",
     "text": [
      "episode : 734 reward : 101.0271412136577\n",
      "total test reward=303.88984742785243\n"
     ]
    },
    {
     "name": "stderr",
     "output_type": "stream",
     "text": [
      "100%|█████████████████████████████████████████████████████████████████████████████| 2010/2010 [00:04<00:00, 497.95it/s]\n",
      "  2%|█▊                                                                             | 46/2010 [00:00<00:04, 456.50it/s]"
     ]
    },
    {
     "name": "stdout",
     "output_type": "stream",
     "text": [
      "episode : 735 reward : 295.1666950446871\n",
      "total test reward=304.5122039888924\n"
     ]
    },
    {
     "name": "stderr",
     "output_type": "stream",
     "text": [
      "100%|█████████████████████████████████████████████████████████████████████████████| 2010/2010 [00:04<00:00, 492.16it/s]\n",
      "  3%|██                                                                             | 52/2010 [00:00<00:03, 516.07it/s]"
     ]
    },
    {
     "name": "stdout",
     "output_type": "stream",
     "text": [
      "episode : 736 reward : 248.36598751467596\n",
      "total test reward=302.93290505335483\n"
     ]
    },
    {
     "name": "stderr",
     "output_type": "stream",
     "text": [
      "100%|█████████████████████████████████████████████████████████████████████████████| 2010/2010 [00:04<00:00, 496.00it/s]\n",
      "  2%|█▉                                                                             | 50/2010 [00:00<00:03, 496.53it/s]"
     ]
    },
    {
     "name": "stdout",
     "output_type": "stream",
     "text": [
      "episode : 737 reward : 296.88147640036726\n",
      "total test reward=302.2920025870456\n"
     ]
    },
    {
     "name": "stderr",
     "output_type": "stream",
     "text": [
      "100%|█████████████████████████████████████████████████████████████████████████████| 2010/2010 [00:04<00:00, 492.03it/s]\n",
      "  2%|█▉                                                                             | 48/2010 [00:00<00:04, 476.52it/s]"
     ]
    },
    {
     "name": "stdout",
     "output_type": "stream",
     "text": [
      "episode : 738 reward : 154.06160501821955\n",
      "total test reward=300.8145943084022\n"
     ]
    },
    {
     "name": "stderr",
     "output_type": "stream",
     "text": [
      "100%|█████████████████████████████████████████████████████████████████████████████| 2010/2010 [00:04<00:00, 492.65it/s]\n",
      "  3%|██                                                                             | 52/2010 [00:00<00:03, 511.17it/s]"
     ]
    },
    {
     "name": "stdout",
     "output_type": "stream",
     "text": [
      "episode : 739 reward : 30.8033253056333\n",
      "total test reward=300.4132106723785\n"
     ]
    },
    {
     "name": "stderr",
     "output_type": "stream",
     "text": [
      "100%|█████████████████████████████████████████████████████████████████████████████| 2010/2010 [00:04<00:00, 494.22it/s]\n",
      "  3%|██                                                                             | 52/2010 [00:00<00:03, 511.00it/s]"
     ]
    },
    {
     "name": "stdout",
     "output_type": "stream",
     "text": [
      "episode : 740 reward : 234.31179561764506\n",
      "total test reward=298.14307655871886\n"
     ]
    },
    {
     "name": "stderr",
     "output_type": "stream",
     "text": [
      "100%|█████████████████████████████████████████████████████████████████████████████| 2010/2010 [00:04<00:00, 493.97it/s]\n",
      "  2%|█▊                                                                             | 47/2010 [00:00<00:04, 466.44it/s]"
     ]
    },
    {
     "name": "stdout",
     "output_type": "stream",
     "text": [
      "episode : 741 reward : 178.26041761612976\n",
      "total test reward=299.19654936885064\n"
     ]
    },
    {
     "name": "stderr",
     "output_type": "stream",
     "text": [
      "100%|█████████████████████████████████████████████████████████████████████████████| 2010/2010 [00:04<00:00, 479.07it/s]\n",
      "  2%|█▉                                                                             | 49/2010 [00:00<00:04, 486.46it/s]"
     ]
    },
    {
     "name": "stdout",
     "output_type": "stream",
     "text": [
      "episode : 742 reward : 156.5825768485264\n",
      "total test reward=297.94848120320785\n"
     ]
    },
    {
     "name": "stderr",
     "output_type": "stream",
     "text": [
      "100%|█████████████████████████████████████████████████████████████████████████████| 2010/2010 [00:04<00:00, 496.69it/s]\n",
      "  2%|█▉                                                                             | 48/2010 [00:00<00:04, 471.71it/s]"
     ]
    },
    {
     "name": "stdout",
     "output_type": "stream",
     "text": [
      "episode : 743 reward : 187.49092776725445\n",
      "total test reward=297.7021879413707\n"
     ]
    },
    {
     "name": "stderr",
     "output_type": "stream",
     "text": [
      "100%|█████████████████████████████████████████████████████████████████████████████| 2010/2010 [00:04<00:00, 491.21it/s]\n",
      "  2%|█▉                                                                             | 48/2010 [00:00<00:04, 468.32it/s]"
     ]
    },
    {
     "name": "stdout",
     "output_type": "stream",
     "text": [
      "episode : 744 reward : 292.0756693266846\n",
      "total test reward=300.2201470198572\n"
     ]
    },
    {
     "name": "stderr",
     "output_type": "stream",
     "text": [
      "100%|█████████████████████████████████████████████████████████████████████████████| 2010/2010 [00:04<00:00, 492.90it/s]\n",
      "  3%|██                                                                             | 51/2010 [00:00<00:03, 506.15it/s]"
     ]
    },
    {
     "name": "stdout",
     "output_type": "stream",
     "text": [
      "episode : 745 reward : -3.4966095515864173\n",
      "total test reward=300.4015195021825\n"
     ]
    },
    {
     "name": "stderr",
     "output_type": "stream",
     "text": [
      "100%|█████████████████████████████████████████████████████████████████████████████| 2010/2010 [00:04<00:00, 471.79it/s]\n",
      "  2%|█▊                                                                             | 47/2010 [00:00<00:04, 461.87it/s]"
     ]
    },
    {
     "name": "stdout",
     "output_type": "stream",
     "text": [
      "episode : 746 reward : 295.2606688136786\n",
      "total test reward=299.0399826603301\n"
     ]
    },
    {
     "name": "stderr",
     "output_type": "stream",
     "text": [
      "100%|█████████████████████████████████████████████████████████████████████████████| 2010/2010 [00:04<00:00, 489.30it/s]\n",
      "  3%|██                                                                             | 51/2010 [00:00<00:04, 483.40it/s]"
     ]
    },
    {
     "name": "stdout",
     "output_type": "stream",
     "text": [
      "episode : 747 reward : 72.38432569981782\n",
      "total test reward=298.3261376299305\n"
     ]
    },
    {
     "name": "stderr",
     "output_type": "stream",
     "text": [
      "100%|█████████████████████████████████████████████████████████████████████████████| 2010/2010 [00:04<00:00, 492.42it/s]\n",
      "  3%|██                                                                             | 51/2010 [00:00<00:03, 506.14it/s]"
     ]
    },
    {
     "name": "stdout",
     "output_type": "stream",
     "text": [
      "episode : 748 reward : 59.098191923541684\n",
      "total test reward=297.97707331355394\n"
     ]
    },
    {
     "name": "stderr",
     "output_type": "stream",
     "text": [
      "100%|█████████████████████████████████████████████████████████████████████████████| 2010/2010 [00:04<00:00, 480.08it/s]\n",
      "  3%|██                                                                             | 51/2010 [00:00<00:03, 506.29it/s]"
     ]
    },
    {
     "name": "stdout",
     "output_type": "stream",
     "text": [
      "episode : 749 reward : 190.72508135510725\n",
      "total test reward=296.9921422788294\n"
     ]
    },
    {
     "name": "stderr",
     "output_type": "stream",
     "text": [
      "100%|█████████████████████████████████████████████████████████████████████████████| 2010/2010 [00:04<00:00, 489.11it/s]\n",
      "  2%|█▉                                                                             | 48/2010 [00:00<00:04, 424.70it/s]"
     ]
    },
    {
     "name": "stdout",
     "output_type": "stream",
     "text": [
      "episode : 750 reward : 146.77614936512552\n",
      "total test reward=295.38898512640526\n"
     ]
    },
    {
     "name": "stderr",
     "output_type": "stream",
     "text": [
      "100%|█████████████████████████████████████████████████████████████████████████████| 2010/2010 [00:04<00:00, 461.22it/s]\n",
      "  3%|██▏                                                                            | 55/2010 [00:00<00:03, 511.75it/s]"
     ]
    },
    {
     "name": "stdout",
     "output_type": "stream",
     "text": [
      "episode : 751 reward : 67.44217249540277\n",
      "total test reward=296.4634304121456\n"
     ]
    },
    {
     "name": "stderr",
     "output_type": "stream",
     "text": [
      "100%|█████████████████████████████████████████████████████████████████████████████| 2010/2010 [00:03<00:00, 516.02it/s]\n",
      "  3%|██                                                                             | 53/2010 [00:00<00:04, 477.56it/s]"
     ]
    },
    {
     "name": "stdout",
     "output_type": "stream",
     "text": [
      "episode : 752 reward : 65.51613292471914\n",
      "total test reward=296.30705921148274\n"
     ]
    },
    {
     "name": "stderr",
     "output_type": "stream",
     "text": [
      "100%|█████████████████████████████████████████████████████████████████████████████| 2010/2010 [00:03<00:00, 509.09it/s]\n",
      "  2%|█▉                                                                             | 49/2010 [00:00<00:04, 472.87it/s]"
     ]
    },
    {
     "name": "stdout",
     "output_type": "stream",
     "text": [
      "episode : 753 reward : 38.7444237403081\n",
      "total test reward=294.92023936008457\n"
     ]
    },
    {
     "name": "stderr",
     "output_type": "stream",
     "text": [
      "100%|█████████████████████████████████████████████████████████████████████████████| 2010/2010 [00:03<00:00, 505.33it/s]\n",
      "  2%|█▉                                                                             | 50/2010 [00:00<00:03, 491.65it/s]"
     ]
    },
    {
     "name": "stdout",
     "output_type": "stream",
     "text": [
      "episode : 754 reward : 63.22422565603726\n",
      "total test reward=291.7385782827847\n"
     ]
    },
    {
     "name": "stderr",
     "output_type": "stream",
     "text": [
      "100%|█████████████████████████████████████████████████████████████████████████████| 2010/2010 [00:03<00:00, 502.57it/s]\n",
      "  2%|█▋                                                                             | 44/2010 [00:00<00:04, 439.07it/s]"
     ]
    },
    {
     "name": "stdout",
     "output_type": "stream",
     "text": [
      "episode : 755 reward : 215.15729457707982\n",
      "total test reward=296.71180804550977\n"
     ]
    },
    {
     "name": "stderr",
     "output_type": "stream",
     "text": [
      "100%|█████████████████████████████████████████████████████████████████████████████| 2010/2010 [00:03<00:00, 513.07it/s]\n",
      "  2%|█▉                                                                             | 50/2010 [00:00<00:04, 452.03it/s]"
     ]
    },
    {
     "name": "stdout",
     "output_type": "stream",
     "text": [
      "episode : 756 reward : 74.79401755890666\n",
      "total test reward=296.82665868423487\n"
     ]
    },
    {
     "name": "stderr",
     "output_type": "stream",
     "text": [
      "100%|█████████████████████████████████████████████████████████████████████████████| 2010/2010 [00:03<00:00, 518.21it/s]\n",
      "  3%|██▏                                                                            | 55/2010 [00:00<00:04, 475.84it/s]"
     ]
    },
    {
     "name": "stdout",
     "output_type": "stream",
     "text": [
      "episode : 757 reward : 93.93190452310401\n",
      "total test reward=295.75631176452043\n"
     ]
    },
    {
     "name": "stderr",
     "output_type": "stream",
     "text": [
      "100%|█████████████████████████████████████████████████████████████████████████████| 2010/2010 [00:03<00:00, 514.82it/s]\n",
      "  5%|███▉                                                                          | 102/2010 [00:00<00:03, 508.54it/s]"
     ]
    },
    {
     "name": "stdout",
     "output_type": "stream",
     "text": [
      "episode : 758 reward : 229.56033163178046\n",
      "total test reward=294.7105279230928\n"
     ]
    },
    {
     "name": "stderr",
     "output_type": "stream",
     "text": [
      "100%|█████████████████████████████████████████████████████████████████████████████| 2010/2010 [00:03<00:00, 505.28it/s]\n",
      "  3%|██                                                                             | 53/2010 [00:00<00:03, 521.17it/s]"
     ]
    },
    {
     "name": "stdout",
     "output_type": "stream",
     "text": [
      "episode : 759 reward : 56.76369495614905\n",
      "total test reward=290.8859824105067\n"
     ]
    },
    {
     "name": "stderr",
     "output_type": "stream",
     "text": [
      "100%|█████████████████████████████████████████████████████████████████████████████| 2010/2010 [00:03<00:00, 510.84it/s]\n",
      "  3%|██▏                                                                            | 55/2010 [00:00<00:03, 513.66it/s]"
     ]
    },
    {
     "name": "stdout",
     "output_type": "stream",
     "text": [
      "episode : 760 reward : 227.88441707812714\n",
      "total test reward=291.24029823373564\n"
     ]
    },
    {
     "name": "stderr",
     "output_type": "stream",
     "text": [
      "100%|█████████████████████████████████████████████████████████████████████████████| 2010/2010 [00:03<00:00, 512.30it/s]\n",
      "  3%|██                                                                             | 54/2010 [00:00<00:03, 518.47it/s]"
     ]
    },
    {
     "name": "stdout",
     "output_type": "stream",
     "text": [
      "episode : 761 reward : 31.140429656220597\n",
      "total test reward=293.91191301338165\n"
     ]
    },
    {
     "name": "stderr",
     "output_type": "stream",
     "text": [
      "100%|█████████████████████████████████████████████████████████████████████████████| 2010/2010 [00:03<00:00, 519.43it/s]\n",
      "  3%|██▍                                                                            | 61/2010 [00:00<00:03, 529.94it/s]"
     ]
    },
    {
     "name": "stdout",
     "output_type": "stream",
     "text": [
      "episode : 762 reward : 60.341373785397934\n",
      "total test reward=291.23693900393636\n"
     ]
    },
    {
     "name": "stderr",
     "output_type": "stream",
     "text": [
      "100%|█████████████████████████████████████████████████████████████████████████████| 2010/2010 [00:03<00:00, 509.94it/s]\n",
      "  3%|██▏                                                                            | 57/2010 [00:00<00:03, 504.72it/s]"
     ]
    },
    {
     "name": "stdout",
     "output_type": "stream",
     "text": [
      "episode : 763 reward : 88.91841863365195\n",
      "total test reward=291.98052484358413\n"
     ]
    },
    {
     "name": "stderr",
     "output_type": "stream",
     "text": [
      "100%|█████████████████████████████████████████████████████████████████████████████| 2010/2010 [00:03<00:00, 511.24it/s]\n",
      "  3%|██                                                                             | 54/2010 [00:00<00:03, 513.25it/s]"
     ]
    },
    {
     "name": "stdout",
     "output_type": "stream",
     "text": [
      "episode : 764 reward : 151.46335170452267\n",
      "total test reward=292.1003028111421\n"
     ]
    },
    {
     "name": "stderr",
     "output_type": "stream",
     "text": [
      "100%|█████████████████████████████████████████████████████████████████████████████| 2010/2010 [00:03<00:00, 515.85it/s]\n",
      "  2%|█▋                                                                             | 42/2010 [00:00<00:04, 415.89it/s]"
     ]
    },
    {
     "name": "stdout",
     "output_type": "stream",
     "text": [
      "episode : 765 reward : 168.76514263494232\n",
      "total test reward=292.7737741982247\n"
     ]
    },
    {
     "name": "stderr",
     "output_type": "stream",
     "text": [
      "100%|█████████████████████████████████████████████████████████████████████████████| 2010/2010 [00:03<00:00, 515.75it/s]\n",
      "  2%|█▉                                                                             | 48/2010 [00:00<00:04, 454.25it/s]"
     ]
    },
    {
     "name": "stdout",
     "output_type": "stream",
     "text": [
      "episode : 766 reward : 275.2708511135391\n",
      "total test reward=294.33062303288585\n"
     ]
    },
    {
     "name": "stderr",
     "output_type": "stream",
     "text": [
      "100%|█████████████████████████████████████████████████████████████████████████████| 2010/2010 [00:03<00:00, 517.29it/s]\n",
      "  2%|█▊                                                                             | 45/2010 [00:00<00:04, 449.19it/s]"
     ]
    },
    {
     "name": "stdout",
     "output_type": "stream",
     "text": [
      "episode : 767 reward : 207.75155537687837\n",
      "total test reward=295.3794358835214\n"
     ]
    },
    {
     "name": "stderr",
     "output_type": "stream",
     "text": [
      "100%|█████████████████████████████████████████████████████████████████████████████| 2010/2010 [00:03<00:00, 521.32it/s]\n",
      "  2%|█▊                                                                             | 45/2010 [00:00<00:04, 436.55it/s]"
     ]
    },
    {
     "name": "stdout",
     "output_type": "stream",
     "text": [
      "episode : 768 reward : 51.878775124513986\n",
      "total test reward=295.76369748497075\n"
     ]
    },
    {
     "name": "stderr",
     "output_type": "stream",
     "text": [
      "100%|█████████████████████████████████████████████████████████████████████████████| 2010/2010 [00:04<00:00, 454.57it/s]\n",
      "  3%|██                                                                             | 53/2010 [00:00<00:04, 467.06it/s]"
     ]
    },
    {
     "name": "stdout",
     "output_type": "stream",
     "text": [
      "episode : 769 reward : 292.1152554648848\n",
      "total test reward=293.8651008982869\n"
     ]
    },
    {
     "name": "stderr",
     "output_type": "stream",
     "text": [
      "100%|█████████████████████████████████████████████████████████████████████████████| 2010/2010 [00:04<00:00, 494.31it/s]\n",
      "  2%|█▊                                                                             | 46/2010 [00:00<00:04, 456.66it/s]"
     ]
    },
    {
     "name": "stdout",
     "output_type": "stream",
     "text": [
      "episode : 770 reward : 18.840691832123863\n",
      "total test reward=294.80836431796337\n"
     ]
    },
    {
     "name": "stderr",
     "output_type": "stream",
     "text": [
      "100%|█████████████████████████████████████████████████████████████████████████████| 2010/2010 [00:04<00:00, 495.99it/s]\n",
      "  3%|██                                                                             | 52/2010 [00:00<00:03, 516.23it/s]"
     ]
    },
    {
     "name": "stdout",
     "output_type": "stream",
     "text": [
      "episode : 771 reward : 78.30239247370491\n",
      "total test reward=292.327619332651\n"
     ]
    },
    {
     "name": "stderr",
     "output_type": "stream",
     "text": [
      "100%|█████████████████████████████████████████████████████████████████████████████| 2010/2010 [00:04<00:00, 487.14it/s]\n",
      "  3%|██                                                                             | 52/2010 [00:00<00:04, 458.99it/s]"
     ]
    },
    {
     "name": "stdout",
     "output_type": "stream",
     "text": [
      "episode : 772 reward : 74.0547251686139\n",
      "total test reward=293.1653502935279\n"
     ]
    },
    {
     "name": "stderr",
     "output_type": "stream",
     "text": [
      "100%|█████████████████████████████████████████████████████████████████████████████| 2010/2010 [00:04<00:00, 492.58it/s]\n",
      "  3%|██                                                                             | 52/2010 [00:00<00:04, 458.17it/s]"
     ]
    },
    {
     "name": "stdout",
     "output_type": "stream",
     "text": [
      "episode : 773 reward : 127.33937603637301\n",
      "total test reward=294.74009847197823\n"
     ]
    },
    {
     "name": "stderr",
     "output_type": "stream",
     "text": [
      "100%|█████████████████████████████████████████████████████████████████████████████| 2010/2010 [00:04<00:00, 495.87it/s]\n",
      "  5%|███▊                                                                           | 97/2010 [00:00<00:04, 477.64it/s]"
     ]
    },
    {
     "name": "stdout",
     "output_type": "stream",
     "text": [
      "episode : 774 reward : 287.81826732920786\n",
      "total test reward=295.1577163161228\n"
     ]
    },
    {
     "name": "stderr",
     "output_type": "stream",
     "text": [
      "100%|█████████████████████████████████████████████████████████████████████████████| 2010/2010 [00:04<00:00, 494.65it/s]\n",
      "  2%|█▊                                                                             | 46/2010 [00:00<00:04, 456.66it/s]"
     ]
    },
    {
     "name": "stdout",
     "output_type": "stream",
     "text": [
      "episode : 775 reward : 295.29405927467405\n",
      "total test reward=293.9320600331083\n"
     ]
    },
    {
     "name": "stderr",
     "output_type": "stream",
     "text": [
      "100%|█████████████████████████████████████████████████████████████████████████████| 2010/2010 [00:04<00:00, 491.35it/s]\n",
      "  3%|██                                                                             | 51/2010 [00:00<00:03, 506.11it/s]"
     ]
    },
    {
     "name": "stdout",
     "output_type": "stream",
     "text": [
      "episode : 776 reward : 226.5063914885038\n",
      "total test reward=293.3443115352334\n"
     ]
    },
    {
     "name": "stderr",
     "output_type": "stream",
     "text": [
      "100%|█████████████████████████████████████████████████████████████████████████████| 2010/2010 [00:04<00:00, 496.85it/s]\n",
      "  2%|█▉                                                                             | 49/2010 [00:00<00:04, 486.45it/s]"
     ]
    },
    {
     "name": "stdout",
     "output_type": "stream",
     "text": [
      "episode : 777 reward : 105.30782763231969\n",
      "total test reward=296.4527654978591\n"
     ]
    },
    {
     "name": "stderr",
     "output_type": "stream",
     "text": [
      "100%|█████████████████████████████████████████████████████████████████████████████| 2010/2010 [00:04<00:00, 498.47it/s]\n",
      "  3%|██▏                                                                            | 56/2010 [00:00<00:04, 488.41it/s]"
     ]
    },
    {
     "name": "stdout",
     "output_type": "stream",
     "text": [
      "episode : 778 reward : 199.31891241828043\n",
      "total test reward=296.9309526086142\n"
     ]
    },
    {
     "name": "stderr",
     "output_type": "stream",
     "text": [
      "100%|█████████████████████████████████████████████████████████████████████████████| 2010/2010 [00:04<00:00, 495.74it/s]\n",
      "  2%|█▊                                                                             | 45/2010 [00:00<00:04, 442.36it/s]"
     ]
    },
    {
     "name": "stdout",
     "output_type": "stream",
     "text": [
      "episode : 779 reward : 118.97416082026979\n",
      "total test reward=296.6348238105928\n"
     ]
    },
    {
     "name": "stderr",
     "output_type": "stream",
     "text": [
      "100%|█████████████████████████████████████████████████████████████████████████████| 2010/2010 [00:04<00:00, 498.25it/s]\n",
      "  5%|███▊                                                                           | 96/2010 [00:00<00:04, 465.11it/s]"
     ]
    },
    {
     "name": "stdout",
     "output_type": "stream",
     "text": [
      "episode : 780 reward : 127.77556376994573\n",
      "total test reward=296.8816684163236\n"
     ]
    },
    {
     "name": "stderr",
     "output_type": "stream",
     "text": [
      "100%|█████████████████████████████████████████████████████████████████████████████| 2010/2010 [00:04<00:00, 485.43it/s]\n",
      "  2%|█▉                                                                             | 50/2010 [00:00<00:04, 438.49it/s]"
     ]
    },
    {
     "name": "stdout",
     "output_type": "stream",
     "text": [
      "episode : 781 reward : 235.24720011594096\n",
      "total test reward=295.19074030948576\n"
     ]
    },
    {
     "name": "stderr",
     "output_type": "stream",
     "text": [
      "100%|█████████████████████████████████████████████████████████████████████████████| 2010/2010 [00:04<00:00, 485.85it/s]\n",
      "  2%|█▉                                                                             | 50/2010 [00:00<00:04, 465.90it/s]"
     ]
    },
    {
     "name": "stdout",
     "output_type": "stream",
     "text": [
      "episode : 782 reward : 255.0981745710855\n",
      "total test reward=298.68145146293693\n"
     ]
    },
    {
     "name": "stderr",
     "output_type": "stream",
     "text": [
      "100%|█████████████████████████████████████████████████████████████████████████████| 2010/2010 [00:04<00:00, 480.01it/s]\n",
      "  2%|█▉                                                                             | 50/2010 [00:00<00:03, 496.22it/s]"
     ]
    },
    {
     "name": "stdout",
     "output_type": "stream",
     "text": [
      "episode : 783 reward : 54.32398496338942\n",
      "total test reward=298.31992477589347\n"
     ]
    },
    {
     "name": "stderr",
     "output_type": "stream",
     "text": [
      "100%|█████████████████████████████████████████████████████████████████████████████| 2010/2010 [00:04<00:00, 496.13it/s]\n",
      "  2%|█▊                                                                             | 47/2010 [00:00<00:04, 466.59it/s]"
     ]
    },
    {
     "name": "stdout",
     "output_type": "stream",
     "text": [
      "episode : 784 reward : 145.9281057881698\n",
      "total test reward=297.1974770126277\n"
     ]
    },
    {
     "name": "stderr",
     "output_type": "stream",
     "text": [
      "100%|█████████████████████████████████████████████████████████████████████████████| 2010/2010 [00:04<00:00, 486.77it/s]\n",
      "  2%|█▉                                                                             | 48/2010 [00:00<00:04, 471.70it/s]"
     ]
    },
    {
     "name": "stdout",
     "output_type": "stream",
     "text": [
      "episode : 785 reward : 202.2640407306456\n",
      "total test reward=297.31116394403983\n"
     ]
    },
    {
     "name": "stderr",
     "output_type": "stream",
     "text": [
      "100%|█████████████████████████████████████████████████████████████████████████████| 2010/2010 [00:04<00:00, 467.21it/s]\n",
      "  2%|█▊                                                                             | 46/2010 [00:00<00:04, 453.33it/s]"
     ]
    },
    {
     "name": "stdout",
     "output_type": "stream",
     "text": [
      "episode : 786 reward : 202.98257190685052\n",
      "total test reward=299.96443097159556\n"
     ]
    },
    {
     "name": "stderr",
     "output_type": "stream",
     "text": [
      "100%|█████████████████████████████████████████████████████████████████████████████| 2010/2010 [00:04<00:00, 480.85it/s]\n",
      "  2%|█▋                                                                             | 43/2010 [00:00<00:04, 397.34it/s]"
     ]
    },
    {
     "name": "stdout",
     "output_type": "stream",
     "text": [
      "episode : 787 reward : 208.97199791323328\n",
      "total test reward=298.370426473388\n"
     ]
    },
    {
     "name": "stderr",
     "output_type": "stream",
     "text": [
      "100%|█████████████████████████████████████████████████████████████████████████████| 2010/2010 [00:04<00:00, 485.93it/s]\n",
      "  2%|█▉                                                                             | 49/2010 [00:00<00:04, 481.83it/s]"
     ]
    },
    {
     "name": "stdout",
     "output_type": "stream",
     "text": [
      "episode : 788 reward : 131.5390806277121\n",
      "total test reward=297.43915700904734\n"
     ]
    },
    {
     "name": "stderr",
     "output_type": "stream",
     "text": [
      "100%|█████████████████████████████████████████████████████████████████████████████| 2010/2010 [00:04<00:00, 486.58it/s]\n",
      "  2%|█▊                                                                             | 46/2010 [00:00<00:04, 458.53it/s]"
     ]
    },
    {
     "name": "stdout",
     "output_type": "stream",
     "text": [
      "episode : 789 reward : 296.17269637640595\n",
      "total test reward=295.53274862037597\n"
     ]
    },
    {
     "name": "stderr",
     "output_type": "stream",
     "text": [
      "100%|█████████████████████████████████████████████████████████████████████████████| 2010/2010 [00:04<00:00, 491.84it/s]\n",
      "  3%|██                                                                             | 53/2010 [00:00<00:04, 480.24it/s]"
     ]
    },
    {
     "name": "stdout",
     "output_type": "stream",
     "text": [
      "episode : 790 reward : 31.359330665936795\n",
      "total test reward=298.6031400402224\n"
     ]
    },
    {
     "name": "stderr",
     "output_type": "stream",
     "text": [
      "100%|█████████████████████████████████████████████████████████████████████████████| 2010/2010 [00:04<00:00, 487.00it/s]\n",
      "  3%|██                                                                             | 52/2010 [00:00<00:03, 511.26it/s]"
     ]
    },
    {
     "name": "stdout",
     "output_type": "stream",
     "text": [
      "episode : 791 reward : 21.79705034364437\n",
      "total test reward=300.13973667669273\n"
     ]
    },
    {
     "name": "stderr",
     "output_type": "stream",
     "text": [
      "100%|█████████████████████████████████████████████████████████████████████████████| 2010/2010 [00:04<00:00, 486.19it/s]\n",
      "  2%|█▉                                                                             | 49/2010 [00:00<00:04, 450.72it/s]"
     ]
    },
    {
     "name": "stdout",
     "output_type": "stream",
     "text": [
      "episode : 792 reward : 173.73289263742294\n",
      "total test reward=299.7540039642607\n"
     ]
    },
    {
     "name": "stderr",
     "output_type": "stream",
     "text": [
      "100%|█████████████████████████████████████████████████████████████████████████████| 2010/2010 [00:04<00:00, 486.94it/s]\n",
      "  3%|██                                                                             | 51/2010 [00:00<00:03, 501.34it/s]"
     ]
    },
    {
     "name": "stdout",
     "output_type": "stream",
     "text": [
      "episode : 793 reward : -5.135292008665465\n",
      "total test reward=265.19628156178294\n"
     ]
    },
    {
     "name": "stderr",
     "output_type": "stream",
     "text": [
      "100%|█████████████████████████████████████████████████████████████████████████████| 2010/2010 [00:04<00:00, 494.76it/s]\n",
      "  3%|██▏                                                                            | 56/2010 [00:00<00:03, 530.35it/s]"
     ]
    },
    {
     "name": "stdout",
     "output_type": "stream",
     "text": [
      "episode : 794 reward : 244.51531666211622\n",
      "total test reward=301.11084872486333\n"
     ]
    },
    {
     "name": "stderr",
     "output_type": "stream",
     "text": [
      "100%|█████████████████████████████████████████████████████████████████████████████| 2010/2010 [00:03<00:00, 503.96it/s]\n",
      "  2%|█▉                                                                             | 50/2010 [00:00<00:04, 473.21it/s]"
     ]
    },
    {
     "name": "stdout",
     "output_type": "stream",
     "text": [
      "episode : 795 reward : 76.24219061251587\n",
      "total test reward=301.4630627008539\n"
     ]
    },
    {
     "name": "stderr",
     "output_type": "stream",
     "text": [
      "100%|█████████████████████████████████████████████████████████████████████████████| 2010/2010 [00:04<00:00, 495.20it/s]\n",
      "  3%|██                                                                             | 53/2010 [00:00<00:03, 498.58it/s]"
     ]
    },
    {
     "name": "stdout",
     "output_type": "stream",
     "text": [
      "episode : 796 reward : 298.7230580138287\n",
      "total test reward=299.82584893904493\n"
     ]
    },
    {
     "name": "stderr",
     "output_type": "stream",
     "text": [
      "100%|█████████████████████████████████████████████████████████████████████████████| 2010/2010 [00:04<00:00, 500.03it/s]\n",
      "  2%|█▉                                                                             | 49/2010 [00:00<00:04, 430.08it/s]"
     ]
    },
    {
     "name": "stdout",
     "output_type": "stream",
     "text": [
      "episode : 797 reward : 293.16209914386326\n",
      "total test reward=299.95943015172986\n"
     ]
    },
    {
     "name": "stderr",
     "output_type": "stream",
     "text": [
      "100%|█████████████████████████████████████████████████████████████████████████████| 2010/2010 [00:04<00:00, 498.33it/s]\n",
      "  3%|██                                                                             | 52/2010 [00:00<00:03, 511.16it/s]"
     ]
    },
    {
     "name": "stdout",
     "output_type": "stream",
     "text": [
      "episode : 798 reward : 63.685633641627646\n",
      "total test reward=299.32760805350506\n"
     ]
    },
    {
     "name": "stderr",
     "output_type": "stream",
     "text": [
      "100%|█████████████████████████████████████████████████████████████████████████████| 2010/2010 [00:04<00:00, 495.85it/s]\n",
      "  3%|██                                                                             | 51/2010 [00:00<00:03, 501.45it/s]"
     ]
    },
    {
     "name": "stdout",
     "output_type": "stream",
     "text": [
      "episode : 799 reward : 85.40256977706801\n",
      "total test reward=299.5957719113818\n"
     ]
    },
    {
     "name": "stderr",
     "output_type": "stream",
     "text": [
      "100%|█████████████████████████████████████████████████████████████████████████████| 2010/2010 [00:04<00:00, 493.85it/s]\n",
      "  2%|█▉                                                                             | 48/2010 [00:00<00:04, 458.56it/s]"
     ]
    },
    {
     "name": "stdout",
     "output_type": "stream",
     "text": [
      "episode : 800 reward : 84.12143001744842\n",
      "total test reward=296.8594942753669\n"
     ]
    },
    {
     "name": "stderr",
     "output_type": "stream",
     "text": [
      "100%|█████████████████████████████████████████████████████████████████████████████| 2010/2010 [00:04<00:00, 496.39it/s]\n",
      "  3%|██                                                                             | 54/2010 [00:00<00:04, 486.50it/s]"
     ]
    },
    {
     "name": "stdout",
     "output_type": "stream",
     "text": [
      "episode : 801 reward : 38.629335462646175\n",
      "total test reward=297.66254207234937\n"
     ]
    },
    {
     "name": "stderr",
     "output_type": "stream",
     "text": [
      "100%|█████████████████████████████████████████████████████████████████████████████| 2010/2010 [00:04<00:00, 500.84it/s]\n",
      "  2%|█▉                                                                             | 50/2010 [00:00<00:03, 491.35it/s]"
     ]
    },
    {
     "name": "stdout",
     "output_type": "stream",
     "text": [
      "episode : 802 reward : 173.9129325453347\n",
      "total test reward=297.6583018021177\n"
     ]
    },
    {
     "name": "stderr",
     "output_type": "stream",
     "text": [
      "100%|█████████████████████████████████████████████████████████████████████████████| 2010/2010 [00:03<00:00, 502.90it/s]\n",
      "  2%|█▋                                                                             | 43/2010 [00:00<00:04, 423.73it/s]"
     ]
    },
    {
     "name": "stdout",
     "output_type": "stream",
     "text": [
      "episode : 803 reward : 293.64786969409397\n",
      "total test reward=264.9330435162662\n"
     ]
    },
    {
     "name": "stderr",
     "output_type": "stream",
     "text": [
      "100%|█████████████████████████████████████████████████████████████████████████████| 2010/2010 [00:03<00:00, 504.09it/s]\n",
      "  2%|█▊                                                                             | 46/2010 [00:00<00:04, 452.19it/s]"
     ]
    },
    {
     "name": "stdout",
     "output_type": "stream",
     "text": [
      "episode : 804 reward : 151.4734011831396\n",
      "total test reward=295.6685583717468\n"
     ]
    },
    {
     "name": "stderr",
     "output_type": "stream",
     "text": [
      "100%|█████████████████████████████████████████████████████████████████████████████| 2010/2010 [00:04<00:00, 487.83it/s]\n",
      "  2%|█▊                                                                             | 46/2010 [00:00<00:04, 435.05it/s]"
     ]
    },
    {
     "name": "stdout",
     "output_type": "stream",
     "text": [
      "episode : 805 reward : 233.7676403674532\n",
      "total test reward=297.81453393380315\n"
     ]
    },
    {
     "name": "stderr",
     "output_type": "stream",
     "text": [
      "100%|█████████████████████████████████████████████████████████████████████████████| 2010/2010 [00:04<00:00, 494.85it/s]\n",
      "  5%|███▊                                                                           | 98/2010 [00:00<00:04, 476.43it/s]"
     ]
    },
    {
     "name": "stdout",
     "output_type": "stream",
     "text": [
      "episode : 806 reward : 198.86543019078695\n",
      "total test reward=281.83413472407307\n"
     ]
    },
    {
     "name": "stderr",
     "output_type": "stream",
     "text": [
      "100%|█████████████████████████████████████████████████████████████████████████████| 2010/2010 [00:04<00:00, 493.17it/s]\n",
      "  2%|█▉                                                                             | 48/2010 [00:00<00:04, 476.52it/s]"
     ]
    },
    {
     "name": "stdout",
     "output_type": "stream",
     "text": [
      "episode : 807 reward : 151.61535201666732\n",
      "total test reward=298.53221416024473\n"
     ]
    },
    {
     "name": "stderr",
     "output_type": "stream",
     "text": [
      "100%|█████████████████████████████████████████████████████████████████████████████| 2010/2010 [00:04<00:00, 491.78it/s]\n",
      "  2%|█▉                                                                             | 48/2010 [00:00<00:04, 479.77it/s]"
     ]
    },
    {
     "name": "stdout",
     "output_type": "stream",
     "text": [
      "episode : 808 reward : 247.5908056462353\n",
      "total test reward=298.199600432606\n"
     ]
    },
    {
     "name": "stderr",
     "output_type": "stream",
     "text": [
      "100%|█████████████████████████████████████████████████████████████████████████████| 2010/2010 [00:04<00:00, 492.03it/s]\n",
      "  2%|█▉                                                                             | 49/2010 [00:00<00:04, 483.62it/s]"
     ]
    },
    {
     "name": "stdout",
     "output_type": "stream",
     "text": [
      "episode : 809 reward : 65.62974415832205\n",
      "total test reward=297.19431260663794\n"
     ]
    },
    {
     "name": "stderr",
     "output_type": "stream",
     "text": [
      "100%|█████████████████████████████████████████████████████████████████████████████| 2010/2010 [00:04<00:00, 446.06it/s]\n",
      "  2%|█▊                                                                             | 47/2010 [00:00<00:04, 463.14it/s]"
     ]
    },
    {
     "name": "stdout",
     "output_type": "stream",
     "text": [
      "episode : 810 reward : 20.807746181096615\n",
      "total test reward=298.8436895936917\n"
     ]
    },
    {
     "name": "stderr",
     "output_type": "stream",
     "text": [
      "100%|█████████████████████████████████████████████████████████████████████████████| 2010/2010 [00:04<00:00, 494.36it/s]\n",
      "  3%|██                                                                             | 53/2010 [00:00<00:04, 458.79it/s]"
     ]
    },
    {
     "name": "stdout",
     "output_type": "stream",
     "text": [
      "episode : 811 reward : 90.39824483150835\n",
      "total test reward=297.8512121498381\n"
     ]
    },
    {
     "name": "stderr",
     "output_type": "stream",
     "text": [
      "100%|█████████████████████████████████████████████████████████████████████████████| 2010/2010 [00:04<00:00, 498.31it/s]\n",
      "  3%|██                                                                             | 53/2010 [00:00<00:03, 526.15it/s]"
     ]
    },
    {
     "name": "stdout",
     "output_type": "stream",
     "text": [
      "episode : 812 reward : 288.8487468669857\n",
      "total test reward=297.4048684369052\n"
     ]
    },
    {
     "name": "stderr",
     "output_type": "stream",
     "text": [
      "100%|█████████████████████████████████████████████████████████████████████████████| 2010/2010 [00:04<00:00, 477.69it/s]\n",
      "  2%|█▊                                                                             | 45/2010 [00:00<00:04, 440.85it/s]"
     ]
    },
    {
     "name": "stdout",
     "output_type": "stream",
     "text": [
      "episode : 813 reward : 90.71917282284133\n",
      "total test reward=296.5978826254383\n"
     ]
    },
    {
     "name": "stderr",
     "output_type": "stream",
     "text": [
      "100%|█████████████████████████████████████████████████████████████████████████████| 2010/2010 [00:04<00:00, 495.28it/s]\n",
      "  2%|█▉                                                                             | 48/2010 [00:00<00:04, 460.01it/s]"
     ]
    },
    {
     "name": "stdout",
     "output_type": "stream",
     "text": [
      "episode : 814 reward : 290.9422819925095\n",
      "total test reward=296.37463192144367\n"
     ]
    },
    {
     "name": "stderr",
     "output_type": "stream",
     "text": [
      "100%|█████████████████████████████████████████████████████████████████████████████| 2010/2010 [00:04<00:00, 480.51it/s]\n",
      "  2%|█▉                                                                             | 48/2010 [00:00<00:04, 426.87it/s]"
     ]
    },
    {
     "name": "stdout",
     "output_type": "stream",
     "text": [
      "episode : 815 reward : 163.17096509893634\n",
      "total test reward=299.24557275876816\n"
     ]
    },
    {
     "name": "stderr",
     "output_type": "stream",
     "text": [
      "100%|█████████████████████████████████████████████████████████████████████████████| 2010/2010 [00:04<00:00, 476.96it/s]\n",
      "  3%|██                                                                             | 52/2010 [00:00<00:03, 511.16it/s]"
     ]
    },
    {
     "name": "stdout",
     "output_type": "stream",
     "text": [
      "episode : 816 reward : 102.7810031489072\n",
      "total test reward=299.43433430247916\n"
     ]
    },
    {
     "name": "stderr",
     "output_type": "stream",
     "text": [
      "100%|█████████████████████████████████████████████████████████████████████████████| 2010/2010 [00:04<00:00, 496.32it/s]\n",
      "  5%|███▉                                                                           | 99/2010 [00:00<00:03, 497.97it/s]"
     ]
    },
    {
     "name": "stdout",
     "output_type": "stream",
     "text": [
      "episode : 817 reward : 162.4538860184687\n",
      "total test reward=300.8944930889778\n"
     ]
    },
    {
     "name": "stderr",
     "output_type": "stream",
     "text": [
      "100%|█████████████████████████████████████████████████████████████████████████████| 2010/2010 [00:04<00:00, 493.91it/s]\n",
      "  2%|█▋                                                                             | 44/2010 [00:00<00:04, 421.03it/s]"
     ]
    },
    {
     "name": "stdout",
     "output_type": "stream",
     "text": [
      "episode : 818 reward : 211.62196274544843\n",
      "total test reward=300.9767631831258\n"
     ]
    },
    {
     "name": "stderr",
     "output_type": "stream",
     "text": [
      "100%|█████████████████████████████████████████████████████████████████████████████| 2010/2010 [00:04<00:00, 489.64it/s]\n",
      "  2%|█▋                                                                             | 43/2010 [00:00<00:04, 429.35it/s]"
     ]
    },
    {
     "name": "stdout",
     "output_type": "stream",
     "text": [
      "episode : 819 reward : 145.90500207144964\n",
      "total test reward=280.5214209209\n"
     ]
    },
    {
     "name": "stderr",
     "output_type": "stream",
     "text": [
      "100%|█████████████████████████████████████████████████████████████████████████████| 2010/2010 [00:04<00:00, 485.08it/s]\n",
      "  3%|██                                                                             | 53/2010 [00:00<00:04, 484.87it/s]"
     ]
    },
    {
     "name": "stdout",
     "output_type": "stream",
     "text": [
      "episode : 820 reward : 296.28762438347286\n",
      "total test reward=300.6008150824869\n"
     ]
    },
    {
     "name": "stderr",
     "output_type": "stream",
     "text": [
      "100%|█████████████████████████████████████████████████████████████████████████████| 2010/2010 [00:04<00:00, 489.12it/s]\n",
      "  2%|█▌                                                                             | 39/2010 [00:00<00:05, 365.91it/s]"
     ]
    },
    {
     "name": "stdout",
     "output_type": "stream",
     "text": [
      "episode : 821 reward : 296.14085760473336\n",
      "total test reward=295.1402580714148\n"
     ]
    },
    {
     "name": "stderr",
     "output_type": "stream",
     "text": [
      "100%|█████████████████████████████████████████████████████████████████████████████| 2010/2010 [00:04<00:00, 476.70it/s]\n",
      "  2%|█▊                                                                             | 45/2010 [00:00<00:04, 449.01it/s]"
     ]
    },
    {
     "name": "stdout",
     "output_type": "stream",
     "text": [
      "episode : 822 reward : 186.7419554806396\n",
      "total test reward=299.96914329636866\n"
     ]
    },
    {
     "name": "stderr",
     "output_type": "stream",
     "text": [
      "100%|█████████████████████████████████████████████████████████████████████████████| 2010/2010 [00:03<00:00, 502.63it/s]\n",
      "  3%|██▏                                                                            | 55/2010 [00:00<00:04, 480.65it/s]"
     ]
    },
    {
     "name": "stdout",
     "output_type": "stream",
     "text": [
      "episode : 823 reward : 293.71066572815687\n",
      "total test reward=299.6654100929053\n"
     ]
    },
    {
     "name": "stderr",
     "output_type": "stream",
     "text": [
      "100%|█████████████████████████████████████████████████████████████████████████████| 2010/2010 [00:04<00:00, 479.45it/s]\n",
      "  2%|█▊                                                                             | 47/2010 [00:00<00:04, 462.01it/s]"
     ]
    },
    {
     "name": "stdout",
     "output_type": "stream",
     "text": [
      "episode : 824 reward : 71.26409084276456\n",
      "total test reward=300.6298259633061\n"
     ]
    },
    {
     "name": "stderr",
     "output_type": "stream",
     "text": [
      "100%|█████████████████████████████████████████████████████████████████████████████| 2010/2010 [00:04<00:00, 498.86it/s]\n",
      "  2%|█▋                                                                             | 42/2010 [00:00<00:04, 412.17it/s]"
     ]
    },
    {
     "name": "stdout",
     "output_type": "stream",
     "text": [
      "episode : 825 reward : 294.141595112283\n",
      "total test reward=300.24179761659394\n"
     ]
    },
    {
     "name": "stderr",
     "output_type": "stream",
     "text": [
      "100%|█████████████████████████████████████████████████████████████████████████████| 2010/2010 [00:04<00:00, 489.13it/s]\n",
      "  3%|██                                                                             | 51/2010 [00:00<00:03, 509.77it/s]"
     ]
    },
    {
     "name": "stdout",
     "output_type": "stream",
     "text": [
      "episode : 826 reward : 168.1619181308418\n",
      "total test reward=301.12498494212207\n"
     ]
    },
    {
     "name": "stderr",
     "output_type": "stream",
     "text": [
      "100%|█████████████████████████████████████████████████████████████████████████████| 2010/2010 [00:04<00:00, 490.47it/s]\n",
      "  2%|█▉                                                                             | 50/2010 [00:00<00:03, 491.50it/s]"
     ]
    },
    {
     "name": "stdout",
     "output_type": "stream",
     "text": [
      "episode : 827 reward : 77.64888396310619\n",
      "total test reward=300.2770760338336\n"
     ]
    },
    {
     "name": "stderr",
     "output_type": "stream",
     "text": [
      "100%|█████████████████████████████████████████████████████████████████████████████| 2010/2010 [00:04<00:00, 485.21it/s]\n",
      "  2%|█▉                                                                             | 48/2010 [00:00<00:04, 476.36it/s]"
     ]
    },
    {
     "name": "stdout",
     "output_type": "stream",
     "text": [
      "episode : 828 reward : 122.97085310131925\n",
      "total test reward=300.99022287750347\n"
     ]
    },
    {
     "name": "stderr",
     "output_type": "stream",
     "text": [
      "100%|█████████████████████████████████████████████████████████████████████████████| 2010/2010 [00:04<00:00, 482.13it/s]\n",
      "  2%|█▉                                                                             | 50/2010 [00:00<00:03, 496.37it/s]"
     ]
    },
    {
     "name": "stdout",
     "output_type": "stream",
     "text": [
      "episode : 829 reward : 27.740389453071394\n",
      "total test reward=301.4015588347588\n"
     ]
    },
    {
     "name": "stderr",
     "output_type": "stream",
     "text": [
      "100%|█████████████████████████████████████████████████████████████████████████████| 2010/2010 [00:04<00:00, 486.91it/s]\n",
      "  2%|█▉                                                                             | 48/2010 [00:00<00:04, 476.52it/s]"
     ]
    },
    {
     "name": "stdout",
     "output_type": "stream",
     "text": [
      "episode : 830 reward : 7.758902098792037\n",
      "total test reward=302.2010443996336\n"
     ]
    },
    {
     "name": "stderr",
     "output_type": "stream",
     "text": [
      "100%|█████████████████████████████████████████████████████████████████████████████| 2010/2010 [00:04<00:00, 486.06it/s]\n",
      "  2%|█▉                                                                             | 50/2010 [00:00<00:04, 471.18it/s]"
     ]
    },
    {
     "name": "stdout",
     "output_type": "stream",
     "text": [
      "episode : 831 reward : 297.71334555225366\n",
      "total test reward=301.29754170930516\n"
     ]
    },
    {
     "name": "stderr",
     "output_type": "stream",
     "text": [
      "100%|█████████████████████████████████████████████████████████████████████████████| 2010/2010 [00:04<00:00, 477.71it/s]\n",
      "  2%|█▊                                                                             | 47/2010 [00:00<00:04, 415.26it/s]"
     ]
    },
    {
     "name": "stdout",
     "output_type": "stream",
     "text": [
      "episode : 832 reward : 49.455182428368566\n",
      "total test reward=298.97994023405937\n"
     ]
    },
    {
     "name": "stderr",
     "output_type": "stream",
     "text": [
      "100%|█████████████████████████████████████████████████████████████████████████████| 2010/2010 [00:04<00:00, 453.60it/s]\n",
      "  2%|█▍                                                                             | 37/2010 [00:00<00:05, 343.52it/s]"
     ]
    },
    {
     "name": "stdout",
     "output_type": "stream",
     "text": [
      "episode : 833 reward : 297.6130477455586\n",
      "total test reward=300.95056914584217\n"
     ]
    },
    {
     "name": "stderr",
     "output_type": "stream",
     "text": [
      "100%|█████████████████████████████████████████████████████████████████████████████| 2010/2010 [00:03<00:00, 507.03it/s]\n",
      "  3%|██                                                                             | 51/2010 [00:00<00:04, 460.83it/s]"
     ]
    },
    {
     "name": "stdout",
     "output_type": "stream",
     "text": [
      "episode : 834 reward : 18.842208761850774\n",
      "total test reward=300.88855781450775\n"
     ]
    },
    {
     "name": "stderr",
     "output_type": "stream",
     "text": [
      "100%|█████████████████████████████████████████████████████████████████████████████| 2010/2010 [00:04<00:00, 499.66it/s]\n",
      "  3%|██                                                                             | 52/2010 [00:00<00:03, 511.17it/s]"
     ]
    },
    {
     "name": "stdout",
     "output_type": "stream",
     "text": [
      "episode : 835 reward : 297.8180134909823\n",
      "total test reward=300.1786337423786\n"
     ]
    },
    {
     "name": "stderr",
     "output_type": "stream",
     "text": [
      "100%|█████████████████████████████████████████████████████████████████████████████| 2010/2010 [00:04<00:00, 498.40it/s]\n",
      "  2%|█▉                                                                             | 48/2010 [00:00<00:04, 471.84it/s]"
     ]
    },
    {
     "name": "stdout",
     "output_type": "stream",
     "text": [
      "episode : 836 reward : 227.52106418799016\n",
      "total test reward=297.71028060062076\n"
     ]
    },
    {
     "name": "stderr",
     "output_type": "stream",
     "text": [
      "100%|█████████████████████████████████████████████████████████████████████████████| 2010/2010 [00:03<00:00, 520.15it/s]\n",
      "  2%|█▉                                                                             | 48/2010 [00:00<00:04, 463.24it/s]"
     ]
    },
    {
     "name": "stdout",
     "output_type": "stream",
     "text": [
      "episode : 837 reward : 112.49378401303092\n",
      "total test reward=297.48256254317573\n"
     ]
    },
    {
     "name": "stderr",
     "output_type": "stream",
     "text": [
      "100%|█████████████████████████████████████████████████████████████████████████████| 2010/2010 [00:04<00:00, 490.79it/s]\n",
      "  3%|██                                                                             | 53/2010 [00:00<00:04, 466.35it/s]"
     ]
    },
    {
     "name": "stdout",
     "output_type": "stream",
     "text": [
      "episode : 838 reward : 224.86106380907802\n",
      "total test reward=299.8438691104419\n"
     ]
    },
    {
     "name": "stderr",
     "output_type": "stream",
     "text": [
      "100%|█████████████████████████████████████████████████████████████████████████████| 2010/2010 [00:03<00:00, 519.34it/s]\n",
      "  2%|█▉                                                                             | 50/2010 [00:00<00:04, 455.91it/s]"
     ]
    },
    {
     "name": "stdout",
     "output_type": "stream",
     "text": [
      "episode : 839 reward : 293.96786130532246\n",
      "total test reward=299.5699324915828\n"
     ]
    },
    {
     "name": "stderr",
     "output_type": "stream",
     "text": [
      "100%|█████████████████████████████████████████████████████████████████████████████| 2010/2010 [00:03<00:00, 504.24it/s]\n",
      "  2%|█▉                                                                             | 50/2010 [00:00<00:04, 461.47it/s]"
     ]
    },
    {
     "name": "stdout",
     "output_type": "stream",
     "text": [
      "episode : 840 reward : 295.190100175223\n",
      "total test reward=298.1256407818015\n"
     ]
    },
    {
     "name": "stderr",
     "output_type": "stream",
     "text": [
      "100%|█████████████████████████████████████████████████████████████████████████████| 2010/2010 [00:03<00:00, 524.76it/s]\n",
      "  5%|███▉                                                                          | 103/2010 [00:00<00:03, 516.97it/s]"
     ]
    },
    {
     "name": "stdout",
     "output_type": "stream",
     "text": [
      "episode : 841 reward : 39.09281568208576\n",
      "total test reward=283.9026677366128\n"
     ]
    },
    {
     "name": "stderr",
     "output_type": "stream",
     "text": [
      "100%|█████████████████████████████████████████████████████████████████████████████| 2010/2010 [00:03<00:00, 521.06it/s]\n",
      "  3%|██                                                                             | 54/2010 [00:00<00:03, 530.66it/s]"
     ]
    },
    {
     "name": "stdout",
     "output_type": "stream",
     "text": [
      "episode : 842 reward : 199.21651371589655\n",
      "total test reward=298.8775525788034\n"
     ]
    },
    {
     "name": "stderr",
     "output_type": "stream",
     "text": [
      "100%|█████████████████████████████████████████████████████████████████████████████| 2010/2010 [00:03<00:00, 526.96it/s]\n",
      "  3%|██▏                                                                            | 57/2010 [00:00<00:03, 493.73it/s]"
     ]
    },
    {
     "name": "stdout",
     "output_type": "stream",
     "text": [
      "episode : 843 reward : 113.37725041342004\n",
      "total test reward=298.6035820058037\n"
     ]
    },
    {
     "name": "stderr",
     "output_type": "stream",
     "text": [
      "100%|█████████████████████████████████████████████████████████████████████████████| 2010/2010 [00:03<00:00, 512.00it/s]\n",
      "  3%|██▏                                                                            | 57/2010 [00:00<00:03, 502.42it/s]"
     ]
    },
    {
     "name": "stdout",
     "output_type": "stream",
     "text": [
      "episode : 844 reward : 295.16673418146115\n",
      "total test reward=300.6974520685595\n"
     ]
    },
    {
     "name": "stderr",
     "output_type": "stream",
     "text": [
      "100%|█████████████████████████████████████████████████████████████████████████████| 2010/2010 [00:03<00:00, 512.16it/s]\n",
      "  2%|█▊                                                                             | 47/2010 [00:00<00:04, 423.70it/s]"
     ]
    },
    {
     "name": "stdout",
     "output_type": "stream",
     "text": [
      "episode : 845 reward : 89.65853255477313\n",
      "total test reward=299.8542007532444\n"
     ]
    },
    {
     "name": "stderr",
     "output_type": "stream",
     "text": [
      "100%|█████████████████████████████████████████████████████████████████████████████| 2010/2010 [00:03<00:00, 515.93it/s]\n",
      "  3%|██                                                                             | 51/2010 [00:00<00:04, 482.68it/s]"
     ]
    },
    {
     "name": "stdout",
     "output_type": "stream",
     "text": [
      "episode : 846 reward : 116.39743975813082\n",
      "total test reward=300.9682854370905\n"
     ]
    },
    {
     "name": "stderr",
     "output_type": "stream",
     "text": [
      "100%|█████████████████████████████████████████████████████████████████████████████| 2010/2010 [00:03<00:00, 522.54it/s]\n",
      "  2%|█▉                                                                             | 49/2010 [00:00<00:04, 437.96it/s]"
     ]
    },
    {
     "name": "stdout",
     "output_type": "stream",
     "text": [
      "episode : 847 reward : 63.80039544305836\n",
      "total test reward=298.9179508251429\n"
     ]
    },
    {
     "name": "stderr",
     "output_type": "stream",
     "text": [
      "100%|█████████████████████████████████████████████████████████████████████████████| 2010/2010 [00:03<00:00, 518.92it/s]\n",
      "  3%|██▏                                                                            | 56/2010 [00:00<00:03, 515.97it/s]"
     ]
    },
    {
     "name": "stdout",
     "output_type": "stream",
     "text": [
      "episode : 848 reward : 51.55310053466477\n",
      "total test reward=297.23768632214643\n"
     ]
    },
    {
     "name": "stderr",
     "output_type": "stream",
     "text": [
      "100%|█████████████████████████████████████████████████████████████████████████████| 2010/2010 [00:03<00:00, 518.92it/s]\n",
      "  3%|██▏                                                                            | 55/2010 [00:00<00:03, 517.73it/s]"
     ]
    },
    {
     "name": "stdout",
     "output_type": "stream",
     "text": [
      "episode : 849 reward : 280.3346161878178\n",
      "total test reward=297.8446064961696\n"
     ]
    },
    {
     "name": "stderr",
     "output_type": "stream",
     "text": [
      "100%|█████████████████████████████████████████████████████████████████████████████| 2010/2010 [00:03<00:00, 527.17it/s]\n",
      "  3%|██                                                                             | 54/2010 [00:00<00:03, 535.91it/s]"
     ]
    },
    {
     "name": "stdout",
     "output_type": "stream",
     "text": [
      "episode : 850 reward : 127.81651332016466\n",
      "total test reward=296.13276131398953\n"
     ]
    },
    {
     "name": "stderr",
     "output_type": "stream",
     "text": [
      "100%|█████████████████████████████████████████████████████████████████████████████| 2010/2010 [00:03<00:00, 531.30it/s]\n",
      "  3%|██▎                                                                            | 59/2010 [00:00<00:03, 531.48it/s]"
     ]
    },
    {
     "name": "stdout",
     "output_type": "stream",
     "text": [
      "episode : 851 reward : 118.45226470826083\n",
      "total test reward=296.8950466653869\n"
     ]
    },
    {
     "name": "stderr",
     "output_type": "stream",
     "text": [
      "100%|█████████████████████████████████████████████████████████████████████████████| 2010/2010 [00:03<00:00, 510.14it/s]\n",
      "  5%|███▊                                                                           | 97/2010 [00:00<00:04, 445.77it/s]"
     ]
    },
    {
     "name": "stdout",
     "output_type": "stream",
     "text": [
      "episode : 852 reward : 189.31515167031986\n",
      "total test reward=295.80193240201663\n"
     ]
    },
    {
     "name": "stderr",
     "output_type": "stream",
     "text": [
      "100%|█████████████████████████████████████████████████████████████████████████████| 2010/2010 [00:03<00:00, 515.27it/s]\n",
      "  2%|█▊                                                                             | 47/2010 [00:00<00:04, 450.75it/s]"
     ]
    },
    {
     "name": "stdout",
     "output_type": "stream",
     "text": [
      "episode : 853 reward : 288.99776279205867\n",
      "total test reward=295.8377637922576\n"
     ]
    },
    {
     "name": "stderr",
     "output_type": "stream",
     "text": [
      "100%|█████████████████████████████████████████████████████████████████████████████| 2010/2010 [00:04<00:00, 501.81it/s]\n",
      "  3%|██                                                                             | 51/2010 [00:00<00:03, 501.19it/s]"
     ]
    },
    {
     "name": "stdout",
     "output_type": "stream",
     "text": [
      "episode : 854 reward : 291.7283252080072\n",
      "total test reward=296.3978831938342\n"
     ]
    },
    {
     "name": "stderr",
     "output_type": "stream",
     "text": [
      "100%|█████████████████████████████████████████████████████████████████████████████| 2010/2010 [00:03<00:00, 504.38it/s]\n",
      "  5%|███▊                                                                           | 98/2010 [00:00<00:03, 486.57it/s]"
     ]
    },
    {
     "name": "stdout",
     "output_type": "stream",
     "text": [
      "episode : 855 reward : 161.28869580572768\n",
      "total test reward=296.12798098463475\n"
     ]
    },
    {
     "name": "stderr",
     "output_type": "stream",
     "text": [
      "100%|█████████████████████████████████████████████████████████████████████████████| 2010/2010 [00:04<00:00, 492.43it/s]\n",
      "  2%|█▊                                                                             | 47/2010 [00:00<00:04, 462.16it/s]"
     ]
    },
    {
     "name": "stdout",
     "output_type": "stream",
     "text": [
      "episode : 856 reward : 165.14160407306716\n",
      "total test reward=297.72131474274875\n"
     ]
    },
    {
     "name": "stderr",
     "output_type": "stream",
     "text": [
      "100%|█████████████████████████████████████████████████████████████████████████████| 2010/2010 [00:04<00:00, 496.60it/s]\n",
      "  3%|██                                                                             | 53/2010 [00:00<00:03, 526.15it/s]"
     ]
    },
    {
     "name": "stdout",
     "output_type": "stream",
     "text": [
      "episode : 857 reward : 146.05923231817587\n",
      "total test reward=298.2903016315824\n"
     ]
    },
    {
     "name": "stderr",
     "output_type": "stream",
     "text": [
      "100%|█████████████████████████████████████████████████████████████████████████████| 2010/2010 [00:03<00:00, 512.35it/s]\n",
      "  2%|█▋                                                                             | 42/2010 [00:00<00:04, 412.67it/s]"
     ]
    },
    {
     "name": "stdout",
     "output_type": "stream",
     "text": [
      "episode : 858 reward : 294.8229866039709\n",
      "total test reward=296.58879196137065\n"
     ]
    },
    {
     "name": "stderr",
     "output_type": "stream",
     "text": [
      "100%|█████████████████████████████████████████████████████████████████████████████| 2010/2010 [00:04<00:00, 492.38it/s]\n",
      "  2%|█▉                                                                             | 48/2010 [00:00<00:04, 471.69it/s]"
     ]
    },
    {
     "name": "stdout",
     "output_type": "stream",
     "text": [
      "episode : 859 reward : 147.37772176629275\n",
      "total test reward=296.30059805694134\n"
     ]
    },
    {
     "name": "stderr",
     "output_type": "stream",
     "text": [
      "100%|█████████████████████████████████████████████████████████████████████████████| 2010/2010 [00:04<00:00, 498.95it/s]\n",
      "  2%|█▉                                                                             | 50/2010 [00:00<00:03, 491.48it/s]"
     ]
    },
    {
     "name": "stdout",
     "output_type": "stream",
     "text": [
      "episode : 860 reward : 149.06903748929673\n",
      "total test reward=296.61748645677454\n"
     ]
    },
    {
     "name": "stderr",
     "output_type": "stream",
     "text": [
      "100%|█████████████████████████████████████████████████████████████████████████████| 2010/2010 [00:03<00:00, 505.09it/s]\n",
      "  2%|█▉                                                                             | 49/2010 [00:00<00:04, 481.68it/s]"
     ]
    },
    {
     "name": "stdout",
     "output_type": "stream",
     "text": [
      "episode : 861 reward : 7.014039781457377\n",
      "total test reward=297.1798436110643\n"
     ]
    },
    {
     "name": "stderr",
     "output_type": "stream",
     "text": [
      "100%|█████████████████████████████████████████████████████████████████████████████| 2010/2010 [00:03<00:00, 504.31it/s]\n",
      "  5%|███▉                                                                          | 102/2010 [00:00<00:03, 493.37it/s]"
     ]
    },
    {
     "name": "stdout",
     "output_type": "stream",
     "text": [
      "episode : 862 reward : 255.92726838358334\n",
      "total test reward=295.9181677782557\n"
     ]
    },
    {
     "name": "stderr",
     "output_type": "stream",
     "text": [
      "100%|█████████████████████████████████████████████████████████████████████████████| 2010/2010 [00:04<00:00, 498.70it/s]\n",
      "  2%|█▉                                                                             | 48/2010 [00:00<00:04, 479.76it/s]"
     ]
    },
    {
     "name": "stdout",
     "output_type": "stream",
     "text": [
      "episode : 863 reward : 119.9360291184032\n",
      "total test reward=296.17463012137733\n"
     ]
    },
    {
     "name": "stderr",
     "output_type": "stream",
     "text": [
      "100%|█████████████████████████████████████████████████████████████████████████████| 2010/2010 [00:04<00:00, 493.26it/s]\n",
      "  3%|██                                                                             | 52/2010 [00:00<00:03, 511.16it/s]"
     ]
    },
    {
     "name": "stdout",
     "output_type": "stream",
     "text": [
      "episode : 864 reward : 193.02592437131756\n",
      "total test reward=296.4653673253491\n"
     ]
    },
    {
     "name": "stderr",
     "output_type": "stream",
     "text": [
      "100%|█████████████████████████████████████████████████████████████████████████████| 2010/2010 [00:04<00:00, 498.37it/s]\n",
      "  2%|█▋                                                                             | 44/2010 [00:00<00:04, 431.72it/s]"
     ]
    },
    {
     "name": "stdout",
     "output_type": "stream",
     "text": [
      "episode : 865 reward : 296.1014762214905\n",
      "total test reward=297.90546434088765\n"
     ]
    },
    {
     "name": "stderr",
     "output_type": "stream",
     "text": [
      "100%|█████████████████████████████████████████████████████████████████████████████| 2010/2010 [00:04<00:00, 499.41it/s]\n",
      "  2%|█▊                                                                             | 47/2010 [00:00<00:04, 466.60it/s]"
     ]
    },
    {
     "name": "stdout",
     "output_type": "stream",
     "text": [
      "episode : 866 reward : 295.07258844953094\n",
      "total test reward=295.57008105838514\n"
     ]
    },
    {
     "name": "stderr",
     "output_type": "stream",
     "text": [
      "100%|█████████████████████████████████████████████████████████████████████████████| 2010/2010 [00:04<00:00, 496.72it/s]\n",
      "  2%|█▊                                                                             | 46/2010 [00:00<00:04, 456.66it/s]"
     ]
    },
    {
     "name": "stdout",
     "output_type": "stream",
     "text": [
      "episode : 867 reward : 174.37554476679918\n",
      "total test reward=295.08172497867133\n"
     ]
    },
    {
     "name": "stderr",
     "output_type": "stream",
     "text": [
      "100%|█████████████████████████████████████████████████████████████████████████████| 2010/2010 [00:04<00:00, 492.37it/s]\n",
      "  3%|██                                                                             | 52/2010 [00:00<00:03, 511.01it/s]"
     ]
    },
    {
     "name": "stdout",
     "output_type": "stream",
     "text": [
      "episode : 868 reward : 142.6981728653198\n",
      "total test reward=295.74708714401606\n"
     ]
    },
    {
     "name": "stderr",
     "output_type": "stream",
     "text": [
      "100%|█████████████████████████████████████████████████████████████████████████████| 2010/2010 [00:04<00:00, 495.87it/s]\n",
      "  2%|█▉                                                                             | 50/2010 [00:00<00:04, 483.36it/s]"
     ]
    },
    {
     "name": "stdout",
     "output_type": "stream",
     "text": [
      "episode : 869 reward : 93.00797231811207\n",
      "total test reward=165.94901244077928\n"
     ]
    },
    {
     "name": "stderr",
     "output_type": "stream",
     "text": [
      "100%|█████████████████████████████████████████████████████████████████████████████| 2010/2010 [00:03<00:00, 506.78it/s]\n",
      "  2%|█▋                                                                             | 43/2010 [00:00<00:04, 419.20it/s]"
     ]
    },
    {
     "name": "stdout",
     "output_type": "stream",
     "text": [
      "episode : 870 reward : 78.60941700633592\n",
      "total test reward=30.20398988534717\n"
     ]
    },
    {
     "name": "stderr",
     "output_type": "stream",
     "text": [
      "100%|█████████████████████████████████████████████████████████████████████████████| 2010/2010 [00:03<00:00, 502.69it/s]\n",
      "  2%|█▋                                                                             | 43/2010 [00:00<00:04, 428.61it/s]"
     ]
    },
    {
     "name": "stdout",
     "output_type": "stream",
     "text": [
      "episode : 871 reward : 88.28197668942853\n",
      "total test reward=162.34775055305846\n"
     ]
    },
    {
     "name": "stderr",
     "output_type": "stream",
     "text": [
      "100%|█████████████████████████████████████████████████████████████████████████████| 2010/2010 [00:04<00:00, 474.93it/s]\n",
      "  3%|██                                                                             | 53/2010 [00:00<00:03, 512.38it/s]"
     ]
    },
    {
     "name": "stdout",
     "output_type": "stream",
     "text": [
      "episode : 872 reward : 4.301669063654204\n",
      "total test reward=-34.61434171679231\n"
     ]
    },
    {
     "name": "stderr",
     "output_type": "stream",
     "text": [
      "100%|█████████████████████████████████████████████████████████████████████████████| 2010/2010 [00:04<00:00, 491.41it/s]\n",
      "  3%|██                                                                             | 51/2010 [00:00<00:03, 501.50it/s]"
     ]
    },
    {
     "name": "stdout",
     "output_type": "stream",
     "text": [
      "episode : 873 reward : 298.3970378992848\n",
      "total test reward=-33.32830570247286\n"
     ]
    },
    {
     "name": "stderr",
     "output_type": "stream",
     "text": [
      "100%|█████████████████████████████████████████████████████████████████████████████| 2010/2010 [00:04<00:00, 491.73it/s]\n",
      "  2%|█▉                                                                             | 48/2010 [00:00<00:04, 476.45it/s]"
     ]
    },
    {
     "name": "stdout",
     "output_type": "stream",
     "text": [
      "episode : 874 reward : 187.94440491058668\n",
      "total test reward=227.7117853533898\n"
     ]
    },
    {
     "name": "stderr",
     "output_type": "stream",
     "text": [
      "100%|█████████████████████████████████████████████████████████████████████████████| 2010/2010 [00:04<00:00, 489.04it/s]\n",
      "  3%|██                                                                             | 53/2010 [00:00<00:04, 476.38it/s]"
     ]
    },
    {
     "name": "stdout",
     "output_type": "stream",
     "text": [
      "episode : 875 reward : 5.993587829425846\n",
      "total test reward=294.8153901974516\n"
     ]
    },
    {
     "name": "stderr",
     "output_type": "stream",
     "text": [
      "100%|█████████████████████████████████████████████████████████████████████████████| 2010/2010 [00:04<00:00, 485.28it/s]\n",
      "  3%|██                                                                             | 52/2010 [00:00<00:03, 516.18it/s]"
     ]
    },
    {
     "name": "stdout",
     "output_type": "stream",
     "text": [
      "episode : 876 reward : 296.7408137922331\n",
      "total test reward=295.5724763159995\n"
     ]
    },
    {
     "name": "stderr",
     "output_type": "stream",
     "text": [
      "100%|█████████████████████████████████████████████████████████████████████████████| 2010/2010 [00:04<00:00, 497.42it/s]\n",
      "  2%|█▊                                                                             | 47/2010 [00:00<00:04, 466.60it/s]"
     ]
    },
    {
     "name": "stdout",
     "output_type": "stream",
     "text": [
      "episode : 877 reward : 242.36127569874293\n",
      "total test reward=230.8337716797891\n"
     ]
    },
    {
     "name": "stderr",
     "output_type": "stream",
     "text": [
      "100%|█████████████████████████████████████████████████████████████████████████████| 2010/2010 [00:04<00:00, 494.27it/s]\n",
      "  2%|█▉                                                                             | 48/2010 [00:00<00:04, 472.37it/s]"
     ]
    },
    {
     "name": "stdout",
     "output_type": "stream",
     "text": [
      "episode : 878 reward : 137.2430107611416\n",
      "total test reward=95.69551030914515\n"
     ]
    },
    {
     "name": "stderr",
     "output_type": "stream",
     "text": [
      "100%|█████████████████████████████████████████████████████████████████████████████| 2010/2010 [00:04<00:00, 492.23it/s]\n",
      "  2%|█▉                                                                             | 49/2010 [00:00<00:04, 487.14it/s]"
     ]
    },
    {
     "name": "stdout",
     "output_type": "stream",
     "text": [
      "episode : 879 reward : 294.3070957007966\n",
      "total test reward=93.74707242235066\n"
     ]
    },
    {
     "name": "stderr",
     "output_type": "stream",
     "text": [
      "100%|█████████████████████████████████████████████████████████████████████████████| 2010/2010 [00:04<00:00, 481.38it/s]\n",
      "  2%|█▉                                                                             | 50/2010 [00:00<00:03, 491.03it/s]"
     ]
    },
    {
     "name": "stdout",
     "output_type": "stream",
     "text": [
      "episode : 880 reward : 293.8955420233664\n",
      "total test reward=296.01063499550867\n"
     ]
    },
    {
     "name": "stderr",
     "output_type": "stream",
     "text": [
      "100%|█████████████████████████████████████████████████████████████████████████████| 2010/2010 [00:03<00:00, 512.10it/s]\n",
      "  3%|██                                                                             | 51/2010 [00:00<00:04, 462.74it/s]"
     ]
    },
    {
     "name": "stdout",
     "output_type": "stream",
     "text": [
      "episode : 881 reward : 213.63620922005504\n",
      "total test reward=-32.408187973789744\n"
     ]
    },
    {
     "name": "stderr",
     "output_type": "stream",
     "text": [
      "100%|█████████████████████████████████████████████████████████████████████████████| 2010/2010 [00:04<00:00, 487.48it/s]\n",
      "  3%|██                                                                             | 53/2010 [00:00<00:03, 520.99it/s]"
     ]
    },
    {
     "name": "stdout",
     "output_type": "stream",
     "text": [
      "episode : 882 reward : 10.92317437585238\n",
      "total test reward=-34.80131538047705\n"
     ]
    },
    {
     "name": "stderr",
     "output_type": "stream",
     "text": [
      "100%|█████████████████████████████████████████████████████████████████████████████| 2010/2010 [00:03<00:00, 509.24it/s]\n",
      "  2%|█▉                                                                             | 48/2010 [00:00<00:04, 471.86it/s]"
     ]
    },
    {
     "name": "stdout",
     "output_type": "stream",
     "text": [
      "episode : 883 reward : 93.86444765711468\n",
      "total test reward=291.60277274168595\n"
     ]
    },
    {
     "name": "stderr",
     "output_type": "stream",
     "text": [
      "100%|█████████████████████████████████████████████████████████████████████████████| 2010/2010 [00:04<00:00, 480.17it/s]\n",
      "  3%|██                                                                             | 51/2010 [00:00<00:04, 466.03it/s]"
     ]
    },
    {
     "name": "stdout",
     "output_type": "stream",
     "text": [
      "episode : 884 reward : 21.728542461965063\n",
      "total test reward=289.511679421736\n"
     ]
    },
    {
     "name": "stderr",
     "output_type": "stream",
     "text": [
      "100%|█████████████████████████████████████████████████████████████████████████████| 2010/2010 [00:04<00:00, 498.37it/s]\n",
      "  3%|██                                                                             | 52/2010 [00:00<00:03, 502.92it/s]"
     ]
    },
    {
     "name": "stdout",
     "output_type": "stream",
     "text": [
      "episode : 885 reward : 174.02588154725953\n",
      "total test reward=291.9963417935079\n"
     ]
    },
    {
     "name": "stderr",
     "output_type": "stream",
     "text": [
      "100%|█████████████████████████████████████████████████████████████████████████████| 2010/2010 [00:04<00:00, 498.18it/s]\n",
      "  3%|██                                                                             | 52/2010 [00:00<00:04, 478.31it/s]"
     ]
    },
    {
     "name": "stdout",
     "output_type": "stream",
     "text": [
      "episode : 886 reward : 296.18665071504154\n",
      "total test reward=294.8081390747658\n"
     ]
    },
    {
     "name": "stderr",
     "output_type": "stream",
     "text": [
      "100%|█████████████████████████████████████████████████████████████████████████████| 2010/2010 [00:04<00:00, 477.76it/s]\n",
      "  3%|██                                                                             | 53/2010 [00:00<00:03, 521.00it/s]"
     ]
    },
    {
     "name": "stdout",
     "output_type": "stream",
     "text": [
      "episode : 887 reward : 168.23936518606553\n",
      "total test reward=297.1807981037532\n"
     ]
    },
    {
     "name": "stderr",
     "output_type": "stream",
     "text": [
      "100%|█████████████████████████████████████████████████████████████████████████████| 2010/2010 [00:04<00:00, 482.06it/s]\n",
      "  2%|█▉                                                                             | 49/2010 [00:00<00:04, 465.56it/s]"
     ]
    },
    {
     "name": "stdout",
     "output_type": "stream",
     "text": [
      "episode : 888 reward : 265.9237798146524\n",
      "total test reward=298.2716970530779\n"
     ]
    },
    {
     "name": "stderr",
     "output_type": "stream",
     "text": [
      "100%|█████████████████████████████████████████████████████████████████████████████| 2010/2010 [00:03<00:00, 507.16it/s]\n",
      "  2%|█▉                                                                             | 50/2010 [00:00<00:03, 491.40it/s]"
     ]
    },
    {
     "name": "stdout",
     "output_type": "stream",
     "text": [
      "episode : 889 reward : 59.87396611290937\n",
      "total test reward=298.4629173675201\n"
     ]
    },
    {
     "name": "stderr",
     "output_type": "stream",
     "text": [
      "100%|█████████████████████████████████████████████████████████████████████████████| 2010/2010 [00:04<00:00, 500.69it/s]\n",
      "  3%|██                                                                             | 52/2010 [00:00<00:03, 510.99it/s]"
     ]
    },
    {
     "name": "stdout",
     "output_type": "stream",
     "text": [
      "episode : 890 reward : 107.37628623248703\n",
      "total test reward=299.3469898090531\n"
     ]
    },
    {
     "name": "stderr",
     "output_type": "stream",
     "text": [
      "100%|█████████████████████████████████████████████████████████████████████████████| 2010/2010 [00:04<00:00, 499.68it/s]\n",
      "  3%|██                                                                             | 51/2010 [00:00<00:03, 506.54it/s]"
     ]
    },
    {
     "name": "stdout",
     "output_type": "stream",
     "text": [
      "episode : 891 reward : 194.59231006846883\n",
      "total test reward=299.19495772066546\n"
     ]
    },
    {
     "name": "stderr",
     "output_type": "stream",
     "text": [
      "100%|█████████████████████████████████████████████████████████████████████████████| 2010/2010 [00:04<00:00, 484.78it/s]\n",
      "  3%|██                                                                             | 51/2010 [00:00<00:03, 501.45it/s]"
     ]
    },
    {
     "name": "stdout",
     "output_type": "stream",
     "text": [
      "episode : 892 reward : 28.29515461678492\n",
      "total test reward=298.3056605690284\n"
     ]
    },
    {
     "name": "stderr",
     "output_type": "stream",
     "text": [
      "100%|█████████████████████████████████████████████████████████████████████████████| 2010/2010 [00:04<00:00, 498.86it/s]\n",
      "  2%|█▊                                                                             | 46/2010 [00:00<00:04, 456.66it/s]"
     ]
    },
    {
     "name": "stdout",
     "output_type": "stream",
     "text": [
      "episode : 893 reward : 294.8335540573842\n",
      "total test reward=295.55283116904184\n"
     ]
    },
    {
     "name": "stderr",
     "output_type": "stream",
     "text": [
      "100%|█████████████████████████████████████████████████████████████████████████████| 2010/2010 [00:04<00:00, 501.83it/s]\n",
      "  3%|██                                                                             | 51/2010 [00:00<00:03, 501.27it/s]"
     ]
    },
    {
     "name": "stdout",
     "output_type": "stream",
     "text": [
      "episode : 894 reward : 60.61391230677121\n",
      "total test reward=297.09605441307156\n"
     ]
    },
    {
     "name": "stderr",
     "output_type": "stream",
     "text": [
      "100%|█████████████████████████████████████████████████████████████████████████████| 2010/2010 [00:04<00:00, 500.37it/s]\n",
      "  2%|█▉                                                                             | 50/2010 [00:00<00:04, 476.63it/s]"
     ]
    },
    {
     "name": "stdout",
     "output_type": "stream",
     "text": [
      "episode : 895 reward : 196.2209919315283\n",
      "total test reward=297.54408201638506\n"
     ]
    },
    {
     "name": "stderr",
     "output_type": "stream",
     "text": [
      "100%|█████████████████████████████████████████████████████████████████████████████| 2010/2010 [00:04<00:00, 469.99it/s]\n",
      "  3%|██                                                                             | 53/2010 [00:00<00:03, 521.00it/s]"
     ]
    },
    {
     "name": "stdout",
     "output_type": "stream",
     "text": [
      "episode : 896 reward : 299.767206540368\n",
      "total test reward=297.5698162620363\n"
     ]
    },
    {
     "name": "stderr",
     "output_type": "stream",
     "text": [
      "100%|█████████████████████████████████████████████████████████████████████████████| 2010/2010 [00:04<00:00, 493.31it/s]\n",
      "  2%|█▉                                                                             | 49/2010 [00:00<00:04, 486.45it/s]"
     ]
    },
    {
     "name": "stdout",
     "output_type": "stream",
     "text": [
      "episode : 897 reward : 293.60752738299766\n",
      "total test reward=297.07143591501165\n"
     ]
    },
    {
     "name": "stderr",
     "output_type": "stream",
     "text": [
      "100%|█████████████████████████████████████████████████████████████████████████████| 2010/2010 [00:04<00:00, 499.42it/s]\n",
      "  3%|██                                                                             | 52/2010 [00:00<00:03, 516.39it/s]"
     ]
    },
    {
     "name": "stdout",
     "output_type": "stream",
     "text": [
      "episode : 898 reward : 172.71990549097683\n",
      "total test reward=297.19228583196707\n"
     ]
    },
    {
     "name": "stderr",
     "output_type": "stream",
     "text": [
      "100%|█████████████████████████████████████████████████████████████████████████████| 2010/2010 [00:03<00:00, 502.85it/s]\n",
      "  3%|██                                                                             | 53/2010 [00:00<00:03, 520.83it/s]"
     ]
    },
    {
     "name": "stdout",
     "output_type": "stream",
     "text": [
      "episode : 899 reward : 29.885937001710438\n",
      "total test reward=291.9744027387819\n"
     ]
    },
    {
     "name": "stderr",
     "output_type": "stream",
     "text": [
      "100%|█████████████████████████████████████████████████████████████████████████████| 2010/2010 [00:04<00:00, 488.83it/s]\n",
      "  2%|█▉                                                                             | 48/2010 [00:00<00:04, 476.52it/s]"
     ]
    },
    {
     "name": "stdout",
     "output_type": "stream",
     "text": [
      "episode : 900 reward : 297.63450402362923\n",
      "total test reward=297.5477923267087\n"
     ]
    },
    {
     "name": "stderr",
     "output_type": "stream",
     "text": [
      "100%|█████████████████████████████████████████████████████████████████████████████| 2010/2010 [00:04<00:00, 490.33it/s]\n",
      "  3%|██                                                                             | 53/2010 [00:00<00:03, 526.16it/s]"
     ]
    },
    {
     "name": "stdout",
     "output_type": "stream",
     "text": [
      "episode : 901 reward : 154.70341718495715\n",
      "total test reward=298.0374397083081\n"
     ]
    },
    {
     "name": "stderr",
     "output_type": "stream",
     "text": [
      "100%|█████████████████████████████████████████████████████████████████████████████| 2010/2010 [00:04<00:00, 492.39it/s]\n",
      "  3%|██                                                                             | 53/2010 [00:00<00:04, 473.40it/s]"
     ]
    },
    {
     "name": "stdout",
     "output_type": "stream",
     "text": [
      "episode : 902 reward : 246.78144310390758\n",
      "total test reward=299.1066589509577\n"
     ]
    },
    {
     "name": "stderr",
     "output_type": "stream",
     "text": [
      "100%|█████████████████████████████████████████████████████████████████████████████| 2010/2010 [00:04<00:00, 491.61it/s]\n",
      "  2%|█▉                                                                             | 50/2010 [00:00<00:03, 491.51it/s]"
     ]
    },
    {
     "name": "stdout",
     "output_type": "stream",
     "text": [
      "episode : 903 reward : 295.27310110119197\n",
      "total test reward=298.72628464343904\n"
     ]
    },
    {
     "name": "stderr",
     "output_type": "stream",
     "text": [
      "100%|█████████████████████████████████████████████████████████████████████████████| 2010/2010 [00:04<00:00, 468.68it/s]\n",
      "  2%|█▉                                                                             | 49/2010 [00:00<00:04, 483.32it/s]"
     ]
    },
    {
     "name": "stdout",
     "output_type": "stream",
     "text": [
      "episode : 904 reward : 294.6909397137723\n",
      "total test reward=299.1785045627531\n"
     ]
    },
    {
     "name": "stderr",
     "output_type": "stream",
     "text": [
      "100%|█████████████████████████████████████████████████████████████████████████████| 2010/2010 [00:04<00:00, 499.91it/s]\n",
      "  3%|██                                                                             | 53/2010 [00:00<00:04, 478.40it/s]"
     ]
    },
    {
     "name": "stdout",
     "output_type": "stream",
     "text": [
      "episode : 905 reward : 111.6297755634642\n",
      "total test reward=298.7229057842358\n"
     ]
    },
    {
     "name": "stderr",
     "output_type": "stream",
     "text": [
      "100%|█████████████████████████████████████████████████████████████████████████████| 2010/2010 [00:04<00:00, 495.10it/s]\n",
      "  2%|█▉                                                                             | 48/2010 [00:00<00:04, 437.84it/s]"
     ]
    },
    {
     "name": "stdout",
     "output_type": "stream",
     "text": [
      "episode : 906 reward : 284.1113945915734\n",
      "total test reward=297.65804444885805\n"
     ]
    },
    {
     "name": "stderr",
     "output_type": "stream",
     "text": [
      "100%|█████████████████████████████████████████████████████████████████████████████| 2010/2010 [00:04<00:00, 486.27it/s]\n",
      "  2%|█▉                                                                             | 48/2010 [00:00<00:04, 471.99it/s]"
     ]
    },
    {
     "name": "stdout",
     "output_type": "stream",
     "text": [
      "episode : 907 reward : 119.76157579154673\n",
      "total test reward=296.8449785713205\n"
     ]
    },
    {
     "name": "stderr",
     "output_type": "stream",
     "text": [
      "100%|█████████████████████████████████████████████████████████████████████████████| 2010/2010 [00:04<00:00, 483.70it/s]\n",
      "  3%|██                                                                             | 52/2010 [00:00<00:03, 510.98it/s]"
     ]
    },
    {
     "name": "stdout",
     "output_type": "stream",
     "text": [
      "episode : 908 reward : 82.74176396720325\n",
      "total test reward=297.8790032739956\n"
     ]
    },
    {
     "name": "stderr",
     "output_type": "stream",
     "text": [
      "100%|█████████████████████████████████████████████████████████████████████████████| 2010/2010 [00:04<00:00, 497.16it/s]\n",
      "  2%|█▉                                                                             | 48/2010 [00:00<00:04, 458.67it/s]"
     ]
    },
    {
     "name": "stdout",
     "output_type": "stream",
     "text": [
      "episode : 909 reward : 69.61212420131184\n",
      "total test reward=297.6312079974565\n"
     ]
    },
    {
     "name": "stderr",
     "output_type": "stream",
     "text": [
      "100%|█████████████████████████████████████████████████████████████████████████████| 2010/2010 [00:04<00:00, 493.15it/s]\n",
      "  2%|█▉                                                                             | 48/2010 [00:00<00:04, 479.46it/s]"
     ]
    },
    {
     "name": "stdout",
     "output_type": "stream",
     "text": [
      "episode : 910 reward : 9.682075038456356\n",
      "total test reward=292.19928850706924\n"
     ]
    },
    {
     "name": "stderr",
     "output_type": "stream",
     "text": [
      "100%|█████████████████████████████████████████████████████████████████████████████| 2010/2010 [00:04<00:00, 486.03it/s]\n",
      "  3%|██                                                                             | 52/2010 [00:00<00:04, 470.48it/s]"
     ]
    },
    {
     "name": "stdout",
     "output_type": "stream",
     "text": [
      "episode : 911 reward : 52.16777420919775\n",
      "total test reward=255.7537771635296\n"
     ]
    },
    {
     "name": "stderr",
     "output_type": "stream",
     "text": [
      "100%|█████████████████████████████████████████████████████████████████████████████| 2010/2010 [00:04<00:00, 477.27it/s]\n",
      "  2%|█▉                                                                             | 48/2010 [00:00<00:04, 476.52it/s]"
     ]
    },
    {
     "name": "stdout",
     "output_type": "stream",
     "text": [
      "episode : 912 reward : 67.74214534586979\n",
      "total test reward=300.4852525293655\n"
     ]
    },
    {
     "name": "stderr",
     "output_type": "stream",
     "text": [
      "100%|█████████████████████████████████████████████████████████████████████████████| 2010/2010 [00:04<00:00, 490.36it/s]\n",
      "  3%|██▏                                                                            | 55/2010 [00:00<00:03, 512.13it/s]"
     ]
    },
    {
     "name": "stdout",
     "output_type": "stream",
     "text": [
      "episode : 913 reward : 140.98518295593274\n",
      "total test reward=300.61924821188586\n"
     ]
    },
    {
     "name": "stderr",
     "output_type": "stream",
     "text": [
      "100%|█████████████████████████████████████████████████████████████████████████████| 2010/2010 [00:04<00:00, 496.34it/s]\n",
      "  2%|█▊                                                                             | 45/2010 [00:00<00:04, 448.64it/s]"
     ]
    },
    {
     "name": "stdout",
     "output_type": "stream",
     "text": [
      "episode : 914 reward : 241.47458778634302\n",
      "total test reward=300.2179940573122\n"
     ]
    },
    {
     "name": "stderr",
     "output_type": "stream",
     "text": [
      "100%|█████████████████████████████████████████████████████████████████████████████| 2010/2010 [00:04<00:00, 478.52it/s]\n",
      "  2%|█▋                                                                             | 42/2010 [00:00<00:04, 418.99it/s]"
     ]
    },
    {
     "name": "stdout",
     "output_type": "stream",
     "text": [
      "episode : 915 reward : 85.09588420419831\n",
      "total test reward=300.41556250974577\n"
     ]
    },
    {
     "name": "stderr",
     "output_type": "stream",
     "text": [
      "100%|█████████████████████████████████████████████████████████████████████████████| 2010/2010 [00:04<00:00, 476.38it/s]\n",
      "  2%|█▉                                                                             | 49/2010 [00:00<00:04, 486.44it/s]"
     ]
    },
    {
     "name": "stdout",
     "output_type": "stream",
     "text": [
      "episode : 916 reward : 25.423269688622877\n",
      "total test reward=299.6835685192615\n"
     ]
    },
    {
     "name": "stderr",
     "output_type": "stream",
     "text": [
      "100%|█████████████████████████████████████████████████████████████████████████████| 2010/2010 [00:04<00:00, 495.88it/s]\n",
      "  2%|█▉                                                                             | 49/2010 [00:00<00:04, 486.45it/s]"
     ]
    },
    {
     "name": "stdout",
     "output_type": "stream",
     "text": [
      "episode : 917 reward : 159.31933813045657\n",
      "total test reward=299.449507348652\n"
     ]
    },
    {
     "name": "stderr",
     "output_type": "stream",
     "text": [
      "100%|█████████████████████████████████████████████████████████████████████████████| 2010/2010 [00:04<00:00, 487.40it/s]\n",
      "  2%|█▊                                                                             | 45/2010 [00:00<00:04, 422.42it/s]"
     ]
    },
    {
     "name": "stdout",
     "output_type": "stream",
     "text": [
      "episode : 918 reward : 296.01750499788017\n",
      "total test reward=299.19278176297195\n"
     ]
    },
    {
     "name": "stderr",
     "output_type": "stream",
     "text": [
      "100%|█████████████████████████████████████████████████████████████████████████████| 2010/2010 [00:04<00:00, 483.22it/s]\n",
      "  2%|█▊                                                                             | 46/2010 [00:00<00:04, 452.05it/s]"
     ]
    },
    {
     "name": "stdout",
     "output_type": "stream",
     "text": [
      "episode : 919 reward : -3.107805707699051\n",
      "total test reward=298.6780746815337\n"
     ]
    },
    {
     "name": "stderr",
     "output_type": "stream",
     "text": [
      "100%|█████████████████████████████████████████████████████████████████████████████| 2010/2010 [00:04<00:00, 487.55it/s]\n",
      "  5%|███▊                                                                           | 97/2010 [00:00<00:04, 465.89it/s]"
     ]
    },
    {
     "name": "stdout",
     "output_type": "stream",
     "text": [
      "episode : 920 reward : 23.583557199478197\n",
      "total test reward=298.20630026854997\n"
     ]
    },
    {
     "name": "stderr",
     "output_type": "stream",
     "text": [
      "100%|█████████████████████████████████████████████████████████████████████████████| 2010/2010 [00:04<00:00, 492.49it/s]\n",
      "  2%|█▋                                                                             | 43/2010 [00:00<00:04, 426.91it/s]"
     ]
    },
    {
     "name": "stdout",
     "output_type": "stream",
     "text": [
      "episode : 921 reward : -1.9206217035290292\n",
      "total test reward=299.07327463316614\n"
     ]
    },
    {
     "name": "stderr",
     "output_type": "stream",
     "text": [
      "100%|█████████████████████████████████████████████████████████████████████████████| 2010/2010 [00:04<00:00, 446.10it/s]\n",
      "  3%|██▏                                                                            | 55/2010 [00:00<00:04, 483.29it/s]"
     ]
    },
    {
     "name": "stdout",
     "output_type": "stream",
     "text": [
      "episode : 922 reward : 7.900675392342098\n",
      "total test reward=301.1910017621855\n"
     ]
    },
    {
     "name": "stderr",
     "output_type": "stream",
     "text": [
      "100%|█████████████████████████████████████████████████████████████████████████████| 2010/2010 [00:03<00:00, 507.48it/s]\n",
      "  3%|██                                                                             | 53/2010 [00:00<00:03, 504.12it/s]"
     ]
    },
    {
     "name": "stdout",
     "output_type": "stream",
     "text": [
      "episode : 923 reward : 69.11229502477255\n",
      "total test reward=300.95019213204915\n"
     ]
    },
    {
     "name": "stderr",
     "output_type": "stream",
     "text": [
      "100%|█████████████████████████████████████████████████████████████████████████████| 2010/2010 [00:04<00:00, 493.23it/s]\n",
      "  2%|█▊                                                                             | 47/2010 [00:00<00:04, 462.25it/s]"
     ]
    },
    {
     "name": "stdout",
     "output_type": "stream",
     "text": [
      "episode : 924 reward : 141.8049984396246\n",
      "total test reward=300.55985206765405\n"
     ]
    },
    {
     "name": "stderr",
     "output_type": "stream",
     "text": [
      "100%|█████████████████████████████████████████████████████████████████████████████| 2010/2010 [00:04<00:00, 499.16it/s]\n",
      "  2%|█▋                                                                             | 43/2010 [00:00<00:04, 416.47it/s]"
     ]
    },
    {
     "name": "stdout",
     "output_type": "stream",
     "text": [
      "episode : 925 reward : 40.085122541758516\n",
      "total test reward=301.09541065848896\n"
     ]
    },
    {
     "name": "stderr",
     "output_type": "stream",
     "text": [
      "100%|█████████████████████████████████████████████████████████████████████████████| 2010/2010 [00:03<00:00, 511.11it/s]\n",
      "  2%|█▊                                                                             | 46/2010 [00:00<00:04, 404.63it/s]"
     ]
    },
    {
     "name": "stdout",
     "output_type": "stream",
     "text": [
      "episode : 926 reward : 5.32910108874798\n",
      "total test reward=300.3692602980021\n"
     ]
    },
    {
     "name": "stderr",
     "output_type": "stream",
     "text": [
      "100%|█████████████████████████████████████████████████████████████████████████████| 2010/2010 [00:03<00:00, 513.33it/s]\n",
      "  2%|█▊                                                                             | 47/2010 [00:00<00:04, 466.73it/s]"
     ]
    },
    {
     "name": "stdout",
     "output_type": "stream",
     "text": [
      "episode : 927 reward : 64.636460340113\n",
      "total test reward=299.9430886767424\n"
     ]
    },
    {
     "name": "stderr",
     "output_type": "stream",
     "text": [
      "100%|█████████████████████████████████████████████████████████████████████████████| 2010/2010 [00:04<00:00, 493.21it/s]\n",
      "  2%|█▊                                                                             | 47/2010 [00:00<00:04, 416.53it/s]"
     ]
    },
    {
     "name": "stdout",
     "output_type": "stream",
     "text": [
      "episode : 928 reward : 197.94532815730452\n",
      "total test reward=300.54910356103863\n"
     ]
    },
    {
     "name": "stderr",
     "output_type": "stream",
     "text": [
      "100%|█████████████████████████████████████████████████████████████████████████████| 2010/2010 [00:03<00:00, 512.10it/s]\n",
      "  3%|██                                                                             | 52/2010 [00:00<00:03, 516.23it/s]"
     ]
    },
    {
     "name": "stdout",
     "output_type": "stream",
     "text": [
      "episode : 929 reward : 295.0993767466768\n",
      "total test reward=300.1888330335222\n"
     ]
    },
    {
     "name": "stderr",
     "output_type": "stream",
     "text": [
      "100%|█████████████████████████████████████████████████████████████████████████████| 2010/2010 [00:03<00:00, 523.51it/s]\n",
      "  3%|██                                                                             | 52/2010 [00:00<00:04, 459.68it/s]"
     ]
    },
    {
     "name": "stdout",
     "output_type": "stream",
     "text": [
      "episode : 930 reward : 164.43387038979685\n",
      "total test reward=300.0713930699134\n"
     ]
    },
    {
     "name": "stderr",
     "output_type": "stream",
     "text": [
      "100%|█████████████████████████████████████████████████████████████████████████████| 2010/2010 [00:03<00:00, 507.35it/s]\n",
      "  2%|█▉                                                                             | 50/2010 [00:00<00:04, 465.63it/s]"
     ]
    },
    {
     "name": "stdout",
     "output_type": "stream",
     "text": [
      "episode : 931 reward : 87.94545263563298\n",
      "total test reward=299.1558488854172\n"
     ]
    },
    {
     "name": "stderr",
     "output_type": "stream",
     "text": [
      "100%|█████████████████████████████████████████████████████████████████████████████| 2010/2010 [00:04<00:00, 490.61it/s]\n",
      "  2%|█▊                                                                             | 47/2010 [00:00<00:04, 433.78it/s]"
     ]
    },
    {
     "name": "stdout",
     "output_type": "stream",
     "text": [
      "episode : 932 reward : 201.49150503983046\n",
      "total test reward=299.4481881580685\n"
     ]
    },
    {
     "name": "stderr",
     "output_type": "stream",
     "text": [
      "100%|█████████████████████████████████████████████████████████████████████████████| 2010/2010 [00:03<00:00, 517.39it/s]\n",
      "  3%|██                                                                             | 52/2010 [00:00<00:04, 457.49it/s]"
     ]
    },
    {
     "name": "stdout",
     "output_type": "stream",
     "text": [
      "episode : 933 reward : 142.55036391917633\n",
      "total test reward=301.18900022583523\n"
     ]
    },
    {
     "name": "stderr",
     "output_type": "stream",
     "text": [
      "100%|█████████████████████████████████████████████████████████████████████████████| 2010/2010 [00:03<00:00, 513.40it/s]\n",
      "  3%|██                                                                             | 51/2010 [00:00<00:03, 501.13it/s]"
     ]
    },
    {
     "name": "stdout",
     "output_type": "stream",
     "text": [
      "episode : 934 reward : 126.73822510549167\n",
      "total test reward=301.89040894478546\n"
     ]
    },
    {
     "name": "stderr",
     "output_type": "stream",
     "text": [
      "100%|█████████████████████████████████████████████████████████████████████████████| 2010/2010 [00:03<00:00, 517.90it/s]\n",
      "  3%|██▏                                                                            | 55/2010 [00:00<00:04, 481.82it/s]"
     ]
    },
    {
     "name": "stdout",
     "output_type": "stream",
     "text": [
      "episode : 935 reward : 80.42238738782483\n",
      "total test reward=302.3368807234634\n"
     ]
    },
    {
     "name": "stderr",
     "output_type": "stream",
     "text": [
      "100%|█████████████████████████████████████████████████████████████████████████████| 2010/2010 [00:03<00:00, 518.52it/s]\n",
      "  3%|██                                                                             | 53/2010 [00:00<00:03, 506.60it/s]"
     ]
    },
    {
     "name": "stdout",
     "output_type": "stream",
     "text": [
      "episode : 936 reward : 69.95993867667991\n",
      "total test reward=302.43092839254757\n"
     ]
    },
    {
     "name": "stderr",
     "output_type": "stream",
     "text": [
      "100%|█████████████████████████████████████████████████████████████████████████████| 2010/2010 [00:03<00:00, 512.98it/s]\n",
      "  2%|█▊                                                                             | 46/2010 [00:00<00:04, 442.91it/s]"
     ]
    },
    {
     "name": "stdout",
     "output_type": "stream",
     "text": [
      "episode : 937 reward : 299.1624704513058\n",
      "total test reward=303.28517790423194\n"
     ]
    },
    {
     "name": "stderr",
     "output_type": "stream",
     "text": [
      "100%|█████████████████████████████████████████████████████████████████████████████| 2010/2010 [00:03<00:00, 515.90it/s]\n",
      "  3%|██                                                                             | 51/2010 [00:00<00:04, 489.41it/s]"
     ]
    },
    {
     "name": "stdout",
     "output_type": "stream",
     "text": [
      "episode : 938 reward : 296.12296412127665\n",
      "total test reward=302.7954305311524\n"
     ]
    },
    {
     "name": "stderr",
     "output_type": "stream",
     "text": [
      "100%|█████████████████████████████████████████████████████████████████████████████| 2010/2010 [00:03<00:00, 520.05it/s]\n",
      "  3%|██                                                                             | 51/2010 [00:00<00:03, 501.34it/s]"
     ]
    },
    {
     "name": "stdout",
     "output_type": "stream",
     "text": [
      "episode : 939 reward : 109.52471289673215\n",
      "total test reward=302.20337784683323\n"
     ]
    },
    {
     "name": "stderr",
     "output_type": "stream",
     "text": [
      "100%|█████████████████████████████████████████████████████████████████████████████| 2010/2010 [00:03<00:00, 515.69it/s]\n",
      "  3%|██▏                                                                            | 56/2010 [00:00<00:03, 489.05it/s]"
     ]
    },
    {
     "name": "stdout",
     "output_type": "stream",
     "text": [
      "episode : 940 reward : 65.71177575693908\n",
      "total test reward=302.6227265046426\n"
     ]
    },
    {
     "name": "stderr",
     "output_type": "stream",
     "text": [
      "100%|█████████████████████████████████████████████████████████████████████████████| 2010/2010 [00:03<00:00, 521.08it/s]\n",
      "  2%|█▋                                                                             | 42/2010 [00:00<00:05, 377.90it/s]"
     ]
    },
    {
     "name": "stdout",
     "output_type": "stream",
     "text": [
      "episode : 941 reward : 260.41299446748013\n",
      "total test reward=303.8075898329088\n"
     ]
    },
    {
     "name": "stderr",
     "output_type": "stream",
     "text": [
      "100%|█████████████████████████████████████████████████████████████████████████████| 2010/2010 [00:04<00:00, 472.91it/s]\n",
      "  5%|███▌                                                                           | 91/2010 [00:00<00:04, 417.24it/s]"
     ]
    },
    {
     "name": "stdout",
     "output_type": "stream",
     "text": [
      "episode : 942 reward : 195.49760207817874\n",
      "total test reward=304.3173212204824\n"
     ]
    },
    {
     "name": "stderr",
     "output_type": "stream",
     "text": [
      "100%|█████████████████████████████████████████████████████████████████████████████| 2010/2010 [00:04<00:00, 494.63it/s]\n",
      "  5%|████                                                                          | 104/2010 [00:00<00:03, 516.12it/s]"
     ]
    },
    {
     "name": "stdout",
     "output_type": "stream",
     "text": [
      "episode : 943 reward : 294.8798008208856\n",
      "total test reward=304.50418813899125\n"
     ]
    },
    {
     "name": "stderr",
     "output_type": "stream",
     "text": [
      "100%|█████████████████████████████████████████████████████████████████████████████| 2010/2010 [00:04<00:00, 499.43it/s]\n",
      "  5%|███▊                                                                           | 98/2010 [00:00<00:04, 464.04it/s]"
     ]
    },
    {
     "name": "stdout",
     "output_type": "stream",
     "text": [
      "episode : 944 reward : 59.449583195524916\n",
      "total test reward=304.45199286016106\n"
     ]
    },
    {
     "name": "stderr",
     "output_type": "stream",
     "text": [
      "100%|█████████████████████████████████████████████████████████████████████████████| 2010/2010 [00:03<00:00, 506.83it/s]\n",
      "  2%|█▊                                                                             | 45/2010 [00:00<00:04, 411.19it/s]"
     ]
    },
    {
     "name": "stdout",
     "output_type": "stream",
     "text": [
      "episode : 945 reward : 272.86242329820107\n",
      "total test reward=304.08744313655654\n"
     ]
    },
    {
     "name": "stderr",
     "output_type": "stream",
     "text": [
      "100%|█████████████████████████████████████████████████████████████████████████████| 2010/2010 [00:04<00:00, 486.30it/s]\n",
      "  3%|██                                                                             | 53/2010 [00:00<00:04, 483.42it/s]"
     ]
    },
    {
     "name": "stdout",
     "output_type": "stream",
     "text": [
      "episode : 946 reward : 50.657059959298515\n",
      "total test reward=304.0125584550801\n"
     ]
    },
    {
     "name": "stderr",
     "output_type": "stream",
     "text": [
      "100%|█████████████████████████████████████████████████████████████████████████████| 2010/2010 [00:04<00:00, 488.73it/s]\n",
      "  2%|█▊                                                                             | 47/2010 [00:00<00:04, 462.02it/s]"
     ]
    },
    {
     "name": "stdout",
     "output_type": "stream",
     "text": [
      "episode : 947 reward : 125.73793759728918\n",
      "total test reward=303.9765792938366\n"
     ]
    },
    {
     "name": "stderr",
     "output_type": "stream",
     "text": [
      "100%|█████████████████████████████████████████████████████████████████████████████| 2010/2010 [00:04<00:00, 492.27it/s]\n",
      "  2%|█▉                                                                             | 50/2010 [00:00<00:04, 486.96it/s]"
     ]
    },
    {
     "name": "stdout",
     "output_type": "stream",
     "text": [
      "episode : 948 reward : 84.17354636496638\n",
      "total test reward=303.8331439318461\n"
     ]
    },
    {
     "name": "stderr",
     "output_type": "stream",
     "text": [
      "100%|█████████████████████████████████████████████████████████████████████████████| 2010/2010 [00:04<00:00, 471.55it/s]\n",
      "  2%|█▊                                                                             | 47/2010 [00:00<00:04, 466.75it/s]"
     ]
    },
    {
     "name": "stdout",
     "output_type": "stream",
     "text": [
      "episode : 949 reward : 112.96537214577967\n",
      "total test reward=303.5598297041771\n"
     ]
    },
    {
     "name": "stderr",
     "output_type": "stream",
     "text": [
      "100%|█████████████████████████████████████████████████████████████████████████████| 2010/2010 [00:04<00:00, 499.41it/s]\n",
      "  5%|███▋                                                                           | 93/2010 [00:00<00:04, 430.81it/s]"
     ]
    },
    {
     "name": "stdout",
     "output_type": "stream",
     "text": [
      "episode : 950 reward : 298.9064354356725\n",
      "total test reward=302.5225562251415\n"
     ]
    },
    {
     "name": "stderr",
     "output_type": "stream",
     "text": [
      "100%|█████████████████████████████████████████████████████████████████████████████| 2010/2010 [00:04<00:00, 482.73it/s]\n",
      "  3%|██                                                                             | 51/2010 [00:00<00:03, 496.47it/s]"
     ]
    },
    {
     "name": "stdout",
     "output_type": "stream",
     "text": [
      "episode : 951 reward : 19.557818760035765\n",
      "total test reward=301.86661028547013\n"
     ]
    },
    {
     "name": "stderr",
     "output_type": "stream",
     "text": [
      "100%|█████████████████████████████████████████████████████████████████████████████| 2010/2010 [00:04<00:00, 476.53it/s]\n",
      "  2%|█▉                                                                             | 50/2010 [00:00<00:03, 491.69it/s]"
     ]
    },
    {
     "name": "stdout",
     "output_type": "stream",
     "text": [
      "episode : 952 reward : 112.24276589853388\n",
      "total test reward=302.65953364728466\n"
     ]
    },
    {
     "name": "stderr",
     "output_type": "stream",
     "text": [
      "100%|█████████████████████████████████████████████████████████████████████████████| 2010/2010 [00:04<00:00, 486.37it/s]\n",
      "  2%|█▉                                                                             | 49/2010 [00:00<00:04, 481.68it/s]"
     ]
    },
    {
     "name": "stdout",
     "output_type": "stream",
     "text": [
      "episode : 953 reward : 225.56262408346737\n",
      "total test reward=303.5782144161881\n"
     ]
    },
    {
     "name": "stderr",
     "output_type": "stream",
     "text": [
      "100%|█████████████████████████████████████████████████████████████████████████████| 2010/2010 [00:04<00:00, 475.92it/s]\n",
      "  2%|█▊                                                                             | 47/2010 [00:00<00:04, 462.02it/s]"
     ]
    },
    {
     "name": "stdout",
     "output_type": "stream",
     "text": [
      "episode : 954 reward : 40.437092936859926\n",
      "total test reward=303.48757093154205\n"
     ]
    },
    {
     "name": "stderr",
     "output_type": "stream",
     "text": [
      "100%|█████████████████████████████████████████████████████████████████████████████| 2010/2010 [00:04<00:00, 483.65it/s]\n",
      "  2%|█▌                                                                             | 40/2010 [00:00<00:05, 393.08it/s]"
     ]
    },
    {
     "name": "stdout",
     "output_type": "stream",
     "text": [
      "episode : 955 reward : 67.157246658829\n",
      "total test reward=302.76569388928584\n"
     ]
    },
    {
     "name": "stderr",
     "output_type": "stream",
     "text": [
      "100%|█████████████████████████████████████████████████████████████████████████████| 2010/2010 [00:04<00:00, 482.43it/s]\n",
      "  2%|█▉                                                                             | 50/2010 [00:00<00:03, 491.50it/s]"
     ]
    },
    {
     "name": "stdout",
     "output_type": "stream",
     "text": [
      "episode : 956 reward : 295.521649853622\n",
      "total test reward=301.6811368008199\n"
     ]
    },
    {
     "name": "stderr",
     "output_type": "stream",
     "text": [
      "100%|█████████████████████████████████████████████████████████████████████████████| 2010/2010 [00:04<00:00, 479.21it/s]\n",
      "  2%|█▌                                                                             | 41/2010 [00:00<00:04, 402.27it/s]"
     ]
    },
    {
     "name": "stdout",
     "output_type": "stream",
     "text": [
      "episode : 957 reward : 248.33846736254645\n",
      "total test reward=300.3432712235499\n"
     ]
    },
    {
     "name": "stderr",
     "output_type": "stream",
     "text": [
      "100%|█████████████████████████████████████████████████████████████████████████████| 2010/2010 [00:04<00:00, 473.53it/s]\n",
      "  2%|█▉                                                                             | 48/2010 [00:00<00:04, 476.52it/s]"
     ]
    },
    {
     "name": "stdout",
     "output_type": "stream",
     "text": [
      "episode : 958 reward : 176.71725317085628\n",
      "total test reward=301.4332970501307\n"
     ]
    },
    {
     "name": "stderr",
     "output_type": "stream",
     "text": [
      "100%|█████████████████████████████████████████████████████████████████████████████| 2010/2010 [00:04<00:00, 460.69it/s]\n",
      "  2%|█▉                                                                             | 50/2010 [00:00<00:03, 496.57it/s]"
     ]
    },
    {
     "name": "stdout",
     "output_type": "stream",
     "text": [
      "episode : 959 reward : 112.74097630066504\n",
      "total test reward=301.1639369534795\n"
     ]
    },
    {
     "name": "stderr",
     "output_type": "stream",
     "text": [
      "100%|█████████████████████████████████████████████████████████████████████████████| 2010/2010 [00:04<00:00, 484.01it/s]\n",
      "  2%|█▊                                                                             | 47/2010 [00:00<00:04, 426.29it/s]"
     ]
    },
    {
     "name": "stdout",
     "output_type": "stream",
     "text": [
      "episode : 960 reward : 298.51675274496006\n",
      "total test reward=300.9119406912516\n"
     ]
    },
    {
     "name": "stderr",
     "output_type": "stream",
     "text": [
      "100%|█████████████████████████████████████████████████████████████████████████████| 2010/2010 [00:04<00:00, 462.31it/s]\n",
      "  2%|█▋                                                                             | 44/2010 [00:00<00:04, 436.81it/s]"
     ]
    },
    {
     "name": "stdout",
     "output_type": "stream",
     "text": [
      "episode : 961 reward : 197.66655578975497\n",
      "total test reward=301.2266418845792\n"
     ]
    },
    {
     "name": "stderr",
     "output_type": "stream",
     "text": [
      "100%|█████████████████████████████████████████████████████████████████████████████| 2010/2010 [00:04<00:00, 477.19it/s]\n",
      "  2%|█▌                                                                             | 41/2010 [00:00<00:04, 407.92it/s]"
     ]
    },
    {
     "name": "stdout",
     "output_type": "stream",
     "text": [
      "episode : 962 reward : 296.70962608196953\n",
      "total test reward=301.6046604784575\n"
     ]
    },
    {
     "name": "stderr",
     "output_type": "stream",
     "text": [
      "100%|█████████████████████████████████████████████████████████████████████████████| 2010/2010 [00:04<00:00, 474.11it/s]\n",
      "  2%|█▉                                                                             | 50/2010 [00:00<00:03, 496.28it/s]"
     ]
    },
    {
     "name": "stdout",
     "output_type": "stream",
     "text": [
      "episode : 963 reward : 98.70850421840078\n",
      "total test reward=301.1789827378699\n"
     ]
    },
    {
     "name": "stderr",
     "output_type": "stream",
     "text": [
      "100%|█████████████████████████████████████████████████████████████████████████████| 2010/2010 [00:04<00:00, 489.44it/s]\n",
      "  2%|█▉                                                                             | 49/2010 [00:00<00:04, 448.23it/s]"
     ]
    },
    {
     "name": "stdout",
     "output_type": "stream",
     "text": [
      "episode : 964 reward : 266.677651118755\n",
      "total test reward=300.85080155752985\n"
     ]
    },
    {
     "name": "stderr",
     "output_type": "stream",
     "text": [
      "100%|█████████████████████████████████████████████████████████████████████████████| 2010/2010 [00:04<00:00, 484.81it/s]\n",
      "  2%|█▉                                                                             | 50/2010 [00:00<00:03, 496.37it/s]"
     ]
    },
    {
     "name": "stdout",
     "output_type": "stream",
     "text": [
      "episode : 965 reward : 132.04835129454054\n",
      "total test reward=299.69207222284746\n"
     ]
    },
    {
     "name": "stderr",
     "output_type": "stream",
     "text": [
      "100%|█████████████████████████████████████████████████████████████████████████████| 2010/2010 [00:04<00:00, 478.78it/s]\n",
      "  2%|█▉                                                                             | 48/2010 [00:00<00:04, 475.79it/s]"
     ]
    },
    {
     "name": "stdout",
     "output_type": "stream",
     "text": [
      "episode : 966 reward : 101.26926739607511\n",
      "total test reward=299.87817704245975\n"
     ]
    },
    {
     "name": "stderr",
     "output_type": "stream",
     "text": [
      "100%|█████████████████████████████████████████████████████████████████████████████| 2010/2010 [00:04<00:00, 477.08it/s]\n",
      "  2%|█▊                                                                             | 46/2010 [00:00<00:04, 429.91it/s]"
     ]
    },
    {
     "name": "stdout",
     "output_type": "stream",
     "text": [
      "episode : 967 reward : 17.655221188022374\n",
      "total test reward=299.087926702368\n"
     ]
    },
    {
     "name": "stderr",
     "output_type": "stream",
     "text": [
      "100%|█████████████████████████████████████████████████████████████████████████████| 2010/2010 [00:04<00:00, 486.21it/s]\n",
      "  2%|█▉                                                                             | 48/2010 [00:00<00:04, 455.85it/s]"
     ]
    },
    {
     "name": "stdout",
     "output_type": "stream",
     "text": [
      "episode : 968 reward : 294.94827419619884\n",
      "total test reward=300.70102196179175\n"
     ]
    },
    {
     "name": "stderr",
     "output_type": "stream",
     "text": [
      "100%|█████████████████████████████████████████████████████████████████████████████| 2010/2010 [00:04<00:00, 472.55it/s]\n",
      "  2%|█▉                                                                             | 48/2010 [00:00<00:04, 476.37it/s]"
     ]
    },
    {
     "name": "stdout",
     "output_type": "stream",
     "text": [
      "episode : 969 reward : 298.0023403327513\n",
      "total test reward=299.6086428373136\n"
     ]
    },
    {
     "name": "stderr",
     "output_type": "stream",
     "text": [
      "100%|█████████████████████████████████████████████████████████████████████████████| 2010/2010 [00:04<00:00, 483.61it/s]\n",
      "  2%|█▉                                                                             | 48/2010 [00:00<00:04, 476.58it/s]"
     ]
    },
    {
     "name": "stdout",
     "output_type": "stream",
     "text": [
      "episode : 970 reward : 102.00771657159144\n",
      "total test reward=298.82124444221336\n"
     ]
    },
    {
     "name": "stderr",
     "output_type": "stream",
     "text": [
      "100%|█████████████████████████████████████████████████████████████████████████████| 2010/2010 [00:04<00:00, 483.19it/s]\n",
      "  2%|█▌                                                                             | 40/2010 [00:00<00:05, 390.13it/s]"
     ]
    },
    {
     "name": "stdout",
     "output_type": "stream",
     "text": [
      "episode : 971 reward : 119.14936364878488\n",
      "total test reward=299.16178829587534\n"
     ]
    },
    {
     "name": "stderr",
     "output_type": "stream",
     "text": [
      "100%|█████████████████████████████████████████████████████████████████████████████| 2010/2010 [00:04<00:00, 477.36it/s]\n",
      "  2%|█▉                                                                             | 49/2010 [00:00<00:04, 481.68it/s]"
     ]
    },
    {
     "name": "stdout",
     "output_type": "stream",
     "text": [
      "episode : 972 reward : 294.75320353324497\n",
      "total test reward=299.46558031124704\n"
     ]
    },
    {
     "name": "stderr",
     "output_type": "stream",
     "text": [
      "100%|█████████████████████████████████████████████████████████████████████████████| 2010/2010 [00:04<00:00, 484.00it/s]\n",
      "  2%|█▊                                                                             | 46/2010 [00:00<00:04, 445.03it/s]"
     ]
    },
    {
     "name": "stdout",
     "output_type": "stream",
     "text": [
      "episode : 973 reward : 278.79123043101197\n",
      "total test reward=299.7019098905838\n"
     ]
    },
    {
     "name": "stderr",
     "output_type": "stream",
     "text": [
      "100%|█████████████████████████████████████████████████████████████████████████████| 2010/2010 [00:04<00:00, 446.80it/s]\n",
      "  5%|███▋                                                                           | 93/2010 [00:00<00:04, 450.89it/s]"
     ]
    },
    {
     "name": "stdout",
     "output_type": "stream",
     "text": [
      "episode : 974 reward : 153.61316068382467\n",
      "total test reward=298.5697155001637\n"
     ]
    },
    {
     "name": "stderr",
     "output_type": "stream",
     "text": [
      "100%|█████████████████████████████████████████████████████████████████████████████| 2010/2010 [00:04<00:00, 475.34it/s]\n",
      "  5%|███▊                                                                           | 98/2010 [00:00<00:04, 472.63it/s]"
     ]
    },
    {
     "name": "stdout",
     "output_type": "stream",
     "text": [
      "episode : 975 reward : 297.17870147719833\n",
      "total test reward=299.0248628817377\n"
     ]
    },
    {
     "name": "stderr",
     "output_type": "stream",
     "text": [
      "100%|█████████████████████████████████████████████████████████████████████████████| 2010/2010 [00:04<00:00, 467.50it/s]\n",
      "  2%|█▊                                                                             | 46/2010 [00:00<00:04, 440.06it/s]"
     ]
    },
    {
     "name": "stdout",
     "output_type": "stream",
     "text": [
      "episode : 976 reward : 167.47336352693168\n",
      "total test reward=297.952252127688\n"
     ]
    },
    {
     "name": "stderr",
     "output_type": "stream",
     "text": [
      "100%|█████████████████████████████████████████████████████████████████████████████| 2010/2010 [00:04<00:00, 460.61it/s]\n",
      "  2%|█▊                                                                             | 47/2010 [00:00<00:04, 462.02it/s]"
     ]
    },
    {
     "name": "stdout",
     "output_type": "stream",
     "text": [
      "episode : 977 reward : 105.73582982967284\n",
      "total test reward=300.02523445118317\n"
     ]
    },
    {
     "name": "stderr",
     "output_type": "stream",
     "text": [
      "100%|█████████████████████████████████████████████████████████████████████████████| 2010/2010 [00:04<00:00, 451.36it/s]\n",
      "  3%|██                                                                             | 53/2010 [00:00<00:04, 460.93it/s]"
     ]
    },
    {
     "name": "stdout",
     "output_type": "stream",
     "text": [
      "episode : 978 reward : 170.8708557844005\n",
      "total test reward=299.6899220745098\n"
     ]
    },
    {
     "name": "stderr",
     "output_type": "stream",
     "text": [
      "100%|█████████████████████████████████████████████████████████████████████████████| 2010/2010 [00:04<00:00, 463.97it/s]\n",
      "  3%|██                                                                             | 51/2010 [00:00<00:04, 478.44it/s]"
     ]
    },
    {
     "name": "stdout",
     "output_type": "stream",
     "text": [
      "episode : 979 reward : 296.1207802891268\n",
      "total test reward=300.03830026889096\n"
     ]
    },
    {
     "name": "stderr",
     "output_type": "stream",
     "text": [
      "100%|█████████████████████████████████████████████████████████████████████████████| 2010/2010 [00:04<00:00, 476.12it/s]\n",
      "  2%|█▊                                                                             | 46/2010 [00:00<00:04, 452.18it/s]"
     ]
    },
    {
     "name": "stdout",
     "output_type": "stream",
     "text": [
      "episode : 980 reward : 296.2752379117356\n",
      "total test reward=299.747399322644\n"
     ]
    },
    {
     "name": "stderr",
     "output_type": "stream",
     "text": [
      "100%|█████████████████████████████████████████████████████████████████████████████| 2010/2010 [00:04<00:00, 462.65it/s]\n",
      "  2%|█▌                                                                             | 41/2010 [00:00<00:05, 390.58it/s]"
     ]
    },
    {
     "name": "stdout",
     "output_type": "stream",
     "text": [
      "episode : 981 reward : 50.1294504757641\n",
      "total test reward=300.57577218641774\n"
     ]
    },
    {
     "name": "stderr",
     "output_type": "stream",
     "text": [
      "100%|█████████████████████████████████████████████████████████████████████████████| 2010/2010 [00:04<00:00, 456.44it/s]\n",
      "  2%|█▋                                                                             | 44/2010 [00:00<00:04, 436.82it/s]"
     ]
    },
    {
     "name": "stdout",
     "output_type": "stream",
     "text": [
      "episode : 982 reward : 163.75782455291025\n",
      "total test reward=300.40030375289524\n"
     ]
    },
    {
     "name": "stderr",
     "output_type": "stream",
     "text": [
      "100%|█████████████████████████████████████████████████████████████████████████████| 2010/2010 [00:04<00:00, 470.62it/s]\n",
      "  2%|█▉                                                                             | 49/2010 [00:00<00:04, 481.66it/s]"
     ]
    },
    {
     "name": "stdout",
     "output_type": "stream",
     "text": [
      "episode : 983 reward : 174.75047836893353\n",
      "total test reward=301.136011174013\n"
     ]
    },
    {
     "name": "stderr",
     "output_type": "stream",
     "text": [
      "100%|█████████████████████████████████████████████████████████████████████████████| 2010/2010 [00:04<00:00, 478.97it/s]\n",
      "  2%|█▉                                                                             | 48/2010 [00:00<00:04, 471.85it/s]"
     ]
    },
    {
     "name": "stdout",
     "output_type": "stream",
     "text": [
      "episode : 984 reward : 299.8780246437408\n",
      "total test reward=302.6440638470134\n"
     ]
    },
    {
     "name": "stderr",
     "output_type": "stream",
     "text": [
      "100%|█████████████████████████████████████████████████████████████████████████████| 2010/2010 [00:04<00:00, 482.45it/s]\n",
      "  2%|█▉                                                                             | 49/2010 [00:00<00:04, 446.38it/s]"
     ]
    },
    {
     "name": "stdout",
     "output_type": "stream",
     "text": [
      "episode : 985 reward : 297.7550138703998\n",
      "total test reward=301.90040477015987\n"
     ]
    },
    {
     "name": "stderr",
     "output_type": "stream",
     "text": [
      "100%|█████████████████████████████████████████████████████████████████████████████| 2010/2010 [00:04<00:00, 446.39it/s]\n",
      "  3%|██                                                                             | 52/2010 [00:00<00:04, 461.79it/s]"
     ]
    },
    {
     "name": "stdout",
     "output_type": "stream",
     "text": [
      "episode : 986 reward : 202.2363896762998\n",
      "total test reward=302.2264420512024\n"
     ]
    },
    {
     "name": "stderr",
     "output_type": "stream",
     "text": [
      "100%|█████████████████████████████████████████████████████████████████████████████| 2010/2010 [00:04<00:00, 481.12it/s]\n",
      "  2%|█▉                                                                             | 48/2010 [00:00<00:04, 471.85it/s]"
     ]
    },
    {
     "name": "stdout",
     "output_type": "stream",
     "text": [
      "episode : 987 reward : 183.63525108944643\n",
      "total test reward=303.01087828671416\n"
     ]
    },
    {
     "name": "stderr",
     "output_type": "stream",
     "text": [
      "100%|█████████████████████████████████████████████████████████████████████████████| 2010/2010 [00:04<00:00, 465.02it/s]\n",
      "  3%|██                                                                             | 51/2010 [00:00<00:04, 465.06it/s]"
     ]
    },
    {
     "name": "stdout",
     "output_type": "stream",
     "text": [
      "episode : 988 reward : 48.64167829480295\n",
      "total test reward=302.89523542514405\n"
     ]
    },
    {
     "name": "stderr",
     "output_type": "stream",
     "text": [
      "100%|█████████████████████████████████████████████████████████████████████████████| 2010/2010 [00:04<00:00, 471.00it/s]\n",
      "  2%|█▊                                                                             | 47/2010 [00:00<00:04, 466.59it/s]"
     ]
    },
    {
     "name": "stdout",
     "output_type": "stream",
     "text": [
      "episode : 989 reward : 301.3182996842654\n",
      "total test reward=302.3101654603191\n"
     ]
    },
    {
     "name": "stderr",
     "output_type": "stream",
     "text": [
      "100%|█████████████████████████████████████████████████████████████████████████████| 2010/2010 [00:04<00:00, 461.91it/s]\n",
      "  2%|█▉                                                                             | 48/2010 [00:00<00:04, 471.85it/s]"
     ]
    },
    {
     "name": "stdout",
     "output_type": "stream",
     "text": [
      "episode : 990 reward : 293.78498793112317\n",
      "total test reward=301.8771933712291\n"
     ]
    },
    {
     "name": "stderr",
     "output_type": "stream",
     "text": [
      "100%|█████████████████████████████████████████████████████████████████████████████| 2010/2010 [00:04<00:00, 467.14it/s]\n",
      "  2%|█▉                                                                             | 48/2010 [00:00<00:04, 476.52it/s]"
     ]
    },
    {
     "name": "stdout",
     "output_type": "stream",
     "text": [
      "episode : 991 reward : 17.852760612511677\n",
      "total test reward=301.71624078840915\n"
     ]
    },
    {
     "name": "stderr",
     "output_type": "stream",
     "text": [
      "100%|█████████████████████████████████████████████████████████████████████████████| 2010/2010 [00:04<00:00, 480.46it/s]\n",
      "  2%|█▋                                                                             | 43/2010 [00:00<00:04, 422.69it/s]"
     ]
    },
    {
     "name": "stdout",
     "output_type": "stream",
     "text": [
      "episode : 992 reward : 69.49109310176503\n",
      "total test reward=301.3703322255791\n"
     ]
    },
    {
     "name": "stderr",
     "output_type": "stream",
     "text": [
      "100%|█████████████████████████████████████████████████████████████████████████████| 2010/2010 [00:04<00:00, 456.41it/s]\n",
      "  5%|███▌                                                                           | 92/2010 [00:00<00:04, 452.06it/s]"
     ]
    },
    {
     "name": "stdout",
     "output_type": "stream",
     "text": [
      "episode : 993 reward : 294.1659503345978\n",
      "total test reward=301.0602752613684\n"
     ]
    },
    {
     "name": "stderr",
     "output_type": "stream",
     "text": [
      "100%|█████████████████████████████████████████████████████████████████████████████| 2010/2010 [00:04<00:00, 459.89it/s]\n",
      "  2%|█▋                                                                             | 43/2010 [00:00<00:04, 401.79it/s]"
     ]
    },
    {
     "name": "stdout",
     "output_type": "stream",
     "text": [
      "episode : 994 reward : 299.09188272595355\n",
      "total test reward=302.90763752515915\n"
     ]
    },
    {
     "name": "stderr",
     "output_type": "stream",
     "text": [
      "100%|█████████████████████████████████████████████████████████████████████████████| 2010/2010 [00:04<00:00, 453.71it/s]\n",
      "  2%|█▉                                                                             | 50/2010 [00:00<00:03, 496.38it/s]"
     ]
    },
    {
     "name": "stdout",
     "output_type": "stream",
     "text": [
      "episode : 995 reward : 259.0197427138879\n",
      "total test reward=302.91108914040694\n"
     ]
    },
    {
     "name": "stderr",
     "output_type": "stream",
     "text": [
      "100%|█████████████████████████████████████████████████████████████████████████████| 2010/2010 [00:04<00:00, 467.77it/s]\n",
      "  2%|█▉                                                                             | 48/2010 [00:00<00:04, 476.37it/s]"
     ]
    },
    {
     "name": "stdout",
     "output_type": "stream",
     "text": [
      "episode : 996 reward : 295.50941831814794\n",
      "total test reward=301.22573399475993\n"
     ]
    },
    {
     "name": "stderr",
     "output_type": "stream",
     "text": [
      "100%|█████████████████████████████████████████████████████████████████████████████| 2010/2010 [00:04<00:00, 474.94it/s]\n",
      "  2%|█▋                                                                             | 42/2010 [00:00<00:04, 418.02it/s]"
     ]
    },
    {
     "name": "stdout",
     "output_type": "stream",
     "text": [
      "episode : 997 reward : 142.1348713058321\n",
      "total test reward=298.6193488252154\n"
     ]
    },
    {
     "name": "stderr",
     "output_type": "stream",
     "text": [
      "100%|█████████████████████████████████████████████████████████████████████████████| 2010/2010 [00:04<00:00, 462.06it/s]\n",
      "  2%|█▊                                                                             | 45/2010 [00:00<00:04, 438.05it/s]"
     ]
    },
    {
     "name": "stdout",
     "output_type": "stream",
     "text": [
      "episode : 998 reward : 110.31187072523889\n",
      "total test reward=286.82933227407284\n"
     ]
    },
    {
     "name": "stderr",
     "output_type": "stream",
     "text": [
      "100%|█████████████████████████████████████████████████████████████████████████████| 2010/2010 [00:04<00:00, 464.42it/s]\n"
     ]
    },
    {
     "name": "stdout",
     "output_type": "stream",
     "text": [
      "episode : 999 reward : 296.93280978618003\n",
      "total test reward=299.77767741937976\n"
     ]
    },
    {
     "data": {
      "text/plain": [
       "[<matplotlib.lines.Line2D at 0x265e3c1d608>,\n",
       " <matplotlib.lines.Line2D at 0x265e3c1d788>]"
      ]
     },
     "execution_count": 2,
     "metadata": {},
     "output_type": "execute_result"
    },
    {
     "data": {
      "image/png": "[encoded data removed]",
      "text/plain": [
       "<Figure size 432x288 with 1 Axes>"
      ]
     },
     "metadata": {
      "needs_background": "light"
     },
     "output_type": "display_data"
    }
   ],
   "source": [
    "from tensorflow.keras.callbacks import TensorBoard\n",
    "from tensorflow.keras.layers import Input, Dense, Conv2D, MaxPooling2D, Flatten\n",
    "from tensorflow.keras.models import Model\n",
    "from tensorflow.keras.optimizers import Adam\n",
    "from tensorflow.keras import backend as K\n",
    "from tensorflow.keras.applications.mobilenet_v2 import MobileNetV2\n",
    "\n",
    "\n",
    "import tensorflow\n",
    "from tensorflow.keras.layers import Dense\n",
    "from tensorflow.keras.layers import  ReLU#,TanH\n",
    "TanH=tensorflow.keras.layers.Activation('tanh')\n",
    "Sigmoid=tensorflow.keras.layers.Activation('sigmoid')\n",
    "\n",
    "n_act=4\n",
    "n_state=24\n",
    "\n",
    "class Actor(Model):\n",
    "  def __init__(self,n_act):\n",
    "    super(Actor, self).__init__()\n",
    "    self.d1 = Dense(512, activation='relu')\n",
    "    self.d2 = Dense(256, activation='relu')\n",
    "    self.mean = Dense(n_act)\n",
    "    self.tanh  = TanH\n",
    "    self.sigmoid  = Sigmoid\n",
    "    self.std = Dense(n_act)\n",
    "\n",
    "  def call(self, x):\n",
    "    \n",
    "    x = self.d1(x)\n",
    "    x = self.d2(x)\n",
    "    #x = self.d3(x)\n",
    "    #x = self.d4(x)\n",
    "    mean = self.mean(x)\n",
    "    mean = self.tanh(mean)\n",
    "    std = self.std(x)\n",
    "    std = self.sigmoid(std)\n",
    "    return mean,std+10e-10\n",
    "\n",
    "\n",
    "class Critic(Model):\n",
    "  def __init__(self):\n",
    "    super(Critic, self).__init__()\n",
    "    self.d1 = Dense(512, activation='relu')\n",
    "    self.d2 = Dense(256, activation='relu')\n",
    "    #self.d3 = Dense(5, activation='relu')\n",
    "    #self.d4 = Dense(6, activation='relu')\n",
    "    self.value = Dense(1)\n",
    "    \n",
    "\n",
    "  def call(self, x):\n",
    "    \n",
    "    x = self.d1(x)\n",
    "    x = self.d2(x)\n",
    "    #x = self.d3(x)\n",
    "    #x = self.d4(x)\n",
    "    value = self.value(x)\n",
    "    return value\n",
    "\n",
    "class ppo_model():\n",
    "    def __init__(self):\n",
    "        self._actor=Actor(4)\n",
    "        self._critic=Critic()\n",
    "        self._debug = False\n",
    "        self._actor_opt= Adam(0.001)\n",
    "        self._critic_opt= Adam(0.001)\n",
    "        self.value_coef=0.5\n",
    "        self.entropy_coef=0.01\n",
    "        self._gamma=0.99\n",
    "        self._lambda=0.95\n",
    "        self.clip_epsilon=0.05\n",
    "        self._advantage=10\n",
    "        \n",
    "    def get_advantages(self,values, masks, rewards):\n",
    "        target_qvals = []\n",
    "        for i in range(len(rewards)-self._advantage):\n",
    "            _values=values[i:i+self._advantage+1]\n",
    "            _rewards=rewards[i:i+self._advantage]\n",
    "            _masks=masks[i:i+self._advantage]\n",
    "            gae = 0\n",
    "            for j in reversed(range(self._advantage)):\n",
    "                delta = _rewards[j] + self._gamma * _values[j + 1] * _masks[j] - _values[j]\n",
    "                gae = delta + self._gamma * self._lambda * _masks[j] * gae\n",
    "            target_qvals.append(gae + _values[0])\n",
    "\n",
    "        adv = np.array(target_qvals) - values[:-self._advantage-1]\n",
    "        return target_qvals, (adv - np.mean(adv)) / (np.std(adv) + 1e-10)\n",
    "    \n",
    "    def _get_advantages(self,values, masks, rewards):\n",
    "        target_qvals = []\n",
    "        gae=0\n",
    "        for i in reversed(range(len(rewards))):\n",
    "                delta = rewards[j] + self.gamma * values[j + 1] * masks[j] - values[j]\n",
    "                gae = delta + self._gamma * self._lambda * masks[j] * gae\n",
    "        target_qvals.append(gae + _values[0])\n",
    "\n",
    "        adv = np.array(target_qvals) - values[:-self._advantage-1]\n",
    "        return target_qvals, (adv - np.mean(adv)) / (np.std(adv) + 1e-10)\n",
    "\n",
    "    def actor_loss(self,mean,std,old_mean,old_std,old_action,advantage_raw):#, rewards, values):\n",
    "            old_probs = self.get_log_probs(old_action,old_mean,old_std)\n",
    "            new_probs = self.get_log_probs(old_action,mean,std)\n",
    "            entropy_loss = self.get_entropy(std)\n",
    "            ratio = K.exp(new_probs-old_probs)\n",
    "            p1 = ratio * advantage_raw\n",
    "            p2 = K.clip(ratio, min_value=1 - self.clip_epsilon, max_value=1 + self.clip_epsilon) * advantage_raw\n",
    "            actor_loss = K.mean(K.minimum(p1, p2))\n",
    "            #critic_loss = 0#K.mean(K.square(rewards - values))\n",
    "            total_loss =   -actor_loss - self.entropy_coef * entropy_loss #* K.mean(-(new_probs * K.log(new_probs + 1e-10)))\n",
    "            #tf.print('A',tf.reduce_sum(new_probs),tf.reduce_sum(old_probs),'B',tf.reduce_sum(ratio))\n",
    "            return total_loss\n",
    "\n",
    "    @tf.function\n",
    "    def train_actor(self,curr_states,_old_mean,_old_std,_old_actions,_advantage_raw):\n",
    "             _advantage_raw=tf.cast(_advantage_raw,tf.float32)\n",
    "             with tf.GradientTape() as tape:\n",
    "                  mean,std = self._actor(curr_states, training=True)\n",
    "                  if self._debug ==True :tf.print('1 : train_actor :',tf.reduce_sum(curr_states),tf.reduce_sum(mean),tf.reduce_sum(std))\n",
    "                  _act_loss = self.actor_loss(mean,std,_old_mean,_old_std,_old_actions,_advantage_raw)\n",
    "                  gradients = tape.gradient(_act_loss, self._actor.trainable_variables)\n",
    "                  self._actor_opt.apply_gradients(zip(gradients, self._actor.trainable_variables))\n",
    "                  #tf.print('actor grad : ',gradients[0])\n",
    "             return  _act_loss\n",
    "\n",
    "    @tf.function          \n",
    "    def critic_loss(self,_values,_target_rewards):\n",
    "            batch_size=_values.shape[0]\n",
    "            critic_loss=self.value_coef*2*tf.reduce_sum(tf.square(_target_rewards-_values))/batch_size\n",
    "            return critic_loss\n",
    "        \n",
    "    @tf.function\n",
    "    def train_critic(self,_states,_target_rewards):\n",
    "            with tf.GradientTape() as tape:\n",
    "                _values=self._critic(_states)\n",
    "                _values=tf.cast(_values,tf.float32)\n",
    "                _target_rewards=tf.cast(_target_rewards,tf.float32)\n",
    "                _critic_loss=self.critic_loss(_values,_target_rewards)\n",
    "                gradients = tape.gradient(_critic_loss, self._critic.trainable_variables)\n",
    "                self._critic_opt.apply_gradients(zip(gradients, self._critic.trainable_variables))\n",
    "                #tf.print('critic grad : ',gradients[0])\n",
    "            return _critic_loss\n",
    "    @tf.function\n",
    "    def get_log_probs(self,_actions,mean,std):\n",
    "        _actions=tf.cast(_actions,tf.float32)\n",
    "        mean=tf.cast(mean,tf.float32)\n",
    "        std=tf.cast(std,tf.float32)\n",
    "        _var = -0.5*((_actions-mean)/(std))**2\n",
    "        _coef = 1/(std*tf.sqrt(2*np.pi)) \n",
    "        \n",
    "        _probs = _coef*tf.cast(tf.exp(_var),tf.float32)\n",
    "        #_probs = tf.abs(_probs+ )\n",
    "        log_probs = tf.math.log(_probs)\n",
    "        #if _debug==True:\n",
    "        #    tf.print('2 : log_prob : _var  ',tf.reduce_sum(_var),tf.reduce_sum(_coef),tf.reduce_sum(_actions))\n",
    "        #    tf.print('2 : log_prob : _probs',tf.reduce_sum(_probs),tf.reduce_sum(log_probs))\n",
    "        return log_probs\n",
    "    def get_entropy(self,std):\n",
    "        entropy = 0.5 * (tf.math.log(2 * np.pi * std ** 2) + 1)\n",
    "        return entropy\n",
    "\n",
    "\n",
    "def get_model_actor_simple(input_dims, output_dims):\n",
    "    state_input = Input(shape=input_dims)\n",
    "    old_actions = Input(shape=(1, output_dims,))\n",
    "    old_probs = Input(shape=(1, output_dims,))\n",
    "    advantages = Input(shape=(1, 1,))\n",
    "    rewards = Input(shape=(1, 1,))\n",
    "    values = Input(shape=(1, 1,))\n",
    "\n",
    "    # Classification block\n",
    "    x = Dense(512, activation='relu', name='fc1')(state_input)\n",
    "    x = Dense(256, activation='relu', name='fc2')(x)\n",
    "    mean = Dense(n_actions, activation='tanh', name='mean')(x)\n",
    "    std = Dense(n_actions, activation='sigmoid', name='std')(x)\n",
    "\n",
    "    model = Model(inputs=[state_input, old_actions, old_probs, advantages, rewards, values],\n",
    "                  outputs=[mean,std])\n",
    "    model.compile(optimizer=Adam(lr=1e-4), loss=[ppo_loss(\n",
    "        old_actions=old_actions,\n",
    "        old_probs=old_probs,\n",
    "        advantages=advantages,\n",
    "        rewards=rewards,\n",
    "        values=values)])\n",
    "    # model.summary()\n",
    "    return model\n",
    "\n",
    "\n",
    "\n",
    "\n",
    "\n",
    "def get_model_critic_simple(input_dims):\n",
    "    state_input = Input(shape=input_dims)\n",
    "\n",
    "    # Classification block\n",
    "    x = Dense(512, activation='relu', name='fc1')(state_input)\n",
    "    x = Dense(256, activation='relu', name='fc2')(x)\n",
    "    out_actions = Dense(1, activation='tanh')(x)\n",
    "\n",
    "    model = Model(inputs=[state_input], outputs=[out_actions])\n",
    "    model.compile(optimizer=Adam(lr=1e-4), loss='mse')\n",
    "    # model.summary()\n",
    "    return model\n",
    "\n",
    "\n",
    "def test_reward():\n",
    "    state = env.reset()\n",
    "    done = False\n",
    "    total_reward = 0\n",
    "    while not done:\n",
    "        state_input = K.expand_dims(state, 0)\n",
    "        mean,std = _model._actor(state_input)\n",
    "        act=np.random.normal(mean,std)[0]\n",
    "        next_state, reward, done, _ = env.step(mean[0])\n",
    "        if reward == -100:\n",
    "            reward=-2\n",
    "        state = next_state\n",
    "        total_reward += reward\n",
    "        \n",
    "    return total_reward\n",
    "    \n",
    "image_based = False\n",
    "\n",
    "env=gym.make('BipedalWalker-v2')\n",
    "env.seed(seed)\n",
    "state = env.reset()\n",
    "state_dims = env.observation_space.shape\n",
    "n_actions = env.action_space.shape[0]\n",
    "\n",
    "#tensor_board = TensorBoard(log_dir='./logs')\n",
    "\n",
    "\n",
    "#model_actor = get_model_actor_simple(input_dims=state_dims, output_dims=n_actions)\n",
    "#model_critic = get_model_critic_simple(input_dims=state_dims)\n",
    "_model=ppo_model()\n",
    "ppo_steps = 2000\n",
    "target_reached = False\n",
    "best_reward = 0\n",
    "iters = 0\n",
    "episodes = 1000\n",
    "adv=_model._advantage\n",
    "rewards_log=[]\n",
    "max_reward=0\n",
    "for episode in range(episodes):\n",
    "\n",
    "    curr_states = []\n",
    "    old_actions = []\n",
    "    old_probs =[]\n",
    "    values = []\n",
    "    masks = []\n",
    "    rewards = []\n",
    "    old_means = []\n",
    "    old_stds  = []\n",
    "    state_input = None\n",
    "    sum_reward=0\n",
    "    sum_reward_log=0\n",
    "    for itr in trange(ppo_steps+adv):\n",
    "        state_input = K.expand_dims(state, 0)\n",
    "        mean,std = _model._actor(state_input)\n",
    "        q_value  = _model._critic(state_input)\n",
    "        action = np.random.normal(mean,std)[0]\n",
    "        #prob=get_log_probs(action,mean,std)\n",
    "        observation, reward, done, info = env.step(action)\n",
    "        if reward == -100:\n",
    "            reward=-2\n",
    "        #print('itr: ' + str(itr) + ', action=' + str(action) + ', reward=' + str(reward) + ', q val=' + str(q_value.numpy()))\n",
    "        mask = not done\n",
    "\n",
    "        curr_states.append(state)\n",
    "        old_actions.append(action)\n",
    "        #old_probs.append(prob)\n",
    "        old_means.append(mean)\n",
    "        old_stds.append(std)\n",
    "        values.append(q_value)\n",
    "        masks.append(mask)\n",
    "        rewards.append(reward)\n",
    "        sum_reward+=reward\n",
    "\n",
    "        state = observation\n",
    "        if done:\n",
    "            sum_reward_log=copy(sum_reward)\n",
    "            sum_reward=0\n",
    "            env.reset()\n",
    "        \n",
    "    state_input=K.expand_dims(state, 0)\n",
    "    q_value = _model._critic(state_input)\n",
    "    values.append(q_value)\n",
    "    _curr_states=np.array(curr_states).reshape(-1,24)\n",
    "    _old_actions=np.array(old_actions).reshape(-1,4)\n",
    "    _old_means=np.array(old_means).reshape(-1,4)\n",
    "    _old_stds=np.array(old_stds).reshape(-1,4)\n",
    "    _values=np.array(values).reshape(-1,1)\n",
    "    _rewards=np.array(rewards).reshape(-1,1)\n",
    "    _masks  = np.array(masks).reshape(-1,1)\n",
    "    \n",
    "    for _ in range(5):\n",
    "        #for batch in batches:\n",
    "            _target_qvals, _advantages = _model.get_advantages(_values, _masks, _rewards)\n",
    "            _model.train_actor(_curr_states[:-adv],_old_means[:-adv],_old_stds[:-adv],_old_actions[:-adv],_advantages)\n",
    "            _model.train_critic(_curr_states[:-adv],_target_qvals)                            \n",
    "\n",
    "    avg_reward = np.mean([test_reward() for _ in range(5)])\n",
    "    print('episode :',episode,'reward :',sum_reward_log)   \n",
    "    print('total test reward=' + str(avg_reward))\n",
    "    if avg_reward >=max_reward:\n",
    "        _model._actor.save_weights('ppo_best_actor.hdf5')\n",
    "        _model._critic.save_weights('ppo_best_critic'+'.hdf5')\n",
    "        best_eps=episode\n",
    "        max_reward = avg_reward\n",
    "    rewards_log.append([sum_reward_log,avg_reward])\n",
    "    iters += 1\n",
    "    env.reset()\n",
    "\n",
    "env.close()\n",
    "plt.plot(rewards_log)"
   ]
  },
  {
   "cell_type": "code",
   "execution_count": 3,
   "metadata": {},
   "outputs": [],
   "source": [
    "#_model._actor.save_weights('ppo-1000.hdf5')\n",
    "import pickle\n",
    "f=open('ppo-biped-loss.pkl','wb')\n",
    "pickle.dump(rewards_log,f)\n",
    "f.close()"
   ]
  },
  {
   "cell_type": "code",
   "execution_count": 4,
   "metadata": {},
   "outputs": [],
   "source": [
    "#_model._actor.load_weights('ppo-1000.hdf5')"
   ]
  },
  {
   "cell_type": "code",
   "execution_count": 5,
   "metadata": {},
   "outputs": [
    {
     "data": {
      "text/plain": [
       "[<matplotlib.lines.Line2D at 0x265dc6023c8>,\n",
       " <matplotlib.lines.Line2D at 0x265e3f3a248>,\n",
       " <matplotlib.lines.Line2D at 0x265e3f3af08>,\n",
       " <matplotlib.lines.Line2D at 0x265e3f3ce88>]"
      ]
     },
     "execution_count": 5,
     "metadata": {},
     "output_type": "execute_result"
    },
    {
     "data": {
      "image/png": "[encoded data removed]",
      "text/plain": [
       "<Figure size 432x288 with 1 Axes>"
      ]
     },
     "metadata": {
      "needs_background": "light"
     },
     "output_type": "display_data"
    }
   ],
   "source": [
    "plt.plot(old_actions)"
   ]
  },
  {
   "cell_type": "code",
   "execution_count": 6,
   "metadata": {},
   "outputs": [
    {
     "data": {
      "image/png": "[encoded data removed]",
      "text/plain": [
       "<Figure size 432x288 with 1 Axes>"
      ]
     },
     "metadata": {
      "needs_background": "light"
     },
     "output_type": "display_data"
    },
    {
     "data": {
      "text/plain": [
       "[<matplotlib.lines.Line2D at 0x265e3fa4408>,\n",
       " <matplotlib.lines.Line2D at 0x265e3ff0f88>,\n",
       " <matplotlib.lines.Line2D at 0x265e3ffc188>,\n",
       " <matplotlib.lines.Line2D at 0x265e3ffc348>]"
      ]
     },
     "execution_count": 6,
     "metadata": {},
     "output_type": "execute_result"
    },
    {
     "data": {
      "image/png": "[encoded data removed]",
      "text/plain": [
       "<Figure size 432x288 with 1 Axes>"
      ]
     },
     "metadata": {
      "needs_background": "light"
     },
     "output_type": "display_data"
    }
   ],
   "source": [
    "plt.plot(_old_means)\n",
    "plt.show()\n",
    "plt.plot(_old_stds)"
   ]
  },
  {
   "cell_type": "code",
   "execution_count": 7,
   "metadata": {},
   "outputs": [
    {
     "data": {
      "image/png": "[encoded data removed]",
      "text/plain": [
       "<Figure size 432x288 with 1 Axes>"
      ]
     },
     "metadata": {
      "needs_background": "light"
     },
     "output_type": "display_data"
    }
   ],
   "source": [
    "plt.plot(rewards_log)\n",
    "plt.savefig('bipedal-ppo.png')"
   ]
  },
  {
   "cell_type": "code",
   "execution_count": 1,
   "metadata": {},
   "outputs": [],
   "source": [
    "import os\n",
    "os.mkdir('bipedal_ppo')"
   ]
  },
  {
   "cell_type": "code",
   "execution_count": 2,
   "metadata": {},
   "outputs": [
    {
     "name": "stdout",
     "output_type": "stream",
     "text": [
      "WARNING:tensorflow:From <ipython-input-2-b004841b6c7c>:28: is_gpu_available (from tensorflow.python.framework.test_util) is deprecated and will be removed in a future version.\n",
      "Instructions for updating:\n",
      "Use `tf.config.list_physical_devices('GPU')` instead.\n",
      "WARNING:tensorflow:Layer actor is casting an input tensor from dtype float64 to the layer's dtype of float32, which is new behavior in TensorFlow 2.  The layer has dtype float32 because it's dtype defaults to floatx.\n",
      "\n",
      "If you intended to run this layer in float32, you can safely ignore this warning. If in doubt, this warning is likely only an issue if you are porting a TensorFlow 1.X model to TensorFlow 2.\n",
      "\n",
      "To change all layers to have dtype float64 by default, call `tf.keras.backend.set_floatx('float64')`. To change just this layer, pass dtype='float64' to the layer constructor. If you are the author of this layer, you can disable autocasting by passing autocast=False to the base Layer constructor.\n",
      "\n"
     ]
    },
    {
     "data": {
      "text/plain": [
       "[1]"
      ]
     },
     "execution_count": 2,
     "metadata": {},
     "output_type": "execute_result"
    }
   ],
   "source": [
    "seed=1\n",
    "import os\n",
    "os.environ[\"CUDA_VISIBLE_DEVICES\"] = \"-1\"\n",
    "os.environ['PYTHONHASHSEED']=str(seed)\n",
    "import numpy as np\n",
    "np.random.seed(seed)\n",
    "import tensorflow as tf\n",
    "tf.random.set_seed(seed)\n",
    "import tensorflow\n",
    "from tensorflow.keras.models import Model\n",
    "from tensorflow.keras.layers import Flatten, Dense ,Input,concatenate ,Conv2D,Conv2DTranspose,\\\n",
    "MaxPooling2D,AveragePooling2D, LSTM ,Reshape, TimeDistributed,ReLU, LeakyReLU, Dropout, BatchNormalization\n",
    "from tensorflow.keras.optimizers import Adam,Adagrad\n",
    "from tensorflow.keras import regularizers\n",
    "from tensorflow.keras.callbacks import ModelCheckpoint\n",
    "from tensorflow.keras import backend as K\n",
    "import warnings\n",
    "import glob\n",
    "import math\n",
    "import cv2\n",
    "from matplotlib import pyplot as plt\n",
    "import pandas as pd\n",
    "import pickle\n",
    "from collections import deque\n",
    "from tqdm import tqdm,trange\n",
    "import gym\n",
    "from copy import copy , deepcopy\n",
    "tf.test.is_gpu_available()\n",
    "\n",
    "n_act=4\n",
    "n_state=24\n",
    "TanH=tensorflow.keras.layers.Activation('tanh')\n",
    "Sigmoid=tensorflow.keras.layers.Activation('sigmoid')\n",
    "\n",
    "class Actor(Model):\n",
    "  def __init__(self,n_act):\n",
    "    super(Actor, self).__init__()\n",
    "    self.d1 = Dense(512, activation='relu')\n",
    "    self.d2 = Dense(256, activation='relu')\n",
    "    self.mean = Dense(n_act)\n",
    "    self.tanh  = TanH\n",
    "    self.sigmoid  = Sigmoid\n",
    "    self.std = Dense(n_act)\n",
    "\n",
    "  def call(self, x):\n",
    "    \n",
    "    x = self.d1(x)\n",
    "    x = self.d2(x)\n",
    "    #x = self.d3(x)\n",
    "    #x = self.d4(x)\n",
    "    mean = self.mean(x)\n",
    "    mean = self.tanh(mean)\n",
    "    std = self.std(x)\n",
    "    std = self.sigmoid(std)\n",
    "    return mean,std+10e-10\n",
    "\n",
    "def test_reward():\n",
    "    state = env.reset()\n",
    "    done = False\n",
    "    total_reward = 0\n",
    "    while not done:\n",
    "        state_input = K.expand_dims(state, 0)\n",
    "        mean,std = _model._actor(state_input)\n",
    "        act=np.random.normal(mean,std)[0]\n",
    "        next_state, reward, done, _ = env.step(mean[0])\n",
    "        if reward == -100:\n",
    "            reward=-2\n",
    "        state = next_state\n",
    "        total_reward += reward\n",
    "        \n",
    "    return total_reward\n",
    "_actor=Actor(n_act)\n",
    "_actor(np.ones((1,24)))\n",
    "_actor.load_weights('ppo_best_actor.hdf5')\n",
    "env = gym.make('BipedalWalker-v2')\n",
    "env.seed(seed)"
   ]
  },
  {
   "cell_type": "code",
   "execution_count": 3,
   "metadata": {},
   "outputs": [],
   "source": [
    "state=env.reset()\n",
    "i=0\n",
    "ter_count=0\n",
    "while True:\n",
    "    action=_actor(state.reshape(1,24))\n",
    "    state,rwd,ter,info=env.step(action[0][0])\n",
    "    img=env.render('rgb_array')\n",
    "    cv2.imwrite('bipedal_ppo/'+str(i)+'.jpg',img)\n",
    "    i+=1\n",
    "    if ter==True:\n",
    "            ter_count+=1\n",
    "            state=env.reset()\n",
    "    if ter_count==5:\n",
    "             break"
   ]
  },
  {
   "cell_type": "code",
   "execution_count": 4,
   "metadata": {
    "scrolled": true
   },
   "outputs": [],
   "source": [
    "env.close()"
   ]
  },
  {
   "cell_type": "code",
   "execution_count": 7,
   "metadata": {},
   "outputs": [
    {
     "ename": "TypeError",
     "evalue": "only size-1 arrays can be converted to Python scalars",
     "output_type": "error",
     "traceback": [
      "\u001b[1;31m---------------------------------------------------------------------------\u001b[0m",
      "\u001b[1;31mTypeError\u001b[0m                                 Traceback (most recent call last)",
      "\u001b[1;32m<ipython-input-7-a727bc4aab2d>\u001b[0m in \u001b[0;36m<module>\u001b[1;34m\u001b[0m\n\u001b[0;32m      2\u001b[0m \u001b[0menv\u001b[0m \u001b[1;33m=\u001b[0m \u001b[0mgym\u001b[0m\u001b[1;33m.\u001b[0m\u001b[0mmake\u001b[0m\u001b[1;33m(\u001b[0m\u001b[1;34m'BipedalWalker-v2'\u001b[0m\u001b[1;33m)\u001b[0m\u001b[1;33m\u001b[0m\u001b[1;33m\u001b[0m\u001b[0m\n\u001b[0;32m      3\u001b[0m \u001b[0menv\u001b[0m\u001b[1;33m.\u001b[0m\u001b[0mreset\u001b[0m\u001b[1;33m(\u001b[0m\u001b[1;33m)\u001b[0m\u001b[1;33m\u001b[0m\u001b[1;33m\u001b[0m\u001b[0m\n\u001b[1;32m----> 4\u001b[1;33m \u001b[0menv\u001b[0m\u001b[1;33m.\u001b[0m\u001b[0mstep\u001b[0m\u001b[1;33m(\u001b[0m\u001b[1;33m[\u001b[0m\u001b[1;33m[\u001b[0m\u001b[1;36m1\u001b[0m\u001b[1;33m,\u001b[0m\u001b[1;36m1\u001b[0m\u001b[1;33m,\u001b[0m\u001b[1;36m1\u001b[0m\u001b[1;33m,\u001b[0m\u001b[1;36m1\u001b[0m\u001b[1;33m]\u001b[0m\u001b[1;33m]\u001b[0m\u001b[1;33m)\u001b[0m\u001b[1;33m\u001b[0m\u001b[1;33m\u001b[0m\u001b[0m\n\u001b[0m\u001b[0;32m      5\u001b[0m \u001b[1;31m#img=env.render('rgb_array')\u001b[0m\u001b[1;33m\u001b[0m\u001b[1;33m\u001b[0m\u001b[1;33m\u001b[0m\u001b[0m\n",
      "\u001b[1;32m~\\.conda\\envs\\tf\\lib\\site-packages\\gym\\wrappers\\time_limit.py\u001b[0m in \u001b[0;36mstep\u001b[1;34m(self, action)\u001b[0m\n\u001b[0;32m     14\u001b[0m     \u001b[1;32mdef\u001b[0m \u001b[0mstep\u001b[0m\u001b[1;33m(\u001b[0m\u001b[0mself\u001b[0m\u001b[1;33m,\u001b[0m \u001b[0maction\u001b[0m\u001b[1;33m)\u001b[0m\u001b[1;33m:\u001b[0m\u001b[1;33m\u001b[0m\u001b[1;33m\u001b[0m\u001b[0m\n\u001b[0;32m     15\u001b[0m         \u001b[1;32massert\u001b[0m \u001b[0mself\u001b[0m\u001b[1;33m.\u001b[0m\u001b[0m_elapsed_steps\u001b[0m \u001b[1;32mis\u001b[0m \u001b[1;32mnot\u001b[0m \u001b[1;32mNone\u001b[0m\u001b[1;33m,\u001b[0m \u001b[1;34m\"Cannot call env.step() before calling reset()\"\u001b[0m\u001b[1;33m\u001b[0m\u001b[1;33m\u001b[0m\u001b[0m\n\u001b[1;32m---> 16\u001b[1;33m         \u001b[0mobservation\u001b[0m\u001b[1;33m,\u001b[0m \u001b[0mreward\u001b[0m\u001b[1;33m,\u001b[0m \u001b[0mdone\u001b[0m\u001b[1;33m,\u001b[0m \u001b[0minfo\u001b[0m \u001b[1;33m=\u001b[0m \u001b[0mself\u001b[0m\u001b[1;33m.\u001b[0m\u001b[0menv\u001b[0m\u001b[1;33m.\u001b[0m\u001b[0mstep\u001b[0m\u001b[1;33m(\u001b[0m\u001b[0maction\u001b[0m\u001b[1;33m)\u001b[0m\u001b[1;33m\u001b[0m\u001b[1;33m\u001b[0m\u001b[0m\n\u001b[0m\u001b[0;32m     17\u001b[0m         \u001b[0mself\u001b[0m\u001b[1;33m.\u001b[0m\u001b[0m_elapsed_steps\u001b[0m \u001b[1;33m+=\u001b[0m \u001b[1;36m1\u001b[0m\u001b[1;33m\u001b[0m\u001b[1;33m\u001b[0m\u001b[0m\n\u001b[0;32m     18\u001b[0m         \u001b[1;32mif\u001b[0m \u001b[0mself\u001b[0m\u001b[1;33m.\u001b[0m\u001b[0m_elapsed_steps\u001b[0m \u001b[1;33m>=\u001b[0m \u001b[0mself\u001b[0m\u001b[1;33m.\u001b[0m\u001b[0m_max_episode_steps\u001b[0m\u001b[1;33m:\u001b[0m\u001b[1;33m\u001b[0m\u001b[1;33m\u001b[0m\u001b[0m\n",
      "\u001b[1;32m~\\.conda\\envs\\tf\\lib\\site-packages\\gym\\envs\\box2d\\bipedal_walker.py\u001b[0m in \u001b[0;36mstep\u001b[1;34m(self, action)\u001b[0m\n\u001b[0;32m    383\u001b[0m             \u001b[0mself\u001b[0m\u001b[1;33m.\u001b[0m\u001b[0mjoints\u001b[0m\u001b[1;33m[\u001b[0m\u001b[1;36m3\u001b[0m\u001b[1;33m]\u001b[0m\u001b[1;33m.\u001b[0m\u001b[0mmotorSpeed\u001b[0m \u001b[1;33m=\u001b[0m \u001b[0mfloat\u001b[0m\u001b[1;33m(\u001b[0m\u001b[0mSPEED_KNEE\u001b[0m \u001b[1;33m*\u001b[0m \u001b[0mnp\u001b[0m\u001b[1;33m.\u001b[0m\u001b[0mclip\u001b[0m\u001b[1;33m(\u001b[0m\u001b[0maction\u001b[0m\u001b[1;33m[\u001b[0m\u001b[1;36m3\u001b[0m\u001b[1;33m]\u001b[0m\u001b[1;33m,\u001b[0m \u001b[1;33m-\u001b[0m\u001b[1;36m1\u001b[0m\u001b[1;33m,\u001b[0m \u001b[1;36m1\u001b[0m\u001b[1;33m)\u001b[0m\u001b[1;33m)\u001b[0m\u001b[1;33m\u001b[0m\u001b[1;33m\u001b[0m\u001b[0m\n\u001b[0;32m    384\u001b[0m         \u001b[1;32melse\u001b[0m\u001b[1;33m:\u001b[0m\u001b[1;33m\u001b[0m\u001b[1;33m\u001b[0m\u001b[0m\n\u001b[1;32m--> 385\u001b[1;33m             \u001b[0mself\u001b[0m\u001b[1;33m.\u001b[0m\u001b[0mjoints\u001b[0m\u001b[1;33m[\u001b[0m\u001b[1;36m0\u001b[0m\u001b[1;33m]\u001b[0m\u001b[1;33m.\u001b[0m\u001b[0mmotorSpeed\u001b[0m     \u001b[1;33m=\u001b[0m \u001b[0mfloat\u001b[0m\u001b[1;33m(\u001b[0m\u001b[0mSPEED_HIP\u001b[0m     \u001b[1;33m*\u001b[0m \u001b[0mnp\u001b[0m\u001b[1;33m.\u001b[0m\u001b[0msign\u001b[0m\u001b[1;33m(\u001b[0m\u001b[0maction\u001b[0m\u001b[1;33m[\u001b[0m\u001b[1;36m0\u001b[0m\u001b[1;33m]\u001b[0m\u001b[1;33m)\u001b[0m\u001b[1;33m)\u001b[0m\u001b[1;33m\u001b[0m\u001b[1;33m\u001b[0m\u001b[0m\n\u001b[0m\u001b[0;32m    386\u001b[0m             \u001b[0mself\u001b[0m\u001b[1;33m.\u001b[0m\u001b[0mjoints\u001b[0m\u001b[1;33m[\u001b[0m\u001b[1;36m0\u001b[0m\u001b[1;33m]\u001b[0m\u001b[1;33m.\u001b[0m\u001b[0mmaxMotorTorque\u001b[0m \u001b[1;33m=\u001b[0m \u001b[0mfloat\u001b[0m\u001b[1;33m(\u001b[0m\u001b[0mMOTORS_TORQUE\u001b[0m \u001b[1;33m*\u001b[0m \u001b[0mnp\u001b[0m\u001b[1;33m.\u001b[0m\u001b[0mclip\u001b[0m\u001b[1;33m(\u001b[0m\u001b[0mnp\u001b[0m\u001b[1;33m.\u001b[0m\u001b[0mabs\u001b[0m\u001b[1;33m(\u001b[0m\u001b[0maction\u001b[0m\u001b[1;33m[\u001b[0m\u001b[1;36m0\u001b[0m\u001b[1;33m]\u001b[0m\u001b[1;33m)\u001b[0m\u001b[1;33m,\u001b[0m \u001b[1;36m0\u001b[0m\u001b[1;33m,\u001b[0m \u001b[1;36m1\u001b[0m\u001b[1;33m)\u001b[0m\u001b[1;33m)\u001b[0m\u001b[1;33m\u001b[0m\u001b[1;33m\u001b[0m\u001b[0m\n\u001b[0;32m    387\u001b[0m             \u001b[0mself\u001b[0m\u001b[1;33m.\u001b[0m\u001b[0mjoints\u001b[0m\u001b[1;33m[\u001b[0m\u001b[1;36m1\u001b[0m\u001b[1;33m]\u001b[0m\u001b[1;33m.\u001b[0m\u001b[0mmotorSpeed\u001b[0m     \u001b[1;33m=\u001b[0m \u001b[0mfloat\u001b[0m\u001b[1;33m(\u001b[0m\u001b[0mSPEED_KNEE\u001b[0m    \u001b[1;33m*\u001b[0m \u001b[0mnp\u001b[0m\u001b[1;33m.\u001b[0m\u001b[0msign\u001b[0m\u001b[1;33m(\u001b[0m\u001b[0maction\u001b[0m\u001b[1;33m[\u001b[0m\u001b[1;36m1\u001b[0m\u001b[1;33m]\u001b[0m\u001b[1;33m)\u001b[0m\u001b[1;33m)\u001b[0m\u001b[1;33m\u001b[0m\u001b[1;33m\u001b[0m\u001b[0m\n",
      "\u001b[1;31mTypeError\u001b[0m: only size-1 arrays can be converted to Python scalars"
     ]
    }
   ],
   "source": [
    "import gym\n",
    "env = gym.make('BipedalWalker-v2')\n",
    "env.reset()\n",
    "env.step([[1,1,1,1]])\n",
    "#img=env.render('rgb_array')"
   ]
  },
  {
   "cell_type": "code",
   "execution_count": 4,
   "metadata": {},
   "outputs": [
    {
     "data": {
      "text/plain": [
       "<matplotlib.image.AxesImage at 0x27640d8c048>"
      ]
     },
     "execution_count": 4,
     "metadata": {},
     "output_type": "execute_result"
    },
    {
     "data": {
      "image/png": "[encoded data removed]",
      "text/plain": [
       "<Figure size 432x288 with 1 Axes>"
      ]
     },
     "metadata": {
      "needs_background": "light"
     },
     "output_type": "display_data"
    }
   ],
   "source": [
    "from matplotlib import pyplot as plt\n",
    "plt.imshow(img)"
   ]
  },
  {
   "cell_type": "markdown",
   "metadata": {},
   "source": []
  }
 ],
 "metadata": {
  "kernelspec": {
   "display_name": "Python 3",
   "language": "python",
   "name": "python3"
  },
  "language_info": {
   "codemirror_mode": {
    "name": "ipython",
    "version": 3
   },
   "file_extension": ".py",
   "mimetype": "text/x-python",
   "name": "python",
   "nbconvert_exporter": "python",
   "pygments_lexer": "ipython3",
   "version": "3.7.7"
  }
 },
 "nbformat": 4,
 "nbformat_minor": 4
}
