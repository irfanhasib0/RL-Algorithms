{
 "cells": [
  {
   "cell_type": "code",
   "execution_count": 1,
   "metadata": {},
   "outputs": [],
   "source": [
    "import numpy as np\n",
    "from matplotlib import pyplot as plt\n",
    "#import seaborn as sns"
   ]
  },
  {
   "cell_type": "code",
   "execution_count": 2,
   "metadata": {},
   "outputs": [],
   "source": [
    "np.random.seed(123)"
   ]
  },
  {
   "cell_type": "markdown",
   "metadata": {},
   "source": [
    "Multi arm bandit with epsilon decay"
   ]
  },
  {
   "cell_type": "code",
   "execution_count": 3,
   "metadata": {},
   "outputs": [],
   "source": [
    "true_rwds=np.array([1,2,3,4,5,6,7,8,9,10])\n",
    "N=len(true_rwds)\n",
    "def get_reward():\n",
    "    noise=np.random.normal(0.0,1.0,N)\n",
    "    res= true_rwds +noise\n",
    "    return res.copy()\n",
    "\n",
    "q_val=np.zeros(N,dtype=np.float64)\n",
    "n_val=np.ones(N,dtype=np.float64)\n",
    "_esp=1.0\n",
    "decay=.9\n",
    "_acts=[]\n",
    "_rwds=[]\n",
    "val=0\n",
    "for i in range(1,1000):\n",
    "    if np.random.random(1)>_esp:\n",
    "        rwd =get_reward()#+n_val\n",
    "        act=np.argmax(rwd)\n",
    "        \n",
    "    else:\n",
    "        act=np.random.randint(0,N)\n",
    "        rwd=get_reward()\n",
    "        \n",
    "    q_val[act]=q_val[act]+1/n_val[act]*(rwd[act]-q_val[act])  \n",
    "    n_val[act]+=1\n",
    "    val+=rwd[act]\n",
    "    #print(i,' ... ',act,rwd)\n",
    "    _esp=_esp*decay\n",
    "    _acts.append(act)\n",
    "    _rwds.append(val/i)\n",
    "_acts=np.array(_acts)"
   ]
  },
  {
   "cell_type": "code",
   "execution_count": 4,
   "metadata": {},
   "outputs": [
    {
     "data": {
      "image/png": "[encoded data removed]",
      "text/plain": [
       "<Figure size 432x288 with 1 Axes>"
      ]
     },
     "metadata": {
      "needs_background": "light"
     },
     "output_type": "display_data"
    }
   ],
   "source": [
    "#plt.plot(_acts[-1000:])\n",
    "plt.plot(_rwds)\n",
    "plt.show()"
   ]
  },
  {
   "cell_type": "code",
   "execution_count": 30,
   "metadata": {},
   "outputs": [],
   "source": [
    "true_rwds=np.array([1,2,3,4,5,6,7,8,9,10])*1\n",
    "N=len(true_rwds)\n",
    "def get_reward():\n",
    "    noise=np.random.normal(0.0,1.0,N)\n",
    "    return true_rwds+noise\n",
    "\n",
    "q_val=np.zeros(N,dtype=np.float64)\n",
    "n_val=np.ones(N,dtype=np.float64)\n",
    "_esp=2\n",
    "decay=0.99\n",
    "_acts=[]\n",
    "_rwds=[]\n",
    "val=0\n",
    "for i in range(1,1000):\n",
    "        raw_rwd =get_reward()\n",
    "        rwd=raw_rwd+_esp*np.sqrt(np.log(i)/n_val)\n",
    "        act=np.argmax(rwd)\n",
    "        n_val[act]+=1\n",
    "        q_val[act]=q_val[act]+1/n_val[act]*(rwd[act]-q_val[act])\n",
    "        val+=raw_rwd[act]\n",
    "    \n",
    "        #print(i,' ... ',raw_rwd,n_val,rwd)\n",
    "        #_esp=_esp*decay\n",
    "        _acts.append(act)\n",
    "        _rwds.append(val/i)\n",
    "_rwds=np.array(_rwds)\n",
    "_acts=np.array(_acts)"
   ]
  },
  {
   "cell_type": "code",
   "execution_count": 31,
   "metadata": {},
   "outputs": [
    {
     "data": {
      "image/png": "[encoded data removed]",
      "text/plain": [
       "<Figure size 432x288 with 1 Axes>"
      ]
     },
     "metadata": {
      "needs_background": "light"
     },
     "output_type": "display_data"
    }
   ],
   "source": [
    "plt.plot(_rwds)\n",
    "plt.show()"
   ]
  },
  {
   "cell_type": "code",
   "execution_count": 18,
   "metadata": {},
   "outputs": [
    {
     "data": {
      "text/plain": [
       "58.963295960997534"
      ]
     },
     "execution_count": 18,
     "metadata": {},
     "output_type": "execute_result"
    }
   ],
   "source": [
    "np.max(_rwds)"
   ]
  },
  {
   "cell_type": "code",
   "execution_count": 19,
   "metadata": {},
   "outputs": [
    {
     "data": {
      "text/plain": [
       "array([2.14362307, 2.14362307, 2.14362307, 2.14362307, 2.14362307,\n",
       "       2.14362307, 2.14362307, 2.14362307, 0.21436231, 2.14362307])"
      ]
     },
     "execution_count": 19,
     "metadata": {},
     "output_type": "execute_result"
    }
   ],
   "source": [
    "np.sqrt(np.log(i)/n_val)"
   ]
  },
  {
   "cell_type": "code",
   "execution_count": 22,
   "metadata": {},
   "outputs": [
    {
     "data": {
      "text/plain": [
       "(array([  1.94821282,   2.93543503,   4.15654222,   3.36768767,\n",
       "          7.09170444,   7.44788297,   7.58017346,   9.36904907,\n",
       "         11.54655963, 107.5370101 ]),\n",
       " array([0.94821282, 1.93543503, 3.15654222, 2.36768767, 6.09170444,\n",
       "        6.44788297, 6.58017346, 8.36904907, 9.54655963, 9.5370101 ]))"
      ]
     },
     "execution_count": 22,
     "metadata": {},
     "output_type": "execute_result"
    }
   ],
   "source": [
    "rwd,raw_rwd"
   ]
  },
  {
   "cell_type": "code",
   "execution_count": 11,
   "metadata": {},
   "outputs": [
    {
     "data": {
      "text/plain": [
       "array([ 1.,  1.,  1.,  2.,  2.,  3.,  5., 13., 25., 56.])"
      ]
     },
     "execution_count": 11,
     "metadata": {},
     "output_type": "execute_result"
    }
   ],
   "source": [
    "n_val"
   ]
  },
  {
   "cell_type": "code",
   "execution_count": null,
   "metadata": {},
   "outputs": [],
   "source": []
  }
 ],
 "metadata": {
  "kernelspec": {
   "display_name": "Python 3",
   "language": "python",
   "name": "python3"
  },
  "language_info": {
   "codemirror_mode": {
    "name": "ipython",
    "version": 3
   },
   "file_extension": ".py",
   "mimetype": "text/x-python",
   "name": "python",
   "nbconvert_exporter": "python",
   "pygments_lexer": "ipython3",
   "version": "3.6.5"
  }
 },
 "nbformat": 4,
 "nbformat_minor": 4
}
