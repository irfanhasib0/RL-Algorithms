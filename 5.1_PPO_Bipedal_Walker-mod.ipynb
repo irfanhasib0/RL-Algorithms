{
 "cells": [
  {
   "cell_type": "code",
   "execution_count": 1,
   "metadata": {},
   "outputs": [
    {
     "name": "stdout",
     "output_type": "stream",
     "text": [
      "WARNING:tensorflow:From <ipython-input-1-68ab24f4a316>:27: is_gpu_available (from tensorflow.python.framework.test_util) is deprecated and will be removed in a future version.\n",
      "Instructions for updating:\n",
      "Use `tf.config.list_physical_devices('GPU')` instead.\n"
     ]
    },
    {
     "data": {
      "text/plain": [
       "False"
      ]
     },
     "execution_count": 1,
     "metadata": {},
     "output_type": "execute_result"
    }
   ],
   "source": [
    "seed=1\n",
    "import os\n",
    "os.environ[\"CUDA_VISIBLE_DEVICES\"] = \"-1\"\n",
    "os.environ['PYTHONHASHSEED']=str(seed)\n",
    "import numpy as np\n",
    "np.random.seed(seed)\n",
    "import tensorflow as tf\n",
    "tf.random.set_seed(seed)\n",
    "from tensorflow.keras.models import Model\n",
    "from tensorflow.keras.layers import Flatten, Dense ,Input,concatenate ,Conv2D,Conv2DTranspose,\\\n",
    "MaxPooling2D,AveragePooling2D, LSTM ,Reshape, TimeDistributed,ReLU, LeakyReLU, Dropout, BatchNormalization\n",
    "from tensorflow.keras.optimizers import Adam,Adagrad\n",
    "from tensorflow.keras import regularizers\n",
    "from tensorflow.keras.callbacks import ModelCheckpoint\n",
    "from tensorflow.keras import backend as K\n",
    "import warnings\n",
    "import glob\n",
    "import math\n",
    "import cv2\n",
    "from matplotlib import pyplot as plt\n",
    "import pandas as pd\n",
    "import pickle\n",
    "from collections import deque\n",
    "from tqdm import tqdm,trange\n",
    "import gym\n",
    "from copy import copy , deepcopy\n",
    "#tf.test.is_gpu_available()"
   ]
  },
  {
   "cell_type": "code",
   "execution_count": 2,
   "metadata": {},
   "outputs": [
    {
     "name": "stderr",
     "output_type": "stream",
     "text": [
      "\r",
      "  0%|                                                                                         | 0/2010 [00:00<?, ?it/s]"
     ]
    },
    {
     "name": "stdout",
     "output_type": "stream",
     "text": [
      "WARNING:tensorflow:Layer actor is casting an input tensor from dtype float64 to the layer's dtype of float32, which is new behavior in TensorFlow 2.  The layer has dtype float32 because it's dtype defaults to floatx.\n",
      "\n",
      "If you intended to run this layer in float32, you can safely ignore this warning. If in doubt, this warning is likely only an issue if you are porting a TensorFlow 1.X model to TensorFlow 2.\n",
      "\n",
      "To change all layers to have dtype float64 by default, call `tf.keras.backend.set_floatx('float64')`. To change just this layer, pass dtype='float64' to the layer constructor. If you are the author of this layer, you can disable autocasting by passing autocast=False to the base Layer constructor.\n",
      "\n",
      "WARNING:tensorflow:Layer critic is casting an input tensor from dtype float64 to the layer's dtype of float32, which is new behavior in TensorFlow 2.  The layer has dtype float32 because it's dtype defaults to floatx.\n",
      "\n",
      "If you intended to run this layer in float32, you can safely ignore this warning. If in doubt, this warning is likely only an issue if you are porting a TensorFlow 1.X model to TensorFlow 2.\n",
      "\n",
      "To change all layers to have dtype float64 by default, call `tf.keras.backend.set_floatx('float64')`. To change just this layer, pass dtype='float64' to the layer constructor. If you are the author of this layer, you can disable autocasting by passing autocast=False to the base Layer constructor.\n",
      "\n"
     ]
    },
    {
     "name": "stderr",
     "output_type": "stream",
     "text": [
      "100%|█████████████████████████████████████████████████████████████████████████████| 2010/2010 [00:03<00:00, 511.66it/s]\n",
      "  2%|█▉                                                                             | 48/2010 [00:00<00:04, 476.47it/s]"
     ]
    },
    {
     "name": "stdout",
     "output_type": "stream",
     "text": [
      "episode : 0 reward : 1.4594871474785598\n",
      "total test reward=-29.056191782637626\n"
     ]
    },
    {
     "name": "stderr",
     "output_type": "stream",
     "text": [
      "100%|█████████████████████████████████████████████████████████████████████████████| 2010/2010 [00:03<00:00, 535.01it/s]\n",
      "  3%|██▏                                                                            | 56/2010 [00:00<00:03, 550.48it/s]"
     ]
    },
    {
     "name": "stdout",
     "output_type": "stream",
     "text": [
      "episode : 1 reward : -0.6771861768513214\n",
      "total test reward=-0.6097708539431418\n"
     ]
    },
    {
     "name": "stderr",
     "output_type": "stream",
     "text": [
      "100%|█████████████████████████████████████████████████████████████████████████████| 2010/2010 [00:03<00:00, 552.00it/s]\n",
      "  3%|██▏                                                                            | 57/2010 [00:00<00:03, 560.15it/s]"
     ]
    },
    {
     "name": "stdout",
     "output_type": "stream",
     "text": [
      "episode : 2 reward : -3.902992971148543\n",
      "total test reward=-22.160211313084066\n"
     ]
    },
    {
     "name": "stderr",
     "output_type": "stream",
     "text": [
      "100%|█████████████████████████████████████████████████████████████████████████████| 2010/2010 [00:03<00:00, 543.52it/s]\n",
      "  3%|██▏                                                                            | 57/2010 [00:00<00:03, 565.87it/s]"
     ]
    },
    {
     "name": "stdout",
     "output_type": "stream",
     "text": [
      "episode : 3 reward : -0.026712546481590493\n",
      "total test reward=-22.16071957792286\n"
     ]
    },
    {
     "name": "stderr",
     "output_type": "stream",
     "text": [
      "100%|█████████████████████████████████████████████████████████████████████████████| 2010/2010 [00:03<00:00, 554.74it/s]\n",
      "  3%|██▏                                                                            | 56/2010 [00:00<00:03, 555.94it/s]"
     ]
    },
    {
     "name": "stdout",
     "output_type": "stream",
     "text": [
      "episode : 4 reward : -23.836526785376822\n",
      "total test reward=-21.837257020546993\n"
     ]
    },
    {
     "name": "stderr",
     "output_type": "stream",
     "text": [
      "100%|█████████████████████████████████████████████████████████████████████████████| 2010/2010 [00:03<00:00, 553.37it/s]\n",
      "  3%|██▏                                                                            | 56/2010 [00:00<00:03, 550.30it/s]"
     ]
    },
    {
     "name": "stdout",
     "output_type": "stream",
     "text": [
      "episode : 5 reward : -0.3078190520169042\n",
      "total test reward=-23.39882572991684\n"
     ]
    },
    {
     "name": "stderr",
     "output_type": "stream",
     "text": [
      "100%|█████████████████████████████████████████████████████████████████████████████| 2010/2010 [00:03<00:00, 555.64it/s]\n",
      "  3%|██▏                                                                            | 56/2010 [00:00<00:03, 555.93it/s]"
     ]
    },
    {
     "name": "stdout",
     "output_type": "stream",
     "text": [
      "episode : 6 reward : 1.0922837956852427\n",
      "total test reward=4.96466173134842\n"
     ]
    },
    {
     "name": "stderr",
     "output_type": "stream",
     "text": [
      "100%|█████████████████████████████████████████████████████████████████████████████| 2010/2010 [00:03<00:00, 553.67it/s]\n",
      "  3%|██▏                                                                            | 56/2010 [00:00<00:03, 555.79it/s]"
     ]
    },
    {
     "name": "stdout",
     "output_type": "stream",
     "text": [
      "episode : 7 reward : -2.891393559871063\n",
      "total test reward=4.398082201714795\n"
     ]
    },
    {
     "name": "stderr",
     "output_type": "stream",
     "text": [
      "100%|█████████████████████████████████████████████████████████████████████████████| 2010/2010 [00:03<00:00, 534.48it/s]\n",
      "  3%|██▏                                                                            | 57/2010 [00:00<00:03, 565.86it/s]"
     ]
    },
    {
     "name": "stdout",
     "output_type": "stream",
     "text": [
      "episode : 8 reward : -0.36767958445403615\n",
      "total test reward=4.914907563027709\n"
     ]
    },
    {
     "name": "stderr",
     "output_type": "stream",
     "text": [
      "100%|█████████████████████████████████████████████████████████████████████████████| 2010/2010 [00:03<00:00, 521.31it/s]\n",
      "  3%|██▏                                                                            | 55/2010 [00:00<00:03, 547.32it/s]"
     ]
    },
    {
     "name": "stdout",
     "output_type": "stream",
     "text": [
      "episode : 9 reward : -1.4962715849403514\n",
      "total test reward=-23.048763559300454\n"
     ]
    },
    {
     "name": "stderr",
     "output_type": "stream",
     "text": [
      "100%|█████████████████████████████████████████████████████████████████████████████| 2010/2010 [00:03<00:00, 531.34it/s]\n",
      "  3%|██                                                                             | 54/2010 [00:00<00:03, 536.21it/s]"
     ]
    },
    {
     "name": "stdout",
     "output_type": "stream",
     "text": [
      "episode : 10 reward : 0.7666850073890621\n",
      "total test reward=4.324847769948211\n"
     ]
    },
    {
     "name": "stderr",
     "output_type": "stream",
     "text": [
      "100%|█████████████████████████████████████████████████████████████████████████████| 2010/2010 [00:03<00:00, 529.85it/s]\n",
      "  6%|████▎                                                                         | 112/2010 [00:00<00:03, 554.16it/s]"
     ]
    },
    {
     "name": "stdout",
     "output_type": "stream",
     "text": [
      "episode : 11 reward : 0.40072383283748225\n",
      "total test reward=-19.720030995012955\n"
     ]
    },
    {
     "name": "stderr",
     "output_type": "stream",
     "text": [
      "100%|█████████████████████████████████████████████████████████████████████████████| 2010/2010 [00:03<00:00, 541.66it/s]\n",
      "  3%|██▎                                                                            | 59/2010 [00:00<00:03, 574.25it/s]"
     ]
    },
    {
     "name": "stdout",
     "output_type": "stream",
     "text": [
      "episode : 12 reward : -0.37492150795521195\n",
      "total test reward=4.920033898723574\n"
     ]
    },
    {
     "name": "stderr",
     "output_type": "stream",
     "text": [
      "100%|█████████████████████████████████████████████████████████████████████████████| 2010/2010 [00:03<00:00, 525.65it/s]\n",
      "  3%|██▏                                                                            | 56/2010 [00:00<00:03, 550.30it/s]"
     ]
    },
    {
     "name": "stdout",
     "output_type": "stream",
     "text": [
      "episode : 13 reward : -4.241408295143781\n",
      "total test reward=4.942566729572039\n"
     ]
    },
    {
     "name": "stderr",
     "output_type": "stream",
     "text": [
      "100%|█████████████████████████████████████████████████████████████████████████████| 2010/2010 [00:03<00:00, 540.21it/s]\n",
      "  3%|██▏                                                                            | 56/2010 [00:00<00:03, 559.77it/s]"
     ]
    },
    {
     "name": "stdout",
     "output_type": "stream",
     "text": [
      "episode : 14 reward : -5.253588396300401\n",
      "total test reward=4.359802083636788\n"
     ]
    },
    {
     "name": "stderr",
     "output_type": "stream",
     "text": [
      "100%|█████████████████████████████████████████████████████████████████████████████| 2010/2010 [00:03<00:00, 537.46it/s]\n",
      "  3%|██▏                                                                            | 56/2010 [00:00<00:03, 553.29it/s]"
     ]
    },
    {
     "name": "stdout",
     "output_type": "stream",
     "text": [
      "episode : 15 reward : -3.4966559367792955\n",
      "total test reward=4.714045586378903\n"
     ]
    },
    {
     "name": "stderr",
     "output_type": "stream",
     "text": [
      "100%|█████████████████████████████████████████████████████████████████████████████| 2010/2010 [00:03<00:00, 531.48it/s]\n",
      "  3%|██▎                                                                            | 60/2010 [00:00<00:03, 593.81it/s]"
     ]
    },
    {
     "name": "stdout",
     "output_type": "stream",
     "text": [
      "episode : 16 reward : -0.651353951596241\n",
      "total test reward=4.320599488458429\n"
     ]
    },
    {
     "name": "stderr",
     "output_type": "stream",
     "text": [
      "100%|█████████████████████████████████████████████████████████████████████████████| 2010/2010 [00:03<00:00, 549.75it/s]\n",
      "  3%|██▎                                                                            | 60/2010 [00:00<00:03, 595.66it/s]"
     ]
    },
    {
     "name": "stdout",
     "output_type": "stream",
     "text": [
      "episode : 17 reward : -2.584388563499288\n",
      "total test reward=4.239084333571645\n"
     ]
    },
    {
     "name": "stderr",
     "output_type": "stream",
     "text": [
      "100%|█████████████████████████████████████████████████████████████████████████████| 2010/2010 [00:03<00:00, 562.96it/s]\n",
      "  3%|██▎                                                                            | 60/2010 [00:00<00:03, 589.81it/s]"
     ]
    },
    {
     "name": "stdout",
     "output_type": "stream",
     "text": [
      "episode : 18 reward : -3.339597549032238\n",
      "total test reward=4.117894770417953\n"
     ]
    },
    {
     "name": "stderr",
     "output_type": "stream",
     "text": [
      "100%|█████████████████████████████████████████████████████████████████████████████| 2010/2010 [00:03<00:00, 518.93it/s]\n",
      "  2%|█▉                                                                             | 49/2010 [00:00<00:04, 481.52it/s]"
     ]
    },
    {
     "name": "stdout",
     "output_type": "stream",
     "text": [
      "episode : 19 reward : 0.15250520808053114\n",
      "total test reward=4.1894002842712625\n"
     ]
    },
    {
     "name": "stderr",
     "output_type": "stream",
     "text": [
      "100%|█████████████████████████████████████████████████████████████████████████████| 2010/2010 [00:03<00:00, 522.42it/s]\n",
      "  3%|██▎                                                                            | 58/2010 [00:00<00:03, 575.62it/s]"
     ]
    },
    {
     "name": "stdout",
     "output_type": "stream",
     "text": [
      "episode : 20 reward : 0.6994727213811349\n",
      "total test reward=4.018652773046672\n"
     ]
    },
    {
     "name": "stderr",
     "output_type": "stream",
     "text": [
      "100%|█████████████████████████████████████████████████████████████████████████████| 2010/2010 [00:03<00:00, 537.28it/s]\n",
      "  5%|████▎                                                                         | 110/2010 [00:00<00:03, 549.80it/s]"
     ]
    },
    {
     "name": "stdout",
     "output_type": "stream",
     "text": [
      "episode : 21 reward : -1.4490799521625926\n",
      "total test reward=0.11069387836035616\n"
     ]
    },
    {
     "name": "stderr",
     "output_type": "stream",
     "text": [
      "100%|█████████████████████████████████████████████████████████████████████████████| 2010/2010 [00:03<00:00, 539.62it/s]\n",
      "  3%|██▏                                                                            | 55/2010 [00:00<00:03, 540.67it/s]"
     ]
    },
    {
     "name": "stdout",
     "output_type": "stream",
     "text": [
      "episode : 22 reward : -5.358979687502133\n",
      "total test reward=0.4707268099053909\n"
     ]
    },
    {
     "name": "stderr",
     "output_type": "stream",
     "text": [
      "100%|█████████████████████████████████████████████████████████████████████████████| 2010/2010 [00:03<00:00, 538.52it/s]\n",
      "  3%|██▏                                                                            | 56/2010 [00:00<00:03, 553.87it/s]"
     ]
    },
    {
     "name": "stdout",
     "output_type": "stream",
     "text": [
      "episode : 23 reward : -0.06961490862765807\n",
      "total test reward=-11.657704801692203\n"
     ]
    },
    {
     "name": "stderr",
     "output_type": "stream",
     "text": [
      "100%|█████████████████████████████████████████████████████████████████████████████| 2010/2010 [00:03<00:00, 538.60it/s]\n",
      "  5%|████▏                                                                         | 109/2010 [00:00<00:03, 541.21it/s]"
     ]
    },
    {
     "name": "stdout",
     "output_type": "stream",
     "text": [
      "episode : 24 reward : -6.203186586519361\n",
      "total test reward=-30.67543249363161\n"
     ]
    },
    {
     "name": "stderr",
     "output_type": "stream",
     "text": [
      "100%|█████████████████████████████████████████████████████████████████████████████| 2010/2010 [00:03<00:00, 537.88it/s]\n",
      "  3%|██▏                                                                            | 56/2010 [00:00<00:03, 550.41it/s]"
     ]
    },
    {
     "name": "stdout",
     "output_type": "stream",
     "text": [
      "episode : 25 reward : -2.0632290466955885\n",
      "total test reward=0.6379433711327932\n"
     ]
    },
    {
     "name": "stderr",
     "output_type": "stream",
     "text": [
      "100%|█████████████████████████████████████████████████████████████████████████████| 2010/2010 [00:03<00:00, 529.12it/s]\n",
      "  3%|██▏                                                                            | 56/2010 [00:00<00:03, 555.57it/s]"
     ]
    },
    {
     "name": "stdout",
     "output_type": "stream",
     "text": [
      "episode : 26 reward : -3.206084173518404\n",
      "total test reward=-24.25340511341548\n"
     ]
    },
    {
     "name": "stderr",
     "output_type": "stream",
     "text": [
      "100%|█████████████████████████████████████████████████████████████████████████████| 2010/2010 [00:03<00:00, 541.20it/s]\n",
      "  3%|██▏                                                                            | 56/2010 [00:00<00:03, 556.13it/s]"
     ]
    },
    {
     "name": "stdout",
     "output_type": "stream",
     "text": [
      "episode : 27 reward : 1.0065827062617787\n",
      "total test reward=-19.53523764297741\n"
     ]
    },
    {
     "name": "stderr",
     "output_type": "stream",
     "text": [
      "100%|█████████████████████████████████████████████████████████████████████████████| 2010/2010 [00:03<00:00, 540.61it/s]\n",
      "  3%|██▏                                                                            | 55/2010 [00:00<00:03, 545.84it/s]"
     ]
    },
    {
     "name": "stdout",
     "output_type": "stream",
     "text": [
      "episode : 28 reward : -3.4218162985133143\n",
      "total test reward=-20.462320153159673\n"
     ]
    },
    {
     "name": "stderr",
     "output_type": "stream",
     "text": [
      "100%|█████████████████████████████████████████████████████████████████████████████| 2010/2010 [00:03<00:00, 504.55it/s]\n",
      "  6%|████▍                                                                         | 114/2010 [00:00<00:03, 561.79it/s]"
     ]
    },
    {
     "name": "stdout",
     "output_type": "stream",
     "text": [
      "episode : 29 reward : -0.6258327170352724\n",
      "total test reward=-16.33027768998512\n"
     ]
    },
    {
     "name": "stderr",
     "output_type": "stream",
     "text": [
      "100%|█████████████████████████████████████████████████████████████████████████████| 2010/2010 [00:03<00:00, 533.34it/s]\n",
      "  3%|██▏                                                                            | 56/2010 [00:00<00:03, 555.94it/s]"
     ]
    },
    {
     "name": "stdout",
     "output_type": "stream",
     "text": [
      "episode : 30 reward : -0.8823861399626463\n",
      "total test reward=-2.775796731519813\n"
     ]
    },
    {
     "name": "stderr",
     "output_type": "stream",
     "text": [
      "100%|█████████████████████████████████████████████████████████████████████████████| 2010/2010 [00:03<00:00, 548.47it/s]\n",
      "  3%|██▏                                                                            | 57/2010 [00:00<00:03, 565.87it/s]"
     ]
    },
    {
     "name": "stdout",
     "output_type": "stream",
     "text": [
      "episode : 31 reward : -0.6929526799176724\n",
      "total test reward=0.29048856776368026\n"
     ]
    },
    {
     "name": "stderr",
     "output_type": "stream",
     "text": [
      "100%|█████████████████████████████████████████████████████████████████████████████| 2010/2010 [00:03<00:00, 542.98it/s]\n",
      "  3%|██▎                                                                            | 58/2010 [00:00<00:03, 568.66it/s]"
     ]
    },
    {
     "name": "stdout",
     "output_type": "stream",
     "text": [
      "episode : 32 reward : -1.458443098523512\n",
      "total test reward=0.561209727477099\n"
     ]
    },
    {
     "name": "stderr",
     "output_type": "stream",
     "text": [
      "100%|█████████████████████████████████████████████████████████████████████████████| 2010/2010 [00:03<00:00, 526.97it/s]\n",
      "  3%|██                                                                             | 53/2010 [00:00<00:03, 526.33it/s]"
     ]
    },
    {
     "name": "stdout",
     "output_type": "stream",
     "text": [
      "episode : 33 reward : -22.988861403115934\n",
      "total test reward=0.5146840958743943\n"
     ]
    },
    {
     "name": "stderr",
     "output_type": "stream",
     "text": [
      "100%|█████████████████████████████████████████████████████████████████████████████| 2010/2010 [00:03<00:00, 517.23it/s]\n",
      "  3%|██▏                                                                            | 57/2010 [00:00<00:03, 565.69it/s]"
     ]
    },
    {
     "name": "stdout",
     "output_type": "stream",
     "text": [
      "episode : 34 reward : 1.4967732232949387\n",
      "total test reward=0.5345870537459531\n"
     ]
    },
    {
     "name": "stderr",
     "output_type": "stream",
     "text": [
      "100%|█████████████████████████████████████████████████████████████████████████████| 2010/2010 [00:04<00:00, 498.46it/s]\n",
      "  6%|████▍                                                                         | 114/2010 [00:00<00:03, 565.87it/s]"
     ]
    },
    {
     "name": "stdout",
     "output_type": "stream",
     "text": [
      "episode : 35 reward : 1.6002656989402788\n",
      "total test reward=0.32746768236958895\n"
     ]
    },
    {
     "name": "stderr",
     "output_type": "stream",
     "text": [
      "100%|█████████████████████████████████████████████████████████████████████████████| 2010/2010 [00:03<00:00, 551.71it/s]\n",
      "  3%|██▏                                                                            | 55/2010 [00:00<00:03, 545.75it/s]"
     ]
    },
    {
     "name": "stdout",
     "output_type": "stream",
     "text": [
      "episode : 36 reward : -2.082617688793437\n",
      "total test reward=0.440296136047792\n"
     ]
    },
    {
     "name": "stderr",
     "output_type": "stream",
     "text": [
      "100%|█████████████████████████████████████████████████████████████████████████████| 2010/2010 [00:03<00:00, 550.66it/s]\n",
      "  3%|██                                                                             | 51/2010 [00:00<00:03, 506.31it/s]"
     ]
    },
    {
     "name": "stdout",
     "output_type": "stream",
     "text": [
      "episode : 37 reward : -1.1525582971576291\n",
      "total test reward=0.1795274459076432\n"
     ]
    },
    {
     "name": "stderr",
     "output_type": "stream",
     "text": [
      "100%|█████████████████████████████████████████████████████████████████████████████| 2010/2010 [00:04<00:00, 496.67it/s]\n",
      "  5%|████                                                                          | 106/2010 [00:00<00:03, 522.02it/s]"
     ]
    },
    {
     "name": "stdout",
     "output_type": "stream",
     "text": [
      "episode : 38 reward : -0.467973312989993\n",
      "total test reward=0.40988162721110816\n"
     ]
    },
    {
     "name": "stderr",
     "output_type": "stream",
     "text": [
      "100%|█████████████████████████████████████████████████████████████████████████████| 2010/2010 [00:03<00:00, 540.43it/s]\n",
      "  3%|██▏                                                                            | 57/2010 [00:00<00:03, 560.32it/s]"
     ]
    },
    {
     "name": "stdout",
     "output_type": "stream",
     "text": [
      "episode : 39 reward : -0.7603445292565256\n",
      "total test reward=3.7239488077948457\n"
     ]
    },
    {
     "name": "stderr",
     "output_type": "stream",
     "text": [
      "100%|█████████████████████████████████████████████████████████████████████████████| 2010/2010 [00:03<00:00, 538.72it/s]\n",
      "  3%|██▎                                                                            | 58/2010 [00:00<00:03, 569.27it/s]"
     ]
    },
    {
     "name": "stdout",
     "output_type": "stream",
     "text": [
      "episode : 40 reward : -1.2893111607472865\n",
      "total test reward=4.076414587350953\n"
     ]
    },
    {
     "name": "stderr",
     "output_type": "stream",
     "text": [
      "100%|█████████████████████████████████████████████████████████████████████████████| 2010/2010 [00:03<00:00, 518.86it/s]\n",
      "  3%|██▎                                                                            | 59/2010 [00:00<00:03, 585.95it/s]"
     ]
    },
    {
     "name": "stdout",
     "output_type": "stream",
     "text": [
      "episode : 41 reward : -1.7286110012740035\n",
      "total test reward=1.7680767435759548\n"
     ]
    },
    {
     "name": "stderr",
     "output_type": "stream",
     "text": [
      "100%|█████████████████████████████████████████████████████████████████████████████| 2010/2010 [00:03<00:00, 530.20it/s]\n",
      "  6%|████▎                                                                         | 112/2010 [00:00<00:03, 558.98it/s]"
     ]
    },
    {
     "name": "stdout",
     "output_type": "stream",
     "text": [
      "episode : 42 reward : -0.6550213705825714\n",
      "total test reward=0.7248450573409875\n"
     ]
    },
    {
     "name": "stderr",
     "output_type": "stream",
     "text": [
      "100%|█████████████████████████████████████████████████████████████████████████████| 2010/2010 [00:03<00:00, 506.46it/s]\n",
      "  2%|█▉                                                                             | 48/2010 [00:00<00:04, 476.52it/s]"
     ]
    },
    {
     "name": "stdout",
     "output_type": "stream",
     "text": [
      "episode : 43 reward : 0.046959577540313546\n",
      "total test reward=3.9117813468024387\n"
     ]
    },
    {
     "name": "stderr",
     "output_type": "stream",
     "text": [
      "100%|█████████████████████████████████████████████████████████████████████████████| 2010/2010 [00:03<00:00, 519.31it/s]\n",
      "  3%|██▏                                                                            | 55/2010 [00:00<00:03, 545.69it/s]"
     ]
    },
    {
     "name": "stdout",
     "output_type": "stream",
     "text": [
      "episode : 44 reward : -3.4634260411193685\n",
      "total test reward=4.706448460204971\n"
     ]
    },
    {
     "name": "stderr",
     "output_type": "stream",
     "text": [
      "100%|█████████████████████████████████████████████████████████████████████████████| 2010/2010 [00:03<00:00, 519.10it/s]\n",
      "  3%|██▏                                                                            | 57/2010 [00:00<00:03, 560.32it/s]"
     ]
    },
    {
     "name": "stdout",
     "output_type": "stream",
     "text": [
      "episode : 45 reward : 2.0362544036825057\n",
      "total test reward=5.0266866495928735\n"
     ]
    },
    {
     "name": "stderr",
     "output_type": "stream",
     "text": [
      "100%|█████████████████████████████████████████████████████████████████████████████| 2010/2010 [00:03<00:00, 533.92it/s]\n",
      "  3%|██                                                                             | 54/2010 [00:00<00:03, 536.04it/s]"
     ]
    },
    {
     "name": "stdout",
     "output_type": "stream",
     "text": [
      "episode : 46 reward : 1.3788502144820307\n",
      "total test reward=5.939230088937755\n"
     ]
    },
    {
     "name": "stderr",
     "output_type": "stream",
     "text": [
      "100%|█████████████████████████████████████████████████████████████████████████████| 2010/2010 [00:04<00:00, 492.97it/s]\n",
      "  3%|██▏                                                                            | 56/2010 [00:00<00:03, 555.95it/s]"
     ]
    },
    {
     "name": "stdout",
     "output_type": "stream",
     "text": [
      "episode : 47 reward : 0.21653780293007108\n",
      "total test reward=5.1390182314108275\n"
     ]
    },
    {
     "name": "stderr",
     "output_type": "stream",
     "text": [
      "100%|█████████████████████████████████████████████████████████████████████████████| 2010/2010 [00:03<00:00, 536.27it/s]\n",
      "  3%|██▎                                                                            | 60/2010 [00:00<00:03, 589.54it/s]"
     ]
    },
    {
     "name": "stdout",
     "output_type": "stream",
     "text": [
      "episode : 48 reward : 1.4997207898268314\n",
      "total test reward=5.731581837894803\n"
     ]
    },
    {
     "name": "stderr",
     "output_type": "stream",
     "text": [
      "100%|█████████████████████████████████████████████████████████████████████████████| 2010/2010 [00:03<00:00, 542.73it/s]\n",
      "  3%|██▎                                                                            | 58/2010 [00:00<00:03, 570.12it/s]"
     ]
    },
    {
     "name": "stdout",
     "output_type": "stream",
     "text": [
      "episode : 49 reward : -19.632260979679014\n",
      "total test reward=5.281788391410983\n"
     ]
    },
    {
     "name": "stderr",
     "output_type": "stream",
     "text": [
      "100%|█████████████████████████████████████████████████████████████████████████████| 2010/2010 [00:03<00:00, 554.75it/s]\n",
      "  3%|██                                                                             | 52/2010 [00:00<00:03, 516.06it/s]"
     ]
    },
    {
     "name": "stdout",
     "output_type": "stream",
     "text": [
      "episode : 50 reward : 0.7450881020439013\n",
      "total test reward=4.389841641317646\n"
     ]
    },
    {
     "name": "stderr",
     "output_type": "stream",
     "text": [
      "100%|█████████████████████████████████████████████████████████████████████████████| 2010/2010 [00:03<00:00, 558.43it/s]\n",
      "  3%|██▏                                                                            | 56/2010 [00:00<00:03, 550.49it/s]"
     ]
    },
    {
     "name": "stdout",
     "output_type": "stream",
     "text": [
      "episode : 51 reward : 1.1718129038647143\n",
      "total test reward=3.3915125549256095\n"
     ]
    },
    {
     "name": "stderr",
     "output_type": "stream",
     "text": [
      "100%|█████████████████████████████████████████████████████████████████████████████| 2010/2010 [00:03<00:00, 545.14it/s]\n",
      "  3%|██▏                                                                            | 56/2010 [00:00<00:03, 555.93it/s]"
     ]
    },
    {
     "name": "stdout",
     "output_type": "stream",
     "text": [
      "episode : 52 reward : 1.2278259389541946\n",
      "total test reward=4.036243899670689\n"
     ]
    },
    {
     "name": "stderr",
     "output_type": "stream",
     "text": [
      "100%|█████████████████████████████████████████████████████████████████████████████| 2010/2010 [00:03<00:00, 548.25it/s]\n",
      "  3%|██▏                                                                            | 55/2010 [00:00<00:03, 546.01it/s]"
     ]
    },
    {
     "name": "stdout",
     "output_type": "stream",
     "text": [
      "episode : 53 reward : 1.1931911900199168\n",
      "total test reward=4.55891554757957\n"
     ]
    },
    {
     "name": "stderr",
     "output_type": "stream",
     "text": [
      "100%|█████████████████████████████████████████████████████████████████████████████| 2010/2010 [00:03<00:00, 528.28it/s]\n",
      "  3%|██                                                                             | 54/2010 [00:00<00:03, 530.83it/s]"
     ]
    },
    {
     "name": "stdout",
     "output_type": "stream",
     "text": [
      "episode : 54 reward : 0.2806356618325645\n",
      "total test reward=5.197830377541628\n"
     ]
    },
    {
     "name": "stderr",
     "output_type": "stream",
     "text": [
      "100%|█████████████████████████████████████████████████████████████████████████████| 2010/2010 [00:04<00:00, 487.28it/s]\n",
      "  3%|██▎                                                                            | 58/2010 [00:00<00:03, 575.61it/s]"
     ]
    },
    {
     "name": "stdout",
     "output_type": "stream",
     "text": [
      "episode : 55 reward : -0.8380172699590083\n",
      "total test reward=4.747546155104997\n"
     ]
    },
    {
     "name": "stderr",
     "output_type": "stream",
     "text": [
      "100%|█████████████████████████████████████████████████████████████████████████████| 2010/2010 [00:03<00:00, 555.18it/s]\n",
      "  3%|██▏                                                                            | 57/2010 [00:00<00:03, 560.32it/s]"
     ]
    },
    {
     "name": "stdout",
     "output_type": "stream",
     "text": [
      "episode : 56 reward : 1.9492658617842031\n",
      "total test reward=5.040517976615993\n"
     ]
    },
    {
     "name": "stderr",
     "output_type": "stream",
     "text": [
      "100%|█████████████████████████████████████████████████████████████████████████████| 2010/2010 [00:03<00:00, 550.82it/s]\n",
      "  3%|██▏                                                                            | 57/2010 [00:00<00:03, 560.14it/s]"
     ]
    },
    {
     "name": "stdout",
     "output_type": "stream",
     "text": [
      "episode : 57 reward : 2.5624772672913316\n",
      "total test reward=4.935377797622585\n"
     ]
    },
    {
     "name": "stderr",
     "output_type": "stream",
     "text": [
      "100%|█████████████████████████████████████████████████████████████████████████████| 2010/2010 [00:03<00:00, 538.73it/s]\n",
      "  3%|██▎                                                                            | 58/2010 [00:00<00:03, 575.60it/s]"
     ]
    },
    {
     "name": "stdout",
     "output_type": "stream",
     "text": [
      "episode : 58 reward : 1.1483093026790265\n",
      "total test reward=4.222936053544984\n"
     ]
    },
    {
     "name": "stderr",
     "output_type": "stream",
     "text": [
      "100%|█████████████████████████████████████████████████████████████████████████████| 2010/2010 [00:03<00:00, 558.27it/s]\n",
      "  3%|██▏                                                                            | 57/2010 [00:00<00:03, 560.11it/s]"
     ]
    },
    {
     "name": "stdout",
     "output_type": "stream",
     "text": [
      "episode : 59 reward : 2.629578826600013\n",
      "total test reward=3.1106338323821072\n"
     ]
    },
    {
     "name": "stderr",
     "output_type": "stream",
     "text": [
      "100%|█████████████████████████████████████████████████████████████████████████████| 2010/2010 [00:03<00:00, 551.52it/s]\n",
      "  3%|██▏                                                                            | 56/2010 [00:00<00:03, 550.32it/s]"
     ]
    },
    {
     "name": "stdout",
     "output_type": "stream",
     "text": [
      "episode : 60 reward : 2.1834689990143143\n",
      "total test reward=3.5211099430725943\n"
     ]
    },
    {
     "name": "stderr",
     "output_type": "stream",
     "text": [
      "100%|█████████████████████████████████████████████████████████████████████████████| 2010/2010 [00:03<00:00, 558.43it/s]\n",
      "  3%|██▏                                                                            | 57/2010 [00:00<00:03, 566.02it/s]"
     ]
    },
    {
     "name": "stdout",
     "output_type": "stream",
     "text": [
      "episode : 61 reward : 1.0421718675277294\n",
      "total test reward=4.191165303341906\n"
     ]
    },
    {
     "name": "stderr",
     "output_type": "stream",
     "text": [
      "100%|█████████████████████████████████████████████████████████████████████████████| 2010/2010 [00:03<00:00, 561.39it/s]\n",
      "  3%|██▎                                                                            | 59/2010 [00:00<00:03, 579.80it/s]"
     ]
    },
    {
     "name": "stdout",
     "output_type": "stream",
     "text": [
      "episode : 62 reward : 4.0749576187941825\n",
      "total test reward=4.613782349138606\n"
     ]
    },
    {
     "name": "stderr",
     "output_type": "stream",
     "text": [
      "100%|█████████████████████████████████████████████████████████████████████████████| 2010/2010 [00:03<00:00, 511.38it/s]\n",
      "  3%|██▏                                                                            | 55/2010 [00:00<00:03, 545.73it/s]"
     ]
    },
    {
     "name": "stdout",
     "output_type": "stream",
     "text": [
      "episode : 63 reward : -0.8020340955899923\n",
      "total test reward=5.06967133523884\n"
     ]
    },
    {
     "name": "stderr",
     "output_type": "stream",
     "text": [
      "100%|█████████████████████████████████████████████████████████████████████████████| 2010/2010 [00:03<00:00, 542.70it/s]\n",
      "  3%|██▎                                                                            | 58/2010 [00:00<00:03, 570.23it/s]"
     ]
    },
    {
     "name": "stdout",
     "output_type": "stream",
     "text": [
      "episode : 64 reward : 1.132856743979758\n",
      "total test reward=5.678810217630606\n"
     ]
    },
    {
     "name": "stderr",
     "output_type": "stream",
     "text": [
      "100%|█████████████████████████████████████████████████████████████████████████████| 2010/2010 [00:03<00:00, 537.20it/s]\n",
      "  3%|██▎                                                                            | 58/2010 [00:00<00:03, 570.15it/s]"
     ]
    },
    {
     "name": "stdout",
     "output_type": "stream",
     "text": [
      "episode : 65 reward : 3.277115016578813\n",
      "total test reward=7.220492503930475\n"
     ]
    },
    {
     "name": "stderr",
     "output_type": "stream",
     "text": [
      "100%|█████████████████████████████████████████████████████████████████████████████| 2010/2010 [00:03<00:00, 517.96it/s]\n",
      "  3%|██▎                                                                            | 58/2010 [00:00<00:03, 575.99it/s]"
     ]
    },
    {
     "name": "stdout",
     "output_type": "stream",
     "text": [
      "episode : 66 reward : -0.18220153115605298\n",
      "total test reward=7.072863191353312\n"
     ]
    },
    {
     "name": "stderr",
     "output_type": "stream",
     "text": [
      "100%|█████████████████████████████████████████████████████████████████████████████| 2010/2010 [00:03<00:00, 534.59it/s]\n",
      "  3%|██                                                                             | 53/2010 [00:00<00:03, 526.03it/s]"
     ]
    },
    {
     "name": "stdout",
     "output_type": "stream",
     "text": [
      "episode : 67 reward : 2.213120206912702\n",
      "total test reward=7.975732687946146\n"
     ]
    },
    {
     "name": "stderr",
     "output_type": "stream",
     "text": [
      "100%|█████████████████████████████████████████████████████████████████████████████| 2010/2010 [00:03<00:00, 524.56it/s]\n",
      "  3%|██                                                                             | 51/2010 [00:00<00:03, 506.27it/s]"
     ]
    },
    {
     "name": "stdout",
     "output_type": "stream",
     "text": [
      "episode : 68 reward : 0.009049556988668606\n",
      "total test reward=7.741701094419244\n"
     ]
    },
    {
     "name": "stderr",
     "output_type": "stream",
     "text": [
      "100%|█████████████████████████████████████████████████████████████████████████████| 2010/2010 [00:04<00:00, 494.21it/s]\n",
      "  3%|██                                                                             | 51/2010 [00:00<00:03, 506.12it/s]"
     ]
    },
    {
     "name": "stdout",
     "output_type": "stream",
     "text": [
      "episode : 69 reward : 1.9204188313227633\n",
      "total test reward=6.047163444978474\n"
     ]
    },
    {
     "name": "stderr",
     "output_type": "stream",
     "text": [
      "100%|█████████████████████████████████████████████████████████████████████████████| 2010/2010 [00:04<00:00, 489.14it/s]\n",
      "  3%|██                                                                             | 54/2010 [00:00<00:03, 536.25it/s]"
     ]
    },
    {
     "name": "stdout",
     "output_type": "stream",
     "text": [
      "episode : 70 reward : 0.5992759097440712\n",
      "total test reward=5.848059743452941\n"
     ]
    },
    {
     "name": "stderr",
     "output_type": "stream",
     "text": [
      "100%|█████████████████████████████████████████████████████████████████████████████| 2010/2010 [00:04<00:00, 482.15it/s]\n",
      "  3%|██                                                                             | 53/2010 [00:00<00:03, 521.19it/s]"
     ]
    },
    {
     "name": "stdout",
     "output_type": "stream",
     "text": [
      "episode : 71 reward : -0.2033903068556735\n",
      "total test reward=5.1456185572329325\n"
     ]
    },
    {
     "name": "stderr",
     "output_type": "stream",
     "text": [
      "100%|█████████████████████████████████████████████████████████████████████████████| 2010/2010 [00:04<00:00, 484.93it/s]\n",
      "  2%|█▊                                                                             | 47/2010 [00:00<00:04, 457.52it/s]"
     ]
    },
    {
     "name": "stdout",
     "output_type": "stream",
     "text": [
      "episode : 72 reward : 1.537498138927265\n",
      "total test reward=5.179449835194646\n"
     ]
    },
    {
     "name": "stderr",
     "output_type": "stream",
     "text": [
      "100%|█████████████████████████████████████████████████████████████████████████████| 2010/2010 [00:03<00:00, 522.52it/s]\n",
      "  3%|██▏                                                                            | 56/2010 [00:00<00:03, 555.73it/s]"
     ]
    },
    {
     "name": "stdout",
     "output_type": "stream",
     "text": [
      "episode : 73 reward : 3.2023919178661693\n",
      "total test reward=5.197665662363357\n"
     ]
    },
    {
     "name": "stderr",
     "output_type": "stream",
     "text": [
      "100%|█████████████████████████████████████████████████████████████████████████████| 2010/2010 [00:03<00:00, 553.06it/s]\n",
      "  3%|██▎                                                                            | 60/2010 [00:00<00:03, 589.63it/s]"
     ]
    },
    {
     "name": "stdout",
     "output_type": "stream",
     "text": [
      "episode : 74 reward : 3.9136518720582982\n",
      "total test reward=4.8953105006651025\n"
     ]
    },
    {
     "name": "stderr",
     "output_type": "stream",
     "text": [
      "100%|█████████████████████████████████████████████████████████████████████████████| 2010/2010 [00:03<00:00, 554.13it/s]\n",
      "  3%|██▎                                                                            | 59/2010 [00:00<00:03, 579.80it/s]"
     ]
    },
    {
     "name": "stdout",
     "output_type": "stream",
     "text": [
      "episode : 75 reward : 4.390635967559404\n",
      "total test reward=5.444514038929552\n"
     ]
    },
    {
     "name": "stderr",
     "output_type": "stream",
     "text": [
      "100%|█████████████████████████████████████████████████████████████████████████████| 2010/2010 [00:03<00:00, 562.01it/s]\n",
      "  3%|██▎                                                                            | 58/2010 [00:00<00:03, 575.89it/s]"
     ]
    },
    {
     "name": "stdout",
     "output_type": "stream",
     "text": [
      "episode : 76 reward : -41.13608080895831\n",
      "total test reward=5.50083331585589\n"
     ]
    },
    {
     "name": "stderr",
     "output_type": "stream",
     "text": [
      "100%|█████████████████████████████████████████████████████████████████████████████| 2010/2010 [00:03<00:00, 548.26it/s]\n",
      "  3%|██                                                                             | 52/2010 [00:00<00:03, 516.31it/s]"
     ]
    },
    {
     "name": "stdout",
     "output_type": "stream",
     "text": [
      "episode : 77 reward : -0.36642501082378165\n",
      "total test reward=5.562516438516762\n"
     ]
    },
    {
     "name": "stderr",
     "output_type": "stream",
     "text": [
      "100%|█████████████████████████████████████████████████████████████████████████████| 2010/2010 [00:03<00:00, 523.61it/s]\n",
      "  3%|██▎                                                                            | 59/2010 [00:00<00:03, 585.52it/s]"
     ]
    },
    {
     "name": "stdout",
     "output_type": "stream",
     "text": [
      "episode : 78 reward : 1.6726714677853316\n",
      "total test reward=4.472924203591431\n"
     ]
    },
    {
     "name": "stderr",
     "output_type": "stream",
     "text": [
      "100%|█████████████████████████████████████████████████████████████████████████████| 2010/2010 [00:03<00:00, 543.95it/s]\n",
      "  3%|██▎                                                                            | 58/2010 [00:00<00:03, 575.62it/s]"
     ]
    },
    {
     "name": "stdout",
     "output_type": "stream",
     "text": [
      "episode : 79 reward : -2.924718641158858\n",
      "total test reward=5.494097165901198\n"
     ]
    },
    {
     "name": "stderr",
     "output_type": "stream",
     "text": [
      "100%|█████████████████████████████████████████████████████████████████████████████| 2010/2010 [00:03<00:00, 559.21it/s]\n",
      "  3%|██▏                                                                            | 57/2010 [00:00<00:03, 565.79it/s]"
     ]
    },
    {
     "name": "stdout",
     "output_type": "stream",
     "text": [
      "episode : 80 reward : 1.0237006991891335\n",
      "total test reward=5.388583176524248\n"
     ]
    },
    {
     "name": "stderr",
     "output_type": "stream",
     "text": [
      "100%|█████████████████████████████████████████████████████████████████████████████| 2010/2010 [00:03<00:00, 558.95it/s]\n",
      "  3%|██                                                                             | 54/2010 [00:00<00:03, 530.81it/s]"
     ]
    },
    {
     "name": "stdout",
     "output_type": "stream",
     "text": [
      "episode : 81 reward : 2.077813297135612\n",
      "total test reward=5.747480233322117\n"
     ]
    },
    {
     "name": "stderr",
     "output_type": "stream",
     "text": [
      "100%|█████████████████████████████████████████████████████████████████████████████| 2010/2010 [00:03<00:00, 536.86it/s]\n",
      "  3%|██                                                                             | 54/2010 [00:00<00:03, 530.65it/s]"
     ]
    },
    {
     "name": "stdout",
     "output_type": "stream",
     "text": [
      "episode : 82 reward : 3.9735719069131914\n",
      "total test reward=6.353814062007901\n"
     ]
    },
    {
     "name": "stderr",
     "output_type": "stream",
     "text": [
      "100%|█████████████████████████████████████████████████████████████████████████████| 2010/2010 [00:03<00:00, 520.09it/s]\n",
      "  3%|██▎                                                                            | 59/2010 [00:00<00:03, 585.54it/s]"
     ]
    },
    {
     "name": "stdout",
     "output_type": "stream",
     "text": [
      "episode : 83 reward : 1.487883306629488\n",
      "total test reward=7.702102879209565\n"
     ]
    },
    {
     "name": "stderr",
     "output_type": "stream",
     "text": [
      "100%|█████████████████████████████████████████████████████████████████████████████| 2010/2010 [00:03<00:00, 557.19it/s]\n",
      "  3%|██▏                                                                            | 57/2010 [00:00<00:03, 565.73it/s]"
     ]
    },
    {
     "name": "stdout",
     "output_type": "stream",
     "text": [
      "episode : 84 reward : 0.9505245082753575\n",
      "total test reward=7.796001118526542\n"
     ]
    },
    {
     "name": "stderr",
     "output_type": "stream",
     "text": [
      "100%|█████████████████████████████████████████████████████████████████████████████| 2010/2010 [00:03<00:00, 563.73it/s]\n",
      "  3%|██▎                                                                            | 59/2010 [00:00<00:03, 580.19it/s]"
     ]
    },
    {
     "name": "stdout",
     "output_type": "stream",
     "text": [
      "episode : 85 reward : 3.3555812266990497\n",
      "total test reward=8.969512130886534\n"
     ]
    },
    {
     "name": "stderr",
     "output_type": "stream",
     "text": [
      "100%|█████████████████████████████████████████████████████████████████████████████| 2010/2010 [00:03<00:00, 552.01it/s]\n",
      "  3%|██▏                                                                            | 57/2010 [00:00<00:03, 565.87it/s]"
     ]
    },
    {
     "name": "stdout",
     "output_type": "stream",
     "text": [
      "episode : 86 reward : 5.811302189418225\n",
      "total test reward=6.150290498430738\n"
     ]
    },
    {
     "name": "stderr",
     "output_type": "stream",
     "text": [
      "100%|█████████████████████████████████████████████████████████████████████████████| 2010/2010 [00:03<00:00, 555.93it/s]\n",
      "  6%|████▍                                                                         | 114/2010 [00:00<00:03, 567.96it/s]"
     ]
    },
    {
     "name": "stdout",
     "output_type": "stream",
     "text": [
      "episode : 87 reward : 1.2987755942757269\n",
      "total test reward=5.924466332406462\n"
     ]
    },
    {
     "name": "stderr",
     "output_type": "stream",
     "text": [
      "100%|█████████████████████████████████████████████████████████████████████████████| 2010/2010 [00:03<00:00, 554.74it/s]\n",
      "  3%|██▎                                                                            | 59/2010 [00:00<00:03, 579.79it/s]"
     ]
    },
    {
     "name": "stdout",
     "output_type": "stream",
     "text": [
      "episode : 88 reward : 2.042694811772771\n",
      "total test reward=6.806394326513254\n"
     ]
    },
    {
     "name": "stderr",
     "output_type": "stream",
     "text": [
      "100%|█████████████████████████████████████████████████████████████████████████████| 2010/2010 [00:03<00:00, 552.76it/s]\n",
      "  5%|███▉                                                                          | 103/2010 [00:00<00:03, 521.50it/s]"
     ]
    },
    {
     "name": "stdout",
     "output_type": "stream",
     "text": [
      "episode : 89 reward : 6.215966736773074\n",
      "total test reward=5.506200875692417\n"
     ]
    },
    {
     "name": "stderr",
     "output_type": "stream",
     "text": [
      "100%|█████████████████████████████████████████████████████████████████████████████| 2010/2010 [00:04<00:00, 500.52it/s]\n",
      "  3%|██                                                                             | 51/2010 [00:00<00:03, 506.14it/s]"
     ]
    },
    {
     "name": "stdout",
     "output_type": "stream",
     "text": [
      "episode : 90 reward : 3.2248237774543504\n",
      "total test reward=5.850647844694758\n"
     ]
    },
    {
     "name": "stderr",
     "output_type": "stream",
     "text": [
      "100%|█████████████████████████████████████████████████████████████████████████████| 2010/2010 [00:03<00:00, 517.30it/s]\n",
      "  3%|██▎                                                                            | 59/2010 [00:00<00:03, 579.75it/s]"
     ]
    },
    {
     "name": "stdout",
     "output_type": "stream",
     "text": [
      "episode : 91 reward : 1.8212472060160305\n",
      "total test reward=6.291945420428636\n"
     ]
    },
    {
     "name": "stderr",
     "output_type": "stream",
     "text": [
      "100%|█████████████████████████████████████████████████████████████████████████████| 2010/2010 [00:03<00:00, 546.29it/s]\n",
      "  6%|████▍                                                                         | 115/2010 [00:00<00:03, 572.66it/s]"
     ]
    },
    {
     "name": "stdout",
     "output_type": "stream",
     "text": [
      "episode : 92 reward : 3.9440966955919228\n",
      "total test reward=6.705148223538184\n"
     ]
    },
    {
     "name": "stderr",
     "output_type": "stream",
     "text": [
      "100%|█████████████████████████████████████████████████████████████████████████████| 2010/2010 [00:03<00:00, 552.61it/s]\n",
      "  3%|██▏                                                                            | 56/2010 [00:00<00:03, 550.41it/s]"
     ]
    },
    {
     "name": "stdout",
     "output_type": "stream",
     "text": [
      "episode : 93 reward : 3.878014684128458\n",
      "total test reward=6.156834931232225\n"
     ]
    },
    {
     "name": "stderr",
     "output_type": "stream",
     "text": [
      "100%|█████████████████████████████████████████████████████████████████████████████| 2010/2010 [00:03<00:00, 555.51it/s]\n",
      "  3%|██▎                                                                            | 58/2010 [00:00<00:03, 575.61it/s]"
     ]
    },
    {
     "name": "stdout",
     "output_type": "stream",
     "text": [
      "episode : 94 reward : 6.900499284352184\n",
      "total test reward=3.842605172892398\n"
     ]
    },
    {
     "name": "stderr",
     "output_type": "stream",
     "text": [
      "100%|█████████████████████████████████████████████████████████████████████████████| 2010/2010 [00:03<00:00, 550.79it/s]\n",
      "  3%|██▎                                                                            | 59/2010 [00:00<00:03, 579.80it/s]"
     ]
    },
    {
     "name": "stdout",
     "output_type": "stream",
     "text": [
      "episode : 95 reward : 5.053756102795482\n",
      "total test reward=4.626816397411251\n"
     ]
    },
    {
     "name": "stderr",
     "output_type": "stream",
     "text": [
      "100%|█████████████████████████████████████████████████████████████████████████████| 2010/2010 [00:03<00:00, 544.18it/s]\n",
      "  3%|██▎                                                                            | 58/2010 [00:00<00:03, 575.62it/s]"
     ]
    },
    {
     "name": "stdout",
     "output_type": "stream",
     "text": [
      "episode : 96 reward : 5.088346374727601\n",
      "total test reward=4.30320417341306\n"
     ]
    },
    {
     "name": "stderr",
     "output_type": "stream",
     "text": [
      "100%|█████████████████████████████████████████████████████████████████████████████| 2010/2010 [00:03<00:00, 555.55it/s]\n",
      "  3%|██                                                                             | 54/2010 [00:00<00:03, 530.66it/s]"
     ]
    },
    {
     "name": "stdout",
     "output_type": "stream",
     "text": [
      "episode : 97 reward : 5.482141232924359\n",
      "total test reward=4.2145007672164265\n"
     ]
    },
    {
     "name": "stderr",
     "output_type": "stream",
     "text": [
      "100%|█████████████████████████████████████████████████████████████████████████████| 2010/2010 [00:03<00:00, 518.62it/s]\n",
      "  3%|██▎                                                                            | 58/2010 [00:00<00:03, 575.60it/s]"
     ]
    },
    {
     "name": "stdout",
     "output_type": "stream",
     "text": [
      "episode : 98 reward : 6.517472319522941\n",
      "total test reward=10.992911211099162\n"
     ]
    },
    {
     "name": "stderr",
     "output_type": "stream",
     "text": [
      "100%|█████████████████████████████████████████████████████████████████████████████| 2010/2010 [00:03<00:00, 535.79it/s]\n",
      "  3%|██▎                                                                            | 58/2010 [00:00<00:03, 570.15it/s]"
     ]
    },
    {
     "name": "stdout",
     "output_type": "stream",
     "text": [
      "episode : 99 reward : 1.596303530651603\n",
      "total test reward=10.539862006109228\n"
     ]
    },
    {
     "name": "stderr",
     "output_type": "stream",
     "text": [
      "100%|█████████████████████████████████████████████████████████████████████████████| 2010/2010 [00:03<00:00, 515.75it/s]\n",
      "  3%|██▏                                                                            | 55/2010 [00:00<00:03, 545.83it/s]"
     ]
    },
    {
     "name": "stdout",
     "output_type": "stream",
     "text": [
      "episode : 100 reward : 5.600092393406696\n",
      "total test reward=13.01253830562521\n"
     ]
    },
    {
     "name": "stderr",
     "output_type": "stream",
     "text": [
      "100%|█████████████████████████████████████████████████████████████████████████████| 2010/2010 [00:03<00:00, 530.08it/s]\n",
      "  3%|██                                                                             | 53/2010 [00:00<00:03, 526.16it/s]"
     ]
    },
    {
     "name": "stdout",
     "output_type": "stream",
     "text": [
      "episode : 101 reward : 3.055201063816134\n",
      "total test reward=11.182264922346917\n"
     ]
    },
    {
     "name": "stderr",
     "output_type": "stream",
     "text": [
      "100%|█████████████████████████████████████████████████████████████████████████████| 2010/2010 [00:03<00:00, 535.43it/s]\n",
      "  3%|██▏                                                                            | 56/2010 [00:00<00:03, 550.48it/s]"
     ]
    },
    {
     "name": "stdout",
     "output_type": "stream",
     "text": [
      "episode : 102 reward : 3.445886893440208\n",
      "total test reward=15.146786534936684\n"
     ]
    },
    {
     "name": "stderr",
     "output_type": "stream",
     "text": [
      "100%|█████████████████████████████████████████████████████████████████████████████| 2010/2010 [00:03<00:00, 536.85it/s]\n",
      "  2%|█▊                                                                             | 47/2010 [00:00<00:04, 468.62it/s]"
     ]
    },
    {
     "name": "stdout",
     "output_type": "stream",
     "text": [
      "episode : 103 reward : 5.9012705673723\n",
      "total test reward=15.817945328790222\n"
     ]
    },
    {
     "name": "stderr",
     "output_type": "stream",
     "text": [
      "100%|█████████████████████████████████████████████████████████████████████████████| 2010/2010 [00:03<00:00, 513.54it/s]\n",
      "  3%|██                                                                             | 53/2010 [00:00<00:03, 521.00it/s]"
     ]
    },
    {
     "name": "stdout",
     "output_type": "stream",
     "text": [
      "episode : 104 reward : 7.761973836446524\n",
      "total test reward=14.499562588208594\n"
     ]
    },
    {
     "name": "stderr",
     "output_type": "stream",
     "text": [
      "100%|█████████████████████████████████████████████████████████████████████████████| 2010/2010 [00:03<00:00, 519.02it/s]\n",
      "  3%|██▏                                                                            | 56/2010 [00:00<00:03, 550.49it/s]"
     ]
    },
    {
     "name": "stdout",
     "output_type": "stream",
     "text": [
      "episode : 105 reward : 3.8253010415159014\n",
      "total test reward=13.346668797541753\n"
     ]
    },
    {
     "name": "stderr",
     "output_type": "stream",
     "text": [
      "100%|█████████████████████████████████████████████████████████████████████████████| 2010/2010 [00:03<00:00, 527.31it/s]\n",
      "  3%|██▏                                                                            | 57/2010 [00:00<00:03, 560.30it/s]"
     ]
    },
    {
     "name": "stdout",
     "output_type": "stream",
     "text": [
      "episode : 106 reward : 6.833302263639862\n",
      "total test reward=12.2287276287188\n"
     ]
    },
    {
     "name": "stderr",
     "output_type": "stream",
     "text": [
      "100%|█████████████████████████████████████████████████████████████████████████████| 2010/2010 [00:03<00:00, 529.39it/s]\n",
      "  3%|██                                                                             | 54/2010 [00:00<00:03, 536.08it/s]"
     ]
    },
    {
     "name": "stdout",
     "output_type": "stream",
     "text": [
      "episode : 107 reward : 8.430017187456274\n",
      "total test reward=10.785339666653757\n"
     ]
    },
    {
     "name": "stderr",
     "output_type": "stream",
     "text": [
      "100%|█████████████████████████████████████████████████████████████████████████████| 2010/2010 [00:03<00:00, 546.61it/s]\n",
      "  3%|██▎                                                                            | 60/2010 [00:00<00:03, 589.79it/s]"
     ]
    },
    {
     "name": "stdout",
     "output_type": "stream",
     "text": [
      "episode : 108 reward : 4.7872117012226605\n",
      "total test reward=10.091088465112824\n"
     ]
    },
    {
     "name": "stderr",
     "output_type": "stream",
     "text": [
      "100%|█████████████████████████████████████████████████████████████████████████████| 2010/2010 [00:03<00:00, 542.01it/s]\n",
      "  6%|████▍                                                                         | 113/2010 [00:00<00:03, 562.73it/s]"
     ]
    },
    {
     "name": "stdout",
     "output_type": "stream",
     "text": [
      "episode : 109 reward : 2.751253456396161\n",
      "total test reward=10.501723347335748\n"
     ]
    },
    {
     "name": "stderr",
     "output_type": "stream",
     "text": [
      "100%|█████████████████████████████████████████████████████████████████████████████| 2010/2010 [00:03<00:00, 538.87it/s]\n",
      "  3%|██▏                                                                            | 55/2010 [00:00<00:03, 540.48it/s]"
     ]
    },
    {
     "name": "stdout",
     "output_type": "stream",
     "text": [
      "episode : 110 reward : 4.408214313373248\n",
      "total test reward=14.403467455281836\n"
     ]
    },
    {
     "name": "stderr",
     "output_type": "stream",
     "text": [
      "100%|█████████████████████████████████████████████████████████████████████████████| 2010/2010 [00:03<00:00, 524.01it/s]\n",
      "  3%|██▏                                                                            | 57/2010 [00:00<00:03, 565.86it/s]"
     ]
    },
    {
     "name": "stdout",
     "output_type": "stream",
     "text": [
      "episode : 111 reward : 3.662832015896429\n",
      "total test reward=14.665154770455127\n"
     ]
    },
    {
     "name": "stderr",
     "output_type": "stream",
     "text": [
      "100%|█████████████████████████████████████████████████████████████████████████████| 2010/2010 [00:03<00:00, 543.98it/s]\n",
      "  3%|██▎                                                                            | 58/2010 [00:00<00:03, 575.58it/s]"
     ]
    },
    {
     "name": "stdout",
     "output_type": "stream",
     "text": [
      "episode : 112 reward : 3.4160061656098204\n",
      "total test reward=14.043714680282989\n"
     ]
    },
    {
     "name": "stderr",
     "output_type": "stream",
     "text": [
      "100%|█████████████████████████████████████████████████████████████████████████████| 2010/2010 [00:03<00:00, 553.11it/s]\n",
      "  6%|████▍                                                                         | 114/2010 [00:00<00:03, 565.68it/s]"
     ]
    },
    {
     "name": "stdout",
     "output_type": "stream",
     "text": [
      "episode : 113 reward : 11.921138360256066\n",
      "total test reward=13.776855074051587\n"
     ]
    },
    {
     "name": "stderr",
     "output_type": "stream",
     "text": [
      "100%|█████████████████████████████████████████████████████████████████████████████| 2010/2010 [00:03<00:00, 556.11it/s]\n",
      "  3%|██▏                                                                            | 55/2010 [00:00<00:03, 530.26it/s]"
     ]
    },
    {
     "name": "stdout",
     "output_type": "stream",
     "text": [
      "episode : 114 reward : 14.950569868177539\n",
      "total test reward=12.783483799511888\n"
     ]
    },
    {
     "name": "stderr",
     "output_type": "stream",
     "text": [
      "100%|█████████████████████████████████████████████████████████████████████████████| 2010/2010 [00:03<00:00, 553.83it/s]\n",
      "  3%|██▎                                                                            | 59/2010 [00:00<00:03, 579.81it/s]"
     ]
    },
    {
     "name": "stdout",
     "output_type": "stream",
     "text": [
      "episode : 115 reward : 13.232981707261942\n",
      "total test reward=14.09013419210803\n"
     ]
    },
    {
     "name": "stderr",
     "output_type": "stream",
     "text": [
      "100%|█████████████████████████████████████████████████████████████████████████████| 2010/2010 [00:03<00:00, 546.02it/s]\n",
      "  3%|██▏                                                                            | 57/2010 [00:00<00:03, 565.70it/s]"
     ]
    },
    {
     "name": "stdout",
     "output_type": "stream",
     "text": [
      "episode : 116 reward : 8.611590543415042\n",
      "total test reward=11.777480167287205\n"
     ]
    },
    {
     "name": "stderr",
     "output_type": "stream",
     "text": [
      "100%|█████████████████████████████████████████████████████████████████████████████| 2010/2010 [00:03<00:00, 555.50it/s]\n",
      "  3%|██▎                                                                            | 59/2010 [00:00<00:03, 579.84it/s]"
     ]
    },
    {
     "name": "stdout",
     "output_type": "stream",
     "text": [
      "episode : 117 reward : 4.604473144253182\n",
      "total test reward=13.962271478271578\n"
     ]
    },
    {
     "name": "stderr",
     "output_type": "stream",
     "text": [
      "100%|█████████████████████████████████████████████████████████████████████████████| 2010/2010 [00:03<00:00, 559.09it/s]\n",
      "  3%|██▎                                                                            | 58/2010 [00:00<00:03, 575.61it/s]"
     ]
    },
    {
     "name": "stdout",
     "output_type": "stream",
     "text": [
      "episode : 118 reward : 8.222560427094562\n",
      "total test reward=14.927173481817494\n"
     ]
    },
    {
     "name": "stderr",
     "output_type": "stream",
     "text": [
      "100%|█████████████████████████████████████████████████████████████████████████████| 2010/2010 [00:03<00:00, 552.40it/s]\n",
      "  3%|██▏                                                                            | 57/2010 [00:00<00:03, 565.69it/s]"
     ]
    },
    {
     "name": "stdout",
     "output_type": "stream",
     "text": [
      "episode : 119 reward : 8.263952436713907\n",
      "total test reward=12.7591909770907\n"
     ]
    },
    {
     "name": "stderr",
     "output_type": "stream",
     "text": [
      "100%|█████████████████████████████████████████████████████████████████████████████| 2010/2010 [00:03<00:00, 551.55it/s]\n",
      "  3%|██▏                                                                            | 57/2010 [00:00<00:03, 565.65it/s]"
     ]
    },
    {
     "name": "stdout",
     "output_type": "stream",
     "text": [
      "episode : 120 reward : 2.669940334391974\n",
      "total test reward=14.664504849493833\n"
     ]
    },
    {
     "name": "stderr",
     "output_type": "stream",
     "text": [
      "100%|█████████████████████████████████████████████████████████████████████████████| 2010/2010 [00:03<00:00, 538.58it/s]\n",
      "  3%|██▎                                                                            | 59/2010 [00:00<00:03, 585.57it/s]"
     ]
    },
    {
     "name": "stdout",
     "output_type": "stream",
     "text": [
      "episode : 121 reward : 4.245934524701706\n",
      "total test reward=15.228389930855588\n"
     ]
    },
    {
     "name": "stderr",
     "output_type": "stream",
     "text": [
      "100%|█████████████████████████████████████████████████████████████████████████████| 2010/2010 [00:03<00:00, 539.14it/s]\n",
      "  3%|██▏                                                                            | 56/2010 [00:00<00:03, 555.93it/s]"
     ]
    },
    {
     "name": "stdout",
     "output_type": "stream",
     "text": [
      "episode : 122 reward : 14.833119990921386\n",
      "total test reward=17.370530851998463\n"
     ]
    },
    {
     "name": "stderr",
     "output_type": "stream",
     "text": [
      "100%|█████████████████████████████████████████████████████████████████████████████| 2010/2010 [00:03<00:00, 546.37it/s]\n",
      "  2%|█▉                                                                             | 49/2010 [00:00<00:04, 486.44it/s]"
     ]
    },
    {
     "name": "stdout",
     "output_type": "stream",
     "text": [
      "episode : 123 reward : 11.672117986741558\n",
      "total test reward=14.723963236463424\n"
     ]
    },
    {
     "name": "stderr",
     "output_type": "stream",
     "text": [
      "100%|█████████████████████████████████████████████████████████████████████████████| 2010/2010 [00:03<00:00, 547.18it/s]\n",
      "  6%|████▎                                                                         | 112/2010 [00:00<00:03, 557.93it/s]"
     ]
    },
    {
     "name": "stdout",
     "output_type": "stream",
     "text": [
      "episode : 124 reward : 10.477523648817034\n",
      "total test reward=17.05815573837615\n"
     ]
    },
    {
     "name": "stderr",
     "output_type": "stream",
     "text": [
      "100%|█████████████████████████████████████████████████████████████████████████████| 2010/2010 [00:03<00:00, 540.81it/s]\n",
      "  3%|██▎                                                                            | 58/2010 [00:00<00:03, 569.97it/s]"
     ]
    },
    {
     "name": "stdout",
     "output_type": "stream",
     "text": [
      "episode : 125 reward : 5.241867469835695\n",
      "total test reward=15.627195380893227\n"
     ]
    },
    {
     "name": "stderr",
     "output_type": "stream",
     "text": [
      "100%|█████████████████████████████████████████████████████████████████████████████| 2010/2010 [00:03<00:00, 549.14it/s]\n",
      "  3%|██▏                                                                            | 57/2010 [00:00<00:03, 560.18it/s]"
     ]
    },
    {
     "name": "stdout",
     "output_type": "stream",
     "text": [
      "episode : 126 reward : 7.446766711307314\n",
      "total test reward=12.766056350866563\n"
     ]
    },
    {
     "name": "stderr",
     "output_type": "stream",
     "text": [
      "100%|█████████████████████████████████████████████████████████████████████████████| 2010/2010 [00:03<00:00, 551.19it/s]\n",
      "  3%|██▏                                                                            | 57/2010 [00:00<00:03, 565.69it/s]"
     ]
    },
    {
     "name": "stdout",
     "output_type": "stream",
     "text": [
      "episode : 127 reward : 7.023702693700949\n",
      "total test reward=16.772917474556326\n"
     ]
    },
    {
     "name": "stderr",
     "output_type": "stream",
     "text": [
      "100%|█████████████████████████████████████████████████████████████████████████████| 2010/2010 [00:03<00:00, 549.59it/s]\n",
      "  3%|██▎                                                                            | 59/2010 [00:00<00:03, 585.54it/s]"
     ]
    },
    {
     "name": "stdout",
     "output_type": "stream",
     "text": [
      "episode : 128 reward : 5.575852246616141\n",
      "total test reward=16.929006934337753\n"
     ]
    },
    {
     "name": "stderr",
     "output_type": "stream",
     "text": [
      "100%|█████████████████████████████████████████████████████████████████████████████| 2010/2010 [00:03<00:00, 544.40it/s]\n",
      "  3%|██▎                                                                            | 58/2010 [00:00<00:03, 575.83it/s]"
     ]
    },
    {
     "name": "stdout",
     "output_type": "stream",
     "text": [
      "episode : 129 reward : 6.497927561002111\n",
      "total test reward=16.71121687458491\n"
     ]
    },
    {
     "name": "stderr",
     "output_type": "stream",
     "text": [
      "100%|█████████████████████████████████████████████████████████████████████████████| 2010/2010 [00:03<00:00, 538.73it/s]\n",
      "  3%|██▎                                                                            | 58/2010 [00:00<00:03, 575.80it/s]"
     ]
    },
    {
     "name": "stdout",
     "output_type": "stream",
     "text": [
      "episode : 130 reward : 6.835136328981301\n",
      "total test reward=15.428194311832005\n"
     ]
    },
    {
     "name": "stderr",
     "output_type": "stream",
     "text": [
      "100%|█████████████████████████████████████████████████████████████████████████████| 2010/2010 [00:03<00:00, 532.04it/s]\n",
      "  3%|██▎                                                                            | 58/2010 [00:00<00:03, 575.61it/s]"
     ]
    },
    {
     "name": "stdout",
     "output_type": "stream",
     "text": [
      "episode : 131 reward : 5.778226202786572\n",
      "total test reward=17.649543556211484\n"
     ]
    },
    {
     "name": "stderr",
     "output_type": "stream",
     "text": [
      "100%|█████████████████████████████████████████████████████████████████████████████| 2010/2010 [00:03<00:00, 520.90it/s]\n",
      "  3%|██▎                                                                            | 58/2010 [00:00<00:03, 575.97it/s]"
     ]
    },
    {
     "name": "stdout",
     "output_type": "stream",
     "text": [
      "episode : 132 reward : 1.8284133834828542\n",
      "total test reward=18.006350211946792\n"
     ]
    },
    {
     "name": "stderr",
     "output_type": "stream",
     "text": [
      "100%|█████████████████████████████████████████████████████████████████████████████| 2010/2010 [00:03<00:00, 558.89it/s]\n",
      "  3%|██▎                                                                            | 58/2010 [00:00<00:03, 575.62it/s]"
     ]
    },
    {
     "name": "stdout",
     "output_type": "stream",
     "text": [
      "episode : 133 reward : 13.346099623791677\n",
      "total test reward=17.226293306445214\n"
     ]
    },
    {
     "name": "stderr",
     "output_type": "stream",
     "text": [
      "100%|█████████████████████████████████████████████████████████████████████████████| 2010/2010 [00:03<00:00, 560.62it/s]\n",
      "  3%|██▎                                                                            | 59/2010 [00:00<00:03, 585.71it/s]"
     ]
    },
    {
     "name": "stdout",
     "output_type": "stream",
     "text": [
      "episode : 134 reward : 10.501436702936445\n",
      "total test reward=23.982595603217163\n"
     ]
    },
    {
     "name": "stderr",
     "output_type": "stream",
     "text": [
      "100%|█████████████████████████████████████████████████████████████████████████████| 2010/2010 [00:03<00:00, 534.41it/s]\n",
      "  3%|██▎                                                                            | 58/2010 [00:00<00:03, 569.98it/s]"
     ]
    },
    {
     "name": "stdout",
     "output_type": "stream",
     "text": [
      "episode : 135 reward : 14.065533999668162\n",
      "total test reward=16.04245271465304\n"
     ]
    },
    {
     "name": "stderr",
     "output_type": "stream",
     "text": [
      "100%|█████████████████████████████████████████████████████████████████████████████| 2010/2010 [00:03<00:00, 515.05it/s]\n",
      "  6%|████▍                                                                         | 113/2010 [00:00<00:03, 561.04it/s]"
     ]
    },
    {
     "name": "stdout",
     "output_type": "stream",
     "text": [
      "episode : 136 reward : 12.205026153173824\n",
      "total test reward=16.78388108156114\n"
     ]
    },
    {
     "name": "stderr",
     "output_type": "stream",
     "text": [
      "100%|█████████████████████████████████████████████████████████████████████████████| 2010/2010 [00:03<00:00, 556.73it/s]\n",
      "  3%|██▎                                                                            | 58/2010 [00:00<00:03, 575.62it/s]"
     ]
    },
    {
     "name": "stdout",
     "output_type": "stream",
     "text": [
      "episode : 137 reward : 8.207671687855923\n",
      "total test reward=18.01995707250993\n"
     ]
    },
    {
     "name": "stderr",
     "output_type": "stream",
     "text": [
      "100%|█████████████████████████████████████████████████████████████████████████████| 2010/2010 [00:03<00:00, 559.87it/s]\n",
      "  3%|██▏                                                                            | 55/2010 [00:00<00:03, 545.90it/s]"
     ]
    },
    {
     "name": "stdout",
     "output_type": "stream",
     "text": [
      "episode : 138 reward : 9.979875811096067\n",
      "total test reward=19.298943123730005\n"
     ]
    },
    {
     "name": "stderr",
     "output_type": "stream",
     "text": [
      "100%|█████████████████████████████████████████████████████████████████████████████| 2010/2010 [00:03<00:00, 556.01it/s]\n",
      "  3%|██▎                                                                            | 59/2010 [00:00<00:03, 585.53it/s]"
     ]
    },
    {
     "name": "stdout",
     "output_type": "stream",
     "text": [
      "episode : 139 reward : 15.234685008346837\n",
      "total test reward=16.94008561101727\n"
     ]
    },
    {
     "name": "stderr",
     "output_type": "stream",
     "text": [
      "100%|█████████████████████████████████████████████████████████████████████████████| 2010/2010 [00:03<00:00, 558.27it/s]\n",
      "  6%|████▌                                                                         | 116/2010 [00:00<00:03, 573.93it/s]"
     ]
    },
    {
     "name": "stdout",
     "output_type": "stream",
     "text": [
      "episode : 140 reward : 10.75983182563314\n",
      "total test reward=15.573051548650117\n"
     ]
    },
    {
     "name": "stderr",
     "output_type": "stream",
     "text": [
      "100%|█████████████████████████████████████████████████████████████████████████████| 2010/2010 [00:03<00:00, 557.35it/s]\n",
      "  3%|██▎                                                                            | 58/2010 [00:00<00:03, 575.60it/s]"
     ]
    },
    {
     "name": "stdout",
     "output_type": "stream",
     "text": [
      "episode : 141 reward : 11.309839277182713\n",
      "total test reward=16.238889505497255\n"
     ]
    },
    {
     "name": "stderr",
     "output_type": "stream",
     "text": [
      "100%|█████████████████████████████████████████████████████████████████████████████| 2010/2010 [00:03<00:00, 554.43it/s]\n",
      "  3%|██▎                                                                            | 59/2010 [00:00<00:03, 579.98it/s]"
     ]
    },
    {
     "name": "stdout",
     "output_type": "stream",
     "text": [
      "episode : 142 reward : 10.070951102868221\n",
      "total test reward=16.57422547122431\n"
     ]
    },
    {
     "name": "stderr",
     "output_type": "stream",
     "text": [
      "100%|█████████████████████████████████████████████████████████████████████████████| 2010/2010 [00:03<00:00, 557.69it/s]\n",
      "  3%|██▏                                                                            | 57/2010 [00:00<00:03, 560.33it/s]"
     ]
    },
    {
     "name": "stdout",
     "output_type": "stream",
     "text": [
      "episode : 143 reward : 20.42326579425266\n",
      "total test reward=16.631899298670398\n"
     ]
    },
    {
     "name": "stderr",
     "output_type": "stream",
     "text": [
      "100%|█████████████████████████████████████████████████████████████████████████████| 2010/2010 [00:03<00:00, 516.90it/s]\n",
      "  3%|██▎                                                                            | 59/2010 [00:00<00:03, 585.54it/s]"
     ]
    },
    {
     "name": "stdout",
     "output_type": "stream",
     "text": [
      "episode : 144 reward : 14.218046061507685\n",
      "total test reward=13.538103321614127\n"
     ]
    },
    {
     "name": "stderr",
     "output_type": "stream",
     "text": [
      "100%|█████████████████████████████████████████████████████████████████████████████| 2010/2010 [00:03<00:00, 532.58it/s]\n",
      "  3%|██                                                                             | 51/2010 [00:00<00:03, 501.18it/s]"
     ]
    },
    {
     "name": "stdout",
     "output_type": "stream",
     "text": [
      "episode : 145 reward : 12.677896277900837\n",
      "total test reward=14.790762774154663\n"
     ]
    },
    {
     "name": "stderr",
     "output_type": "stream",
     "text": [
      "100%|█████████████████████████████████████████████████████████████████████████████| 2010/2010 [00:04<00:00, 498.42it/s]\n",
      "  3%|██▏                                                                            | 56/2010 [00:00<00:03, 550.31it/s]"
     ]
    },
    {
     "name": "stdout",
     "output_type": "stream",
     "text": [
      "episode : 146 reward : 11.802304629093149\n",
      "total test reward=12.737035109439054\n"
     ]
    },
    {
     "name": "stderr",
     "output_type": "stream",
     "text": [
      "100%|█████████████████████████████████████████████████████████████████████████████| 2010/2010 [00:03<00:00, 521.84it/s]\n",
      "  2%|█▉                                                                             | 50/2010 [00:00<00:03, 491.46it/s]"
     ]
    },
    {
     "name": "stdout",
     "output_type": "stream",
     "text": [
      "episode : 147 reward : 9.029506815532356\n",
      "total test reward=14.12249573093214\n"
     ]
    },
    {
     "name": "stderr",
     "output_type": "stream",
     "text": [
      "100%|█████████████████████████████████████████████████████████████████████████████| 2010/2010 [00:03<00:00, 507.01it/s]\n",
      "  3%|██▏                                                                            | 55/2010 [00:00<00:03, 540.62it/s]"
     ]
    },
    {
     "name": "stdout",
     "output_type": "stream",
     "text": [
      "episode : 148 reward : 20.27348149163652\n",
      "total test reward=17.624390953400003\n"
     ]
    },
    {
     "name": "stderr",
     "output_type": "stream",
     "text": [
      "100%|█████████████████████████████████████████████████████████████████████████████| 2010/2010 [00:03<00:00, 523.07it/s]\n",
      "  3%|██▏                                                                            | 55/2010 [00:00<00:03, 546.01it/s]"
     ]
    },
    {
     "name": "stdout",
     "output_type": "stream",
     "text": [
      "episode : 149 reward : 7.723056034344722\n",
      "total test reward=19.459726912390906\n"
     ]
    },
    {
     "name": "stderr",
     "output_type": "stream",
     "text": [
      "100%|█████████████████████████████████████████████████████████████████████████████| 2010/2010 [00:03<00:00, 526.34it/s]\n",
      "  3%|██                                                                             | 54/2010 [00:00<00:03, 535.91it/s]"
     ]
    },
    {
     "name": "stdout",
     "output_type": "stream",
     "text": [
      "episode : 150 reward : 17.348156244253566\n",
      "total test reward=25.567873254998627\n"
     ]
    },
    {
     "name": "stderr",
     "output_type": "stream",
     "text": [
      "100%|█████████████████████████████████████████████████████████████████████████████| 2010/2010 [00:03<00:00, 512.30it/s]\n",
      "  3%|██                                                                             | 51/2010 [00:00<00:03, 501.33it/s]"
     ]
    },
    {
     "name": "stdout",
     "output_type": "stream",
     "text": [
      "episode : 151 reward : 17.10384646100137\n",
      "total test reward=24.67656703336711\n"
     ]
    },
    {
     "name": "stderr",
     "output_type": "stream",
     "text": [
      "100%|█████████████████████████████████████████████████████████████████████████████| 2010/2010 [00:03<00:00, 539.02it/s]\n",
      "  2%|█▊                                                                             | 46/2010 [00:00<00:04, 452.04it/s]"
     ]
    },
    {
     "name": "stdout",
     "output_type": "stream",
     "text": [
      "episode : 152 reward : 11.27118672170003\n",
      "total test reward=21.55227277709447\n"
     ]
    },
    {
     "name": "stderr",
     "output_type": "stream",
     "text": [
      "100%|█████████████████████████████████████████████████████████████████████████████| 2010/2010 [00:03<00:00, 514.13it/s]\n",
      "  3%|██▎                                                                            | 58/2010 [00:00<00:03, 575.78it/s]"
     ]
    },
    {
     "name": "stdout",
     "output_type": "stream",
     "text": [
      "episode : 153 reward : 17.41604245740442\n",
      "total test reward=26.528526473062193\n"
     ]
    },
    {
     "name": "stderr",
     "output_type": "stream",
     "text": [
      "100%|█████████████████████████████████████████████████████████████████████████████| 2010/2010 [00:03<00:00, 567.06it/s]\n",
      "  6%|████▎                                                                         | 111/2010 [00:00<00:03, 533.79it/s]"
     ]
    },
    {
     "name": "stdout",
     "output_type": "stream",
     "text": [
      "episode : 154 reward : 22.14868940317007\n",
      "total test reward=23.866305552909076\n"
     ]
    },
    {
     "name": "stderr",
     "output_type": "stream",
     "text": [
      "100%|█████████████████████████████████████████████████████████████████████████████| 2010/2010 [00:03<00:00, 526.34it/s]\n",
      "  3%|██▏                                                                            | 57/2010 [00:00<00:03, 565.66it/s]"
     ]
    },
    {
     "name": "stdout",
     "output_type": "stream",
     "text": [
      "episode : 155 reward : 12.398596758247622\n",
      "total test reward=27.209203080751564\n"
     ]
    },
    {
     "name": "stderr",
     "output_type": "stream",
     "text": [
      "100%|█████████████████████████████████████████████████████████████████████████████| 2010/2010 [00:03<00:00, 558.03it/s]\n",
      "  3%|██▏                                                                            | 57/2010 [00:00<00:03, 565.68it/s]"
     ]
    },
    {
     "name": "stdout",
     "output_type": "stream",
     "text": [
      "episode : 156 reward : 27.38963432830972\n",
      "total test reward=21.399921850521945\n"
     ]
    },
    {
     "name": "stderr",
     "output_type": "stream",
     "text": [
      "100%|█████████████████████████████████████████████████████████████████████████████| 2010/2010 [00:03<00:00, 557.04it/s]\n",
      "  3%|██                                                                             | 54/2010 [00:00<00:03, 535.92it/s]"
     ]
    },
    {
     "name": "stdout",
     "output_type": "stream",
     "text": [
      "episode : 157 reward : 13.365267318463708\n",
      "total test reward=23.263204960689947\n"
     ]
    },
    {
     "name": "stderr",
     "output_type": "stream",
     "text": [
      "100%|█████████████████████████████████████████████████████████████████████████████| 2010/2010 [00:03<00:00, 538.72it/s]\n",
      "  3%|██▎                                                                            | 58/2010 [00:00<00:03, 571.34it/s]"
     ]
    },
    {
     "name": "stdout",
     "output_type": "stream",
     "text": [
      "episode : 158 reward : 1.5841103460906032\n",
      "total test reward=16.96607518576144\n"
     ]
    },
    {
     "name": "stderr",
     "output_type": "stream",
     "text": [
      "100%|█████████████████████████████████████████████████████████████████████████████| 2010/2010 [00:03<00:00, 550.66it/s]\n",
      "  3%|██▏                                                                            | 57/2010 [00:00<00:03, 565.86it/s]"
     ]
    },
    {
     "name": "stdout",
     "output_type": "stream",
     "text": [
      "episode : 159 reward : 13.337220853158044\n",
      "total test reward=16.79887545475137\n"
     ]
    },
    {
     "name": "stderr",
     "output_type": "stream",
     "text": [
      "100%|█████████████████████████████████████████████████████████████████████████████| 2010/2010 [00:03<00:00, 546.06it/s]\n",
      "  3%|██▎                                                                            | 58/2010 [00:00<00:03, 570.15it/s]"
     ]
    },
    {
     "name": "stdout",
     "output_type": "stream",
     "text": [
      "episode : 160 reward : 16.681197372650093\n",
      "total test reward=17.808630340006438\n"
     ]
    },
    {
     "name": "stderr",
     "output_type": "stream",
     "text": [
      "100%|█████████████████████████████████████████████████████████████████████████████| 2010/2010 [00:03<00:00, 551.85it/s]\n",
      "  3%|██▎                                                                            | 58/2010 [00:00<00:03, 570.40it/s]"
     ]
    },
    {
     "name": "stdout",
     "output_type": "stream",
     "text": [
      "episode : 161 reward : 10.118572458410538\n",
      "total test reward=21.141046176136506\n"
     ]
    },
    {
     "name": "stderr",
     "output_type": "stream",
     "text": [
      "100%|█████████████████████████████████████████████████████████████████████████████| 2010/2010 [00:03<00:00, 549.76it/s]\n",
      "  3%|██▏                                                                            | 56/2010 [00:00<00:03, 555.74it/s]"
     ]
    },
    {
     "name": "stdout",
     "output_type": "stream",
     "text": [
      "episode : 162 reward : 16.82404290477273\n",
      "total test reward=16.35280216165558\n"
     ]
    },
    {
     "name": "stderr",
     "output_type": "stream",
     "text": [
      "100%|█████████████████████████████████████████████████████████████████████████████| 2010/2010 [00:03<00:00, 551.17it/s]\n",
      "  3%|██▏                                                                            | 57/2010 [00:00<00:03, 559.95it/s]"
     ]
    },
    {
     "name": "stdout",
     "output_type": "stream",
     "text": [
      "episode : 163 reward : 22.74057287223945\n",
      "total test reward=11.453540795189307\n"
     ]
    },
    {
     "name": "stderr",
     "output_type": "stream",
     "text": [
      "100%|█████████████████████████████████████████████████████████████████████████████| 2010/2010 [00:03<00:00, 548.94it/s]\n",
      "  3%|██▏                                                                            | 57/2010 [00:00<00:03, 565.69it/s]"
     ]
    },
    {
     "name": "stdout",
     "output_type": "stream",
     "text": [
      "episode : 164 reward : 18.295719515619812\n",
      "total test reward=7.978316784942737\n"
     ]
    },
    {
     "name": "stderr",
     "output_type": "stream",
     "text": [
      "100%|█████████████████████████████████████████████████████████████████████████████| 2010/2010 [00:03<00:00, 540.24it/s]\n",
      "  6%|████▍                                                                         | 113/2010 [00:00<00:03, 561.04it/s]"
     ]
    },
    {
     "name": "stdout",
     "output_type": "stream",
     "text": [
      "episode : 165 reward : 6.8072788459655555\n",
      "total test reward=8.32799002836456\n"
     ]
    },
    {
     "name": "stderr",
     "output_type": "stream",
     "text": [
      "100%|█████████████████████████████████████████████████████████████████████████████| 2010/2010 [00:03<00:00, 539.64it/s]\n",
      "  3%|██▏                                                                            | 57/2010 [00:00<00:03, 565.69it/s]"
     ]
    },
    {
     "name": "stdout",
     "output_type": "stream",
     "text": [
      "episode : 166 reward : 13.984900753911191\n",
      "total test reward=24.769175459361303\n"
     ]
    },
    {
     "name": "stderr",
     "output_type": "stream",
     "text": [
      "100%|█████████████████████████████████████████████████████████████████████████████| 2010/2010 [00:03<00:00, 534.74it/s]\n",
      "  3%|██▏                                                                            | 57/2010 [00:00<00:03, 560.14it/s]"
     ]
    },
    {
     "name": "stdout",
     "output_type": "stream",
     "text": [
      "episode : 167 reward : 8.548923541701212\n",
      "total test reward=23.4986111644729\n"
     ]
    },
    {
     "name": "stderr",
     "output_type": "stream",
     "text": [
      "100%|█████████████████████████████████████████████████████████████████████████████| 2010/2010 [00:03<00:00, 544.70it/s]\n",
      "  3%|██▏                                                                            | 55/2010 [00:00<00:03, 540.67it/s]"
     ]
    },
    {
     "name": "stdout",
     "output_type": "stream",
     "text": [
      "episode : 168 reward : 4.387701490094097\n",
      "total test reward=27.17366987573457\n"
     ]
    },
    {
     "name": "stderr",
     "output_type": "stream",
     "text": [
      "100%|█████████████████████████████████████████████████████████████████████████████| 2010/2010 [00:03<00:00, 542.80it/s]\n",
      "  3%|██▏                                                                            | 56/2010 [00:00<00:03, 555.77it/s]"
     ]
    },
    {
     "name": "stdout",
     "output_type": "stream",
     "text": [
      "episode : 169 reward : 9.403959425470484\n",
      "total test reward=23.175298628500435\n"
     ]
    },
    {
     "name": "stderr",
     "output_type": "stream",
     "text": [
      "100%|█████████████████████████████████████████████████████████████████████████████| 2010/2010 [00:03<00:00, 548.49it/s]\n",
      "  3%|██▏                                                                            | 57/2010 [00:00<00:03, 566.16it/s]"
     ]
    },
    {
     "name": "stdout",
     "output_type": "stream",
     "text": [
      "episode : 170 reward : 12.900341958803697\n",
      "total test reward=22.92175968449333\n"
     ]
    },
    {
     "name": "stderr",
     "output_type": "stream",
     "text": [
      "100%|█████████████████████████████████████████████████████████████████████████████| 2010/2010 [00:03<00:00, 548.35it/s]\n",
      "  3%|██▏                                                                            | 57/2010 [00:00<00:03, 560.13it/s]"
     ]
    },
    {
     "name": "stdout",
     "output_type": "stream",
     "text": [
      "episode : 171 reward : 17.97745207912411\n",
      "total test reward=23.427453891137148\n"
     ]
    },
    {
     "name": "stderr",
     "output_type": "stream",
     "text": [
      "100%|█████████████████████████████████████████████████████████████████████████████| 2010/2010 [00:03<00:00, 544.07it/s]\n",
      "  3%|██▏                                                                            | 57/2010 [00:00<00:03, 565.83it/s]"
     ]
    },
    {
     "name": "stdout",
     "output_type": "stream",
     "text": [
      "episode : 172 reward : 17.910790565026016\n",
      "total test reward=24.770696882506343\n"
     ]
    },
    {
     "name": "stderr",
     "output_type": "stream",
     "text": [
      "100%|█████████████████████████████████████████████████████████████████████████████| 2010/2010 [00:03<00:00, 545.06it/s]\n",
      "  3%|██▏                                                                            | 57/2010 [00:00<00:03, 565.63it/s]"
     ]
    },
    {
     "name": "stdout",
     "output_type": "stream",
     "text": [
      "episode : 173 reward : 12.805306324371708\n",
      "total test reward=20.976642452484857\n"
     ]
    },
    {
     "name": "stderr",
     "output_type": "stream",
     "text": [
      "100%|█████████████████████████████████████████████████████████████████████████████| 2010/2010 [00:03<00:00, 531.97it/s]\n",
      "  3%|██▎                                                                            | 58/2010 [00:00<00:03, 570.15it/s]"
     ]
    },
    {
     "name": "stdout",
     "output_type": "stream",
     "text": [
      "episode : 174 reward : 5.133414432941642\n",
      "total test reward=26.03958445840347\n"
     ]
    },
    {
     "name": "stderr",
     "output_type": "stream",
     "text": [
      "100%|█████████████████████████████████████████████████████████████████████████████| 2010/2010 [00:03<00:00, 544.48it/s]\n",
      "  6%|████▍                                                                         | 113/2010 [00:00<00:03, 564.70it/s]"
     ]
    },
    {
     "name": "stdout",
     "output_type": "stream",
     "text": [
      "episode : 175 reward : 8.533103634380828\n",
      "total test reward=9.688331190989148\n"
     ]
    },
    {
     "name": "stderr",
     "output_type": "stream",
     "text": [
      "100%|█████████████████████████████████████████████████████████████████████████████| 2010/2010 [00:03<00:00, 542.18it/s]\n",
      "  3%|██▎                                                                            | 58/2010 [00:00<00:03, 570.15it/s]"
     ]
    },
    {
     "name": "stdout",
     "output_type": "stream",
     "text": [
      "episode : 176 reward : 4.378884454773143\n",
      "total test reward=24.754179629268048\n"
     ]
    },
    {
     "name": "stderr",
     "output_type": "stream",
     "text": [
      "100%|█████████████████████████████████████████████████████████████████████████████| 2010/2010 [00:03<00:00, 545.11it/s]\n",
      "  3%|██▏                                                                            | 57/2010 [00:00<00:03, 566.04it/s]"
     ]
    },
    {
     "name": "stdout",
     "output_type": "stream",
     "text": [
      "episode : 177 reward : 22.714878604170842\n",
      "total test reward=10.629228307136373\n"
     ]
    },
    {
     "name": "stderr",
     "output_type": "stream",
     "text": [
      "100%|█████████████████████████████████████████████████████████████████████████████| 2010/2010 [00:03<00:00, 543.13it/s]\n",
      "  3%|██                                                                             | 54/2010 [00:00<00:03, 538.31it/s]"
     ]
    },
    {
     "name": "stdout",
     "output_type": "stream",
     "text": [
      "episode : 178 reward : 18.647844505368557\n",
      "total test reward=10.810694332224207\n"
     ]
    },
    {
     "name": "stderr",
     "output_type": "stream",
     "text": [
      "100%|█████████████████████████████████████████████████████████████████████████████| 2010/2010 [00:03<00:00, 548.11it/s]\n",
      "  3%|██▏                                                                            | 56/2010 [00:00<00:03, 550.47it/s]"
     ]
    },
    {
     "name": "stdout",
     "output_type": "stream",
     "text": [
      "episode : 179 reward : 10.751343461659218\n",
      "total test reward=12.041629347192528\n"
     ]
    },
    {
     "name": "stderr",
     "output_type": "stream",
     "text": [
      "100%|█████████████████████████████████████████████████████████████████████████████| 2010/2010 [00:03<00:00, 543.38it/s]\n",
      "  3%|██▎                                                                            | 60/2010 [00:00<00:03, 589.80it/s]"
     ]
    },
    {
     "name": "stdout",
     "output_type": "stream",
     "text": [
      "episode : 180 reward : 2.914405506278161\n",
      "total test reward=11.39624741395069\n"
     ]
    },
    {
     "name": "stderr",
     "output_type": "stream",
     "text": [
      "100%|█████████████████████████████████████████████████████████████████████████████| 2010/2010 [00:03<00:00, 552.67it/s]\n",
      "  3%|██▏                                                                            | 57/2010 [00:00<00:03, 565.67it/s]"
     ]
    },
    {
     "name": "stdout",
     "output_type": "stream",
     "text": [
      "episode : 181 reward : 2.9604750440657526\n",
      "total test reward=10.462120437180937\n"
     ]
    },
    {
     "name": "stderr",
     "output_type": "stream",
     "text": [
      "100%|█████████████████████████████████████████████████████████████████████████████| 2010/2010 [00:03<00:00, 550.53it/s]\n",
      "  3%|██▎                                                                            | 58/2010 [00:00<00:03, 570.06it/s]"
     ]
    },
    {
     "name": "stdout",
     "output_type": "stream",
     "text": [
      "episode : 182 reward : 21.444535015876834\n",
      "total test reward=12.316106089744169\n"
     ]
    },
    {
     "name": "stderr",
     "output_type": "stream",
     "text": [
      "100%|█████████████████████████████████████████████████████████████████████████████| 2010/2010 [00:03<00:00, 549.08it/s]\n",
      "  3%|██▎                                                                            | 58/2010 [00:00<00:03, 572.85it/s]"
     ]
    },
    {
     "name": "stdout",
     "output_type": "stream",
     "text": [
      "episode : 183 reward : 17.348440604093643\n",
      "total test reward=12.10912365198698\n"
     ]
    },
    {
     "name": "stderr",
     "output_type": "stream",
     "text": [
      "100%|█████████████████████████████████████████████████████████████████████████████| 2010/2010 [00:03<00:00, 550.74it/s]\n",
      "  3%|██▎                                                                            | 59/2010 [00:00<00:03, 579.77it/s]"
     ]
    },
    {
     "name": "stdout",
     "output_type": "stream",
     "text": [
      "episode : 184 reward : 18.88766436498173\n",
      "total test reward=10.38895034645054\n"
     ]
    },
    {
     "name": "stderr",
     "output_type": "stream",
     "text": [
      "100%|█████████████████████████████████████████████████████████████████████████████| 2010/2010 [00:03<00:00, 546.76it/s]\n",
      "  3%|██                                                                             | 54/2010 [00:00<00:03, 535.91it/s]"
     ]
    },
    {
     "name": "stdout",
     "output_type": "stream",
     "text": [
      "episode : 185 reward : 18.12309414171092\n",
      "total test reward=7.418623152432033\n"
     ]
    },
    {
     "name": "stderr",
     "output_type": "stream",
     "text": [
      "100%|█████████████████████████████████████████████████████████████████████████████| 2010/2010 [00:03<00:00, 549.00it/s]\n",
      "  3%|██▎                                                                            | 58/2010 [00:00<00:03, 575.79it/s]"
     ]
    },
    {
     "name": "stdout",
     "output_type": "stream",
     "text": [
      "episode : 186 reward : 21.87087686892311\n",
      "total test reward=10.365179883370953\n"
     ]
    },
    {
     "name": "stderr",
     "output_type": "stream",
     "text": [
      "100%|█████████████████████████████████████████████████████████████████████████████| 2010/2010 [00:03<00:00, 544.67it/s]\n",
      "  3%|██▏                                                                            | 57/2010 [00:00<00:03, 560.35it/s]"
     ]
    },
    {
     "name": "stdout",
     "output_type": "stream",
     "text": [
      "episode : 187 reward : 15.566183140747317\n",
      "total test reward=3.5290889177215634\n"
     ]
    },
    {
     "name": "stderr",
     "output_type": "stream",
     "text": [
      "100%|█████████████████████████████████████████████████████████████████████████████| 2010/2010 [00:03<00:00, 545.73it/s]\n",
      "  3%|██▏                                                                            | 57/2010 [00:00<00:03, 565.84it/s]"
     ]
    },
    {
     "name": "stdout",
     "output_type": "stream",
     "text": [
      "episode : 188 reward : 22.922025814250677\n",
      "total test reward=6.027396358202589\n"
     ]
    },
    {
     "name": "stderr",
     "output_type": "stream",
     "text": [
      "100%|█████████████████████████████████████████████████████████████████████████████| 2010/2010 [00:03<00:00, 549.54it/s]\n",
      "  3%|██▎                                                                            | 58/2010 [00:00<00:03, 569.97it/s]"
     ]
    },
    {
     "name": "stdout",
     "output_type": "stream",
     "text": [
      "episode : 189 reward : 23.680413539064304\n",
      "total test reward=7.280442248061332\n"
     ]
    },
    {
     "name": "stderr",
     "output_type": "stream",
     "text": [
      "100%|█████████████████████████████████████████████████████████████████████████████| 2010/2010 [00:03<00:00, 537.17it/s]\n",
      "  3%|██▏                                                                            | 57/2010 [00:00<00:03, 565.86it/s]"
     ]
    },
    {
     "name": "stdout",
     "output_type": "stream",
     "text": [
      "episode : 190 reward : 18.326517007227952\n",
      "total test reward=9.008585406695252\n"
     ]
    },
    {
     "name": "stderr",
     "output_type": "stream",
     "text": [
      "100%|█████████████████████████████████████████████████████████████████████████████| 2010/2010 [00:03<00:00, 548.44it/s]\n",
      "  3%|██▎                                                                            | 58/2010 [00:00<00:03, 570.23it/s]"
     ]
    },
    {
     "name": "stdout",
     "output_type": "stream",
     "text": [
      "episode : 191 reward : 23.938847886977523\n",
      "total test reward=6.668719033162683\n"
     ]
    },
    {
     "name": "stderr",
     "output_type": "stream",
     "text": [
      "100%|█████████████████████████████████████████████████████████████████████████████| 2010/2010 [00:03<00:00, 549.66it/s]\n",
      "  3%|██                                                                             | 53/2010 [00:00<00:03, 526.16it/s]"
     ]
    },
    {
     "name": "stdout",
     "output_type": "stream",
     "text": [
      "episode : 192 reward : 23.145459285705392\n",
      "total test reward=7.055529106462816\n"
     ]
    },
    {
     "name": "stderr",
     "output_type": "stream",
     "text": [
      "100%|█████████████████████████████████████████████████████████████████████████████| 2010/2010 [00:03<00:00, 524.74it/s]\n",
      "  6%|████▎                                                                         | 112/2010 [00:00<00:03, 559.64it/s]"
     ]
    },
    {
     "name": "stdout",
     "output_type": "stream",
     "text": [
      "episode : 193 reward : 9.596530950250918\n",
      "total test reward=4.0461503535745535\n"
     ]
    },
    {
     "name": "stderr",
     "output_type": "stream",
     "text": [
      "100%|█████████████████████████████████████████████████████████████████████████████| 2010/2010 [00:03<00:00, 546.87it/s]\n",
      "  3%|██▏                                                                            | 57/2010 [00:00<00:03, 561.69it/s]"
     ]
    },
    {
     "name": "stdout",
     "output_type": "stream",
     "text": [
      "episode : 194 reward : 13.125225654664735\n",
      "total test reward=3.7143235508486896\n"
     ]
    },
    {
     "name": "stderr",
     "output_type": "stream",
     "text": [
      "100%|█████████████████████████████████████████████████████████████████████████████| 2010/2010 [00:03<00:00, 545.06it/s]\n",
      "  3%|██▎                                                                            | 59/2010 [00:00<00:03, 587.94it/s]"
     ]
    },
    {
     "name": "stdout",
     "output_type": "stream",
     "text": [
      "episode : 195 reward : 16.002006074167838\n",
      "total test reward=4.896237172220701\n"
     ]
    },
    {
     "name": "stderr",
     "output_type": "stream",
     "text": [
      "100%|█████████████████████████████████████████████████████████████████████████████| 2010/2010 [00:03<00:00, 550.95it/s]\n",
      "  3%|██▏                                                                            | 55/2010 [00:00<00:03, 546.04it/s]"
     ]
    },
    {
     "name": "stdout",
     "output_type": "stream",
     "text": [
      "episode : 196 reward : 18.491361203521002\n",
      "total test reward=2.109019927404592\n"
     ]
    },
    {
     "name": "stderr",
     "output_type": "stream",
     "text": [
      "100%|█████████████████████████████████████████████████████████████████████████████| 2010/2010 [00:03<00:00, 535.61it/s]\n",
      "  3%|██▎                                                                            | 58/2010 [00:00<00:03, 570.03it/s]"
     ]
    },
    {
     "name": "stdout",
     "output_type": "stream",
     "text": [
      "episode : 197 reward : 13.915198501044166\n",
      "total test reward=8.156900288730704\n"
     ]
    },
    {
     "name": "stderr",
     "output_type": "stream",
     "text": [
      "100%|█████████████████████████████████████████████████████████████████████████████| 2010/2010 [00:03<00:00, 544.60it/s]\n",
      "  3%|██▎                                                                            | 58/2010 [00:00<00:03, 574.02it/s]"
     ]
    },
    {
     "name": "stdout",
     "output_type": "stream",
     "text": [
      "episode : 198 reward : 4.369483159549413\n",
      "total test reward=4.351002031098741\n"
     ]
    },
    {
     "name": "stderr",
     "output_type": "stream",
     "text": [
      "100%|█████████████████████████████████████████████████████████████████████████████| 2010/2010 [00:03<00:00, 540.95it/s]\n",
      "  3%|██▎                                                                            | 58/2010 [00:00<00:03, 570.15it/s]"
     ]
    },
    {
     "name": "stdout",
     "output_type": "stream",
     "text": [
      "episode : 199 reward : 11.862337281190781\n",
      "total test reward=4.419075616451822\n"
     ]
    },
    {
     "name": "stderr",
     "output_type": "stream",
     "text": [
      "100%|█████████████████████████████████████████████████████████████████████████████| 2010/2010 [00:03<00:00, 541.38it/s]\n",
      "  3%|██▏                                                                            | 57/2010 [00:00<00:03, 569.87it/s]"
     ]
    },
    {
     "name": "stdout",
     "output_type": "stream",
     "text": [
      "episode : 200 reward : 19.812497950107026\n",
      "total test reward=7.953322798496181\n"
     ]
    },
    {
     "name": "stderr",
     "output_type": "stream",
     "text": [
      "100%|█████████████████████████████████████████████████████████████████████████████| 2010/2010 [00:03<00:00, 546.09it/s]\n",
      "  3%|██▎                                                                            | 58/2010 [00:00<00:03, 569.95it/s]"
     ]
    },
    {
     "name": "stdout",
     "output_type": "stream",
     "text": [
      "episode : 201 reward : 9.353249625266336\n",
      "total test reward=2.8238417410812806\n"
     ]
    },
    {
     "name": "stderr",
     "output_type": "stream",
     "text": [
      "100%|█████████████████████████████████████████████████████████████████████████████| 2010/2010 [00:03<00:00, 545.29it/s]\n",
      "  3%|██▏                                                                            | 57/2010 [00:00<00:03, 560.12it/s]"
     ]
    },
    {
     "name": "stdout",
     "output_type": "stream",
     "text": [
      "episode : 202 reward : 13.121045778744186\n",
      "total test reward=6.123048358226102\n"
     ]
    },
    {
     "name": "stderr",
     "output_type": "stream",
     "text": [
      "100%|█████████████████████████████████████████████████████████████████████████████| 2010/2010 [00:03<00:00, 537.21it/s]\n",
      "  3%|██▏                                                                            | 56/2010 [00:00<00:03, 559.02it/s]"
     ]
    },
    {
     "name": "stdout",
     "output_type": "stream",
     "text": [
      "episode : 203 reward : 25.471874372638798\n",
      "total test reward=4.86694644764047\n"
     ]
    },
    {
     "name": "stderr",
     "output_type": "stream",
     "text": [
      "100%|█████████████████████████████████████████████████████████████████████████████| 2010/2010 [00:03<00:00, 535.71it/s]\n",
      "  3%|██▏                                                                            | 57/2010 [00:00<00:03, 565.69it/s]"
     ]
    },
    {
     "name": "stdout",
     "output_type": "stream",
     "text": [
      "episode : 204 reward : 20.20614985979375\n",
      "total test reward=8.997492144165426\n"
     ]
    },
    {
     "name": "stderr",
     "output_type": "stream",
     "text": [
      "100%|█████████████████████████████████████████████████████████████████████████████| 2010/2010 [00:03<00:00, 516.89it/s]\n",
      "  2%|█▊                                                                             | 46/2010 [00:00<00:04, 456.80it/s]"
     ]
    },
    {
     "name": "stdout",
     "output_type": "stream",
     "text": [
      "episode : 205 reward : 18.35276751860724\n",
      "total test reward=15.702162413866436\n"
     ]
    },
    {
     "name": "stderr",
     "output_type": "stream",
     "text": [
      "100%|█████████████████████████████████████████████████████████████████████████████| 2010/2010 [00:03<00:00, 520.47it/s]\n",
      "  3%|██▎                                                                            | 58/2010 [00:00<00:03, 569.97it/s]"
     ]
    },
    {
     "name": "stdout",
     "output_type": "stream",
     "text": [
      "episode : 206 reward : 14.4844496870023\n",
      "total test reward=12.198710049679036\n"
     ]
    },
    {
     "name": "stderr",
     "output_type": "stream",
     "text": [
      "100%|█████████████████████████████████████████████████████████████████████████████| 2010/2010 [00:03<00:00, 554.72it/s]\n",
      "  2%|█▊                                                                             | 46/2010 [00:00<00:04, 450.95it/s]"
     ]
    },
    {
     "name": "stdout",
     "output_type": "stream",
     "text": [
      "episode : 207 reward : 19.54435963751515\n",
      "total test reward=9.766169912016524\n"
     ]
    },
    {
     "name": "stderr",
     "output_type": "stream",
     "text": [
      "100%|█████████████████████████████████████████████████████████████████████████████| 2010/2010 [00:03<00:00, 520.38it/s]\n",
      "  2%|█▉                                                                             | 48/2010 [00:00<00:04, 476.37it/s]"
     ]
    },
    {
     "name": "stdout",
     "output_type": "stream",
     "text": [
      "episode : 208 reward : 21.68353679016924\n",
      "total test reward=10.355709643251322\n"
     ]
    },
    {
     "name": "stderr",
     "output_type": "stream",
     "text": [
      "100%|█████████████████████████████████████████████████████████████████████████████| 2010/2010 [00:03<00:00, 513.10it/s]\n",
      "  3%|██▏                                                                            | 57/2010 [00:00<00:03, 565.86it/s]"
     ]
    },
    {
     "name": "stdout",
     "output_type": "stream",
     "text": [
      "episode : 209 reward : 24.640990998158735\n",
      "total test reward=10.366752418557336\n"
     ]
    },
    {
     "name": "stderr",
     "output_type": "stream",
     "text": [
      "100%|█████████████████████████████████████████████████████████████████████████████| 2010/2010 [00:04<00:00, 435.78it/s]\n",
      "  2%|█▉                                                                             | 50/2010 [00:00<00:03, 499.12it/s]"
     ]
    },
    {
     "name": "stdout",
     "output_type": "stream",
     "text": [
      "episode : 210 reward : 11.690937559791276\n",
      "total test reward=4.573292203415216\n"
     ]
    },
    {
     "name": "stderr",
     "output_type": "stream",
     "text": [
      "100%|█████████████████████████████████████████████████████████████████████████████| 2010/2010 [00:03<00:00, 533.89it/s]\n",
      "  3%|██▏                                                                            | 56/2010 [00:00<00:03, 558.66it/s]"
     ]
    },
    {
     "name": "stdout",
     "output_type": "stream",
     "text": [
      "episode : 211 reward : 11.429777126160207\n",
      "total test reward=4.461578195469261\n"
     ]
    },
    {
     "name": "stderr",
     "output_type": "stream",
     "text": [
      "100%|█████████████████████████████████████████████████████████████████████████████| 2010/2010 [00:03<00:00, 543.10it/s]\n",
      "  3%|██                                                                             | 52/2010 [00:00<00:03, 516.22it/s]"
     ]
    },
    {
     "name": "stdout",
     "output_type": "stream",
     "text": [
      "episode : 212 reward : 10.442396925620715\n",
      "total test reward=4.268862388580404\n"
     ]
    },
    {
     "name": "stderr",
     "output_type": "stream",
     "text": [
      "100%|█████████████████████████████████████████████████████████████████████████████| 2010/2010 [00:03<00:00, 542.98it/s]\n",
      "  3%|██▎                                                                            | 58/2010 [00:00<00:03, 573.49it/s]"
     ]
    },
    {
     "name": "stdout",
     "output_type": "stream",
     "text": [
      "episode : 213 reward : 18.368201058683493\n",
      "total test reward=8.034492443702774\n"
     ]
    },
    {
     "name": "stderr",
     "output_type": "stream",
     "text": [
      "100%|█████████████████████████████████████████████████████████████████████████████| 2010/2010 [00:03<00:00, 544.92it/s]\n",
      "  3%|██▏                                                                            | 57/2010 [00:00<00:03, 565.68it/s]"
     ]
    },
    {
     "name": "stdout",
     "output_type": "stream",
     "text": [
      "episode : 214 reward : 13.949633478078368\n",
      "total test reward=10.589923280621102\n"
     ]
    },
    {
     "name": "stderr",
     "output_type": "stream",
     "text": [
      "100%|█████████████████████████████████████████████████████████████████████████████| 2010/2010 [00:03<00:00, 546.30it/s]\n",
      "  3%|██▎                                                                            | 58/2010 [00:00<00:03, 570.19it/s]"
     ]
    },
    {
     "name": "stdout",
     "output_type": "stream",
     "text": [
      "episode : 215 reward : 6.930386748030628\n",
      "total test reward=17.794229632912142\n"
     ]
    },
    {
     "name": "stderr",
     "output_type": "stream",
     "text": [
      "100%|█████████████████████████████████████████████████████████████████████████████| 2010/2010 [00:03<00:00, 548.50it/s]\n",
      "  3%|██▏                                                                            | 57/2010 [00:00<00:03, 565.49it/s]"
     ]
    },
    {
     "name": "stdout",
     "output_type": "stream",
     "text": [
      "episode : 216 reward : 18.49223414028936\n",
      "total test reward=17.11782854816275\n"
     ]
    },
    {
     "name": "stderr",
     "output_type": "stream",
     "text": [
      "100%|█████████████████████████████████████████████████████████████████████████████| 2010/2010 [00:03<00:00, 548.60it/s]\n",
      "  3%|██▎                                                                            | 58/2010 [00:00<00:03, 578.34it/s]"
     ]
    },
    {
     "name": "stdout",
     "output_type": "stream",
     "text": [
      "episode : 217 reward : 19.545887582173776\n",
      "total test reward=17.251172363618863\n"
     ]
    },
    {
     "name": "stderr",
     "output_type": "stream",
     "text": [
      "100%|█████████████████████████████████████████████████████████████████████████████| 2010/2010 [00:03<00:00, 544.68it/s]\n",
      "  3%|██▎                                                                            | 58/2010 [00:00<00:03, 572.92it/s]"
     ]
    },
    {
     "name": "stdout",
     "output_type": "stream",
     "text": [
      "episode : 218 reward : 22.679861338097712\n",
      "total test reward=18.93686812952479\n"
     ]
    },
    {
     "name": "stderr",
     "output_type": "stream",
     "text": [
      "100%|█████████████████████████████████████████████████████████████████████████████| 2010/2010 [00:03<00:00, 517.19it/s]\n",
      "  3%|██▏                                                                            | 56/2010 [00:00<00:03, 550.31it/s]"
     ]
    },
    {
     "name": "stdout",
     "output_type": "stream",
     "text": [
      "episode : 219 reward : 10.365901117511266\n",
      "total test reward=22.680805290724646\n"
     ]
    },
    {
     "name": "stderr",
     "output_type": "stream",
     "text": [
      "100%|█████████████████████████████████████████████████████████████████████████████| 2010/2010 [00:03<00:00, 553.71it/s]\n",
      "  3%|██▎                                                                            | 58/2010 [00:00<00:03, 575.61it/s]"
     ]
    },
    {
     "name": "stdout",
     "output_type": "stream",
     "text": [
      "episode : 220 reward : 21.03124178916744\n",
      "total test reward=20.158650474981194\n"
     ]
    },
    {
     "name": "stderr",
     "output_type": "stream",
     "text": [
      "100%|█████████████████████████████████████████████████████████████████████████████| 2010/2010 [00:03<00:00, 546.37it/s]\n",
      "  3%|██▏                                                                            | 57/2010 [00:00<00:03, 565.73it/s]"
     ]
    },
    {
     "name": "stdout",
     "output_type": "stream",
     "text": [
      "episode : 221 reward : 21.902815042246136\n",
      "total test reward=25.251745392156487\n"
     ]
    },
    {
     "name": "stderr",
     "output_type": "stream",
     "text": [
      "100%|█████████████████████████████████████████████████████████████████████████████| 2010/2010 [00:03<00:00, 541.12it/s]\n",
      "  3%|██▏                                                                            | 57/2010 [00:00<00:03, 567.59it/s]"
     ]
    },
    {
     "name": "stdout",
     "output_type": "stream",
     "text": [
      "episode : 222 reward : 23.671739482540755\n",
      "total test reward=23.231822181473735\n"
     ]
    },
    {
     "name": "stderr",
     "output_type": "stream",
     "text": [
      "100%|█████████████████████████████████████████████████████████████████████████████| 2010/2010 [00:03<00:00, 550.90it/s]\n",
      "  3%|██▎                                                                            | 58/2010 [00:00<00:03, 570.15it/s]"
     ]
    },
    {
     "name": "stdout",
     "output_type": "stream",
     "text": [
      "episode : 223 reward : 15.848743671644431\n",
      "total test reward=19.656112169693255\n"
     ]
    },
    {
     "name": "stderr",
     "output_type": "stream",
     "text": [
      "100%|█████████████████████████████████████████████████████████████████████████████| 2010/2010 [00:03<00:00, 520.80it/s]\n",
      "  3%|██▏                                                                            | 56/2010 [00:00<00:03, 556.12it/s]"
     ]
    },
    {
     "name": "stdout",
     "output_type": "stream",
     "text": [
      "episode : 224 reward : 29.036708120328374\n",
      "total test reward=24.528940673307577\n"
     ]
    },
    {
     "name": "stderr",
     "output_type": "stream",
     "text": [
      "100%|█████████████████████████████████████████████████████████████████████████████| 2010/2010 [00:03<00:00, 530.93it/s]\n",
      "  3%|██                                                                             | 51/2010 [00:00<00:03, 506.30it/s]"
     ]
    },
    {
     "name": "stdout",
     "output_type": "stream",
     "text": [
      "episode : 225 reward : 17.51280034244676\n",
      "total test reward=26.887872932305555\n"
     ]
    },
    {
     "name": "stderr",
     "output_type": "stream",
     "text": [
      "100%|█████████████████████████████████████████████████████████████████████████████| 2010/2010 [00:03<00:00, 540.16it/s]\n",
      "  3%|██                                                                             | 53/2010 [00:00<00:03, 526.30it/s]"
     ]
    },
    {
     "name": "stdout",
     "output_type": "stream",
     "text": [
      "episode : 226 reward : 14.190883463818615\n",
      "total test reward=22.77818435516474\n"
     ]
    },
    {
     "name": "stderr",
     "output_type": "stream",
     "text": [
      "100%|█████████████████████████████████████████████████████████████████████████████| 2010/2010 [00:03<00:00, 510.39it/s]\n",
      "  3%|██▏                                                                            | 56/2010 [00:00<00:03, 555.77it/s]"
     ]
    },
    {
     "name": "stdout",
     "output_type": "stream",
     "text": [
      "episode : 227 reward : 26.496052133673885\n",
      "total test reward=30.30619751747477\n"
     ]
    },
    {
     "name": "stderr",
     "output_type": "stream",
     "text": [
      "100%|█████████████████████████████████████████████████████████████████████████████| 2010/2010 [00:03<00:00, 546.43it/s]\n",
      "  3%|██▏                                                                            | 57/2010 [00:00<00:03, 560.32it/s]"
     ]
    },
    {
     "name": "stdout",
     "output_type": "stream",
     "text": [
      "episode : 228 reward : 22.531857112240246\n",
      "total test reward=20.932020664279417\n"
     ]
    },
    {
     "name": "stderr",
     "output_type": "stream",
     "text": [
      "100%|█████████████████████████████████████████████████████████████████████████████| 2010/2010 [00:03<00:00, 551.10it/s]\n",
      "  3%|██▎                                                                            | 58/2010 [00:00<00:03, 573.12it/s]"
     ]
    },
    {
     "name": "stdout",
     "output_type": "stream",
     "text": [
      "episode : 229 reward : 18.976266548438144\n",
      "total test reward=17.661581764235\n"
     ]
    },
    {
     "name": "stderr",
     "output_type": "stream",
     "text": [
      "100%|█████████████████████████████████████████████████████████████████████████████| 2010/2010 [00:03<00:00, 549.00it/s]\n",
      "  3%|██                                                                             | 52/2010 [00:00<00:03, 515.82it/s]"
     ]
    },
    {
     "name": "stdout",
     "output_type": "stream",
     "text": [
      "episode : 230 reward : 17.030075491568244\n",
      "total test reward=18.43945849864098\n"
     ]
    },
    {
     "name": "stderr",
     "output_type": "stream",
     "text": [
      "100%|█████████████████████████████████████████████████████████████████████████████| 2010/2010 [00:03<00:00, 548.08it/s]\n",
      "  3%|██▎                                                                            | 58/2010 [00:00<00:03, 572.72it/s]"
     ]
    },
    {
     "name": "stdout",
     "output_type": "stream",
     "text": [
      "episode : 231 reward : 6.770290229308239\n",
      "total test reward=20.553328600209717\n"
     ]
    },
    {
     "name": "stderr",
     "output_type": "stream",
     "text": [
      "100%|█████████████████████████████████████████████████████████████████████████████| 2010/2010 [00:03<00:00, 550.55it/s]\n",
      "  3%|██▏                                                                            | 57/2010 [00:00<00:03, 565.68it/s]"
     ]
    },
    {
     "name": "stdout",
     "output_type": "stream",
     "text": [
      "episode : 232 reward : 12.498240054925263\n",
      "total test reward=21.292644404204246\n"
     ]
    },
    {
     "name": "stderr",
     "output_type": "stream",
     "text": [
      "100%|█████████████████████████████████████████████████████████████████████████████| 2010/2010 [00:03<00:00, 548.16it/s]\n",
      "  3%|██▎                                                                            | 59/2010 [00:00<00:03, 585.75it/s]"
     ]
    },
    {
     "name": "stdout",
     "output_type": "stream",
     "text": [
      "episode : 233 reward : 21.62878802875062\n",
      "total test reward=18.23641733183249\n"
     ]
    },
    {
     "name": "stderr",
     "output_type": "stream",
     "text": [
      "100%|█████████████████████████████████████████████████████████████████████████████| 2010/2010 [00:03<00:00, 540.37it/s]\n",
      "  3%|██                                                                             | 52/2010 [00:00<00:03, 511.16it/s]"
     ]
    },
    {
     "name": "stdout",
     "output_type": "stream",
     "text": [
      "episode : 234 reward : 18.086328681199586\n",
      "total test reward=16.9435402876821\n"
     ]
    },
    {
     "name": "stderr",
     "output_type": "stream",
     "text": [
      "100%|█████████████████████████████████████████████████████████████████████████████| 2010/2010 [00:03<00:00, 520.06it/s]\n",
      "  3%|██▎                                                                            | 58/2010 [00:00<00:03, 568.92it/s]"
     ]
    },
    {
     "name": "stdout",
     "output_type": "stream",
     "text": [
      "episode : 235 reward : 25.015065087723737\n",
      "total test reward=17.773726812595516\n"
     ]
    },
    {
     "name": "stderr",
     "output_type": "stream",
     "text": [
      "100%|█████████████████████████████████████████████████████████████████████████████| 2010/2010 [00:03<00:00, 548.28it/s]\n",
      "  3%|██▏                                                                            | 57/2010 [00:00<00:03, 564.52it/s]"
     ]
    },
    {
     "name": "stdout",
     "output_type": "stream",
     "text": [
      "episode : 236 reward : 8.84233631685248\n",
      "total test reward=17.332661240162157\n"
     ]
    },
    {
     "name": "stderr",
     "output_type": "stream",
     "text": [
      "100%|█████████████████████████████████████████████████████████████████████████████| 2010/2010 [00:03<00:00, 532.10it/s]\n",
      "  3%|██▏                                                                            | 55/2010 [00:00<00:03, 548.70it/s]"
     ]
    },
    {
     "name": "stdout",
     "output_type": "stream",
     "text": [
      "episode : 237 reward : 20.972301760447912\n",
      "total test reward=12.958838691214869\n"
     ]
    },
    {
     "name": "stderr",
     "output_type": "stream",
     "text": [
      "100%|█████████████████████████████████████████████████████████████████████████████| 2010/2010 [00:03<00:00, 543.07it/s]\n",
      "  5%|████▎                                                                         | 110/2010 [00:00<00:03, 550.66it/s]"
     ]
    },
    {
     "name": "stdout",
     "output_type": "stream",
     "text": [
      "episode : 238 reward : 13.904086896397361\n",
      "total test reward=16.4829527682145\n"
     ]
    },
    {
     "name": "stderr",
     "output_type": "stream",
     "text": [
      "100%|█████████████████████████████████████████████████████████████████████████████| 2010/2010 [00:03<00:00, 549.98it/s]\n",
      "  3%|██▎                                                                            | 58/2010 [00:00<00:03, 570.15it/s]"
     ]
    },
    {
     "name": "stdout",
     "output_type": "stream",
     "text": [
      "episode : 239 reward : 14.662959208386091\n",
      "total test reward=16.204434088657386\n"
     ]
    },
    {
     "name": "stderr",
     "output_type": "stream",
     "text": [
      "100%|█████████████████████████████████████████████████████████████████████████████| 2010/2010 [00:03<00:00, 543.08it/s]\n",
      "  3%|██▏                                                                            | 57/2010 [00:00<00:03, 568.72it/s]"
     ]
    },
    {
     "name": "stdout",
     "output_type": "stream",
     "text": [
      "episode : 240 reward : 15.730708779876853\n",
      "total test reward=16.7681807641342\n"
     ]
    },
    {
     "name": "stderr",
     "output_type": "stream",
     "text": [
      "100%|█████████████████████████████████████████████████████████████████████████████| 2010/2010 [00:03<00:00, 547.10it/s]\n",
      "  3%|██▎                                                                            | 58/2010 [00:00<00:03, 575.60it/s]"
     ]
    },
    {
     "name": "stdout",
     "output_type": "stream",
     "text": [
      "episode : 241 reward : 17.403776123044377\n",
      "total test reward=16.314882847832703\n"
     ]
    },
    {
     "name": "stderr",
     "output_type": "stream",
     "text": [
      "100%|█████████████████████████████████████████████████████████████████████████████| 2010/2010 [00:03<00:00, 549.29it/s]\n",
      "  3%|██▎                                                                            | 58/2010 [00:00<00:03, 570.23it/s]"
     ]
    },
    {
     "name": "stdout",
     "output_type": "stream",
     "text": [
      "episode : 242 reward : 16.856231401460832\n",
      "total test reward=16.13540557372565\n"
     ]
    },
    {
     "name": "stderr",
     "output_type": "stream",
     "text": [
      "100%|█████████████████████████████████████████████████████████████████████████████| 2010/2010 [00:03<00:00, 549.44it/s]\n",
      "  3%|██▏                                                                            | 57/2010 [00:00<00:03, 565.69it/s]"
     ]
    },
    {
     "name": "stdout",
     "output_type": "stream",
     "text": [
      "episode : 243 reward : 15.692908322538404\n",
      "total test reward=19.851253635374597\n"
     ]
    },
    {
     "name": "stderr",
     "output_type": "stream",
     "text": [
      "100%|█████████████████████████████████████████████████████████████████████████████| 2010/2010 [00:03<00:00, 548.10it/s]\n",
      "  3%|██▏                                                                            | 57/2010 [00:00<00:03, 565.86it/s]"
     ]
    },
    {
     "name": "stdout",
     "output_type": "stream",
     "text": [
      "episode : 244 reward : 13.09031105360143\n",
      "total test reward=20.243029920693207\n"
     ]
    },
    {
     "name": "stderr",
     "output_type": "stream",
     "text": [
      "100%|█████████████████████████████████████████████████████████████████████████████| 2010/2010 [00:03<00:00, 543.53it/s]\n",
      "  3%|██                                                                             | 54/2010 [00:00<00:03, 536.08it/s]"
     ]
    },
    {
     "name": "stdout",
     "output_type": "stream",
     "text": [
      "episode : 245 reward : 12.204057159535749\n",
      "total test reward=26.917446984352257\n"
     ]
    },
    {
     "name": "stderr",
     "output_type": "stream",
     "text": [
      "100%|█████████████████████████████████████████████████████████████████████████████| 2010/2010 [00:03<00:00, 534.72it/s]\n",
      "  3%|██▎                                                                            | 58/2010 [00:00<00:03, 570.15it/s]"
     ]
    },
    {
     "name": "stdout",
     "output_type": "stream",
     "text": [
      "episode : 246 reward : 7.513559197414715\n",
      "total test reward=21.794778092541378\n"
     ]
    },
    {
     "name": "stderr",
     "output_type": "stream",
     "text": [
      "100%|█████████████████████████████████████████████████████████████████████████████| 2010/2010 [00:03<00:00, 546.89it/s]\n",
      "  3%|██▎                                                                            | 58/2010 [00:00<00:03, 570.18it/s]"
     ]
    },
    {
     "name": "stdout",
     "output_type": "stream",
     "text": [
      "episode : 247 reward : 12.764843876352066\n",
      "total test reward=24.6852398101784\n"
     ]
    },
    {
     "name": "stderr",
     "output_type": "stream",
     "text": [
      "100%|█████████████████████████████████████████████████████████████████████████████| 2010/2010 [00:03<00:00, 550.65it/s]\n",
      "  3%|██▎                                                                            | 58/2010 [00:00<00:03, 575.85it/s]"
     ]
    },
    {
     "name": "stdout",
     "output_type": "stream",
     "text": [
      "episode : 248 reward : 5.193874285387136\n",
      "total test reward=24.822935965357622\n"
     ]
    },
    {
     "name": "stderr",
     "output_type": "stream",
     "text": [
      "100%|█████████████████████████████████████████████████████████████████████████████| 2010/2010 [00:03<00:00, 551.07it/s]\n",
      "  3%|██▏                                                                            | 56/2010 [00:00<00:03, 555.77it/s]"
     ]
    },
    {
     "name": "stdout",
     "output_type": "stream",
     "text": [
      "episode : 249 reward : 23.353760733655644\n",
      "total test reward=20.83317271565\n"
     ]
    },
    {
     "name": "stderr",
     "output_type": "stream",
     "text": [
      "100%|█████████████████████████████████████████████████████████████████████████████| 2010/2010 [00:03<00:00, 542.35it/s]\n",
      "  3%|██▏                                                                            | 57/2010 [00:00<00:03, 563.53it/s]"
     ]
    },
    {
     "name": "stdout",
     "output_type": "stream",
     "text": [
      "episode : 250 reward : 25.740430712322844\n",
      "total test reward=19.0765904221165\n"
     ]
    },
    {
     "name": "stderr",
     "output_type": "stream",
     "text": [
      "100%|█████████████████████████████████████████████████████████████████████████████| 2010/2010 [00:03<00:00, 544.01it/s]\n",
      "  3%|██▏                                                                            | 55/2010 [00:00<00:03, 545.86it/s]"
     ]
    },
    {
     "name": "stdout",
     "output_type": "stream",
     "text": [
      "episode : 251 reward : 26.09391160599113\n",
      "total test reward=22.657907151661725\n"
     ]
    },
    {
     "name": "stderr",
     "output_type": "stream",
     "text": [
      "100%|█████████████████████████████████████████████████████████████████████████████| 2010/2010 [00:03<00:00, 521.83it/s]\n",
      "  3%|██▏                                                                            | 57/2010 [00:00<00:03, 560.46it/s]"
     ]
    },
    {
     "name": "stdout",
     "output_type": "stream",
     "text": [
      "episode : 252 reward : 19.112703326629546\n",
      "total test reward=22.501082217646548\n"
     ]
    },
    {
     "name": "stderr",
     "output_type": "stream",
     "text": [
      "100%|█████████████████████████████████████████████████████████████████████████████| 2010/2010 [00:03<00:00, 546.06it/s]\n",
      "  3%|██▎                                                                            | 60/2010 [00:00<00:03, 589.60it/s]"
     ]
    },
    {
     "name": "stdout",
     "output_type": "stream",
     "text": [
      "episode : 253 reward : 22.198478621933926\n",
      "total test reward=22.51470312543217\n"
     ]
    },
    {
     "name": "stderr",
     "output_type": "stream",
     "text": [
      "100%|█████████████████████████████████████████████████████████████████████████████| 2010/2010 [00:03<00:00, 545.30it/s]\n",
      "  3%|██▎                                                                            | 58/2010 [00:00<00:03, 575.63it/s]"
     ]
    },
    {
     "name": "stdout",
     "output_type": "stream",
     "text": [
      "episode : 254 reward : 15.206165259787962\n",
      "total test reward=23.11890654583018\n"
     ]
    },
    {
     "name": "stderr",
     "output_type": "stream",
     "text": [
      "100%|█████████████████████████████████████████████████████████████████████████████| 2010/2010 [00:03<00:00, 572.38it/s]\n",
      "  3%|██▎                                                                            | 59/2010 [00:00<00:03, 585.72it/s]"
     ]
    },
    {
     "name": "stdout",
     "output_type": "stream",
     "text": [
      "episode : 255 reward : 35.38791598131729\n",
      "total test reward=20.4473067292412\n"
     ]
    },
    {
     "name": "stderr",
     "output_type": "stream",
     "text": [
      "100%|█████████████████████████████████████████████████████████████████████████████| 2010/2010 [00:03<00:00, 573.53it/s]\n",
      "  3%|██▍                                                                            | 61/2010 [00:00<00:03, 605.39it/s]"
     ]
    },
    {
     "name": "stdout",
     "output_type": "stream",
     "text": [
      "episode : 256 reward : 25.568655535877785\n",
      "total test reward=29.97249074771212\n"
     ]
    },
    {
     "name": "stderr",
     "output_type": "stream",
     "text": [
      "100%|█████████████████████████████████████████████████████████████████████████████| 2010/2010 [00:03<00:00, 576.55it/s]\n",
      "  3%|██▎                                                                            | 60/2010 [00:00<00:03, 589.81it/s]"
     ]
    },
    {
     "name": "stdout",
     "output_type": "stream",
     "text": [
      "episode : 257 reward : 20.713982185078198\n",
      "total test reward=24.118499835218586\n"
     ]
    },
    {
     "name": "stderr",
     "output_type": "stream",
     "text": [
      "100%|█████████████████████████████████████████████████████████████████████████████| 2010/2010 [00:03<00:00, 561.07it/s]\n",
      "  3%|██▎                                                                            | 60/2010 [00:00<00:03, 589.82it/s]"
     ]
    },
    {
     "name": "stdout",
     "output_type": "stream",
     "text": [
      "episode : 258 reward : 24.297270109353075\n",
      "total test reward=23.39468475555401\n"
     ]
    },
    {
     "name": "stderr",
     "output_type": "stream",
     "text": [
      "100%|█████████████████████████████████████████████████████████████████████████████| 2010/2010 [00:03<00:00, 556.43it/s]\n",
      "  3%|██▎                                                                            | 60/2010 [00:00<00:03, 589.62it/s]"
     ]
    },
    {
     "name": "stdout",
     "output_type": "stream",
     "text": [
      "episode : 259 reward : 12.958388363587744\n",
      "total test reward=27.775897649386614\n"
     ]
    },
    {
     "name": "stderr",
     "output_type": "stream",
     "text": [
      "100%|█████████████████████████████████████████████████████████████████████████████| 2010/2010 [00:03<00:00, 574.70it/s]\n",
      "  3%|██▎                                                                            | 59/2010 [00:00<00:03, 579.80it/s]"
     ]
    },
    {
     "name": "stdout",
     "output_type": "stream",
     "text": [
      "episode : 260 reward : 19.799881443717748\n",
      "total test reward=23.64864587091037\n"
     ]
    },
    {
     "name": "stderr",
     "output_type": "stream",
     "text": [
      "100%|█████████████████████████████████████████████████████████████████████████████| 2010/2010 [00:03<00:00, 573.00it/s]\n",
      "  3%|██▍                                                                            | 61/2010 [00:00<00:03, 605.58it/s]"
     ]
    },
    {
     "name": "stdout",
     "output_type": "stream",
     "text": [
      "episode : 261 reward : 15.267133938517379\n",
      "total test reward=26.61567626972694\n"
     ]
    },
    {
     "name": "stderr",
     "output_type": "stream",
     "text": [
      "100%|█████████████████████████████████████████████████████████████████████████████| 2010/2010 [00:04<00:00, 451.32it/s]\n",
      "  2%|█▉                                                                             | 48/2010 [00:00<00:04, 479.33it/s]"
     ]
    },
    {
     "name": "stdout",
     "output_type": "stream",
     "text": [
      "episode : 262 reward : 24.957296079551952\n",
      "total test reward=20.372279254527907\n"
     ]
    },
    {
     "name": "stderr",
     "output_type": "stream",
     "text": [
      "100%|█████████████████████████████████████████████████████████████████████████████| 2010/2010 [00:04<00:00, 495.24it/s]\n",
      "  3%|██▎                                                                            | 59/2010 [00:00<00:03, 579.78it/s]"
     ]
    },
    {
     "name": "stdout",
     "output_type": "stream",
     "text": [
      "episode : 263 reward : 6.697720005580257\n",
      "total test reward=17.567732183806676\n"
     ]
    },
    {
     "name": "stderr",
     "output_type": "stream",
     "text": [
      "100%|██████████████████████████████████████████████████████████████████████████████| 2010/2010 [00:40<00:00, 49.52it/s]\n",
      "  2%|█▉                                                                             | 49/2010 [00:00<00:04, 481.82it/s]"
     ]
    },
    {
     "name": "stdout",
     "output_type": "stream",
     "text": [
      "episode : 264 reward : 25.028518756661008\n",
      "total test reward=25.376165493725644\n"
     ]
    },
    {
     "name": "stderr",
     "output_type": "stream",
     "text": [
      "100%|█████████████████████████████████████████████████████████████████████████████| 2010/2010 [00:04<00:00, 486.52it/s]\n",
      "  3%|██                                                                             | 53/2010 [00:00<00:03, 526.15it/s]"
     ]
    },
    {
     "name": "stdout",
     "output_type": "stream",
     "text": [
      "episode : 265 reward : 21.822836531660972\n",
      "total test reward=25.7295113988455\n"
     ]
    },
    {
     "name": "stderr",
     "output_type": "stream",
     "text": [
      "100%|█████████████████████████████████████████████████████████████████████████████| 2010/2010 [00:03<00:00, 520.63it/s]\n",
      "  3%|██▎                                                                            | 58/2010 [00:00<00:03, 569.99it/s]"
     ]
    },
    {
     "name": "stdout",
     "output_type": "stream",
     "text": [
      "episode : 266 reward : 15.77189017489546\n",
      "total test reward=30.029503444005144\n"
     ]
    },
    {
     "name": "stderr",
     "output_type": "stream",
     "text": [
      "100%|█████████████████████████████████████████████████████████████████████████████| 2010/2010 [00:03<00:00, 537.72it/s]\n",
      "  3%|██▏                                                                            | 57/2010 [00:00<00:03, 560.15it/s]"
     ]
    },
    {
     "name": "stdout",
     "output_type": "stream",
     "text": [
      "episode : 267 reward : 14.02118827704151\n",
      "total test reward=30.792359636309516\n"
     ]
    },
    {
     "name": "stderr",
     "output_type": "stream",
     "text": [
      "100%|█████████████████████████████████████████████████████████████████████████████| 2010/2010 [00:03<00:00, 540.91it/s]\n",
      "  3%|██▎                                                                            | 58/2010 [00:00<00:03, 575.83it/s]"
     ]
    },
    {
     "name": "stdout",
     "output_type": "stream",
     "text": [
      "episode : 268 reward : 17.49972661976635\n",
      "total test reward=27.70128980614279\n"
     ]
    },
    {
     "name": "stderr",
     "output_type": "stream",
     "text": [
      "100%|█████████████████████████████████████████████████████████████████████████████| 2010/2010 [00:03<00:00, 541.36it/s]\n",
      "  2%|█▉                                                                             | 50/2010 [00:00<00:03, 497.23it/s]"
     ]
    },
    {
     "name": "stdout",
     "output_type": "stream",
     "text": [
      "episode : 269 reward : 27.624401177805193\n",
      "total test reward=30.192681131761397\n"
     ]
    },
    {
     "name": "stderr",
     "output_type": "stream",
     "text": [
      "100%|█████████████████████████████████████████████████████████████████████████████| 2010/2010 [00:03<00:00, 543.56it/s]\n",
      "  3%|██▏                                                                            | 57/2010 [00:00<00:03, 560.14it/s]"
     ]
    },
    {
     "name": "stdout",
     "output_type": "stream",
     "text": [
      "episode : 270 reward : 25.587262191844356\n",
      "total test reward=24.206618262774732\n"
     ]
    },
    {
     "name": "stderr",
     "output_type": "stream",
     "text": [
      "100%|█████████████████████████████████████████████████████████████████████████████| 2010/2010 [00:03<00:00, 545.83it/s]\n",
      "  3%|██▏                                                                            | 57/2010 [00:00<00:03, 568.64it/s]"
     ]
    },
    {
     "name": "stdout",
     "output_type": "stream",
     "text": [
      "episode : 271 reward : 19.32778183636953\n",
      "total test reward=31.862546982771555\n"
     ]
    },
    {
     "name": "stderr",
     "output_type": "stream",
     "text": [
      "100%|█████████████████████████████████████████████████████████████████████████████| 2010/2010 [00:03<00:00, 550.03it/s]\n",
      "  3%|██▏                                                                            | 56/2010 [00:00<00:03, 555.80it/s]"
     ]
    },
    {
     "name": "stdout",
     "output_type": "stream",
     "text": [
      "episode : 272 reward : 28.471557798137624\n",
      "total test reward=26.564124314622415\n"
     ]
    },
    {
     "name": "stderr",
     "output_type": "stream",
     "text": [
      "100%|█████████████████████████████████████████████████████████████████████████████| 2010/2010 [00:03<00:00, 550.05it/s]\n",
      "  3%|██▎                                                                            | 58/2010 [00:00<00:03, 569.97it/s]"
     ]
    },
    {
     "name": "stdout",
     "output_type": "stream",
     "text": [
      "episode : 273 reward : 30.936340166953613\n",
      "total test reward=35.10152947903224\n"
     ]
    },
    {
     "name": "stderr",
     "output_type": "stream",
     "text": [
      "100%|█████████████████████████████████████████████████████████████████████████████| 2010/2010 [00:03<00:00, 539.24it/s]\n",
      "  3%|██▎                                                                            | 58/2010 [00:00<00:03, 575.93it/s]"
     ]
    },
    {
     "name": "stdout",
     "output_type": "stream",
     "text": [
      "episode : 274 reward : 25.89455152658284\n",
      "total test reward=35.350017949645576\n"
     ]
    },
    {
     "name": "stderr",
     "output_type": "stream",
     "text": [
      "100%|█████████████████████████████████████████████████████████████████████████████| 2010/2010 [00:03<00:00, 552.55it/s]\n",
      "  3%|██▏                                                                            | 57/2010 [00:00<00:03, 568.86it/s]"
     ]
    },
    {
     "name": "stdout",
     "output_type": "stream",
     "text": [
      "episode : 275 reward : 12.471523869484479\n",
      "total test reward=25.793001325843743\n"
     ]
    },
    {
     "name": "stderr",
     "output_type": "stream",
     "text": [
      "100%|█████████████████████████████████████████████████████████████████████████████| 2010/2010 [00:03<00:00, 540.83it/s]\n",
      "  2%|█▉                                                                             | 50/2010 [00:00<00:03, 498.62it/s]"
     ]
    },
    {
     "name": "stdout",
     "output_type": "stream",
     "text": [
      "episode : 276 reward : 14.185248950202045\n",
      "total test reward=34.266968253052504\n"
     ]
    },
    {
     "name": "stderr",
     "output_type": "stream",
     "text": [
      "100%|█████████████████████████████████████████████████████████████████████████████| 2010/2010 [00:03<00:00, 527.35it/s]\n",
      "  3%|██                                                                             | 52/2010 [00:00<00:03, 511.93it/s]"
     ]
    },
    {
     "name": "stdout",
     "output_type": "stream",
     "text": [
      "episode : 277 reward : 41.11137774130088\n",
      "total test reward=25.07335680079637\n"
     ]
    },
    {
     "name": "stderr",
     "output_type": "stream",
     "text": [
      "100%|█████████████████████████████████████████████████████████████████████████████| 2010/2010 [00:03<00:00, 507.61it/s]\n",
      "  6%|████▍                                                                         | 114/2010 [00:00<00:03, 566.16it/s]"
     ]
    },
    {
     "name": "stdout",
     "output_type": "stream",
     "text": [
      "episode : 278 reward : 15.356993952984926\n",
      "total test reward=26.5138574571061\n"
     ]
    },
    {
     "name": "stderr",
     "output_type": "stream",
     "text": [
      "100%|█████████████████████████████████████████████████████████████████████████████| 2010/2010 [00:03<00:00, 523.22it/s]\n",
      "  5%|████▏                                                                         | 109/2010 [00:00<00:03, 525.49it/s]"
     ]
    },
    {
     "name": "stdout",
     "output_type": "stream",
     "text": [
      "episode : 279 reward : 27.851076131095073\n",
      "total test reward=28.747253131145612\n"
     ]
    },
    {
     "name": "stderr",
     "output_type": "stream",
     "text": [
      "100%|█████████████████████████████████████████████████████████████████████████████| 2010/2010 [00:04<00:00, 486.33it/s]\n",
      "  3%|██▏                                                                            | 57/2010 [00:00<00:03, 568.85it/s]"
     ]
    },
    {
     "name": "stdout",
     "output_type": "stream",
     "text": [
      "episode : 280 reward : 23.593928265196666\n",
      "total test reward=41.995700036670925\n"
     ]
    },
    {
     "name": "stderr",
     "output_type": "stream",
     "text": [
      "100%|█████████████████████████████████████████████████████████████████████████████| 2010/2010 [00:03<00:00, 522.17it/s]\n",
      "  3%|██▏                                                                            | 57/2010 [00:00<00:03, 560.31it/s]"
     ]
    },
    {
     "name": "stdout",
     "output_type": "stream",
     "text": [
      "episode : 281 reward : 26.904945816754093\n",
      "total test reward=47.22775684513978\n"
     ]
    },
    {
     "name": "stderr",
     "output_type": "stream",
     "text": [
      "100%|█████████████████████████████████████████████████████████████████████████████| 2010/2010 [00:03<00:00, 560.74it/s]\n",
      "  3%|██▏                                                                            | 55/2010 [00:00<00:03, 540.63it/s]"
     ]
    },
    {
     "name": "stdout",
     "output_type": "stream",
     "text": [
      "episode : 282 reward : 36.44328703333044\n",
      "total test reward=30.213115659737262\n"
     ]
    },
    {
     "name": "stderr",
     "output_type": "stream",
     "text": [
      "100%|█████████████████████████████████████████████████████████████████████████████| 2010/2010 [00:03<00:00, 547.69it/s]\n",
      "  3%|██▏                                                                            | 55/2010 [00:00<00:03, 546.00it/s]"
     ]
    },
    {
     "name": "stdout",
     "output_type": "stream",
     "text": [
      "episode : 283 reward : 36.154809953853395\n",
      "total test reward=55.59519404571446\n"
     ]
    },
    {
     "name": "stderr",
     "output_type": "stream",
     "text": [
      "100%|█████████████████████████████████████████████████████████████████████████████| 2010/2010 [00:03<00:00, 547.94it/s]\n",
      "  3%|██                                                                             | 54/2010 [00:00<00:03, 533.40it/s]"
     ]
    },
    {
     "name": "stdout",
     "output_type": "stream",
     "text": [
      "episode : 284 reward : 15.672501042207045\n",
      "total test reward=86.03652497125283\n"
     ]
    },
    {
     "name": "stderr",
     "output_type": "stream",
     "text": [
      "100%|█████████████████████████████████████████████████████████████████████████████| 2010/2010 [00:03<00:00, 548.44it/s]\n",
      "  3%|██▏                                                                            | 56/2010 [00:00<00:03, 558.66it/s]"
     ]
    },
    {
     "name": "stdout",
     "output_type": "stream",
     "text": [
      "episode : 285 reward : 25.095079202978788\n",
      "total test reward=87.6562103903786\n"
     ]
    },
    {
     "name": "stderr",
     "output_type": "stream",
     "text": [
      "100%|█████████████████████████████████████████████████████████████████████████████| 2010/2010 [00:03<00:00, 549.58it/s]\n",
      "  3%|██▎                                                                            | 58/2010 [00:00<00:03, 569.97it/s]"
     ]
    },
    {
     "name": "stdout",
     "output_type": "stream",
     "text": [
      "episode : 286 reward : -7.003766734195743\n",
      "total test reward=68.7137000540657\n"
     ]
    },
    {
     "name": "stderr",
     "output_type": "stream",
     "text": [
      "100%|█████████████████████████████████████████████████████████████████████████████| 2010/2010 [00:03<00:00, 550.18it/s]\n",
      "  3%|██▎                                                                            | 58/2010 [00:00<00:03, 575.23it/s]"
     ]
    },
    {
     "name": "stdout",
     "output_type": "stream",
     "text": [
      "episode : 287 reward : 30.385973900131567\n",
      "total test reward=62.583319028773836\n"
     ]
    },
    {
     "name": "stderr",
     "output_type": "stream",
     "text": [
      "100%|█████████████████████████████████████████████████████████████████████████████| 2010/2010 [00:03<00:00, 564.36it/s]\n",
      "  3%|██▎                                                                            | 58/2010 [00:00<00:03, 553.60it/s]"
     ]
    },
    {
     "name": "stdout",
     "output_type": "stream",
     "text": [
      "episode : 288 reward : 16.79925941680975\n",
      "total test reward=48.10221937158216\n"
     ]
    },
    {
     "name": "stderr",
     "output_type": "stream",
     "text": [
      "100%|█████████████████████████████████████████████████████████████████████████████| 2010/2010 [00:03<00:00, 534.43it/s]\n",
      "  3%|██▏                                                                            | 55/2010 [00:00<00:03, 548.31it/s]"
     ]
    },
    {
     "name": "stdout",
     "output_type": "stream",
     "text": [
      "episode : 289 reward : 25.75720680085006\n",
      "total test reward=47.71099774257064\n"
     ]
    },
    {
     "name": "stderr",
     "output_type": "stream",
     "text": [
      "100%|█████████████████████████████████████████████████████████████████████████████| 2010/2010 [00:03<00:00, 519.54it/s]\n",
      "  3%|██                                                                             | 54/2010 [00:00<00:03, 535.92it/s]"
     ]
    },
    {
     "name": "stdout",
     "output_type": "stream",
     "text": [
      "episode : 290 reward : 26.962807130967693\n",
      "total test reward=42.75000336964389\n"
     ]
    },
    {
     "name": "stderr",
     "output_type": "stream",
     "text": [
      "100%|█████████████████████████████████████████████████████████████████████████████| 2010/2010 [00:03<00:00, 530.05it/s]\n",
      "  3%|██▎                                                                            | 59/2010 [00:00<00:03, 584.57it/s]"
     ]
    },
    {
     "name": "stdout",
     "output_type": "stream",
     "text": [
      "episode : 291 reward : 41.35069565036239\n",
      "total test reward=36.977205040523664\n"
     ]
    },
    {
     "name": "stderr",
     "output_type": "stream",
     "text": [
      "100%|█████████████████████████████████████████████████████████████████████████████| 2010/2010 [00:03<00:00, 549.42it/s]\n",
      "  3%|██▏                                                                            | 56/2010 [00:00<00:03, 550.49it/s]"
     ]
    },
    {
     "name": "stdout",
     "output_type": "stream",
     "text": [
      "episode : 292 reward : 27.39945464864901\n",
      "total test reward=31.259425312826444\n"
     ]
    },
    {
     "name": "stderr",
     "output_type": "stream",
     "text": [
      "100%|█████████████████████████████████████████████████████████████████████████████| 2010/2010 [00:03<00:00, 550.26it/s]\n",
      "  2%|█▉                                                                             | 48/2010 [00:00<00:04, 471.86it/s]"
     ]
    },
    {
     "name": "stdout",
     "output_type": "stream",
     "text": [
      "episode : 293 reward : 14.463680416333816\n",
      "total test reward=35.67806510327172\n"
     ]
    },
    {
     "name": "stderr",
     "output_type": "stream",
     "text": [
      "100%|█████████████████████████████████████████████████████████████████████████████| 2010/2010 [00:03<00:00, 521.59it/s]\n",
      "  6%|████▎                                                                         | 111/2010 [00:00<00:03, 551.67it/s]"
     ]
    },
    {
     "name": "stdout",
     "output_type": "stream",
     "text": [
      "episode : 294 reward : 28.762768553975057\n",
      "total test reward=27.59666307538983\n"
     ]
    },
    {
     "name": "stderr",
     "output_type": "stream",
     "text": [
      "100%|█████████████████████████████████████████████████████████████████████████████| 2010/2010 [00:03<00:00, 536.80it/s]\n",
      "  3%|██▏                                                                            | 56/2010 [00:00<00:03, 552.35it/s]"
     ]
    },
    {
     "name": "stdout",
     "output_type": "stream",
     "text": [
      "episode : 295 reward : 7.652191271304234\n",
      "total test reward=25.51915781596093\n"
     ]
    },
    {
     "name": "stderr",
     "output_type": "stream",
     "text": [
      "100%|█████████████████████████████████████████████████████████████████████████████| 2010/2010 [00:03<00:00, 527.05it/s]\n",
      "  3%|██▎                                                                            | 58/2010 [00:00<00:03, 570.15it/s]"
     ]
    },
    {
     "name": "stdout",
     "output_type": "stream",
     "text": [
      "episode : 296 reward : 15.900516014843841\n",
      "total test reward=32.41627553323635\n"
     ]
    },
    {
     "name": "stderr",
     "output_type": "stream",
     "text": [
      "100%|█████████████████████████████████████████████████████████████████████████████| 2010/2010 [00:03<00:00, 524.94it/s]\n",
      "  3%|██▏                                                                            | 55/2010 [00:00<00:03, 546.01it/s]"
     ]
    },
    {
     "name": "stdout",
     "output_type": "stream",
     "text": [
      "episode : 297 reward : 23.284686916726965\n",
      "total test reward=35.09270262224214\n"
     ]
    },
    {
     "name": "stderr",
     "output_type": "stream",
     "text": [
      "100%|█████████████████████████████████████████████████████████████████████████████| 2010/2010 [00:03<00:00, 533.63it/s]\n",
      "  3%|██▏                                                                            | 55/2010 [00:00<00:03, 541.72it/s]"
     ]
    },
    {
     "name": "stdout",
     "output_type": "stream",
     "text": [
      "episode : 298 reward : 25.271496653327176\n",
      "total test reward=36.449921303201656\n"
     ]
    },
    {
     "name": "stderr",
     "output_type": "stream",
     "text": [
      "100%|█████████████████████████████████████████████████████████████████████████████| 2010/2010 [00:03<00:00, 517.60it/s]\n",
      "  3%|██▎                                                                            | 58/2010 [00:00<00:03, 575.81it/s]"
     ]
    },
    {
     "name": "stdout",
     "output_type": "stream",
     "text": [
      "episode : 299 reward : 17.845476180066573\n",
      "total test reward=48.83468462203217\n"
     ]
    },
    {
     "name": "stderr",
     "output_type": "stream",
     "text": [
      "100%|█████████████████████████████████████████████████████████████████████████████| 2010/2010 [00:03<00:00, 514.08it/s]\n",
      "  3%|██▎                                                                            | 58/2010 [00:00<00:03, 575.76it/s]"
     ]
    },
    {
     "name": "stdout",
     "output_type": "stream",
     "text": [
      "episode : 300 reward : 11.806758717527286\n",
      "total test reward=42.05658291107336\n"
     ]
    },
    {
     "name": "stderr",
     "output_type": "stream",
     "text": [
      "100%|█████████████████████████████████████████████████████████████████████████████| 2010/2010 [00:03<00:00, 553.10it/s]\n",
      "  3%|██▏                                                                            | 57/2010 [00:00<00:03, 564.25it/s]"
     ]
    },
    {
     "name": "stdout",
     "output_type": "stream",
     "text": [
      "episode : 301 reward : 24.19331970591671\n",
      "total test reward=45.279747731725486\n"
     ]
    },
    {
     "name": "stderr",
     "output_type": "stream",
     "text": [
      "100%|█████████████████████████████████████████████████████████████████████████████| 2010/2010 [00:03<00:00, 536.43it/s]\n",
      "  3%|██▎                                                                            | 58/2010 [00:00<00:03, 575.97it/s]"
     ]
    },
    {
     "name": "stdout",
     "output_type": "stream",
     "text": [
      "episode : 302 reward : 23.318903134349323\n",
      "total test reward=39.4833399842986\n"
     ]
    },
    {
     "name": "stderr",
     "output_type": "stream",
     "text": [
      "100%|█████████████████████████████████████████████████████████████████████████████| 2010/2010 [00:03<00:00, 525.48it/s]\n",
      "  3%|██▏                                                                            | 56/2010 [00:00<00:03, 555.94it/s]"
     ]
    },
    {
     "name": "stdout",
     "output_type": "stream",
     "text": [
      "episode : 303 reward : 21.351999854795746\n",
      "total test reward=34.194779871175925\n"
     ]
    },
    {
     "name": "stderr",
     "output_type": "stream",
     "text": [
      "100%|█████████████████████████████████████████████████████████████████████████████| 2010/2010 [00:03<00:00, 539.18it/s]\n",
      "  3%|██▏                                                                            | 57/2010 [00:00<00:03, 567.26it/s]"
     ]
    },
    {
     "name": "stdout",
     "output_type": "stream",
     "text": [
      "episode : 304 reward : 18.981720074606862\n",
      "total test reward=47.0471007237572\n"
     ]
    },
    {
     "name": "stderr",
     "output_type": "stream",
     "text": [
      "100%|█████████████████████████████████████████████████████████████████████████████| 2010/2010 [00:03<00:00, 545.75it/s]\n",
      "  3%|██▏                                                                            | 57/2010 [00:00<00:03, 560.14it/s]"
     ]
    },
    {
     "name": "stdout",
     "output_type": "stream",
     "text": [
      "episode : 305 reward : 17.225313369398076\n",
      "total test reward=49.85946593932255\n"
     ]
    },
    {
     "name": "stderr",
     "output_type": "stream",
     "text": [
      "100%|█████████████████████████████████████████████████████████████████████████████| 2010/2010 [00:03<00:00, 548.50it/s]\n",
      "  3%|██▎                                                                            | 58/2010 [00:00<00:03, 570.15it/s]"
     ]
    },
    {
     "name": "stdout",
     "output_type": "stream",
     "text": [
      "episode : 306 reward : 34.509661261907276\n",
      "total test reward=48.12818828187848\n"
     ]
    },
    {
     "name": "stderr",
     "output_type": "stream",
     "text": [
      "100%|█████████████████████████████████████████████████████████████████████████████| 2010/2010 [00:03<00:00, 550.78it/s]\n",
      "  6%|████▎                                                                         | 112/2010 [00:00<00:03, 560.52it/s]"
     ]
    },
    {
     "name": "stdout",
     "output_type": "stream",
     "text": [
      "episode : 307 reward : 9.295186675870685\n",
      "total test reward=35.46474523433226\n"
     ]
    },
    {
     "name": "stderr",
     "output_type": "stream",
     "text": [
      "100%|█████████████████████████████████████████████████████████████████████████████| 2010/2010 [00:03<00:00, 534.04it/s]\n",
      "  3%|██                                                                             | 52/2010 [00:00<00:03, 516.22it/s]"
     ]
    },
    {
     "name": "stdout",
     "output_type": "stream",
     "text": [
      "episode : 308 reward : 27.40810597481091\n",
      "total test reward=52.57271015058323\n"
     ]
    },
    {
     "name": "stderr",
     "output_type": "stream",
     "text": [
      "100%|█████████████████████████████████████████████████████████████████████████████| 2010/2010 [00:03<00:00, 548.89it/s]\n",
      "  3%|██▎                                                                            | 58/2010 [00:00<00:03, 572.71it/s]"
     ]
    },
    {
     "name": "stdout",
     "output_type": "stream",
     "text": [
      "episode : 309 reward : 19.93134708503736\n",
      "total test reward=48.54828251216657\n"
     ]
    },
    {
     "name": "stderr",
     "output_type": "stream",
     "text": [
      "100%|█████████████████████████████████████████████████████████████████████████████| 2010/2010 [00:03<00:00, 515.16it/s]\n",
      "  3%|██▏                                                                            | 57/2010 [00:00<00:03, 560.14it/s]"
     ]
    },
    {
     "name": "stdout",
     "output_type": "stream",
     "text": [
      "episode : 310 reward : 26.98013271380625\n",
      "total test reward=26.91312213840194\n"
     ]
    },
    {
     "name": "stderr",
     "output_type": "stream",
     "text": [
      "100%|█████████████████████████████████████████████████████████████████████████████| 2010/2010 [00:03<00:00, 533.45it/s]\n",
      "  2%|█▋                                                                             | 44/2010 [00:00<00:04, 436.92it/s]"
     ]
    },
    {
     "name": "stdout",
     "output_type": "stream",
     "text": [
      "episode : 311 reward : 40.444885197292884\n",
      "total test reward=34.604325450145645\n"
     ]
    },
    {
     "name": "stderr",
     "output_type": "stream",
     "text": [
      "100%|█████████████████████████████████████████████████████████████████████████████| 2010/2010 [00:04<00:00, 472.67it/s]\n",
      "  3%|██▎                                                                            | 59/2010 [00:00<00:03, 582.45it/s]"
     ]
    },
    {
     "name": "stdout",
     "output_type": "stream",
     "text": [
      "episode : 312 reward : 30.377581994661597\n",
      "total test reward=62.62215599822808\n"
     ]
    },
    {
     "name": "stderr",
     "output_type": "stream",
     "text": [
      "100%|█████████████████████████████████████████████████████████████████████████████| 2010/2010 [00:03<00:00, 531.48it/s]\n",
      "  3%|██▏                                                                            | 57/2010 [00:00<00:03, 560.14it/s]"
     ]
    },
    {
     "name": "stdout",
     "output_type": "stream",
     "text": [
      "episode : 313 reward : 45.01203990204721\n",
      "total test reward=68.74654129844612\n"
     ]
    },
    {
     "name": "stderr",
     "output_type": "stream",
     "text": [
      "100%|█████████████████████████████████████████████████████████████████████████████| 2010/2010 [00:03<00:00, 556.12it/s]\n",
      "  6%|████▌                                                                         | 118/2010 [00:00<00:03, 581.85it/s]"
     ]
    },
    {
     "name": "stdout",
     "output_type": "stream",
     "text": [
      "episode : 314 reward : 22.951449576078634\n",
      "total test reward=58.80101713645509\n"
     ]
    },
    {
     "name": "stderr",
     "output_type": "stream",
     "text": [
      "100%|█████████████████████████████████████████████████████████████████████████████| 2010/2010 [00:03<00:00, 546.62it/s]\n",
      "  3%|██▎                                                                            | 58/2010 [00:00<00:03, 569.96it/s]"
     ]
    },
    {
     "name": "stdout",
     "output_type": "stream",
     "text": [
      "episode : 315 reward : 27.354471759125936\n",
      "total test reward=68.97335392958962\n"
     ]
    },
    {
     "name": "stderr",
     "output_type": "stream",
     "text": [
      "100%|█████████████████████████████████████████████████████████████████████████████| 2010/2010 [00:03<00:00, 526.29it/s]\n",
      "  3%|██▏                                                                            | 57/2010 [00:00<00:03, 565.68it/s]"
     ]
    },
    {
     "name": "stdout",
     "output_type": "stream",
     "text": [
      "episode : 316 reward : 35.17839858265082\n",
      "total test reward=61.70571443678623\n"
     ]
    },
    {
     "name": "stderr",
     "output_type": "stream",
     "text": [
      "100%|█████████████████████████████████████████████████████████████████████████████| 2010/2010 [00:03<00:00, 526.90it/s]\n",
      "  3%|██▏                                                                            | 56/2010 [00:00<00:03, 550.49it/s]"
     ]
    },
    {
     "name": "stdout",
     "output_type": "stream",
     "text": [
      "episode : 317 reward : 33.9602510639525\n",
      "total test reward=47.888060875261544\n"
     ]
    },
    {
     "name": "stderr",
     "output_type": "stream",
     "text": [
      "100%|█████████████████████████████████████████████████████████████████████████████| 2010/2010 [00:03<00:00, 531.49it/s]\n",
      "  3%|██▏                                                                            | 57/2010 [00:00<00:03, 560.32it/s]"
     ]
    },
    {
     "name": "stdout",
     "output_type": "stream",
     "text": [
      "episode : 318 reward : 19.270242683480532\n",
      "total test reward=66.79273858174959\n"
     ]
    },
    {
     "name": "stderr",
     "output_type": "stream",
     "text": [
      "100%|█████████████████████████████████████████████████████████████████████████████| 2010/2010 [00:03<00:00, 517.77it/s]\n",
      "  3%|██▏                                                                            | 56/2010 [00:00<00:03, 556.12it/s]"
     ]
    },
    {
     "name": "stdout",
     "output_type": "stream",
     "text": [
      "episode : 319 reward : 17.437353160029897\n",
      "total test reward=52.5651481212747\n"
     ]
    },
    {
     "name": "stderr",
     "output_type": "stream",
     "text": [
      "100%|█████████████████████████████████████████████████████████████████████████████| 2010/2010 [00:03<00:00, 528.03it/s]\n",
      "  3%|██▏                                                                            | 55/2010 [00:00<00:03, 540.83it/s]"
     ]
    },
    {
     "name": "stdout",
     "output_type": "stream",
     "text": [
      "episode : 320 reward : 29.620706216166266\n",
      "total test reward=45.51162024317047\n"
     ]
    },
    {
     "name": "stderr",
     "output_type": "stream",
     "text": [
      "100%|█████████████████████████████████████████████████████████████████████████████| 2010/2010 [00:03<00:00, 547.56it/s]\n",
      "  3%|██▏                                                                            | 57/2010 [00:00<00:03, 565.68it/s]"
     ]
    },
    {
     "name": "stdout",
     "output_type": "stream",
     "text": [
      "episode : 321 reward : 30.792901923258697\n",
      "total test reward=75.74110706701173\n"
     ]
    },
    {
     "name": "stderr",
     "output_type": "stream",
     "text": [
      "100%|█████████████████████████████████████████████████████████████████████████████| 2010/2010 [00:03<00:00, 534.49it/s]\n",
      "  3%|██▏                                                                            | 57/2010 [00:00<00:03, 565.66it/s]"
     ]
    },
    {
     "name": "stdout",
     "output_type": "stream",
     "text": [
      "episode : 322 reward : 24.396522045657505\n",
      "total test reward=53.72159807928004\n"
     ]
    },
    {
     "name": "stderr",
     "output_type": "stream",
     "text": [
      "100%|█████████████████████████████████████████████████████████████████████████████| 2010/2010 [00:03<00:00, 553.90it/s]\n",
      "  3%|██▏                                                                            | 57/2010 [00:00<00:03, 566.06it/s]"
     ]
    },
    {
     "name": "stdout",
     "output_type": "stream",
     "text": [
      "episode : 323 reward : 33.91699880551817\n",
      "total test reward=88.13624986022674\n"
     ]
    },
    {
     "name": "stderr",
     "output_type": "stream",
     "text": [
      "100%|█████████████████████████████████████████████████████████████████████████████| 2010/2010 [00:03<00:00, 546.18it/s]\n",
      "  2%|█▎                                                                             | 33/2010 [00:00<00:06, 324.30it/s]"
     ]
    },
    {
     "name": "stdout",
     "output_type": "stream",
     "text": [
      "episode : 324 reward : 20.581891475760305\n",
      "total test reward=45.48533366527911\n"
     ]
    },
    {
     "name": "stderr",
     "output_type": "stream",
     "text": [
      "100%|█████████████████████████████████████████████████████████████████████████████| 2010/2010 [00:04<00:00, 500.97it/s]\n",
      "  3%|██▏                                                                            | 55/2010 [00:00<00:03, 540.66it/s]"
     ]
    },
    {
     "name": "stdout",
     "output_type": "stream",
     "text": [
      "episode : 325 reward : 32.32510470996428\n",
      "total test reward=86.34262640842043\n"
     ]
    },
    {
     "name": "stderr",
     "output_type": "stream",
     "text": [
      "100%|█████████████████████████████████████████████████████████████████████████████| 2010/2010 [00:03<00:00, 546.99it/s]\n",
      "  3%|██▏                                                                            | 57/2010 [00:00<00:03, 565.65it/s]"
     ]
    },
    {
     "name": "stdout",
     "output_type": "stream",
     "text": [
      "episode : 326 reward : 33.45571443620702\n",
      "total test reward=95.58937653095391\n"
     ]
    },
    {
     "name": "stderr",
     "output_type": "stream",
     "text": [
      "100%|█████████████████████████████████████████████████████████████████████████████| 2010/2010 [00:03<00:00, 514.13it/s]\n",
      "  3%|██▎                                                                            | 58/2010 [00:00<00:03, 570.01it/s]"
     ]
    },
    {
     "name": "stdout",
     "output_type": "stream",
     "text": [
      "episode : 327 reward : 23.82944931360717\n",
      "total test reward=85.51579389928958\n"
     ]
    },
    {
     "name": "stderr",
     "output_type": "stream",
     "text": [
      "100%|█████████████████████████████████████████████████████████████████████████████| 2010/2010 [00:03<00:00, 546.67it/s]\n",
      "  3%|██▏                                                                            | 57/2010 [00:00<00:03, 560.30it/s]"
     ]
    },
    {
     "name": "stdout",
     "output_type": "stream",
     "text": [
      "episode : 328 reward : 21.374706621444147\n",
      "total test reward=76.93095809560756\n"
     ]
    },
    {
     "name": "stderr",
     "output_type": "stream",
     "text": [
      "100%|█████████████████████████████████████████████████████████████████████████████| 2010/2010 [00:03<00:00, 547.46it/s]\n",
      "  3%|██▎                                                                            | 58/2010 [00:00<00:03, 573.85it/s]"
     ]
    },
    {
     "name": "stdout",
     "output_type": "stream",
     "text": [
      "episode : 329 reward : 14.267499246231747\n",
      "total test reward=80.43956491093088\n"
     ]
    },
    {
     "name": "stderr",
     "output_type": "stream",
     "text": [
      "100%|█████████████████████████████████████████████████████████████████████████████| 2010/2010 [00:03<00:00, 552.95it/s]\n",
      "  3%|██▏                                                                            | 56/2010 [00:00<00:03, 555.93it/s]"
     ]
    },
    {
     "name": "stdout",
     "output_type": "stream",
     "text": [
      "episode : 330 reward : 33.0375606296249\n",
      "total test reward=43.29880103007193\n"
     ]
    },
    {
     "name": "stderr",
     "output_type": "stream",
     "text": [
      "100%|█████████████████████████████████████████████████████████████████████████████| 2010/2010 [00:03<00:00, 542.72it/s]\n",
      "  3%|██▎                                                                            | 58/2010 [00:00<00:03, 570.16it/s]"
     ]
    },
    {
     "name": "stdout",
     "output_type": "stream",
     "text": [
      "episode : 331 reward : 56.00198970827942\n",
      "total test reward=38.33941045950996\n"
     ]
    },
    {
     "name": "stderr",
     "output_type": "stream",
     "text": [
      "100%|█████████████████████████████████████████████████████████████████████████████| 2010/2010 [00:03<00:00, 547.30it/s]\n",
      "  3%|██▎                                                                            | 58/2010 [00:00<00:03, 570.15it/s]"
     ]
    },
    {
     "name": "stdout",
     "output_type": "stream",
     "text": [
      "episode : 332 reward : 28.358017512495753\n",
      "total test reward=27.19087041440411\n"
     ]
    },
    {
     "name": "stderr",
     "output_type": "stream",
     "text": [
      "100%|█████████████████████████████████████████████████████████████████████████████| 2010/2010 [00:03<00:00, 547.76it/s]\n",
      "  3%|██▏                                                                            | 57/2010 [00:00<00:03, 560.33it/s]"
     ]
    },
    {
     "name": "stdout",
     "output_type": "stream",
     "text": [
      "episode : 333 reward : 35.37299393878162\n",
      "total test reward=40.54969595918226\n"
     ]
    },
    {
     "name": "stderr",
     "output_type": "stream",
     "text": [
      "100%|█████████████████████████████████████████████████████████████████████████████| 2010/2010 [00:03<00:00, 534.41it/s]\n",
      "  3%|██                                                                             | 51/2010 [00:00<00:03, 506.50it/s]"
     ]
    },
    {
     "name": "stdout",
     "output_type": "stream",
     "text": [
      "episode : 334 reward : 32.744404395958966\n",
      "total test reward=53.209027471006166\n"
     ]
    },
    {
     "name": "stderr",
     "output_type": "stream",
     "text": [
      "100%|█████████████████████████████████████████████████████████████████████████████| 2010/2010 [00:03<00:00, 544.43it/s]\n",
      "  3%|██▏                                                                            | 57/2010 [00:00<00:03, 560.17it/s]"
     ]
    },
    {
     "name": "stdout",
     "output_type": "stream",
     "text": [
      "episode : 335 reward : 30.949554754812667\n",
      "total test reward=68.87916212645742\n"
     ]
    },
    {
     "name": "stderr",
     "output_type": "stream",
     "text": [
      "100%|█████████████████████████████████████████████████████████████████████████████| 2010/2010 [00:03<00:00, 547.48it/s]\n",
      "  3%|██▏                                                                            | 55/2010 [00:00<00:03, 548.90it/s]"
     ]
    },
    {
     "name": "stdout",
     "output_type": "stream",
     "text": [
      "episode : 336 reward : 34.62000788293084\n",
      "total test reward=84.53965495909719\n"
     ]
    },
    {
     "name": "stderr",
     "output_type": "stream",
     "text": [
      "100%|█████████████████████████████████████████████████████████████████████████████| 2010/2010 [00:03<00:00, 547.34it/s]\n",
      "  3%|██▎                                                                            | 58/2010 [00:00<00:03, 569.95it/s]"
     ]
    },
    {
     "name": "stdout",
     "output_type": "stream",
     "text": [
      "episode : 337 reward : 27.553632442287405\n",
      "total test reward=34.275804762666645\n"
     ]
    },
    {
     "name": "stderr",
     "output_type": "stream",
     "text": [
      "100%|█████████████████████████████████████████████████████████████████████████████| 2010/2010 [00:03<00:00, 535.20it/s]\n",
      "  3%|██▎                                                                            | 58/2010 [00:00<00:03, 575.78it/s]"
     ]
    },
    {
     "name": "stdout",
     "output_type": "stream",
     "text": [
      "episode : 338 reward : 35.38451789283534\n",
      "total test reward=128.69677482737202\n"
     ]
    },
    {
     "name": "stderr",
     "output_type": "stream",
     "text": [
      "100%|█████████████████████████████████████████████████████████████████████████████| 2010/2010 [00:03<00:00, 544.64it/s]\n",
      "  3%|██▏                                                                            | 57/2010 [00:00<00:03, 565.67it/s]"
     ]
    },
    {
     "name": "stdout",
     "output_type": "stream",
     "text": [
      "episode : 339 reward : 26.188798791475566\n",
      "total test reward=107.83834182584553\n"
     ]
    },
    {
     "name": "stderr",
     "output_type": "stream",
     "text": [
      "100%|█████████████████████████████████████████████████████████████████████████████| 2010/2010 [00:03<00:00, 548.59it/s]\n",
      "  3%|██▏                                                                            | 55/2010 [00:00<00:03, 547.38it/s]"
     ]
    },
    {
     "name": "stdout",
     "output_type": "stream",
     "text": [
      "episode : 340 reward : 26.470263590059723\n",
      "total test reward=114.97242957154495\n"
     ]
    },
    {
     "name": "stderr",
     "output_type": "stream",
     "text": [
      "100%|█████████████████████████████████████████████████████████████████████████████| 2010/2010 [00:03<00:00, 553.26it/s]\n",
      "  3%|██▏                                                                            | 57/2010 [00:00<00:03, 560.37it/s]"
     ]
    },
    {
     "name": "stdout",
     "output_type": "stream",
     "text": [
      "episode : 341 reward : 27.608508398441415\n",
      "total test reward=123.10278115698304\n"
     ]
    },
    {
     "name": "stderr",
     "output_type": "stream",
     "text": [
      "100%|█████████████████████████████████████████████████████████████████████████████| 2010/2010 [00:03<00:00, 535.98it/s]\n",
      "  3%|██▏                                                                            | 57/2010 [00:00<00:03, 565.87it/s]"
     ]
    },
    {
     "name": "stdout",
     "output_type": "stream",
     "text": [
      "episode : 342 reward : 29.63327331906997\n",
      "total test reward=194.40976096552123\n"
     ]
    },
    {
     "name": "stderr",
     "output_type": "stream",
     "text": [
      "100%|█████████████████████████████████████████████████████████████████████████████| 2010/2010 [00:03<00:00, 550.26it/s]\n",
      "  3%|██▏                                                                            | 57/2010 [00:00<00:03, 560.32it/s]"
     ]
    },
    {
     "name": "stdout",
     "output_type": "stream",
     "text": [
      "episode : 343 reward : 27.001182904514927\n",
      "total test reward=193.840822762748\n"
     ]
    },
    {
     "name": "stderr",
     "output_type": "stream",
     "text": [
      "100%|█████████████████████████████████████████████████████████████████████████████| 2010/2010 [00:03<00:00, 550.91it/s]\n",
      "  3%|██▎                                                                            | 58/2010 [00:00<00:03, 570.42it/s]"
     ]
    },
    {
     "name": "stdout",
     "output_type": "stream",
     "text": [
      "episode : 344 reward : 25.241130130421812\n",
      "total test reward=160.0094921895473\n"
     ]
    },
    {
     "name": "stderr",
     "output_type": "stream",
     "text": [
      "100%|█████████████████████████████████████████████████████████████████████████████| 2010/2010 [00:03<00:00, 550.69it/s]\n",
      "  3%|██                                                                             | 53/2010 [00:00<00:03, 526.17it/s]"
     ]
    },
    {
     "name": "stdout",
     "output_type": "stream",
     "text": [
      "episode : 345 reward : 36.403328089670374\n",
      "total test reward=270.7141359640743\n"
     ]
    },
    {
     "name": "stderr",
     "output_type": "stream",
     "text": [
      "100%|█████████████████████████████████████████████████████████████████████████████| 2010/2010 [00:03<00:00, 548.92it/s]\n",
      "  3%|██▏                                                                            | 57/2010 [00:00<00:03, 560.19it/s]"
     ]
    },
    {
     "name": "stdout",
     "output_type": "stream",
     "text": [
      "episode : 346 reward : 40.09374982654323\n",
      "total test reward=239.96320563164446\n"
     ]
    },
    {
     "name": "stderr",
     "output_type": "stream",
     "text": [
      "100%|█████████████████████████████████████████████████████████████████████████████| 2010/2010 [00:03<00:00, 530.27it/s]\n",
      "  3%|██▎                                                                            | 58/2010 [00:00<00:03, 569.96it/s]"
     ]
    },
    {
     "name": "stdout",
     "output_type": "stream",
     "text": [
      "episode : 347 reward : 56.80812931594279\n",
      "total test reward=211.23918904936068\n"
     ]
    },
    {
     "name": "stderr",
     "output_type": "stream",
     "text": [
      "100%|█████████████████████████████████████████████████████████████████████████████| 2010/2010 [00:03<00:00, 550.53it/s]\n",
      "  3%|██▏                                                                            | 56/2010 [00:00<00:03, 550.31it/s]"
     ]
    },
    {
     "name": "stdout",
     "output_type": "stream",
     "text": [
      "episode : 348 reward : 2.9543043767411294\n",
      "total test reward=226.74904346967742\n"
     ]
    },
    {
     "name": "stderr",
     "output_type": "stream",
     "text": [
      "100%|█████████████████████████████████████████████████████████████████████████████| 2010/2010 [00:03<00:00, 547.45it/s]\n",
      "  3%|██▏                                                                            | 56/2010 [00:00<00:03, 550.32it/s]"
     ]
    },
    {
     "name": "stdout",
     "output_type": "stream",
     "text": [
      "episode : 349 reward : 47.33436290313078\n",
      "total test reward=144.99102832593502\n"
     ]
    },
    {
     "name": "stderr",
     "output_type": "stream",
     "text": [
      "100%|█████████████████████████████████████████████████████████████████████████████| 2010/2010 [00:03<00:00, 520.58it/s]\n",
      "  2%|█▍                                                                             | 37/2010 [00:00<00:05, 367.20it/s]"
     ]
    },
    {
     "name": "stdout",
     "output_type": "stream",
     "text": [
      "episode : 350 reward : 37.13660738857203\n",
      "total test reward=282.967406196055\n"
     ]
    },
    {
     "name": "stderr",
     "output_type": "stream",
     "text": [
      "100%|█████████████████████████████████████████████████████████████████████████████| 2010/2010 [00:03<00:00, 510.51it/s]\n",
      "  3%|██▎                                                                            | 58/2010 [00:00<00:03, 575.78it/s]"
     ]
    },
    {
     "name": "stdout",
     "output_type": "stream",
     "text": [
      "episode : 351 reward : 41.01788659594879\n",
      "total test reward=283.77520124465235\n"
     ]
    },
    {
     "name": "stderr",
     "output_type": "stream",
     "text": [
      "100%|█████████████████████████████████████████████████████████████████████████████| 2010/2010 [00:03<00:00, 537.56it/s]\n",
      "  3%|██▏                                                                            | 57/2010 [00:00<00:03, 565.82it/s]"
     ]
    },
    {
     "name": "stdout",
     "output_type": "stream",
     "text": [
      "episode : 352 reward : 49.87526217188125\n",
      "total test reward=251.47924797293913\n"
     ]
    },
    {
     "name": "stderr",
     "output_type": "stream",
     "text": [
      "100%|█████████████████████████████████████████████████████████████████████████████| 2010/2010 [00:03<00:00, 553.80it/s]\n",
      "  3%|██▏                                                                            | 57/2010 [00:00<00:03, 565.90it/s]"
     ]
    },
    {
     "name": "stdout",
     "output_type": "stream",
     "text": [
      "episode : 353 reward : 35.39490465485215\n",
      "total test reward=246.54290806312238\n"
     ]
    },
    {
     "name": "stderr",
     "output_type": "stream",
     "text": [
      "100%|█████████████████████████████████████████████████████████████████████████████| 2010/2010 [00:03<00:00, 551.34it/s]\n",
      "  3%|██▏                                                                            | 57/2010 [00:00<00:03, 561.83it/s]"
     ]
    },
    {
     "name": "stdout",
     "output_type": "stream",
     "text": [
      "episode : 354 reward : 54.55195155484159\n",
      "total test reward=161.20701499538598\n"
     ]
    },
    {
     "name": "stderr",
     "output_type": "stream",
     "text": [
      "100%|█████████████████████████████████████████████████████████████████████████████| 2010/2010 [00:04<00:00, 495.38it/s]\n",
      "  3%|██▏                                                                            | 56/2010 [00:00<00:03, 552.67it/s]"
     ]
    },
    {
     "name": "stdout",
     "output_type": "stream",
     "text": [
      "episode : 355 reward : 36.79332343561424\n",
      "total test reward=286.7449934758205\n"
     ]
    },
    {
     "name": "stderr",
     "output_type": "stream",
     "text": [
      "100%|█████████████████████████████████████████████████████████████████████████████| 2010/2010 [00:03<00:00, 542.43it/s]\n",
      "  3%|██▏                                                                            | 55/2010 [00:00<00:03, 545.98it/s]"
     ]
    },
    {
     "name": "stdout",
     "output_type": "stream",
     "text": [
      "episode : 356 reward : 26.476693037548586\n",
      "total test reward=309.8683921187675\n"
     ]
    },
    {
     "name": "stderr",
     "output_type": "stream",
     "text": [
      "100%|█████████████████████████████████████████████████████████████████████████████| 2010/2010 [00:03<00:00, 538.86it/s]\n",
      "  3%|██▎                                                                            | 58/2010 [00:00<00:03, 575.79it/s]"
     ]
    },
    {
     "name": "stdout",
     "output_type": "stream",
     "text": [
      "episode : 357 reward : 33.62658955747086\n",
      "total test reward=182.04271627898896\n"
     ]
    },
    {
     "name": "stderr",
     "output_type": "stream",
     "text": [
      "100%|█████████████████████████████████████████████████████████████████████████████| 2010/2010 [00:04<00:00, 496.54it/s]\n",
      "  2%|█▉                                                                             | 48/2010 [00:00<00:04, 462.24it/s]"
     ]
    },
    {
     "name": "stdout",
     "output_type": "stream",
     "text": [
      "episode : 358 reward : 36.99666791944017\n",
      "total test reward=289.61513529674346\n"
     ]
    },
    {
     "name": "stderr",
     "output_type": "stream",
     "text": [
      "100%|█████████████████████████████████████████████████████████████████████████████| 2010/2010 [00:03<00:00, 521.75it/s]\n",
      "  3%|██▏                                                                            | 56/2010 [00:00<00:03, 550.25it/s]"
     ]
    },
    {
     "name": "stdout",
     "output_type": "stream",
     "text": [
      "episode : 359 reward : 36.80510195273089\n",
      "total test reward=124.89072074241058\n"
     ]
    },
    {
     "name": "stderr",
     "output_type": "stream",
     "text": [
      "100%|█████████████████████████████████████████████████████████████████████████████| 2010/2010 [00:03<00:00, 543.19it/s]\n",
      "  3%|██▏                                                                            | 55/2010 [00:00<00:03, 546.01it/s]"
     ]
    },
    {
     "name": "stdout",
     "output_type": "stream",
     "text": [
      "episode : 360 reward : 31.47429223917395\n",
      "total test reward=230.88873833062803\n"
     ]
    },
    {
     "name": "stderr",
     "output_type": "stream",
     "text": [
      "100%|█████████████████████████████████████████████████████████████████████████████| 2010/2010 [00:03<00:00, 543.42it/s]\n",
      "  3%|██▏                                                                            | 56/2010 [00:00<00:03, 549.24it/s]"
     ]
    },
    {
     "name": "stdout",
     "output_type": "stream",
     "text": [
      "episode : 361 reward : 28.89292341179023\n",
      "total test reward=173.73773697867088\n"
     ]
    },
    {
     "name": "stderr",
     "output_type": "stream",
     "text": [
      "100%|█████████████████████████████████████████████████████████████████████████████| 2010/2010 [00:03<00:00, 534.70it/s]\n",
      "  3%|██▎                                                                            | 58/2010 [00:00<00:03, 572.76it/s]"
     ]
    },
    {
     "name": "stdout",
     "output_type": "stream",
     "text": [
      "episode : 362 reward : 18.68980679450361\n",
      "total test reward=257.85262799026515\n"
     ]
    },
    {
     "name": "stderr",
     "output_type": "stream",
     "text": [
      "100%|█████████████████████████████████████████████████████████████████████████████| 2010/2010 [00:03<00:00, 537.55it/s]\n",
      "  3%|██                                                                             | 51/2010 [00:00<00:03, 506.30it/s]"
     ]
    },
    {
     "name": "stdout",
     "output_type": "stream",
     "text": [
      "episode : 363 reward : 38.26361284019221\n",
      "total test reward=312.08483759382943\n"
     ]
    },
    {
     "name": "stderr",
     "output_type": "stream",
     "text": [
      "100%|█████████████████████████████████████████████████████████████████████████████| 2010/2010 [00:03<00:00, 506.74it/s]\n",
      "  3%|██▏                                                                            | 57/2010 [00:00<00:03, 564.12it/s]"
     ]
    },
    {
     "name": "stdout",
     "output_type": "stream",
     "text": [
      "episode : 364 reward : 11.812252420409648\n",
      "total test reward=271.9945526468242\n"
     ]
    },
    {
     "name": "stderr",
     "output_type": "stream",
     "text": [
      "100%|█████████████████████████████████████████████████████████████████████████████| 2010/2010 [00:03<00:00, 523.17it/s]\n",
      "  3%|██▎                                                                            | 59/2010 [00:00<00:03, 579.68it/s]"
     ]
    },
    {
     "name": "stdout",
     "output_type": "stream",
     "text": [
      "episode : 365 reward : 31.251494738707088\n",
      "total test reward=222.8298525882441\n"
     ]
    },
    {
     "name": "stderr",
     "output_type": "stream",
     "text": [
      "100%|█████████████████████████████████████████████████████████████████████████████| 2010/2010 [00:03<00:00, 547.25it/s]\n",
      "  3%|██▎                                                                            | 58/2010 [00:00<00:03, 570.28it/s]"
     ]
    },
    {
     "name": "stdout",
     "output_type": "stream",
     "text": [
      "episode : 366 reward : 27.303002569102816\n",
      "total test reward=264.721828706564\n"
     ]
    },
    {
     "name": "stderr",
     "output_type": "stream",
     "text": [
      "100%|█████████████████████████████████████████████████████████████████████████████| 2010/2010 [00:03<00:00, 542.69it/s]\n",
      "  3%|██▏                                                                            | 56/2010 [00:00<00:03, 550.45it/s]"
     ]
    },
    {
     "name": "stdout",
     "output_type": "stream",
     "text": [
      "episode : 367 reward : 30.731910439806597\n",
      "total test reward=230.46930109801474\n"
     ]
    },
    {
     "name": "stderr",
     "output_type": "stream",
     "text": [
      "100%|█████████████████████████████████████████████████████████████████████████████| 2010/2010 [00:03<00:00, 546.11it/s]\n",
      "  3%|██▏                                                                            | 56/2010 [00:00<00:03, 555.94it/s]"
     ]
    },
    {
     "name": "stdout",
     "output_type": "stream",
     "text": [
      "episode : 368 reward : 12.672192937415517\n",
      "total test reward=275.211719419184\n"
     ]
    },
    {
     "name": "stderr",
     "output_type": "stream",
     "text": [
      "100%|█████████████████████████████████████████████████████████████████████████████| 2010/2010 [00:03<00:00, 551.00it/s]\n",
      "  6%|████▎                                                                         | 111/2010 [00:00<00:03, 556.25it/s]"
     ]
    },
    {
     "name": "stdout",
     "output_type": "stream",
     "text": [
      "episode : 369 reward : 42.59910765488852\n",
      "total test reward=281.59211578589867\n"
     ]
    },
    {
     "name": "stderr",
     "output_type": "stream",
     "text": [
      "100%|█████████████████████████████████████████████████████████████████████████████| 2010/2010 [00:03<00:00, 536.92it/s]\n",
      "  3%|██▎                                                                            | 58/2010 [00:00<00:03, 575.62it/s]"
     ]
    },
    {
     "name": "stdout",
     "output_type": "stream",
     "text": [
      "episode : 370 reward : 75.49339781830085\n",
      "total test reward=283.2669740140738\n"
     ]
    },
    {
     "name": "stderr",
     "output_type": "stream",
     "text": [
      "100%|█████████████████████████████████████████████████████████████████████████████| 2010/2010 [00:03<00:00, 556.29it/s]\n",
      "  3%|██▎                                                                            | 59/2010 [00:00<00:03, 588.61it/s]"
     ]
    },
    {
     "name": "stdout",
     "output_type": "stream",
     "text": [
      "episode : 371 reward : 87.31331975489236\n",
      "total test reward=282.9364681483077\n"
     ]
    },
    {
     "name": "stderr",
     "output_type": "stream",
     "text": [
      "100%|█████████████████████████████████████████████████████████████████████████████| 2010/2010 [00:03<00:00, 577.87it/s]\n",
      "  3%|██▎                                                                            | 58/2010 [00:00<00:03, 570.29it/s]"
     ]
    },
    {
     "name": "stdout",
     "output_type": "stream",
     "text": [
      "episode : 372 reward : 78.9069623575818\n",
      "total test reward=244.2982662094028\n"
     ]
    },
    {
     "name": "stderr",
     "output_type": "stream",
     "text": [
      "100%|█████████████████████████████████████████████████████████████████████████████| 2010/2010 [00:03<00:00, 580.14it/s]\n",
      "  3%|██▏                                                                            | 57/2010 [00:00<00:03, 565.37it/s]"
     ]
    },
    {
     "name": "stdout",
     "output_type": "stream",
     "text": [
      "episode : 373 reward : 18.32772119034107\n",
      "total test reward=238.31967378696328\n"
     ]
    },
    {
     "name": "stderr",
     "output_type": "stream",
     "text": [
      "100%|█████████████████████████████████████████████████████████████████████████████| 2010/2010 [00:03<00:00, 541.34it/s]\n",
      "  3%|██▎                                                                            | 58/2010 [00:00<00:03, 569.97it/s]"
     ]
    },
    {
     "name": "stdout",
     "output_type": "stream",
     "text": [
      "episode : 374 reward : 5.451972808078147\n",
      "total test reward=222.8758756289538\n"
     ]
    },
    {
     "name": "stderr",
     "output_type": "stream",
     "text": [
      "100%|█████████████████████████████████████████████████████████████████████████████| 2010/2010 [00:03<00:00, 553.46it/s]\n",
      "  3%|██▎                                                                            | 58/2010 [00:00<00:03, 574.59it/s]"
     ]
    },
    {
     "name": "stdout",
     "output_type": "stream",
     "text": [
      "episode : 375 reward : 46.474396056194806\n",
      "total test reward=195.25590094523903\n"
     ]
    },
    {
     "name": "stderr",
     "output_type": "stream",
     "text": [
      "100%|█████████████████████████████████████████████████████████████████████████████| 2010/2010 [00:03<00:00, 553.89it/s]\n",
      "  3%|██▎                                                                            | 58/2010 [00:00<00:03, 577.51it/s]"
     ]
    },
    {
     "name": "stdout",
     "output_type": "stream",
     "text": [
      "episode : 376 reward : 61.19098771959068\n",
      "total test reward=225.62692751939622\n"
     ]
    },
    {
     "name": "stderr",
     "output_type": "stream",
     "text": [
      "100%|█████████████████████████████████████████████████████████████████████████████| 2010/2010 [00:03<00:00, 550.06it/s]\n",
      "  3%|██▏                                                                            | 57/2010 [00:00<00:03, 560.11it/s]"
     ]
    },
    {
     "name": "stdout",
     "output_type": "stream",
     "text": [
      "episode : 377 reward : 23.319099090823062\n",
      "total test reward=255.57934169672473\n"
     ]
    },
    {
     "name": "stderr",
     "output_type": "stream",
     "text": [
      "100%|█████████████████████████████████████████████████████████████████████████████| 2010/2010 [00:03<00:00, 531.71it/s]\n",
      "  3%|██▎                                                                            | 59/2010 [00:00<00:03, 587.60it/s]"
     ]
    },
    {
     "name": "stdout",
     "output_type": "stream",
     "text": [
      "episode : 378 reward : 17.73359527693028\n",
      "total test reward=186.41269308094408\n"
     ]
    },
    {
     "name": "stderr",
     "output_type": "stream",
     "text": [
      "100%|█████████████████████████████████████████████████████████████████████████████| 2010/2010 [00:03<00:00, 556.02it/s]\n",
      "  3%|██▎                                                                            | 59/2010 [00:00<00:03, 580.16it/s]"
     ]
    },
    {
     "name": "stdout",
     "output_type": "stream",
     "text": [
      "episode : 379 reward : 44.09691796562305\n",
      "total test reward=247.32762204131086\n"
     ]
    },
    {
     "name": "stderr",
     "output_type": "stream",
     "text": [
      "100%|█████████████████████████████████████████████████████████████████████████████| 2010/2010 [00:03<00:00, 566.57it/s]\n",
      "  3%|██                                                                             | 52/2010 [00:00<00:03, 516.15it/s]"
     ]
    },
    {
     "name": "stdout",
     "output_type": "stream",
     "text": [
      "episode : 380 reward : 36.62890334583802\n",
      "total test reward=313.7663393035139\n"
     ]
    },
    {
     "name": "stderr",
     "output_type": "stream",
     "text": [
      "100%|█████████████████████████████████████████████████████████████████████████████| 2010/2010 [00:03<00:00, 569.90it/s]\n",
      "  3%|██▎                                                                            | 59/2010 [00:00<00:03, 585.52it/s]"
     ]
    },
    {
     "name": "stdout",
     "output_type": "stream",
     "text": [
      "episode : 381 reward : 70.31518484280677\n",
      "total test reward=222.91315940384976\n"
     ]
    },
    {
     "name": "stderr",
     "output_type": "stream",
     "text": [
      "100%|█████████████████████████████████████████████████████████████████████████████| 2010/2010 [00:03<00:00, 546.76it/s]\n",
      "  3%|██▏                                                                            | 56/2010 [00:00<00:03, 556.05it/s]"
     ]
    },
    {
     "name": "stdout",
     "output_type": "stream",
     "text": [
      "episode : 382 reward : 26.734357695373912\n",
      "total test reward=189.40128105967057\n"
     ]
    },
    {
     "name": "stderr",
     "output_type": "stream",
     "text": [
      "100%|█████████████████████████████████████████████████████████████████████████████| 2010/2010 [00:03<00:00, 549.75it/s]\n",
      "  3%|██▎                                                                            | 60/2010 [00:00<00:03, 595.67it/s]"
     ]
    },
    {
     "name": "stdout",
     "output_type": "stream",
     "text": [
      "episode : 383 reward : 31.81500976993601\n",
      "total test reward=143.5320274680257\n"
     ]
    },
    {
     "name": "stderr",
     "output_type": "stream",
     "text": [
      "100%|█████████████████████████████████████████████████████████████████████████████| 2010/2010 [00:03<00:00, 563.11it/s]\n",
      "  3%|██▏                                                                            | 56/2010 [00:00<00:03, 555.77it/s]"
     ]
    },
    {
     "name": "stdout",
     "output_type": "stream",
     "text": [
      "episode : 384 reward : 28.561534588005706\n",
      "total test reward=186.55222248707088\n"
     ]
    },
    {
     "name": "stderr",
     "output_type": "stream",
     "text": [
      "100%|█████████████████████████████████████████████████████████████████████████████| 2010/2010 [00:03<00:00, 546.46it/s]\n",
      "  6%|████▌                                                                         | 118/2010 [00:00<00:03, 579.85it/s]"
     ]
    },
    {
     "name": "stdout",
     "output_type": "stream",
     "text": [
      "episode : 385 reward : 41.00522912010276\n",
      "total test reward=151.82065775189207\n"
     ]
    },
    {
     "name": "stderr",
     "output_type": "stream",
     "text": [
      "100%|█████████████████████████████████████████████████████████████████████████████| 2010/2010 [00:03<00:00, 556.78it/s]\n",
      "  3%|██▎                                                                            | 60/2010 [00:00<00:03, 589.81it/s]"
     ]
    },
    {
     "name": "stdout",
     "output_type": "stream",
     "text": [
      "episode : 386 reward : 31.972078915970435\n",
      "total test reward=153.8968995256715\n"
     ]
    },
    {
     "name": "stderr",
     "output_type": "stream",
     "text": [
      "100%|█████████████████████████████████████████████████████████████████████████████| 2010/2010 [00:03<00:00, 556.31it/s]\n",
      "  3%|██▎                                                                            | 60/2010 [00:00<00:03, 595.45it/s]"
     ]
    },
    {
     "name": "stdout",
     "output_type": "stream",
     "text": [
      "episode : 387 reward : 34.22731986442552\n",
      "total test reward=158.45480857890192\n"
     ]
    },
    {
     "name": "stderr",
     "output_type": "stream",
     "text": [
      "100%|█████████████████████████████████████████████████████████████████████████████| 2010/2010 [00:03<00:00, 578.63it/s]\n",
      "  3%|██▎                                                                            | 60/2010 [00:00<00:03, 595.46it/s]"
     ]
    },
    {
     "name": "stdout",
     "output_type": "stream",
     "text": [
      "episode : 388 reward : 57.444568185487114\n",
      "total test reward=235.76755924305047\n"
     ]
    },
    {
     "name": "stderr",
     "output_type": "stream",
     "text": [
      "100%|█████████████████████████████████████████████████████████████████████████████| 2010/2010 [00:03<00:00, 575.20it/s]\n",
      "  3%|██▎                                                                            | 60/2010 [00:00<00:03, 589.95it/s]"
     ]
    },
    {
     "name": "stdout",
     "output_type": "stream",
     "text": [
      "episode : 389 reward : 6.696946326668023\n",
      "total test reward=221.34992914681462\n"
     ]
    },
    {
     "name": "stderr",
     "output_type": "stream",
     "text": [
      "100%|█████████████████████████████████████████████████████████████████████████████| 2010/2010 [00:03<00:00, 577.20it/s]\n",
      "  3%|██▎                                                                            | 59/2010 [00:00<00:03, 585.54it/s]"
     ]
    },
    {
     "name": "stdout",
     "output_type": "stream",
     "text": [
      "episode : 390 reward : 27.54000795482039\n",
      "total test reward=117.2184030502311\n"
     ]
    },
    {
     "name": "stderr",
     "output_type": "stream",
     "text": [
      "100%|█████████████████████████████████████████████████████████████████████████████| 2010/2010 [00:03<00:00, 579.13it/s]\n",
      "  3%|██▎                                                                            | 58/2010 [00:00<00:03, 575.62it/s]"
     ]
    },
    {
     "name": "stdout",
     "output_type": "stream",
     "text": [
      "episode : 391 reward : 30.13798347263367\n",
      "total test reward=234.5321903017206\n"
     ]
    },
    {
     "name": "stderr",
     "output_type": "stream",
     "text": [
      "100%|█████████████████████████████████████████████████████████████████████████████| 2010/2010 [00:03<00:00, 557.56it/s]\n",
      "  3%|██▏                                                                            | 57/2010 [00:00<00:03, 560.14it/s]"
     ]
    },
    {
     "name": "stdout",
     "output_type": "stream",
     "text": [
      "episode : 392 reward : 19.608723219863457\n",
      "total test reward=70.81096323372927\n"
     ]
    },
    {
     "name": "stderr",
     "output_type": "stream",
     "text": [
      "100%|█████████████████████████████████████████████████████████████████████████████| 2010/2010 [00:04<00:00, 496.88it/s]\n",
      "  3%|██                                                                             | 53/2010 [00:00<00:03, 525.94it/s]"
     ]
    },
    {
     "name": "stdout",
     "output_type": "stream",
     "text": [
      "episode : 393 reward : 42.481703995731756\n",
      "total test reward=237.68142993843784\n"
     ]
    },
    {
     "name": "stderr",
     "output_type": "stream",
     "text": [
      "100%|█████████████████████████████████████████████████████████████████████████████| 2010/2010 [00:03<00:00, 545.14it/s]\n",
      "  3%|██▏                                                                            | 57/2010 [00:00<00:03, 566.10it/s]"
     ]
    },
    {
     "name": "stdout",
     "output_type": "stream",
     "text": [
      "episode : 394 reward : 21.55409769930753\n",
      "total test reward=291.18534087617564\n"
     ]
    },
    {
     "name": "stderr",
     "output_type": "stream",
     "text": [
      "100%|█████████████████████████████████████████████████████████████████████████████| 2010/2010 [00:03<00:00, 547.07it/s]\n",
      "  3%|██▏                                                                            | 57/2010 [00:00<00:03, 566.57it/s]"
     ]
    },
    {
     "name": "stdout",
     "output_type": "stream",
     "text": [
      "episode : 395 reward : 110.36023587233909\n",
      "total test reward=280.56658659718386\n"
     ]
    },
    {
     "name": "stderr",
     "output_type": "stream",
     "text": [
      "100%|█████████████████████████████████████████████████████████████████████████████| 2010/2010 [00:03<00:00, 536.79it/s]\n",
      "  3%|██▎                                                                            | 58/2010 [00:00<00:03, 570.16it/s]"
     ]
    },
    {
     "name": "stdout",
     "output_type": "stream",
     "text": [
      "episode : 396 reward : 56.568464585286584\n",
      "total test reward=254.77968735249823\n"
     ]
    },
    {
     "name": "stderr",
     "output_type": "stream",
     "text": [
      "100%|█████████████████████████████████████████████████████████████████████████████| 2010/2010 [00:03<00:00, 554.61it/s]\n",
      "  3%|██                                                                             | 51/2010 [00:00<00:03, 506.28it/s]"
     ]
    },
    {
     "name": "stdout",
     "output_type": "stream",
     "text": [
      "episode : 397 reward : 62.22173887002302\n",
      "total test reward=161.74997682891672\n"
     ]
    },
    {
     "name": "stderr",
     "output_type": "stream",
     "text": [
      "100%|█████████████████████████████████████████████████████████████████████████████| 2010/2010 [00:03<00:00, 512.16it/s]\n",
      "  3%|██▏                                                                            | 56/2010 [00:00<00:03, 555.76it/s]"
     ]
    },
    {
     "name": "stdout",
     "output_type": "stream",
     "text": [
      "episode : 398 reward : 53.50592912132228\n",
      "total test reward=225.2806540346014\n"
     ]
    },
    {
     "name": "stderr",
     "output_type": "stream",
     "text": [
      "100%|█████████████████████████████████████████████████████████████████████████████| 2010/2010 [00:03<00:00, 553.52it/s]\n",
      "  3%|██                                                                             | 53/2010 [00:00<00:03, 526.16it/s]"
     ]
    },
    {
     "name": "stdout",
     "output_type": "stream",
     "text": [
      "episode : 399 reward : 34.26229165774054\n",
      "total test reward=276.84866622664674\n"
     ]
    },
    {
     "name": "stderr",
     "output_type": "stream",
     "text": [
      "100%|█████████████████████████████████████████████████████████████████████████████| 2010/2010 [00:03<00:00, 555.97it/s]\n",
      "  3%|██▎                                                                            | 58/2010 [00:00<00:03, 575.76it/s]"
     ]
    },
    {
     "name": "stdout",
     "output_type": "stream",
     "text": [
      "episode : 400 reward : 44.860914756425494\n",
      "total test reward=237.6632932779111\n"
     ]
    },
    {
     "name": "stderr",
     "output_type": "stream",
     "text": [
      "100%|█████████████████████████████████████████████████████████████████████████████| 2010/2010 [00:03<00:00, 558.90it/s]\n",
      "  3%|██▏                                                                            | 55/2010 [00:00<00:03, 546.38it/s]"
     ]
    },
    {
     "name": "stdout",
     "output_type": "stream",
     "text": [
      "episode : 401 reward : 62.655499650579074\n",
      "total test reward=244.98739450401885\n"
     ]
    },
    {
     "name": "stderr",
     "output_type": "stream",
     "text": [
      "100%|█████████████████████████████████████████████████████████████████████████████| 2010/2010 [00:03<00:00, 550.02it/s]\n",
      "  6%|████▍                                                                         | 115/2010 [00:00<00:03, 567.17it/s]"
     ]
    },
    {
     "name": "stdout",
     "output_type": "stream",
     "text": [
      "episode : 402 reward : 47.667883054458066\n",
      "total test reward=201.72409582235318\n"
     ]
    },
    {
     "name": "stderr",
     "output_type": "stream",
     "text": [
      "100%|█████████████████████████████████████████████████████████████████████████████| 2010/2010 [00:03<00:00, 554.69it/s]\n",
      "  3%|██▏                                                                            | 55/2010 [00:00<00:03, 540.65it/s]"
     ]
    },
    {
     "name": "stdout",
     "output_type": "stream",
     "text": [
      "episode : 403 reward : 61.51464185152664\n",
      "total test reward=244.5704687267712\n"
     ]
    },
    {
     "name": "stderr",
     "output_type": "stream",
     "text": [
      "100%|█████████████████████████████████████████████████████████████████████████████| 2010/2010 [00:03<00:00, 550.52it/s]\n",
      "  3%|██▎                                                                            | 58/2010 [00:00<00:03, 569.28it/s]"
     ]
    },
    {
     "name": "stdout",
     "output_type": "stream",
     "text": [
      "episode : 404 reward : 44.132078216392244\n",
      "total test reward=189.47912894713332\n"
     ]
    },
    {
     "name": "stderr",
     "output_type": "stream",
     "text": [
      "100%|█████████████████████████████████████████████████████████████████████████████| 2010/2010 [00:03<00:00, 556.44it/s]\n",
      "  3%|██▏                                                                            | 57/2010 [00:00<00:03, 565.65it/s]"
     ]
    },
    {
     "name": "stdout",
     "output_type": "stream",
     "text": [
      "episode : 405 reward : 41.330502206257265\n",
      "total test reward=183.74106194578417\n"
     ]
    },
    {
     "name": "stderr",
     "output_type": "stream",
     "text": [
      "100%|█████████████████████████████████████████████████████████████████████████████| 2010/2010 [00:03<00:00, 555.39it/s]\n",
      "  3%|██                                                                             | 54/2010 [00:00<00:03, 536.08it/s]"
     ]
    },
    {
     "name": "stdout",
     "output_type": "stream",
     "text": [
      "episode : 406 reward : 49.8041350944243\n",
      "total test reward=133.3232556579723\n"
     ]
    },
    {
     "name": "stderr",
     "output_type": "stream",
     "text": [
      "100%|█████████████████████████████████████████████████████████████████████████████| 2010/2010 [00:03<00:00, 551.82it/s]\n",
      "  3%|██▏                                                                            | 57/2010 [00:00<00:03, 566.35it/s]"
     ]
    },
    {
     "name": "stdout",
     "output_type": "stream",
     "text": [
      "episode : 407 reward : 36.955093903696564\n",
      "total test reward=209.19946626154373\n"
     ]
    },
    {
     "name": "stderr",
     "output_type": "stream",
     "text": [
      "100%|█████████████████████████████████████████████████████████████████████████████| 2010/2010 [00:03<00:00, 556.59it/s]\n",
      "  3%|██▏                                                                            | 57/2010 [00:00<00:03, 560.49it/s]"
     ]
    },
    {
     "name": "stdout",
     "output_type": "stream",
     "text": [
      "episode : 408 reward : 28.885158522819868\n",
      "total test reward=123.36234404052739\n"
     ]
    },
    {
     "name": "stderr",
     "output_type": "stream",
     "text": [
      "100%|█████████████████████████████████████████████████████████████████████████████| 2010/2010 [00:03<00:00, 548.17it/s]\n",
      "  3%|██                                                                             | 54/2010 [00:00<00:03, 534.26it/s]"
     ]
    },
    {
     "name": "stdout",
     "output_type": "stream",
     "text": [
      "episode : 409 reward : 38.02700599399198\n",
      "total test reward=186.59872141525415\n"
     ]
    },
    {
     "name": "stderr",
     "output_type": "stream",
     "text": [
      "100%|█████████████████████████████████████████████████████████████████████████████| 2010/2010 [00:03<00:00, 553.97it/s]\n",
      "  3%|██▏                                                                            | 57/2010 [00:00<00:03, 566.20it/s]"
     ]
    },
    {
     "name": "stdout",
     "output_type": "stream",
     "text": [
      "episode : 410 reward : 60.94005671337914\n",
      "total test reward=110.89498979380869\n"
     ]
    },
    {
     "name": "stderr",
     "output_type": "stream",
     "text": [
      "100%|█████████████████████████████████████████████████████████████████████████████| 2010/2010 [00:03<00:00, 553.37it/s]\n",
      "  3%|██▏                                                                            | 57/2010 [00:00<00:03, 563.20it/s]"
     ]
    },
    {
     "name": "stdout",
     "output_type": "stream",
     "text": [
      "episode : 411 reward : 10.475471953327274\n",
      "total test reward=135.16395872917352\n"
     ]
    },
    {
     "name": "stderr",
     "output_type": "stream",
     "text": [
      "100%|█████████████████████████████████████████████████████████████████████████████| 2010/2010 [00:03<00:00, 552.50it/s]\n",
      "  3%|██▎                                                                            | 58/2010 [00:00<00:03, 575.79it/s]"
     ]
    },
    {
     "name": "stdout",
     "output_type": "stream",
     "text": [
      "episode : 412 reward : 12.175351148666875\n",
      "total test reward=88.0494819134249\n"
     ]
    },
    {
     "name": "stderr",
     "output_type": "stream",
     "text": [
      "100%|█████████████████████████████████████████████████████████████████████████████| 2010/2010 [00:03<00:00, 555.29it/s]\n",
      "  3%|██▎                                                                            | 58/2010 [00:00<00:03, 569.73it/s]"
     ]
    },
    {
     "name": "stdout",
     "output_type": "stream",
     "text": [
      "episode : 413 reward : 44.60166191305784\n",
      "total test reward=58.994222799985266\n"
     ]
    },
    {
     "name": "stderr",
     "output_type": "stream",
     "text": [
      "100%|█████████████████████████████████████████████████████████████████████████████| 2010/2010 [00:03<00:00, 536.44it/s]\n",
      "  3%|██▏                                                                            | 57/2010 [00:00<00:03, 565.50it/s]"
     ]
    },
    {
     "name": "stdout",
     "output_type": "stream",
     "text": [
      "episode : 414 reward : 32.70642568076199\n",
      "total test reward=203.5506987084562\n"
     ]
    },
    {
     "name": "stderr",
     "output_type": "stream",
     "text": [
      "100%|█████████████████████████████████████████████████████████████████████████████| 2010/2010 [00:03<00:00, 550.62it/s]\n",
      "  3%|██▏                                                                            | 57/2010 [00:00<00:03, 560.12it/s]"
     ]
    },
    {
     "name": "stdout",
     "output_type": "stream",
     "text": [
      "episode : 415 reward : 5.918335998534133\n",
      "total test reward=140.928777079667\n"
     ]
    },
    {
     "name": "stderr",
     "output_type": "stream",
     "text": [
      "100%|█████████████████████████████████████████████████████████████████████████████| 2010/2010 [00:03<00:00, 555.45it/s]\n",
      "  3%|██▎                                                                            | 58/2010 [00:00<00:03, 569.48it/s]"
     ]
    },
    {
     "name": "stdout",
     "output_type": "stream",
     "text": [
      "episode : 416 reward : 64.1235239089862\n",
      "total test reward=94.40988720551952\n"
     ]
    },
    {
     "name": "stderr",
     "output_type": "stream",
     "text": [
      "100%|█████████████████████████████████████████████████████████████████████████████| 2010/2010 [00:03<00:00, 554.94it/s]\n",
      "  3%|██▏                                                                            | 57/2010 [00:00<00:03, 565.69it/s]"
     ]
    },
    {
     "name": "stdout",
     "output_type": "stream",
     "text": [
      "episode : 417 reward : 88.05072456913145\n",
      "total test reward=133.2996098382442\n"
     ]
    },
    {
     "name": "stderr",
     "output_type": "stream",
     "text": [
      "100%|█████████████████████████████████████████████████████████████████████████████| 2010/2010 [00:04<00:00, 489.04it/s]\n",
      "  3%|██                                                                             | 54/2010 [00:00<00:03, 536.09it/s]"
     ]
    },
    {
     "name": "stdout",
     "output_type": "stream",
     "text": [
      "episode : 418 reward : 23.070467425011866\n",
      "total test reward=197.91734604169906\n"
     ]
    },
    {
     "name": "stderr",
     "output_type": "stream",
     "text": [
      "100%|█████████████████████████████████████████████████████████████████████████████| 2010/2010 [00:03<00:00, 525.39it/s]\n",
      "  3%|██▎                                                                            | 58/2010 [00:00<00:03, 575.80it/s]"
     ]
    },
    {
     "name": "stdout",
     "output_type": "stream",
     "text": [
      "episode : 419 reward : 47.45387577262379\n",
      "total test reward=164.63876085841852\n"
     ]
    },
    {
     "name": "stderr",
     "output_type": "stream",
     "text": [
      "100%|█████████████████████████████████████████████████████████████████████████████| 2010/2010 [00:03<00:00, 556.01it/s]\n",
      "  3%|██▎                                                                            | 58/2010 [00:00<00:03, 575.94it/s]"
     ]
    },
    {
     "name": "stdout",
     "output_type": "stream",
     "text": [
      "episode : 420 reward : 138.01767362660613\n",
      "total test reward=143.14443319994683\n"
     ]
    },
    {
     "name": "stderr",
     "output_type": "stream",
     "text": [
      "100%|█████████████████████████████████████████████████████████████████████████████| 2010/2010 [00:03<00:00, 548.20it/s]\n",
      "  3%|██▏                                                                            | 57/2010 [00:00<00:03, 560.18it/s]"
     ]
    },
    {
     "name": "stdout",
     "output_type": "stream",
     "text": [
      "episode : 421 reward : 37.940528354101836\n",
      "total test reward=257.62729940598166\n"
     ]
    },
    {
     "name": "stderr",
     "output_type": "stream",
     "text": [
      "100%|█████████████████████████████████████████████████████████████████████████████| 2010/2010 [00:03<00:00, 540.18it/s]\n",
      "  3%|██▎                                                                            | 58/2010 [00:00<00:03, 569.96it/s]"
     ]
    },
    {
     "name": "stdout",
     "output_type": "stream",
     "text": [
      "episode : 422 reward : 58.23249633164683\n",
      "total test reward=193.53411429789554\n"
     ]
    },
    {
     "name": "stderr",
     "output_type": "stream",
     "text": [
      "100%|█████████████████████████████████████████████████████████████████████████████| 2010/2010 [00:03<00:00, 544.86it/s]\n",
      "  3%|██▏                                                                            | 57/2010 [00:00<00:03, 565.69it/s]"
     ]
    },
    {
     "name": "stdout",
     "output_type": "stream",
     "text": [
      "episode : 423 reward : 31.441686250089262\n",
      "total test reward=288.02947090318384\n"
     ]
    },
    {
     "name": "stderr",
     "output_type": "stream",
     "text": [
      "100%|█████████████████████████████████████████████████████████████████████████████| 2010/2010 [00:03<00:00, 555.39it/s]\n",
      "  3%|██▏                                                                            | 57/2010 [00:00<00:03, 560.33it/s]"
     ]
    },
    {
     "name": "stdout",
     "output_type": "stream",
     "text": [
      "episode : 424 reward : 58.583580220137485\n",
      "total test reward=281.9994216751518\n"
     ]
    },
    {
     "name": "stderr",
     "output_type": "stream",
     "text": [
      "100%|█████████████████████████████████████████████████████████████████████████████| 2010/2010 [00:03<00:00, 555.74it/s]\n",
      "  6%|████▍                                                                         | 114/2010 [00:00<00:03, 568.11it/s]"
     ]
    },
    {
     "name": "stdout",
     "output_type": "stream",
     "text": [
      "episode : 425 reward : 75.80551173425154\n",
      "total test reward=168.88089012611016\n"
     ]
    },
    {
     "name": "stderr",
     "output_type": "stream",
     "text": [
      "100%|█████████████████████████████████████████████████████████████████████████████| 2010/2010 [00:03<00:00, 550.97it/s]\n",
      "  3%|██▏                                                                            | 57/2010 [00:00<00:03, 560.12it/s]"
     ]
    },
    {
     "name": "stdout",
     "output_type": "stream",
     "text": [
      "episode : 426 reward : 141.6902734474912\n",
      "total test reward=211.14958050784912\n"
     ]
    },
    {
     "name": "stderr",
     "output_type": "stream",
     "text": [
      "100%|█████████████████████████████████████████████████████████████████████████████| 2010/2010 [00:03<00:00, 554.97it/s]\n",
      "  3%|██▎                                                                            | 58/2010 [00:00<00:03, 569.92it/s]"
     ]
    },
    {
     "name": "stdout",
     "output_type": "stream",
     "text": [
      "episode : 427 reward : 81.53288646390214\n",
      "total test reward=172.24277241534566\n"
     ]
    },
    {
     "name": "stderr",
     "output_type": "stream",
     "text": [
      "100%|█████████████████████████████████████████████████████████████████████████████| 2010/2010 [00:03<00:00, 519.12it/s]\n",
      "  3%|██▏                                                                            | 57/2010 [00:00<00:03, 560.11it/s]"
     ]
    },
    {
     "name": "stdout",
     "output_type": "stream",
     "text": [
      "episode : 428 reward : 1.7994599397032989\n",
      "total test reward=157.94049694690548\n"
     ]
    },
    {
     "name": "stderr",
     "output_type": "stream",
     "text": [
      "100%|█████████████████████████████████████████████████████████████████████████████| 2010/2010 [00:03<00:00, 545.55it/s]\n",
      "  3%|██▏                                                                            | 57/2010 [00:00<00:03, 560.27it/s]"
     ]
    },
    {
     "name": "stdout",
     "output_type": "stream",
     "text": [
      "episode : 429 reward : 12.126982154223876\n",
      "total test reward=155.29525166945064\n"
     ]
    },
    {
     "name": "stderr",
     "output_type": "stream",
     "text": [
      "100%|█████████████████████████████████████████████████████████████████████████████| 2010/2010 [00:03<00:00, 543.35it/s]\n",
      "  3%|██▏                                                                            | 57/2010 [00:00<00:03, 565.68it/s]"
     ]
    },
    {
     "name": "stdout",
     "output_type": "stream",
     "text": [
      "episode : 430 reward : 34.81796248472794\n",
      "total test reward=218.00049195589696\n"
     ]
    },
    {
     "name": "stderr",
     "output_type": "stream",
     "text": [
      "100%|█████████████████████████████████████████████████████████████████████████████| 2010/2010 [00:03<00:00, 557.48it/s]\n",
      "  3%|██▎                                                                            | 58/2010 [00:00<00:03, 575.62it/s]"
     ]
    },
    {
     "name": "stdout",
     "output_type": "stream",
     "text": [
      "episode : 431 reward : 58.766904196936935\n",
      "total test reward=204.174706271194\n"
     ]
    },
    {
     "name": "stderr",
     "output_type": "stream",
     "text": [
      "100%|█████████████████████████████████████████████████████████████████████████████| 2010/2010 [00:03<00:00, 554.53it/s]\n",
      "  3%|██▏                                                                            | 56/2010 [00:00<00:03, 550.48it/s]"
     ]
    },
    {
     "name": "stdout",
     "output_type": "stream",
     "text": [
      "episode : 432 reward : 75.17386931375069\n",
      "total test reward=232.81810882417767\n"
     ]
    },
    {
     "name": "stderr",
     "output_type": "stream",
     "text": [
      "100%|█████████████████████████████████████████████████████████████████████████████| 2010/2010 [00:03<00:00, 544.59it/s]\n",
      "  3%|██▎                                                                            | 58/2010 [00:00<00:03, 570.14it/s]"
     ]
    },
    {
     "name": "stdout",
     "output_type": "stream",
     "text": [
      "episode : 433 reward : 30.143217978457116\n",
      "total test reward=142.25712618482407\n"
     ]
    },
    {
     "name": "stderr",
     "output_type": "stream",
     "text": [
      "100%|█████████████████████████████████████████████████████████████████████████████| 2010/2010 [00:03<00:00, 541.40it/s]\n",
      "  3%|██▎                                                                            | 58/2010 [00:00<00:03, 569.43it/s]"
     ]
    },
    {
     "name": "stdout",
     "output_type": "stream",
     "text": [
      "episode : 434 reward : 41.661533239022425\n",
      "total test reward=242.87000208785412\n"
     ]
    },
    {
     "name": "stderr",
     "output_type": "stream",
     "text": [
      "100%|█████████████████████████████████████████████████████████████████████████████| 2010/2010 [00:03<00:00, 554.02it/s]\n",
      "  6%|████▎                                                                         | 111/2010 [00:00<00:03, 548.76it/s]"
     ]
    },
    {
     "name": "stdout",
     "output_type": "stream",
     "text": [
      "episode : 435 reward : 30.68879605395754\n",
      "total test reward=132.44041368031057\n"
     ]
    },
    {
     "name": "stderr",
     "output_type": "stream",
     "text": [
      "100%|█████████████████████████████████████████████████████████████████████████████| 2010/2010 [00:03<00:00, 538.31it/s]\n",
      "  3%|██▏                                                                            | 56/2010 [00:00<00:03, 544.88it/s]"
     ]
    },
    {
     "name": "stdout",
     "output_type": "stream",
     "text": [
      "episode : 436 reward : 141.7007424277813\n",
      "total test reward=148.3407927595318\n"
     ]
    },
    {
     "name": "stderr",
     "output_type": "stream",
     "text": [
      "100%|█████████████████████████████████████████████████████████████████████████████| 2010/2010 [00:03<00:00, 552.73it/s]\n",
      "  3%|██▏                                                                            | 57/2010 [00:00<00:03, 565.67it/s]"
     ]
    },
    {
     "name": "stdout",
     "output_type": "stream",
     "text": [
      "episode : 437 reward : 35.955920636902114\n",
      "total test reward=219.84908107507482\n"
     ]
    },
    {
     "name": "stderr",
     "output_type": "stream",
     "text": [
      "100%|█████████████████████████████████████████████████████████████████████████████| 2010/2010 [00:03<00:00, 553.32it/s]\n",
      "  3%|██▎                                                                            | 59/2010 [00:00<00:03, 580.16it/s]"
     ]
    },
    {
     "name": "stdout",
     "output_type": "stream",
     "text": [
      "episode : 438 reward : 60.584293340336195\n",
      "total test reward=198.9234155714376\n"
     ]
    },
    {
     "name": "stderr",
     "output_type": "stream",
     "text": [
      "100%|█████████████████████████████████████████████████████████████████████████████| 2010/2010 [00:03<00:00, 555.31it/s]\n",
      "  3%|██▎                                                                            | 58/2010 [00:00<00:03, 569.96it/s]"
     ]
    },
    {
     "name": "stdout",
     "output_type": "stream",
     "text": [
      "episode : 439 reward : 96.49034035595646\n",
      "total test reward=179.79397392536342\n"
     ]
    },
    {
     "name": "stderr",
     "output_type": "stream",
     "text": [
      "100%|█████████████████████████████████████████████████████████████████████████████| 2010/2010 [00:03<00:00, 554.72it/s]\n",
      "  3%|██▏                                                                            | 57/2010 [00:00<00:03, 565.54it/s]"
     ]
    },
    {
     "name": "stdout",
     "output_type": "stream",
     "text": [
      "episode : 440 reward : 79.42737716797657\n",
      "total test reward=264.2454201145564\n"
     ]
    },
    {
     "name": "stderr",
     "output_type": "stream",
     "text": [
      "100%|█████████████████████████████████████████████████████████████████████████████| 2010/2010 [00:03<00:00, 556.81it/s]\n",
      "  3%|██▏                                                                            | 55/2010 [00:00<00:03, 540.68it/s]"
     ]
    },
    {
     "name": "stdout",
     "output_type": "stream",
     "text": [
      "episode : 441 reward : 50.67407633899416\n",
      "total test reward=201.2820666385575\n"
     ]
    },
    {
     "name": "stderr",
     "output_type": "stream",
     "text": [
      "100%|█████████████████████████████████████████████████████████████████████████████| 2010/2010 [00:04<00:00, 482.03it/s]\n",
      "  6%|████▌                                                                         | 116/2010 [00:00<00:03, 574.09it/s]"
     ]
    },
    {
     "name": "stdout",
     "output_type": "stream",
     "text": [
      "episode : 442 reward : 55.21984663615046\n",
      "total test reward=307.7945764048018\n"
     ]
    },
    {
     "name": "stderr",
     "output_type": "stream",
     "text": [
      "100%|█████████████████████████████████████████████████████████████████████████████| 2010/2010 [00:03<00:00, 545.97it/s]\n",
      "  3%|██▏                                                                            | 57/2010 [00:00<00:03, 563.92it/s]"
     ]
    },
    {
     "name": "stdout",
     "output_type": "stream",
     "text": [
      "episode : 443 reward : 23.196953349667048\n",
      "total test reward=181.09363986983732\n"
     ]
    },
    {
     "name": "stderr",
     "output_type": "stream",
     "text": [
      "100%|█████████████████████████████████████████████████████████████████████████████| 2010/2010 [00:03<00:00, 542.34it/s]\n",
      "  2%|█▉                                                                             | 49/2010 [00:00<00:04, 482.31it/s]"
     ]
    },
    {
     "name": "stdout",
     "output_type": "stream",
     "text": [
      "episode : 444 reward : 77.25725746477166\n",
      "total test reward=249.77987416427473\n"
     ]
    },
    {
     "name": "stderr",
     "output_type": "stream",
     "text": [
      "100%|█████████████████████████████████████████████████████████████████████████████| 2010/2010 [00:03<00:00, 518.54it/s]\n",
      "  3%|██▎                                                                            | 60/2010 [00:00<00:03, 589.63it/s]"
     ]
    },
    {
     "name": "stdout",
     "output_type": "stream",
     "text": [
      "episode : 445 reward : 26.555592883004092\n",
      "total test reward=243.26456868161284\n"
     ]
    },
    {
     "name": "stderr",
     "output_type": "stream",
     "text": [
      "100%|█████████████████████████████████████████████████████████████████████████████| 2010/2010 [00:03<00:00, 551.12it/s]\n",
      "  3%|██▎                                                                            | 58/2010 [00:00<00:03, 575.61it/s]"
     ]
    },
    {
     "name": "stdout",
     "output_type": "stream",
     "text": [
      "episode : 446 reward : 41.6178482519751\n",
      "total test reward=188.2079973983023\n"
     ]
    },
    {
     "name": "stderr",
     "output_type": "stream",
     "text": [
      "100%|█████████████████████████████████████████████████████████████████████████████| 2010/2010 [00:03<00:00, 546.57it/s]\n",
      "  3%|██▏                                                                            | 56/2010 [00:00<00:03, 556.04it/s]"
     ]
    },
    {
     "name": "stdout",
     "output_type": "stream",
     "text": [
      "episode : 447 reward : 41.45683724222887\n",
      "total test reward=195.63158002057452\n"
     ]
    },
    {
     "name": "stderr",
     "output_type": "stream",
     "text": [
      "100%|█████████████████████████████████████████████████████████████████████████████| 2010/2010 [00:04<00:00, 496.71it/s]\n",
      "  3%|██▎                                                                            | 58/2010 [00:00<00:03, 575.75it/s]"
     ]
    },
    {
     "name": "stdout",
     "output_type": "stream",
     "text": [
      "episode : 448 reward : 40.85491925348731\n",
      "total test reward=148.61039497277176\n"
     ]
    },
    {
     "name": "stderr",
     "output_type": "stream",
     "text": [
      "100%|█████████████████████████████████████████████████████████████████████████████| 2010/2010 [00:03<00:00, 502.71it/s]\n",
      "  3%|██                                                                             | 52/2010 [00:00<00:03, 515.48it/s]"
     ]
    },
    {
     "name": "stdout",
     "output_type": "stream",
     "text": [
      "episode : 449 reward : 62.18879949014668\n",
      "total test reward=152.87175379051854\n"
     ]
    },
    {
     "name": "stderr",
     "output_type": "stream",
     "text": [
      "100%|█████████████████████████████████████████████████████████████████████████████| 2010/2010 [00:03<00:00, 521.29it/s]\n",
      "  6%|████▍                                                                         | 113/2010 [00:00<00:03, 558.76it/s]"
     ]
    },
    {
     "name": "stdout",
     "output_type": "stream",
     "text": [
      "episode : 450 reward : 26.47603129332025\n",
      "total test reward=200.90111027785332\n"
     ]
    },
    {
     "name": "stderr",
     "output_type": "stream",
     "text": [
      "100%|█████████████████████████████████████████████████████████████████████████████| 2010/2010 [00:03<00:00, 548.03it/s]\n",
      "  3%|██▏                                                                            | 57/2010 [00:00<00:03, 560.14it/s]"
     ]
    },
    {
     "name": "stdout",
     "output_type": "stream",
     "text": [
      "episode : 451 reward : 59.48219971927628\n",
      "total test reward=192.70384350722856\n"
     ]
    },
    {
     "name": "stderr",
     "output_type": "stream",
     "text": [
      "100%|█████████████████████████████████████████████████████████████████████████████| 2010/2010 [00:03<00:00, 555.05it/s]\n",
      "  3%|██▎                                                                            | 58/2010 [00:00<00:03, 569.98it/s]"
     ]
    },
    {
     "name": "stdout",
     "output_type": "stream",
     "text": [
      "episode : 452 reward : 24.36379878452204\n",
      "total test reward=127.86547745375972\n"
     ]
    },
    {
     "name": "stderr",
     "output_type": "stream",
     "text": [
      "100%|█████████████████████████████████████████████████████████████████████████████| 2010/2010 [00:03<00:00, 555.76it/s]\n",
      "  3%|██▏                                                                            | 57/2010 [00:00<00:03, 565.47it/s]"
     ]
    },
    {
     "name": "stdout",
     "output_type": "stream",
     "text": [
      "episode : 453 reward : 84.74688582378492\n",
      "total test reward=143.87275656685193\n"
     ]
    },
    {
     "name": "stderr",
     "output_type": "stream",
     "text": [
      "100%|█████████████████████████████████████████████████████████████████████████████| 2010/2010 [00:03<00:00, 544.07it/s]\n",
      "  3%|██▏                                                                            | 55/2010 [00:00<00:03, 544.17it/s]"
     ]
    },
    {
     "name": "stdout",
     "output_type": "stream",
     "text": [
      "episode : 454 reward : 24.144103729114985\n",
      "total test reward=185.52715048147076\n"
     ]
    },
    {
     "name": "stderr",
     "output_type": "stream",
     "text": [
      "100%|█████████████████████████████████████████████████████████████████████████████| 2010/2010 [00:03<00:00, 542.42it/s]\n",
      "  3%|██                                                                             | 54/2010 [00:00<00:03, 535.95it/s]"
     ]
    },
    {
     "name": "stdout",
     "output_type": "stream",
     "text": [
      "episode : 455 reward : 39.26733413277466\n",
      "total test reward=191.61811903931206\n"
     ]
    },
    {
     "name": "stderr",
     "output_type": "stream",
     "text": [
      "100%|█████████████████████████████████████████████████████████████████████████████| 2010/2010 [00:03<00:00, 530.70it/s]\n",
      "  3%|██▏                                                                            | 56/2010 [00:00<00:03, 559.79it/s]"
     ]
    },
    {
     "name": "stdout",
     "output_type": "stream",
     "text": [
      "episode : 456 reward : 98.6482360428268\n",
      "total test reward=187.0423710075685\n"
     ]
    },
    {
     "name": "stderr",
     "output_type": "stream",
     "text": [
      "100%|█████████████████████████████████████████████████████████████████████████████| 2010/2010 [00:03<00:00, 553.42it/s]\n",
      "  3%|██▏                                                                            | 55/2010 [00:00<00:03, 545.81it/s]"
     ]
    },
    {
     "name": "stdout",
     "output_type": "stream",
     "text": [
      "episode : 457 reward : 33.67647618073975\n",
      "total test reward=218.36123833289633\n"
     ]
    },
    {
     "name": "stderr",
     "output_type": "stream",
     "text": [
      "100%|█████████████████████████████████████████████████████████████████████████████| 2010/2010 [00:03<00:00, 540.68it/s]\n",
      "  3%|██▏                                                                            | 56/2010 [00:00<00:03, 556.21it/s]"
     ]
    },
    {
     "name": "stdout",
     "output_type": "stream",
     "text": [
      "episode : 458 reward : 119.18678815481289\n",
      "total test reward=241.42514597810697\n"
     ]
    },
    {
     "name": "stderr",
     "output_type": "stream",
     "text": [
      "100%|█████████████████████████████████████████████████████████████████████████████| 2010/2010 [00:03<00:00, 557.30it/s]\n",
      "  3%|██▎                                                                            | 58/2010 [00:00<00:03, 570.18it/s]"
     ]
    },
    {
     "name": "stdout",
     "output_type": "stream",
     "text": [
      "episode : 459 reward : 111.2956186040105\n",
      "total test reward=242.48737252035352\n"
     ]
    },
    {
     "name": "stderr",
     "output_type": "stream",
     "text": [
      "100%|█████████████████████████████████████████████████████████████████████████████| 2010/2010 [00:03<00:00, 558.04it/s]\n",
      "  3%|██▎                                                                            | 58/2010 [00:00<00:03, 575.58it/s]"
     ]
    },
    {
     "name": "stdout",
     "output_type": "stream",
     "text": [
      "episode : 460 reward : 59.9780855989082\n",
      "total test reward=258.5100222808034\n"
     ]
    },
    {
     "name": "stderr",
     "output_type": "stream",
     "text": [
      "100%|█████████████████████████████████████████████████████████████████████████████| 2010/2010 [00:03<00:00, 559.16it/s]\n",
      "  3%|██▏                                                                            | 57/2010 [00:00<00:03, 562.16it/s]"
     ]
    },
    {
     "name": "stdout",
     "output_type": "stream",
     "text": [
      "episode : 461 reward : 127.18622086159831\n",
      "total test reward=201.2965180239518\n"
     ]
    },
    {
     "name": "stderr",
     "output_type": "stream",
     "text": [
      "100%|█████████████████████████████████████████████████████████████████████████████| 2010/2010 [00:03<00:00, 545.68it/s]\n",
      "  2%|█▌                                                                             | 39/2010 [00:00<00:05, 386.86it/s]"
     ]
    },
    {
     "name": "stdout",
     "output_type": "stream",
     "text": [
      "episode : 462 reward : 19.963198497841187\n",
      "total test reward=204.2693508085053\n"
     ]
    },
    {
     "name": "stderr",
     "output_type": "stream",
     "text": [
      "100%|█████████████████████████████████████████████████████████████████████████████| 2010/2010 [00:03<00:00, 507.41it/s]\n",
      "  3%|██▎                                                                            | 58/2010 [00:00<00:03, 575.83it/s]"
     ]
    },
    {
     "name": "stdout",
     "output_type": "stream",
     "text": [
      "episode : 463 reward : 20.44609727045951\n",
      "total test reward=287.89125231500395\n"
     ]
    },
    {
     "name": "stderr",
     "output_type": "stream",
     "text": [
      "100%|█████████████████████████████████████████████████████████████████████████████| 2010/2010 [00:03<00:00, 558.19it/s]\n",
      "  3%|██▏                                                                            | 55/2010 [00:00<00:03, 540.66it/s]"
     ]
    },
    {
     "name": "stdout",
     "output_type": "stream",
     "text": [
      "episode : 464 reward : 21.161162891900865\n",
      "total test reward=205.68298224828527\n"
     ]
    },
    {
     "name": "stderr",
     "output_type": "stream",
     "text": [
      "100%|█████████████████████████████████████████████████████████████████████████████| 2010/2010 [00:03<00:00, 552.68it/s]\n",
      "  3%|██▏                                                                            | 55/2010 [00:00<00:03, 528.40it/s]"
     ]
    },
    {
     "name": "stdout",
     "output_type": "stream",
     "text": [
      "episode : 465 reward : 88.08522826632674\n",
      "total test reward=275.5817191305927\n"
     ]
    },
    {
     "name": "stderr",
     "output_type": "stream",
     "text": [
      "100%|█████████████████████████████████████████████████████████████████████████████| 2010/2010 [00:03<00:00, 552.75it/s]\n",
      "  3%|██▏                                                                            | 57/2010 [00:00<00:03, 565.86it/s]"
     ]
    },
    {
     "name": "stdout",
     "output_type": "stream",
     "text": [
      "episode : 466 reward : 93.50875530911776\n",
      "total test reward=284.1125320234697\n"
     ]
    },
    {
     "name": "stderr",
     "output_type": "stream",
     "text": [
      "100%|█████████████████████████████████████████████████████████████████████████████| 2010/2010 [00:03<00:00, 529.42it/s]\n",
      "  3%|██                                                                             | 52/2010 [00:00<00:03, 511.01it/s]"
     ]
    },
    {
     "name": "stdout",
     "output_type": "stream",
     "text": [
      "episode : 467 reward : 32.41731339156223\n",
      "total test reward=147.99112068361688\n"
     ]
    },
    {
     "name": "stderr",
     "output_type": "stream",
     "text": [
      "100%|█████████████████████████████████████████████████████████████████████████████| 2010/2010 [00:03<00:00, 528.61it/s]\n",
      "  3%|██▏                                                                            | 56/2010 [00:00<00:03, 555.77it/s]"
     ]
    },
    {
     "name": "stdout",
     "output_type": "stream",
     "text": [
      "episode : 468 reward : 95.6850344239322\n",
      "total test reward=287.01117647421404\n"
     ]
    },
    {
     "name": "stderr",
     "output_type": "stream",
     "text": [
      "100%|█████████████████████████████████████████████████████████████████████████████| 2010/2010 [00:03<00:00, 554.07it/s]\n",
      "  3%|██                                                                             | 54/2010 [00:00<00:03, 536.06it/s]"
     ]
    },
    {
     "name": "stdout",
     "output_type": "stream",
     "text": [
      "episode : 469 reward : 56.44790523401803\n",
      "total test reward=256.66048289038406\n"
     ]
    },
    {
     "name": "stderr",
     "output_type": "stream",
     "text": [
      "100%|█████████████████████████████████████████████████████████████████████████████| 2010/2010 [00:03<00:00, 532.02it/s]\n",
      "  3%|██▎                                                                            | 58/2010 [00:00<00:03, 570.14it/s]"
     ]
    },
    {
     "name": "stdout",
     "output_type": "stream",
     "text": [
      "episode : 470 reward : 63.156507139726486\n",
      "total test reward=310.8673466085431\n"
     ]
    },
    {
     "name": "stderr",
     "output_type": "stream",
     "text": [
      "100%|█████████████████████████████████████████████████████████████████████████████| 2010/2010 [00:03<00:00, 564.59it/s]\n",
      "  3%|██▏                                                                            | 57/2010 [00:00<00:03, 564.73it/s]"
     ]
    },
    {
     "name": "stdout",
     "output_type": "stream",
     "text": [
      "episode : 471 reward : 94.09714734145966\n",
      "total test reward=198.32618152109464\n"
     ]
    },
    {
     "name": "stderr",
     "output_type": "stream",
     "text": [
      "100%|█████████████████████████████████████████████████████████████████████████████| 2010/2010 [00:03<00:00, 545.86it/s]\n",
      "  3%|██▏                                                                            | 55/2010 [00:00<00:03, 545.82it/s]"
     ]
    },
    {
     "name": "stdout",
     "output_type": "stream",
     "text": [
      "episode : 472 reward : 139.8564569776259\n",
      "total test reward=228.2815794165327\n"
     ]
    },
    {
     "name": "stderr",
     "output_type": "stream",
     "text": [
      "100%|█████████████████████████████████████████████████████████████████████████████| 2010/2010 [00:03<00:00, 548.07it/s]\n",
      "  3%|██▏                                                                            | 55/2010 [00:00<00:03, 546.01it/s]"
     ]
    },
    {
     "name": "stdout",
     "output_type": "stream",
     "text": [
      "episode : 473 reward : 85.82030529515181\n",
      "total test reward=179.0605986876314\n"
     ]
    },
    {
     "name": "stderr",
     "output_type": "stream",
     "text": [
      "100%|█████████████████████████████████████████████████████████████████████████████| 2010/2010 [00:03<00:00, 507.80it/s]\n",
      "  3%|██▏                                                                            | 56/2010 [00:00<00:03, 557.60it/s]"
     ]
    },
    {
     "name": "stdout",
     "output_type": "stream",
     "text": [
      "episode : 474 reward : 153.2550794546044\n",
      "total test reward=224.7100657124841\n"
     ]
    },
    {
     "name": "stderr",
     "output_type": "stream",
     "text": [
      "100%|█████████████████████████████████████████████████████████████████████████████| 2010/2010 [00:03<00:00, 557.24it/s]\n",
      "  3%|██▎                                                                            | 59/2010 [00:00<00:03, 579.99it/s]"
     ]
    },
    {
     "name": "stdout",
     "output_type": "stream",
     "text": [
      "episode : 475 reward : 144.03037156489984\n",
      "total test reward=229.03648842484526\n"
     ]
    },
    {
     "name": "stderr",
     "output_type": "stream",
     "text": [
      "100%|█████████████████████████████████████████████████████████████████████████████| 2010/2010 [00:03<00:00, 558.44it/s]\n",
      "  3%|██▏                                                                            | 56/2010 [00:00<00:03, 555.61it/s]"
     ]
    },
    {
     "name": "stdout",
     "output_type": "stream",
     "text": [
      "episode : 476 reward : 8.454633361047302\n",
      "total test reward=273.12522391017353\n"
     ]
    },
    {
     "name": "stderr",
     "output_type": "stream",
     "text": [
      "100%|█████████████████████████████████████████████████████████████████████████████| 2010/2010 [00:03<00:00, 553.44it/s]\n",
      "  3%|██▏                                                                            | 57/2010 [00:00<00:03, 566.00it/s]"
     ]
    },
    {
     "name": "stdout",
     "output_type": "stream",
     "text": [
      "episode : 477 reward : 114.80331919242751\n",
      "total test reward=159.09098210268445\n"
     ]
    },
    {
     "name": "stderr",
     "output_type": "stream",
     "text": [
      "100%|█████████████████████████████████████████████████████████████████████████████| 2010/2010 [00:04<00:00, 487.61it/s]\n",
      "  2%|█▍                                                                             | 36/2010 [00:00<00:05, 358.58it/s]"
     ]
    },
    {
     "name": "stdout",
     "output_type": "stream",
     "text": [
      "episode : 478 reward : 18.411782233871314\n",
      "total test reward=209.1348208210838\n"
     ]
    },
    {
     "name": "stderr",
     "output_type": "stream",
     "text": [
      "100%|█████████████████████████████████████████████████████████████████████████████| 2010/2010 [00:04<00:00, 494.36it/s]\n",
      "  3%|██▎                                                                            | 58/2010 [00:00<00:03, 569.98it/s]"
     ]
    },
    {
     "name": "stdout",
     "output_type": "stream",
     "text": [
      "episode : 479 reward : 94.20692550010405\n",
      "total test reward=194.50222761895353\n"
     ]
    },
    {
     "name": "stderr",
     "output_type": "stream",
     "text": [
      "100%|█████████████████████████████████████████████████████████████████████████████| 2010/2010 [00:03<00:00, 549.44it/s]\n",
      "  3%|██▏                                                                            | 57/2010 [00:00<00:03, 565.68it/s]"
     ]
    },
    {
     "name": "stdout",
     "output_type": "stream",
     "text": [
      "episode : 480 reward : 69.21268049800463\n",
      "total test reward=193.927414785676\n"
     ]
    },
    {
     "name": "stderr",
     "output_type": "stream",
     "text": [
      "100%|█████████████████████████████████████████████████████████████████████████████| 2010/2010 [00:03<00:00, 557.13it/s]\n",
      "  3%|██▏                                                                            | 57/2010 [00:00<00:03, 563.05it/s]"
     ]
    },
    {
     "name": "stdout",
     "output_type": "stream",
     "text": [
      "episode : 481 reward : 139.7884962199829\n",
      "total test reward=229.05523312907476\n"
     ]
    },
    {
     "name": "stderr",
     "output_type": "stream",
     "text": [
      "100%|█████████████████████████████████████████████████████████████████████████████| 2010/2010 [00:03<00:00, 537.15it/s]\n",
      "  3%|██▏                                                                            | 56/2010 [00:00<00:03, 550.26it/s]"
     ]
    },
    {
     "name": "stdout",
     "output_type": "stream",
     "text": [
      "episode : 482 reward : 20.0809689674886\n",
      "total test reward=224.74011190877064\n"
     ]
    },
    {
     "name": "stderr",
     "output_type": "stream",
     "text": [
      "100%|█████████████████████████████████████████████████████████████████████████████| 2010/2010 [00:03<00:00, 551.52it/s]\n",
      "  3%|██▎                                                                            | 58/2010 [00:00<00:03, 569.97it/s]"
     ]
    },
    {
     "name": "stdout",
     "output_type": "stream",
     "text": [
      "episode : 483 reward : 22.09284786190179\n",
      "total test reward=197.2673426458107\n"
     ]
    },
    {
     "name": "stderr",
     "output_type": "stream",
     "text": [
      "100%|█████████████████████████████████████████████████████████████████████████████| 2010/2010 [00:03<00:00, 555.73it/s]\n",
      "  3%|██▎                                                                            | 58/2010 [00:00<00:03, 570.15it/s]"
     ]
    },
    {
     "name": "stdout",
     "output_type": "stream",
     "text": [
      "episode : 484 reward : 21.838008178260313\n",
      "total test reward=244.80054758922955\n"
     ]
    },
    {
     "name": "stderr",
     "output_type": "stream",
     "text": [
      "100%|█████████████████████████████████████████████████████████████████████████████| 2010/2010 [00:03<00:00, 553.14it/s]\n",
      "  3%|██                                                                             | 53/2010 [00:00<00:03, 526.30it/s]"
     ]
    },
    {
     "name": "stdout",
     "output_type": "stream",
     "text": [
      "episode : 485 reward : 162.92730618456116\n",
      "total test reward=170.47488684698277\n"
     ]
    },
    {
     "name": "stderr",
     "output_type": "stream",
     "text": [
      "100%|█████████████████████████████████████████████████████████████████████████████| 2010/2010 [00:03<00:00, 546.72it/s]\n",
      "  3%|██▏                                                                            | 56/2010 [00:00<00:03, 557.51it/s]"
     ]
    },
    {
     "name": "stdout",
     "output_type": "stream",
     "text": [
      "episode : 486 reward : 9.913401784413505\n",
      "total test reward=179.2054613915629\n"
     ]
    },
    {
     "name": "stderr",
     "output_type": "stream",
     "text": [
      "100%|█████████████████████████████████████████████████████████████████████████████| 2010/2010 [00:03<00:00, 547.27it/s]\n",
      "  3%|██▏                                                                            | 57/2010 [00:00<00:03, 565.87it/s]"
     ]
    },
    {
     "name": "stdout",
     "output_type": "stream",
     "text": [
      "episode : 487 reward : 288.40330919844365\n",
      "total test reward=178.94905260648957\n"
     ]
    },
    {
     "name": "stderr",
     "output_type": "stream",
     "text": [
      "100%|█████████████████████████████████████████████████████████████████████████████| 2010/2010 [00:03<00:00, 558.12it/s]\n",
      "  3%|██▏                                                                            | 57/2010 [00:00<00:03, 560.32it/s]"
     ]
    },
    {
     "name": "stdout",
     "output_type": "stream",
     "text": [
      "episode : 488 reward : 49.273395210330094\n",
      "total test reward=177.808570384484\n"
     ]
    },
    {
     "name": "stderr",
     "output_type": "stream",
     "text": [
      "100%|█████████████████████████████████████████████████████████████████████████████| 2010/2010 [00:03<00:00, 557.52it/s]\n",
      "  3%|██▏                                                                            | 57/2010 [00:00<00:03, 565.07it/s]"
     ]
    },
    {
     "name": "stdout",
     "output_type": "stream",
     "text": [
      "episode : 489 reward : 3.2115006646723767\n",
      "total test reward=290.2091705952781\n"
     ]
    },
    {
     "name": "stderr",
     "output_type": "stream",
     "text": [
      "100%|█████████████████████████████████████████████████████████████████████████████| 2010/2010 [00:03<00:00, 544.84it/s]\n",
      "  6%|████▍                                                                         | 115/2010 [00:00<00:03, 566.94it/s]"
     ]
    },
    {
     "name": "stdout",
     "output_type": "stream",
     "text": [
      "episode : 490 reward : 33.51352140634171\n",
      "total test reward=257.2190459743812\n"
     ]
    },
    {
     "name": "stderr",
     "output_type": "stream",
     "text": [
      "100%|█████████████████████████████████████████████████████████████████████████████| 2010/2010 [00:03<00:00, 524.75it/s]\n",
      "  3%|██                                                                             | 54/2010 [00:00<00:03, 535.91it/s]"
     ]
    },
    {
     "name": "stdout",
     "output_type": "stream",
     "text": [
      "episode : 491 reward : 58.97639621398519\n",
      "total test reward=207.77457084406697\n"
     ]
    },
    {
     "name": "stderr",
     "output_type": "stream",
     "text": [
      "100%|█████████████████████████████████████████████████████████████████████████████| 2010/2010 [00:03<00:00, 552.75it/s]\n",
      "  3%|██▏                                                                            | 57/2010 [00:00<00:03, 560.29it/s]"
     ]
    },
    {
     "name": "stdout",
     "output_type": "stream",
     "text": [
      "episode : 492 reward : 109.87327198315822\n",
      "total test reward=176.21443580510558\n"
     ]
    },
    {
     "name": "stderr",
     "output_type": "stream",
     "text": [
      "100%|█████████████████████████████████████████████████████████████████████████████| 2010/2010 [00:03<00:00, 555.34it/s]\n",
      "  3%|██▏                                                                            | 57/2010 [00:00<00:03, 562.22it/s]"
     ]
    },
    {
     "name": "stdout",
     "output_type": "stream",
     "text": [
      "episode : 493 reward : 32.014744743207316\n",
      "total test reward=152.4798459438428\n"
     ]
    },
    {
     "name": "stderr",
     "output_type": "stream",
     "text": [
      "100%|█████████████████████████████████████████████████████████████████████████████| 2010/2010 [00:03<00:00, 541.92it/s]\n",
      "  3%|██▏                                                                            | 57/2010 [00:00<00:03, 560.88it/s]"
     ]
    },
    {
     "name": "stdout",
     "output_type": "stream",
     "text": [
      "episode : 494 reward : 106.38702499025077\n",
      "total test reward=242.44293570543306\n"
     ]
    },
    {
     "name": "stderr",
     "output_type": "stream",
     "text": [
      "100%|█████████████████████████████████████████████████████████████████████████████| 2010/2010 [00:03<00:00, 531.74it/s]\n",
      "  6%|████▎                                                                         | 112/2010 [00:00<00:03, 563.45it/s]"
     ]
    },
    {
     "name": "stdout",
     "output_type": "stream",
     "text": [
      "episode : 495 reward : 46.0825132292383\n",
      "total test reward=216.41191581952998\n"
     ]
    },
    {
     "name": "stderr",
     "output_type": "stream",
     "text": [
      "100%|█████████████████████████████████████████████████████████████████████████████| 2010/2010 [00:03<00:00, 554.67it/s]\n",
      "  3%|██▎                                                                            | 59/2010 [00:00<00:03, 579.57it/s]"
     ]
    },
    {
     "name": "stdout",
     "output_type": "stream",
     "text": [
      "episode : 496 reward : 177.96389433158458\n",
      "total test reward=312.6994859952823\n"
     ]
    },
    {
     "name": "stderr",
     "output_type": "stream",
     "text": [
      "100%|█████████████████████████████████████████████████████████████████████████████| 2010/2010 [00:03<00:00, 556.56it/s]\n",
      "  2%|█▍                                                                             | 38/2010 [00:00<00:05, 373.43it/s]"
     ]
    },
    {
     "name": "stdout",
     "output_type": "stream",
     "text": [
      "episode : 497 reward : 62.08783169796561\n",
      "total test reward=249.29643255611683\n"
     ]
    },
    {
     "name": "stderr",
     "output_type": "stream",
     "text": [
      "100%|█████████████████████████████████████████████████████████████████████████████| 2010/2010 [00:03<00:00, 536.51it/s]\n",
      "  6%|████▍                                                                         | 115/2010 [00:00<00:03, 565.61it/s]"
     ]
    },
    {
     "name": "stdout",
     "output_type": "stream",
     "text": [
      "episode : 498 reward : 164.3135007353404\n",
      "total test reward=272.8275409907572\n"
     ]
    },
    {
     "name": "stderr",
     "output_type": "stream",
     "text": [
      "100%|█████████████████████████████████████████████████████████████████████████████| 2010/2010 [00:03<00:00, 553.79it/s]\n",
      "  3%|██▏                                                                            | 57/2010 [00:00<00:03, 565.86it/s]"
     ]
    },
    {
     "name": "stdout",
     "output_type": "stream",
     "text": [
      "episode : 499 reward : 163.57658300995143\n",
      "total test reward=216.43457486096108\n"
     ]
    },
    {
     "name": "stderr",
     "output_type": "stream",
     "text": [
      "100%|█████████████████████████████████████████████████████████████████████████████| 2010/2010 [00:03<00:00, 557.16it/s]\n",
      "  3%|██▏                                                                            | 57/2010 [00:00<00:03, 562.16it/s]"
     ]
    },
    {
     "name": "stdout",
     "output_type": "stream",
     "text": [
      "episode : 500 reward : 110.02016023345395\n",
      "total test reward=295.35599443876004\n"
     ]
    },
    {
     "name": "stderr",
     "output_type": "stream",
     "text": [
      "100%|█████████████████████████████████████████████████████████████████████████████| 2010/2010 [00:03<00:00, 556.27it/s]\n",
      "  3%|██▎                                                                            | 58/2010 [00:00<00:03, 575.61it/s]"
     ]
    },
    {
     "name": "stdout",
     "output_type": "stream",
     "text": [
      "episode : 501 reward : 91.27413367036378\n",
      "total test reward=266.74196975807405\n"
     ]
    },
    {
     "name": "stderr",
     "output_type": "stream",
     "text": [
      "100%|█████████████████████████████████████████████████████████████████████████████| 2010/2010 [00:03<00:00, 560.78it/s]\n",
      "  3%|██▎                                                                            | 58/2010 [00:00<00:03, 570.13it/s]"
     ]
    },
    {
     "name": "stdout",
     "output_type": "stream",
     "text": [
      "episode : 502 reward : 138.3517607970768\n",
      "total test reward=295.0668394204229\n"
     ]
    },
    {
     "name": "stderr",
     "output_type": "stream",
     "text": [
      "100%|█████████████████████████████████████████████████████████████████████████████| 2010/2010 [00:03<00:00, 556.17it/s]\n",
      "  3%|██▎                                                                            | 58/2010 [00:00<00:03, 570.13it/s]"
     ]
    },
    {
     "name": "stdout",
     "output_type": "stream",
     "text": [
      "episode : 503 reward : 21.148744626331826\n",
      "total test reward=302.00494041411883\n"
     ]
    },
    {
     "name": "stderr",
     "output_type": "stream",
     "text": [
      "100%|█████████████████████████████████████████████████████████████████████████████| 2010/2010 [00:03<00:00, 551.06it/s]\n",
      "  3%|██▎                                                                            | 58/2010 [00:00<00:03, 570.15it/s]"
     ]
    },
    {
     "name": "stdout",
     "output_type": "stream",
     "text": [
      "episode : 504 reward : 67.7422742244259\n",
      "total test reward=104.02717190215594\n"
     ]
    },
    {
     "name": "stderr",
     "output_type": "stream",
     "text": [
      "100%|█████████████████████████████████████████████████████████████████████████████| 2010/2010 [00:03<00:00, 552.62it/s]\n",
      "  2%|█▊                                                                             | 47/2010 [00:00<00:04, 468.13it/s]"
     ]
    },
    {
     "name": "stdout",
     "output_type": "stream",
     "text": [
      "episode : 505 reward : 31.502214508616653\n",
      "total test reward=302.64440021217445\n"
     ]
    },
    {
     "name": "stderr",
     "output_type": "stream",
     "text": [
      "100%|█████████████████████████████████████████████████████████████████████████████| 2010/2010 [00:03<00:00, 521.41it/s]\n",
      "  3%|██▎                                                                            | 58/2010 [00:00<00:03, 569.79it/s]"
     ]
    },
    {
     "name": "stdout",
     "output_type": "stream",
     "text": [
      "episode : 506 reward : 10.911542618572566\n",
      "total test reward=254.59261035166736\n"
     ]
    },
    {
     "name": "stderr",
     "output_type": "stream",
     "text": [
      "100%|█████████████████████████████████████████████████████████████████████████████| 2010/2010 [00:03<00:00, 554.95it/s]\n",
      "  3%|██▎                                                                            | 58/2010 [00:00<00:03, 569.97it/s]"
     ]
    },
    {
     "name": "stdout",
     "output_type": "stream",
     "text": [
      "episode : 507 reward : 5.590297371845235\n",
      "total test reward=285.3014188301413\n"
     ]
    },
    {
     "name": "stderr",
     "output_type": "stream",
     "text": [
      "100%|█████████████████████████████████████████████████████████████████████████████| 2010/2010 [00:03<00:00, 524.49it/s]\n",
      "  3%|██▏                                                                            | 56/2010 [00:00<00:03, 555.77it/s]"
     ]
    },
    {
     "name": "stdout",
     "output_type": "stream",
     "text": [
      "episode : 508 reward : 25.228609264011922\n",
      "total test reward=271.05848456197583\n"
     ]
    },
    {
     "name": "stderr",
     "output_type": "stream",
     "text": [
      "100%|█████████████████████████████████████████████████████████████████████████████| 2010/2010 [00:03<00:00, 554.03it/s]\n",
      "  3%|██▎                                                                            | 58/2010 [00:00<00:03, 570.08it/s]"
     ]
    },
    {
     "name": "stdout",
     "output_type": "stream",
     "text": [
      "episode : 509 reward : 54.61137871211761\n",
      "total test reward=203.25367332345326\n"
     ]
    },
    {
     "name": "stderr",
     "output_type": "stream",
     "text": [
      "100%|█████████████████████████████████████████████████████████████████████████████| 2010/2010 [00:03<00:00, 552.75it/s]\n",
      "  3%|██                                                                             | 51/2010 [00:00<00:03, 501.59it/s]"
     ]
    },
    {
     "name": "stdout",
     "output_type": "stream",
     "text": [
      "episode : 510 reward : 37.166660307934634\n",
      "total test reward=239.1292645806215\n"
     ]
    },
    {
     "name": "stderr",
     "output_type": "stream",
     "text": [
      "100%|█████████████████████████████████████████████████████████████████████████████| 2010/2010 [00:03<00:00, 547.29it/s]\n",
      "  3%|██                                                                             | 52/2010 [00:00<00:03, 510.94it/s]"
     ]
    },
    {
     "name": "stdout",
     "output_type": "stream",
     "text": [
      "episode : 511 reward : 60.52746642866599\n",
      "total test reward=247.05306273827355\n"
     ]
    },
    {
     "name": "stderr",
     "output_type": "stream",
     "text": [
      "100%|█████████████████████████████████████████████████████████████████████████████| 2010/2010 [00:03<00:00, 548.12it/s]\n",
      "  3%|██▏                                                                            | 56/2010 [00:00<00:03, 550.49it/s]"
     ]
    },
    {
     "name": "stdout",
     "output_type": "stream",
     "text": [
      "episode : 512 reward : 57.63095641015739\n",
      "total test reward=293.36317149558556\n"
     ]
    },
    {
     "name": "stderr",
     "output_type": "stream",
     "text": [
      "100%|█████████████████████████████████████████████████████████████████████████████| 2010/2010 [00:03<00:00, 553.41it/s]\n",
      "  3%|██▎                                                                            | 58/2010 [00:00<00:03, 570.13it/s]"
     ]
    },
    {
     "name": "stdout",
     "output_type": "stream",
     "text": [
      "episode : 513 reward : 89.8284102832622\n",
      "total test reward=250.41096748922237\n"
     ]
    },
    {
     "name": "stderr",
     "output_type": "stream",
     "text": [
      "100%|█████████████████████████████████████████████████████████████████████████████| 2010/2010 [00:03<00:00, 541.51it/s]\n",
      "  3%|██▏                                                                            | 55/2010 [00:00<00:03, 546.04it/s]"
     ]
    },
    {
     "name": "stdout",
     "output_type": "stream",
     "text": [
      "episode : 514 reward : 135.7445172365759\n",
      "total test reward=279.2155681798157\n"
     ]
    },
    {
     "name": "stderr",
     "output_type": "stream",
     "text": [
      "100%|█████████████████████████████████████████████████████████████████████████████| 2010/2010 [00:03<00:00, 557.07it/s]\n",
      "  3%|██▏                                                                            | 56/2010 [00:00<00:03, 556.39it/s]"
     ]
    },
    {
     "name": "stdout",
     "output_type": "stream",
     "text": [
      "episode : 515 reward : 50.28172149319551\n",
      "total test reward=253.50248462251562\n"
     ]
    },
    {
     "name": "stderr",
     "output_type": "stream",
     "text": [
      "100%|█████████████████████████████████████████████████████████████████████████████| 2010/2010 [00:03<00:00, 552.29it/s]\n",
      "  3%|██▏                                                                            | 56/2010 [00:00<00:03, 555.77it/s]"
     ]
    },
    {
     "name": "stdout",
     "output_type": "stream",
     "text": [
      "episode : 516 reward : 31.826957765182435\n",
      "total test reward=287.60547083328015\n"
     ]
    },
    {
     "name": "stderr",
     "output_type": "stream",
     "text": [
      "100%|█████████████████████████████████████████████████████████████████████████████| 2010/2010 [00:03<00:00, 555.57it/s]\n",
      "  3%|██▏                                                                            | 57/2010 [00:00<00:03, 560.15it/s]"
     ]
    },
    {
     "name": "stdout",
     "output_type": "stream",
     "text": [
      "episode : 517 reward : 39.44545980414769\n",
      "total test reward=264.37468616538274\n"
     ]
    },
    {
     "name": "stderr",
     "output_type": "stream",
     "text": [
      "100%|█████████████████████████████████████████████████████████████████████████████| 2010/2010 [00:03<00:00, 558.89it/s]\n",
      "  3%|██▏                                                                            | 57/2010 [00:00<00:03, 565.88it/s]"
     ]
    },
    {
     "name": "stdout",
     "output_type": "stream",
     "text": [
      "episode : 518 reward : 24.203922616129237\n",
      "total test reward=205.40191200292287\n"
     ]
    },
    {
     "name": "stderr",
     "output_type": "stream",
     "text": [
      "100%|█████████████████████████████████████████████████████████████████████████████| 2010/2010 [00:03<00:00, 545.33it/s]\n",
      "  3%|██▎                                                                            | 58/2010 [00:00<00:03, 572.56it/s]"
     ]
    },
    {
     "name": "stdout",
     "output_type": "stream",
     "text": [
      "episode : 519 reward : 222.22974115797243\n",
      "total test reward=172.69109968015374\n"
     ]
    },
    {
     "name": "stderr",
     "output_type": "stream",
     "text": [
      "100%|█████████████████████████████████████████████████████████████████████████████| 2010/2010 [00:03<00:00, 526.05it/s]\n",
      "  2%|█▊                                                                             | 47/2010 [00:00<00:04, 466.35it/s]"
     ]
    },
    {
     "name": "stdout",
     "output_type": "stream",
     "text": [
      "episode : 520 reward : 25.403136600417717\n",
      "total test reward=206.46718874576163\n"
     ]
    },
    {
     "name": "stderr",
     "output_type": "stream",
     "text": [
      "100%|█████████████████████████████████████████████████████████████████████████████| 2010/2010 [00:04<00:00, 487.14it/s]\n",
      "  3%|██                                                                             | 51/2010 [00:00<00:03, 500.70it/s]"
     ]
    },
    {
     "name": "stdout",
     "output_type": "stream",
     "text": [
      "episode : 521 reward : 105.23619825807747\n",
      "total test reward=328.6849695890354\n"
     ]
    },
    {
     "name": "stderr",
     "output_type": "stream",
     "text": [
      "100%|█████████████████████████████████████████████████████████████████████████████| 2010/2010 [00:04<00:00, 482.04it/s]\n",
      "  2%|█▉                                                                             | 50/2010 [00:00<00:03, 496.37it/s]"
     ]
    },
    {
     "name": "stdout",
     "output_type": "stream",
     "text": [
      "episode : 522 reward : 27.184395470058476\n",
      "total test reward=316.541843529111\n"
     ]
    },
    {
     "name": "stderr",
     "output_type": "stream",
     "text": [
      "100%|█████████████████████████████████████████████████████████████████████████████| 2010/2010 [00:04<00:00, 488.29it/s]\n",
      "  3%|██▏                                                                            | 56/2010 [00:00<00:03, 555.76it/s]"
     ]
    },
    {
     "name": "stdout",
     "output_type": "stream",
     "text": [
      "episode : 523 reward : 1.5240649666006267\n",
      "total test reward=253.87851344132497\n"
     ]
    },
    {
     "name": "stderr",
     "output_type": "stream",
     "text": [
      "100%|█████████████████████████████████████████████████████████████████████████████| 2010/2010 [00:03<00:00, 524.93it/s]\n",
      "  3%|██▏                                                                            | 57/2010 [00:00<00:03, 560.32it/s]"
     ]
    },
    {
     "name": "stdout",
     "output_type": "stream",
     "text": [
      "episode : 524 reward : 183.1618527992784\n",
      "total test reward=297.76255445118704\n"
     ]
    },
    {
     "name": "stderr",
     "output_type": "stream",
     "text": [
      "100%|█████████████████████████████████████████████████████████████████████████████| 2010/2010 [00:03<00:00, 552.92it/s]\n",
      "  3%|██▏                                                                            | 57/2010 [00:00<00:03, 560.32it/s]"
     ]
    },
    {
     "name": "stdout",
     "output_type": "stream",
     "text": [
      "episode : 525 reward : 50.84566949064772\n",
      "total test reward=86.39267445505372\n"
     ]
    },
    {
     "name": "stderr",
     "output_type": "stream",
     "text": [
      "100%|█████████████████████████████████████████████████████████████████████████████| 2010/2010 [00:03<00:00, 541.64it/s]\n",
      "  3%|██▏                                                                            | 57/2010 [00:00<00:03, 565.57it/s]"
     ]
    },
    {
     "name": "stdout",
     "output_type": "stream",
     "text": [
      "episode : 526 reward : 13.128673457931761\n",
      "total test reward=87.65329964437339\n"
     ]
    },
    {
     "name": "stderr",
     "output_type": "stream",
     "text": [
      "100%|█████████████████████████████████████████████████████████████████████████████| 2010/2010 [00:03<00:00, 554.75it/s]\n",
      "  3%|██▏                                                                            | 56/2010 [00:00<00:03, 555.87it/s]"
     ]
    },
    {
     "name": "stdout",
     "output_type": "stream",
     "text": [
      "episode : 527 reward : 100.60593757940828\n",
      "total test reward=79.9357952357046\n"
     ]
    },
    {
     "name": "stderr",
     "output_type": "stream",
     "text": [
      "100%|█████████████████████████████████████████████████████████████████████████████| 2010/2010 [00:03<00:00, 556.15it/s]\n",
      "  3%|██                                                                             | 52/2010 [00:00<00:03, 506.21it/s]"
     ]
    },
    {
     "name": "stdout",
     "output_type": "stream",
     "text": [
      "episode : 528 reward : 45.898218417662825\n",
      "total test reward=311.8904336106343\n"
     ]
    },
    {
     "name": "stderr",
     "output_type": "stream",
     "text": [
      "100%|█████████████████████████████████████████████████████████████████████████████| 2010/2010 [00:03<00:00, 545.33it/s]\n",
      "  3%|██▏                                                                            | 56/2010 [00:00<00:03, 558.67it/s]"
     ]
    },
    {
     "name": "stdout",
     "output_type": "stream",
     "text": [
      "episode : 529 reward : 61.265308142003846\n",
      "total test reward=94.1292716263077\n"
     ]
    },
    {
     "name": "stderr",
     "output_type": "stream",
     "text": [
      "100%|█████████████████████████████████████████████████████████████████████████████| 2010/2010 [00:03<00:00, 551.99it/s]\n",
      "  3%|██▏                                                                            | 57/2010 [00:00<00:03, 565.87it/s]"
     ]
    },
    {
     "name": "stdout",
     "output_type": "stream",
     "text": [
      "episode : 530 reward : 22.748579542718506\n",
      "total test reward=328.7395955796786\n"
     ]
    },
    {
     "name": "stderr",
     "output_type": "stream",
     "text": [
      "100%|█████████████████████████████████████████████████████████████████████████████| 2010/2010 [00:03<00:00, 555.00it/s]\n",
      "  3%|██▏                                                                            | 56/2010 [00:00<00:03, 555.94it/s]"
     ]
    },
    {
     "name": "stdout",
     "output_type": "stream",
     "text": [
      "episode : 531 reward : 145.74416214280012\n",
      "total test reward=329.29970085987827\n"
     ]
    },
    {
     "name": "stderr",
     "output_type": "stream",
     "text": [
      "100%|█████████████████████████████████████████████████████████████████████████████| 2010/2010 [00:03<00:00, 552.08it/s]\n",
      "  3%|██▎                                                                            | 58/2010 [00:00<00:03, 579.02it/s]"
     ]
    },
    {
     "name": "stdout",
     "output_type": "stream",
     "text": [
      "episode : 532 reward : 29.661215132630158\n",
      "total test reward=266.4313956440709\n"
     ]
    },
    {
     "name": "stderr",
     "output_type": "stream",
     "text": [
      "100%|█████████████████████████████████████████████████████████████████████████████| 2010/2010 [00:03<00:00, 558.32it/s]\n",
      "  3%|██▏                                                                            | 57/2010 [00:00<00:03, 560.12it/s]"
     ]
    },
    {
     "name": "stdout",
     "output_type": "stream",
     "text": [
      "episode : 533 reward : 161.35650867886676\n",
      "total test reward=232.5632719733514\n"
     ]
    },
    {
     "name": "stderr",
     "output_type": "stream",
     "text": [
      "100%|█████████████████████████████████████████████████████████████████████████████| 2010/2010 [00:03<00:00, 558.07it/s]\n",
      "  3%|██▏                                                                            | 57/2010 [00:00<00:03, 560.32it/s]"
     ]
    },
    {
     "name": "stdout",
     "output_type": "stream",
     "text": [
      "episode : 534 reward : 59.53064820234448\n",
      "total test reward=328.83278381556096\n"
     ]
    },
    {
     "name": "stderr",
     "output_type": "stream",
     "text": [
      "100%|█████████████████████████████████████████████████████████████████████████████| 2010/2010 [00:03<00:00, 536.56it/s]\n",
      "  3%|██▎                                                                            | 59/2010 [00:00<00:03, 579.78it/s]"
     ]
    },
    {
     "name": "stdout",
     "output_type": "stream",
     "text": [
      "episode : 535 reward : 22.466890778537106\n",
      "total test reward=320.6407476948542\n"
     ]
    },
    {
     "name": "stderr",
     "output_type": "stream",
     "text": [
      "100%|█████████████████████████████████████████████████████████████████████████████| 2010/2010 [00:03<00:00, 561.35it/s]\n",
      "  3%|██▎                                                                            | 58/2010 [00:00<00:03, 572.47it/s]"
     ]
    },
    {
     "name": "stdout",
     "output_type": "stream",
     "text": [
      "episode : 536 reward : 143.19815622120257\n",
      "total test reward=293.9370816117013\n"
     ]
    },
    {
     "name": "stderr",
     "output_type": "stream",
     "text": [
      "100%|█████████████████████████████████████████████████████████████████████████████| 2010/2010 [00:03<00:00, 565.25it/s]\n",
      "  3%|██▎                                                                            | 59/2010 [00:00<00:03, 579.97it/s]"
     ]
    },
    {
     "name": "stdout",
     "output_type": "stream",
     "text": [
      "episode : 537 reward : 320.68076138719704\n",
      "total test reward=276.0385437779571\n"
     ]
    },
    {
     "name": "stderr",
     "output_type": "stream",
     "text": [
      "100%|█████████████████████████████████████████████████████████████████████████████| 2010/2010 [00:03<00:00, 543.58it/s]\n",
      "  3%|██▏                                                                            | 57/2010 [00:00<00:03, 568.52it/s]"
     ]
    },
    {
     "name": "stdout",
     "output_type": "stream",
     "text": [
      "episode : 538 reward : 134.5246298623553\n",
      "total test reward=235.72622109444242\n"
     ]
    },
    {
     "name": "stderr",
     "output_type": "stream",
     "text": [
      "100%|█████████████████████████████████████████████████████████████████████████████| 2010/2010 [00:03<00:00, 552.05it/s]\n",
      "  3%|██▏                                                                            | 55/2010 [00:00<00:03, 546.00it/s]"
     ]
    },
    {
     "name": "stdout",
     "output_type": "stream",
     "text": [
      "episode : 539 reward : 30.633191037604817\n",
      "total test reward=314.3285420010908\n"
     ]
    },
    {
     "name": "stderr",
     "output_type": "stream",
     "text": [
      "100%|█████████████████████████████████████████████████████████████████████████████| 2010/2010 [00:03<00:00, 545.19it/s]\n",
      "  3%|██▎                                                                            | 59/2010 [00:00<00:03, 579.98it/s]"
     ]
    },
    {
     "name": "stdout",
     "output_type": "stream",
     "text": [
      "episode : 540 reward : 61.4924397895461\n",
      "total test reward=327.25157320955117\n"
     ]
    },
    {
     "name": "stderr",
     "output_type": "stream",
     "text": [
      "100%|█████████████████████████████████████████████████████████████████████████████| 2010/2010 [00:03<00:00, 557.62it/s]\n",
      "  3%|██▏                                                                            | 55/2010 [00:00<00:03, 540.61it/s]"
     ]
    },
    {
     "name": "stdout",
     "output_type": "stream",
     "text": [
      "episode : 541 reward : 24.621586303738532\n",
      "total test reward=254.91211381381905\n"
     ]
    },
    {
     "name": "stderr",
     "output_type": "stream",
     "text": [
      "100%|█████████████████████████████████████████████████████████████████████████████| 2010/2010 [00:03<00:00, 545.43it/s]\n",
      "  3%|██▏                                                                            | 56/2010 [00:00<00:03, 555.76it/s]"
     ]
    },
    {
     "name": "stdout",
     "output_type": "stream",
     "text": [
      "episode : 542 reward : 33.828956641357905\n",
      "total test reward=327.80988065699245\n"
     ]
    },
    {
     "name": "stderr",
     "output_type": "stream",
     "text": [
      "100%|█████████████████████████████████████████████████████████████████████████████| 2010/2010 [00:03<00:00, 533.74it/s]\n",
      "  3%|██▏                                                                            | 57/2010 [00:00<00:03, 566.22it/s]"
     ]
    },
    {
     "name": "stdout",
     "output_type": "stream",
     "text": [
      "episode : 543 reward : 23.69456068705606\n",
      "total test reward=327.7796702008704\n"
     ]
    },
    {
     "name": "stderr",
     "output_type": "stream",
     "text": [
      "100%|█████████████████████████████████████████████████████████████████████████████| 2010/2010 [00:03<00:00, 555.49it/s]\n",
      "  3%|██▏                                                                            | 57/2010 [00:00<00:03, 560.01it/s]"
     ]
    },
    {
     "name": "stdout",
     "output_type": "stream",
     "text": [
      "episode : 544 reward : 58.77473596441061\n",
      "total test reward=328.37146991553493\n"
     ]
    },
    {
     "name": "stderr",
     "output_type": "stream",
     "text": [
      "100%|█████████████████████████████████████████████████████████████████████████████| 2010/2010 [00:03<00:00, 554.05it/s]\n",
      "  6%|████▍                                                                         | 114/2010 [00:00<00:03, 565.95it/s]"
     ]
    },
    {
     "name": "stdout",
     "output_type": "stream",
     "text": [
      "episode : 545 reward : 73.56376745533359\n",
      "total test reward=328.6949511932423\n"
     ]
    },
    {
     "name": "stderr",
     "output_type": "stream",
     "text": [
      "100%|█████████████████████████████████████████████████████████████████████████████| 2010/2010 [00:03<00:00, 553.03it/s]\n",
      "  2%|█▍                                                                             | 38/2010 [00:00<00:05, 371.97it/s]"
     ]
    },
    {
     "name": "stdout",
     "output_type": "stream",
     "text": [
      "episode : 546 reward : 70.78017579226852\n",
      "total test reward=314.9989543176816\n"
     ]
    },
    {
     "name": "stderr",
     "output_type": "stream",
     "text": [
      "100%|█████████████████████████████████████████████████████████████████████████████| 2010/2010 [00:03<00:00, 514.93it/s]\n",
      "  3%|██▏                                                                            | 57/2010 [00:00<00:03, 569.03it/s]"
     ]
    },
    {
     "name": "stdout",
     "output_type": "stream",
     "text": [
      "episode : 547 reward : 52.288129270460736\n",
      "total test reward=327.94067354836426\n"
     ]
    },
    {
     "name": "stderr",
     "output_type": "stream",
     "text": [
      "100%|█████████████████████████████████████████████████████████████████████████████| 2010/2010 [00:03<00:00, 555.10it/s]\n",
      "  3%|██▎                                                                            | 58/2010 [00:00<00:03, 568.82it/s]"
     ]
    },
    {
     "name": "stdout",
     "output_type": "stream",
     "text": [
      "episode : 548 reward : 77.91921631056675\n",
      "total test reward=327.75095191227956\n"
     ]
    },
    {
     "name": "stderr",
     "output_type": "stream",
     "text": [
      "100%|█████████████████████████████████████████████████████████████████████████████| 2010/2010 [00:03<00:00, 556.84it/s]\n",
      "  3%|██▏                                                                            | 55/2010 [00:00<00:03, 546.01it/s]"
     ]
    },
    {
     "name": "stdout",
     "output_type": "stream",
     "text": [
      "episode : 549 reward : 66.08450712645865\n",
      "total test reward=274.3740465380373\n"
     ]
    },
    {
     "name": "stderr",
     "output_type": "stream",
     "text": [
      "100%|█████████████████████████████████████████████████████████████████████████████| 2010/2010 [00:03<00:00, 509.53it/s]\n",
      "  6%|████▍                                                                         | 115/2010 [00:00<00:03, 567.00it/s]"
     ]
    },
    {
     "name": "stdout",
     "output_type": "stream",
     "text": [
      "episode : 550 reward : 73.74101988894859\n",
      "total test reward=294.50684848722216\n"
     ]
    },
    {
     "name": "stderr",
     "output_type": "stream",
     "text": [
      "100%|█████████████████████████████████████████████████████████████████████████████| 2010/2010 [00:03<00:00, 559.96it/s]\n",
      "  3%|██▏                                                                            | 57/2010 [00:00<00:03, 563.22it/s]"
     ]
    },
    {
     "name": "stdout",
     "output_type": "stream",
     "text": [
      "episode : 551 reward : 47.91184940147722\n",
      "total test reward=326.86342205846165\n"
     ]
    },
    {
     "name": "stderr",
     "output_type": "stream",
     "text": [
      "100%|█████████████████████████████████████████████████████████████████████████████| 2010/2010 [00:03<00:00, 524.22it/s]\n",
      "  3%|██▎                                                                            | 58/2010 [00:00<00:03, 569.98it/s]"
     ]
    },
    {
     "name": "stdout",
     "output_type": "stream",
     "text": [
      "episode : 552 reward : 7.330774206419552\n",
      "total test reward=257.7278952313599\n"
     ]
    },
    {
     "name": "stderr",
     "output_type": "stream",
     "text": [
      "100%|█████████████████████████████████████████████████████████████████████████████| 2010/2010 [00:03<00:00, 546.68it/s]\n",
      "  3%|██▏                                                                            | 57/2010 [00:00<00:03, 565.64it/s]"
     ]
    },
    {
     "name": "stdout",
     "output_type": "stream",
     "text": [
      "episode : 553 reward : 35.25890507683559\n",
      "total test reward=326.6838853688873\n"
     ]
    },
    {
     "name": "stderr",
     "output_type": "stream",
     "text": [
      "100%|█████████████████████████████████████████████████████████████████████████████| 2010/2010 [00:03<00:00, 556.37it/s]\n",
      "  3%|██▎                                                                            | 58/2010 [00:00<00:03, 569.97it/s]"
     ]
    },
    {
     "name": "stdout",
     "output_type": "stream",
     "text": [
      "episode : 554 reward : 47.31496339931947\n",
      "total test reward=326.6788887120965\n"
     ]
    },
    {
     "name": "stderr",
     "output_type": "stream",
     "text": [
      "100%|█████████████████████████████████████████████████████████████████████████████| 2010/2010 [00:03<00:00, 554.04it/s]\n",
      "  3%|██▏                                                                            | 57/2010 [00:00<00:03, 560.32it/s]"
     ]
    },
    {
     "name": "stdout",
     "output_type": "stream",
     "text": [
      "episode : 555 reward : 82.80698668980725\n",
      "total test reward=326.3920959699855\n"
     ]
    },
    {
     "name": "stderr",
     "output_type": "stream",
     "text": [
      "100%|█████████████████████████████████████████████████████████████████████████████| 2010/2010 [00:03<00:00, 537.20it/s]\n",
      "  3%|██▏                                                                            | 57/2010 [00:00<00:03, 564.28it/s]"
     ]
    },
    {
     "name": "stdout",
     "output_type": "stream",
     "text": [
      "episode : 556 reward : 40.50317728360195\n",
      "total test reward=326.11689982713386\n"
     ]
    },
    {
     "name": "stderr",
     "output_type": "stream",
     "text": [
      "100%|█████████████████████████████████████████████████████████████████████████████| 2010/2010 [00:03<00:00, 559.61it/s]\n",
      "  3%|██▎                                                                            | 58/2010 [00:00<00:03, 570.33it/s]"
     ]
    },
    {
     "name": "stdout",
     "output_type": "stream",
     "text": [
      "episode : 557 reward : 122.5690213898676\n",
      "total test reward=326.98223582813296\n"
     ]
    },
    {
     "name": "stderr",
     "output_type": "stream",
     "text": [
      "100%|█████████████████████████████████████████████████████████████████████████████| 2010/2010 [00:03<00:00, 546.22it/s]\n",
      "  3%|██▏                                                                            | 57/2010 [00:00<00:03, 565.66it/s]"
     ]
    },
    {
     "name": "stdout",
     "output_type": "stream",
     "text": [
      "episode : 558 reward : 14.026340835982406\n",
      "total test reward=321.02244636574443\n"
     ]
    },
    {
     "name": "stderr",
     "output_type": "stream",
     "text": [
      "100%|█████████████████████████████████████████████████████████████████████████████| 2010/2010 [00:03<00:00, 538.52it/s]\n",
      "  3%|██▏                                                                            | 56/2010 [00:00<00:03, 553.66it/s]"
     ]
    },
    {
     "name": "stdout",
     "output_type": "stream",
     "text": [
      "episode : 559 reward : 192.59211373711923\n",
      "total test reward=275.5989519965321\n"
     ]
    },
    {
     "name": "stderr",
     "output_type": "stream",
     "text": [
      "100%|█████████████████████████████████████████████████████████████████████████████| 2010/2010 [00:03<00:00, 554.03it/s]\n",
      "  2%|█▊                                                                             | 45/2010 [00:00<00:04, 446.71it/s]"
     ]
    },
    {
     "name": "stdout",
     "output_type": "stream",
     "text": [
      "episode : 560 reward : 22.720433033674762\n",
      "total test reward=303.3949801513825\n"
     ]
    },
    {
     "name": "stderr",
     "output_type": "stream",
     "text": [
      "100%|█████████████████████████████████████████████████████████████████████████████| 2010/2010 [00:04<00:00, 497.12it/s]\n",
      "  3%|██▎                                                                            | 58/2010 [00:00<00:03, 569.97it/s]"
     ]
    },
    {
     "name": "stdout",
     "output_type": "stream",
     "text": [
      "episode : 561 reward : 38.80774206974127\n",
      "total test reward=326.0185801627624\n"
     ]
    },
    {
     "name": "stderr",
     "output_type": "stream",
     "text": [
      "100%|█████████████████████████████████████████████████████████████████████████████| 2010/2010 [00:03<00:00, 504.30it/s]\n",
      "  3%|██▏                                                                            | 57/2010 [00:00<00:03, 565.67it/s]"
     ]
    },
    {
     "name": "stdout",
     "output_type": "stream",
     "text": [
      "episode : 562 reward : 59.80547203141592\n",
      "total test reward=269.9977431185989\n"
     ]
    },
    {
     "name": "stderr",
     "output_type": "stream",
     "text": [
      "100%|█████████████████████████████████████████████████████████████████████████████| 2010/2010 [00:03<00:00, 504.74it/s]\n",
      "  3%|██▏                                                                            | 56/2010 [00:00<00:03, 555.77it/s]"
     ]
    },
    {
     "name": "stdout",
     "output_type": "stream",
     "text": [
      "episode : 563 reward : 70.90966273805742\n",
      "total test reward=292.76015843929787\n"
     ]
    },
    {
     "name": "stderr",
     "output_type": "stream",
     "text": [
      "100%|█████████████████████████████████████████████████████████████████████████████| 2010/2010 [00:03<00:00, 503.86it/s]\n",
      "  3%|██▏                                                                            | 56/2010 [00:00<00:03, 556.11it/s]"
     ]
    },
    {
     "name": "stdout",
     "output_type": "stream",
     "text": [
      "episode : 564 reward : 72.93905501474222\n",
      "total test reward=270.2495263121421\n"
     ]
    },
    {
     "name": "stderr",
     "output_type": "stream",
     "text": [
      "100%|█████████████████████████████████████████████████████████████████████████████| 2010/2010 [00:03<00:00, 556.75it/s]\n",
      "  3%|██▎                                                                            | 58/2010 [00:00<00:03, 569.79it/s]"
     ]
    },
    {
     "name": "stdout",
     "output_type": "stream",
     "text": [
      "episode : 565 reward : 4.967979356927238\n",
      "total test reward=326.372444396282\n"
     ]
    },
    {
     "name": "stderr",
     "output_type": "stream",
     "text": [
      "100%|█████████████████████████████████████████████████████████████████████████████| 2010/2010 [00:03<00:00, 537.16it/s]\n",
      "  3%|██▏                                                                            | 55/2010 [00:00<00:03, 545.83it/s]"
     ]
    },
    {
     "name": "stdout",
     "output_type": "stream",
     "text": [
      "episode : 566 reward : 129.15234143830324\n",
      "total test reward=326.1463944976773\n"
     ]
    },
    {
     "name": "stderr",
     "output_type": "stream",
     "text": [
      "100%|█████████████████████████████████████████████████████████████████████████████| 2010/2010 [00:03<00:00, 556.39it/s]\n",
      "  3%|██▏                                                                            | 57/2010 [00:00<00:03, 568.02it/s]"
     ]
    },
    {
     "name": "stdout",
     "output_type": "stream",
     "text": [
      "episode : 567 reward : 37.61848161701922\n",
      "total test reward=326.1680512024731\n"
     ]
    },
    {
     "name": "stderr",
     "output_type": "stream",
     "text": [
      "100%|█████████████████████████████████████████████████████████████████████████████| 2010/2010 [00:03<00:00, 554.38it/s]\n",
      "  3%|██▎                                                                            | 58/2010 [00:00<00:03, 574.34it/s]"
     ]
    },
    {
     "name": "stdout",
     "output_type": "stream",
     "text": [
      "episode : 568 reward : 4.8715346345248065\n",
      "total test reward=277.53534223545023\n"
     ]
    },
    {
     "name": "stderr",
     "output_type": "stream",
     "text": [
      "100%|█████████████████████████████████████████████████████████████████████████████| 2010/2010 [00:03<00:00, 558.41it/s]\n",
      "  3%|██▏                                                                            | 57/2010 [00:00<00:03, 560.14it/s]"
     ]
    },
    {
     "name": "stdout",
     "output_type": "stream",
     "text": [
      "episode : 569 reward : 57.3744516976594\n",
      "total test reward=297.4284705916617\n"
     ]
    },
    {
     "name": "stderr",
     "output_type": "stream",
     "text": [
      "100%|█████████████████████████████████████████████████████████████████████████████| 2010/2010 [00:03<00:00, 539.47it/s]\n",
      "  3%|██                                                                             | 54/2010 [00:00<00:03, 535.92it/s]"
     ]
    },
    {
     "name": "stdout",
     "output_type": "stream",
     "text": [
      "episode : 570 reward : 211.84356519234368\n",
      "total test reward=266.4936845671412\n"
     ]
    },
    {
     "name": "stderr",
     "output_type": "stream",
     "text": [
      "100%|█████████████████████████████████████████████████████████████████████████████| 2010/2010 [00:03<00:00, 555.78it/s]\n",
      "  3%|██▏                                                                            | 56/2010 [00:00<00:03, 553.25it/s]"
     ]
    },
    {
     "name": "stdout",
     "output_type": "stream",
     "text": [
      "episode : 571 reward : 271.4418725919542\n",
      "total test reward=321.6937355584949\n"
     ]
    },
    {
     "name": "stderr",
     "output_type": "stream",
     "text": [
      "100%|█████████████████████████████████████████████████████████████████████████████| 2010/2010 [00:03<00:00, 558.52it/s]\n",
      "  2%|█▊                                                                             | 46/2010 [00:00<00:04, 456.67it/s]"
     ]
    },
    {
     "name": "stdout",
     "output_type": "stream",
     "text": [
      "episode : 572 reward : 42.8794581167484\n",
      "total test reward=325.61527049663675\n"
     ]
    },
    {
     "name": "stderr",
     "output_type": "stream",
     "text": [
      "100%|█████████████████████████████████████████████████████████████████████████████| 2010/2010 [00:03<00:00, 522.68it/s]\n",
      "  3%|██▏                                                                            | 55/2010 [00:00<00:03, 539.53it/s]"
     ]
    },
    {
     "name": "stdout",
     "output_type": "stream",
     "text": [
      "episode : 573 reward : 43.83843670962005\n",
      "total test reward=326.16820001884594\n"
     ]
    },
    {
     "name": "stderr",
     "output_type": "stream",
     "text": [
      "100%|█████████████████████████████████████████████████████████████████████████████| 2010/2010 [00:03<00:00, 541.97it/s]\n",
      "  3%|██▏                                                                            | 57/2010 [00:00<00:03, 566.15it/s]"
     ]
    },
    {
     "name": "stdout",
     "output_type": "stream",
     "text": [
      "episode : 574 reward : 139.5275795196174\n",
      "total test reward=326.2535724325756\n"
     ]
    },
    {
     "name": "stderr",
     "output_type": "stream",
     "text": [
      "100%|█████████████████████████████████████████████████████████████████████████████| 2010/2010 [00:03<00:00, 557.80it/s]\n",
      "  6%|████▍                                                                         | 115/2010 [00:00<00:03, 567.15it/s]"
     ]
    },
    {
     "name": "stdout",
     "output_type": "stream",
     "text": [
      "episode : 575 reward : 192.88587935601961\n",
      "total test reward=326.19268597702404\n"
     ]
    },
    {
     "name": "stderr",
     "output_type": "stream",
     "text": [
      "100%|█████████████████████████████████████████████████████████████████████████████| 2010/2010 [00:03<00:00, 550.67it/s]\n",
      "  3%|██                                                                             | 51/2010 [00:00<00:03, 501.45it/s]"
     ]
    },
    {
     "name": "stdout",
     "output_type": "stream",
     "text": [
      "episode : 576 reward : 65.39967953683909\n",
      "total test reward=326.416434083369\n"
     ]
    },
    {
     "name": "stderr",
     "output_type": "stream",
     "text": [
      "100%|█████████████████████████████████████████████████████████████████████████████| 2010/2010 [00:03<00:00, 540.81it/s]\n",
      "  3%|██▎                                                                            | 58/2010 [00:00<00:03, 569.96it/s]"
     ]
    },
    {
     "name": "stdout",
     "output_type": "stream",
     "text": [
      "episode : 577 reward : 9.840921500076853\n",
      "total test reward=299.7207545236762\n"
     ]
    },
    {
     "name": "stderr",
     "output_type": "stream",
     "text": [
      "100%|█████████████████████████████████████████████████████████████████████████████| 2010/2010 [00:03<00:00, 551.66it/s]\n",
      "  3%|██▏                                                                            | 57/2010 [00:00<00:03, 560.00it/s]"
     ]
    },
    {
     "name": "stdout",
     "output_type": "stream",
     "text": [
      "episode : 578 reward : 157.49285233576742\n",
      "total test reward=326.70396132250914\n"
     ]
    },
    {
     "name": "stderr",
     "output_type": "stream",
     "text": [
      "100%|█████████████████████████████████████████████████████████████████████████████| 2010/2010 [00:03<00:00, 539.89it/s]\n",
      "  3%|██▏                                                                            | 57/2010 [00:00<00:03, 566.04it/s]"
     ]
    },
    {
     "name": "stdout",
     "output_type": "stream",
     "text": [
      "episode : 579 reward : 81.01762470804047\n",
      "total test reward=270.63901956310895\n"
     ]
    },
    {
     "name": "stderr",
     "output_type": "stream",
     "text": [
      "100%|█████████████████████████████████████████████████████████████████████████████| 2010/2010 [00:03<00:00, 551.05it/s]\n",
      "  3%|██▎                                                                            | 58/2010 [00:00<00:03, 574.63it/s]"
     ]
    },
    {
     "name": "stdout",
     "output_type": "stream",
     "text": [
      "episode : 580 reward : 25.652038953060444\n",
      "total test reward=326.6763969316721\n"
     ]
    },
    {
     "name": "stderr",
     "output_type": "stream",
     "text": [
      "100%|█████████████████████████████████████████████████████████████████████████████| 2010/2010 [00:03<00:00, 560.05it/s]\n",
      "  3%|██▎                                                                            | 58/2010 [00:00<00:03, 569.92it/s]"
     ]
    },
    {
     "name": "stdout",
     "output_type": "stream",
     "text": [
      "episode : 581 reward : 13.762640630232832\n",
      "total test reward=303.3245134743282\n"
     ]
    },
    {
     "name": "stderr",
     "output_type": "stream",
     "text": [
      "100%|█████████████████████████████████████████████████████████████████████████████| 2010/2010 [00:03<00:00, 559.93it/s]\n",
      "  3%|██▏                                                                            | 56/2010 [00:00<00:03, 553.37it/s]"
     ]
    },
    {
     "name": "stdout",
     "output_type": "stream",
     "text": [
      "episode : 582 reward : 100.07517915665667\n",
      "total test reward=326.8942152822462\n"
     ]
    },
    {
     "name": "stderr",
     "output_type": "stream",
     "text": [
      "100%|█████████████████████████████████████████████████████████████████████████████| 2010/2010 [00:03<00:00, 560.47it/s]\n",
      "  3%|██▎                                                                            | 58/2010 [00:00<00:03, 570.07it/s]"
     ]
    },
    {
     "name": "stdout",
     "output_type": "stream",
     "text": [
      "episode : 583 reward : 52.558985511040355\n",
      "total test reward=327.0370495530871\n"
     ]
    },
    {
     "name": "stderr",
     "output_type": "stream",
     "text": [
      "100%|█████████████████████████████████████████████████████████████████████████████| 2010/2010 [00:03<00:00, 552.96it/s]\n",
      "  3%|██▏                                                                            | 56/2010 [00:00<00:03, 549.20it/s]"
     ]
    },
    {
     "name": "stdout",
     "output_type": "stream",
     "text": [
      "episode : 584 reward : 69.62311106437848\n",
      "total test reward=327.3148002772777\n"
     ]
    },
    {
     "name": "stderr",
     "output_type": "stream",
     "text": [
      "100%|█████████████████████████████████████████████████████████████████████████████| 2010/2010 [00:03<00:00, 560.80it/s]\n",
      "  3%|██▏                                                                            | 57/2010 [00:00<00:03, 569.86it/s]"
     ]
    },
    {
     "name": "stdout",
     "output_type": "stream",
     "text": [
      "episode : 585 reward : 136.06495950343074\n",
      "total test reward=327.82410184667384\n"
     ]
    },
    {
     "name": "stderr",
     "output_type": "stream",
     "text": [
      "100%|█████████████████████████████████████████████████████████████████████████████| 2010/2010 [00:03<00:00, 539.04it/s]\n",
      "  3%|██▎                                                                            | 58/2010 [00:00<00:03, 570.16it/s]"
     ]
    },
    {
     "name": "stdout",
     "output_type": "stream",
     "text": [
      "episode : 586 reward : 3.568206548581748\n",
      "total test reward=271.5098059965403\n"
     ]
    },
    {
     "name": "stderr",
     "output_type": "stream",
     "text": [
      "100%|█████████████████████████████████████████████████████████████████████████████| 2010/2010 [00:03<00:00, 549.45it/s]\n",
      "  3%|██▏                                                                            | 57/2010 [00:00<00:03, 568.80it/s]"
     ]
    },
    {
     "name": "stdout",
     "output_type": "stream",
     "text": [
      "episode : 587 reward : 21.97581632067099\n",
      "total test reward=328.2519613776045\n"
     ]
    },
    {
     "name": "stderr",
     "output_type": "stream",
     "text": [
      "100%|█████████████████████████████████████████████████████████████████████████████| 2010/2010 [00:03<00:00, 547.39it/s]\n",
      "  3%|██▎                                                                            | 58/2010 [00:00<00:03, 569.65it/s]"
     ]
    },
    {
     "name": "stdout",
     "output_type": "stream",
     "text": [
      "episode : 588 reward : 18.158255853448885\n",
      "total test reward=327.2819369070636\n"
     ]
    },
    {
     "name": "stderr",
     "output_type": "stream",
     "text": [
      "100%|█████████████████████████████████████████████████████████████████████████████| 2010/2010 [00:03<00:00, 551.86it/s]\n",
      "  3%|██▏                                                                            | 57/2010 [00:00<00:03, 565.68it/s]"
     ]
    },
    {
     "name": "stdout",
     "output_type": "stream",
     "text": [
      "episode : 589 reward : 186.72659683952904\n",
      "total test reward=273.2828290306185\n"
     ]
    },
    {
     "name": "stderr",
     "output_type": "stream",
     "text": [
      "100%|█████████████████████████████████████████████████████████████████████████████| 2010/2010 [00:03<00:00, 555.71it/s]\n",
      "  3%|██▎                                                                            | 58/2010 [00:00<00:03, 571.44it/s]"
     ]
    },
    {
     "name": "stdout",
     "output_type": "stream",
     "text": [
      "episode : 590 reward : 67.31440146269856\n",
      "total test reward=326.3117737564836\n"
     ]
    },
    {
     "name": "stderr",
     "output_type": "stream",
     "text": [
      "100%|█████████████████████████████████████████████████████████████████████████████| 2010/2010 [00:03<00:00, 556.29it/s]\n",
      "  3%|██▏                                                                            | 55/2010 [00:00<00:03, 548.72it/s]"
     ]
    },
    {
     "name": "stdout",
     "output_type": "stream",
     "text": [
      "episode : 591 reward : 83.32662768727118\n",
      "total test reward=326.6469590646995\n"
     ]
    },
    {
     "name": "stderr",
     "output_type": "stream",
     "text": [
      "100%|█████████████████████████████████████████████████████████████████████████████| 2010/2010 [00:03<00:00, 553.93it/s]\n",
      "  3%|██▏                                                                            | 57/2010 [00:00<00:03, 566.52it/s]"
     ]
    },
    {
     "name": "stdout",
     "output_type": "stream",
     "text": [
      "episode : 592 reward : 24.782022195576968\n",
      "total test reward=299.5131803806629\n"
     ]
    },
    {
     "name": "stderr",
     "output_type": "stream",
     "text": [
      "100%|█████████████████████████████████████████████████████████████████████████████| 2010/2010 [00:03<00:00, 557.78it/s]\n",
      "  3%|██▎                                                                            | 58/2010 [00:00<00:03, 575.79it/s]"
     ]
    },
    {
     "name": "stdout",
     "output_type": "stream",
     "text": [
      "episode : 593 reward : 30.378995553348332\n",
      "total test reward=315.1330101653746\n"
     ]
    },
    {
     "name": "stderr",
     "output_type": "stream",
     "text": [
      "100%|█████████████████████████████████████████████████████████████████████████████| 2010/2010 [00:03<00:00, 544.62it/s]\n",
      "  3%|██▏                                                                            | 55/2010 [00:00<00:03, 545.84it/s]"
     ]
    },
    {
     "name": "stdout",
     "output_type": "stream",
     "text": [
      "episode : 594 reward : 41.753692201793214\n",
      "total test reward=266.15555858121786\n"
     ]
    },
    {
     "name": "stderr",
     "output_type": "stream",
     "text": [
      "100%|█████████████████████████████████████████████████████████████████████████████| 2010/2010 [00:03<00:00, 554.45it/s]\n",
      "  3%|██▏                                                                            | 57/2010 [00:00<00:03, 560.31it/s]"
     ]
    },
    {
     "name": "stdout",
     "output_type": "stream",
     "text": [
      "episode : 595 reward : 80.12469424439612\n",
      "total test reward=301.5591132422608\n"
     ]
    },
    {
     "name": "stderr",
     "output_type": "stream",
     "text": [
      "100%|█████████████████████████████████████████████████████████████████████████████| 2010/2010 [00:03<00:00, 557.62it/s]\n",
      "  3%|██▏                                                                            | 56/2010 [00:00<00:03, 556.69it/s]"
     ]
    },
    {
     "name": "stdout",
     "output_type": "stream",
     "text": [
      "episode : 596 reward : 25.29923468371645\n",
      "total test reward=319.44098148618406\n"
     ]
    },
    {
     "name": "stderr",
     "output_type": "stream",
     "text": [
      "100%|█████████████████████████████████████████████████████████████████████████████| 2010/2010 [00:03<00:00, 535.25it/s]\n",
      "  2%|█▉                                                                             | 50/2010 [00:00<00:03, 491.50it/s]"
     ]
    },
    {
     "name": "stdout",
     "output_type": "stream",
     "text": [
      "episode : 597 reward : 106.9755828365429\n",
      "total test reward=327.00425454688525\n"
     ]
    },
    {
     "name": "stderr",
     "output_type": "stream",
     "text": [
      "100%|█████████████████████████████████████████████████████████████████████████████| 2010/2010 [00:04<00:00, 467.17it/s]\n",
      "  3%|██▏                                                                            | 56/2010 [00:00<00:03, 559.77it/s]"
     ]
    },
    {
     "name": "stdout",
     "output_type": "stream",
     "text": [
      "episode : 598 reward : 80.42956614172536\n",
      "total test reward=294.63192562833626\n"
     ]
    },
    {
     "name": "stderr",
     "output_type": "stream",
     "text": [
      "100%|█████████████████████████████████████████████████████████████████████████████| 2010/2010 [00:03<00:00, 550.43it/s]\n",
      "  3%|██▏                                                                            | 56/2010 [00:00<00:03, 555.61it/s]"
     ]
    },
    {
     "name": "stdout",
     "output_type": "stream",
     "text": [
      "episode : 599 reward : 95.49707106709296\n",
      "total test reward=292.71833387436783\n"
     ]
    },
    {
     "name": "stderr",
     "output_type": "stream",
     "text": [
      "100%|█████████████████████████████████████████████████████████████████████████████| 2010/2010 [00:03<00:00, 554.67it/s]\n",
      "  3%|██▎                                                                            | 58/2010 [00:00<00:03, 566.93it/s]"
     ]
    },
    {
     "name": "stdout",
     "output_type": "stream",
     "text": [
      "episode : 600 reward : 84.03495621464161\n",
      "total test reward=250.79072946814048\n"
     ]
    },
    {
     "name": "stderr",
     "output_type": "stream",
     "text": [
      "100%|█████████████████████████████████████████████████████████████████████████████| 2010/2010 [00:03<00:00, 557.51it/s]\n",
      "  3%|██▏                                                                            | 57/2010 [00:00<00:03, 568.28it/s]"
     ]
    },
    {
     "name": "stdout",
     "output_type": "stream",
     "text": [
      "episode : 601 reward : 140.80576176243784\n",
      "total test reward=293.44837226548816\n"
     ]
    },
    {
     "name": "stderr",
     "output_type": "stream",
     "text": [
      "100%|█████████████████████████████████████████████████████████████████████████████| 2010/2010 [00:03<00:00, 545.86it/s]\n",
      "  3%|██▏                                                                            | 57/2010 [00:00<00:03, 560.55it/s]"
     ]
    },
    {
     "name": "stdout",
     "output_type": "stream",
     "text": [
      "episode : 602 reward : 319.4870264443519\n",
      "total test reward=268.6805110192339\n"
     ]
    },
    {
     "name": "stderr",
     "output_type": "stream",
     "text": [
      "100%|█████████████████████████████████████████████████████████████████████████████| 2010/2010 [00:03<00:00, 524.08it/s]\n",
      "  3%|██▏                                                                            | 57/2010 [00:00<00:03, 562.82it/s]"
     ]
    },
    {
     "name": "stdout",
     "output_type": "stream",
     "text": [
      "episode : 603 reward : 64.36133135304924\n",
      "total test reward=326.3119529281327\n"
     ]
    },
    {
     "name": "stderr",
     "output_type": "stream",
     "text": [
      "100%|█████████████████████████████████████████████████████████████████████████████| 2010/2010 [00:03<00:00, 559.63it/s]\n",
      "  2%|█▉                                                                             | 50/2010 [00:00<00:03, 491.51it/s]"
     ]
    },
    {
     "name": "stdout",
     "output_type": "stream",
     "text": [
      "episode : 604 reward : 119.71933777895269\n",
      "total test reward=282.31540644696463\n"
     ]
    },
    {
     "name": "stderr",
     "output_type": "stream",
     "text": [
      "100%|█████████████████████████████████████████████████████████████████████████████| 2010/2010 [00:04<00:00, 498.31it/s]\n",
      "  3%|██                                                                             | 51/2010 [00:00<00:03, 491.70it/s]"
     ]
    },
    {
     "name": "stdout",
     "output_type": "stream",
     "text": [
      "episode : 605 reward : 57.93060587941853\n",
      "total test reward=288.5389133638203\n"
     ]
    },
    {
     "name": "stderr",
     "output_type": "stream",
     "text": [
      "100%|█████████████████████████████████████████████████████████████████████████████| 2010/2010 [00:03<00:00, 543.54it/s]\n",
      "  3%|██▎                                                                            | 58/2010 [00:00<00:03, 575.99it/s]"
     ]
    },
    {
     "name": "stdout",
     "output_type": "stream",
     "text": [
      "episode : 606 reward : 44.128908963753695\n",
      "total test reward=291.23685230094213\n"
     ]
    },
    {
     "name": "stderr",
     "output_type": "stream",
     "text": [
      "100%|█████████████████████████████████████████████████████████████████████████████| 2010/2010 [00:03<00:00, 582.48it/s]\n",
      "  3%|██▎                                                                            | 59/2010 [00:00<00:03, 585.55it/s]"
     ]
    },
    {
     "name": "stdout",
     "output_type": "stream",
     "text": [
      "episode : 607 reward : 56.90821522313484\n",
      "total test reward=326.94512614002736\n"
     ]
    },
    {
     "name": "stderr",
     "output_type": "stream",
     "text": [
      "100%|█████████████████████████████████████████████████████████████████████████████| 2010/2010 [00:03<00:00, 580.46it/s]\n",
      "  2%|█▉                                                                             | 49/2010 [00:00<00:04, 486.60it/s]"
     ]
    },
    {
     "name": "stdout",
     "output_type": "stream",
     "text": [
      "episode : 608 reward : 99.32785777092934\n",
      "total test reward=327.2943032404712\n"
     ]
    },
    {
     "name": "stderr",
     "output_type": "stream",
     "text": [
      "100%|█████████████████████████████████████████████████████████████████████████████| 2010/2010 [00:03<00:00, 516.23it/s]\n",
      "  3%|██▏                                                                            | 55/2010 [00:00<00:03, 545.59it/s]"
     ]
    },
    {
     "name": "stdout",
     "output_type": "stream",
     "text": [
      "episode : 609 reward : 102.75217307959385\n",
      "total test reward=326.4941705849993\n"
     ]
    },
    {
     "name": "stderr",
     "output_type": "stream",
     "text": [
      "100%|█████████████████████████████████████████████████████████████████████████████| 2010/2010 [00:03<00:00, 527.01it/s]\n",
      "  3%|██                                                                             | 51/2010 [00:00<00:03, 501.04it/s]"
     ]
    },
    {
     "name": "stdout",
     "output_type": "stream",
     "text": [
      "episode : 610 reward : 167.54613044667147\n",
      "total test reward=325.93146960666786\n"
     ]
    },
    {
     "name": "stderr",
     "output_type": "stream",
     "text": [
      "100%|█████████████████████████████████████████████████████████████████████████████| 2010/2010 [00:03<00:00, 528.57it/s]\n",
      "  3%|██▏                                                                            | 55/2010 [00:00<00:03, 540.52it/s]"
     ]
    },
    {
     "name": "stdout",
     "output_type": "stream",
     "text": [
      "episode : 611 reward : 102.26393930657599\n",
      "total test reward=326.8307940170114\n"
     ]
    },
    {
     "name": "stderr",
     "output_type": "stream",
     "text": [
      "100%|█████████████████████████████████████████████████████████████████████████████| 2010/2010 [00:03<00:00, 541.40it/s]\n",
      "  3%|██▏                                                                            | 55/2010 [00:00<00:03, 549.46it/s]"
     ]
    },
    {
     "name": "stdout",
     "output_type": "stream",
     "text": [
      "episode : 612 reward : 245.50364083636111\n",
      "total test reward=326.8380927081217\n"
     ]
    },
    {
     "name": "stderr",
     "output_type": "stream",
     "text": [
      "100%|█████████████████████████████████████████████████████████████████████████████| 2010/2010 [00:03<00:00, 519.07it/s]\n",
      "  3%|██                                                                             | 52/2010 [00:00<00:03, 511.30it/s]"
     ]
    },
    {
     "name": "stdout",
     "output_type": "stream",
     "text": [
      "episode : 613 reward : 31.20119370199243\n",
      "total test reward=306.2544345909054\n"
     ]
    },
    {
     "name": "stderr",
     "output_type": "stream",
     "text": [
      "100%|█████████████████████████████████████████████████████████████████████████████| 2010/2010 [00:03<00:00, 513.36it/s]\n",
      "  3%|██                                                                             | 54/2010 [00:00<00:03, 530.79it/s]"
     ]
    },
    {
     "name": "stdout",
     "output_type": "stream",
     "text": [
      "episode : 614 reward : 257.7532260928068\n",
      "total test reward=326.3169988465127\n"
     ]
    },
    {
     "name": "stderr",
     "output_type": "stream",
     "text": [
      "100%|█████████████████████████████████████████████████████████████████████████████| 2010/2010 [00:04<00:00, 480.08it/s]\n",
      "  3%|██                                                                             | 54/2010 [00:00<00:03, 539.10it/s]"
     ]
    },
    {
     "name": "stdout",
     "output_type": "stream",
     "text": [
      "episode : 615 reward : 100.64285289851809\n",
      "total test reward=326.1997454696053\n"
     ]
    },
    {
     "name": "stderr",
     "output_type": "stream",
     "text": [
      "100%|█████████████████████████████████████████████████████████████████████████████| 2010/2010 [00:03<00:00, 539.81it/s]\n",
      "  3%|██                                                                             | 53/2010 [00:00<00:03, 528.95it/s]"
     ]
    },
    {
     "name": "stdout",
     "output_type": "stream",
     "text": [
      "episode : 616 reward : 64.36513961537091\n",
      "total test reward=238.94921007117136\n"
     ]
    },
    {
     "name": "stderr",
     "output_type": "stream",
     "text": [
      "100%|█████████████████████████████████████████████████████████████████████████████| 2010/2010 [00:03<00:00, 522.84it/s]\n",
      "  3%|██                                                                             | 54/2010 [00:00<00:03, 536.09it/s]"
     ]
    },
    {
     "name": "stdout",
     "output_type": "stream",
     "text": [
      "episode : 617 reward : 119.34574253679024\n",
      "total test reward=265.8459347924201\n"
     ]
    },
    {
     "name": "stderr",
     "output_type": "stream",
     "text": [
      "100%|█████████████████████████████████████████████████████████████████████████████| 2010/2010 [00:03<00:00, 522.17it/s]\n",
      "  3%|██▏                                                                            | 55/2010 [00:00<00:03, 545.35it/s]"
     ]
    },
    {
     "name": "stdout",
     "output_type": "stream",
     "text": [
      "episode : 618 reward : 214.72389491691493\n",
      "total test reward=199.6873532293214\n"
     ]
    },
    {
     "name": "stderr",
     "output_type": "stream",
     "text": [
      "100%|█████████████████████████████████████████████████████████████████████████████| 2010/2010 [00:03<00:00, 538.20it/s]\n",
      "  2%|█▉                                                                             | 49/2010 [00:00<00:04, 481.66it/s]"
     ]
    },
    {
     "name": "stdout",
     "output_type": "stream",
     "text": [
      "episode : 619 reward : 116.41564580512207\n",
      "total test reward=21.120554860300853\n"
     ]
    },
    {
     "name": "stderr",
     "output_type": "stream",
     "text": [
      "100%|█████████████████████████████████████████████████████████████████████████████| 2010/2010 [00:03<00:00, 532.48it/s]\n",
      "  3%|██                                                                             | 54/2010 [00:00<00:03, 536.09it/s]"
     ]
    },
    {
     "name": "stdout",
     "output_type": "stream",
     "text": [
      "episode : 620 reward : 102.08733518769843\n",
      "total test reward=299.2898643938233\n"
     ]
    },
    {
     "name": "stderr",
     "output_type": "stream",
     "text": [
      "100%|█████████████████████████████████████████████████████████████████████████████| 2010/2010 [00:03<00:00, 538.41it/s]\n",
      "  2%|█▊                                                                             | 46/2010 [00:00<00:04, 459.09it/s]"
     ]
    },
    {
     "name": "stdout",
     "output_type": "stream",
     "text": [
      "episode : 621 reward : 83.08077975427481\n",
      "total test reward=326.15973307825317\n"
     ]
    },
    {
     "name": "stderr",
     "output_type": "stream",
     "text": [
      "100%|█████████████████████████████████████████████████████████████████████████████| 2010/2010 [00:03<00:00, 519.43it/s]\n",
      "  5%|████                                                                          | 105/2010 [00:00<00:03, 510.29it/s]"
     ]
    },
    {
     "name": "stdout",
     "output_type": "stream",
     "text": [
      "episode : 622 reward : 41.468486020488214\n",
      "total test reward=263.76108341540856\n"
     ]
    },
    {
     "name": "stderr",
     "output_type": "stream",
     "text": [
      "100%|█████████████████████████████████████████████████████████████████████████████| 2010/2010 [00:03<00:00, 517.55it/s]\n",
      "  3%|██                                                                             | 51/2010 [00:00<00:03, 506.31it/s]"
     ]
    },
    {
     "name": "stdout",
     "output_type": "stream",
     "text": [
      "episode : 623 reward : 21.556074932263783\n",
      "total test reward=326.37690577026177\n"
     ]
    },
    {
     "name": "stderr",
     "output_type": "stream",
     "text": [
      "100%|█████████████████████████████████████████████████████████████████████████████| 2010/2010 [00:03<00:00, 538.63it/s]\n",
      "  3%|██▏                                                                            | 56/2010 [00:00<00:03, 549.47it/s]"
     ]
    },
    {
     "name": "stdout",
     "output_type": "stream",
     "text": [
      "episode : 624 reward : 1.506213449533277\n",
      "total test reward=306.02125620276314\n"
     ]
    },
    {
     "name": "stderr",
     "output_type": "stream",
     "text": [
      "100%|█████████████████████████████████████████████████████████████████████████████| 2010/2010 [00:03<00:00, 517.61it/s]\n",
      "  3%|██▏                                                                            | 55/2010 [00:00<00:03, 544.75it/s]"
     ]
    },
    {
     "name": "stdout",
     "output_type": "stream",
     "text": [
      "episode : 625 reward : 70.82949246087598\n",
      "total test reward=231.53820712949013\n"
     ]
    },
    {
     "name": "stderr",
     "output_type": "stream",
     "text": [
      "100%|█████████████████████████████████████████████████████████████████████████████| 2010/2010 [00:03<00:00, 535.56it/s]\n",
      "  3%|██                                                                             | 54/2010 [00:00<00:03, 536.08it/s]"
     ]
    },
    {
     "name": "stdout",
     "output_type": "stream",
     "text": [
      "episode : 626 reward : 14.357521837006136\n",
      "total test reward=186.78282909522983\n"
     ]
    },
    {
     "name": "stderr",
     "output_type": "stream",
     "text": [
      "100%|█████████████████████████████████████████████████████████████████████████████| 2010/2010 [00:03<00:00, 520.17it/s]\n",
      "  3%|██▏                                                                            | 55/2010 [00:00<00:03, 540.66it/s]"
     ]
    },
    {
     "name": "stdout",
     "output_type": "stream",
     "text": [
      "episode : 627 reward : 18.60414416965439\n",
      "total test reward=326.81420041510034\n"
     ]
    },
    {
     "name": "stderr",
     "output_type": "stream",
     "text": [
      "100%|█████████████████████████████████████████████████████████████████████████████| 2010/2010 [00:03<00:00, 535.02it/s]\n",
      "  3%|██▏                                                                            | 55/2010 [00:00<00:03, 540.70it/s]"
     ]
    },
    {
     "name": "stdout",
     "output_type": "stream",
     "text": [
      "episode : 628 reward : 127.28393991275578\n",
      "total test reward=20.674507441063845\n"
     ]
    },
    {
     "name": "stderr",
     "output_type": "stream",
     "text": [
      "100%|█████████████████████████████████████████████████████████████████████████████| 2010/2010 [00:03<00:00, 536.56it/s]\n",
      "  3%|██▏                                                                            | 56/2010 [00:00<00:03, 555.46it/s]"
     ]
    },
    {
     "name": "stdout",
     "output_type": "stream",
     "text": [
      "episode : 629 reward : 124.81105514504839\n",
      "total test reward=250.10338188898695\n"
     ]
    },
    {
     "name": "stderr",
     "output_type": "stream",
     "text": [
      "100%|█████████████████████████████████████████████████████████████████████████████| 2010/2010 [00:03<00:00, 528.59it/s]\n",
      "  3%|██▏                                                                            | 55/2010 [00:00<00:03, 548.21it/s]"
     ]
    },
    {
     "name": "stdout",
     "output_type": "stream",
     "text": [
      "episode : 630 reward : 19.85976172472912\n",
      "total test reward=263.71164282110163\n"
     ]
    },
    {
     "name": "stderr",
     "output_type": "stream",
     "text": [
      "100%|█████████████████████████████████████████████████████████████████████████████| 2010/2010 [00:04<00:00, 481.29it/s]\n",
      "  1%|█                                                                              | 26/2010 [00:00<00:07, 257.92it/s]"
     ]
    },
    {
     "name": "stdout",
     "output_type": "stream",
     "text": [
      "episode : 631 reward : 144.22223272619368\n",
      "total test reward=265.11561741057744\n"
     ]
    },
    {
     "name": "stderr",
     "output_type": "stream",
     "text": [
      "100%|█████████████████████████████████████████████████████████████████████████████| 2010/2010 [00:04<00:00, 477.86it/s]\n",
      "  3%|██▏                                                                            | 55/2010 [00:00<00:03, 543.87it/s]"
     ]
    },
    {
     "name": "stdout",
     "output_type": "stream",
     "text": [
      "episode : 632 reward : 69.24457545446788\n",
      "total test reward=325.8074507781033\n"
     ]
    },
    {
     "name": "stderr",
     "output_type": "stream",
     "text": [
      "100%|█████████████████████████████████████████████████████████████████████████████| 2010/2010 [00:03<00:00, 538.89it/s]\n",
      "  3%|██                                                                             | 53/2010 [00:00<00:03, 526.35it/s]"
     ]
    },
    {
     "name": "stdout",
     "output_type": "stream",
     "text": [
      "episode : 633 reward : 102.27938089159352\n",
      "total test reward=325.63160854125243\n"
     ]
    },
    {
     "name": "stderr",
     "output_type": "stream",
     "text": [
      "100%|█████████████████████████████████████████████████████████████████████████████| 2010/2010 [00:03<00:00, 529.79it/s]\n",
      "  3%|██▏                                                                            | 56/2010 [00:00<00:03, 555.94it/s]"
     ]
    },
    {
     "name": "stdout",
     "output_type": "stream",
     "text": [
      "episode : 634 reward : 157.97881279664034\n",
      "total test reward=293.90304962135997\n"
     ]
    },
    {
     "name": "stderr",
     "output_type": "stream",
     "text": [
      "100%|█████████████████████████████████████████████████████████████████████████████| 2010/2010 [00:03<00:00, 504.54it/s]\n",
      "  1%|█▏                                                                             | 30/2010 [00:00<00:06, 294.91it/s]"
     ]
    },
    {
     "name": "stdout",
     "output_type": "stream",
     "text": [
      "episode : 635 reward : 43.656996064559955\n",
      "total test reward=310.9783378895205\n"
     ]
    },
    {
     "name": "stderr",
     "output_type": "stream",
     "text": [
      "100%|█████████████████████████████████████████████████████████████████████████████| 2010/2010 [00:04<00:00, 490.51it/s]\n",
      "  3%|██                                                                             | 52/2010 [00:00<00:03, 511.30it/s]"
     ]
    },
    {
     "name": "stdout",
     "output_type": "stream",
     "text": [
      "episode : 636 reward : 211.47017970817737\n",
      "total test reward=289.0507965879858\n"
     ]
    },
    {
     "name": "stderr",
     "output_type": "stream",
     "text": [
      "100%|█████████████████████████████████████████████████████████████████████████████| 2010/2010 [00:04<00:00, 448.35it/s]\n",
      "  2%|█▋                                                                             | 42/2010 [00:00<00:04, 416.95it/s]"
     ]
    },
    {
     "name": "stdout",
     "output_type": "stream",
     "text": [
      "episode : 637 reward : 41.34474450036026\n",
      "total test reward=326.51583319865415\n"
     ]
    },
    {
     "name": "stderr",
     "output_type": "stream",
     "text": [
      "100%|█████████████████████████████████████████████████████████████████████████████| 2010/2010 [00:04<00:00, 479.76it/s]\n",
      "  3%|██▏                                                                            | 55/2010 [00:00<00:03, 540.66it/s]"
     ]
    },
    {
     "name": "stdout",
     "output_type": "stream",
     "text": [
      "episode : 638 reward : 36.29973241215849\n",
      "total test reward=326.954221791659\n"
     ]
    },
    {
     "name": "stderr",
     "output_type": "stream",
     "text": [
      "100%|█████████████████████████████████████████████████████████████████████████████| 2010/2010 [00:03<00:00, 530.99it/s]\n",
      "  3%|██▏                                                                            | 56/2010 [00:00<00:03, 550.12it/s]"
     ]
    },
    {
     "name": "stdout",
     "output_type": "stream",
     "text": [
      "episode : 639 reward : 104.67318296364273\n",
      "total test reward=327.53332980461\n"
     ]
    },
    {
     "name": "stderr",
     "output_type": "stream",
     "text": [
      "100%|█████████████████████████████████████████████████████████████████████████████| 2010/2010 [00:03<00:00, 527.22it/s]\n",
      "  4%|███▎                                                                           | 85/2010 [00:00<00:04, 419.69it/s]"
     ]
    },
    {
     "name": "stdout",
     "output_type": "stream",
     "text": [
      "episode : 640 reward : 23.2683900884303\n",
      "total test reward=272.4612451446461\n"
     ]
    },
    {
     "name": "stderr",
     "output_type": "stream",
     "text": [
      "100%|█████████████████████████████████████████████████████████████████████████████| 2010/2010 [00:04<00:00, 468.41it/s]\n",
      "  2%|█▊                                                                             | 46/2010 [00:00<00:04, 456.48it/s]"
     ]
    },
    {
     "name": "stdout",
     "output_type": "stream",
     "text": [
      "episode : 641 reward : 12.979688195050393\n",
      "total test reward=327.5073342092029\n"
     ]
    },
    {
     "name": "stderr",
     "output_type": "stream",
     "text": [
      "100%|█████████████████████████████████████████████████████████████████████████████| 2010/2010 [00:04<00:00, 449.61it/s]\n",
      "  3%|██▏                                                                            | 55/2010 [00:00<00:03, 546.01it/s]"
     ]
    },
    {
     "name": "stdout",
     "output_type": "stream",
     "text": [
      "episode : 642 reward : 37.64269610043531\n",
      "total test reward=327.2855788301018\n"
     ]
    },
    {
     "name": "stderr",
     "output_type": "stream",
     "text": [
      "100%|█████████████████████████████████████████████████████████████████████████████| 2010/2010 [00:04<00:00, 468.82it/s]\n",
      "  3%|██▏                                                                            | 55/2010 [00:00<00:03, 545.71it/s]"
     ]
    },
    {
     "name": "stdout",
     "output_type": "stream",
     "text": [
      "episode : 643 reward : 21.62159986255558\n",
      "total test reward=280.7359761211508\n"
     ]
    },
    {
     "name": "stderr",
     "output_type": "stream",
     "text": [
      "100%|█████████████████████████████████████████████████████████████████████████████| 2010/2010 [00:03<00:00, 530.40it/s]\n",
      "  3%|██▏                                                                            | 55/2010 [00:00<00:03, 545.63it/s]"
     ]
    },
    {
     "name": "stdout",
     "output_type": "stream",
     "text": [
      "episode : 644 reward : 154.30252820085994\n",
      "total test reward=326.83541350282695\n"
     ]
    },
    {
     "name": "stderr",
     "output_type": "stream",
     "text": [
      "100%|█████████████████████████████████████████████████████████████████████████████| 2010/2010 [00:03<00:00, 513.18it/s]\n",
      "  3%|██▏                                                                            | 56/2010 [00:00<00:03, 550.49it/s]"
     ]
    },
    {
     "name": "stdout",
     "output_type": "stream",
     "text": [
      "episode : 645 reward : 1.5545949446861118\n",
      "total test reward=327.32883066922005\n"
     ]
    },
    {
     "name": "stderr",
     "output_type": "stream",
     "text": [
      "100%|█████████████████████████████████████████████████████████████████████████████| 2010/2010 [00:03<00:00, 537.42it/s]\n",
      "  2%|█▌                                                                             | 39/2010 [00:00<00:05, 383.36it/s]"
     ]
    },
    {
     "name": "stdout",
     "output_type": "stream",
     "text": [
      "episode : 646 reward : 71.76292447971753\n",
      "total test reward=326.82924454275275\n"
     ]
    },
    {
     "name": "stderr",
     "output_type": "stream",
     "text": [
      "100%|█████████████████████████████████████████████████████████████████████████████| 2010/2010 [00:04<00:00, 475.28it/s]\n",
      "  3%|██▏                                                                            | 57/2010 [00:00<00:03, 560.32it/s]"
     ]
    },
    {
     "name": "stdout",
     "output_type": "stream",
     "text": [
      "episode : 647 reward : 126.02805938124672\n",
      "total test reward=326.425584453593\n"
     ]
    },
    {
     "name": "stderr",
     "output_type": "stream",
     "text": [
      "100%|█████████████████████████████████████████████████████████████████████████████| 2010/2010 [00:03<00:00, 513.29it/s]\n",
      "  3%|██▏                                                                            | 56/2010 [00:00<00:03, 555.76it/s]"
     ]
    },
    {
     "name": "stdout",
     "output_type": "stream",
     "text": [
      "episode : 648 reward : 68.40244263758161\n",
      "total test reward=326.5107151900219\n"
     ]
    },
    {
     "name": "stderr",
     "output_type": "stream",
     "text": [
      "100%|█████████████████████████████████████████████████████████████████████████████| 2010/2010 [00:03<00:00, 527.58it/s]\n",
      "  3%|██                                                                             | 53/2010 [00:00<00:03, 526.02it/s]"
     ]
    },
    {
     "name": "stdout",
     "output_type": "stream",
     "text": [
      "episode : 649 reward : 86.24306042538903\n",
      "total test reward=327.7059975683058\n"
     ]
    },
    {
     "name": "stderr",
     "output_type": "stream",
     "text": [
      "100%|█████████████████████████████████████████████████████████████████████████████| 2010/2010 [00:03<00:00, 512.04it/s]\n",
      "  3%|██▏                                                                            | 55/2010 [00:00<00:03, 540.85it/s]"
     ]
    },
    {
     "name": "stdout",
     "output_type": "stream",
     "text": [
      "episode : 650 reward : 95.23656114668735\n",
      "total test reward=327.7961400942604\n"
     ]
    },
    {
     "name": "stderr",
     "output_type": "stream",
     "text": [
      "100%|█████████████████████████████████████████████████████████████████████████████| 2010/2010 [00:03<00:00, 548.10it/s]\n",
      "  3%|██▏                                                                            | 55/2010 [00:00<00:03, 546.01it/s]"
     ]
    },
    {
     "name": "stdout",
     "output_type": "stream",
     "text": [
      "episode : 651 reward : 43.477996903030025\n",
      "total test reward=327.5151491915387\n"
     ]
    },
    {
     "name": "stderr",
     "output_type": "stream",
     "text": [
      "100%|█████████████████████████████████████████████████████████████████████████████| 2010/2010 [00:03<00:00, 524.00it/s]\n",
      "  3%|██▏                                                                            | 57/2010 [00:00<00:03, 560.49it/s]"
     ]
    },
    {
     "name": "stdout",
     "output_type": "stream",
     "text": [
      "episode : 652 reward : 56.10766205116624\n",
      "total test reward=313.24512457817383\n"
     ]
    },
    {
     "name": "stderr",
     "output_type": "stream",
     "text": [
      "100%|█████████████████████████████████████████████████████████████████████████████| 2010/2010 [00:03<00:00, 548.55it/s]\n",
      "  3%|██▏                                                                            | 57/2010 [00:00<00:03, 560.31it/s]"
     ]
    },
    {
     "name": "stdout",
     "output_type": "stream",
     "text": [
      "episode : 653 reward : 47.947270813859745\n",
      "total test reward=327.36765861231186\n"
     ]
    },
    {
     "name": "stderr",
     "output_type": "stream",
     "text": [
      "100%|█████████████████████████████████████████████████████████████████████████████| 2010/2010 [00:03<00:00, 531.06it/s]\n",
      "  5%|████                                                                          | 106/2010 [00:00<00:03, 528.23it/s]"
     ]
    },
    {
     "name": "stdout",
     "output_type": "stream",
     "text": [
      "episode : 654 reward : 7.659828516356535\n",
      "total test reward=327.8594043228418\n"
     ]
    },
    {
     "name": "stderr",
     "output_type": "stream",
     "text": [
      "100%|█████████████████████████████████████████████████████████████████████████████| 2010/2010 [00:03<00:00, 535.58it/s]\n",
      "  3%|██▏                                                                            | 56/2010 [00:00<00:03, 550.49it/s]"
     ]
    },
    {
     "name": "stdout",
     "output_type": "stream",
     "text": [
      "episode : 655 reward : 33.02571551410387\n",
      "total test reward=327.57340041239564\n"
     ]
    },
    {
     "name": "stderr",
     "output_type": "stream",
     "text": [
      "100%|█████████████████████████████████████████████████████████████████████████████| 2010/2010 [00:03<00:00, 521.31it/s]\n",
      "  3%|██                                                                             | 54/2010 [00:00<00:03, 530.83it/s]"
     ]
    },
    {
     "name": "stdout",
     "output_type": "stream",
     "text": [
      "episode : 656 reward : 51.30273069911108\n",
      "total test reward=327.6979812184687\n"
     ]
    },
    {
     "name": "stderr",
     "output_type": "stream",
     "text": [
      "100%|█████████████████████████████████████████████████████████████████████████████| 2010/2010 [00:03<00:00, 533.73it/s]\n",
      "  3%|██▏                                                                            | 57/2010 [00:00<00:03, 565.69it/s]"
     ]
    },
    {
     "name": "stdout",
     "output_type": "stream",
     "text": [
      "episode : 657 reward : 106.79270725533615\n",
      "total test reward=327.40852375416574\n"
     ]
    },
    {
     "name": "stderr",
     "output_type": "stream",
     "text": [
      "100%|█████████████████████████████████████████████████████████████████████████████| 2010/2010 [00:03<00:00, 508.42it/s]\n",
      "  3%|██▏                                                                            | 56/2010 [00:00<00:03, 555.76it/s]"
     ]
    },
    {
     "name": "stdout",
     "output_type": "stream",
     "text": [
      "episode : 658 reward : 180.50174895400775\n",
      "total test reward=328.0808086806265\n"
     ]
    },
    {
     "name": "stderr",
     "output_type": "stream",
     "text": [
      "100%|█████████████████████████████████████████████████████████████████████████████| 2010/2010 [00:03<00:00, 558.43it/s]\n",
      "  3%|██▎                                                                            | 59/2010 [00:00<00:03, 579.79it/s]"
     ]
    },
    {
     "name": "stdout",
     "output_type": "stream",
     "text": [
      "episode : 659 reward : 40.52147481974843\n",
      "total test reward=327.9297040936365\n"
     ]
    },
    {
     "name": "stderr",
     "output_type": "stream",
     "text": [
      "100%|█████████████████████████████████████████████████████████████████████████████| 2010/2010 [00:03<00:00, 561.07it/s]\n",
      "  3%|██                                                                             | 54/2010 [00:00<00:03, 536.09it/s]"
     ]
    },
    {
     "name": "stdout",
     "output_type": "stream",
     "text": [
      "episode : 660 reward : 89.3785327203215\n",
      "total test reward=327.698818136035\n"
     ]
    },
    {
     "name": "stderr",
     "output_type": "stream",
     "text": [
      "100%|█████████████████████████████████████████████████████████████████████████████| 2010/2010 [00:03<00:00, 535.43it/s]\n",
      "  3%|██▏                                                                            | 56/2010 [00:00<00:03, 550.49it/s]"
     ]
    },
    {
     "name": "stdout",
     "output_type": "stream",
     "text": [
      "episode : 661 reward : 41.86405380699231\n",
      "total test reward=327.3326898006326\n"
     ]
    },
    {
     "name": "stderr",
     "output_type": "stream",
     "text": [
      "100%|█████████████████████████████████████████████████████████████████████████████| 2010/2010 [00:04<00:00, 500.59it/s]\n",
      "  3%|██▏                                                                            | 57/2010 [00:00<00:03, 560.33it/s]"
     ]
    },
    {
     "name": "stdout",
     "output_type": "stream",
     "text": [
      "episode : 662 reward : 318.3859880162055\n",
      "total test reward=327.21647905742714\n"
     ]
    },
    {
     "name": "stderr",
     "output_type": "stream",
     "text": [
      "100%|█████████████████████████████████████████████████████████████████████████████| 2010/2010 [00:04<00:00, 479.85it/s]\n",
      "  2%|█▊                                                                             | 45/2010 [00:00<00:04, 438.19it/s]"
     ]
    },
    {
     "name": "stdout",
     "output_type": "stream",
     "text": [
      "episode : 663 reward : 8.640797482952998\n",
      "total test reward=327.74133618300993\n"
     ]
    },
    {
     "name": "stderr",
     "output_type": "stream",
     "text": [
      "100%|█████████████████████████████████████████████████████████████████████████████| 2010/2010 [00:04<00:00, 477.98it/s]\n",
      "  2%|█▉                                                                             | 49/2010 [00:00<00:04, 486.39it/s]"
     ]
    },
    {
     "name": "stdout",
     "output_type": "stream",
     "text": [
      "episode : 664 reward : 103.34650834608182\n",
      "total test reward=277.9863765951105\n"
     ]
    },
    {
     "name": "stderr",
     "output_type": "stream",
     "text": [
      "100%|█████████████████████████████████████████████████████████████████████████████| 2010/2010 [00:04<00:00, 502.03it/s]\n",
      "  3%|██                                                                             | 51/2010 [00:00<00:03, 500.90it/s]"
     ]
    },
    {
     "name": "stdout",
     "output_type": "stream",
     "text": [
      "episode : 665 reward : 200.59850378395575\n",
      "total test reward=328.0169954048671\n"
     ]
    },
    {
     "name": "stderr",
     "output_type": "stream",
     "text": [
      "100%|█████████████████████████████████████████████████████████████████████████████| 2010/2010 [00:03<00:00, 515.28it/s]\n",
      "  3%|██▏                                                                            | 55/2010 [00:00<00:03, 546.65it/s]"
     ]
    },
    {
     "name": "stdout",
     "output_type": "stream",
     "text": [
      "episode : 666 reward : 161.3002332095095\n",
      "total test reward=327.9768739667141\n"
     ]
    },
    {
     "name": "stderr",
     "output_type": "stream",
     "text": [
      "100%|█████████████████████████████████████████████████████████████████████████████| 2010/2010 [00:03<00:00, 513.39it/s]\n",
      "  3%|██▏                                                                            | 55/2010 [00:00<00:03, 546.05it/s]"
     ]
    },
    {
     "name": "stdout",
     "output_type": "stream",
     "text": [
      "episode : 667 reward : 79.6519862553943\n",
      "total test reward=290.314028721323\n"
     ]
    },
    {
     "name": "stderr",
     "output_type": "stream",
     "text": [
      "100%|█████████████████████████████████████████████████████████████████████████████| 2010/2010 [00:03<00:00, 530.86it/s]\n",
      "  3%|██                                                                             | 53/2010 [00:00<00:03, 529.35it/s]"
     ]
    },
    {
     "name": "stdout",
     "output_type": "stream",
     "text": [
      "episode : 668 reward : 75.85228592216858\n",
      "total test reward=313.6946280845332\n"
     ]
    },
    {
     "name": "stderr",
     "output_type": "stream",
     "text": [
      "100%|█████████████████████████████████████████████████████████████████████████████| 2010/2010 [00:03<00:00, 527.05it/s]\n",
      "  3%|██▏                                                                            | 55/2010 [00:00<00:03, 545.81it/s]"
     ]
    },
    {
     "name": "stdout",
     "output_type": "stream",
     "text": [
      "episode : 669 reward : 88.01649567255068\n",
      "total test reward=327.21189838473884\n"
     ]
    },
    {
     "name": "stderr",
     "output_type": "stream",
     "text": [
      "100%|█████████████████████████████████████████████████████████████████████████████| 2010/2010 [00:03<00:00, 513.98it/s]\n",
      "  3%|██▏                                                                            | 55/2010 [00:00<00:03, 545.98it/s]"
     ]
    },
    {
     "name": "stdout",
     "output_type": "stream",
     "text": [
      "episode : 670 reward : 251.11632950629038\n",
      "total test reward=327.49627210752885\n"
     ]
    },
    {
     "name": "stderr",
     "output_type": "stream",
     "text": [
      "100%|█████████████████████████████████████████████████████████████████████████████| 2010/2010 [00:04<00:00, 491.62it/s]\n",
      "  3%|██▏                                                                            | 55/2010 [00:00<00:03, 543.56it/s]"
     ]
    },
    {
     "name": "stdout",
     "output_type": "stream",
     "text": [
      "episode : 671 reward : 156.81270065907\n",
      "total test reward=326.7949300210061\n"
     ]
    },
    {
     "name": "stderr",
     "output_type": "stream",
     "text": [
      "100%|█████████████████████████████████████████████████████████████████████████████| 2010/2010 [00:03<00:00, 536.03it/s]\n",
      "  3%|██                                                                             | 53/2010 [00:00<00:03, 520.84it/s]"
     ]
    },
    {
     "name": "stdout",
     "output_type": "stream",
     "text": [
      "episode : 672 reward : 49.88207992599539\n",
      "total test reward=326.8573382046392\n"
     ]
    },
    {
     "name": "stderr",
     "output_type": "stream",
     "text": [
      "100%|█████████████████████████████████████████████████████████████████████████████| 2010/2010 [00:03<00:00, 537.50it/s]\n",
      "  3%|██▏                                                                            | 55/2010 [00:00<00:03, 546.01it/s]"
     ]
    },
    {
     "name": "stdout",
     "output_type": "stream",
     "text": [
      "episode : 673 reward : 21.341534233153734\n",
      "total test reward=326.5271057653666\n"
     ]
    },
    {
     "name": "stderr",
     "output_type": "stream",
     "text": [
      "100%|█████████████████████████████████████████████████████████████████████████████| 2010/2010 [00:03<00:00, 541.17it/s]\n",
      "  3%|██▏                                                                            | 56/2010 [00:00<00:03, 550.66it/s]"
     ]
    },
    {
     "name": "stdout",
     "output_type": "stream",
     "text": [
      "episode : 674 reward : 271.1789204579188\n",
      "total test reward=314.24582920750504\n"
     ]
    },
    {
     "name": "stderr",
     "output_type": "stream",
     "text": [
      "100%|█████████████████████████████████████████████████████████████████████████████| 2010/2010 [00:03<00:00, 540.89it/s]\n",
      "  3%|██                                                                             | 52/2010 [00:00<00:03, 516.03it/s]"
     ]
    },
    {
     "name": "stdout",
     "output_type": "stream",
     "text": [
      "episode : 675 reward : 155.0795309697583\n",
      "total test reward=327.23317312306403\n"
     ]
    },
    {
     "name": "stderr",
     "output_type": "stream",
     "text": [
      "100%|█████████████████████████████████████████████████████████████████████████████| 2010/2010 [00:03<00:00, 538.76it/s]\n",
      "  3%|██▏                                                                            | 55/2010 [00:00<00:03, 546.01it/s]"
     ]
    },
    {
     "name": "stdout",
     "output_type": "stream",
     "text": [
      "episode : 676 reward : 115.61105115711338\n",
      "total test reward=326.77690962805775\n"
     ]
    },
    {
     "name": "stderr",
     "output_type": "stream",
     "text": [
      "100%|█████████████████████████████████████████████████████████████████████████████| 2010/2010 [00:03<00:00, 540.36it/s]\n",
      "  3%|██▏                                                                            | 57/2010 [00:00<00:03, 560.13it/s]"
     ]
    },
    {
     "name": "stdout",
     "output_type": "stream",
     "text": [
      "episode : 677 reward : 120.20110413122434\n",
      "total test reward=285.45860208558395\n"
     ]
    },
    {
     "name": "stderr",
     "output_type": "stream",
     "text": [
      "100%|█████████████████████████████████████████████████████████████████████████████| 2010/2010 [00:03<00:00, 521.04it/s]\n",
      "  2%|█▉                                                                             | 49/2010 [00:00<00:04, 486.44it/s]"
     ]
    },
    {
     "name": "stdout",
     "output_type": "stream",
     "text": [
      "episode : 678 reward : 89.5613596935713\n",
      "total test reward=327.1965428207289\n"
     ]
    },
    {
     "name": "stderr",
     "output_type": "stream",
     "text": [
      "100%|█████████████████████████████████████████████████████████████████████████████| 2010/2010 [00:03<00:00, 529.82it/s]\n",
      "  5%|████▎                                                                         | 110/2010 [00:00<00:03, 543.67it/s]"
     ]
    },
    {
     "name": "stdout",
     "output_type": "stream",
     "text": [
      "episode : 679 reward : 121.9382026047039\n",
      "total test reward=326.23917951403416\n"
     ]
    },
    {
     "name": "stderr",
     "output_type": "stream",
     "text": [
      "100%|█████████████████████████████████████████████████████████████████████████████| 2010/2010 [00:03<00:00, 533.10it/s]\n",
      "  3%|██                                                                             | 54/2010 [00:00<00:03, 536.08it/s]"
     ]
    },
    {
     "name": "stdout",
     "output_type": "stream",
     "text": [
      "episode : 680 reward : 95.32734284730584\n",
      "total test reward=325.8718186750887\n"
     ]
    },
    {
     "name": "stderr",
     "output_type": "stream",
     "text": [
      "100%|█████████████████████████████████████████████████████████████████████████████| 2010/2010 [00:03<00:00, 515.68it/s]\n",
      "  3%|██                                                                             | 54/2010 [00:00<00:03, 535.11it/s]"
     ]
    },
    {
     "name": "stdout",
     "output_type": "stream",
     "text": [
      "episode : 681 reward : 139.6247828559472\n",
      "total test reward=326.279029371761\n"
     ]
    },
    {
     "name": "stderr",
     "output_type": "stream",
     "text": [
      "100%|█████████████████████████████████████████████████████████████████████████████| 2010/2010 [00:03<00:00, 523.45it/s]\n",
      "  3%|██▏                                                                            | 55/2010 [00:00<00:03, 545.84it/s]"
     ]
    },
    {
     "name": "stdout",
     "output_type": "stream",
     "text": [
      "episode : 682 reward : 88.46503577121713\n",
      "total test reward=325.939716971743\n"
     ]
    },
    {
     "name": "stderr",
     "output_type": "stream",
     "text": [
      "100%|█████████████████████████████████████████████████████████████████████████████| 2010/2010 [00:03<00:00, 536.89it/s]\n",
      "  3%|██                                                                             | 53/2010 [00:00<00:03, 520.99it/s]"
     ]
    },
    {
     "name": "stdout",
     "output_type": "stream",
     "text": [
      "episode : 683 reward : 146.17016221071583\n",
      "total test reward=326.4869429096783\n"
     ]
    },
    {
     "name": "stderr",
     "output_type": "stream",
     "text": [
      "100%|█████████████████████████████████████████████████████████████████████████████| 2010/2010 [00:03<00:00, 535.24it/s]\n",
      "  3%|██▏                                                                            | 56/2010 [00:00<00:03, 550.47it/s]"
     ]
    },
    {
     "name": "stdout",
     "output_type": "stream",
     "text": [
      "episode : 684 reward : 89.38376728300945\n",
      "total test reward=326.7271770745614\n"
     ]
    },
    {
     "name": "stderr",
     "output_type": "stream",
     "text": [
      "100%|█████████████████████████████████████████████████████████████████████████████| 2010/2010 [00:03<00:00, 538.66it/s]\n",
      "  3%|██▏                                                                            | 56/2010 [00:00<00:03, 552.96it/s]"
     ]
    },
    {
     "name": "stdout",
     "output_type": "stream",
     "text": [
      "episode : 685 reward : 65.61069086896639\n",
      "total test reward=326.3841416337429\n"
     ]
    },
    {
     "name": "stderr",
     "output_type": "stream",
     "text": [
      "100%|█████████████████████████████████████████████████████████████████████████████| 2010/2010 [00:03<00:00, 527.37it/s]\n",
      "  5%|████▏                                                                         | 107/2010 [00:00<00:03, 523.00it/s]"
     ]
    },
    {
     "name": "stdout",
     "output_type": "stream",
     "text": [
      "episode : 686 reward : 231.94432341523293\n",
      "total test reward=326.4636748267993\n"
     ]
    },
    {
     "name": "stderr",
     "output_type": "stream",
     "text": [
      "100%|█████████████████████████████████████████████████████████████████████████████| 2010/2010 [00:03<00:00, 538.53it/s]\n",
      "  3%|██                                                                             | 54/2010 [00:00<00:03, 530.84it/s]"
     ]
    },
    {
     "name": "stdout",
     "output_type": "stream",
     "text": [
      "episode : 687 reward : 88.3026207240945\n",
      "total test reward=325.7332682356652\n"
     ]
    },
    {
     "name": "stderr",
     "output_type": "stream",
     "text": [
      "100%|█████████████████████████████████████████████████████████████████████████████| 2010/2010 [00:03<00:00, 538.41it/s]\n",
      "  5%|███▉                                                                          | 101/2010 [00:00<00:03, 487.07it/s]"
     ]
    },
    {
     "name": "stdout",
     "output_type": "stream",
     "text": [
      "episode : 688 reward : 107.96782634619646\n",
      "total test reward=321.7751510981471\n"
     ]
    },
    {
     "name": "stderr",
     "output_type": "stream",
     "text": [
      "100%|█████████████████████████████████████████████████████████████████████████████| 2010/2010 [00:03<00:00, 535.05it/s]\n",
      "  3%|██                                                                             | 54/2010 [00:00<00:03, 536.08it/s]"
     ]
    },
    {
     "name": "stdout",
     "output_type": "stream",
     "text": [
      "episode : 689 reward : 152.80362171333576\n",
      "total test reward=325.88156339379015\n"
     ]
    },
    {
     "name": "stderr",
     "output_type": "stream",
     "text": [
      "100%|█████████████████████████████████████████████████████████████████████████████| 2010/2010 [00:03<00:00, 536.42it/s]\n",
      "  3%|██▏                                                                            | 56/2010 [00:00<00:03, 545.31it/s]"
     ]
    },
    {
     "name": "stdout",
     "output_type": "stream",
     "text": [
      "episode : 690 reward : 140.50862713552158\n",
      "total test reward=325.8790244082562\n"
     ]
    },
    {
     "name": "stderr",
     "output_type": "stream",
     "text": [
      "100%|█████████████████████████████████████████████████████████████████████████████| 2010/2010 [00:03<00:00, 542.00it/s]\n",
      "  3%|██▏                                                                            | 56/2010 [00:00<00:03, 550.40it/s]"
     ]
    },
    {
     "name": "stdout",
     "output_type": "stream",
     "text": [
      "episode : 691 reward : 317.5556612055911\n",
      "total test reward=326.26574673748587\n"
     ]
    },
    {
     "name": "stderr",
     "output_type": "stream",
     "text": [
      "100%|█████████████████████████████████████████████████████████████████████████████| 2010/2010 [00:03<00:00, 543.55it/s]\n",
      "  3%|██                                                                             | 54/2010 [00:00<00:03, 535.89it/s]"
     ]
    },
    {
     "name": "stdout",
     "output_type": "stream",
     "text": [
      "episode : 692 reward : 317.5279220501584\n",
      "total test reward=325.92182270743587\n"
     ]
    },
    {
     "name": "stderr",
     "output_type": "stream",
     "text": [
      "100%|█████████████████████████████████████████████████████████████████████████████| 2010/2010 [00:03<00:00, 540.59it/s]\n",
      "  3%|██▏                                                                            | 55/2010 [00:00<00:03, 546.99it/s]"
     ]
    },
    {
     "name": "stdout",
     "output_type": "stream",
     "text": [
      "episode : 693 reward : 65.5832459784101\n",
      "total test reward=318.1611351406338\n"
     ]
    },
    {
     "name": "stderr",
     "output_type": "stream",
     "text": [
      "100%|█████████████████████████████████████████████████████████████████████████████| 2010/2010 [00:03<00:00, 524.89it/s]\n",
      "  3%|██                                                                             | 52/2010 [00:00<00:03, 514.98it/s]"
     ]
    },
    {
     "name": "stdout",
     "output_type": "stream",
     "text": [
      "episode : 694 reward : 318.54824736283643\n",
      "total test reward=312.7016020199993\n"
     ]
    },
    {
     "name": "stderr",
     "output_type": "stream",
     "text": [
      "100%|█████████████████████████████████████████████████████████████████████████████| 2010/2010 [00:03<00:00, 521.03it/s]\n",
      "  2%|█▎                                                                             | 34/2010 [00:00<00:05, 330.96it/s]"
     ]
    },
    {
     "name": "stdout",
     "output_type": "stream",
     "text": [
      "episode : 695 reward : 139.11460378234685\n",
      "total test reward=325.9801744080027\n"
     ]
    },
    {
     "name": "stderr",
     "output_type": "stream",
     "text": [
      "100%|█████████████████████████████████████████████████████████████████████████████| 2010/2010 [00:04<00:00, 482.78it/s]\n",
      "  3%|██▏                                                                            | 55/2010 [00:00<00:03, 545.66it/s]"
     ]
    },
    {
     "name": "stdout",
     "output_type": "stream",
     "text": [
      "episode : 696 reward : 91.68178354643568\n",
      "total test reward=276.0013250699042\n"
     ]
    },
    {
     "name": "stderr",
     "output_type": "stream",
     "text": [
      "100%|█████████████████████████████████████████████████████████████████████████████| 2010/2010 [00:03<00:00, 537.21it/s]\n",
      "  3%|██▏                                                                            | 56/2010 [00:00<00:03, 550.48it/s]"
     ]
    },
    {
     "name": "stdout",
     "output_type": "stream",
     "text": [
      "episode : 697 reward : 153.81066638165382\n",
      "total test reward=325.224840999306\n"
     ]
    },
    {
     "name": "stderr",
     "output_type": "stream",
     "text": [
      "100%|█████████████████████████████████████████████████████████████████████████████| 2010/2010 [00:03<00:00, 526.31it/s]\n",
      "  5%|████▏                                                                         | 109/2010 [00:00<00:03, 539.57it/s]"
     ]
    },
    {
     "name": "stdout",
     "output_type": "stream",
     "text": [
      "episode : 698 reward : 75.48717511181248\n",
      "total test reward=225.72047252541597\n"
     ]
    },
    {
     "name": "stderr",
     "output_type": "stream",
     "text": [
      "100%|█████████████████████████████████████████████████████████████████████████████| 2010/2010 [00:03<00:00, 543.25it/s]\n",
      "  3%|██▏                                                                            | 56/2010 [00:00<00:03, 556.11it/s]"
     ]
    },
    {
     "name": "stdout",
     "output_type": "stream",
     "text": [
      "episode : 699 reward : 57.59215195136926\n",
      "total test reward=278.89733086699346\n"
     ]
    },
    {
     "name": "stderr",
     "output_type": "stream",
     "text": [
      "100%|█████████████████████████████████████████████████████████████████████████████| 2010/2010 [00:03<00:00, 538.03it/s]\n",
      "  3%|██▏                                                                            | 55/2010 [00:00<00:03, 549.95it/s]"
     ]
    },
    {
     "name": "stdout",
     "output_type": "stream",
     "text": [
      "episode : 700 reward : 115.63667774050413\n",
      "total test reward=324.2341743721547\n"
     ]
    },
    {
     "name": "stderr",
     "output_type": "stream",
     "text": [
      "100%|█████████████████████████████████████████████████████████████████████████████| 2010/2010 [00:03<00:00, 541.86it/s]\n",
      "  3%|██                                                                             | 54/2010 [00:00<00:03, 539.07it/s]"
     ]
    },
    {
     "name": "stdout",
     "output_type": "stream",
     "text": [
      "episode : 701 reward : 316.9300578627592\n",
      "total test reward=324.1405135082218\n"
     ]
    },
    {
     "name": "stderr",
     "output_type": "stream",
     "text": [
      "100%|█████████████████████████████████████████████████████████████████████████████| 2010/2010 [00:03<00:00, 523.10it/s]\n",
      "  3%|██▏                                                                            | 56/2010 [00:00<00:03, 550.72it/s]"
     ]
    },
    {
     "name": "stdout",
     "output_type": "stream",
     "text": [
      "episode : 702 reward : 55.75417834867395\n",
      "total test reward=278.81975262172597\n"
     ]
    },
    {
     "name": "stderr",
     "output_type": "stream",
     "text": [
      "100%|█████████████████████████████████████████████████████████████████████████████| 2010/2010 [00:03<00:00, 537.01it/s]\n",
      "  3%|██▏                                                                            | 56/2010 [00:00<00:03, 550.20it/s]"
     ]
    },
    {
     "name": "stdout",
     "output_type": "stream",
     "text": [
      "episode : 703 reward : 70.51999209329621\n",
      "total test reward=321.54299033250356\n"
     ]
    },
    {
     "name": "stderr",
     "output_type": "stream",
     "text": [
      "100%|█████████████████████████████████████████████████████████████████████████████| 2010/2010 [00:03<00:00, 535.46it/s]\n",
      "  3%|██▏                                                                            | 55/2010 [00:00<00:03, 540.66it/s]"
     ]
    },
    {
     "name": "stdout",
     "output_type": "stream",
     "text": [
      "episode : 704 reward : 59.136680996261724\n",
      "total test reward=288.38085882022136\n"
     ]
    },
    {
     "name": "stderr",
     "output_type": "stream",
     "text": [
      "100%|█████████████████████████████████████████████████████████████████████████████| 2010/2010 [00:03<00:00, 537.04it/s]\n",
      "  3%|██                                                                             | 54/2010 [00:00<00:03, 536.09it/s]"
     ]
    },
    {
     "name": "stdout",
     "output_type": "stream",
     "text": [
      "episode : 705 reward : 166.2643715284489\n",
      "total test reward=323.3934933213542\n"
     ]
    },
    {
     "name": "stderr",
     "output_type": "stream",
     "text": [
      "100%|█████████████████████████████████████████████████████████████████████████████| 2010/2010 [00:03<00:00, 530.27it/s]\n",
      "  3%|██▏                                                                            | 55/2010 [00:00<00:03, 540.86it/s]"
     ]
    },
    {
     "name": "stdout",
     "output_type": "stream",
     "text": [
      "episode : 706 reward : 316.168746167714\n",
      "total test reward=323.1770540780346\n"
     ]
    },
    {
     "name": "stderr",
     "output_type": "stream",
     "text": [
      "100%|█████████████████████████████████████████████████████████████████████████████| 2010/2010 [00:03<00:00, 539.29it/s]\n",
      "  2%|█▉                                                                             | 49/2010 [00:00<00:04, 481.54it/s]"
     ]
    },
    {
     "name": "stdout",
     "output_type": "stream",
     "text": [
      "episode : 707 reward : 40.403874213708534\n",
      "total test reward=323.3746211958464\n"
     ]
    },
    {
     "name": "stderr",
     "output_type": "stream",
     "text": [
      "100%|█████████████████████████████████████████████████████████████████████████████| 2010/2010 [00:03<00:00, 520.51it/s]\n",
      "  2%|█▉                                                                             | 48/2010 [00:00<00:04, 476.35it/s]"
     ]
    },
    {
     "name": "stdout",
     "output_type": "stream",
     "text": [
      "episode : 708 reward : 107.55475426955184\n",
      "total test reward=306.4994653537157\n"
     ]
    },
    {
     "name": "stderr",
     "output_type": "stream",
     "text": [
      "100%|█████████████████████████████████████████████████████████████████████████████| 2010/2010 [00:04<00:00, 493.21it/s]\n",
      "  3%|██▏                                                                            | 56/2010 [00:00<00:03, 550.49it/s]"
     ]
    },
    {
     "name": "stdout",
     "output_type": "stream",
     "text": [
      "episode : 709 reward : 92.12977918608534\n",
      "total test reward=282.8852152237925\n"
     ]
    },
    {
     "name": "stderr",
     "output_type": "stream",
     "text": [
      "100%|█████████████████████████████████████████████████████████████████████████████| 2010/2010 [00:03<00:00, 537.96it/s]\n",
      "  3%|██▏                                                                            | 55/2010 [00:00<00:03, 548.07it/s]"
     ]
    },
    {
     "name": "stdout",
     "output_type": "stream",
     "text": [
      "episode : 710 reward : 315.935706833188\n",
      "total test reward=323.3439994627553\n"
     ]
    },
    {
     "name": "stderr",
     "output_type": "stream",
     "text": [
      "100%|█████████████████████████████████████████████████████████████████████████████| 2010/2010 [00:04<00:00, 502.04it/s]\n",
      "  3%|██▏                                                                            | 56/2010 [00:00<00:03, 550.32it/s]"
     ]
    },
    {
     "name": "stdout",
     "output_type": "stream",
     "text": [
      "episode : 711 reward : 104.82572375433872\n",
      "total test reward=323.445008700452\n"
     ]
    },
    {
     "name": "stderr",
     "output_type": "stream",
     "text": [
      "100%|█████████████████████████████████████████████████████████████████████████████| 2010/2010 [00:04<00:00, 475.19it/s]\n",
      "  3%|██                                                                             | 54/2010 [00:00<00:03, 530.63it/s]"
     ]
    },
    {
     "name": "stdout",
     "output_type": "stream",
     "text": [
      "episode : 712 reward : 40.8453441113957\n",
      "total test reward=323.5900653541767\n"
     ]
    },
    {
     "name": "stderr",
     "output_type": "stream",
     "text": [
      "100%|█████████████████████████████████████████████████████████████████████████████| 2010/2010 [00:03<00:00, 506.29it/s]\n",
      "  2%|█▉                                                                             | 50/2010 [00:00<00:03, 496.75it/s]"
     ]
    },
    {
     "name": "stdout",
     "output_type": "stream",
     "text": [
      "episode : 713 reward : 101.11173371779384\n",
      "total test reward=324.18503238214953\n"
     ]
    },
    {
     "name": "stderr",
     "output_type": "stream",
     "text": [
      "100%|█████████████████████████████████████████████████████████████████████████████| 2010/2010 [00:04<00:00, 479.37it/s]\n",
      "  3%|██▏                                                                            | 56/2010 [00:00<00:03, 555.76it/s]"
     ]
    },
    {
     "name": "stdout",
     "output_type": "stream",
     "text": [
      "episode : 714 reward : -0.6243127340269772\n",
      "total test reward=323.385094417859\n"
     ]
    },
    {
     "name": "stderr",
     "output_type": "stream",
     "text": [
      "100%|█████████████████████████████████████████████████████████████████████████████| 2010/2010 [00:04<00:00, 478.84it/s]\n",
      "  2%|█▊                                                                             | 46/2010 [00:00<00:04, 454.68it/s]"
     ]
    },
    {
     "name": "stdout",
     "output_type": "stream",
     "text": [
      "episode : 715 reward : 5.632794958528689\n",
      "total test reward=323.18878431177046\n"
     ]
    },
    {
     "name": "stderr",
     "output_type": "stream",
     "text": [
      "100%|█████████████████████████████████████████████████████████████████████████████| 2010/2010 [00:04<00:00, 491.55it/s]\n",
      "  3%|██▏                                                                            | 55/2010 [00:00<00:03, 544.68it/s]"
     ]
    },
    {
     "name": "stdout",
     "output_type": "stream",
     "text": [
      "episode : 716 reward : 317.2736960372192\n",
      "total test reward=323.0424179099799\n"
     ]
    },
    {
     "name": "stderr",
     "output_type": "stream",
     "text": [
      "100%|█████████████████████████████████████████████████████████████████████████████| 2010/2010 [00:03<00:00, 502.82it/s]\n",
      "  2%|█▍                                                                             | 36/2010 [00:00<00:05, 350.45it/s]"
     ]
    },
    {
     "name": "stdout",
     "output_type": "stream",
     "text": [
      "episode : 717 reward : 122.74714804804076\n",
      "total test reward=322.79908079363406\n"
     ]
    },
    {
     "name": "stderr",
     "output_type": "stream",
     "text": [
      "100%|█████████████████████████████████████████████████████████████████████████████| 2010/2010 [00:04<00:00, 470.31it/s]\n",
      "  3%|██▏                                                                            | 56/2010 [00:00<00:03, 553.45it/s]"
     ]
    },
    {
     "name": "stdout",
     "output_type": "stream",
     "text": [
      "episode : 718 reward : 132.3319693946207\n",
      "total test reward=324.2174330096129\n"
     ]
    },
    {
     "name": "stderr",
     "output_type": "stream",
     "text": [
      "100%|█████████████████████████████████████████████████████████████████████████████| 2010/2010 [00:03<00:00, 529.73it/s]\n",
      "  3%|██▏                                                                            | 56/2010 [00:00<00:03, 550.06it/s]"
     ]
    },
    {
     "name": "stdout",
     "output_type": "stream",
     "text": [
      "episode : 719 reward : 7.284137581717369\n",
      "total test reward=323.86693624505926\n"
     ]
    },
    {
     "name": "stderr",
     "output_type": "stream",
     "text": [
      "100%|█████████████████████████████████████████████████████████████████████████████| 2010/2010 [00:03<00:00, 532.19it/s]\n",
      "  2%|█▉                                                                             | 50/2010 [00:00<00:03, 491.48it/s]"
     ]
    },
    {
     "name": "stdout",
     "output_type": "stream",
     "text": [
      "episode : 720 reward : 9.825972433766667\n",
      "total test reward=323.91017209374326\n"
     ]
    },
    {
     "name": "stderr",
     "output_type": "stream",
     "text": [
      "100%|█████████████████████████████████████████████████████████████████████████████| 2010/2010 [00:04<00:00, 462.53it/s]\n",
      "  3%|██▏                                                                            | 56/2010 [00:00<00:03, 550.32it/s]"
     ]
    },
    {
     "name": "stdout",
     "output_type": "stream",
     "text": [
      "episode : 721 reward : 19.661505605286003\n",
      "total test reward=323.33375784641714\n"
     ]
    },
    {
     "name": "stderr",
     "output_type": "stream",
     "text": [
      "100%|█████████████████████████████████████████████████████████████████████████████| 2010/2010 [00:03<00:00, 531.81it/s]\n",
      "  3%|██                                                                             | 51/2010 [00:00<00:03, 506.30it/s]"
     ]
    },
    {
     "name": "stdout",
     "output_type": "stream",
     "text": [
      "episode : 722 reward : 152.30429538138029\n",
      "total test reward=267.92762526585244\n"
     ]
    },
    {
     "name": "stderr",
     "output_type": "stream",
     "text": [
      "100%|█████████████████████████████████████████████████████████████████████████████| 2010/2010 [00:03<00:00, 530.52it/s]\n",
      "  3%|██                                                                             | 52/2010 [00:00<00:03, 516.04it/s]"
     ]
    },
    {
     "name": "stdout",
     "output_type": "stream",
     "text": [
      "episode : 723 reward : 120.68016327323485\n",
      "total test reward=323.6491399134293\n"
     ]
    },
    {
     "name": "stderr",
     "output_type": "stream",
     "text": [
      "100%|█████████████████████████████████████████████████████████████████████████████| 2010/2010 [00:03<00:00, 503.99it/s]\n",
      "  3%|██▏                                                                            | 56/2010 [00:00<00:03, 550.48it/s]"
     ]
    },
    {
     "name": "stdout",
     "output_type": "stream",
     "text": [
      "episode : 724 reward : 152.50266247574802\n",
      "total test reward=322.8227557275277\n"
     ]
    },
    {
     "name": "stderr",
     "output_type": "stream",
     "text": [
      "100%|█████████████████████████████████████████████████████████████████████████████| 2010/2010 [00:03<00:00, 508.83it/s]\n",
      "  3%|██                                                                             | 51/2010 [00:00<00:03, 506.31it/s]"
     ]
    },
    {
     "name": "stdout",
     "output_type": "stream",
     "text": [
      "episode : 725 reward : 117.97806969284339\n",
      "total test reward=322.99431600348873\n"
     ]
    },
    {
     "name": "stderr",
     "output_type": "stream",
     "text": [
      "100%|█████████████████████████████████████████████████████████████████████████████| 2010/2010 [00:04<00:00, 468.95it/s]\n",
      "  3%|██▏                                                                            | 56/2010 [00:00<00:03, 553.14it/s]"
     ]
    },
    {
     "name": "stdout",
     "output_type": "stream",
     "text": [
      "episode : 726 reward : 158.74823570565553\n",
      "total test reward=323.0014745963017\n"
     ]
    },
    {
     "name": "stderr",
     "output_type": "stream",
     "text": [
      "100%|█████████████████████████████████████████████████████████████████████████████| 2010/2010 [00:03<00:00, 520.33it/s]\n",
      "  3%|██                                                                             | 54/2010 [00:00<00:03, 532.69it/s]"
     ]
    },
    {
     "name": "stdout",
     "output_type": "stream",
     "text": [
      "episode : 727 reward : 221.04257328072873\n",
      "total test reward=323.27504695196706\n"
     ]
    },
    {
     "name": "stderr",
     "output_type": "stream",
     "text": [
      "100%|█████████████████████████████████████████████████████████████████████████████| 2010/2010 [00:03<00:00, 533.58it/s]\n",
      "  3%|██▏                                                                            | 55/2010 [00:00<00:03, 545.91it/s]"
     ]
    },
    {
     "name": "stdout",
     "output_type": "stream",
     "text": [
      "episode : 728 reward : 151.63466467415734\n",
      "total test reward=323.9806550154018\n"
     ]
    },
    {
     "name": "stderr",
     "output_type": "stream",
     "text": [
      "100%|█████████████████████████████████████████████████████████████████████████████| 2010/2010 [00:03<00:00, 519.26it/s]\n",
      "  3%|██                                                                             | 51/2010 [00:00<00:03, 506.29it/s]"
     ]
    },
    {
     "name": "stdout",
     "output_type": "stream",
     "text": [
      "episode : 729 reward : 147.7323133091198\n",
      "total test reward=301.8348073427229\n"
     ]
    },
    {
     "name": "stderr",
     "output_type": "stream",
     "text": [
      "100%|█████████████████████████████████████████████████████████████████████████████| 2010/2010 [00:04<00:00, 502.41it/s]\n",
      "  3%|██▏                                                                            | 56/2010 [00:00<00:03, 550.49it/s]"
     ]
    },
    {
     "name": "stdout",
     "output_type": "stream",
     "text": [
      "episode : 730 reward : 64.64657503456232\n",
      "total test reward=324.7443114860512\n"
     ]
    },
    {
     "name": "stderr",
     "output_type": "stream",
     "text": [
      "100%|█████████████████████████████████████████████████████████████████████████████| 2010/2010 [00:03<00:00, 534.74it/s]\n",
      "  3%|██▏                                                                            | 55/2010 [00:00<00:03, 542.70it/s]"
     ]
    },
    {
     "name": "stdout",
     "output_type": "stream",
     "text": [
      "episode : 731 reward : 82.06368035439162\n",
      "total test reward=323.93074288912896\n"
     ]
    },
    {
     "name": "stderr",
     "output_type": "stream",
     "text": [
      "100%|█████████████████████████████████████████████████████████████████████████████| 2010/2010 [00:03<00:00, 536.19it/s]\n",
      "  5%|████▏                                                                         | 109/2010 [00:00<00:03, 539.87it/s]"
     ]
    },
    {
     "name": "stdout",
     "output_type": "stream",
     "text": [
      "episode : 732 reward : 19.340426383166122\n",
      "total test reward=316.9359977291034\n"
     ]
    },
    {
     "name": "stderr",
     "output_type": "stream",
     "text": [
      "100%|█████████████████████████████████████████████████████████████████████████████| 2010/2010 [00:03<00:00, 536.94it/s]\n",
      "  3%|██▏                                                                            | 55/2010 [00:00<00:03, 546.01it/s]"
     ]
    },
    {
     "name": "stdout",
     "output_type": "stream",
     "text": [
      "episode : 733 reward : 188.70470081199417\n",
      "total test reward=296.2252681112394\n"
     ]
    },
    {
     "name": "stderr",
     "output_type": "stream",
     "text": [
      "100%|█████████████████████████████████████████████████████████████████████████████| 2010/2010 [00:04<00:00, 477.79it/s]\n",
      "  2%|█▉                                                                             | 50/2010 [00:00<00:03, 495.18it/s]"
     ]
    },
    {
     "name": "stdout",
     "output_type": "stream",
     "text": [
      "episode : 734 reward : 92.60018181574665\n",
      "total test reward=324.7393053110176\n"
     ]
    },
    {
     "name": "stderr",
     "output_type": "stream",
     "text": [
      "100%|█████████████████████████████████████████████████████████████████████████████| 2010/2010 [00:04<00:00, 486.57it/s]\n",
      "  2%|█▊                                                                             | 47/2010 [00:00<00:04, 461.86it/s]"
     ]
    },
    {
     "name": "stdout",
     "output_type": "stream",
     "text": [
      "episode : 735 reward : 89.76574598254227\n",
      "total test reward=324.8924313903067\n"
     ]
    },
    {
     "name": "stderr",
     "output_type": "stream",
     "text": [
      "100%|█████████████████████████████████████████████████████████████████████████████| 2010/2010 [00:04<00:00, 499.82it/s]\n",
      "  3%|██▏                                                                            | 56/2010 [00:00<00:03, 555.94it/s]"
     ]
    },
    {
     "name": "stdout",
     "output_type": "stream",
     "text": [
      "episode : 736 reward : 25.16863501246341\n",
      "total test reward=296.6939265369853\n"
     ]
    },
    {
     "name": "stderr",
     "output_type": "stream",
     "text": [
      "100%|█████████████████████████████████████████████████████████████████████████████| 2010/2010 [00:03<00:00, 521.53it/s]\n",
      "  3%|██▏                                                                            | 55/2010 [00:00<00:03, 546.00it/s]"
     ]
    },
    {
     "name": "stdout",
     "output_type": "stream",
     "text": [
      "episode : 737 reward : 100.51707391217592\n",
      "total test reward=325.01103615552756\n"
     ]
    },
    {
     "name": "stderr",
     "output_type": "stream",
     "text": [
      "100%|█████████████████████████████████████████████████████████████████████████████| 2010/2010 [00:03<00:00, 510.35it/s]\n",
      "  3%|██                                                                             | 53/2010 [00:00<00:03, 526.02it/s]"
     ]
    },
    {
     "name": "stdout",
     "output_type": "stream",
     "text": [
      "episode : 738 reward : 20.084013329091807\n",
      "total test reward=325.2391016978277\n"
     ]
    },
    {
     "name": "stderr",
     "output_type": "stream",
     "text": [
      "100%|█████████████████████████████████████████████████████████████████████████████| 2010/2010 [00:03<00:00, 534.53it/s]\n",
      "  3%|██▏                                                                            | 56/2010 [00:00<00:03, 550.49it/s]"
     ]
    },
    {
     "name": "stdout",
     "output_type": "stream",
     "text": [
      "episode : 739 reward : 32.636205942407905\n",
      "total test reward=325.1910315441144\n"
     ]
    },
    {
     "name": "stderr",
     "output_type": "stream",
     "text": [
      "100%|█████████████████████████████████████████████████████████████████████████████| 2010/2010 [00:04<00:00, 489.62it/s]\n",
      "  5%|████▎                                                                         | 110/2010 [00:00<00:03, 547.15it/s]"
     ]
    },
    {
     "name": "stdout",
     "output_type": "stream",
     "text": [
      "episode : 740 reward : 15.791897125976444\n",
      "total test reward=324.25629750400924\n"
     ]
    },
    {
     "name": "stderr",
     "output_type": "stream",
     "text": [
      "100%|█████████████████████████████████████████████████████████████████████████████| 2010/2010 [00:04<00:00, 477.46it/s]\n",
      "  2%|█▎                                                                             | 34/2010 [00:00<00:05, 337.00it/s]"
     ]
    },
    {
     "name": "stdout",
     "output_type": "stream",
     "text": [
      "episode : 741 reward : 25.399620473107767\n",
      "total test reward=326.3184985231542\n"
     ]
    },
    {
     "name": "stderr",
     "output_type": "stream",
     "text": [
      "100%|█████████████████████████████████████████████████████████████████████████████| 2010/2010 [00:04<00:00, 478.72it/s]\n",
      "  3%|██▏                                                                            | 56/2010 [00:00<00:03, 550.49it/s]"
     ]
    },
    {
     "name": "stdout",
     "output_type": "stream",
     "text": [
      "episode : 742 reward : 284.6920209882982\n",
      "total test reward=325.32798691714675\n"
     ]
    },
    {
     "name": "stderr",
     "output_type": "stream",
     "text": [
      "100%|█████████████████████████████████████████████████████████████████████████████| 2010/2010 [00:03<00:00, 533.52it/s]\n",
      "  3%|██                                                                             | 54/2010 [00:00<00:03, 535.92it/s]"
     ]
    },
    {
     "name": "stdout",
     "output_type": "stream",
     "text": [
      "episode : 743 reward : 309.46937935402997\n",
      "total test reward=325.13709226705316\n"
     ]
    },
    {
     "name": "stderr",
     "output_type": "stream",
     "text": [
      "100%|█████████████████████████████████████████████████████████████████████████████| 2010/2010 [00:04<00:00, 500.37it/s]\n",
      "  2%|█▋                                                                             | 44/2010 [00:00<00:04, 436.77it/s]"
     ]
    },
    {
     "name": "stdout",
     "output_type": "stream",
     "text": [
      "episode : 744 reward : 39.10757572089077\n",
      "total test reward=326.62865857390915\n"
     ]
    },
    {
     "name": "stderr",
     "output_type": "stream",
     "text": [
      "100%|█████████████████████████████████████████████████████████████████████████████| 2010/2010 [00:04<00:00, 462.40it/s]\n",
      "  3%|██                                                                             | 53/2010 [00:00<00:03, 526.71it/s]"
     ]
    },
    {
     "name": "stdout",
     "output_type": "stream",
     "text": [
      "episode : 745 reward : 45.75082034770135\n",
      "total test reward=325.6728335584915\n"
     ]
    },
    {
     "name": "stderr",
     "output_type": "stream",
     "text": [
      "100%|█████████████████████████████████████████████████████████████████████████████| 2010/2010 [00:03<00:00, 519.56it/s]\n",
      "  3%|██▏                                                                            | 55/2010 [00:00<00:03, 546.00it/s]"
     ]
    },
    {
     "name": "stdout",
     "output_type": "stream",
     "text": [
      "episode : 746 reward : 30.515020820235193\n",
      "total test reward=326.0193119700207\n"
     ]
    },
    {
     "name": "stderr",
     "output_type": "stream",
     "text": [
      "100%|█████████████████████████████████████████████████████████████████████████████| 2010/2010 [00:03<00:00, 538.53it/s]\n",
      "  3%|██▏                                                                            | 55/2010 [00:00<00:03, 546.02it/s]"
     ]
    },
    {
     "name": "stdout",
     "output_type": "stream",
     "text": [
      "episode : 747 reward : 51.95217314685104\n",
      "total test reward=325.2343303071975\n"
     ]
    },
    {
     "name": "stderr",
     "output_type": "stream",
     "text": [
      "100%|█████████████████████████████████████████████████████████████████████████████| 2010/2010 [00:03<00:00, 535.15it/s]\n",
      "  3%|██▏                                                                            | 56/2010 [00:00<00:03, 556.14it/s]"
     ]
    },
    {
     "name": "stdout",
     "output_type": "stream",
     "text": [
      "episode : 748 reward : 137.29859425130576\n",
      "total test reward=287.95923778435474\n"
     ]
    },
    {
     "name": "stderr",
     "output_type": "stream",
     "text": [
      "100%|█████████████████████████████████████████████████████████████████████████████| 2010/2010 [00:03<00:00, 543.02it/s]\n",
      "  3%|██                                                                             | 54/2010 [00:00<00:03, 536.09it/s]"
     ]
    },
    {
     "name": "stdout",
     "output_type": "stream",
     "text": [
      "episode : 749 reward : 27.136265094665678\n",
      "total test reward=325.3704202659916\n"
     ]
    },
    {
     "name": "stderr",
     "output_type": "stream",
     "text": [
      "100%|█████████████████████████████████████████████████████████████████████████████| 2010/2010 [00:03<00:00, 513.28it/s]\n",
      "  3%|██                                                                             | 53/2010 [00:00<00:03, 520.96it/s]"
     ]
    },
    {
     "name": "stdout",
     "output_type": "stream",
     "text": [
      "episode : 750 reward : 20.399280160961517\n",
      "total test reward=277.21534655422533\n"
     ]
    },
    {
     "name": "stderr",
     "output_type": "stream",
     "text": [
      "100%|█████████████████████████████████████████████████████████████████████████████| 2010/2010 [00:03<00:00, 511.59it/s]\n",
      "  3%|██▏                                                                            | 57/2010 [00:00<00:03, 559.54it/s]"
     ]
    },
    {
     "name": "stdout",
     "output_type": "stream",
     "text": [
      "episode : 751 reward : 161.65796685856236\n",
      "total test reward=323.1967826977553\n"
     ]
    },
    {
     "name": "stderr",
     "output_type": "stream",
     "text": [
      "100%|█████████████████████████████████████████████████████████████████████████████| 2010/2010 [00:03<00:00, 541.84it/s]\n",
      "C:\\Users\\irfan\\.conda\\envs\\tf\\lib\\site-packages\\gym\\envs\\box2d\\bipedal_walker.py:385: RuntimeWarning: invalid value encountered in sign\n",
      "  self.joints[0].motorSpeed     = float(SPEED_HIP     * np.sign(action[0]))\n",
      "C:\\Users\\irfan\\.conda\\envs\\tf\\lib\\site-packages\\gym\\envs\\box2d\\bipedal_walker.py:387: RuntimeWarning: invalid value encountered in sign\n",
      "  self.joints[1].motorSpeed     = float(SPEED_KNEE    * np.sign(action[1]))\n",
      "C:\\Users\\irfan\\.conda\\envs\\tf\\lib\\site-packages\\gym\\envs\\box2d\\bipedal_walker.py:389: RuntimeWarning: invalid value encountered in sign\n",
      "  self.joints[2].motorSpeed     = float(SPEED_HIP     * np.sign(action[2]))\n",
      "C:\\Users\\irfan\\.conda\\envs\\tf\\lib\\site-packages\\gym\\envs\\box2d\\bipedal_walker.py:391: RuntimeWarning: invalid value encountered in sign\n",
      "  self.joints[3].motorSpeed     = float(SPEED_KNEE    * np.sign(action[3]))\n"
     ]
    },
    {
     "ename": "AssertionError",
     "evalue": "r.LengthSquared() > 0.0f",
     "output_type": "error",
     "traceback": [
      "\u001b[1;31m---------------------------------------------------------------------------\u001b[0m",
      "\u001b[1;31mAssertionError\u001b[0m                            Traceback (most recent call last)",
      "\u001b[1;32m<ipython-input-2-446877b5e869>\u001b[0m in \u001b[0;36m<module>\u001b[1;34m\u001b[0m\n\u001b[0;32m    303\u001b[0m             \u001b[0m_model\u001b[0m\u001b[1;33m.\u001b[0m\u001b[0mtrain_critic\u001b[0m\u001b[1;33m(\u001b[0m\u001b[0m_curr_states\u001b[0m\u001b[1;33m[\u001b[0m\u001b[1;33m:\u001b[0m\u001b[1;33m-\u001b[0m\u001b[0madv\u001b[0m\u001b[1;33m]\u001b[0m\u001b[1;33m,\u001b[0m\u001b[0m_target_qvals\u001b[0m\u001b[1;33m)\u001b[0m\u001b[1;33m\u001b[0m\u001b[1;33m\u001b[0m\u001b[0m\n\u001b[0;32m    304\u001b[0m \u001b[1;33m\u001b[0m\u001b[0m\n\u001b[1;32m--> 305\u001b[1;33m     \u001b[0mavg_reward\u001b[0m \u001b[1;33m=\u001b[0m \u001b[0mnp\u001b[0m\u001b[1;33m.\u001b[0m\u001b[0mmean\u001b[0m\u001b[1;33m(\u001b[0m\u001b[1;33m[\u001b[0m\u001b[0mtest_reward\u001b[0m\u001b[1;33m(\u001b[0m\u001b[1;33m)\u001b[0m \u001b[1;32mfor\u001b[0m \u001b[0m_\u001b[0m \u001b[1;32min\u001b[0m \u001b[0mrange\u001b[0m\u001b[1;33m(\u001b[0m\u001b[1;36m5\u001b[0m\u001b[1;33m)\u001b[0m\u001b[1;33m]\u001b[0m\u001b[1;33m)\u001b[0m\u001b[1;33m\u001b[0m\u001b[1;33m\u001b[0m\u001b[0m\n\u001b[0m\u001b[0;32m    306\u001b[0m     \u001b[0mprint\u001b[0m\u001b[1;33m(\u001b[0m\u001b[1;34m'episode :'\u001b[0m\u001b[1;33m,\u001b[0m\u001b[0mepisode\u001b[0m\u001b[1;33m,\u001b[0m\u001b[1;34m'reward :'\u001b[0m\u001b[1;33m,\u001b[0m\u001b[0msum_reward_log\u001b[0m\u001b[1;33m)\u001b[0m\u001b[1;33m\u001b[0m\u001b[1;33m\u001b[0m\u001b[0m\n\u001b[0;32m    307\u001b[0m     \u001b[0mprint\u001b[0m\u001b[1;33m(\u001b[0m\u001b[1;34m'total test reward='\u001b[0m \u001b[1;33m+\u001b[0m \u001b[0mstr\u001b[0m\u001b[1;33m(\u001b[0m\u001b[0mavg_reward\u001b[0m\u001b[1;33m)\u001b[0m\u001b[1;33m)\u001b[0m\u001b[1;33m\u001b[0m\u001b[1;33m\u001b[0m\u001b[0m\n",
      "\u001b[1;32m<ipython-input-2-446877b5e869>\u001b[0m in \u001b[0;36m<listcomp>\u001b[1;34m(.0)\u001b[0m\n\u001b[0;32m    303\u001b[0m             \u001b[0m_model\u001b[0m\u001b[1;33m.\u001b[0m\u001b[0mtrain_critic\u001b[0m\u001b[1;33m(\u001b[0m\u001b[0m_curr_states\u001b[0m\u001b[1;33m[\u001b[0m\u001b[1;33m:\u001b[0m\u001b[1;33m-\u001b[0m\u001b[0madv\u001b[0m\u001b[1;33m]\u001b[0m\u001b[1;33m,\u001b[0m\u001b[0m_target_qvals\u001b[0m\u001b[1;33m)\u001b[0m\u001b[1;33m\u001b[0m\u001b[1;33m\u001b[0m\u001b[0m\n\u001b[0;32m    304\u001b[0m \u001b[1;33m\u001b[0m\u001b[0m\n\u001b[1;32m--> 305\u001b[1;33m     \u001b[0mavg_reward\u001b[0m \u001b[1;33m=\u001b[0m \u001b[0mnp\u001b[0m\u001b[1;33m.\u001b[0m\u001b[0mmean\u001b[0m\u001b[1;33m(\u001b[0m\u001b[1;33m[\u001b[0m\u001b[0mtest_reward\u001b[0m\u001b[1;33m(\u001b[0m\u001b[1;33m)\u001b[0m \u001b[1;32mfor\u001b[0m \u001b[0m_\u001b[0m \u001b[1;32min\u001b[0m \u001b[0mrange\u001b[0m\u001b[1;33m(\u001b[0m\u001b[1;36m5\u001b[0m\u001b[1;33m)\u001b[0m\u001b[1;33m]\u001b[0m\u001b[1;33m)\u001b[0m\u001b[1;33m\u001b[0m\u001b[1;33m\u001b[0m\u001b[0m\n\u001b[0m\u001b[0;32m    306\u001b[0m     \u001b[0mprint\u001b[0m\u001b[1;33m(\u001b[0m\u001b[1;34m'episode :'\u001b[0m\u001b[1;33m,\u001b[0m\u001b[0mepisode\u001b[0m\u001b[1;33m,\u001b[0m\u001b[1;34m'reward :'\u001b[0m\u001b[1;33m,\u001b[0m\u001b[0msum_reward_log\u001b[0m\u001b[1;33m)\u001b[0m\u001b[1;33m\u001b[0m\u001b[1;33m\u001b[0m\u001b[0m\n\u001b[0;32m    307\u001b[0m     \u001b[0mprint\u001b[0m\u001b[1;33m(\u001b[0m\u001b[1;34m'total test reward='\u001b[0m \u001b[1;33m+\u001b[0m \u001b[0mstr\u001b[0m\u001b[1;33m(\u001b[0m\u001b[0mavg_reward\u001b[0m\u001b[1;33m)\u001b[0m\u001b[1;33m)\u001b[0m\u001b[1;33m\u001b[0m\u001b[1;33m\u001b[0m\u001b[0m\n",
      "\u001b[1;32m<ipython-input-2-446877b5e869>\u001b[0m in \u001b[0;36mtest_reward\u001b[1;34m()\u001b[0m\n\u001b[0;32m    215\u001b[0m         \u001b[0mmean\u001b[0m\u001b[1;33m,\u001b[0m\u001b[0mstd\u001b[0m \u001b[1;33m=\u001b[0m \u001b[0m_model\u001b[0m\u001b[1;33m.\u001b[0m\u001b[0m_actor\u001b[0m\u001b[1;33m(\u001b[0m\u001b[0mstate_input\u001b[0m\u001b[1;33m)\u001b[0m\u001b[1;33m\u001b[0m\u001b[1;33m\u001b[0m\u001b[0m\n\u001b[0;32m    216\u001b[0m         \u001b[0mact\u001b[0m\u001b[1;33m=\u001b[0m\u001b[0mnp\u001b[0m\u001b[1;33m.\u001b[0m\u001b[0mrandom\u001b[0m\u001b[1;33m.\u001b[0m\u001b[0mnormal\u001b[0m\u001b[1;33m(\u001b[0m\u001b[0mmean\u001b[0m\u001b[1;33m,\u001b[0m\u001b[0mstd\u001b[0m\u001b[1;33m)\u001b[0m\u001b[1;33m[\u001b[0m\u001b[1;36m0\u001b[0m\u001b[1;33m]\u001b[0m\u001b[1;33m\u001b[0m\u001b[1;33m\u001b[0m\u001b[0m\n\u001b[1;32m--> 217\u001b[1;33m         \u001b[0mnext_state\u001b[0m\u001b[1;33m,\u001b[0m \u001b[0mreward\u001b[0m\u001b[1;33m,\u001b[0m \u001b[0mdone\u001b[0m\u001b[1;33m,\u001b[0m \u001b[0m_\u001b[0m \u001b[1;33m=\u001b[0m \u001b[0menv\u001b[0m\u001b[1;33m.\u001b[0m\u001b[0mstep\u001b[0m\u001b[1;33m(\u001b[0m\u001b[0mmean\u001b[0m\u001b[1;33m[\u001b[0m\u001b[1;36m0\u001b[0m\u001b[1;33m]\u001b[0m\u001b[1;33m)\u001b[0m\u001b[1;33m\u001b[0m\u001b[1;33m\u001b[0m\u001b[0m\n\u001b[0m\u001b[0;32m    218\u001b[0m         \u001b[1;32mif\u001b[0m \u001b[0mreward\u001b[0m \u001b[1;33m==\u001b[0m \u001b[1;33m-\u001b[0m\u001b[1;36m100\u001b[0m\u001b[1;33m:\u001b[0m\u001b[1;33m\u001b[0m\u001b[1;33m\u001b[0m\u001b[0m\n\u001b[0;32m    219\u001b[0m             \u001b[0mreward\u001b[0m\u001b[1;33m=\u001b[0m\u001b[1;33m-\u001b[0m\u001b[1;36m2\u001b[0m\u001b[1;33m\u001b[0m\u001b[1;33m\u001b[0m\u001b[0m\n",
      "\u001b[1;32m~\\.conda\\envs\\tf\\lib\\site-packages\\gym\\wrappers\\time_limit.py\u001b[0m in \u001b[0;36mstep\u001b[1;34m(self, action)\u001b[0m\n\u001b[0;32m     14\u001b[0m     \u001b[1;32mdef\u001b[0m \u001b[0mstep\u001b[0m\u001b[1;33m(\u001b[0m\u001b[0mself\u001b[0m\u001b[1;33m,\u001b[0m \u001b[0maction\u001b[0m\u001b[1;33m)\u001b[0m\u001b[1;33m:\u001b[0m\u001b[1;33m\u001b[0m\u001b[1;33m\u001b[0m\u001b[0m\n\u001b[0;32m     15\u001b[0m         \u001b[1;32massert\u001b[0m \u001b[0mself\u001b[0m\u001b[1;33m.\u001b[0m\u001b[0m_elapsed_steps\u001b[0m \u001b[1;32mis\u001b[0m \u001b[1;32mnot\u001b[0m \u001b[1;32mNone\u001b[0m\u001b[1;33m,\u001b[0m \u001b[1;34m\"Cannot call env.step() before calling reset()\"\u001b[0m\u001b[1;33m\u001b[0m\u001b[1;33m\u001b[0m\u001b[0m\n\u001b[1;32m---> 16\u001b[1;33m         \u001b[0mobservation\u001b[0m\u001b[1;33m,\u001b[0m \u001b[0mreward\u001b[0m\u001b[1;33m,\u001b[0m \u001b[0mdone\u001b[0m\u001b[1;33m,\u001b[0m \u001b[0minfo\u001b[0m \u001b[1;33m=\u001b[0m \u001b[0mself\u001b[0m\u001b[1;33m.\u001b[0m\u001b[0menv\u001b[0m\u001b[1;33m.\u001b[0m\u001b[0mstep\u001b[0m\u001b[1;33m(\u001b[0m\u001b[0maction\u001b[0m\u001b[1;33m)\u001b[0m\u001b[1;33m\u001b[0m\u001b[1;33m\u001b[0m\u001b[0m\n\u001b[0m\u001b[0;32m     17\u001b[0m         \u001b[0mself\u001b[0m\u001b[1;33m.\u001b[0m\u001b[0m_elapsed_steps\u001b[0m \u001b[1;33m+=\u001b[0m \u001b[1;36m1\u001b[0m\u001b[1;33m\u001b[0m\u001b[1;33m\u001b[0m\u001b[0m\n\u001b[0;32m     18\u001b[0m         \u001b[1;32mif\u001b[0m \u001b[0mself\u001b[0m\u001b[1;33m.\u001b[0m\u001b[0m_elapsed_steps\u001b[0m \u001b[1;33m>=\u001b[0m \u001b[0mself\u001b[0m\u001b[1;33m.\u001b[0m\u001b[0m_max_episode_steps\u001b[0m\u001b[1;33m:\u001b[0m\u001b[1;33m\u001b[0m\u001b[1;33m\u001b[0m\u001b[0m\n",
      "\u001b[1;32m~\\.conda\\envs\\tf\\lib\\site-packages\\gym\\envs\\box2d\\bipedal_walker.py\u001b[0m in \u001b[0;36mstep\u001b[1;34m(self, action)\u001b[0m\n\u001b[0;32m    403\u001b[0m                 \u001b[0mpos\u001b[0m\u001b[1;33m[\u001b[0m\u001b[1;36m0\u001b[0m\u001b[1;33m]\u001b[0m \u001b[1;33m+\u001b[0m \u001b[0mmath\u001b[0m\u001b[1;33m.\u001b[0m\u001b[0msin\u001b[0m\u001b[1;33m(\u001b[0m\u001b[1;36m1.5\u001b[0m\u001b[1;33m*\u001b[0m\u001b[0mi\u001b[0m\u001b[1;33m/\u001b[0m\u001b[1;36m10.0\u001b[0m\u001b[1;33m)\u001b[0m\u001b[1;33m*\u001b[0m\u001b[0mLIDAR_RANGE\u001b[0m\u001b[1;33m,\u001b[0m\u001b[1;33m\u001b[0m\u001b[1;33m\u001b[0m\u001b[0m\n\u001b[0;32m    404\u001b[0m                 pos[1] - math.cos(1.5*i/10.0)*LIDAR_RANGE)\n\u001b[1;32m--> 405\u001b[1;33m             \u001b[0mself\u001b[0m\u001b[1;33m.\u001b[0m\u001b[0mworld\u001b[0m\u001b[1;33m.\u001b[0m\u001b[0mRayCast\u001b[0m\u001b[1;33m(\u001b[0m\u001b[0mself\u001b[0m\u001b[1;33m.\u001b[0m\u001b[0mlidar\u001b[0m\u001b[1;33m[\u001b[0m\u001b[0mi\u001b[0m\u001b[1;33m]\u001b[0m\u001b[1;33m,\u001b[0m \u001b[0mself\u001b[0m\u001b[1;33m.\u001b[0m\u001b[0mlidar\u001b[0m\u001b[1;33m[\u001b[0m\u001b[0mi\u001b[0m\u001b[1;33m]\u001b[0m\u001b[1;33m.\u001b[0m\u001b[0mp1\u001b[0m\u001b[1;33m,\u001b[0m \u001b[0mself\u001b[0m\u001b[1;33m.\u001b[0m\u001b[0mlidar\u001b[0m\u001b[1;33m[\u001b[0m\u001b[0mi\u001b[0m\u001b[1;33m]\u001b[0m\u001b[1;33m.\u001b[0m\u001b[0mp2\u001b[0m\u001b[1;33m)\u001b[0m\u001b[1;33m\u001b[0m\u001b[1;33m\u001b[0m\u001b[0m\n\u001b[0m\u001b[0;32m    406\u001b[0m \u001b[1;33m\u001b[0m\u001b[0m\n\u001b[0;32m    407\u001b[0m         state = [\n",
      "\u001b[1;31mAssertionError\u001b[0m: r.LengthSquared() > 0.0f"
     ]
    }
   ],
   "source": [
    "from tensorflow.keras.callbacks import TensorBoard\n",
    "from tensorflow.keras.layers import Input, Dense, Conv2D, MaxPooling2D, Flatten\n",
    "from tensorflow.keras.models import Model\n",
    "from tensorflow.keras.optimizers import Adam\n",
    "from tensorflow.keras import backend as K\n",
    "from tensorflow.keras.applications.mobilenet_v2 import MobileNetV2\n",
    "\n",
    "\n",
    "import tensorflow\n",
    "from tensorflow.keras.layers import Dense\n",
    "from tensorflow.keras.layers import  ReLU#,TanH\n",
    "TanH=tensorflow.keras.layers.Activation('tanh')\n",
    "Sigmoid=tensorflow.keras.layers.Activation('sigmoid')\n",
    "\n",
    "n_act=4\n",
    "n_state=24\n",
    "\n",
    "class Actor(Model):\n",
    "  def __init__(self,n_act):\n",
    "    super(Actor, self).__init__()\n",
    "    self.d1 = Dense(512, activation='relu')\n",
    "    self.d2 = Dense(256, activation='relu')\n",
    "    self.mean = Dense(n_act)\n",
    "    self.tanh  = TanH\n",
    "    self.sigmoid  = Sigmoid\n",
    "    self.std = Dense(n_act)\n",
    "\n",
    "  def call(self, x):\n",
    "    \n",
    "    x = self.d1(x)\n",
    "    x = self.d2(x)\n",
    "    #x = self.d3(x)\n",
    "    #x = self.d4(x)\n",
    "    mean = self.mean(x)\n",
    "    mean = self.tanh(mean)\n",
    "    std = self.std(x)\n",
    "    std = self.sigmoid(std)\n",
    "    return mean,std+10e-10\n",
    "\n",
    "\n",
    "class Critic(Model):\n",
    "  def __init__(self):\n",
    "    super(Critic, self).__init__()\n",
    "    self.d1 = Dense(512, activation='relu')\n",
    "    self.d2 = Dense(256, activation='relu')\n",
    "    #self.d3 = Dense(5, activation='relu')\n",
    "    #self.d4 = Dense(6, activation='relu')\n",
    "    self.value = Dense(1)\n",
    "    \n",
    "\n",
    "  def call(self, x):\n",
    "    \n",
    "    x = self.d1(x)\n",
    "    x = self.d2(x)\n",
    "    #x = self.d3(x)\n",
    "    #x = self.d4(x)\n",
    "    value = self.value(x)\n",
    "    return value\n",
    "\n",
    "class ppo_model():\n",
    "    def __init__(self):\n",
    "        self._actor=Actor(4)\n",
    "        self._critic=Critic()\n",
    "        self._debug = False\n",
    "        self._actor_opt= Adam(0.001)\n",
    "        self._critic_opt= Adam(0.001)\n",
    "        self.value_coef=0.5\n",
    "        self.entropy_coef=0.01\n",
    "        self._gamma=0.99\n",
    "        self._lambda=0.95\n",
    "        self.clip_epsilon=0.05\n",
    "        self._advantage=10\n",
    "        \n",
    "    def get_advantages(self,values, masks, rewards):\n",
    "        target_qvals = []\n",
    "        for i in range(len(rewards)-self._advantage):\n",
    "            _values=values[i:i+self._advantage+1]\n",
    "            _rewards=rewards[i:i+self._advantage]\n",
    "            _masks=masks[i:i+self._advantage]\n",
    "            #gae = 0\n",
    "            #for j in reversed(range(self._advantage)):\n",
    "            #    delta = _rewards[j] + self._gamma * _values[j + 1] * _masks[j] - _values[j]\n",
    "            #    gae = delta + self._gamma * self._lambda * _masks[j] * gae\n",
    "            gae=0\n",
    "            for j in range(self._advantage):\n",
    "                delta = _rewards[j] + self._gamma * _values[j + 1] * _masks[j] - _values[j]\n",
    "                gae +=  ((self._gamma * self._lambda)**j) * _masks[j] * delta\n",
    "            target_qvals.append(gae + _values[0])\n",
    "\n",
    "        adv = np.array(target_qvals) - values[:-self._advantage-1]\n",
    "        return target_qvals, (adv - np.mean(adv)) / (np.std(adv) + 1e-10)\n",
    "    \n",
    "    def _get_advantages(self,values, masks, rewards):\n",
    "        target_qvals = []\n",
    "        gae=0\n",
    "        for i in reversed(range(len(rewards))):\n",
    "                delta = rewards[j] + self.gamma * values[j + 1] * masks[j] - values[j]\n",
    "                gae = delta + self._gamma * self._lambda * masks[j] * gae\n",
    "        target_qvals.append(gae + _values[0])\n",
    "\n",
    "        adv = np.array(target_qvals) - values[:-self._advantage-1]\n",
    "        return target_qvals, (adv - np.mean(adv)) / (np.std(adv) + 1e-10)\n",
    "\n",
    "    def actor_loss(self,mean,std,old_mean,old_std,old_action,advantage_raw):#, rewards, values):\n",
    "            old_probs = self.get_log_probs(old_action,old_mean,old_std)\n",
    "            new_probs = self.get_log_probs(old_action,mean,std)\n",
    "            entropy_loss = self.get_entropy(std)\n",
    "            ratio = K.exp(new_probs-old_probs)\n",
    "            p1 = ratio * advantage_raw\n",
    "            p2 = K.clip(ratio, min_value=1 - self.clip_epsilon, max_value=1 + self.clip_epsilon) * advantage_raw\n",
    "            actor_loss = K.mean(K.minimum(p1, p2))\n",
    "            #critic_loss = 0#K.mean(K.square(rewards - values))\n",
    "            total_loss =   -actor_loss - self.entropy_coef * entropy_loss #* K.mean(-(new_probs * K.log(new_probs + 1e-10)))\n",
    "            #tf.print('A',tf.reduce_sum(new_probs),tf.reduce_sum(old_probs),'B',tf.reduce_sum(ratio))\n",
    "            return total_loss\n",
    "\n",
    "    @tf.function\n",
    "    def train_actor(self,curr_states,_old_mean,_old_std,_old_actions,_advantage_raw):\n",
    "             _advantage_raw=tf.cast(_advantage_raw,tf.float32)\n",
    "             with tf.GradientTape() as tape:\n",
    "                  mean,std = self._actor(curr_states, training=True)\n",
    "                  if self._debug ==True :tf.print('1 : train_actor :',tf.reduce_sum(curr_states),tf.reduce_sum(mean),tf.reduce_sum(std))\n",
    "                  _act_loss = self.actor_loss(mean,std,_old_mean,_old_std,_old_actions,_advantage_raw)\n",
    "                  gradients = tape.gradient(_act_loss, self._actor.trainable_variables)\n",
    "                  self._actor_opt.apply_gradients(zip(gradients, self._actor.trainable_variables))\n",
    "                  #tf.print('actor grad : ',gradients[0])\n",
    "             return  _act_loss\n",
    "\n",
    "    @tf.function          \n",
    "    def critic_loss(self,_values,_target_rewards):\n",
    "            batch_size=_values.shape[0]\n",
    "            critic_loss=self.value_coef*2*tf.reduce_sum(tf.square(_target_rewards-_values))/batch_size\n",
    "            return critic_loss\n",
    "        \n",
    "    @tf.function\n",
    "    def train_critic(self,_states,_target_rewards):\n",
    "            with tf.GradientTape() as tape:\n",
    "                _values=self._critic(_states)\n",
    "                _values=tf.cast(_values,tf.float32)\n",
    "                _target_rewards=tf.cast(_target_rewards,tf.float32)\n",
    "                _critic_loss=self.critic_loss(_values,_target_rewards)\n",
    "                gradients = tape.gradient(_critic_loss, self._critic.trainable_variables)\n",
    "                self._critic_opt.apply_gradients(zip(gradients, self._critic.trainable_variables))\n",
    "                #tf.print('critic grad : ',gradients[0])\n",
    "            return _critic_loss\n",
    "    @tf.function\n",
    "    def get_log_probs(self,_actions,mean,std):\n",
    "        _actions=tf.cast(_actions,tf.float32)\n",
    "        mean=tf.cast(mean,tf.float32)\n",
    "        std=tf.cast(std,tf.float32)\n",
    "        _var = -0.5*((_actions-mean)/(std))**2\n",
    "        _coef = 1/(std*tf.sqrt(2*np.pi)) \n",
    "        \n",
    "        _probs = _coef*tf.cast(tf.exp(_var),tf.float32)\n",
    "        #_probs = tf.abs(_probs+ )\n",
    "        log_probs = tf.math.log(_probs)\n",
    "        #if _debug==True:\n",
    "        #    tf.print('2 : log_prob : _var  ',tf.reduce_sum(_var),tf.reduce_sum(_coef),tf.reduce_sum(_actions))\n",
    "        #    tf.print('2 : log_prob : _probs',tf.reduce_sum(_probs),tf.reduce_sum(log_probs))\n",
    "        return log_probs\n",
    "    def get_entropy(self,std):\n",
    "        entropy = 0.5 * (tf.math.log(2 * np.pi * std ** 2) + 1)\n",
    "        return entropy\n",
    "\n",
    "\n",
    "def get_model_actor_simple(input_dims, output_dims):\n",
    "    state_input = Input(shape=input_dims)\n",
    "    old_actions = Input(shape=(1, output_dims,))\n",
    "    old_probs = Input(shape=(1, output_dims,))\n",
    "    advantages = Input(shape=(1, 1,))\n",
    "    rewards = Input(shape=(1, 1,))\n",
    "    values = Input(shape=(1, 1,))\n",
    "\n",
    "    # Classification block\n",
    "    x = Dense(512, activation='relu', name='fc1')(state_input)\n",
    "    x = Dense(256, activation='relu', name='fc2')(x)\n",
    "    mean = Dense(n_actions, activation='tanh', name='mean')(x)\n",
    "    std = Dense(n_actions, activation='sigmoid', name='std')(x)\n",
    "\n",
    "    model = Model(inputs=[state_input, old_actions, old_probs, advantages, rewards, values],\n",
    "                  outputs=[mean,std])\n",
    "    model.compile(optimizer=Adam(lr=1e-4), loss=[ppo_loss(\n",
    "        old_actions=old_actions,\n",
    "        old_probs=old_probs,\n",
    "        advantages=advantages,\n",
    "        rewards=rewards,\n",
    "        values=values)])\n",
    "    # model.summary()\n",
    "    return model\n",
    "\n",
    "\n",
    "\n",
    "\n",
    "\n",
    "def get_model_critic_simple(input_dims):\n",
    "    state_input = Input(shape=input_dims)\n",
    "\n",
    "    # Classification block\n",
    "    x = Dense(512, activation='relu', name='fc1')(state_input)\n",
    "    x = Dense(256, activation='relu', name='fc2')(x)\n",
    "    out_actions = Dense(1, activation='tanh')(x)\n",
    "\n",
    "    model = Model(inputs=[state_input], outputs=[out_actions])\n",
    "    model.compile(optimizer=Adam(lr=1e-4), loss='mse')\n",
    "    # model.summary()\n",
    "    return model\n",
    "\n",
    "\n",
    "def test_reward():\n",
    "    state = env.reset()\n",
    "    done = False\n",
    "    total_reward = 0\n",
    "    while not done:\n",
    "        state_input = K.expand_dims(state, 0)\n",
    "        mean,std = _model._actor(state_input)\n",
    "        act=np.random.normal(mean,std)[0]\n",
    "        next_state, reward, done, _ = env.step(mean[0])\n",
    "        if reward == -100:\n",
    "            reward=-2\n",
    "        state = next_state\n",
    "        total_reward += reward\n",
    "        \n",
    "    return total_reward\n",
    "    \n",
    "image_based = False\n",
    "\n",
    "env=gym.make('BipedalWalker-v2')\n",
    "env.seed(seed)\n",
    "state = env.reset()\n",
    "state_dims = env.observation_space.shape\n",
    "n_actions = env.action_space.shape[0]\n",
    "\n",
    "#tensor_board = TensorBoard(log_dir='./logs')\n",
    "\n",
    "\n",
    "#model_actor = get_model_actor_simple(input_dims=state_dims, output_dims=n_actions)\n",
    "#model_critic = get_model_critic_simple(input_dims=state_dims)\n",
    "_model=ppo_model()\n",
    "ppo_steps = 2000\n",
    "target_reached = False\n",
    "best_reward = 0\n",
    "iters = 0\n",
    "episodes = 1000\n",
    "adv=_model._advantage\n",
    "rewards_log=[]\n",
    "max_reward=0\n",
    "for episode in range(episodes):\n",
    "\n",
    "    curr_states = []\n",
    "    old_actions = []\n",
    "    old_probs =[]\n",
    "    values = []\n",
    "    masks = []\n",
    "    rewards = []\n",
    "    old_means = []\n",
    "    old_stds  = []\n",
    "    state_input = None\n",
    "    sum_reward=0\n",
    "    sum_reward_log=0\n",
    "    for itr in trange(ppo_steps+adv):\n",
    "        state_input = K.expand_dims(state, 0)\n",
    "        mean,std = _model._actor(state_input)\n",
    "        q_value  = _model._critic(state_input)\n",
    "        action = np.random.normal(mean,std)[0]\n",
    "        #prob=get_log_probs(action,mean,std)\n",
    "        observation, reward, done, info = env.step(action)\n",
    "        if reward == -100:\n",
    "            reward=-2\n",
    "        #print('itr: ' + str(itr) + ', action=' + str(action) + ', reward=' + str(reward) + ', q val=' + str(q_value.numpy()))\n",
    "        mask = not done\n",
    "\n",
    "        curr_states.append(state)\n",
    "        old_actions.append(action)\n",
    "        #old_probs.append(prob)\n",
    "        old_means.append(mean)\n",
    "        old_stds.append(std)\n",
    "        values.append(q_value)\n",
    "        masks.append(mask)\n",
    "        rewards.append(reward)\n",
    "        sum_reward+=reward\n",
    "\n",
    "        state = observation\n",
    "        if done:\n",
    "            sum_reward_log=copy(sum_reward)\n",
    "            sum_reward=0\n",
    "            env.reset()\n",
    "        \n",
    "    state_input=K.expand_dims(state, 0)\n",
    "    q_value = _model._critic(state_input)\n",
    "    values.append(q_value)\n",
    "    _curr_states=np.array(curr_states).reshape(-1,24)\n",
    "    _old_actions=np.array(old_actions).reshape(-1,4)\n",
    "    _old_means=np.array(old_means).reshape(-1,4)\n",
    "    _old_stds=np.array(old_stds).reshape(-1,4)\n",
    "    _values=np.array(values).reshape(-1,1)\n",
    "    _rewards=np.array(rewards).reshape(-1,1)\n",
    "    _masks  = np.array(masks).reshape(-1,1)\n",
    "    \n",
    "    for _ in range(5):\n",
    "        #for batch in batches:\n",
    "            _target_qvals, _advantages = _model.get_advantages(_values, _masks, _rewards)\n",
    "            _model.train_actor(_curr_states[:-adv],_old_means[:-adv],_old_stds[:-adv],_old_actions[:-adv],_advantages)\n",
    "            _model.train_critic(_curr_states[:-adv],_target_qvals)                            \n",
    "\n",
    "    avg_reward = np.mean([test_reward() for _ in range(5)])\n",
    "    print('episode :',episode,'reward :',sum_reward_log)   \n",
    "    print('total test reward=' + str(avg_reward))\n",
    "    if avg_reward >=max_reward:\n",
    "        _model._actor.save_weights('ppo_best_actor.hdf5')\n",
    "        _model._critic.save_weights('ppo_best_critic'+'.hdf5')\n",
    "        best_eps=episode\n",
    "        max_reward = avg_reward\n",
    "    rewards_log.append([sum_reward_log,avg_reward])\n",
    "    iters += 1\n",
    "    env.reset()\n",
    "\n",
    "env.close()\n",
    "plt.plot(rewards_log)"
   ]
  },
  {
   "cell_type": "code",
   "execution_count": 3,
   "metadata": {},
   "outputs": [],
   "source": [
    "#_model._actor.save_weights('ppo-1000.hdf5')\n",
    "import pickle\n",
    "f=open('ppo-biped-loss.pkl','wb')\n",
    "pickle.dump(rewards_log,f)\n",
    "f.close()"
   ]
  },
  {
   "cell_type": "code",
   "execution_count": 7,
   "metadata": {},
   "outputs": [
    {
     "data": {
      "text/plain": [
       "[<matplotlib.lines.Line2D at 0x2b1490fb408>,\n",
       " <matplotlib.lines.Line2D at 0x2b1490fb548>]"
      ]
     },
     "execution_count": 7,
     "metadata": {},
     "output_type": "execute_result"
    },
    {
     "data": {
      "image/png": "[encoded data removed]",
      "text/plain": [
       "<Figure size 432x288 with 1 Axes>"
      ]
     },
     "metadata": {
      "needs_background": "light"
     },
     "output_type": "display_data"
    }
   ],
   "source": [
    "plt.plot(rewards_log)"
   ]
  },
  {
   "cell_type": "code",
   "execution_count": 4,
   "metadata": {},
   "outputs": [],
   "source": [
    "#_model._actor.load_weights('ppo-1000.hdf5')"
   ]
  },
  {
   "cell_type": "code",
   "execution_count": 5,
   "metadata": {},
   "outputs": [
    {
     "data": {
      "text/plain": [
       "[<matplotlib.lines.Line2D at 0x2b141651ec8>,\n",
       " <matplotlib.lines.Line2D at 0x2b141661048>,\n",
       " <matplotlib.lines.Line2D at 0x2b141661208>,\n",
       " <matplotlib.lines.Line2D at 0x2b1416613c8>]"
      ]
     },
     "execution_count": 5,
     "metadata": {},
     "output_type": "execute_result"
    },
    {
     "data": {
      "image/png": "[encoded data removed]",
      "text/plain": [
       "<Figure size 432x288 with 1 Axes>"
      ]
     },
     "metadata": {
      "needs_background": "light"
     },
     "output_type": "display_data"
    }
   ],
   "source": [
    "plt.plot(old_actions)"
   ]
  },
  {
   "cell_type": "code",
   "execution_count": null,
   "metadata": {},
   "outputs": [],
   "source": [
    "plt.plot(_old_means)\n",
    "plt.show()\n",
    "plt.plot(_old_stds)"
   ]
  },
  {
   "cell_type": "code",
   "execution_count": null,
   "metadata": {},
   "outputs": [],
   "source": [
    "plt.plot(rewards_log)\n",
    "plt.savefig('bipedal-ppo.png')"
   ]
  },
  {
   "cell_type": "code",
   "execution_count": null,
   "metadata": {},
   "outputs": [],
   "source": [
    "import os\n",
    "os.mkdir('bipedal_ppo')"
   ]
  },
  {
   "cell_type": "code",
   "execution_count": null,
   "metadata": {},
   "outputs": [],
   "source": [
    "seed=1\n",
    "import os\n",
    "os.environ[\"CUDA_VISIBLE_DEVICES\"] = \"-1\"\n",
    "os.environ['PYTHONHASHSEED']=str(seed)\n",
    "import numpy as np\n",
    "np.random.seed(seed)\n",
    "import tensorflow as tf\n",
    "tf.random.set_seed(seed)\n",
    "import tensorflow\n",
    "from tensorflow.keras.models import Model\n",
    "from tensorflow.keras.layers import Flatten, Dense ,Input,concatenate ,Conv2D,Conv2DTranspose,\\\n",
    "MaxPooling2D,AveragePooling2D, LSTM ,Reshape, TimeDistributed,ReLU, LeakyReLU, Dropout, BatchNormalization\n",
    "from tensorflow.keras.optimizers import Adam,Adagrad\n",
    "from tensorflow.keras import regularizers\n",
    "from tensorflow.keras.callbacks import ModelCheckpoint\n",
    "from tensorflow.keras import backend as K\n",
    "import warnings\n",
    "import glob\n",
    "import math\n",
    "import cv2\n",
    "from matplotlib import pyplot as plt\n",
    "import pandas as pd\n",
    "import pickle\n",
    "from collections import deque\n",
    "from tqdm import tqdm,trange\n",
    "import gym\n",
    "from copy import copy , deepcopy\n",
    "tf.test.is_gpu_available()\n",
    "\n",
    "n_act=4\n",
    "n_state=24\n",
    "TanH=tensorflow.keras.layers.Activation('tanh')\n",
    "Sigmoid=tensorflow.keras.layers.Activation('sigmoid')\n",
    "\n",
    "class Actor(Model):\n",
    "  def __init__(self,n_act):\n",
    "    super(Actor, self).__init__()\n",
    "    self.d1 = Dense(512, activation='relu')\n",
    "    self.d2 = Dense(256, activation='relu')\n",
    "    self.mean = Dense(n_act)\n",
    "    self.tanh  = TanH\n",
    "    self.sigmoid  = Sigmoid\n",
    "    self.std = Dense(n_act)\n",
    "\n",
    "  def call(self, x):\n",
    "    \n",
    "    x = self.d1(x)\n",
    "    x = self.d2(x)\n",
    "    #x = self.d3(x)\n",
    "    #x = self.d4(x)\n",
    "    mean = self.mean(x)\n",
    "    mean = self.tanh(mean)\n",
    "    std = self.std(x)\n",
    "    std = self.sigmoid(std)\n",
    "    return mean,std+10e-10\n",
    "\n",
    "def test_reward():\n",
    "    state = env.reset()\n",
    "    done = False\n",
    "    total_reward = 0\n",
    "    while not done:\n",
    "        state_input = K.expand_dims(state, 0)\n",
    "        mean,std = _model._actor(state_input)\n",
    "        act=np.random.normal(mean,std)[0]\n",
    "        next_state, reward, done, _ = env.step(mean[0])\n",
    "        if reward == -100:\n",
    "            reward=-2\n",
    "        state = next_state\n",
    "        total_reward += reward\n",
    "        \n",
    "    return total_reward\n",
    "_actor=Actor(n_act)\n",
    "_actor(np.ones((1,24)))\n",
    "_actor.load_weights('ppo_best_actor.hdf5')\n",
    "env = gym.make('BipedalWalker-v2')\n",
    "env.seed(seed)"
   ]
  },
  {
   "cell_type": "code",
   "execution_count": null,
   "metadata": {},
   "outputs": [],
   "source": [
    "state=env.reset()\n",
    "i=0\n",
    "ter_count=0\n",
    "while True:\n",
    "    action=_actor(state.reshape(1,24))\n",
    "    state,rwd,ter,info=env.step(action[0][0])\n",
    "    img=env.render('rgb_array')\n",
    "    cv2.imwrite('bipedal_ppo/'+str(i)+'.jpg',img)\n",
    "    i+=1\n",
    "    if ter==True:\n",
    "            ter_count+=1\n",
    "            state=env.reset()\n",
    "    if ter_count==5:\n",
    "             break"
   ]
  },
  {
   "cell_type": "code",
   "execution_count": null,
   "metadata": {
    "scrolled": true
   },
   "outputs": [],
   "source": [
    "env.close()"
   ]
  },
  {
   "cell_type": "code",
   "execution_count": null,
   "metadata": {},
   "outputs": [],
   "source": [
    "import gym\n",
    "env = gym.make('BipedalWalker-v2')\n",
    "env.reset()\n",
    "env.step([[1,1,1,1]])\n",
    "#img=env.render('rgb_array')"
   ]
  },
  {
   "cell_type": "code",
   "execution_count": null,
   "metadata": {},
   "outputs": [],
   "source": [
    "from matplotlib import pyplot as plt\n",
    "plt.imshow(img)"
   ]
  },
  {
   "cell_type": "markdown",
   "metadata": {},
   "source": []
  }
 ],
 "metadata": {
  "kernelspec": {
   "display_name": "Python 3",
   "language": "python",
   "name": "python3"
  },
  "language_info": {
   "codemirror_mode": {
    "name": "ipython",
    "version": 3
   },
   "file_extension": ".py",
   "mimetype": "text/x-python",
   "name": "python",
   "nbconvert_exporter": "python",
   "pygments_lexer": "ipython3",
   "version": "3.7.7"
  }
 },
 "nbformat": 4,
 "nbformat_minor": 4
}
